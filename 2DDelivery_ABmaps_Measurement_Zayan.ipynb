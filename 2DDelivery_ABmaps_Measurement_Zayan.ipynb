{
 "cells": [
  {
   "cell_type": "markdown",
   "metadata": {},
   "source": [
    "## Simulation of 2D mail delivery system with Monte Carlo"
   ]
  },
  {
   "cell_type": "code",
   "execution_count": null,
   "metadata": {
    "jupyter": {
     "outputs_hidden": true
    },
    "scrolled": true,
    "tags": []
   },
   "outputs": [],
   "source": [
    "import Pkg;\n",
    "Pkg.add(\"Plots\")\n",
    "Pkg.add(\"Statistics\")\n",
    "Pkg.add(\"StatsBase\")\n",
    "Pkg.add(\"WebIO\")\n",
    "Pkg.add(\"DelimitedFiles\") \n",
    "Pkg.add(\"PyPlot\") #on-the-fly animation using pyplot backend seems less flickers\n",
    "Pkg.build(\"PyCall\")"
   ]
  },
  {
   "cell_type": "code",
   "execution_count": 1,
   "metadata": {
    "ExecuteTime": {
     "end_time": "2021-12-08T12:31:15.188000+08:00",
     "start_time": "2021-12-08T04:30:45.502Z"
    }
   },
   "outputs": [],
   "source": [
    "using Plots, Statistics,Random, StatsBase, DelimitedFiles"
   ]
  },
  {
   "cell_type": "markdown",
   "metadata": {
    "tags": []
   },
   "source": [
    "## Rules and policy"
   ]
  },
  {
   "cell_type": "markdown",
   "metadata": {
    "jupyter": {
     "source_hidden": true
    },
    "tags": []
   },
   "source": [
    "In this subject, we consider a mail delivery system where mails are delivered on a network of connected stations,  \n",
    "and they can only be delivered from station to station, say via mail service workers on horses.   \n",
    "It starts at $0$ (the source), with two types of mails (A and B. It can be more than two types in a more complicated setup).   \n",
    "Stations $3$(B) and $6$(A) are the respective destinations. After going to the correct destination, the mails are sent to $7$ (the drain).  \n",
    "Here a few basic rules for delivery the mails:  \n",
    "- For each time step, the mails move only one step.\n",
    "- One station can have at most one mail at each time step.\n",
    "- The mail is allowed to be delivered to any of the available connected stations.\n",
    "- The probabilities of going to any station is user-defined\n",
    "\n"
   ]
  },
  {
   "cell_type": "markdown",
   "metadata": {
    "tags": []
   },
   "source": [
    "## Core functions for delivery algorithm"
   ]
  },
  {
   "cell_type": "markdown",
   "metadata": {
    "jupyter": {
     "source_hidden": true
    },
    "tags": []
   },
   "source": [
    "\n",
    "\n",
    "The connectivity matrix describes all connections of the stations to one another.  \n",
    "We indicate 1 in the corresponding row and columns to indicate a connection.  \n",
    "For eg. where 1 connects to 2, the matrix (row,column)->(1,2)=1  \n",
    "At this stage, this is manually input.  \n",
    "The connectivity matrix describing the above node connections that **allows for all directions** is as follows:\n"
   ]
  },
  {
   "cell_type": "markdown",
   "metadata": {},
   "source": [
    "### 1. Connectivity matrix for the delivery path (tested)\n"
   ]
  },
  {
   "cell_type": "code",
   "execution_count": 2,
   "metadata": {
    "ExecuteTime": {
     "end_time": "2021-12-08T12:31:18.337000+08:00",
     "start_time": "2021-12-08T04:30:47.012Z"
    },
    "jupyter": {
     "source_hidden": true
    },
    "tags": []
   },
   "outputs": [
    {
     "data": {
      "text/plain": [
       "connect_matrix_2D (generic function with 1 method)"
      ]
     },
     "execution_count": 2,
     "metadata": {},
     "output_type": "execute_result"
    }
   ],
   "source": [
    "\n",
    "function connect_matrix_2D()\n",
    "    #1st row is source, last row is drain. all entries are connected to source, all exits are connected to drain!\n",
    "    C = zeros(Float64,8,8);\n",
    "    C[1,2] = 1;\n",
    "    C[2,5] = 1;\n",
    "    C[2,3] = 1;\n",
    "    C[5,6] = 1;\n",
    "    C[3,6] = 1;\n",
    "    C[3,4] = 1;\n",
    "    C[6,7] = 1;\n",
    "    C[7,8] = 1;\n",
    "    C[4,8] = 1;\n",
    "    C[5,2] = 1;\n",
    "    C[3,2] = 1;\n",
    "    C[6,5] = 1;\n",
    "    C[6,3] = 1;\n",
    "    C[4,3] = 1;\n",
    "    C[7,6] = 1;\n",
    "\n",
    "    return C\n",
    "end\n"
   ]
  },
  {
   "cell_type": "code",
   "execution_count": 3,
   "metadata": {
    "ExecuteTime": {
     "end_time": "2021-12-08T12:31:18.554000+08:00",
     "start_time": "2021-12-08T04:30:48.552Z"
    },
    "tags": []
   },
   "outputs": [
    {
     "data": {
      "text/plain": [
       "connect_matrix_A (generic function with 1 method)"
      ]
     },
     "execution_count": 3,
     "metadata": {},
     "output_type": "execute_result"
    }
   ],
   "source": [
    "function connect_matrix_A()\n",
    "    A = zeros(Float64,8,8);\n",
    "    A[1,2] = 1;\n",
    "    \n",
    "    A[2,5] = 0.9;\n",
    "    A[2,3] = 0.1;\n",
    "    \n",
    "    A[5,6] = 0.9;\n",
    "    A[5,2] = 0.1;\n",
    "    \n",
    "    A[6,7] = 0.7;\n",
    "    A[6,5] = 0.2;\n",
    "    A[6,3] = 0.1;\n",
    "    \n",
    "    A[3,6] = 0.9;\n",
    "    A[3,4] = 0;\n",
    "    A[3,2] = 0.1;\n",
    "    \n",
    "    A[4,8] = 0;\n",
    "    A[4,3] = 1;\n",
    "    \n",
    "    A[7,8] = 1;\n",
    "    A[7,6] = 0;\n",
    "    return A\n",
    "end\n"
   ]
  },
  {
   "cell_type": "markdown",
   "metadata": {},
   "source": [
    "<img src='cmap.gif' width=\"400\" height=\"300\">"
   ]
  },
  {
   "cell_type": "code",
   "execution_count": 4,
   "metadata": {
    "ExecuteTime": {
     "end_time": "2021-12-08T12:31:18.775000+08:00",
     "start_time": "2021-12-08T04:30:50.996Z"
    },
    "tags": []
   },
   "outputs": [
    {
     "data": {
      "text/plain": [
       "connect_matrix_B (generic function with 1 method)"
      ]
     },
     "execution_count": 4,
     "metadata": {},
     "output_type": "execute_result"
    }
   ],
   "source": [
    "function connect_matrix_B()\n",
    "    B = zeros(Float64,8,8);\n",
    "    B[1,2] = 1;\n",
    "    \n",
    "    B[2,5] = 0.1;\n",
    "    B[2,3] = 0.9;\n",
    "    \n",
    "    B[5,6] = 0.1;\n",
    "    B[5,2] = 0.9;\n",
    "    \n",
    "    B[6,7] = 0;\n",
    "    B[6,5] = 0.1;\n",
    "    B[6,3] = 0.9;\n",
    "    \n",
    "    B[3,6] = 0.1;\n",
    "    B[3,4] = 0.7;\n",
    "    B[3,2] = 0.2;\n",
    "    \n",
    "    B[4,8] = 1;\n",
    "    B[4,3] = 0;\n",
    "    \n",
    "    B[7,8] = 0;\n",
    "    B[7,6] = 1;\n",
    "    return B\n",
    "end"
   ]
  },
  {
   "cell_type": "markdown",
   "metadata": {},
   "source": [
    "### 2. Function that initializes the matrix of histories (tested)\n",
    "Entries of history matrix, $H$, are initialized to 0.  \n",
    "All mails get ready at position 0.  \n",
    "This matrix stores the trajectory of the mails across time.  \n",
    "Each **row** corresponds to a mail in the system and each **column** stores the positions of all the mails at a snapshot in time.  \n",
    "Going across the row tells you the position of a particular mail across time."
   ]
  },
  {
   "cell_type": "code",
   "execution_count": 5,
   "metadata": {
    "ExecuteTime": {
     "end_time": "2021-12-08T12:31:19.090000+08:00",
     "start_time": "2021-12-08T04:30:52.757Z"
    }
   },
   "outputs": [
    {
     "data": {
      "text/plain": [
       "initialize_H (generic function with 1 method)"
      ]
     },
     "execution_count": 5,
     "metadata": {},
     "output_type": "execute_result"
    }
   ],
   "source": [
    "function initialize_H(NC,tM)\n",
    "    # tM maximum number of time steps\n",
    "    # NC is the number of mails\n",
    "    return H = zeros(Int16,NC, tM+2); #this tM+2 can be alterd to taste    \n",
    "end"
   ]
  },
  {
   "cell_type": "code",
   "execution_count": 26,
   "metadata": {
    "ExecuteTime": {
     "end_time": "2021-12-08T13:45:09.702000+08:00",
     "start_time": "2021-12-08T05:45:09.664Z"
    }
   },
   "outputs": [
    {
     "data": {
      "text/plain": [
       "8×8 Matrix{Float64}:\n",
       " 0.0  1.0  0.0  0.0  0.0  0.0  0.0  0.0\n",
       " 0.0  0.0  1.0  0.0  1.0  0.0  0.0  0.0\n",
       " 0.0  1.0  0.0  1.0  0.0  1.0  0.0  0.0\n",
       " 0.0  0.0  1.0  0.0  0.0  0.0  0.0  1.0\n",
       " 0.0  1.0  0.0  0.0  0.0  1.0  0.0  0.0\n",
       " 0.0  0.0  1.0  0.0  1.0  0.0  1.0  0.0\n",
       " 0.0  0.0  0.0  0.0  0.0  1.0  0.0  1.0\n",
       " 0.0  0.0  0.0  0.0  0.0  0.0  0.0  0.0"
      ]
     },
     "metadata": {},
     "output_type": "display_data"
    },
    {
     "data": {
      "text/plain": [
       "8×8 Matrix{Float64}:\n",
       " 0.0  0.0  0.0  0.0  0.0  0.0  0.0  0.0\n",
       " 0.0  0.0  1.0  0.0  1.0  0.0  0.0  0.0\n",
       " 0.0  1.0  0.0  1.0  0.0  1.0  0.0  0.0\n",
       " 0.0  0.0  1.0  0.0  0.0  0.0  0.0  1.0\n",
       " 0.0  1.0  0.0  0.0  0.0  1.0  0.0  0.0\n",
       " 0.0  0.0  1.0  0.0  1.0  0.0  1.0  0.0\n",
       " 0.0  0.0  0.0  0.0  0.0  1.0  0.0  1.0\n",
       " 0.0  0.0  0.0  0.0  0.0  0.0  0.0  0.0"
      ]
     },
     "execution_count": 26,
     "metadata": {},
     "output_type": "execute_result"
    }
   ],
   "source": [
    "C = connect_matrix_2D()\n",
    "display(C)\n",
    "A = zeros(Int64, 3)\n",
    "A[1] = 2\n",
    "A[2] = 3\n",
    "A[3] = 5\n",
    "C[1, [i for i in A]] .= 0\n",
    "C"
   ]
  },
  {
   "cell_type": "markdown",
   "metadata": {},
   "source": [
    "### 3. Function that finds available next positions (tested)\n",
    "Given a mail's position (for example, ip), the following procedures are used to determine the available positions\n",
    "- Determine the **reachable positions** by inspecting the corresponding row of the connectivity matrix, $C$\n",
    "- Determine the **occupied positions** by inspecting the column of history matrix, $H$, corresponds to the time step.  \n",
    "However, $0$, $L+1$ are excluded.  \n",
    "Recall the position $0$ is the source which hosts the awaiting of mails, and $L+1$ is for the drain of mails, respectively. \n",
    "- **Positions available** are the positions which are reachable but not occupied. Equivalently, set of reachable subtract set of occupied."
   ]
  },
  {
   "cell_type": "code",
   "execution_count": 33,
   "metadata": {
    "ExecuteTime": {
     "end_time": "2021-12-08T13:47:56.538000+08:00",
     "start_time": "2021-12-08T05:47:56.523Z"
    }
   },
   "outputs": [
    {
     "data": {
      "text/plain": [
       "find_pos_available_k (generic function with 1 method)"
      ]
     },
     "execution_count": 33,
     "metadata": {},
     "output_type": "execute_result"
    }
   ],
   "source": [
    "function find_pos_available_k(ic,it,H,C,L,conn_mat)\n",
    "    ip = H[ic,it]+1\n",
    "    display(ip)\n",
    "    reachable_positions = C[ip,:]\n",
    "    display(reachable_positions)\n",
    "    vector_probabilities = conn_mat[ip,:]\n",
    "    display(reachable_positions)\n",
    "    occupied_positions = H[:,it]\n",
    "    display(occupied_positions)\n",
    "    reachable_positions[[i for i in occupied_positions]] = 0\n",
    "    vector_positions = findall(x->x==1, reachable_positions)\n",
    "    vector_probabilities = vector_probabilities .* reachable_positions\n",
    "    vector_probabilities = vector_probabilities ./ sum(vector_probabilities)\n",
    "    vector_probabilities = vector_probabilities[[i for i in vector_positions]]\n",
    "    return vector_positions, vector_probabilities\n",
    "end"
   ]
  },
  {
   "cell_type": "code",
   "execution_count": 34,
   "metadata": {
    "ExecuteTime": {
     "end_time": "2021-12-08T13:47:58.725000+08:00",
     "start_time": "2021-12-08T05:47:58.619Z"
    }
   },
   "outputs": [
    {
     "data": {
      "text/plain": [
       "1"
      ]
     },
     "metadata": {},
     "output_type": "display_data"
    },
    {
     "data": {
      "text/plain": [
       "8-element Vector{Float64}:\n",
       " 0.0\n",
       " 1.0\n",
       " 0.0\n",
       " 0.0\n",
       " 0.0\n",
       " 0.0\n",
       " 0.0\n",
       " 0.0"
      ]
     },
     "metadata": {},
     "output_type": "display_data"
    },
    {
     "data": {
      "text/plain": [
       "8-element Vector{Float64}:\n",
       " 0.0\n",
       " 1.0\n",
       " 0.0\n",
       " 0.0\n",
       " 0.0\n",
       " 0.0\n",
       " 0.0\n",
       " 0.0"
      ]
     },
     "metadata": {},
     "output_type": "display_data"
    },
    {
     "data": {
      "text/plain": [
       "2-element Vector{Int16}:\n",
       " 0\n",
       " 0"
      ]
     },
     "metadata": {},
     "output_type": "display_data"
    },
    {
     "ename": "LoadError",
     "evalue": "BoundsError: attempt to access 8-element Vector{Float64} at index [Int16[0, 0]]",
     "output_type": "error",
     "traceback": [
      "BoundsError: attempt to access 8-element Vector{Float64} at index [Int16[0, 0]]",
      "",
      "Stacktrace:",
      " [1] throw_boundserror(A::Vector{Float64}, I::Tuple{Vector{Int16}})",
      "   @ Base .\\abstractarray.jl:691",
      " [2] checkbounds",
      "   @ .\\abstractarray.jl:656 [inlined]",
      " [3] _setindex!",
      "   @ .\\multidimensional.jl:893 [inlined]",
      " [4] setindex!",
      "   @ .\\abstractarray.jl:1315 [inlined]",
      " [5] find_pos_available_k(ic::Int64, it::Int64, H::Matrix{Int16}, C::Matrix{Float64}, L::Int64, conn_mat::Matrix{Float64})",
      "   @ Main .\\In[33]:10",
      " [6] top-level scope",
      "   @ In[34]:4",
      " [7] eval",
      "   @ .\\boot.jl:373 [inlined]",
      " [8] include_string(mapexpr::typeof(REPL.softscope), mod::Module, code::String, filename::String)",
      "   @ Base .\\loading.jl:1196"
     ]
    }
   ],
   "source": [
    "H = initialize_H(2, 5)\n",
    "C = connect_matrix_2D()\n",
    "conn_matA = connect_matrix_A()\n",
    "vec_pos, Avec_prob=find_pos_available_k(2,1,H,C,6,conn_matA) "
   ]
  },
  {
   "cell_type": "markdown",
   "metadata": {
    "tags": []
   },
   "source": [
    "### 4. Function that delivers a single mail (tested)\n",
    "The mail worker first decides whether to deliver the mail according to the dictated probability. If so, it randomly picks one position from available positions and registers the intention into the corresponding column of history matrix, $H$. Note that, at this stage, the movement is not final due to possible conflicts with other mails."
   ]
  },
  {
   "cell_type": "code",
   "execution_count": 16,
   "metadata": {},
   "outputs": [
    {
     "data": {
      "text/plain": [
       "move_position_k (generic function with 1 method)"
      ]
     },
     "execution_count": 16,
     "metadata": {},
     "output_type": "execute_result"
    }
   ],
   "source": [
    "function move_position_k(ic,it,H,vec_pos, Avec_prob,conn_matA)\n",
    "\n",
    "end"
   ]
  },
  {
   "cell_type": "code",
   "execution_count": 17,
   "metadata": {},
   "outputs": [
    {
     "data": {
      "text/plain": [
       "deliver_mail_k (generic function with 1 method)"
      ]
     },
     "execution_count": 17,
     "metadata": {},
     "output_type": "execute_result"
    }
   ],
   "source": [
    "function deliver_mail_k(ic,numA,it,H,C,L,conn_matA,conn_matB)\n",
    "\n",
    "end"
   ]
  },
  {
   "cell_type": "markdown",
   "metadata": {
    "tags": []
   },
   "source": [
    "### 5. Check for and resolve conflicts (tested)\n",
    "\n",
    "Given a position in the mail delivery path, following procedure is used to resolve conflicts:\n",
    "- Determine a list of mails delivering to the same station by inspecting the column of history matrix, $H$, correspond to current time step. For example, given $\\text{it}$ (time step) and $\\text{iL}$ (position of the station in connected network), the index of entries in $H[:,\\text{it}]==\\text{iL}$ are the mails which are going into the station iL.\n",
    "- More than one mails going into the same position constitue a conflict.\n",
    "- To resolve conflict, we randomly let one mail to move on and make the rest stay put.\n",
    "- Iterate over all positions in the connected delivery network, rinse and repeat."
   ]
  },
  {
   "cell_type": "code",
   "execution_count": 18,
   "metadata": {
    "tags": []
   },
   "outputs": [
    {
     "data": {
      "text/plain": [
       "find_resolve_conflicts (generic function with 1 method)"
      ]
     },
     "execution_count": 18,
     "metadata": {},
     "output_type": "execute_result"
    }
   ],
   "source": [
    "function find_resolve_conflicts(H,L,it)\n",
    "\n",
    "end\n",
    "\n"
   ]
  },
  {
   "cell_type": "markdown",
   "metadata": {},
   "source": [
    "### 6. Function that delivery all the mails (tested) \n",
    "All mails are to be delivered to the next station, and conflicts are resolved, the movements are final."
   ]
  },
  {
   "cell_type": "code",
   "execution_count": 19,
   "metadata": {},
   "outputs": [
    {
     "data": {
      "text/plain": [
       "next_step_k (generic function with 1 method)"
      ]
     },
     "execution_count": 19,
     "metadata": {},
     "output_type": "execute_result"
    }
   ],
   "source": [
    "function next_step_k(H,it,C,L,numA,conn_matA,conn_matB)\n",
    "\n",
    "end"
   ]
  },
  {
   "cell_type": "markdown",
   "metadata": {},
   "source": [
    "## Example 1\n",
    "In this example, we simulate a delivery process consisting of two kinds of mails (A and B). They are supposed to be sent to two destinations."
   ]
  },
  {
   "cell_type": "code",
   "execution_count": 3,
   "metadata": {},
   "outputs": [
    {
     "ename": "LoadError",
     "evalue": "UndefVarError: connect_matrix_2D not defined",
     "output_type": "error",
     "traceback": [
      "UndefVarError: connect_matrix_2D not defined",
      "",
      "Stacktrace:",
      " [1] top-level scope",
      "   @ In[3]:7",
      " [2] eval",
      "   @ .\\boot.jl:360 [inlined]",
      " [3] include_string(mapexpr::typeof(REPL.softscope), mod::Module, code::String, filename::String)",
      "   @ Base .\\loading.jl:1094"
     ]
    }
   ],
   "source": [
    "NMail = 4; # number of mails\n",
    "tM = 10; # total time steps\n",
    "L = 6; # number of sites\n",
    "numA = 2 # mail A number\n",
    "numB = NMail - numA # mail B number\n",
    "\n",
    "C = connect_matrix_2D();\n",
    "conn_matA = connect_matrix_A()\n",
    "conn_matB = connect_matrix_B()\n",
    "H = initialize_H(NMail,tM);\n",
    "\n",
    "for it = 1:tM+1\n",
    "    H = next_step_k(H,it,C,L,numA,conn_matA,conn_matB);\n",
    "end\n",
    "H"
   ]
  },
  {
   "cell_type": "markdown",
   "metadata": {},
   "source": [
    "## Measurement"
   ]
  },
  {
   "cell_type": "markdown",
   "metadata": {},
   "source": [
    "### Analyze the time spent travelling between station a and station b\n",
    "We determine the time spent for each type of mail (A or B) to get from station a to station b. The distribution is visualized using histogram. Following that, average and standard deviation of time spent are reported. The function itself returns a list of mail numbers corresponding to those which accomplished the journey between station a and station b."
   ]
  },
  {
   "cell_type": "code",
   "execution_count": 41,
   "metadata": {},
   "outputs": [
    {
     "data": {
      "text/plain": [
       "time_taken (generic function with 1 method)"
      ]
     },
     "execution_count": 41,
     "metadata": {},
     "output_type": "execute_result"
    }
   ],
   "source": [
    "function time_start_end(H,numA,numB)\n",
    "    # calculate the time taken by each mail from initial station to destination position given the history matrix\n",
    "    # H history matrix\n",
    "    \n",
    "\n",
    "end "
   ]
  },
  {
   "cell_type": "code",
   "execution_count": 4,
   "metadata": {},
   "outputs": [
    {
     "ename": "LoadError",
     "evalue": "UndefVarError: time_start_end not defined",
     "output_type": "error",
     "traceback": [
      "UndefVarError: time_start_end not defined",
      "",
      "Stacktrace:",
      " [1] top-level scope",
      "   @ In[4]:1",
      " [2] eval",
      "   @ .\\boot.jl:360 [inlined]",
      " [3] include_string(mapexpr::typeof(REPL.softscope), mod::Module, code::String, filename::String)",
      "   @ Base .\\loading.jl:1094"
     ]
    }
   ],
   "source": [
    "time_diff_A, time_diff_B = time_start_end(H,2,2); \n",
    "display(time_diff_A)\n",
    "display(time_diff_B) "
   ]
  },
  {
   "cell_type": "markdown",
   "metadata": {},
   "source": [
    "## Plot animation"
   ]
  },
  {
   "cell_type": "code",
   "execution_count": 26,
   "metadata": {},
   "outputs": [
    {
     "data": {
      "text/plain": [
       "plotMapFromConnectivity (generic function with 1 method)"
      ]
     },
     "execution_count": 26,
     "metadata": {},
     "output_type": "execute_result"
    }
   ],
   "source": [
    "function plotMapFromConnectivity(C,nCol,nRow;hotspot=nothing)\n",
    "    # C is the connectivity matrix\n",
    "    # nCol is the number of columns\n",
    "    # nRow is the number of rows\n",
    "    # hotspot, a keyword argument, is the congested spot which default to nothing\n",
    "    \n",
    "    # rectrangular patch\n",
    "    rect(w, h, x, y) = Shape(x .+ [0,w,w,0], y .+ [0,0,h,h])\n",
    "    # convert 1D to 2D index\n",
    "    getXY= (x) -> ((x.-1) .% nCol .+ 1,(x.-1) .÷ nCol .+ 1 ) ;\n",
    "    \n",
    "    plot(xlim=(0,nCol), xticks=[0:nCol;],ylim=(0,nRow),yticks=[0:nRow;],\n",
    "        legend=false,aspect_ratio=:equal,framestyle=:box,\n",
    "        grid=true,foreground_color_grid=:black,gridalpha=1,gridlinewidth=1)\n",
    "    \n",
    "#     unreachable cells: black\n",
    "    s=dropdims(sum(C[1:end-1,2:end-1],dims=1),dims=1)\n",
    "    for i in findall(x->x==0,s)\n",
    "        x,y=getXY(i)\n",
    "        plot!(rect(1,1,x-1,y-1),color=:black)\n",
    "    end\n",
    "    \n",
    "#     entry sites: transparent green\n",
    "    entries=findall(x->x==1,C[1,:])\n",
    "    for i in entries\n",
    "        x,y=getXY(i-1)\n",
    "        plot!(rect(1,1,x-1,y-1),color=:green,opacity=0.2,\n",
    "            annotation = [(x-0.5, y-0.2, \"entry\")],annotationfontsize=8)\n",
    "    end   \n",
    "    \n",
    "#     exit sites: transparent red\n",
    "    exits=findall(x->x==1,C[2:end-1,end])\n",
    "    for i in exits\n",
    "        x,y=getXY(i)\n",
    "        plot!(rect(1,1,x-1,y-1),color=:red,opacity=0.2,\n",
    "            annotation = [(x-0.5, y-0.8, \"exit\")],annotationfontsize=8)\n",
    "    end\n",
    "\n",
    "#  connected site: arrow   \n",
    "    s=dropdims(sum(C[2:end-1,2:end-1],dims=2),dims=2)    \n",
    "    for r in findall(x->x>0,s)\n",
    "        reachable=findall(x->x==1,C[r+1,2:end-1])\n",
    "        x0,y0=getXY(r) \n",
    "        x1,y1=getXY(reachable)\n",
    "        dx,dy=x1.-x0,y1.-y0;\n",
    "        quiver!([x0-0.5].+0.25.*dx,[y0-0.5].+0.25.*dy,\n",
    "                quiver=((dx.*0.5,dy.*0.5)),color=:black)\n",
    "    end\n",
    "    \n",
    "#  hotspot: dotted outline\n",
    "    if !isnothing(hotspot)\n",
    "        for i in hotspot\n",
    "            x,y=getXY(i)\n",
    "            plot!([x-1,x-1,x,x,x-1],[y-1,y,y,y-1,y-1],color=:red,linewidth=3,linestyle=:dot)\n",
    "        end\n",
    "    end\n",
    "    return current()\n",
    "end"
   ]
  },
  {
   "cell_type": "code",
   "execution_count": 27,
   "metadata": {},
   "outputs": [
    {
     "data": {
      "text/plain": [
       "plotAllCarAtOneInstant2 (generic function with 1 method)"
      ]
     },
     "execution_count": 27,
     "metadata": {},
     "output_type": "execute_result"
    }
   ],
   "source": [
    "function plotAllCarAtOneInstant2(H,t,nCol,nRow;c=palette(:tab10))\n",
    "    # H is the history matrix\n",
    "    # t is time step\n",
    "    # nCol is the number of columns\n",
    "    # nRow is the number of rows\n",
    "    # c, a keyword argument, is the color palette which default to tab10\n",
    "    pos=H[:,t];\n",
    "    maxNodes=nCol*nRow;\n",
    "    getXY= (x) -> ((x.-1) .% nCol .+ 1,(x.-1) .÷ nCol .+ 1 ) ;    \n",
    "    \n",
    "    id=findall(x->x>0 && x<=maxNodes,pos);\n",
    "    x,y=getXY(pos[id]);\n",
    "    annot=[(xx-0.5,yy-0.5,\"$(i)\") for (i,xx,yy) in zip(id,x,y)];\n",
    "    shape=[:circle for i in id];\n",
    "    (t>1) && (shape[H[id,t-1].==0].=:diamond);\n",
    "    \n",
    "    return scatter!(x.-0.5,y.-0.5,color=c[(id.-1).%length(c).+1],\n",
    "                    title=\"t=$(t-1)\",\n",
    "                    annotation = annot, annotationfontsize=9,\n",
    "                    markershape=shape, markersize=16, markerstrokewidth=2)\n",
    "end"
   ]
  },
  {
   "cell_type": "code",
   "execution_count": 28,
   "metadata": {
    "jupyter": {
     "source_hidden": true
    },
    "tags": []
   },
   "outputs": [
    {
     "data": {
      "text/plain": [
       "congest_plot2 (generic function with 1 method)"
      ]
     },
     "execution_count": 28,
     "metadata": {},
     "output_type": "execute_result"
    }
   ],
   "source": [
    "function congest_plot2(H,a,b,L)\n",
    "    ## H is the history matrix\n",
    "    # a is the starting time chosen to check congestion\n",
    "    # b is the final time\n",
    "    # L is the number of sites\n",
    "    \n",
    "    counter=zeros(Int64,L) # the histogram \n",
    "    \n",
    "    # use run length encoding to count\n",
    "    for row in eachrow(H[:,a:b])\n",
    "        p=filter(x-> x>0 && x<=L,row)\n",
    "        for (k,l) in zip(rle(p)...) # run length encoding\n",
    "            counter[k]+= l-1 #do not count the first occurence\n",
    "        end\n",
    "    end    \n",
    "    \n",
    "    # implementation 2: only traverse H once\n",
    "#     for row in eachrow(H[:,a:b])\n",
    "#         iter = Iterators.filter(x-> x>0 && x<=L,row)\n",
    "#         (item1, state) = iterate(iter)\n",
    "#         while (iter2=iterate(iter, state)) != nothing\n",
    "#             (item2, state) = iter2        \n",
    "#             item1==item2 && (counter[item1]+=1)\n",
    "#             item1=item2\n",
    "#         end\n",
    "#     end\n",
    "    \n",
    "    x_point=findall(x->x==maximum(counter),counter)\n",
    "    \n",
    "    display(bar(counter,bar_edges=true,bar_width=1,xticks=[1:L;],\n",
    "                title = \"Congestion plot from time t=$a to t=$b\", \n",
    "                xlabel = \"Position\", ylabel = \"Number of cars halted\",\n",
    "                legend=false,titlefontsize=12))\n",
    "        \n",
    "    println(\"The maximum congetsion is at position $x_point during the time t=$a to t=$b\")\n",
    "    return x_point\n",
    "end"
   ]
  },
  {
   "cell_type": "code",
   "execution_count": 29,
   "metadata": {},
   "outputs": [],
   "source": [
    "NMail = 10; # number of mails\n",
    "tM = 35; # total time steps\n",
    "L = 6; # number of sites\n",
    "numA = 3 # mail A number\n",
    "numB = NMail - numA # mail B number\n",
    "\n",
    "C = connect_matrix_2D();\n",
    "conn_matA = connect_matrix_A()\n",
    "conn_matB = connect_matrix_B()\n",
    "H = initialize_H(NMail,tM);\n",
    "for it = 1:tM+1\n",
    "    H = next_step_k(H,it,C,L,numA,conn_matA,conn_matB);\n",
    "end\n",
    "\n",
    "nCol = 3;\n",
    "nRow = 2;\n",
    "gr(size=(750,750))\n",
    "anim = Animation()\n",
    "p4=plotMapFromConnectivity(C,nCol,nRow);\n",
    "# p4=plotMapFromConnectivity(C,nCol,nRow;hotspot=ct4);\n",
    "for t=1:tM+2-sum(sum(H.==nCol*nRow+1,dims=1).==L)\n",
    "    plot(deepcopy(p4))\n",
    "    plotAllCarAtOneInstant2(H,t,nCol,nRow;c=palette(:tab20))\n",
    "    frame(anim)\n",
    "end"
   ]
  },
  {
   "cell_type": "code",
   "execution_count": 31,
   "metadata": {
    "tags": []
   },
   "outputs": [
    {
     "name": "stderr",
     "output_type": "stream",
     "text": [
      "┌ Info: Saved animation to \n",
      "│   fn = /Volumes/GoogleDrive/My Drive/TrafficeHackathon2021/simulation.gif\n",
      "└ @ Plots /Users/tianqichen/.julia/packages/Plots/PomtQ/src/animation.jl:114\n"
     ]
    },
    {
     "data": {
      "text/html": [
       "<img src=\"data:image/gif;base64,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\" />"
      ],
      "text/plain": [
       "Plots.AnimatedGif(\"/Volumes/GoogleDrive/My Drive/TrafficeHackathon2021/simulation.gif\")"
      ]
     },
     "execution_count": 31,
     "metadata": {},
     "output_type": "execute_result"
    }
   ],
   "source": [
    "gif(anim,\"simulation.gif\",fps=1)"
   ]
  },
  {
   "cell_type": "markdown",
   "metadata": {},
   "source": [
    "# shows smooth traffic\n",
    "<img src=\"smoothtraffic.gif\" width=\"750\" align=\"center\">"
   ]
  },
  {
   "cell_type": "code",
   "execution_count": 529,
   "metadata": {},
   "outputs": [
    {
     "name": "stdout",
     "output_type": "stream",
     "text": [
      "10×37 Matrix{Int16}:\n",
      " 0  0  0  0  0  0  0  0  0  0  0  0  0  0  0  0  0  0  0  0  0  0  1  4  4  5  4  1  4  5  6  7  7  7  7  7  7\n",
      " 0  1  4  5  6  7  7  7  7  7  7  7  7  7  7  7  7  7  7  7  7  7  7  7  7  7  7  7  7  7  7  7  7  7  7  7  7\n",
      " 0  0  0  0  0  0  0  0  0  0  0  0  0  0  0  1  4  4  4  4  5  6  7  7  7  7  7  7  7  7  7  7  7  7  7  7  7\n",
      " 0  0  0  0  0  0  0  0  0  0  0  0  0  0  0  0  0  1  1  1  1  2  2  3  7  7  7  7  7  7  7  7  7  7  7  7  7\n",
      " 0  0  0  0  0  0  0  0  0  0  0  0  0  0  0  0  0  0  0  0  0  0  0  0  1  2  3  7  7  7  7  7  7  7  7  7  7\n",
      " 0  0  0  1  4  4  5  4  5  4  5  4  5  4  5  6  5  2  5  2  3  7  7  7  7  7  7  7  7  7  7  7  7  7  7  7  7\n",
      " 0  0  0  0  0  0  0  0  0  0  0  1  1  1  2  2  3  7  7  7  7  7  7  7  7  7  7  7  7  7  7  7  7  7  7  7  7\n",
      " 0  0  0  0  0  1  2  3  7  7  7  7  7  7  7  7  7  7  7  7  7  7  7  7  7  7  7  7  7  7  7  7  7  7  7  7  7\n",
      " 0  0  0  0  0  0  0  0  0  1  2  2  2  3  7  7  7  7  7  7  7  7  7  7  7  7  7  7  7  7  7  7  7  7  7  7  7\n",
      " 0  0  0  0  0  0  0  1  2  3  7  7  7  7  7  7  7  7  7  7  7  7  7  7  7  7  7  7  7  7  7  7  7  7  7  7  7"
     ]
    }
   ],
   "source": [
    "show(stdout, \"text/plain\", H)"
   ]
  },
  {
   "cell_type": "markdown",
   "metadata": {},
   "source": [
    "# shows blockade\n",
    "<img src=\"blockade.gif\" width=\"750\" align=\"center\">"
   ]
  },
  {
   "cell_type": "code",
   "execution_count": null,
   "metadata": {},
   "outputs": [],
   "source": []
  }
 ],
 "metadata": {
  "kernelspec": {
   "display_name": "Julia 1.7.0",
   "language": "julia",
   "name": "julia-1.7"
  },
  "language_info": {
   "file_extension": ".jl",
   "mimetype": "application/julia",
   "name": "julia",
   "version": "1.7.0"
  },
  "toc": {
   "base_numbering": 1,
   "nav_menu": {},
   "number_sections": true,
   "sideBar": true,
   "skip_h1_title": false,
   "title_cell": "Table of Contents",
   "title_sidebar": "Contents",
   "toc_cell": false,
   "toc_position": {},
   "toc_section_display": true,
   "toc_window_display": false
  },
  "varInspector": {
   "cols": {
    "lenName": 16,
    "lenType": 16,
    "lenVar": 40
   },
   "kernels_config": {
    "python": {
     "delete_cmd_postfix": "",
     "delete_cmd_prefix": "del ",
     "library": "var_list.py",
     "varRefreshCmd": "print(var_dic_list())"
    },
    "r": {
     "delete_cmd_postfix": ") ",
     "delete_cmd_prefix": "rm(",
     "library": "var_list.r",
     "varRefreshCmd": "cat(var_dic_list()) "
    }
   },
   "types_to_exclude": [
    "module",
    "function",
    "builtin_function_or_method",
    "instance",
    "_Feature"
   ],
   "window_display": false
  }
 },
 "nbformat": 4,
 "nbformat_minor": 5
}
