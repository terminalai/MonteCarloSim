{
 "cells": [
  {
   "cell_type": "markdown",
   "id": "9f2be49f",
   "metadata": {},
   "source": [
    "## Optimizing 2d path with gradient free optimizer"
   ]
  },
  {
   "cell_type": "code",
   "execution_count": 7,
   "id": "6ea6b7b5",
   "metadata": {
    "jupyter": {
     "outputs_hidden": true
    },
    "scrolled": true,
    "tags": []
   },
   "outputs": [
    {
     "name": "stderr",
     "output_type": "stream",
     "text": [
      "\u001b[32m\u001b[1m    Updating\u001b[22m\u001b[39m registry at `C:\\Users\\zayan\\.julia\\registries\\General.toml`\n",
      "\u001b[32m\u001b[1m   Resolving\u001b[22m\u001b[39m package versions...\n",
      "\u001b[32m\u001b[1m  No Changes\u001b[22m\u001b[39m to `C:\\Users\\zayan\\.julia\\environments\\v1.7\\Project.toml`\n",
      "\u001b[32m\u001b[1m  No Changes\u001b[22m\u001b[39m to `C:\\Users\\zayan\\.julia\\environments\\v1.7\\Manifest.toml`\n",
      "\u001b[32m\u001b[1m   Resolving\u001b[22m\u001b[39m package versions...\n",
      "\u001b[32m\u001b[1m  No Changes\u001b[22m\u001b[39m to `C:\\Users\\zayan\\.julia\\environments\\v1.7\\Project.toml`\n",
      "\u001b[32m\u001b[1m  No Changes\u001b[22m\u001b[39m to `C:\\Users\\zayan\\.julia\\environments\\v1.7\\Manifest.toml`\n",
      "\u001b[32m\u001b[1m   Resolving\u001b[22m\u001b[39m package versions...\n",
      "\u001b[32m\u001b[1m  No Changes\u001b[22m\u001b[39m to `C:\\Users\\zayan\\.julia\\environments\\v1.7\\Project.toml`\n",
      "\u001b[32m\u001b[1m  No Changes\u001b[22m\u001b[39m to `C:\\Users\\zayan\\.julia\\environments\\v1.7\\Manifest.toml`\n",
      "\u001b[32m\u001b[1m   Resolving\u001b[22m\u001b[39m package versions...\n",
      "\u001b[32m\u001b[1m  No Changes\u001b[22m\u001b[39m to `C:\\Users\\zayan\\.julia\\environments\\v1.7\\Project.toml`\n",
      "\u001b[32m\u001b[1m  No Changes\u001b[22m\u001b[39m to `C:\\Users\\zayan\\.julia\\environments\\v1.7\\Manifest.toml`\n",
      "\u001b[32m\u001b[1m   Resolving\u001b[22m\u001b[39m package versions...\n",
      "\u001b[32m\u001b[1m  No Changes\u001b[22m\u001b[39m to `C:\\Users\\zayan\\.julia\\environments\\v1.7\\Project.toml`\n",
      "\u001b[32m\u001b[1m  No Changes\u001b[22m\u001b[39m to `C:\\Users\\zayan\\.julia\\environments\\v1.7\\Manifest.toml`\n",
      "\u001b[32m\u001b[1m   Resolving\u001b[22m\u001b[39m package versions...\n",
      "\u001b[32m\u001b[1m  No Changes\u001b[22m\u001b[39m to `C:\\Users\\zayan\\.julia\\environments\\v1.7\\Project.toml`\n",
      "\u001b[32m\u001b[1m  No Changes\u001b[22m\u001b[39m to `C:\\Users\\zayan\\.julia\\environments\\v1.7\\Manifest.toml`\n",
      "\u001b[32m\u001b[1m   Resolving\u001b[22m\u001b[39m package versions...\n",
      "\u001b[32m\u001b[1m  No Changes\u001b[22m\u001b[39m to `C:\\Users\\zayan\\.julia\\environments\\v1.7\\Project.toml`\n",
      "\u001b[32m\u001b[1m  No Changes\u001b[22m\u001b[39m to `C:\\Users\\zayan\\.julia\\environments\\v1.7\\Manifest.toml`\n",
      "\u001b[32m\u001b[1m   Resolving\u001b[22m\u001b[39m package versions...\n",
      "\u001b[32m\u001b[1m  No Changes\u001b[22m\u001b[39m to `C:\\Users\\zayan\\.julia\\environments\\v1.7\\Project.toml`\n",
      "\u001b[32m\u001b[1m  No Changes\u001b[22m\u001b[39m to `C:\\Users\\zayan\\.julia\\environments\\v1.7\\Manifest.toml`\n",
      "\u001b[32m\u001b[1m   Resolving\u001b[22m\u001b[39m package versions...\n",
      "\u001b[32m\u001b[1m  No Changes\u001b[22m\u001b[39m to `C:\\Users\\zayan\\.julia\\environments\\v1.7\\Project.toml`\n",
      "\u001b[32m\u001b[1m  No Changes\u001b[22m\u001b[39m to `C:\\Users\\zayan\\.julia\\environments\\v1.7\\Manifest.toml`\n",
      "\u001b[32m\u001b[1m    Building\u001b[22m\u001b[39m Conda ─→ `C:\\Users\\zayan\\.julia\\scratchspaces\\44cfe95a-1eb2-52ea-b672-e2afdf69b78f\\6cdc8832ba11c7695f494c9d9a1c31e90959ce0f\\build.log`\n",
      "\u001b[32m\u001b[1m    Building\u001b[22m\u001b[39m PyCall → `C:\\Users\\zayan\\.julia\\scratchspaces\\44cfe95a-1eb2-52ea-b672-e2afdf69b78f\\4ba3651d33ef76e24fef6a598b63ffd1c5e1cd17\\build.log`\n"
     ]
    }
   ],
   "source": [
    "import Pkg;\n",
    "Pkg.add(\"Plots\")\n",
    "Pkg.add(\"Statistics\")\n",
    "Pkg.add(\"StatsBase\")\n",
    "Pkg.add(\"WebIO\")\n",
    "Pkg.add(\"DelimitedFiles\") \n",
    "Pkg.add(\"PyPlot\") #on-the-fly animation using pyplot backend seems less flickers\n",
    "Pkg.add(\"Evolutionary\")\n",
    "Pkg.add(\"Optim\")\n",
    "Pkg.add(\"NLopt\")\n",
    "Pkg.build(\"PyCall\")"
   ]
  },
  {
   "cell_type": "code",
   "execution_count": 8,
   "id": "c11c6305",
   "metadata": {},
   "outputs": [],
   "source": [
    "using Plots, Statistics,Random, StatsBase, DelimitedFiles"
   ]
  },
  {
   "cell_type": "markdown",
   "id": "864a1708",
   "metadata": {
    "tags": []
   },
   "source": [
    "## The Graph\n",
    "\n",
    "We used the graph above"
   ]
  },
  {
   "cell_type": "markdown",
   "id": "e452a4e8",
   "metadata": {},
   "source": [
    "<img src='cmap.gif' width=\"400\" height=\"300\">"
   ]
  },
  {
   "cell_type": "code",
   "execution_count": 9,
   "id": "97e4f7e1",
   "metadata": {
    "jupyter": {
     "source_hidden": true
    },
    "tags": []
   },
   "outputs": [
    {
     "data": {
      "text/plain": [
       "connect_matrix_2D (generic function with 1 method)"
      ]
     },
     "execution_count": 9,
     "metadata": {},
     "output_type": "execute_result"
    }
   ],
   "source": [
    "# connectivity matrix\n",
    "# Vetically, the mail can be delivered back; Horizontally, the mail can only be delivered forward to the destination.\n",
    "function connect_matrix_2D()\n",
    "    #1st row is source, last row is drain. all entries are connected to source, all exits are connected to drain!\n",
    "    C = zeros(Float64,8,8);\n",
    "    C[1,2] = 1;\n",
    "    \n",
    "    C[2,3] = 1;\n",
    "    C[2,5] = 1;\n",
    "    \n",
    "    C[3,2] = 1;\n",
    "    C[3,4] = 1;\n",
    "    C[3,6] = 1;\n",
    "    \n",
    "    C[4,3] = 1;\n",
    "    C[4,8] = 1;\n",
    "    \n",
    "    C[5,2] = 1;\n",
    "    C[5,6] = 1;\n",
    "    \n",
    "    C[6,3] = 1;\n",
    "    C[6,5] = 1;\n",
    "    C[6,7] = 1;\n",
    "    \n",
    "    C[7,6] = 1; \n",
    "    C[7,8] = 1;\n",
    "    \n",
    "    C[8,8] = 1;\n",
    "    return C\n",
    "end\n"
   ]
  },
  {
   "cell_type": "code",
   "execution_count": 10,
   "id": "a1fa5599",
   "metadata": {
    "tags": []
   },
   "outputs": [
    {
     "data": {
      "text/plain": [
       "connect_matrix_A (generic function with 1 method)"
      ]
     },
     "execution_count": 10,
     "metadata": {},
     "output_type": "execute_result"
    }
   ],
   "source": [
    "function connect_matrix_A()\n",
    "    A = zeros(Float64,8,8);\n",
    "    A[1,2] = 1;\n",
    "    \n",
    "    A[2,3] = 0.1;\n",
    "    A[2,5] = 0.9;\n",
    "    \n",
    "    A[3,2] = 0.1;\n",
    "    A[3,4] = 0.1;\n",
    "    A[3,6] = 0.8;\n",
    "    \n",
    "    A[4,3] = 1; #if A mail reaches B(3), mail returns to station 2 with 100% probability.\n",
    "    \n",
    "    A[5,2] = 0.1;\n",
    "    A[5,6] = 0.9;\n",
    "    \n",
    "    A[6,3] = 0.1;\n",
    "    A[6,5] = 0.1;\n",
    "    A[6,7] = 0.8;\n",
    "    \n",
    "    A[7,8] = 1; \n",
    " \n",
    "    return A\n",
    "end\n"
   ]
  },
  {
   "cell_type": "code",
   "execution_count": 11,
   "id": "5bf35cc6",
   "metadata": {
    "tags": []
   },
   "outputs": [
    {
     "data": {
      "text/plain": [
       "connect_matrix_B (generic function with 1 method)"
      ]
     },
     "execution_count": 11,
     "metadata": {},
     "output_type": "execute_result"
    }
   ],
   "source": [
    "function connect_matrix_B()\n",
    "    B = zeros(Float64,8,8);\n",
    "    B[1,2] = 1;\n",
    "    \n",
    "    B[2,3] = 0.9;\n",
    "    B[2,5] = 0.1;\n",
    "    \n",
    "    B[3,2] = 0.1;\n",
    "    B[3,4] = 0.8;\n",
    "    B[3,6] = 0.1;\n",
    "    \n",
    "    B[4,8] = 1;\n",
    "        \n",
    "    B[5,2] = 0.9;\n",
    "    B[5,6] = 0.1;\n",
    "    \n",
    "    B[6,3] = 0.8;\n",
    "    B[6,5] = 0.1;\n",
    "    B[6,7] = 0.1;\n",
    "     \n",
    "    B[7,6] = 1; #if B mail reaches A(6), mail returns to station 5 with 100% probability.  \n",
    " \n",
    "    return B\n",
    "end"
   ]
  },
  {
   "cell_type": "code",
   "execution_count": 12,
   "id": "c366cc83",
   "metadata": {},
   "outputs": [
    {
     "data": {
      "text/plain": [
       "8×8 Matrix{Float64}:\n",
       " 0.0  1.0  0.0  0.0  0.0  0.0  0.0  0.0\n",
       " 0.0  0.0  1.0  0.0  1.0  0.0  0.0  0.0\n",
       " 0.0  1.0  0.0  1.0  0.0  1.0  0.0  0.0\n",
       " 0.0  0.0  1.0  0.0  0.0  0.0  0.0  1.0\n",
       " 0.0  1.0  0.0  0.0  0.0  1.0  0.0  0.0\n",
       " 0.0  0.0  1.0  0.0  1.0  0.0  1.0  0.0\n",
       " 0.0  0.0  0.0  0.0  0.0  1.0  0.0  1.0\n",
       " 0.0  0.0  0.0  0.0  0.0  0.0  0.0  1.0"
      ]
     },
     "execution_count": 12,
     "metadata": {},
     "output_type": "execute_result"
    }
   ],
   "source": [
    "C = connect_matrix_2D()"
   ]
  },
  {
   "cell_type": "code",
   "execution_count": 13,
   "id": "21e4420e",
   "metadata": {
    "tags": []
   },
   "outputs": [
    {
     "data": {
      "text/plain": [
       "8×8 Matrix{Float64}:\n",
       " 0.0  1.0  0.0  0.0  0.0  0.0  0.0  0.0\n",
       " 0.0  0.0  0.1  0.0  0.9  0.0  0.0  0.0\n",
       " 0.0  0.1  0.0  0.1  0.0  0.8  0.0  0.0\n",
       " 0.0  0.0  1.0  0.0  0.0  0.0  0.0  0.0\n",
       " 0.0  0.1  0.0  0.0  0.0  0.9  0.0  0.0\n",
       " 0.0  0.0  0.1  0.0  0.1  0.0  0.8  0.0\n",
       " 0.0  0.0  0.0  0.0  0.0  0.0  0.0  1.0\n",
       " 0.0  0.0  0.0  0.0  0.0  0.0  0.0  0.0"
      ]
     },
     "execution_count": 13,
     "metadata": {},
     "output_type": "execute_result"
    }
   ],
   "source": [
    "conn_matA = connect_matrix_A()"
   ]
  },
  {
   "cell_type": "code",
   "execution_count": 14,
   "id": "3cfeb6d6",
   "metadata": {},
   "outputs": [
    {
     "data": {
      "text/plain": [
       "8×8 Matrix{Float64}:\n",
       " 0.0  1.0  0.0  0.0  0.0  0.0  0.0  0.0\n",
       " 0.0  0.0  0.9  0.0  0.1  0.0  0.0  0.0\n",
       " 0.0  0.1  0.0  0.8  0.0  0.1  0.0  0.0\n",
       " 0.0  0.0  0.0  0.0  0.0  0.0  0.0  1.0\n",
       " 0.0  0.9  0.0  0.0  0.0  0.1  0.0  0.0\n",
       " 0.0  0.0  0.8  0.0  0.1  0.0  0.1  0.0\n",
       " 0.0  0.0  0.0  0.0  0.0  1.0  0.0  0.0\n",
       " 0.0  0.0  0.0  0.0  0.0  0.0  0.0  0.0"
      ]
     },
     "execution_count": 14,
     "metadata": {},
     "output_type": "execute_result"
    }
   ],
   "source": [
    "conn_matB = connect_matrix_B()"
   ]
  },
  {
   "cell_type": "code",
   "execution_count": 15,
   "id": "8db641bb",
   "metadata": {},
   "outputs": [
    {
     "data": {
      "text/plain": [
       "initialize_H (generic function with 1 method)"
      ]
     },
     "execution_count": 15,
     "metadata": {},
     "output_type": "execute_result"
    }
   ],
   "source": [
    "function initialize_H(NC,tM)\n",
    "    # tM maximum number of time steps\n",
    "    # NC is the number of mails\n",
    "    return H = zeros(Int16,NC, tM+2); #this tM+2 can be alterd to taste    \n",
    "end"
   ]
  },
  {
   "cell_type": "code",
   "execution_count": 16,
   "id": "ff622093",
   "metadata": {},
   "outputs": [
    {
     "data": {
      "text/plain": [
       "find_pos_available_k (generic function with 1 method)"
      ]
     },
     "execution_count": 16,
     "metadata": {},
     "output_type": "execute_result"
    }
   ],
   "source": [
    "function find_pos_available_k(ic,it,H,C,L,conn_mat) \n",
    "    # ic is the mail number \n",
    "    # it is the time step \n",
    "    # H matrix of histories \n",
    "    # C connectivity matrix \n",
    "    # L is the number of stations \n",
    "    # for a particular mail at a particular time, \n",
    "    aux = size(H);\n",
    "    NC = copy(aux[1]); #NC returns the total number of mails \n",
    "    vec_pos0 = Int64.(zeros(0)); \n",
    "    vec_pos = Int64.(zeros(0)); \n",
    "    vec_prob0 = Float64.(zeros(0)); \n",
    "    vec_prob = Float64.(zeros(0)); \n",
    "    \n",
    "    ip = copy(H[ic,it]); #obtain current position of the mail from history matrix    \n",
    "    for iL = 1:L+2 #check all possible positions, +2 to account for source and drain\n",
    "        if C[ip+1,iL] == 1 #(row,col) check whether this station is connected to station ip (it would be a 1 in the connectivity matrix)\n",
    "                           #ip+1 to account for numbering of station, 0th station starts at 1st row. \n",
    "            if conn_mat[ip+1,iL] != 0 #check whether mail type has prob of moving to station iL, if so, store position and corresponding probability\n",
    "                vec_pos0 = append!(vec_pos0, iL-1); #stores all reachable stations\n",
    "                vec_prob0 = append!(vec_prob0, conn_mat[ip+1,iL]); #store prob of respective reachable stations\n",
    "            end\n",
    "        end\n",
    "    end\n",
    "    \n",
    "    #conflict resolution\n",
    "    aux = size(vec_pos0) #total number of reachable stations\n",
    "    for ipos = 1:aux[1] #going across all possible stations\n",
    "        s=0;\n",
    "        if (vec_pos0[ipos] != L+1)  #if the mail is not outside, which is at L+1   \n",
    "            for iNC = 1:NC #going across all mails\n",
    "                if H[iNC,it] == copy(vec_pos0[ipos]); #checks if stations is already occupied by other mails. if so, add 1 to s. \n",
    "                    s+=1;\n",
    "                end\n",
    "            end\n",
    "        end    \n",
    "        if s==0 #if s!=1, proceed\n",
    "            vec_pos = append!(vec_pos,vec_pos0[ipos]); # if there are no collisions, store particular reachable station in vec_pos which is returned by this function.\n",
    "            vec_prob = append!(vec_prob,vec_prob0[ipos]);\n",
    "            \n",
    "        end\n",
    "    end\n",
    "    if !isempty(vec_prob) #if probability vector is not empty, normalise it\n",
    "        vec_prob = vec_prob./sum(vec_prob);#normalise probability here!\n",
    "    end\n",
    "    return vec_pos, vec_prob\n",
    "end"
   ]
  },
  {
   "cell_type": "code",
   "execution_count": 17,
   "id": "e0284c77",
   "metadata": {},
   "outputs": [
    {
     "data": {
      "text/plain": [
       "4×12 Matrix{Int16}:\n",
       " 0  0  0  0  0  0  0  0  0  0  0  0\n",
       " 0  0  0  0  0  0  0  0  0  0  0  0\n",
       " 0  0  0  0  0  0  0  0  0  0  0  0\n",
       " 0  0  0  0  0  0  0  0  0  0  0  0"
      ]
     },
     "execution_count": 17,
     "metadata": {},
     "output_type": "execute_result"
    }
   ],
   "source": [
    "H = initialize_H(4,10)"
   ]
  },
  {
   "cell_type": "code",
   "execution_count": 18,
   "id": "1cb57a51",
   "metadata": {},
   "outputs": [
    {
     "data": {
      "text/plain": [
       "4×12 Matrix{Int16}:\n",
       " 7  0  0  0  0  0  0  0  0  0  0  0\n",
       " 5  0  0  0  0  0  0  0  0  0  0  0\n",
       " 3  0  0  0  0  0  0  0  0  0  0  0\n",
       " 0  0  0  0  0  0  0  0  0  0  0  0"
      ]
     },
     "execution_count": 18,
     "metadata": {},
     "output_type": "execute_result"
    }
   ],
   "source": [
    "H[1,1]=7;\n",
    "H[2,1]=5;\n",
    "H[3,1]=3;\n",
    "H"
   ]
  },
  {
   "cell_type": "code",
   "execution_count": 19,
   "id": "d4159d63",
   "metadata": {},
   "outputs": [
    {
     "data": {
      "text/plain": [
       "([2, 4, 6], [0.1, 0.1, 0.8])"
      ]
     },
     "execution_count": 19,
     "metadata": {},
     "output_type": "execute_result"
    }
   ],
   "source": [
    "vec_pos, Avec_prob=find_pos_available_k(2,1,H,C,6,conn_matA) "
   ]
  },
  {
   "cell_type": "code",
   "execution_count": 20,
   "id": "b748740f",
   "metadata": {
    "tags": []
   },
   "outputs": [],
   "source": [
    "#Demonstrates how to draw weighted sampling\n",
    "# Pkg.add(\"StatsBase\")  # Only do this once, obviously\n",
    "# using StatsBase\n",
    "# items = [\"a\", 2, 5, \"h\", \"hello\", 3]\n",
    "# weights = [0.1, 0.1, 0.2, 0.2, 0.1, 0.3]\n",
    "# sample(items, Weights(weights))\n",
    "# choice_weighted = sample(vec_pos, Weights(Avec_prob))"
   ]
  },
  {
   "cell_type": "code",
   "execution_count": 21,
   "id": "c6703177",
   "metadata": {},
   "outputs": [
    {
     "data": {
      "text/plain": [
       "move_position_k (generic function with 1 method)"
      ]
     },
     "execution_count": 21,
     "metadata": {},
     "output_type": "execute_result"
    }
   ],
   "source": [
    "function move_position_k(ic,it,H,vec_pos, Avec_prob,conn_matA)\n",
    "   #applies probability of moving via prob connectivity matrix A and B\n",
    "    current_pos = copy(H[ic,it]); # current mail position\n",
    "    aux = size(vec_pos);\n",
    "    n_pos = copy(aux[1]);\n",
    "    if n_pos > 0\n",
    "        H[ic,it+1] = sample(vec_pos, Weights(Avec_prob)); #draw randomly from weighted distribution\n",
    "    end\n",
    "    return H\n",
    "end"
   ]
  },
  {
   "cell_type": "code",
   "execution_count": 22,
   "id": "bc58df50",
   "metadata": {},
   "outputs": [
    {
     "data": {
      "text/plain": [
       "deliver_mail_k (generic function with 1 method)"
      ]
     },
     "execution_count": 22,
     "metadata": {},
     "output_type": "execute_result"
    }
   ],
   "source": [
    "function deliver_mail_k(ic,numA,it,H,C,L,conn_matA,conn_matB)\n",
    "    # numA is number of mails belonging to A. Above numA, all mails belong to B\n",
    "    # if A execute connectivity matrix A\n",
    "    # ic is the mail number\n",
    "    # H matrix of histories\n",
    "    # it time step\n",
    "    # C connectivity matrix\n",
    "    H[ic, it+1] = copy(H[ic, it]); \n",
    "    # vec_pos, vec_prob= find_pos_available_k(ic,it,H,C,L);\n",
    "    if ic <= numA\n",
    "            vec_pos, Avec_prob= find_pos_available_k(ic,it,H,C,L,conn_matA);\n",
    "            H = move_position_k(ic,it,H,vec_pos, Avec_prob,conn_matA)\n",
    "    else\n",
    "            vec_pos, Bvec_prob= find_pos_available_k(ic,it,H,C,L,conn_matB);\n",
    "            H = move_position_k(ic,it,H,vec_pos, Bvec_prob,conn_matB)\n",
    "\n",
    "    end\n",
    "    return H\n",
    "end"
   ]
  },
  {
   "cell_type": "code",
   "execution_count": 23,
   "id": "e8a16441",
   "metadata": {
    "tags": []
   },
   "outputs": [
    {
     "data": {
      "text/plain": [
       "find_resolve_conflicts (generic function with 1 method)"
      ]
     },
     "execution_count": 23,
     "metadata": {},
     "output_type": "execute_result"
    }
   ],
   "source": [
    "function find_resolve_conflicts(H,L,it)\n",
    "    #conflicts only happen for new positions. conflicts from old to new has been resolved in find_pos_available\n",
    "    # it is the time step \n",
    "    # H matrix of histories \n",
    "    # L is the number of positions \n",
    "    Hn = copy(H); \n",
    "    aux = size(H); \n",
    "    NC = aux[1]; \n",
    "    # finds list of cars that are in conflict.\n",
    "    for iL = 1:L\n",
    "        list_cars = Int64.(zeros(0)); \n",
    "        for ic = 1:NC \n",
    "            if H[ic,it] == iL \n",
    "                list_cars = append!(list_cars, ic);\n",
    "            end\n",
    "        end\n",
    "        aux = size(list_cars); \n",
    "        #in list of cars with conflict, randomly let one car progress and keep the rest stationary.\n",
    "        if aux[1]>1\n",
    "            i_pos = rand(1:aux[1],1,1);\n",
    "            keep_pos = copy(i_pos[1]); \n",
    "            for ipos = 1:aux[1]\n",
    "                Hn[list_cars[ipos], it] = copy(H[list_cars[ipos], it-1]); #the rest are sent back to their prev station\n",
    "            end\n",
    "            Hn[list_cars[keep_pos], it] = copy(H[list_cars[keep_pos], it]); #selected mail proceeds to new position\n",
    "        end\n",
    "    end\n",
    "    return Hn \n",
    "    \n",
    "end\n",
    "\n",
    "# H = initialize_H(4,4)\n",
    "# H[1,2] = 1\n",
    "# H[2,2] = 1\n",
    "# H[3,2] = 1\n",
    "# H[4,2] = 1\n",
    "# H = find_resolve_conflicts(H,L,2)"
   ]
  },
  {
   "cell_type": "code",
   "execution_count": 24,
   "id": "91e0aaa2",
   "metadata": {},
   "outputs": [
    {
     "data": {
      "text/plain": [
       "next_step_k (generic function with 1 method)"
      ]
     },
     "execution_count": 24,
     "metadata": {},
     "output_type": "execute_result"
    }
   ],
   "source": [
    "function next_step_k(H,it,C,L,numA,conn_matA,conn_matB)\n",
    "    # H matrix of histories\n",
    "    # p_mov probability of moving\n",
    "    # it time step\n",
    "    # C connectivity matrix\n",
    "    aux = size(H);\n",
    "    NC = copy(aux[1]); \n",
    "    for ic = 1:NC\n",
    "         H = deliver_mail_k(ic,numA,it,H,C,L,conn_matA,conn_matB); # \n",
    "    end\n",
    "    H = find_resolve_conflicts(H,L,it+1); # \n",
    "    return H\n",
    "end"
   ]
  },
  {
   "cell_type": "code",
   "execution_count": 25,
   "id": "21f36466",
   "metadata": {},
   "outputs": [
    {
     "data": {
      "text/plain": [
       "4×12 Matrix{Int16}:\n",
       " 0  1  4  5  6  7  7  7  7  7  7  7\n",
       " 0  0  0  0  0  0  0  1  4  5  6  7\n",
       " 0  0  0  1  2  3  7  7  7  7  7  7\n",
       " 0  0  0  0  0  1  2  3  7  7  7  7"
      ]
     },
     "execution_count": 25,
     "metadata": {},
     "output_type": "execute_result"
    }
   ],
   "source": [
    "NMail = 4; # number of mails\n",
    "tM = 10; # total time steps\n",
    "L = 6; # number of sites\n",
    "numA = 2 # mail A number\n",
    "numB = NMail - numA # mail B number\n",
    "\n",
    "C = connect_matrix_2D();\n",
    "conn_matA = connect_matrix_A()\n",
    "conn_matB = connect_matrix_B()\n",
    "H = initialize_H(NMail,tM);\n",
    "\n",
    "for it = 1:tM+1\n",
    "    H = next_step_k(H,it,C,L,numA,conn_matA,conn_matB);\n",
    "end\n",
    "H"
   ]
  },
  {
   "cell_type": "code",
   "execution_count": 26,
   "id": "bae3fb2c",
   "metadata": {},
   "outputs": [
    {
     "data": {
      "text/plain": [
       "time_start_end (generic function with 1 method)"
      ]
     },
     "execution_count": 26,
     "metadata": {},
     "output_type": "execute_result"
    }
   ],
   "source": [
    "function time_start_end(H,numA,numB)\n",
    "    # calculate the time taken by each mail from initial station to destination position given the history matrix\n",
    "    # H history matrix\n",
    "    \n",
    "    sv = size(H);\n",
    "    max_time = sv[2]; \n",
    "    A_first_time_check = zeros(Int16, numA, 1); \n",
    "    B_first_time_check = zeros(Int16, numB, 1); \n",
    "    A_second_time_check = zeros(Int16, numA, 1); \n",
    "    B_second_time_check = zeros(Int16, numB, 1); \n",
    "    init_pos_A = 1; \n",
    "    init_pos_B = 1; \n",
    "    fina_pos_A = 6; \n",
    "    fina_pos_B = 3; \n",
    "\n",
    "    #find first and second time for A mails \n",
    "    for i in 1:numA\n",
    "        aux = findfirst(x -> x == init_pos_A, H[i,:]); \n",
    "        if aux == nothing \n",
    "            aux = 0; \n",
    "        end\n",
    "        A_first_time_check[i] = aux; \n",
    "        aux = findfirst(x -> x == fina_pos_A, H[i,:]); \n",
    "        if aux == nothing \n",
    "            aux = 0; \n",
    "        end\n",
    "        A_second_time_check[i] = aux; \n",
    "    end\n",
    "    \n",
    "    #find first and second time for B mails \n",
    "    for i in 1:numB\n",
    "        aux = findfirst(x -> x == init_pos_B, H[numA+i,:]); \n",
    "        if aux == nothing \n",
    "            aux = 0; \n",
    "        end\n",
    "        B_first_time_check[i] = aux; \n",
    "        aux = findfirst(x -> x == fina_pos_B, H[numA+i,:]); \n",
    "        if aux == nothing \n",
    "            aux = 0; \n",
    "        end\n",
    "        B_second_time_check[i] = aux; \n",
    "    end\n",
    "    \n",
    "    #compute the difference between first and last time \n",
    "    diff_A =  A_second_time_check - A_first_time_check; \n",
    "    diff_B =  B_second_time_check - B_first_time_check; \n",
    "    \n",
    "    # if the result is 0, it means that it never entered and it should not be counted \n",
    "    # if the results is negative, it means that it never reached the destination, so now we do not count it  \n",
    "    time_diff_A = sort(diff_A[findall(x->x>0, diff_A)]);   \n",
    "    time_diff_B = sort(diff_B[findall(x->x>0, diff_B)]);   \n",
    "    \n",
    "    return time_diff_A, time_diff_B       \n",
    "end "
   ]
  },
  {
   "cell_type": "code",
   "execution_count": 27,
   "id": "b6b55172",
   "metadata": {},
   "outputs": [
    {
     "data": {
      "text/plain": [
       "2-element Vector{Int16}:\n",
       " 3\n",
       " 3"
      ]
     },
     "metadata": {},
     "output_type": "display_data"
    },
    {
     "data": {
      "text/plain": [
       "2-element Vector{Int16}:\n",
       " 2\n",
       " 2"
      ]
     },
     "metadata": {},
     "output_type": "display_data"
    }
   ],
   "source": [
    "time_diff_A, time_diff_B = time_start_end(H,numA,numB); \n",
    "display(time_diff_A)\n",
    "display(time_diff_B)\n"
   ]
  },
  {
   "cell_type": "code",
   "execution_count": 28,
   "id": "864eb508",
   "metadata": {},
   "outputs": [
    {
     "data": {
      "text/plain": [
       "test_function (generic function with 1 method)"
      ]
     },
     "execution_count": 28,
     "metadata": {},
     "output_type": "execute_result"
    }
   ],
   "source": [
    "function test_function(x)\n",
    "    NMail = 10; # number of mails\n",
    "    tM = 10; # total time steps\n",
    "    L = 6; # number of sites\n",
    "    numA = 5 # mail A number\n",
    "    numB = NMail - numA # mail B number\n",
    "    \n",
    "    A = zeros(Float64,8,8);\n",
    "    A[1,2] = 1;\n",
    "    A[2,3] = x[1];\n",
    "    A[2,5] = x[2];\n",
    "    A[3,2] = x[3];\n",
    "    A[3,4] = x[4];\n",
    "    A[3,6] = x[5];\n",
    "    A[4,3] = 1; #if A mail reaches B(3), mail returns to station 2 with 100% probability.\n",
    "    A[5,2] = x[6];\n",
    "    A[5,6] = x[7];\n",
    "    A[6,3] = x[8];\n",
    "    A[6,5] = x[9];\n",
    "    A[6,7] = x[10];\n",
    "    A[7,8] = 1;\n",
    "\n",
    "    C = connect_matrix_2D();\n",
    "    B = connect_matrix_B();\n",
    "    H = initialize_H(NMail,tM);\n",
    "    for it = 1:tM+1\n",
    "        H = next_step_k(H,it,C,L,numA,conn_matA,conn_matB);\n",
    "    end\n",
    "    return time_start_end(H,numA,numB)\n",
    "end"
   ]
  },
  {
   "cell_type": "code",
   "execution_count": 29,
   "id": "d8fc7aff",
   "metadata": {},
   "outputs": [
    {
     "data": {
      "text/plain": [
       "fitness_function (generic function with 1 method)"
      ]
     },
     "execution_count": 29,
     "metadata": {},
     "output_type": "execute_result"
    }
   ],
   "source": [
    "function fitness_function(x)\n",
    "    NMail = 10; # number of mails\n",
    "    tM = 10; # total time steps\n",
    "    L = 6; # number of sites\n",
    "    numA = 5 # mail A number\n",
    "    numB = NMail - numA # mail B number\n",
    "    \n",
    "    A = zeros(Float64,8,8);\n",
    "    A[1,2] = 1;\n",
    "    A[2,3] = x[1];\n",
    "    A[2,5] = x[2];\n",
    "    A[3,2] = x[3];\n",
    "    A[3,4] = x[4];\n",
    "    A[3,6] = x[5];\n",
    "    A[4,3] = 1; #if A mail reaches B(3), mail returns to station 2 with 100% probability.\n",
    "    A[5,2] = x[6];\n",
    "    A[5,6] = x[7];\n",
    "    A[6,3] = x[8];\n",
    "    A[6,5] = x[9];\n",
    "    A[6,7] = x[10];\n",
    "    A[7,8] = 1;\n",
    "\n",
    "    C = connect_matrix_2D();\n",
    "    B = connect_matrix_B();\n",
    "    time_diff_A_overall = Int64.(zeros(0));\n",
    "    time_diff_B_overall = Int64.(zeros(0));\n",
    "    for i = 1:100\n",
    "        H = initialize_H(NMail,tM);\n",
    "        for it = 1:tM+1\n",
    "            H = next_step_k(H,it,C,L,numA,conn_matA,conn_matB);\n",
    "        end\n",
    "        time_diff_A, time_diff_B = time_start_end(H,numA,numB)\n",
    "        time_diff_A_overall = append!(time_diff_A_overall, time_diff_A)\n",
    "        time_diff_B_overall = append!(time_diff_B_overall, time_diff_B)\n",
    "    end\n",
    "    return sum(time_diff_A_overall) * 1/size(time_diff_A_overall)[1] + sum(time_diff_B_overall) * 1/size(time_diff_B_overall)[1]\n",
    "end"
   ]
  },
  {
   "cell_type": "code",
   "execution_count": 30,
   "id": "fabd92de",
   "metadata": {},
   "outputs": [],
   "source": [
    "using Evolutionary"
   ]
  },
  {
   "cell_type": "code",
   "execution_count": 31,
   "id": "ad3d4035",
   "metadata": {},
   "outputs": [
    {
     "data": {
      "text/plain": [
       "\n",
       " * Status: failure (reached maximum number of iterations)\n",
       "\n",
       " * Candidate solution\n",
       "    Minimizer:  [0.5556964874267578, 0.0, 0.0,  ...]\n",
       "    Minimum:    5.909190974133186\n",
       "    Iterations: 100\n",
       "\n",
       " * Found with\n",
       "    Algorithm: GA[P=100,x=0.8,μ=0.1,ɛ=0]\n",
       "\n",
       " * Work counters\n",
       "    Seconds run:   79.099 (vs limit Inf)\n",
       "    Iterations:    100\n",
       "    f(x) calls:    10194\n"
      ]
     },
     "execution_count": 31,
     "metadata": {},
     "output_type": "execute_result"
    }
   ],
   "source": [
    "result = Evolutionary.optimize(fitness_function, [0.0,0.0,0.0,0.0,0.0,0.0,0.0,0.0,0.0,0.0],\n",
    "    [1.0,1.0,1.0,1.0,1.0,1.0,1.0,1.0,1.0,1.0],\n",
    "    [0.0,0.0,0.0,0.0,0.0,0.0,0.0,0.0,0.0,0.0], \n",
    "    GA(populationSize = 100, selection = susinv, crossover = discrete, mutation = domainrange(ones(10))),\n",
    "    Evolutionary.Options(iterations=100))"
   ]
  },
  {
   "cell_type": "code",
   "execution_count": 32,
   "id": "08e471b1",
   "metadata": {},
   "outputs": [
    {
     "data": {
      "text/plain": [
       "10-element Vector{Float64}:\n",
       " 0.5556964874267578\n",
       " 0.0\n",
       " 0.0\n",
       " 0.031620025634765625\n",
       " 0.1249990463256836\n",
       " 0.0\n",
       " 0.2590065002441406\n",
       " 0.00048828125\n",
       " 0.0\n",
       " 0.0"
      ]
     },
     "execution_count": 32,
     "metadata": {},
     "output_type": "execute_result"
    }
   ],
   "source": [
    "x = Evolutionary.minimizer(result)"
   ]
  },
  {
   "cell_type": "code",
   "execution_count": 33,
   "id": "da5a60e1",
   "metadata": {},
   "outputs": [],
   "source": [
    "using Optim"
   ]
  },
  {
   "cell_type": "code",
   "execution_count": 34,
   "id": "36373e78",
   "metadata": {},
   "outputs": [
    {
     "data": {
      "text/plain": [
       "sigmoid (generic function with 1 method)"
      ]
     },
     "execution_count": 34,
     "metadata": {},
     "output_type": "execute_result"
    }
   ],
   "source": [
    "function sigmoid(x)\n",
    "    return 1/(1 + exp(-x))\n",
    "end"
   ]
  },
  {
   "cell_type": "code",
   "execution_count": 35,
   "id": "fd0db8ff",
   "metadata": {},
   "outputs": [
    {
     "data": {
      "text/plain": [
       "10-element Vector{Float64}:\n",
       " 0.5\n",
       " 0.5\n",
       " 0.5\n",
       " 0.5\n",
       " 0.5\n",
       " 0.5\n",
       " 0.5\n",
       " 0.5\n",
       " 0.5\n",
       " 0.5"
      ]
     },
     "execution_count": 35,
     "metadata": {},
     "output_type": "execute_result"
    }
   ],
   "source": [
    "global_x = [0.5,0.5,0.5,0.5,0.5,0.5,0.5,0.5,0.5,0.5,]"
   ]
  },
  {
   "cell_type": "code",
   "execution_count": 36,
   "id": "815a3d7f",
   "metadata": {},
   "outputs": [
    {
     "data": {
      "text/plain": [
       "5"
      ]
     },
     "execution_count": 36,
     "metadata": {},
     "output_type": "execute_result"
    }
   ],
   "source": [
    "NMail = 10; # number of mails\n",
    "tM = 30; # total time steps\n",
    "L = 6; # number of sites\n",
    "numA = 5 # mail A number\n",
    "numB = NMail - numA # mail B number"
   ]
  },
  {
   "cell_type": "code",
   "execution_count": 37,
   "id": "fd4c2c00",
   "metadata": {},
   "outputs": [
    {
     "data": {
      "text/plain": [
       "fitness_function_node_2 (generic function with 1 method)"
      ]
     },
     "execution_count": 37,
     "metadata": {},
     "output_type": "execute_result"
    }
   ],
   "source": [
    "#2 values\n",
    "function fitness_function_node_2(x)\n",
    "    A = zeros(Float64,8,8);\n",
    "    A[1,2] = 1;\n",
    "    \n",
    "    A[2,3] = sigmoid(x[1]);\n",
    "    A[2,5] = sigmoid(x[2]);\n",
    "    A[2,3] = A[2,3] * (1.0/(A[2,3] + A[2,5]))\n",
    "    A[2,5] = A[2,5] * (1.0/(A[2,3] + A[2,5]))\n",
    "    \n",
    "    A[3,2] = sigmoid(global_x[3]);\n",
    "    A[3,4] = sigmoid(global_x[4]);\n",
    "    A[3,6] = sigmoid(global_x[5]);\n",
    "    A[3,2] = A[3,2] * (1.0/(A[3,2] + A[3,4] + A[3,6]))\n",
    "    A[3,4] = A[3,4] * (1.0/(A[3,2] + A[3,4] + A[3,6]))\n",
    "    A[3,6] = A[3,6] * (1.0/(A[3,2] + A[3,4] + A[3,6]))\n",
    "    \n",
    "    A[4,3] = 1; #if A mail reaches B(3), mail returns to station 2 with 100% probability.\n",
    "    \n",
    "    A[5,2] = sigmoid(global_x[6]);\n",
    "    A[5,6] = sigmoid(global_x[7]);\n",
    "    A[5,2] = A[5,2] * (1.0/(A[5,2] + A[5,6]))\n",
    "    A[5,6] = A[5,6] * (1.0/(A[5,2] + A[5,6]))\n",
    "    \n",
    "    A[6,3] = sigmoid(global_x[8]);\n",
    "    A[6,5] = sigmoid(global_x[9]);\n",
    "    A[6,7] = sigmoid(global_x[10]);\n",
    "    A[6,3] = A[6,3] * (1.0/(A[6,3] + A[6,5] + A[6,7]))\n",
    "    A[6,5] = A[6,5] * (1.0/(A[6,3] + A[6,5] + A[6,7]))\n",
    "    A[6,7] = A[6,7] * (1.0/(A[6,3] + A[6,5] + A[6,7]))\n",
    "    \n",
    "    A[7,8] = 1;\n",
    "\n",
    "    C = connect_matrix_2D();\n",
    "    B = connect_matrix_B();\n",
    "    loss = 0.0\n",
    "    for i = 1:100\n",
    "        H = initialize_H(NMail,tM);\n",
    "        for it = 1:tM+1\n",
    "            H = next_step_k(H,it,C,L,numA,conn_matA,conn_matB);\n",
    "        end\n",
    "        if(count(x->x==7, H[:,end]) == 0)\n",
    "            loss += 2\n",
    "        else\n",
    "            loss += 1.0/(count(x->x==7, H[:,end]))\n",
    "        end\n",
    "    end\n",
    "    return loss\n",
    "end"
   ]
  },
  {
   "cell_type": "code",
   "execution_count": 38,
   "id": "f508082e",
   "metadata": {},
   "outputs": [
    {
     "data": {
      "text/plain": [
       "fitness_function_node_3 (generic function with 1 method)"
      ]
     },
     "execution_count": 38,
     "metadata": {},
     "output_type": "execute_result"
    }
   ],
   "source": [
    "#2 values\n",
    "function fitness_function_node_3(x)\n",
    "    A = zeros(Float64,8,8);\n",
    "    A[1,2] = 1;\n",
    "    \n",
    "    A[2,3] = sigmoid(global_x[1]);\n",
    "    A[2,5] = sigmoid(global_x[2]);\n",
    "    A[2,3] = A[2,3] * (1.0/(A[2,3] + A[2,5]))\n",
    "    A[2,5] = A[2,5] * (1.0/(A[2,3] + A[2,5]))\n",
    "    \n",
    "    A[3,2] = sigmoid(x[1]);\n",
    "    A[3,4] = sigmoid(x[2]);\n",
    "    A[3,6] = sigmoid(x[3]);\n",
    "    A[3,2] = A[3,2] * (1.0/(A[3,2] + A[3,4] + A[3,6]))\n",
    "    A[3,4] = A[3,4] * (1.0/(A[3,2] + A[3,4] + A[3,6]))\n",
    "    A[3,6] = A[3,6] * (1.0/(A[3,2] + A[3,4] + A[3,6]))\n",
    "    \n",
    "    A[4,3] = 1; #if A mail reaches B(3), mail returns to station 2 with 100% probability.\n",
    "    \n",
    "    A[5,2] = sigmoid(global_x[6]);\n",
    "    A[5,6] = sigmoid(global_x[7]);\n",
    "    A[5,2] = A[5,2] * (1.0/(A[5,2] + A[5,6]))\n",
    "    A[5,6] = A[5,6] * (1.0/(A[5,2] + A[5,6]))\n",
    "    \n",
    "    A[6,3] = sigmoid(global_x[8]);\n",
    "    A[6,5] = sigmoid(global_x[9]);\n",
    "    A[6,7] = sigmoid(global_x[10]);\n",
    "    A[6,3] = A[6,3] * (1.0/(A[6,3] + A[6,5] + A[6,7]))\n",
    "    A[6,5] = A[6,5] * (1.0/(A[6,3] + A[6,5] + A[6,7]))\n",
    "    A[6,7] = A[6,7] * (1.0/(A[6,3] + A[6,5] + A[6,7]))\n",
    "    \n",
    "    A[7,8] = 1;\n",
    "\n",
    "    C = connect_matrix_2D();\n",
    "    B = connect_matrix_B();\n",
    "    loss = 0.0\n",
    "    for i = 1:100\n",
    "        H = initialize_H(NMail,tM);\n",
    "        for it = 1:tM+1\n",
    "            H = next_step_k(H,it,C,L,numA,conn_matA,conn_matB);\n",
    "        end\n",
    "        if(count(x->x==7, H[:,end]) == 0)\n",
    "            loss += 2\n",
    "        else\n",
    "            loss += 1.0/(count(x->x==7, H[:,end]))\n",
    "        end\n",
    "    end\n",
    "    return loss\n",
    "end"
   ]
  },
  {
   "cell_type": "code",
   "execution_count": 39,
   "id": "0418e900",
   "metadata": {},
   "outputs": [
    {
     "data": {
      "text/plain": [
       "fitness_function_node_5 (generic function with 1 method)"
      ]
     },
     "execution_count": 39,
     "metadata": {},
     "output_type": "execute_result"
    }
   ],
   "source": [
    "function fitness_function_node_5(x)\n",
    "    A = zeros(Float64,8,8);\n",
    "    A[1,2] = 1;\n",
    "    \n",
    "    A[2,3] = sigmoid(global_x[1]);\n",
    "    A[2,5] = sigmoid(global_x[2]);\n",
    "    A[2,3] = A[2,3] * (1.0/(A[2,3] + A[2,5]))\n",
    "    A[2,5] = A[2,5] * (1.0/(A[2,3] + A[2,5]))\n",
    "    \n",
    "    A[3,2] = sigmoid(global_x[3]);\n",
    "    A[3,4] = sigmoid(global_x[4]);\n",
    "    A[3,6] = sigmoid(global_x[5]);\n",
    "    A[3,2] = A[3,2] * (1.0/(A[3,2] + A[3,4] + A[3,6]))\n",
    "    A[3,4] = A[3,4] * (1.0/(A[3,2] + A[3,4] + A[3,6]))\n",
    "    A[3,6] = A[3,6] * (1.0/(A[3,2] + A[3,4] + A[3,6]))\n",
    "    \n",
    "    A[4,3] = 1; #if A mail reaches B(3), mail returns to station 2 with 100% probability.\n",
    "    \n",
    "    A[5,2] = sigmoid(x[1]);\n",
    "    A[5,6] = sigmoid(x[2]);\n",
    "    A[5,2] = A[5,2] * (1.0/(A[5,2] + A[5,6]))\n",
    "    A[5,6] = A[5,6] * (1.0/(A[5,2] + A[5,6]))\n",
    "    \n",
    "    A[6,3] = sigmoid(global_x[8]);\n",
    "    A[6,5] = sigmoid(global_x[9]);\n",
    "    A[6,7] = sigmoid(global_x[10]);\n",
    "    A[6,3] = A[6,3] * (1.0/(A[6,3] + A[6,5] + A[6,7]))\n",
    "    A[6,5] = A[6,5] * (1.0/(A[6,3] + A[6,5] + A[6,7]))\n",
    "    A[6,7] = A[6,7] * (1.0/(A[6,3] + A[6,5] + A[6,7]))\n",
    "    \n",
    "    A[7,8] = 1;\n",
    "\n",
    "    C = connect_matrix_2D();\n",
    "    B = connect_matrix_B();\n",
    "    loss = 0.0\n",
    "    for i = 1:100\n",
    "        H = initialize_H(NMail,tM);\n",
    "        for it = 1:tM+1\n",
    "            H = next_step_k(H,it,C,L,numA,conn_matA,conn_matB);\n",
    "        end\n",
    "        if(count(x->x==7, H[:,end]) == 0)\n",
    "            loss += 2\n",
    "        else\n",
    "            loss += 1.0/(count(x->x==7, H[:,end]))\n",
    "        end\n",
    "    end\n",
    "    return loss\n",
    "end"
   ]
  },
  {
   "cell_type": "code",
   "execution_count": 40,
   "id": "219ca577",
   "metadata": {},
   "outputs": [
    {
     "data": {
      "text/plain": [
       "fitness_function_node_6 (generic function with 1 method)"
      ]
     },
     "execution_count": 40,
     "metadata": {},
     "output_type": "execute_result"
    }
   ],
   "source": [
    "function fitness_function_node_6(x)\n",
    "    A = zeros(Float64,8,8);\n",
    "    A[1,2] = 1;\n",
    "    \n",
    "    A[2,3] = sigmoid(global_x[1]);\n",
    "    A[2,5] = sigmoid(global_x[2]);\n",
    "    A[2,3] = A[2,3] * (1.0/(A[2,3] + A[2,5]))\n",
    "    A[2,5] = A[2,5] * (1.0/(A[2,3] + A[2,5]))\n",
    "    \n",
    "    A[3,2] = sigmoid(global_x[3]);\n",
    "    A[3,4] = sigmoid(global_x[4]);\n",
    "    A[3,6] = sigmoid(global_x[5]);\n",
    "    A[3,2] = A[3,2] * (1.0/(A[3,2] + A[3,4] + A[3,6]))\n",
    "    A[3,4] = A[3,4] * (1.0/(A[3,2] + A[3,4] + A[3,6]))\n",
    "    A[3,6] = A[3,6] * (1.0/(A[3,2] + A[3,4] + A[3,6]))\n",
    "    \n",
    "    A[4,3] = 1; #if A mail reaches B(3), mail returns to station 2 with 100% probability.\n",
    "    \n",
    "    A[5,2] = sigmoid(global_x[6]);\n",
    "    A[5,6] = sigmoid(global_x[7]);\n",
    "    A[5,2] = A[5,2] * (1.0/(A[5,2] + A[5,6]))\n",
    "    A[5,6] = A[5,6] * (1.0/(A[5,2] + A[5,6]))\n",
    "    \n",
    "    A[6,3] = sigmoid(x[1]);\n",
    "    A[6,5] = sigmoid(x[2]);\n",
    "    A[6,7] = sigmoid(x[3]);\n",
    "    A[6,3] = A[6,3] * (1.0/(A[6,3] + A[6,5] + A[6,7]))\n",
    "    A[6,5] = A[6,5] * (1.0/(A[6,3] + A[6,5] + A[6,7]))\n",
    "    A[6,7] = A[6,7] * (1.0/(A[6,3] + A[6,5] + A[6,7]))\n",
    "    \n",
    "    A[7,8] = 1;\n",
    "\n",
    "    C = connect_matrix_2D();\n",
    "    B = connect_matrix_B();\n",
    "    loss = 0.0\n",
    "    for i = 1:100\n",
    "        H = initialize_H(NMail,tM);\n",
    "        for it = 1:tM+1\n",
    "            H = next_step_k(H,it,C,L,numA,conn_matA,conn_matB);\n",
    "        end\n",
    "        if(count(x->x==7, H[:,end]) == 0)\n",
    "            loss += 2\n",
    "        else\n",
    "            loss += 1.0/(count(x->x==7, H[:,end]))\n",
    "        end\n",
    "    end\n",
    "    return loss\n",
    "end"
   ]
  },
  {
   "cell_type": "code",
   "execution_count": 41,
   "id": "447c9d22",
   "metadata": {},
   "outputs": [
    {
     "data": {
      "text/plain": [
       "test_function_2 (generic function with 1 method)"
      ]
     },
     "execution_count": 41,
     "metadata": {},
     "output_type": "execute_result"
    }
   ],
   "source": [
    "function test_function_2()\n",
    "    A = zeros(Float64,8,8);\n",
    "    A[1,2] = 1;\n",
    "    \n",
    "    A[2,3] = sigmoid(global_x[1]);\n",
    "    A[2,5] = sigmoid(global_x[2]);\n",
    "    A[2,3] = A[2,3] * (1.0/(A[2,3] + A[2,5]))\n",
    "    A[2,5] = A[2,5] * (1.0/(A[2,3] + A[2,5]))\n",
    "    \n",
    "    A[3,2] = sigmoid(global_x[3]);\n",
    "    A[3,4] = sigmoid(global_x[4]);\n",
    "    A[3,6] = sigmoid(global_x[5]);\n",
    "    A[3,2] = A[3,2] * (1.0/(A[3,2] + A[3,4] + A[3,6]))\n",
    "    A[3,4] = A[3,4] * (1.0/(A[3,2] + A[3,4] + A[3,6]))\n",
    "    A[3,6] = A[3,6] * (1.0/(A[3,2] + A[3,4] + A[3,6]))\n",
    "    \n",
    "    A[4,3] = 1; #if A mail reaches B(3), mail returns to station 2 with 100% probability.\n",
    "    \n",
    "    A[5,2] = sigmoid(global_x[6]);\n",
    "    A[5,6] = sigmoid(global_x[7]);\n",
    "    A[5,2] = A[5,2] * (1.0/(A[5,2] + A[5,6]))\n",
    "    A[5,6] = A[5,6] * (1.0/(A[5,2] + A[5,6]))\n",
    "    \n",
    "    A[6,3] = sigmoid(global_x[8]);\n",
    "    A[6,5] = sigmoid(global_x[9]);\n",
    "    A[6,7] = sigmoid(global_x[10]);\n",
    "    A[6,3] = A[6,3] * (1.0/(A[6,3] + A[6,5] + A[6,7]))\n",
    "    A[6,5] = A[6,5] * (1.0/(A[6,3] + A[6,5] + A[6,7]))\n",
    "    A[6,7] = A[6,7] * (1.0/(A[6,3] + A[6,5] + A[6,7]))\n",
    "    \n",
    "    A[7,8] = 1;\n",
    "\n",
    "    C = connect_matrix_2D();\n",
    "    B = connect_matrix_B();\n",
    "    loss = 0.0\n",
    "    for i = 1:100\n",
    "        H = initialize_H(NMail,tM);\n",
    "        for it = 1:tM+1\n",
    "            H = next_step_k(H,it,C,L,numA,conn_matA,conn_matB);\n",
    "        end\n",
    "        if(count(x->x==7, H[:,end]) == 0)\n",
    "            loss += 2\n",
    "        else\n",
    "            loss += 1.0/(count(x->x==7, H[:,end]))\n",
    "        end\n",
    "    end\n",
    "    return loss\n",
    "end"
   ]
  },
  {
   "cell_type": "code",
   "execution_count": 42,
   "id": "891805f3",
   "metadata": {},
   "outputs": [
    {
     "data": {
      "text/plain": [
       "test_function_3 (generic function with 1 method)"
      ]
     },
     "execution_count": 42,
     "metadata": {},
     "output_type": "execute_result"
    }
   ],
   "source": [
    "function test_function_3(x)\n",
    "    A = zeros(Float64,8,8);\n",
    "    A[1,2] = 1;\n",
    "    A[2,3] = x[1];\n",
    "    A[2,5] = x[2];\n",
    "    A[3,2] = x[3];\n",
    "    A[3,4] = x[4];\n",
    "    A[3,6] = x[5];\n",
    "    A[4,3] = 1; #if A mail reaches B(3), mail returns to station 2 with 100% probability.\n",
    "    A[5,2] = x[6];\n",
    "    A[5,6] = x[7];\n",
    "    A[6,3] = x[8];\n",
    "    A[6,5] = x[9];\n",
    "    A[6,7] = x[10];\n",
    "    A[7,8] = 1;\n",
    "\n",
    "    C = connect_matrix_2D();\n",
    "    B = connect_matrix_B();\n",
    "    loss = 0.0\n",
    "    for i = 1:100\n",
    "        H = initialize_H(NMail,tM);\n",
    "        for it = 1:tM+1\n",
    "            H = next_step_k(H,it,C,L,numA,conn_matA,conn_matB);\n",
    "        end\n",
    "        if(count(x->x==7, H[:,end]) == 0)\n",
    "            loss += 2\n",
    "        else\n",
    "            loss += 1.0/(count(x->x==7, H[:,end]))\n",
    "        end\n",
    "    end\n",
    "    return loss\n",
    "end"
   ]
  },
  {
   "cell_type": "code",
   "execution_count": 43,
   "id": "738f7c92",
   "metadata": {},
   "outputs": [
    {
     "data": {
      "text/plain": [
       "individual_test (generic function with 1 method)"
      ]
     },
     "execution_count": 43,
     "metadata": {},
     "output_type": "execute_result"
    }
   ],
   "source": [
    "function individual_test()\n",
    "    A = zeros(Float64,8,8);\n",
    "    A[1,2] = 1;\n",
    "    \n",
    "    A[2,3] = sigmoid(global_x[1]);\n",
    "    A[2,5] = sigmoid(global_x[2]);\n",
    "    A[2,3] = A[2,3] * (1.0/(A[2,3] + A[2,5]))\n",
    "    A[2,5] = A[2,5] * (1.0/(A[2,3] + A[2,5]))\n",
    "    \n",
    "    A[3,2] = sigmoid(global_x[3]);\n",
    "    A[3,4] = sigmoid(global_x[4]);\n",
    "    A[3,6] = sigmoid(global_x[5]);\n",
    "    A[3,2] = A[3,2] * (1.0/(A[3,2] + A[3,4] + A[3,6]))\n",
    "    A[3,4] = A[3,4] * (1.0/(A[3,2] + A[3,4] + A[3,6]))\n",
    "    A[3,6] = A[3,6] * (1.0/(A[3,2] + A[3,4] + A[3,6]))\n",
    "    \n",
    "    A[4,3] = 1; #if A mail reaches B(3), mail returns to station 2 with 100% probability.\n",
    "    \n",
    "    A[5,2] = sigmoid(global_x[6]);\n",
    "    A[5,6] = sigmoid(global_x[7]);\n",
    "    A[5,2] = A[5,2] * (1.0/(A[5,2] + A[5,6]))\n",
    "    A[5,6] = A[5,6] * (1.0/(A[5,2] + A[5,6]))\n",
    "    \n",
    "    A[6,3] = sigmoid(global_x[8]);\n",
    "    A[6,5] = sigmoid(global_x[9]);\n",
    "    A[6,7] = sigmoid(global_x[10]);\n",
    "    A[6,3] = A[6,3] * (1.0/(A[6,3] + A[6,5] + A[6,7]))\n",
    "    A[6,5] = A[6,5] * (1.0/(A[6,3] + A[6,5] + A[6,7]))\n",
    "    A[6,7] = A[6,7] * (1.0/(A[6,3] + A[6,5] + A[6,7]))\n",
    "    \n",
    "    A[7,8] = 1;\n",
    "\n",
    "    C = connect_matrix_2D();\n",
    "    B = connect_matrix_B();\n",
    "    H = initialize_H(NMail,tM);\n",
    "    for it = 1:tM+1\n",
    "        H = next_step_k(H,it,C,L,numA,conn_matA,conn_matB);\n",
    "    end\n",
    "    return H\n",
    "end"
   ]
  },
  {
   "cell_type": "code",
   "execution_count": 44,
   "id": "d300cfab",
   "metadata": {},
   "outputs": [
    {
     "data": {
      "text/plain": [
       "10-element Vector{Float64}:\n",
       " 0.5\n",
       " 0.5\n",
       " 0.5\n",
       " 0.5\n",
       " 0.5\n",
       " 0.5\n",
       " 0.5\n",
       " 0.5\n",
       " 0.5\n",
       " 0.5"
      ]
     },
     "execution_count": 44,
     "metadata": {},
     "output_type": "execute_result"
    }
   ],
   "source": [
    "global_x = [0.5,0.5,0.5,0.5,0.5,0.5,0.5,0.5,0.5,0.5,]"
   ]
  },
  {
   "cell_type": "code",
   "execution_count": 45,
   "id": "9e05bde0",
   "metadata": {},
   "outputs": [],
   "source": [
    "for i = 1:50\n",
    "    node = rand([2,3,5,6])\n",
    "    if(node == 2)\n",
    "        result = Optim.optimize(fitness_function_node_2, global_x[1:2], SimulatedAnnealing(), Optim.Options(iterations=100))\n",
    "        global_x[1:2] = Optim.minimizer(result)\n",
    "    elseif(node == 3)\n",
    "        result = Optim.optimize(fitness_function_node_3, global_x[3:5], SimulatedAnnealing(), Optim.Options(iterations=100))\n",
    "        global_x[3:5] = Optim.minimizer(result)\n",
    "    elseif(node == 5)\n",
    "        result = Optim.optimize(fitness_function_node_5, global_x[6:7], SimulatedAnnealing(), Optim.Options(iterations=100))\n",
    "        global_x[6:7] = Optim.minimizer(result)\n",
    "    else\n",
    "        result = Optim.optimize(fitness_function_node_6, global_x[8:10], SimulatedAnnealing(), Optim.Options(iterations=100))\n",
    "        global_x[8:10] = Optim.minimizer(result)\n",
    "    end\n",
    "    \n",
    "end"
   ]
  },
  {
   "cell_type": "code",
   "execution_count": 56,
   "id": "7f62e10b",
   "metadata": {},
   "outputs": [
    {
     "data": {
      "text/plain": [
       "19.52301587301588"
      ]
     },
     "execution_count": 56,
     "metadata": {},
     "output_type": "execute_result"
    }
   ],
   "source": [
    "test_function_2()"
   ]
  },
  {
   "cell_type": "code",
   "execution_count": 57,
   "id": "f3f67561",
   "metadata": {},
   "outputs": [
    {
     "data": {
      "text/plain": [
       "32.078571428571436"
      ]
     },
     "execution_count": 57,
     "metadata": {},
     "output_type": "execute_result"
    }
   ],
   "source": [
    "test_function_3([0.5,0.5,0.5,0.5,0.5,0.5,0.5,0.5,0.5,0.5])"
   ]
  },
  {
   "cell_type": "code",
   "execution_count": 58,
   "id": "272061d0",
   "metadata": {},
   "outputs": [
    {
     "data": {
      "text/plain": [
       "10×32 Matrix{Int16}:\n",
       " 0  0  0  0  0  0  0  0  0  0  0  0  0  …  2  3  2  3  3  3  2  3  3  3  3  3\n",
       " 0  0  0  0  0  0  0  0  0  0  0  0  0     0  0  0  1  2  1  1  1  2  2  5  2\n",
       " 0  0  0  0  0  0  0  0  0  0  0  1  4     7  7  7  7  7  7  7  7  7  7  7  7\n",
       " 0  0  0  1  4  1  4  5  6  7  7  7  7     7  7  7  7  7  7  7  7  7  7  7  7\n",
       " 0  0  0  0  0  0  0  0  0  0  0  0  0     4  1  4  4  4  4  4  4  4  1  4  1\n",
       " 0  0  0  0  0  0  0  0  0  0  0  0  0  …  5  6  5  6  5  6  5  6  5  6  6  6\n",
       " 0  1  2  3  7  7  7  7  7  7  7  7  7     7  7  7  7  7  7  7  7  7  7  7  7\n",
       " 0  0  0  0  0  0  0  0  0  0  0  0  0     7  7  7  7  7  7  7  7  7  7  7  7\n",
       " 0  0  0  0  0  0  0  1  2  3  7  7  7     7  7  7  7  7  7  7  7  7  7  7  7\n",
       " 0  0  0  0  0  0  0  0  0  1  2  5  2     7  7  7  7  7  7  7  7  7  7  7  7"
      ]
     },
     "execution_count": 58,
     "metadata": {},
     "output_type": "execute_result"
    }
   ],
   "source": [
    "individual_test()"
   ]
  },
  {
   "cell_type": "code",
   "execution_count": null,
   "id": "b8676e87",
   "metadata": {},
   "outputs": [],
   "source": []
  }
 ],
 "metadata": {
  "kernelspec": {
   "display_name": "Julia 1.7.0",
   "language": "julia",
   "name": "julia-1.7"
  },
  "language_info": {
   "file_extension": ".jl",
   "mimetype": "application/julia",
   "name": "julia",
   "version": "1.7.0"
  }
 },
 "nbformat": 4,
 "nbformat_minor": 5
}
