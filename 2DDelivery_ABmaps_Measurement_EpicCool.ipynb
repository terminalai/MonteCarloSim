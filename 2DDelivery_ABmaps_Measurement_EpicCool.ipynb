{
 "cells": [
  {
   "cell_type": "markdown",
   "metadata": {},
   "source": [
    "# Simulation of 2D mail delivery system with Monte Carlo\n",
    "> By **Team EpicCool** (Zayan, Kabir and Prannaya)<br>\n",
    "> _8 December 2021_"
   ]
  },
  {
   "cell_type": "markdown",
   "metadata": {
    "heading_collapsed": true
   },
   "source": [
    "## Imports"
   ]
  },
  {
   "cell_type": "code",
   "execution_count": null,
   "metadata": {
    "deletable": false,
    "editable": false,
    "hidden": true,
    "jupyter": {
     "outputs_hidden": true
    },
    "run_control": {
     "frozen": true
    },
    "scrolled": true,
    "tags": []
   },
   "outputs": [],
   "source": [
    "import Pkg;\n",
    "Pkg.add(\"Plots\")\n",
    "Pkg.add(\"Statistics\")\n",
    "Pkg.add(\"StatsBase\")\n",
    "Pkg.add(\"WebIO\")\n",
    "Pkg.add(\"DelimitedFiles\") \n",
    "Pkg.add(\"PyPlot\") #on-the-fly animation using pyplot backend seems less flickers\n",
    "Pkg.build(\"PyCall\")"
   ]
  },
  {
   "cell_type": "code",
   "execution_count": 1,
   "metadata": {
    "ExecuteTime": {
     "end_time": "2021-12-08T15:19:23.107000+08:00",
     "start_time": "2021-12-08T07:18:45.411Z"
    },
    "hidden": true
   },
   "outputs": [],
   "source": [
    "using Plots, Statistics,Random, StatsBase, DelimitedFiles"
   ]
  },
  {
   "cell_type": "markdown",
   "metadata": {
    "heading_collapsed": true,
    "tags": []
   },
   "source": [
    "## Rules and policy"
   ]
  },
  {
   "cell_type": "markdown",
   "metadata": {
    "hidden": true,
    "jupyter": {
     "source_hidden": true
    },
    "tags": []
   },
   "source": [
    "In this subject, we consider a mail delivery system where mails are delivered on a network of connected stations,  \n",
    "and they can only be delivered from station to station, say via mail service workers on horses.   \n",
    "It starts at $0$ (the source), with two types of mails (A and B. It can be more than two types in a more complicated setup).   \n",
    "Stations $3$(B) and $6$(A) are the respective destinations. After going to the correct destination, the mails are sent to $7$ (the drain).  \n",
    "Here a few basic rules for delivery the mails:  \n",
    "- For each time step, the mails move only one step.\n",
    "- One station can have at most one mail at each time step.\n",
    "- The mail is allowed to be delivered to any of the available connected stations.\n",
    "- The probabilities of going to any station is user-defined\n",
    "\n"
   ]
  },
  {
   "cell_type": "markdown",
   "metadata": {
    "hidden": true
   },
   "source": [
    "<img src='assets/cmap.gif' width=\"400\" height=\"300\">"
   ]
  },
  {
   "cell_type": "markdown",
   "metadata": {
    "heading_collapsed": true,
    "tags": []
   },
   "source": [
    "## Core functions for delivery algorithm"
   ]
  },
  {
   "cell_type": "markdown",
   "metadata": {
    "hidden": true,
    "jupyter": {
     "source_hidden": true
    },
    "tags": []
   },
   "source": [
    "\n",
    "\n",
    "The connectivity matrix describes all connections of the stations to one another.  \n",
    "We indicate 1 in the corresponding row and columns to indicate a connection.  \n",
    "For eg. where 1 connects to 2, the matrix (row,column)->(1,2)=1  \n",
    "At this stage, this is manually input.  \n",
    "The connectivity matrix describing the above node connections that **allows for all directions** is as follows:\n"
   ]
  },
  {
   "cell_type": "markdown",
   "metadata": {
    "heading_collapsed": true,
    "hidden": true
   },
   "source": [
    "### Connectivity matrix for the delivery path (tested)\n"
   ]
  },
  {
   "cell_type": "code",
   "execution_count": 2,
   "metadata": {
    "ExecuteTime": {
     "end_time": "2021-12-08T14:43:29.708000+08:00",
     "start_time": "2021-12-08T06:42:41.406Z"
    },
    "hidden": true,
    "jupyter": {
     "source_hidden": true
    },
    "tags": []
   },
   "outputs": [
    {
     "data": {
      "text/plain": [
       "connect_matrix_2D (generic function with 1 method)"
      ]
     },
     "execution_count": 2,
     "metadata": {},
     "output_type": "execute_result"
    }
   ],
   "source": [
    "\n",
    "function connect_matrix_2D()\n",
    "    #1st row is source, last row is drain. all entries are connected to source, all exits are connected to drain!\n",
    "    C = zeros(Float64,8,8);\n",
    "    C[1,2] = 1;\n",
    "    C[2,5] = 1;\n",
    "    C[2,3] = 1;\n",
    "    C[5,6] = 1;\n",
    "    C[3,6] = 1;\n",
    "    C[3,4] = 1;\n",
    "    C[6,7] = 1;\n",
    "    C[7,8] = 1;\n",
    "    C[4,8] = 1;\n",
    "    C[5,2] = 1;\n",
    "    C[3,2] = 1;\n",
    "    C[6,5] = 1;\n",
    "    C[6,3] = 1;\n",
    "    C[4,3] = 1;\n",
    "    C[7,6] = 1;\n",
    "\n",
    "    return C\n",
    "end\n"
   ]
  },
  {
   "cell_type": "code",
   "execution_count": 3,
   "metadata": {
    "ExecuteTime": {
     "end_time": "2021-12-08T14:43:29.957000+08:00",
     "start_time": "2021-12-08T06:42:41.410Z"
    },
    "hidden": true,
    "tags": []
   },
   "outputs": [
    {
     "data": {
      "text/plain": [
       "connect_matrix_A (generic function with 1 method)"
      ]
     },
     "execution_count": 3,
     "metadata": {},
     "output_type": "execute_result"
    }
   ],
   "source": [
    "function connect_matrix_A()\n",
    "    A = zeros(Float64,8,8);\n",
    "    A[1,2] = 1;\n",
    "    \n",
    "    A[2,5] = 0.9;\n",
    "    A[2,3] = 0.1;\n",
    "    \n",
    "    A[5,6] = 0.9;\n",
    "    A[5,2] = 0.1;\n",
    "    \n",
    "    A[6,7] = 0.7;\n",
    "    A[6,5] = 0.2;\n",
    "    A[6,3] = 0.1;\n",
    "    \n",
    "    A[3,6] = 0.9;\n",
    "    A[3,4] = 0;\n",
    "    A[3,2] = 0.1;\n",
    "    \n",
    "    A[4,8] = 0;\n",
    "    A[4,3] = 1;\n",
    "    \n",
    "    A[7,8] = 1;\n",
    "    A[7,6] = 0;\n",
    "    return A\n",
    "end\n"
   ]
  },
  {
   "cell_type": "code",
   "execution_count": 4,
   "metadata": {
    "ExecuteTime": {
     "end_time": "2021-12-08T14:43:30.213000+08:00",
     "start_time": "2021-12-08T06:42:41.415Z"
    },
    "hidden": true,
    "tags": []
   },
   "outputs": [
    {
     "data": {
      "text/plain": [
       "connect_matrix_B (generic function with 1 method)"
      ]
     },
     "execution_count": 4,
     "metadata": {},
     "output_type": "execute_result"
    }
   ],
   "source": [
    "function connect_matrix_B()\n",
    "    B = zeros(Float64,8,8);\n",
    "    B[1,2] = 1;\n",
    "    \n",
    "    B[2,5] = 0.1;\n",
    "    B[2,3] = 0.9;\n",
    "    \n",
    "    B[5,6] = 0.1;\n",
    "    B[5,2] = 0.9;\n",
    "    \n",
    "    B[6,7] = 0;\n",
    "    B[6,5] = 0.1;\n",
    "    B[6,3] = 0.9;\n",
    "    \n",
    "    B[3,6] = 0.1;\n",
    "    B[3,4] = 0.7;\n",
    "    B[3,2] = 0.2;\n",
    "    \n",
    "    B[4,8] = 1;\n",
    "    B[4,3] = 0;\n",
    "    \n",
    "    B[7,8] = 0;\n",
    "    B[7,6] = 1;\n",
    "    return B\n",
    "end"
   ]
  },
  {
   "cell_type": "markdown",
   "metadata": {
    "heading_collapsed": true,
    "hidden": true
   },
   "source": [
    "### Function that initializes the matrix of histories (tested)\n",
    "Entries of history matrix, $H$, are initialized to 0.  \n",
    "All mails get ready at position 0.  \n",
    "This matrix stores the trajectory of the mails across time.  \n",
    "Each **row** corresponds to a mail in the system and each **column** stores the positions of all the mails at a snapshot in time.  \n",
    "Going across the row tells you the position of a particular mail across time."
   ]
  },
  {
   "cell_type": "code",
   "execution_count": 5,
   "metadata": {
    "ExecuteTime": {
     "end_time": "2021-12-08T14:43:30.502000+08:00",
     "start_time": "2021-12-08T06:42:41.420Z"
    },
    "hidden": true
   },
   "outputs": [
    {
     "data": {
      "text/plain": [
       "initialize_H (generic function with 1 method)"
      ]
     },
     "execution_count": 5,
     "metadata": {},
     "output_type": "execute_result"
    }
   ],
   "source": [
    "function initialize_H(NC,tM)\n",
    "    # tM maximum number of time steps\n",
    "    # NC is the number of mails\n",
    "    return H = zeros(Int16,NC, tM+2); #this tM+2 can be alterd to taste    \n",
    "end"
   ]
  },
  {
   "cell_type": "markdown",
   "metadata": {
    "heading_collapsed": true,
    "hidden": true
   },
   "source": [
    "### Function that finds available next positions (tested)\n",
    "Given a mail's position (for example, ip), the following procedures are used to determine the available positions\n",
    "- Determine the **reachable positions** by inspecting the corresponding row of the connectivity matrix, $C$\n",
    "- Determine the **occupied positions** by inspecting the column of history matrix, $H$, corresponds to the time step.  \n",
    "However, $0$, $L+1$ are excluded.  \n",
    "Recall the position $0$ is the source which hosts the awaiting of mails, and $L+1$ is for the drain of mails, respectively. \n",
    "- **Positions available** are the positions which are reachable but not occupied. Equivalently, set of reachable subtract set of occupied."
   ]
  },
  {
   "cell_type": "code",
   "execution_count": 6,
   "metadata": {
    "ExecuteTime": {
     "end_time": "2021-12-08T14:43:30.725000+08:00",
     "start_time": "2021-12-08T06:42:41.424Z"
    },
    "hidden": true
   },
   "outputs": [
    {
     "data": {
      "text/plain": [
       "find_pos_available_k (generic function with 1 method)"
      ]
     },
     "execution_count": 6,
     "metadata": {},
     "output_type": "execute_result"
    }
   ],
   "source": [
    "function find_pos_available_k(ic,it,H,C,L,conn_mat)\n",
    "    ip = H[ic,it]+1\n",
    "    reachable_positions = C[ip,:]\n",
    "    vector_probabilities = conn_mat[ip,:]\n",
    "    occupied_positions = H[:,it].+1\n",
    "    reachable_positions[[i for i in occupied_positions]] .= 0\n",
    "    vector_positions = findall(x->x==1, reachable_positions)\n",
    "    vector_probabilities = vector_probabilities .* reachable_positions\n",
    "    vector_probabilities = vector_probabilities ./ sum(vector_probabilities)\n",
    "    vector_probabilities = vector_probabilities[[i for i in vector_positions]]\n",
    "    return vector_positions.-1, vector_probabilities\n",
    "end"
   ]
  },
  {
   "cell_type": "code",
   "execution_count": 7,
   "metadata": {
    "ExecuteTime": {
     "end_time": "2021-12-08T14:43:33.987000+08:00",
     "start_time": "2021-12-08T06:42:41.428Z"
    },
    "hidden": true
   },
   "outputs": [
    {
     "data": {
      "text/plain": [
       "([2, 4, 6], [0.1, 0.2, 0.7])"
      ]
     },
     "execution_count": 7,
     "metadata": {},
     "output_type": "execute_result"
    }
   ],
   "source": [
    "H = initialize_H(4, 10)\n",
    "H[1,1] = 7;\n",
    "H[2,1] = 5;\n",
    "H[3,1] = 3;\n",
    "C = connect_matrix_2D()\n",
    "conn_matA = connect_matrix_A()\n",
    "vec_pos, Avec_prob=find_pos_available_k(2,1,H,C,6,conn_matA) "
   ]
  },
  {
   "cell_type": "markdown",
   "metadata": {
    "heading_collapsed": true,
    "hidden": true,
    "tags": []
   },
   "source": [
    "### Function that delivers a single mail (tested)\n",
    "The mail worker first decides whether to deliver the mail according to the dictated probability. If so, it randomly picks one position from available positions and registers the intention into the corresponding column of history matrix, $H$. Note that, at this stage, the movement is not final due to possible conflicts with other mails."
   ]
  },
  {
   "cell_type": "code",
   "execution_count": 8,
   "metadata": {
    "ExecuteTime": {
     "end_time": "2021-12-08T14:43:34.309000+08:00",
     "start_time": "2021-12-08T06:42:41.433Z"
    },
    "hidden": true
   },
   "outputs": [
    {
     "data": {
      "text/plain": [
       "move_position_k (generic function with 1 method)"
      ]
     },
     "execution_count": 8,
     "metadata": {},
     "output_type": "execute_result"
    }
   ],
   "source": [
    "function move_position_k(ic,it,H,vec_pos, Avec_prob, conn_mat)\n",
    "    if size(vec_pos)[1] > 0\n",
    "        H[ic,it+1] = sample(vec_pos, Weights(Avec_prob))\n",
    "    else\n",
    "        H[ic,it+1] = H[ic, it]\n",
    "    end\n",
    "    return H\n",
    "end"
   ]
  },
  {
   "cell_type": "code",
   "execution_count": 9,
   "metadata": {
    "ExecuteTime": {
     "end_time": "2021-12-08T14:43:34.526000+08:00",
     "start_time": "2021-12-08T06:42:41.437Z"
    },
    "hidden": true
   },
   "outputs": [
    {
     "data": {
      "text/plain": [
       "deliver_mail_k (generic function with 1 method)"
      ]
     },
     "execution_count": 9,
     "metadata": {},
     "output_type": "execute_result"
    }
   ],
   "source": [
    "function deliver_mail_k(ic,numA,it,H,C,L,conn_matA,conn_matB)\n",
    "    if ic <= numA\n",
    "        vec_pos, vec_prob = find_pos_available_k(ic,it,H,C,L,conn_matA)\n",
    "    else\n",
    "        vec_pos, vec_prob = find_pos_available_k(ic,it,H,C,L,conn_matB)\n",
    "    end\n",
    "    \n",
    "    return move_position_k(ic,it,H,vec_pos,vec_prob, conn_matA)\n",
    "end"
   ]
  },
  {
   "cell_type": "markdown",
   "metadata": {
    "heading_collapsed": true,
    "hidden": true,
    "tags": []
   },
   "source": [
    "### Check for and resolve conflicts (tested)\n",
    "\n",
    "Given a position in the mail delivery path, following procedure is used to resolve conflicts:\n",
    "- Determine a list of mails delivering to the same station by inspecting the column of history matrix, $H$, correspond to current time step. For example, given $\\text{it}$ (time step) and $\\text{iL}$ (position of the station in connected network), the index of entries in $H[:,\\text{it}]==\\text{iL}$ are the mails which are going into the station iL.\n",
    "- More than one mails going into the same position constitue a conflict.\n",
    "- To resolve conflict, we randomly let one mail to move on and make the rest stay put.\n",
    "- Iterate over all positions in the connected delivery network, rinse and repeat."
   ]
  },
  {
   "cell_type": "code",
   "execution_count": 10,
   "metadata": {
    "ExecuteTime": {
     "end_time": "2021-12-08T14:43:34.760000+08:00",
     "start_time": "2021-12-08T06:42:41.443Z"
    },
    "hidden": true,
    "tags": []
   },
   "outputs": [
    {
     "data": {
      "text/plain": [
       "find_resolve_conflicts (generic function with 1 method)"
      ]
     },
     "execution_count": 10,
     "metadata": {},
     "output_type": "execute_result"
    }
   ],
   "source": [
    "function find_resolve_conflicts(H,L,it)\n",
    "    for iL = 1:L\n",
    "        conflicts = findall(x-> x==iL, H[:,it])\n",
    "        l = size(conflicts)[1]\n",
    "        if l > 1\n",
    "            choices_go_back = rand(1:l, l-1)\n",
    "            H[[i for i in choices_go_back], it] = H[[i for i in choices_go_back], it-1]\n",
    "        end\n",
    "    end\n",
    "    return H\n",
    "end\n",
    "\n"
   ]
  },
  {
   "cell_type": "markdown",
   "metadata": {
    "heading_collapsed": true,
    "hidden": true
   },
   "source": [
    "### Function that delivery all the mails (tested) \n",
    "All mails are to be delivered to the next station, and conflicts are resolved, the movements are final."
   ]
  },
  {
   "cell_type": "code",
   "execution_count": 11,
   "metadata": {
    "ExecuteTime": {
     "end_time": "2021-12-08T14:43:35.005000+08:00",
     "start_time": "2021-12-08T06:42:41.450Z"
    },
    "hidden": true
   },
   "outputs": [
    {
     "data": {
      "text/plain": [
       "next_step_k (generic function with 1 method)"
      ]
     },
     "execution_count": 11,
     "metadata": {},
     "output_type": "execute_result"
    }
   ],
   "source": [
    "function next_step_k(H,it,C,L,numA,conn_matA,conn_matB)\n",
    "    for ic = 1:size(H,1)\n",
    "        H = deliver_mail_k(ic,numA,it,H,C,L,conn_matA,conn_matB)\n",
    "    end\n",
    "    H = find_resolve_conflicts(H, L, it)\n",
    "    return H\n",
    "end"
   ]
  },
  {
   "cell_type": "markdown",
   "metadata": {
    "heading_collapsed": true
   },
   "source": [
    "## Example 1\n",
    "In this example, we simulate a delivery process consisting of two kinds of mails (A and B). They are supposed to be sent to two destinations."
   ]
  },
  {
   "cell_type": "code",
   "execution_count": 19,
   "metadata": {
    "ExecuteTime": {
     "end_time": "2021-12-08T14:59:46.735000+08:00",
     "start_time": "2021-12-08T06:59:46.623Z"
    },
    "hidden": true
   },
   "outputs": [
    {
     "data": {
      "text/plain": [
       "80×152 Matrix{Int16}:\n",
       " 0  1  1  1  1  1  1  1  1  1  1  1  1  …  6  6  6  6  6  6  6  6  6  6  6  5\n",
       " 0  0  0  0  0  0  0  0  0  0  0  0  0     5  5  5  5  5  5  5  5  5  5  5  5\n",
       " 0  1  1  1  1  1  1  1  1  1  1  1  1     1  1  4  4  4  4  4  4  6  5  5  5\n",
       " 0  1  1  1  1  1  1  1  1  1  1  1  1     5  5  5  5  6  6  6  5  5  5  5  5\n",
       " 0  0  0  0  0  0  0  0  0  0  0  5  5     5  5  5  5  5  5  5  5  5  5  5  5\n",
       " 0  0  0  0  0  0  6  6  6  6  6  6  6  …  5  5  5  5  5  5  5  5  5  5  5  5\n",
       " 0  1  1  1  1  1  1  1  1  5  6  6  6     5  5  5  5  5  5  5  5  5  5  5  5\n",
       " 0  1  1  5  5  5  5  5  5  5  6  6  6     6  6  6  6  6  5  5  5  5  5  5  5\n",
       " 0  0  0  0  4  4  2  2  6  6  6  6  6     1  1  1  1  1  1  6  6  6  6  6  5\n",
       " 0  0  0  0  0  0  0  0  0  0  0  0  0     5  5  5  5  5  5  6  6  6  6  6  5\n",
       " 0  1  4  4  4  4  4  4  4  4  4  4  4  …  5  5  6  5  5  5  6  6  6  6  6  5\n",
       " 0  1  4  4  4  4  4  4  4  4  4  4  4     5  5  2  2  2  2  2  2  4  5  4  5\n",
       " 0  0  0  0  0  5  5  5  6  5  5  5  5     2  5  6  6  6  6  6  6  6  6  6  5\n",
       " ⋮              ⋮              ⋮        ⋱  ⋮              ⋮              ⋮  \n",
       " 0  0  2  3  7  7  7  7  7  7  7  7  7     7  7  7  7  7  7  7  7  7  7  7  7\n",
       " 0  1  2  3  7  7  7  7  7  7  7  7  7     7  7  7  7  7  7  7  7  7  7  7  7\n",
       " 0  0  2  1  2  3  2  3  2  3  2  1  2  …  2  3  2  3  2  3  2  3  2  3  2  3\n",
       " 0  0  2  1  2  3  2  3  2  1  2  1  2     2  3  2  1  2  3  2  3  2  5  2  3\n",
       " 0  0  2  3  7  7  7  7  7  7  7  7  7     7  7  7  7  7  7  7  7  7  7  7  7\n",
       " 0  1  2  3  7  7  7  7  7  7  7  7  7     7  7  7  7  7  7  7  7  7  7  7  7\n",
       " 0  0  2  3  7  7  7  7  7  7  7  7  7     7  7  7  7  7  7  7  7  7  7  7  7\n",
       " 0  1  2  3  7  7  7  7  7  7  7  7  7  …  7  7  7  7  7  7  7  7  7  7  7  7\n",
       " 0  0  2  3  7  7  7  7  7  7  7  7  7     7  7  7  7  7  7  7  7  7  7  7  7\n",
       " 0  1  2  3  7  7  7  7  7  7  7  7  7     7  7  7  7  7  7  7  7  7  7  7  7\n",
       " 0  0  2  1  2  5  2  3  2  1  4  5  2     2  1  2  3  2  5  2  3  2  3  2  3\n",
       " 0  0  2  1  2  3  2  3  2  3  2  3  2     2  1  2  3  2  1  2  3  2  3  2  3"
      ]
     },
     "execution_count": 19,
     "metadata": {},
     "output_type": "execute_result"
    }
   ],
   "source": [
    "NMail = 80; # number of mails\n",
    "tM = 150; # total time steps\n",
    "L = 6; # number of sites\n",
    "numA = 20 # mail A number\n",
    "numB = NMail - numA # mail B number\n",
    "\n",
    "C = connect_matrix_2D();\n",
    "conn_matA = connect_matrix_A()\n",
    "conn_matB = connect_matrix_B()\n",
    "H = initialize_H(NMail,tM);\n",
    "\n",
    "for it = 1:tM+1\n",
    "    H = next_step_k(H,it,C,L,numA,conn_matA,conn_matB);\n",
    "end\n",
    "H"
   ]
  },
  {
   "cell_type": "markdown",
   "metadata": {
    "heading_collapsed": true
   },
   "source": [
    "## Measurement"
   ]
  },
  {
   "cell_type": "markdown",
   "metadata": {
    "hidden": true
   },
   "source": [
    "### Analyze the time spent travelling between station a and station b\n",
    "We determine the time spent for each type of mail (A or B) to get from station a to station b. The distribution is visualized using histogram. Following that, average and standard deviation of time spent are reported. The function itself returns a list of mail numbers corresponding to those which accomplished the journey between station a and station b."
   ]
  },
  {
   "cell_type": "code",
   "execution_count": 22,
   "metadata": {
    "ExecuteTime": {
     "end_time": "2021-12-08T15:00:19.223000+08:00",
     "start_time": "2021-12-08T07:00:19.210Z"
    },
    "hidden": true
   },
   "outputs": [
    {
     "data": {
      "text/plain": [
       "time_start_end (generic function with 1 method)"
      ]
     },
     "execution_count": 22,
     "metadata": {},
     "output_type": "execute_result"
    }
   ],
   "source": [
    "function time_start_end(H,numA,numB)\n",
    "    # calculate the time taken by each mail from initial station to destination position given the history matrix\n",
    "    # H history matrix\n",
    "    c, t = size(H)\n",
    "    time_diff_A = zeros(Int16, numA)\n",
    "    time_diff_B = zeros(Int16, c-numA)\n",
    "    for ic = 1:c\n",
    "        if ic <= numA\n",
    "            start_positions = findall(x->x==1, H[ic,:])\n",
    "            if size(start_positions)[1] > 0\n",
    "                start = start_positions[1]\n",
    "                for it = start:t\n",
    "                    if H[ic,it] == 6\n",
    "                        time_diff_A[ic] = it - start\n",
    "                        break\n",
    "                    end\n",
    "                end\n",
    "            end\n",
    "        else\n",
    "            start_positions = findall(x->x==1, H[ic,:])\n",
    "            if size(start_positions)[1] > 0\n",
    "                start = start_positions[1]\n",
    "                for it = start:t\n",
    "                    if H[ic,it] == 3\n",
    "                        time_diff_B[it] = it - start\n",
    "                        break\n",
    "                    end\n",
    "                end\n",
    "            end\n",
    "        end  \n",
    "    end\n",
    "    return time_diff_A, time_diff_B\n",
    "end "
   ]
  },
  {
   "cell_type": "code",
   "execution_count": 23,
   "metadata": {
    "ExecuteTime": {
     "end_time": "2021-12-08T15:00:20.903000+08:00",
     "start_time": "2021-12-08T07:00:20.563Z"
    },
    "hidden": true
   },
   "outputs": [
    {
     "data": {
      "text/plain": [
       "40-element Vector{Int16}:\n",
       " 81\n",
       "  0\n",
       " 39\n",
       " 17\n",
       "  0\n",
       "  0\n",
       "  9\n",
       "  9\n",
       "  7\n",
       "  0\n",
       " 13\n",
       " 13\n",
       "  0\n",
       "  ⋮\n",
       "  0\n",
       "  0\n",
       "  0\n",
       "  0\n",
       "  0\n",
       "  0\n",
       "  0\n",
       "  0\n",
       "  0\n",
       "  0\n",
       "  0\n",
       "  0"
      ]
     },
     "metadata": {},
     "output_type": "display_data"
    },
    {
     "data": {
      "text/plain": [
       "40-element Vector{Int16}:\n",
       " 0\n",
       " 0\n",
       " 0\n",
       " 2\n",
       " 0\n",
       " 2\n",
       " 0\n",
       " 4\n",
       " 0\n",
       " 6\n",
       " 0\n",
       " 8\n",
       " 0\n",
       " ⋮\n",
       " 0\n",
       " 0\n",
       " 0\n",
       " 0\n",
       " 0\n",
       " 0\n",
       " 0\n",
       " 0\n",
       " 0\n",
       " 0\n",
       " 0\n",
       " 0"
      ]
     },
     "metadata": {},
     "output_type": "display_data"
    }
   ],
   "source": [
    "time_diff_A, time_diff_B = time_start_end(H,40,40); \n",
    "display(time_diff_A)\n",
    "display(time_diff_B) "
   ]
  },
  {
   "cell_type": "code",
   "execution_count": 24,
   "metadata": {
    "ExecuteTime": {
     "end_time": "2021-12-08T15:00:23.938000+08:00",
     "start_time": "2021-12-08T07:00:23.880Z"
    },
    "hidden": true
   },
   "outputs": [
    {
     "data": {
      "image/svg+xml": [
       "<?xml version=\"1.0\" encoding=\"utf-8\"?>\n",
       "<svg xmlns=\"http://www.w3.org/2000/svg\" xmlns:xlink=\"http://www.w3.org/1999/xlink\" width=\"600\" height=\"400\" viewBox=\"0 0 2400 1600\">\n",
       "<defs>\n",
       "  <clipPath id=\"clip140\">\n",
       "    <rect x=\"0\" y=\"0\" width=\"2400\" height=\"1600\"/>\n",
       "  </clipPath>\n",
       "</defs>\n",
       "<path clip-path=\"url(#clip140)\" d=\"\n",
       "M0 1600 L2400 1600 L2400 0 L0 0  Z\n",
       "  \" fill=\"#ffffff\" fill-rule=\"evenodd\" fill-opacity=\"1\"/>\n",
       "<defs>\n",
       "  <clipPath id=\"clip141\">\n",
       "    <rect x=\"480\" y=\"0\" width=\"1681\" height=\"1600\"/>\n",
       "  </clipPath>\n",
       "</defs>\n",
       "<path clip-path=\"url(#clip140)\" d=\"\n",
       "M203.964 1423.18 L2352.76 1423.18 L2352.76 114.832 L203.964 114.832  Z\n",
       "  \" fill=\"#ffffff\" fill-rule=\"evenodd\" fill-opacity=\"1\"/>\n",
       "<defs>\n",
       "  <clipPath id=\"clip142\">\n",
       "    <rect x=\"203\" y=\"114\" width=\"2150\" height=\"1309\"/>\n",
       "  </clipPath>\n",
       "</defs>\n",
       "<polyline clip-path=\"url(#clip142)\" style=\"stroke:#000000; stroke-linecap:butt; stroke-linejoin:round; stroke-width:2; stroke-opacity:0.1; fill:none\" points=\"\n",
       "  322.151,1423.18 322.151,114.832 \n",
       "  \"/>\n",
       "<polyline clip-path=\"url(#clip142)\" style=\"stroke:#000000; stroke-linecap:butt; stroke-linejoin:round; stroke-width:2; stroke-opacity:0.1; fill:none\" points=\"\n",
       "  772.132,1423.18 772.132,114.832 \n",
       "  \"/>\n",
       "<polyline clip-path=\"url(#clip142)\" style=\"stroke:#000000; stroke-linecap:butt; stroke-linejoin:round; stroke-width:2; stroke-opacity:0.1; fill:none\" points=\"\n",
       "  1222.11,1423.18 1222.11,114.832 \n",
       "  \"/>\n",
       "<polyline clip-path=\"url(#clip142)\" style=\"stroke:#000000; stroke-linecap:butt; stroke-linejoin:round; stroke-width:2; stroke-opacity:0.1; fill:none\" points=\"\n",
       "  1672.09,1423.18 1672.09,114.832 \n",
       "  \"/>\n",
       "<polyline clip-path=\"url(#clip142)\" style=\"stroke:#000000; stroke-linecap:butt; stroke-linejoin:round; stroke-width:2; stroke-opacity:0.1; fill:none\" points=\"\n",
       "  2122.07,1423.18 2122.07,114.832 \n",
       "  \"/>\n",
       "<polyline clip-path=\"url(#clip140)\" style=\"stroke:#000000; stroke-linecap:butt; stroke-linejoin:round; stroke-width:4; stroke-opacity:1; fill:none\" points=\"\n",
       "  203.964,1423.18 2352.76,1423.18 \n",
       "  \"/>\n",
       "<polyline clip-path=\"url(#clip140)\" style=\"stroke:#000000; stroke-linecap:butt; stroke-linejoin:round; stroke-width:4; stroke-opacity:1; fill:none\" points=\"\n",
       "  322.151,1423.18 322.151,1404.28 \n",
       "  \"/>\n",
       "<polyline clip-path=\"url(#clip140)\" style=\"stroke:#000000; stroke-linecap:butt; stroke-linejoin:round; stroke-width:4; stroke-opacity:1; fill:none\" points=\"\n",
       "  772.132,1423.18 772.132,1404.28 \n",
       "  \"/>\n",
       "<polyline clip-path=\"url(#clip140)\" style=\"stroke:#000000; stroke-linecap:butt; stroke-linejoin:round; stroke-width:4; stroke-opacity:1; fill:none\" points=\"\n",
       "  1222.11,1423.18 1222.11,1404.28 \n",
       "  \"/>\n",
       "<polyline clip-path=\"url(#clip140)\" style=\"stroke:#000000; stroke-linecap:butt; stroke-linejoin:round; stroke-width:4; stroke-opacity:1; fill:none\" points=\"\n",
       "  1672.09,1423.18 1672.09,1404.28 \n",
       "  \"/>\n",
       "<polyline clip-path=\"url(#clip140)\" style=\"stroke:#000000; stroke-linecap:butt; stroke-linejoin:round; stroke-width:4; stroke-opacity:1; fill:none\" points=\"\n",
       "  2122.07,1423.18 2122.07,1404.28 \n",
       "  \"/>\n",
       "<path clip-path=\"url(#clip140)\" d=\"M322.151 1454.1 Q318.54 1454.1 316.711 1457.66 Q314.906 1461.2 314.906 1468.33 Q314.906 1475.44 316.711 1479.01 Q318.54 1482.55 322.151 1482.55 Q325.785 1482.55 327.591 1479.01 Q329.419 1475.44 329.419 1468.33 Q329.419 1461.2 327.591 1457.66 Q325.785 1454.1 322.151 1454.1 M322.151 1450.39 Q327.961 1450.39 331.017 1455 Q334.095 1459.58 334.095 1468.33 Q334.095 1477.06 331.017 1481.67 Q327.961 1486.25 322.151 1486.25 Q316.341 1486.25 313.262 1481.67 Q310.207 1477.06 310.207 1468.33 Q310.207 1459.58 313.262 1455 Q316.341 1450.39 322.151 1450.39 Z\" fill=\"#000000\" fill-rule=\"evenodd\" fill-opacity=\"1\" /><path clip-path=\"url(#clip140)\" d=\"M750.905 1481.64 L767.224 1481.64 L767.224 1485.58 L745.28 1485.58 L745.28 1481.64 Q747.942 1478.89 752.525 1474.26 Q757.132 1469.61 758.312 1468.27 Q760.558 1465.74 761.437 1464.01 Q762.34 1462.25 762.34 1460.56 Q762.34 1457.8 760.396 1456.07 Q758.474 1454.33 755.372 1454.33 Q753.173 1454.33 750.72 1455.09 Q748.289 1455.86 745.511 1457.41 L745.511 1452.69 Q748.335 1451.55 750.789 1450.97 Q753.243 1450.39 755.28 1450.39 Q760.65 1450.39 763.845 1453.08 Q767.039 1455.77 767.039 1460.26 Q767.039 1462.39 766.229 1464.31 Q765.442 1466.2 763.335 1468.8 Q762.757 1469.47 759.655 1472.69 Q756.553 1475.88 750.905 1481.64 Z\" fill=\"#000000\" fill-rule=\"evenodd\" fill-opacity=\"1\" /><path clip-path=\"url(#clip140)\" d=\"M787.039 1454.1 Q783.428 1454.1 781.599 1457.66 Q779.794 1461.2 779.794 1468.33 Q779.794 1475.44 781.599 1479.01 Q783.428 1482.55 787.039 1482.55 Q790.673 1482.55 792.479 1479.01 Q794.307 1475.44 794.307 1468.33 Q794.307 1461.2 792.479 1457.66 Q790.673 1454.1 787.039 1454.1 M787.039 1450.39 Q792.849 1450.39 795.905 1455 Q798.983 1459.58 798.983 1468.33 Q798.983 1477.06 795.905 1481.67 Q792.849 1486.25 787.039 1486.25 Q781.229 1486.25 778.15 1481.67 Q775.095 1477.06 775.095 1468.33 Q775.095 1459.58 778.15 1455 Q781.229 1450.39 787.039 1450.39 Z\" fill=\"#000000\" fill-rule=\"evenodd\" fill-opacity=\"1\" /><path clip-path=\"url(#clip140)\" d=\"M1210.28 1455.09 L1198.48 1473.54 L1210.28 1473.54 L1210.28 1455.09 M1209.06 1451.02 L1214.94 1451.02 L1214.94 1473.54 L1219.87 1473.54 L1219.87 1477.43 L1214.94 1477.43 L1214.94 1485.58 L1210.28 1485.58 L1210.28 1477.43 L1194.68 1477.43 L1194.68 1472.92 L1209.06 1451.02 Z\" fill=\"#000000\" fill-rule=\"evenodd\" fill-opacity=\"1\" /><path clip-path=\"url(#clip140)\" d=\"M1237.6 1454.1 Q1233.99 1454.1 1232.16 1457.66 Q1230.35 1461.2 1230.35 1468.33 Q1230.35 1475.44 1232.16 1479.01 Q1233.99 1482.55 1237.6 1482.55 Q1241.23 1482.55 1243.04 1479.01 Q1244.87 1475.44 1244.87 1468.33 Q1244.87 1461.2 1243.04 1457.66 Q1241.23 1454.1 1237.6 1454.1 M1237.6 1450.39 Q1243.41 1450.39 1246.46 1455 Q1249.54 1459.58 1249.54 1468.33 Q1249.54 1477.06 1246.46 1481.67 Q1243.41 1486.25 1237.6 1486.25 Q1231.79 1486.25 1228.71 1481.67 Q1225.65 1477.06 1225.65 1468.33 Q1225.65 1459.58 1228.71 1455 Q1231.79 1450.39 1237.6 1450.39 Z\" fill=\"#000000\" fill-rule=\"evenodd\" fill-opacity=\"1\" /><path clip-path=\"url(#clip140)\" d=\"M1657.5 1466.44 Q1654.35 1466.44 1652.5 1468.59 Q1650.67 1470.74 1650.67 1474.49 Q1650.67 1478.22 1652.5 1480.39 Q1654.35 1482.55 1657.5 1482.55 Q1660.65 1482.55 1662.47 1480.39 Q1664.33 1478.22 1664.33 1474.49 Q1664.33 1470.74 1662.47 1468.59 Q1660.65 1466.44 1657.5 1466.44 M1666.78 1451.78 L1666.78 1456.04 Q1665.02 1455.21 1663.22 1454.77 Q1661.43 1454.33 1659.67 1454.33 Q1655.04 1454.33 1652.59 1457.45 Q1650.16 1460.58 1649.81 1466.9 Q1651.18 1464.89 1653.24 1463.82 Q1655.3 1462.73 1657.78 1462.73 Q1662.98 1462.73 1665.99 1465.9 Q1669.03 1469.05 1669.03 1474.49 Q1669.03 1479.82 1665.88 1483.03 Q1662.73 1486.25 1657.5 1486.25 Q1651.5 1486.25 1648.33 1481.67 Q1645.16 1477.06 1645.16 1468.33 Q1645.16 1460.14 1649.05 1455.28 Q1652.94 1450.39 1659.49 1450.39 Q1661.25 1450.39 1663.03 1450.74 Q1664.84 1451.09 1666.78 1451.78 Z\" fill=\"#000000\" fill-rule=\"evenodd\" fill-opacity=\"1\" /><path clip-path=\"url(#clip140)\" d=\"M1687.08 1454.1 Q1683.47 1454.1 1681.64 1457.66 Q1679.84 1461.2 1679.84 1468.33 Q1679.84 1475.44 1681.64 1479.01 Q1683.47 1482.55 1687.08 1482.55 Q1690.72 1482.55 1692.52 1479.01 Q1694.35 1475.44 1694.35 1468.33 Q1694.35 1461.2 1692.52 1457.66 Q1690.72 1454.1 1687.08 1454.1 M1687.08 1450.39 Q1692.89 1450.39 1695.95 1455 Q1699.03 1459.58 1699.03 1468.33 Q1699.03 1477.06 1695.95 1481.67 Q1692.89 1486.25 1687.08 1486.25 Q1681.27 1486.25 1678.19 1481.67 Q1675.14 1477.06 1675.14 1468.33 Q1675.14 1459.58 1678.19 1455 Q1681.27 1450.39 1687.08 1450.39 Z\" fill=\"#000000\" fill-rule=\"evenodd\" fill-opacity=\"1\" /><path clip-path=\"url(#clip140)\" d=\"M2106.95 1469.17 Q2103.61 1469.17 2101.69 1470.95 Q2099.79 1472.73 2099.79 1475.86 Q2099.79 1478.98 2101.69 1480.77 Q2103.61 1482.55 2106.95 1482.55 Q2110.28 1482.55 2112.2 1480.77 Q2114.12 1478.96 2114.12 1475.86 Q2114.12 1472.73 2112.2 1470.95 Q2110.3 1469.17 2106.95 1469.17 M2102.27 1467.18 Q2099.26 1466.44 2097.57 1464.38 Q2095.9 1462.32 2095.9 1459.35 Q2095.9 1455.21 2098.84 1452.8 Q2101.81 1450.39 2106.95 1450.39 Q2112.11 1450.39 2115.05 1452.8 Q2117.99 1455.21 2117.99 1459.35 Q2117.99 1462.32 2116.3 1464.38 Q2114.63 1466.44 2111.65 1467.18 Q2115.02 1467.96 2116.9 1470.26 Q2118.8 1472.55 2118.8 1475.86 Q2118.8 1480.88 2115.72 1483.57 Q2112.66 1486.25 2106.95 1486.25 Q2101.23 1486.25 2098.15 1483.57 Q2095.09 1480.88 2095.09 1475.86 Q2095.09 1472.55 2096.99 1470.26 Q2098.89 1467.96 2102.27 1467.18 M2100.56 1459.79 Q2100.56 1462.48 2102.22 1463.98 Q2103.91 1465.49 2106.95 1465.49 Q2109.96 1465.49 2111.65 1463.98 Q2113.36 1462.48 2113.36 1459.79 Q2113.36 1457.11 2111.65 1455.6 Q2109.96 1454.1 2106.95 1454.1 Q2103.91 1454.1 2102.22 1455.6 Q2100.56 1457.11 2100.56 1459.79 Z\" fill=\"#000000\" fill-rule=\"evenodd\" fill-opacity=\"1\" /><path clip-path=\"url(#clip140)\" d=\"M2137.11 1454.1 Q2133.5 1454.1 2131.67 1457.66 Q2129.86 1461.2 2129.86 1468.33 Q2129.86 1475.44 2131.67 1479.01 Q2133.5 1482.55 2137.11 1482.55 Q2140.74 1482.55 2142.55 1479.01 Q2144.38 1475.44 2144.38 1468.33 Q2144.38 1461.2 2142.55 1457.66 Q2140.74 1454.1 2137.11 1454.1 M2137.11 1450.39 Q2142.92 1450.39 2145.97 1455 Q2149.05 1459.58 2149.05 1468.33 Q2149.05 1477.06 2145.97 1481.67 Q2142.92 1486.25 2137.11 1486.25 Q2131.3 1486.25 2128.22 1481.67 Q2125.16 1477.06 2125.16 1468.33 Q2125.16 1459.58 2128.22 1455 Q2131.3 1450.39 2137.11 1450.39 Z\" fill=\"#000000\" fill-rule=\"evenodd\" fill-opacity=\"1\" /><path clip-path=\"url(#clip140)\" d=\"M1099.74 1520.52 L1139.94 1520.52 L1139.94 1525.93 L1123.07 1525.93 L1123.07 1568.04 L1116.61 1568.04 L1116.61 1525.93 L1099.74 1525.93 L1099.74 1520.52 Z\" fill=\"#000000\" fill-rule=\"evenodd\" fill-opacity=\"1\" /><path clip-path=\"url(#clip140)\" d=\"M1143.88 1532.4 L1149.74 1532.4 L1149.74 1568.04 L1143.88 1568.04 L1143.88 1532.4 M1143.88 1518.52 L1149.74 1518.52 L1149.74 1525.93 L1143.88 1525.93 L1143.88 1518.52 Z\" fill=\"#000000\" fill-rule=\"evenodd\" fill-opacity=\"1\" /><path clip-path=\"url(#clip140)\" d=\"M1189.75 1539.24 Q1191.95 1535.29 1195 1533.41 Q1198.06 1531.54 1202.19 1531.54 Q1207.76 1531.54 1210.79 1535.45 Q1213.81 1539.33 1213.81 1546.53 L1213.81 1568.04 L1207.92 1568.04 L1207.92 1546.72 Q1207.92 1541.59 1206.11 1539.11 Q1204.29 1536.63 1200.57 1536.63 Q1196.02 1536.63 1193.38 1539.65 Q1190.74 1542.68 1190.74 1547.9 L1190.74 1568.04 L1184.85 1568.04 L1184.85 1546.72 Q1184.85 1541.56 1183.03 1539.11 Q1181.22 1536.63 1177.43 1536.63 Q1172.94 1536.63 1170.3 1539.68 Q1167.66 1542.71 1167.66 1547.9 L1167.66 1568.04 L1161.77 1568.04 L1161.77 1532.4 L1167.66 1532.4 L1167.66 1537.93 Q1169.67 1534.66 1172.47 1533.1 Q1175.27 1531.54 1179.12 1531.54 Q1183 1531.54 1185.71 1533.51 Q1188.44 1535.48 1189.75 1539.24 Z\" fill=\"#000000\" fill-rule=\"evenodd\" fill-opacity=\"1\" /><path clip-path=\"url(#clip140)\" d=\"M1255.98 1548.76 L1255.98 1551.62 L1229.06 1551.62 Q1229.44 1557.67 1232.69 1560.85 Q1235.96 1564 1241.79 1564 Q1245.16 1564 1248.31 1563.17 Q1251.5 1562.35 1254.62 1560.69 L1254.62 1566.23 Q1251.46 1567.57 1248.15 1568.27 Q1244.84 1568.97 1241.44 1568.97 Q1232.91 1568.97 1227.91 1564 Q1222.95 1559.04 1222.95 1550.57 Q1222.95 1541.82 1227.66 1536.69 Q1232.4 1531.54 1240.42 1531.54 Q1247.61 1531.54 1251.78 1536.18 Q1255.98 1540.8 1255.98 1548.76 M1250.13 1547.04 Q1250.06 1542.23 1247.42 1539.37 Q1244.81 1536.5 1240.48 1536.5 Q1235.58 1536.5 1232.62 1539.27 Q1229.69 1542.04 1229.25 1547.07 L1250.13 1547.04 Z\" fill=\"#000000\" fill-rule=\"evenodd\" fill-opacity=\"1\" /><path clip-path=\"url(#clip140)\" d=\"M1292.11 1522.27 L1292.11 1532.4 L1304.17 1532.4 L1304.17 1536.95 L1292.11 1536.95 L1292.11 1556.3 Q1292.11 1560.66 1293.29 1561.9 Q1294.5 1563.14 1298.16 1563.14 L1304.17 1563.14 L1304.17 1568.04 L1298.16 1568.04 Q1291.38 1568.04 1288.8 1565.53 Q1286.22 1562.98 1286.22 1556.3 L1286.22 1536.95 L1281.92 1536.95 L1281.92 1532.4 L1286.22 1532.4 L1286.22 1522.27 L1292.11 1522.27 Z\" fill=\"#000000\" fill-rule=\"evenodd\" fill-opacity=\"1\" /><path clip-path=\"url(#clip140)\" d=\"M1328.08 1550.12 Q1320.98 1550.12 1318.24 1551.75 Q1315.5 1553.37 1315.5 1557.29 Q1315.5 1560.4 1317.54 1562.25 Q1319.61 1564.07 1323.14 1564.07 Q1328.01 1564.07 1330.94 1560.63 Q1333.9 1557.16 1333.9 1551.43 L1333.9 1550.12 L1328.08 1550.12 M1339.76 1547.71 L1339.76 1568.04 L1333.9 1568.04 L1333.9 1562.63 Q1331.9 1565.88 1328.9 1567.44 Q1325.91 1568.97 1321.58 1568.97 Q1316.11 1568.97 1312.86 1565.91 Q1309.65 1562.82 1309.65 1557.67 Q1309.65 1551.65 1313.66 1548.6 Q1317.7 1545.54 1325.69 1545.54 L1333.9 1545.54 L1333.9 1544.97 Q1333.9 1540.93 1331.23 1538.73 Q1328.59 1536.5 1323.78 1536.5 Q1320.72 1536.5 1317.83 1537.23 Q1314.93 1537.97 1312.26 1539.43 L1312.26 1534.02 Q1315.47 1532.78 1318.5 1532.17 Q1321.52 1531.54 1324.38 1531.54 Q1332.12 1531.54 1335.94 1535.55 Q1339.76 1539.56 1339.76 1547.71 Z\" fill=\"#000000\" fill-rule=\"evenodd\" fill-opacity=\"1\" /><path clip-path=\"url(#clip140)\" d=\"M1351.6 1518.52 L1357.49 1518.52 L1357.49 1547.77 L1374.96 1532.4 L1382.44 1532.4 L1363.53 1549.07 L1383.23 1568.04 L1375.6 1568.04 L1357.49 1550.63 L1357.49 1568.04 L1351.6 1568.04 L1351.6 1518.52 Z\" fill=\"#000000\" fill-rule=\"evenodd\" fill-opacity=\"1\" /><path clip-path=\"url(#clip140)\" d=\"M1417.74 1548.76 L1417.74 1551.62 L1390.81 1551.62 Q1391.19 1557.67 1394.44 1560.85 Q1397.72 1564 1403.54 1564 Q1406.92 1564 1410.07 1563.17 Q1413.25 1562.35 1416.37 1560.69 L1416.37 1566.23 Q1413.22 1567.57 1409.91 1568.27 Q1406.6 1568.97 1403.19 1568.97 Q1394.66 1568.97 1389.66 1564 Q1384.7 1559.04 1384.7 1550.57 Q1384.7 1541.82 1389.41 1536.69 Q1394.15 1531.54 1402.17 1531.54 Q1409.37 1531.54 1413.54 1536.18 Q1417.74 1540.8 1417.74 1548.76 M1411.88 1547.04 Q1411.82 1542.23 1409.18 1539.37 Q1406.57 1536.5 1402.24 1536.5 Q1397.33 1536.5 1394.37 1539.27 Q1391.45 1542.04 1391 1547.07 L1411.88 1547.04 Z\" fill=\"#000000\" fill-rule=\"evenodd\" fill-opacity=\"1\" /><path clip-path=\"url(#clip140)\" d=\"M1456.98 1546.53 L1456.98 1568.04 L1451.13 1568.04 L1451.13 1546.72 Q1451.13 1541.66 1449.15 1539.14 Q1447.18 1536.63 1443.23 1536.63 Q1438.49 1536.63 1435.75 1539.65 Q1433.01 1542.68 1433.01 1547.9 L1433.01 1568.04 L1427.13 1568.04 L1427.13 1532.4 L1433.01 1532.4 L1433.01 1537.93 Q1435.12 1534.72 1437.95 1533.13 Q1440.81 1531.54 1444.54 1531.54 Q1450.68 1531.54 1453.83 1535.36 Q1456.98 1539.14 1456.98 1546.53 Z\" fill=\"#000000\" fill-rule=\"evenodd\" fill-opacity=\"1\" /><polyline clip-path=\"url(#clip142)\" style=\"stroke:#000000; stroke-linecap:butt; stroke-linejoin:round; stroke-width:2; stroke-opacity:0.1; fill:none\" points=\"\n",
       "  203.964,1386.15 2352.76,1386.15 \n",
       "  \"/>\n",
       "<polyline clip-path=\"url(#clip142)\" style=\"stroke:#000000; stroke-linecap:butt; stroke-linejoin:round; stroke-width:2; stroke-opacity:0.1; fill:none\" points=\"\n",
       "  203.964,1157.58 2352.76,1157.58 \n",
       "  \"/>\n",
       "<polyline clip-path=\"url(#clip142)\" style=\"stroke:#000000; stroke-linecap:butt; stroke-linejoin:round; stroke-width:2; stroke-opacity:0.1; fill:none\" points=\"\n",
       "  203.964,929.007 2352.76,929.007 \n",
       "  \"/>\n",
       "<polyline clip-path=\"url(#clip142)\" style=\"stroke:#000000; stroke-linecap:butt; stroke-linejoin:round; stroke-width:2; stroke-opacity:0.1; fill:none\" points=\"\n",
       "  203.964,700.434 2352.76,700.434 \n",
       "  \"/>\n",
       "<polyline clip-path=\"url(#clip142)\" style=\"stroke:#000000; stroke-linecap:butt; stroke-linejoin:round; stroke-width:2; stroke-opacity:0.1; fill:none\" points=\"\n",
       "  203.964,471.862 2352.76,471.862 \n",
       "  \"/>\n",
       "<polyline clip-path=\"url(#clip142)\" style=\"stroke:#000000; stroke-linecap:butt; stroke-linejoin:round; stroke-width:2; stroke-opacity:0.1; fill:none\" points=\"\n",
       "  203.964,243.29 2352.76,243.29 \n",
       "  \"/>\n",
       "<polyline clip-path=\"url(#clip140)\" style=\"stroke:#000000; stroke-linecap:butt; stroke-linejoin:round; stroke-width:4; stroke-opacity:1; fill:none\" points=\"\n",
       "  203.964,1423.18 203.964,114.832 \n",
       "  \"/>\n",
       "<polyline clip-path=\"url(#clip140)\" style=\"stroke:#000000; stroke-linecap:butt; stroke-linejoin:round; stroke-width:4; stroke-opacity:1; fill:none\" points=\"\n",
       "  203.964,1386.15 222.861,1386.15 \n",
       "  \"/>\n",
       "<polyline clip-path=\"url(#clip140)\" style=\"stroke:#000000; stroke-linecap:butt; stroke-linejoin:round; stroke-width:4; stroke-opacity:1; fill:none\" points=\"\n",
       "  203.964,1157.58 222.861,1157.58 \n",
       "  \"/>\n",
       "<polyline clip-path=\"url(#clip140)\" style=\"stroke:#000000; stroke-linecap:butt; stroke-linejoin:round; stroke-width:4; stroke-opacity:1; fill:none\" points=\"\n",
       "  203.964,929.007 222.861,929.007 \n",
       "  \"/>\n",
       "<polyline clip-path=\"url(#clip140)\" style=\"stroke:#000000; stroke-linecap:butt; stroke-linejoin:round; stroke-width:4; stroke-opacity:1; fill:none\" points=\"\n",
       "  203.964,700.434 222.861,700.434 \n",
       "  \"/>\n",
       "<polyline clip-path=\"url(#clip140)\" style=\"stroke:#000000; stroke-linecap:butt; stroke-linejoin:round; stroke-width:4; stroke-opacity:1; fill:none\" points=\"\n",
       "  203.964,471.862 222.861,471.862 \n",
       "  \"/>\n",
       "<polyline clip-path=\"url(#clip140)\" style=\"stroke:#000000; stroke-linecap:butt; stroke-linejoin:round; stroke-width:4; stroke-opacity:1; fill:none\" points=\"\n",
       "  203.964,243.29 222.861,243.29 \n",
       "  \"/>\n",
       "<path clip-path=\"url(#clip140)\" d=\"M156.019 1371.95 Q152.408 1371.95 150.579 1375.51 Q148.774 1379.06 148.774 1386.19 Q148.774 1393.29 150.579 1396.86 Q152.408 1400.4 156.019 1400.4 Q159.653 1400.4 161.459 1396.86 Q163.288 1393.29 163.288 1386.19 Q163.288 1379.06 161.459 1375.51 Q159.653 1371.95 156.019 1371.95 M156.019 1368.25 Q161.829 1368.25 164.885 1372.85 Q167.964 1377.44 167.964 1386.19 Q167.964 1394.91 164.885 1399.52 Q161.829 1404.1 156.019 1404.1 Q150.209 1404.1 147.13 1399.52 Q144.075 1394.91 144.075 1386.19 Q144.075 1377.44 147.13 1372.85 Q150.209 1368.25 156.019 1368.25 Z\" fill=\"#000000\" fill-rule=\"evenodd\" fill-opacity=\"1\" /><path clip-path=\"url(#clip140)\" d=\"M147.061 1140.3 L165.417 1140.3 L165.417 1144.23 L151.343 1144.23 L151.343 1152.71 Q152.362 1152.36 153.38 1152.2 Q154.399 1152.01 155.417 1152.01 Q161.204 1152.01 164.584 1155.18 Q167.964 1158.35 167.964 1163.77 Q167.964 1169.35 164.491 1172.45 Q161.019 1175.53 154.7 1175.53 Q152.524 1175.53 150.255 1175.16 Q148.01 1174.79 145.603 1174.05 L145.603 1169.35 Q147.686 1170.48 149.908 1171.04 Q152.13 1171.59 154.607 1171.59 Q158.612 1171.59 160.95 1169.49 Q163.288 1167.38 163.288 1163.77 Q163.288 1160.16 160.95 1158.05 Q158.612 1155.95 154.607 1155.95 Q152.732 1155.95 150.857 1156.36 Q149.005 1156.78 147.061 1157.66 L147.061 1140.3 Z\" fill=\"#000000\" fill-rule=\"evenodd\" fill-opacity=\"1\" /><path clip-path=\"url(#clip140)\" d=\"M116.668 942.351 L124.306 942.351 L124.306 915.986 L115.996 917.652 L115.996 913.393 L124.26 911.727 L128.936 911.727 L128.936 942.351 L136.575 942.351 L136.575 946.287 L116.668 946.287 L116.668 942.351 Z\" fill=\"#000000\" fill-rule=\"evenodd\" fill-opacity=\"1\" /><path clip-path=\"url(#clip140)\" d=\"M156.019 914.805 Q152.408 914.805 150.579 918.37 Q148.774 921.912 148.774 929.041 Q148.774 936.148 150.579 939.713 Q152.408 943.254 156.019 943.254 Q159.653 943.254 161.459 939.713 Q163.288 936.148 163.288 929.041 Q163.288 921.912 161.459 918.37 Q159.653 914.805 156.019 914.805 M156.019 911.102 Q161.829 911.102 164.885 915.708 Q167.964 920.291 167.964 929.041 Q167.964 937.768 164.885 942.375 Q161.829 946.958 156.019 946.958 Q150.209 946.958 147.13 942.375 Q144.075 937.768 144.075 929.041 Q144.075 920.291 147.13 915.708 Q150.209 911.102 156.019 911.102 Z\" fill=\"#000000\" fill-rule=\"evenodd\" fill-opacity=\"1\" /><path clip-path=\"url(#clip140)\" d=\"M117.663 713.779 L125.302 713.779 L125.302 687.414 L116.992 689.08 L116.992 684.821 L125.255 683.154 L129.931 683.154 L129.931 713.779 L137.57 713.779 L137.57 717.714 L117.663 717.714 L117.663 713.779 Z\" fill=\"#000000\" fill-rule=\"evenodd\" fill-opacity=\"1\" /><path clip-path=\"url(#clip140)\" d=\"M147.061 683.154 L165.417 683.154 L165.417 687.089 L151.343 687.089 L151.343 695.562 Q152.362 695.214 153.38 695.052 Q154.399 694.867 155.417 694.867 Q161.204 694.867 164.584 698.038 Q167.964 701.21 167.964 706.626 Q167.964 712.205 164.491 715.307 Q161.019 718.386 154.7 718.386 Q152.524 718.386 150.255 718.015 Q148.01 717.645 145.603 716.904 L145.603 712.205 Q147.686 713.339 149.908 713.895 Q152.13 714.45 154.607 714.45 Q158.612 714.45 160.95 712.344 Q163.288 710.237 163.288 706.626 Q163.288 703.015 160.95 700.909 Q158.612 698.802 154.607 698.802 Q152.732 698.802 150.857 699.219 Q149.005 699.636 147.061 700.515 L147.061 683.154 Z\" fill=\"#000000\" fill-rule=\"evenodd\" fill-opacity=\"1\" /><path clip-path=\"url(#clip140)\" d=\"M119.885 485.207 L136.204 485.207 L136.204 489.142 L114.26 489.142 L114.26 485.207 Q116.922 482.452 121.505 477.823 Q126.112 473.17 127.292 471.827 Q129.538 469.304 130.417 467.568 Q131.32 465.809 131.32 464.119 Q131.32 461.364 129.376 459.628 Q127.455 457.892 124.353 457.892 Q122.154 457.892 119.7 458.656 Q117.269 459.42 114.492 460.971 L114.492 456.249 Q117.316 455.114 119.769 454.536 Q122.223 453.957 124.26 453.957 Q129.63 453.957 132.825 456.642 Q136.019 459.327 136.019 463.818 Q136.019 465.948 135.209 467.869 Q134.422 469.767 132.316 472.36 Q131.737 473.031 128.635 476.249 Q125.533 479.443 119.885 485.207 Z\" fill=\"#000000\" fill-rule=\"evenodd\" fill-opacity=\"1\" /><path clip-path=\"url(#clip140)\" d=\"M156.019 457.661 Q152.408 457.661 150.579 461.226 Q148.774 464.767 148.774 471.897 Q148.774 479.003 150.579 482.568 Q152.408 486.11 156.019 486.11 Q159.653 486.11 161.459 482.568 Q163.288 479.003 163.288 471.897 Q163.288 464.767 161.459 461.226 Q159.653 457.661 156.019 457.661 M156.019 453.957 Q161.829 453.957 164.885 458.563 Q167.964 463.147 167.964 471.897 Q167.964 480.624 164.885 485.23 Q161.829 489.813 156.019 489.813 Q150.209 489.813 147.13 485.23 Q144.075 480.624 144.075 471.897 Q144.075 463.147 147.13 458.563 Q150.209 453.957 156.019 453.957 Z\" fill=\"#000000\" fill-rule=\"evenodd\" fill-opacity=\"1\" /><path clip-path=\"url(#clip140)\" d=\"M120.88 256.635 L137.2 256.635 L137.2 260.57 L115.256 260.57 L115.256 256.635 Q117.918 253.88 122.501 249.25 Q127.107 244.598 128.288 243.255 Q130.533 240.732 131.413 238.996 Q132.316 237.237 132.316 235.547 Q132.316 232.792 130.371 231.056 Q128.45 229.32 125.348 229.32 Q123.149 229.32 120.695 230.084 Q118.265 230.848 115.487 232.399 L115.487 227.676 Q118.311 226.542 120.765 225.963 Q123.218 225.385 125.255 225.385 Q130.626 225.385 133.82 228.07 Q137.015 230.755 137.015 235.246 Q137.015 237.375 136.204 239.297 Q135.417 241.195 133.311 243.787 Q132.732 244.459 129.63 247.676 Q126.529 250.871 120.88 256.635 Z\" fill=\"#000000\" fill-rule=\"evenodd\" fill-opacity=\"1\" /><path clip-path=\"url(#clip140)\" d=\"M147.061 226.01 L165.417 226.01 L165.417 229.945 L151.343 229.945 L151.343 238.417 Q152.362 238.07 153.38 237.908 Q154.399 237.723 155.417 237.723 Q161.204 237.723 164.584 240.894 Q167.964 244.065 167.964 249.482 Q167.964 255.061 164.491 258.162 Q161.019 261.241 154.7 261.241 Q152.524 261.241 150.255 260.871 Q148.01 260.5 145.603 259.76 L145.603 255.061 Q147.686 256.195 149.908 256.75 Q152.13 257.306 154.607 257.306 Q158.612 257.306 160.95 255.199 Q163.288 253.093 163.288 249.482 Q163.288 245.871 160.95 243.764 Q158.612 241.658 154.607 241.658 Q152.732 241.658 150.857 242.074 Q149.005 242.491 147.061 243.371 L147.061 226.01 Z\" fill=\"#000000\" fill-rule=\"evenodd\" fill-opacity=\"1\" /><path clip-path=\"url(#clip140)\" d=\"M20.1444 841.034 L26.9239 841.034 Q23.9002 844.28 22.4043 847.973 Q20.9083 851.633 20.9083 855.771 Q20.9083 863.919 25.9054 868.247 Q30.8707 872.576 40.2919 872.576 Q49.6813 872.576 54.6784 868.247 Q59.6436 863.919 59.6436 855.771 Q59.6436 851.633 58.1477 847.973 Q56.6518 844.28 53.6281 841.034 L60.3439 841.034 Q62.6355 844.408 63.7814 848.195 Q64.9272 851.951 64.9272 856.153 Q64.9272 866.942 58.3387 873.149 Q51.7183 879.356 40.2919 879.356 Q28.8336 879.356 22.2451 873.149 Q15.6248 866.942 15.6248 856.153 Q15.6248 851.887 16.7706 848.132 Q17.8846 844.344 20.1444 841.034 Z\" fill=\"#000000\" fill-rule=\"evenodd\" fill-opacity=\"1\" /><path clip-path=\"url(#clip140)\" d=\"M32.4621 817.544 Q32.4621 822.255 36.1542 824.992 Q39.8145 827.73 46.212 827.73 Q52.6095 827.73 56.3017 825.024 Q59.9619 822.287 59.9619 817.544 Q59.9619 812.866 56.2698 810.128 Q52.5777 807.391 46.212 807.391 Q39.8781 807.391 36.186 810.128 Q32.4621 812.866 32.4621 817.544 M27.4968 817.544 Q27.4968 809.906 32.4621 805.545 Q37.4273 801.185 46.212 801.185 Q54.9649 801.185 59.9619 805.545 Q64.9272 809.906 64.9272 817.544 Q64.9272 825.215 59.9619 829.576 Q54.9649 833.904 46.212 833.904 Q37.4273 833.904 32.4621 829.576 Q27.4968 825.215 27.4968 817.544 Z\" fill=\"#000000\" fill-rule=\"evenodd\" fill-opacity=\"1\" /><path clip-path=\"url(#clip140)\" d=\"M49.9359 792.082 L28.3562 792.082 L28.3562 786.225 L49.7131 786.225 Q54.7739 786.225 57.3202 784.252 Q59.8346 782.278 59.8346 778.332 Q59.8346 773.589 56.8109 770.852 Q53.7872 768.083 48.5673 768.083 L28.3562 768.083 L28.3562 762.227 L64.0042 762.227 L64.0042 768.083 L58.5296 768.083 Q61.7762 770.215 63.3676 773.048 Q64.9272 775.849 64.9272 779.573 Q64.9272 785.716 61.1078 788.899 Q57.2883 792.082 49.9359 792.082 M27.4968 777.345 L27.4968 777.345 Z\" fill=\"#000000\" fill-rule=\"evenodd\" fill-opacity=\"1\" /><path clip-path=\"url(#clip140)\" d=\"M42.4881 720.531 L64.0042 720.531 L64.0042 726.388 L42.679 726.388 Q37.6183 726.388 35.1038 728.361 Q32.5894 730.334 32.5894 734.281 Q32.5894 739.024 35.6131 741.761 Q38.6368 744.498 43.8567 744.498 L64.0042 744.498 L64.0042 750.386 L28.3562 750.386 L28.3562 744.498 L33.8944 744.498 Q30.6797 742.397 29.0883 739.565 Q27.4968 736.7 27.4968 732.976 Q27.4968 726.833 31.3163 723.682 Q35.1038 720.531 42.4881 720.531 Z\" fill=\"#000000\" fill-rule=\"evenodd\" fill-opacity=\"1\" /><path clip-path=\"url(#clip140)\" d=\"M18.2347 703.057 L28.3562 703.057 L28.3562 690.994 L32.9077 690.994 L32.9077 703.057 L52.2594 703.057 Q56.6199 703.057 57.8613 701.88 Q59.1026 700.67 59.1026 697.01 L59.1026 690.994 L64.0042 690.994 L64.0042 697.01 Q64.0042 703.789 61.4897 706.367 Q58.9434 708.946 52.2594 708.946 L32.9077 708.946 L32.9077 713.242 L28.3562 713.242 L28.3562 708.946 L18.2347 708.946 L18.2347 703.057 Z\" fill=\"#000000\" fill-rule=\"evenodd\" fill-opacity=\"1\" /><path clip-path=\"url(#clip140)\" d=\"M29.4065 660.566 L34.9447 660.566 Q33.6716 663.049 33.035 665.722 Q32.3984 668.396 32.3984 671.261 Q32.3984 675.621 33.7352 677.817 Q35.072 679.982 37.7456 679.982 Q39.7826 679.982 40.9603 678.422 Q42.1061 676.862 43.1565 672.152 L43.6021 670.147 Q44.9389 663.908 47.3897 661.298 Q49.8086 658.656 54.1691 658.656 Q59.1344 658.656 62.0308 662.603 Q64.9272 666.518 64.9272 673.393 Q64.9272 676.258 64.3543 679.377 Q63.8132 682.464 62.6992 685.902 L56.6518 685.902 Q58.3387 682.655 59.198 679.504 Q60.0256 676.353 60.0256 673.266 Q60.0256 669.128 58.6251 666.9 Q57.1929 664.672 54.6147 664.672 Q52.2276 664.672 50.9545 666.295 Q49.6813 667.887 48.5037 673.329 L48.0262 675.366 Q46.8804 680.809 44.5251 683.228 Q42.138 685.647 38.0002 685.647 Q32.9713 685.647 30.2341 682.082 Q27.4968 678.517 27.4968 671.961 Q27.4968 668.714 27.9743 665.85 Q28.4517 662.985 29.4065 660.566 Z\" fill=\"#000000\" fill-rule=\"evenodd\" fill-opacity=\"1\" /><path clip-path=\"url(#clip140)\" d=\"M592.669 10.368 L636.523 10.368 L636.523 16.2707 L618.12 16.2707 L618.12 62.208 L611.072 62.208 L611.072 16.2707 L592.669 16.2707 L592.669 10.368 Z\" fill=\"#000000\" fill-rule=\"evenodd\" fill-opacity=\"1\" /><path clip-path=\"url(#clip140)\" d=\"M640.828 23.3193 L647.217 23.3193 L647.217 62.208 L640.828 62.208 L640.828 23.3193 M640.828 8.18051 L647.217 8.18051 L647.217 16.2707 L640.828 16.2707 L640.828 8.18051 Z\" fill=\"#000000\" fill-rule=\"evenodd\" fill-opacity=\"1\" /><path clip-path=\"url(#clip140)\" d=\"M690.863 30.7846 Q693.259 26.479 696.592 24.4304 Q699.925 22.3818 704.439 22.3818 Q710.516 22.3818 713.814 26.6526 Q717.113 30.8887 717.113 38.7359 L717.113 62.208 L710.689 62.208 L710.689 38.9442 Q710.689 33.354 708.71 30.6457 Q706.731 27.9374 702.668 27.9374 Q697.703 27.9374 694.821 31.2359 Q691.939 34.5345 691.939 40.229 L691.939 62.208 L685.516 62.208 L685.516 38.9442 Q685.516 33.3193 683.537 30.6457 Q681.557 27.9374 677.425 27.9374 Q672.53 27.9374 669.648 31.2707 Q666.766 34.5693 666.766 40.229 L666.766 62.208 L660.342 62.208 L660.342 23.3193 L666.766 23.3193 L666.766 29.361 Q668.953 25.7846 672.009 24.0832 Q675.064 22.3818 679.266 22.3818 Q683.502 22.3818 686.453 24.5346 Q689.439 26.6874 690.863 30.7846 Z\" fill=\"#000000\" fill-rule=\"evenodd\" fill-opacity=\"1\" /><path clip-path=\"url(#clip140)\" d=\"M763.119 41.1664 L763.119 44.2914 L733.745 44.2914 Q734.161 50.8886 737.703 54.3608 Q741.279 57.7983 747.633 57.7983 Q751.314 57.7983 754.751 56.8955 Q758.224 55.9928 761.626 54.1872 L761.626 60.2288 Q758.189 61.6872 754.578 62.4511 Q750.967 63.2149 747.251 63.2149 Q737.946 63.2149 732.495 57.7983 Q727.078 52.3817 727.078 43.1456 Q727.078 33.597 732.217 28.0068 Q737.39 22.3818 746.14 22.3818 Q753.988 22.3818 758.536 27.4512 Q763.119 32.4859 763.119 41.1664 M756.731 39.2915 Q756.661 34.0484 753.779 30.9234 Q750.932 27.7985 746.21 27.7985 Q740.863 27.7985 737.633 30.8193 Q734.439 33.8401 733.953 39.3262 L756.731 39.2915 Z\" fill=\"#000000\" fill-rule=\"evenodd\" fill-opacity=\"1\" /><path clip-path=\"url(#clip140)\" d=\"M802.529 12.2777 L802.529 23.3193 L815.689 23.3193 L815.689 28.2846 L802.529 28.2846 L802.529 49.3956 Q802.529 54.1525 803.814 55.5066 Q805.133 56.8608 809.126 56.8608 L815.689 56.8608 L815.689 62.208 L809.126 62.208 Q801.73 62.208 798.918 59.465 Q796.105 56.6872 796.105 49.3956 L796.105 28.2846 L791.418 28.2846 L791.418 23.3193 L796.105 23.3193 L796.105 12.2777 L802.529 12.2777 Z\" fill=\"#000000\" fill-rule=\"evenodd\" fill-opacity=\"1\" /><path clip-path=\"url(#clip140)\" d=\"M841.765 42.6595 Q834.022 42.6595 831.036 44.4303 Q828.05 46.2011 828.05 50.472 Q828.05 53.8747 830.272 55.8886 Q832.529 57.8677 836.383 57.8677 Q841.695 57.8677 844.89 54.1178 Q848.119 50.3331 848.119 44.0831 L848.119 42.6595 L841.765 42.6595 M854.508 40.0206 L854.508 62.208 L848.119 62.208 L848.119 56.3053 Q845.932 59.8469 842.668 61.5483 Q839.404 63.2149 834.682 63.2149 Q828.709 63.2149 825.168 59.8816 Q821.661 56.5136 821.661 50.8886 Q821.661 44.3262 826.036 40.9928 Q830.445 37.6595 839.161 37.6595 L848.119 37.6595 L848.119 37.0345 Q848.119 32.6248 845.202 30.229 Q842.32 27.7985 837.077 27.7985 Q833.744 27.7985 830.584 28.5971 Q827.425 29.3957 824.508 30.9929 L824.508 25.0901 Q828.015 23.736 831.314 23.0763 Q834.612 22.3818 837.737 22.3818 Q846.175 22.3818 850.341 26.7568 Q854.508 31.1318 854.508 40.0206 Z\" fill=\"#000000\" fill-rule=\"evenodd\" fill-opacity=\"1\" /><path clip-path=\"url(#clip140)\" d=\"M867.424 8.18051 L873.848 8.18051 L873.848 40.0901 L892.91 23.3193 L901.07 23.3193 L880.445 41.5137 L901.938 62.208 L893.605 62.208 L873.848 43.215 L873.848 62.208 L867.424 62.208 L867.424 8.18051 Z\" fill=\"#000000\" fill-rule=\"evenodd\" fill-opacity=\"1\" /><path clip-path=\"url(#clip140)\" d=\"M939.577 41.1664 L939.577 44.2914 L910.202 44.2914 Q910.619 50.8886 914.16 54.3608 Q917.737 57.7983 924.091 57.7983 Q927.771 57.7983 931.209 56.8955 Q934.681 55.9928 938.084 54.1872 L938.084 60.2288 Q934.646 61.6872 931.035 62.4511 Q927.424 63.2149 923.709 63.2149 Q914.403 63.2149 908.952 57.7983 Q903.535 52.3817 903.535 43.1456 Q903.535 33.597 908.674 28.0068 Q913.848 22.3818 922.598 22.3818 Q930.445 22.3818 934.994 27.4512 Q939.577 32.4859 939.577 41.1664 M933.188 39.2915 Q933.119 34.0484 930.237 30.9234 Q927.389 27.7985 922.667 27.7985 Q917.32 27.7985 914.091 30.8193 Q910.896 33.8401 910.41 39.3262 L933.188 39.2915 Z\" fill=\"#000000\" fill-rule=\"evenodd\" fill-opacity=\"1\" /><path clip-path=\"url(#clip140)\" d=\"M982.389 38.7359 L982.389 62.208 L976 62.208 L976 38.9442 Q976 33.4234 973.847 30.6804 Q971.695 27.9374 967.389 27.9374 Q962.216 27.9374 959.23 31.2359 Q956.243 34.5345 956.243 40.229 L956.243 62.208 L949.82 62.208 L949.82 23.3193 L956.243 23.3193 L956.243 29.361 Q958.535 25.854 961.625 24.1179 Q964.75 22.3818 968.813 22.3818 Q975.514 22.3818 978.952 26.5485 Q982.389 30.6804 982.389 38.7359 Z\" fill=\"#000000\" fill-rule=\"evenodd\" fill-opacity=\"1\" /><path clip-path=\"url(#clip140)\" d=\"M1037.42 8.18051 L1037.42 13.493 L1031.31 13.493 Q1027.87 13.493 1026.52 14.8819 Q1025.2 16.2707 1025.2 19.8818 L1025.2 23.3193 L1035.72 23.3193 L1035.72 28.2846 L1025.2 28.2846 L1025.2 62.208 L1018.78 62.208 L1018.78 28.2846 L1012.67 28.2846 L1012.67 23.3193 L1018.78 23.3193 L1018.78 20.611 Q1018.78 14.118 1021.8 11.1666 Q1024.82 8.18051 1031.38 8.18051 L1037.42 8.18051 Z\" fill=\"#000000\" fill-rule=\"evenodd\" fill-opacity=\"1\" /><path clip-path=\"url(#clip140)\" d=\"M1057.84 27.7985 Q1052.7 27.7985 1049.72 31.8262 Q1046.73 35.8193 1046.73 42.7984 Q1046.73 49.7775 1049.68 53.8053 Q1052.67 57.7983 1057.84 57.7983 Q1062.94 57.7983 1065.93 53.7705 Q1068.92 49.7428 1068.92 42.7984 Q1068.92 35.8887 1065.93 31.8609 Q1062.94 27.7985 1057.84 27.7985 M1057.84 22.3818 Q1066.17 22.3818 1070.93 27.7985 Q1075.69 33.2151 1075.69 42.7984 Q1075.69 52.3469 1070.93 57.7983 Q1066.17 63.2149 1057.84 63.2149 Q1049.47 63.2149 1044.72 57.7983 Q1039.99 52.3469 1039.99 42.7984 Q1039.99 33.2151 1044.72 27.7985 Q1049.47 22.3818 1057.84 22.3818 Z\" fill=\"#000000\" fill-rule=\"evenodd\" fill-opacity=\"1\" /><path clip-path=\"url(#clip140)\" d=\"M1108.81 29.2915 Q1107.74 28.6665 1106.45 28.3887 Q1105.2 28.0762 1103.67 28.0762 Q1098.26 28.0762 1095.34 31.6179 Q1092.46 35.1248 1092.46 41.722 L1092.46 62.208 L1086.03 62.208 L1086.03 23.3193 L1092.46 23.3193 L1092.46 29.361 Q1094.47 25.8193 1097.7 24.1179 Q1100.93 22.3818 1105.55 22.3818 Q1106.21 22.3818 1107.01 22.486 Q1107.81 22.5554 1108.78 22.729 L1108.81 29.2915 Z\" fill=\"#000000\" fill-rule=\"evenodd\" fill-opacity=\"1\" /><path clip-path=\"url(#clip140)\" d=\"M1168.4 30.7846 Q1170.79 26.479 1174.12 24.4304 Q1177.46 22.3818 1181.97 22.3818 Q1188.05 22.3818 1191.35 26.6526 Q1194.64 30.8887 1194.64 38.7359 L1194.64 62.208 L1188.22 62.208 L1188.22 38.9442 Q1188.22 33.354 1186.24 30.6457 Q1184.26 27.9374 1180.2 27.9374 Q1175.24 27.9374 1172.35 31.2359 Q1169.47 34.5345 1169.47 40.229 L1169.47 62.208 L1163.05 62.208 L1163.05 38.9442 Q1163.05 33.3193 1161.07 30.6457 Q1159.09 27.9374 1154.96 27.9374 Q1150.06 27.9374 1147.18 31.2707 Q1144.3 34.5693 1144.3 40.229 L1144.3 62.208 L1137.87 62.208 L1137.87 23.3193 L1144.3 23.3193 L1144.3 29.361 Q1146.49 25.7846 1149.54 24.0832 Q1152.6 22.3818 1156.8 22.3818 Q1161.03 22.3818 1163.99 24.5346 Q1166.97 26.6874 1168.4 30.7846 Z\" fill=\"#000000\" fill-rule=\"evenodd\" fill-opacity=\"1\" /><path clip-path=\"url(#clip140)\" d=\"M1225.06 42.6595 Q1217.32 42.6595 1214.33 44.4303 Q1211.35 46.2011 1211.35 50.472 Q1211.35 53.8747 1213.57 55.8886 Q1215.83 57.8677 1219.68 57.8677 Q1224.99 57.8677 1228.19 54.1178 Q1231.42 50.3331 1231.42 44.0831 L1231.42 42.6595 L1225.06 42.6595 M1237.8 40.0206 L1237.8 62.208 L1231.42 62.208 L1231.42 56.3053 Q1229.23 59.8469 1225.96 61.5483 Q1222.7 63.2149 1217.98 63.2149 Q1212.01 63.2149 1208.46 59.8816 Q1204.96 56.5136 1204.96 50.8886 Q1204.96 44.3262 1209.33 40.9928 Q1213.74 37.6595 1222.46 37.6595 L1231.42 37.6595 L1231.42 37.0345 Q1231.42 32.6248 1228.5 30.229 Q1225.62 27.7985 1220.37 27.7985 Q1217.04 27.7985 1213.88 28.5971 Q1210.72 29.3957 1207.8 30.9929 L1207.8 25.0901 Q1211.31 23.736 1214.61 23.0763 Q1217.91 22.3818 1221.03 22.3818 Q1229.47 22.3818 1233.64 26.7568 Q1237.8 31.1318 1237.8 40.0206 Z\" fill=\"#000000\" fill-rule=\"evenodd\" fill-opacity=\"1\" /><path clip-path=\"url(#clip140)\" d=\"M1250.96 23.3193 L1257.35 23.3193 L1257.35 62.208 L1250.96 62.208 L1250.96 23.3193 M1250.96 8.18051 L1257.35 8.18051 L1257.35 16.2707 L1250.96 16.2707 L1250.96 8.18051 Z\" fill=\"#000000\" fill-rule=\"evenodd\" fill-opacity=\"1\" /><path clip-path=\"url(#clip140)\" d=\"M1270.72 8.18051 L1277.11 8.18051 L1277.11 62.208 L1270.72 62.208 L1270.72 8.18051 Z\" fill=\"#000000\" fill-rule=\"evenodd\" fill-opacity=\"1\" /><path clip-path=\"url(#clip140)\" d=\"M1330.69 17.2777 L1321.17 43.0762 L1340.23 43.0762 L1330.69 17.2777 M1326.73 10.368 L1334.68 10.368 L1354.44 62.208 L1347.14 62.208 L1342.42 48.9095 L1319.05 48.9095 L1314.33 62.208 L1306.94 62.208 L1326.73 10.368 Z\" fill=\"#000000\" fill-rule=\"evenodd\" fill-opacity=\"1\" /><path clip-path=\"url(#clip140)\" d=\"M1367.77 10.368 L1367.77 29.6387 L1361.87 29.6387 L1361.87 10.368 L1367.77 10.368 Z\" fill=\"#000000\" fill-rule=\"evenodd\" fill-opacity=\"1\" /><path clip-path=\"url(#clip140)\" d=\"M1406.07 24.4651 L1406.07 30.5068 Q1403.36 29.1179 1400.44 28.4235 Q1397.53 27.729 1394.4 27.729 Q1389.64 27.729 1387.25 29.1873 Q1384.89 30.6457 1384.89 33.5623 Q1384.89 35.7845 1386.59 37.0692 Q1388.29 38.3192 1393.43 39.4651 L1395.62 39.9512 Q1402.42 41.4095 1405.27 44.0831 Q1408.15 46.722 1408.15 51.4789 Q1408.15 56.8955 1403.85 60.0552 Q1399.57 63.2149 1392.07 63.2149 Q1388.95 63.2149 1385.55 62.5899 Q1382.18 61.9997 1378.43 60.7844 L1378.43 54.1872 Q1381.97 56.0275 1385.41 56.965 Q1388.85 57.8677 1392.21 57.8677 Q1396.73 57.8677 1399.16 56.34 Q1401.59 54.7775 1401.59 51.965 Q1401.59 49.3608 1399.82 47.972 Q1398.08 46.5831 1392.14 45.2984 L1389.92 44.7775 Q1383.98 43.5275 1381.35 40.9581 Q1378.71 38.354 1378.71 33.8401 Q1378.71 28.354 1382.6 25.3679 Q1386.48 22.3818 1393.64 22.3818 Q1397.18 22.3818 1400.3 22.9027 Q1403.43 23.4235 1406.07 24.4651 Z\" fill=\"#000000\" fill-rule=\"evenodd\" fill-opacity=\"1\" /><path clip-path=\"url(#clip140)\" d=\"M1447.25 12.2777 L1447.25 23.3193 L1460.41 23.3193 L1460.41 28.2846 L1447.25 28.2846 L1447.25 49.3956 Q1447.25 54.1525 1448.53 55.5066 Q1449.85 56.8608 1453.84 56.8608 L1460.41 56.8608 L1460.41 62.208 L1453.84 62.208 Q1446.45 62.208 1443.64 59.465 Q1440.82 56.6872 1440.82 49.3956 L1440.82 28.2846 L1436.14 28.2846 L1436.14 23.3193 L1440.82 23.3193 L1440.82 12.2777 L1447.25 12.2777 Z\" fill=\"#000000\" fill-rule=\"evenodd\" fill-opacity=\"1\" /><path clip-path=\"url(#clip140)\" d=\"M1483.88 27.7985 Q1478.74 27.7985 1475.75 31.8262 Q1472.77 35.8193 1472.77 42.7984 Q1472.77 49.7775 1475.72 53.8053 Q1478.71 57.7983 1483.88 57.7983 Q1488.98 57.7983 1491.97 53.7705 Q1494.96 49.7428 1494.96 42.7984 Q1494.96 35.8887 1491.97 31.8609 Q1488.98 27.7985 1483.88 27.7985 M1483.88 22.3818 Q1492.21 22.3818 1496.97 27.7985 Q1501.73 33.2151 1501.73 42.7984 Q1501.73 52.3469 1496.97 57.7983 Q1492.21 63.2149 1483.88 63.2149 Q1475.51 63.2149 1470.75 57.7983 Q1466.03 52.3469 1466.03 42.7984 Q1466.03 33.2151 1470.75 27.7985 Q1475.51 22.3818 1483.88 22.3818 Z\" fill=\"#000000\" fill-rule=\"evenodd\" fill-opacity=\"1\" /><path clip-path=\"url(#clip140)\" d=\"M1562.84 42.7984 Q1562.84 35.7498 1559.92 31.7568 Q1557.04 27.729 1551.97 27.729 Q1546.9 27.729 1543.98 31.7568 Q1541.1 35.7498 1541.1 42.7984 Q1541.1 49.847 1543.98 53.8747 Q1546.9 57.8677 1551.97 57.8677 Q1557.04 57.8677 1559.92 53.8747 Q1562.84 49.847 1562.84 42.7984 M1541.1 29.2221 Q1543.12 25.7499 1546.17 24.0832 Q1549.26 22.3818 1553.53 22.3818 Q1560.62 22.3818 1565.02 28.0068 Q1569.47 33.6318 1569.47 42.7984 Q1569.47 51.965 1565.02 57.59 Q1560.62 63.2149 1553.53 63.2149 Q1549.26 63.2149 1546.17 61.5483 Q1543.12 59.8469 1541.1 56.3747 L1541.1 62.208 L1534.68 62.208 L1534.68 8.18051 L1541.1 8.18051 L1541.1 29.2221 Z\" fill=\"#000000\" fill-rule=\"evenodd\" fill-opacity=\"1\" /><path clip-path=\"url(#clip140)\" d=\"M1613.32 41.1664 L1613.32 44.2914 L1583.95 44.2914 Q1584.37 50.8886 1587.91 54.3608 Q1591.48 57.7983 1597.84 57.7983 Q1601.52 57.7983 1604.96 56.8955 Q1608.43 55.9928 1611.83 54.1872 L1611.83 60.2288 Q1608.39 61.6872 1604.78 62.4511 Q1601.17 63.2149 1597.46 63.2149 Q1588.15 63.2149 1582.7 57.7983 Q1577.28 52.3817 1577.28 43.1456 Q1577.28 33.597 1582.42 28.0068 Q1587.59 22.3818 1596.34 22.3818 Q1604.19 22.3818 1608.74 27.4512 Q1613.32 32.4859 1613.32 41.1664 M1606.93 39.2915 Q1606.86 34.0484 1603.98 30.9234 Q1601.14 27.7985 1596.41 27.7985 Q1591.07 27.7985 1587.84 30.8193 Q1584.64 33.8401 1584.16 39.3262 L1606.93 39.2915 Z\" fill=\"#000000\" fill-rule=\"evenodd\" fill-opacity=\"1\" /><path clip-path=\"url(#clip140)\" d=\"M1672 29.2221 L1672 8.18051 L1678.39 8.18051 L1678.39 62.208 L1672 62.208 L1672 56.3747 Q1669.99 59.8469 1666.9 61.5483 Q1663.84 63.2149 1659.54 63.2149 Q1652.49 63.2149 1648.05 57.59 Q1643.64 51.965 1643.64 42.7984 Q1643.64 33.6318 1648.05 28.0068 Q1652.49 22.3818 1659.54 22.3818 Q1663.84 22.3818 1666.9 24.0832 Q1669.99 25.7499 1672 29.2221 M1650.23 42.7984 Q1650.23 49.847 1653.11 53.8747 Q1656.03 57.8677 1661.1 57.8677 Q1666.17 57.8677 1669.09 53.8747 Q1672 49.847 1672 42.7984 Q1672 35.7498 1669.09 31.7568 Q1666.17 27.729 1661.1 27.729 Q1656.03 27.729 1653.11 31.7568 Q1650.23 35.7498 1650.23 42.7984 Z\" fill=\"#000000\" fill-rule=\"evenodd\" fill-opacity=\"1\" /><path clip-path=\"url(#clip140)\" d=\"M1724.82 41.1664 L1724.82 44.2914 L1695.44 44.2914 Q1695.86 50.8886 1699.4 54.3608 Q1702.98 57.7983 1709.33 57.7983 Q1713.01 57.7983 1716.45 56.8955 Q1719.92 55.9928 1723.32 54.1872 L1723.32 60.2288 Q1719.89 61.6872 1716.27 62.4511 Q1712.66 63.2149 1708.95 63.2149 Q1699.64 63.2149 1694.19 57.7983 Q1688.77 52.3817 1688.77 43.1456 Q1688.77 33.597 1693.91 28.0068 Q1699.09 22.3818 1707.84 22.3818 Q1715.68 22.3818 1720.23 27.4512 Q1724.82 32.4859 1724.82 41.1664 M1718.43 39.2915 Q1718.36 34.0484 1715.48 30.9234 Q1712.63 27.7985 1707.91 27.7985 Q1702.56 27.7985 1699.33 30.8193 Q1696.14 33.8401 1695.65 39.3262 L1718.43 39.2915 Z\" fill=\"#000000\" fill-rule=\"evenodd\" fill-opacity=\"1\" /><path clip-path=\"url(#clip140)\" d=\"M1735.3 8.18051 L1741.69 8.18051 L1741.69 62.208 L1735.3 62.208 L1735.3 8.18051 Z\" fill=\"#000000\" fill-rule=\"evenodd\" fill-opacity=\"1\" /><path clip-path=\"url(#clip140)\" d=\"M1755.06 23.3193 L1761.45 23.3193 L1761.45 62.208 L1755.06 62.208 L1755.06 23.3193 M1755.06 8.18051 L1761.45 8.18051 L1761.45 16.2707 L1755.06 16.2707 L1755.06 8.18051 Z\" fill=\"#000000\" fill-rule=\"evenodd\" fill-opacity=\"1\" /><path clip-path=\"url(#clip140)\" d=\"M1770.23 23.3193 L1777 23.3193 L1789.16 55.958 L1801.31 23.3193 L1808.08 23.3193 L1793.5 62.208 L1784.82 62.208 L1770.23 23.3193 Z\" fill=\"#000000\" fill-rule=\"evenodd\" fill-opacity=\"1\" /><path clip-path=\"url(#clip140)\" d=\"M1850.16 41.1664 L1850.16 44.2914 L1820.79 44.2914 Q1821.2 50.8886 1824.75 54.3608 Q1828.32 57.7983 1834.68 57.7983 Q1838.36 57.7983 1841.79 56.8955 Q1845.27 55.9928 1848.67 54.1872 L1848.67 60.2288 Q1845.23 61.6872 1841.62 62.4511 Q1838.01 63.2149 1834.29 63.2149 Q1824.99 63.2149 1819.54 57.7983 Q1814.12 52.3817 1814.12 43.1456 Q1814.12 33.597 1819.26 28.0068 Q1824.43 22.3818 1833.18 22.3818 Q1841.03 22.3818 1845.58 27.4512 Q1850.16 32.4859 1850.16 41.1664 M1843.77 39.2915 Q1843.7 34.0484 1840.82 30.9234 Q1837.97 27.7985 1833.25 27.7985 Q1827.91 27.7985 1824.68 30.8193 Q1821.48 33.8401 1821 39.3262 L1843.77 39.2915 Z\" fill=\"#000000\" fill-rule=\"evenodd\" fill-opacity=\"1\" /><path clip-path=\"url(#clip140)\" d=\"M1883.18 29.2915 Q1882.11 28.6665 1880.82 28.3887 Q1879.57 28.0762 1878.04 28.0762 Q1872.63 28.0762 1869.71 31.6179 Q1866.83 35.1248 1866.83 41.722 L1866.83 62.208 L1860.41 62.208 L1860.41 23.3193 L1866.83 23.3193 L1866.83 29.361 Q1868.84 25.8193 1872.07 24.1179 Q1875.3 22.3818 1879.92 22.3818 Q1880.58 22.3818 1881.38 22.486 Q1882.18 22.5554 1883.15 22.729 L1883.18 29.2915 Z\" fill=\"#000000\" fill-rule=\"evenodd\" fill-opacity=\"1\" /><path clip-path=\"url(#clip140)\" d=\"M1921.59 41.1664 L1921.59 44.2914 L1892.21 44.2914 Q1892.63 50.8886 1896.17 54.3608 Q1899.75 57.7983 1906.1 57.7983 Q1909.78 57.7983 1913.22 56.8955 Q1916.69 55.9928 1920.09 54.1872 L1920.09 60.2288 Q1916.65 61.6872 1913.04 62.4511 Q1909.43 63.2149 1905.72 63.2149 Q1896.41 63.2149 1890.96 57.7983 Q1885.54 52.3817 1885.54 43.1456 Q1885.54 33.597 1890.68 28.0068 Q1895.86 22.3818 1904.61 22.3818 Q1912.45 22.3818 1917 27.4512 Q1921.59 32.4859 1921.59 41.1664 M1915.2 39.2915 Q1915.13 34.0484 1912.25 30.9234 Q1909.4 27.7985 1904.68 27.7985 Q1899.33 27.7985 1896.1 30.8193 Q1892.91 33.8401 1892.42 39.3262 L1915.2 39.2915 Z\" fill=\"#000000\" fill-rule=\"evenodd\" fill-opacity=\"1\" /><path clip-path=\"url(#clip140)\" d=\"M1957.66 29.2221 L1957.66 8.18051 L1964.05 8.18051 L1964.05 62.208 L1957.66 62.208 L1957.66 56.3747 Q1955.65 59.8469 1952.56 61.5483 Q1949.5 63.2149 1945.2 63.2149 Q1938.15 63.2149 1933.7 57.59 Q1929.29 51.965 1929.29 42.7984 Q1929.29 33.6318 1933.7 28.0068 Q1938.15 22.3818 1945.2 22.3818 Q1949.5 22.3818 1952.56 24.0832 Q1955.65 25.7499 1957.66 29.2221 M1935.89 42.7984 Q1935.89 49.847 1938.77 53.8747 Q1941.69 57.8677 1946.76 57.8677 Q1951.83 57.8677 1954.75 53.8747 Q1957.66 49.847 1957.66 42.7984 Q1957.66 35.7498 1954.75 31.7568 Q1951.83 27.729 1946.76 27.729 Q1941.69 27.729 1938.77 31.7568 Q1935.89 35.7498 1935.89 42.7984 Z\" fill=\"#000000\" fill-rule=\"evenodd\" fill-opacity=\"1\" /><path clip-path=\"url(#clip142)\" d=\"\n",
       "M322.151 151.861 L322.151 1386.15 L434.646 1386.15 L434.646 151.861 L322.151 151.861 L322.151 151.861  Z\n",
       "  \" fill=\"#009af9\" fill-rule=\"evenodd\" fill-opacity=\"1\"/>\n",
       "<polyline clip-path=\"url(#clip142)\" style=\"stroke:#000000; stroke-linecap:butt; stroke-linejoin:round; stroke-width:4; stroke-opacity:1; fill:none\" points=\"\n",
       "  322.151,151.861 322.151,1386.15 434.646,1386.15 434.646,151.861 322.151,151.861 \n",
       "  \"/>\n",
       "<path clip-path=\"url(#clip142)\" d=\"\n",
       "M434.646 1066.15 L434.646 1386.15 L547.141 1386.15 L547.141 1066.15 L434.646 1066.15 L434.646 1066.15  Z\n",
       "  \" fill=\"#009af9\" fill-rule=\"evenodd\" fill-opacity=\"1\"/>\n",
       "<polyline clip-path=\"url(#clip142)\" style=\"stroke:#000000; stroke-linecap:butt; stroke-linejoin:round; stroke-width:4; stroke-opacity:1; fill:none\" points=\"\n",
       "  434.646,1066.15 434.646,1386.15 547.141,1386.15 547.141,1066.15 434.646,1066.15 \n",
       "  \"/>\n",
       "<path clip-path=\"url(#clip142)\" d=\"\n",
       "M547.141 1294.72 L547.141 1386.15 L659.636 1386.15 L659.636 1294.72 L547.141 1294.72 L547.141 1294.72  Z\n",
       "  \" fill=\"#009af9\" fill-rule=\"evenodd\" fill-opacity=\"1\"/>\n",
       "<polyline clip-path=\"url(#clip142)\" style=\"stroke:#000000; stroke-linecap:butt; stroke-linejoin:round; stroke-width:4; stroke-opacity:1; fill:none\" points=\"\n",
       "  547.141,1294.72 547.141,1386.15 659.636,1386.15 659.636,1294.72 547.141,1294.72 \n",
       "  \"/>\n",
       "<path clip-path=\"url(#clip142)\" d=\"\n",
       "M659.636 1294.72 L659.636 1386.15 L772.132 1386.15 L772.132 1294.72 L659.636 1294.72 L659.636 1294.72  Z\n",
       "  \" fill=\"#009af9\" fill-rule=\"evenodd\" fill-opacity=\"1\"/>\n",
       "<polyline clip-path=\"url(#clip142)\" style=\"stroke:#000000; stroke-linecap:butt; stroke-linejoin:round; stroke-width:4; stroke-opacity:1; fill:none\" points=\"\n",
       "  659.636,1294.72 659.636,1386.15 772.132,1386.15 772.132,1294.72 659.636,1294.72 \n",
       "  \"/>\n",
       "<path clip-path=\"url(#clip142)\" d=\"\n",
       "M772.132 1386.15 L772.132 1386.15 L884.627 1386.15 L884.627 1386.15 L772.132 1386.15 L772.132 1386.15  Z\n",
       "  \" fill=\"#009af9\" fill-rule=\"evenodd\" fill-opacity=\"1\"/>\n",
       "<polyline clip-path=\"url(#clip142)\" style=\"stroke:#000000; stroke-linecap:butt; stroke-linejoin:round; stroke-width:4; stroke-opacity:1; fill:none\" points=\"\n",
       "  772.132,1386.15 772.132,1386.15 884.627,1386.15 772.132,1386.15 \n",
       "  \"/>\n",
       "<path clip-path=\"url(#clip142)\" d=\"\n",
       "M884.627 1386.15 L884.627 1386.15 L997.122 1386.15 L997.122 1386.15 L884.627 1386.15 L884.627 1386.15  Z\n",
       "  \" fill=\"#009af9\" fill-rule=\"evenodd\" fill-opacity=\"1\"/>\n",
       "<polyline clip-path=\"url(#clip142)\" style=\"stroke:#000000; stroke-linecap:butt; stroke-linejoin:round; stroke-width:4; stroke-opacity:1; fill:none\" points=\"\n",
       "  884.627,1386.15 884.627,1386.15 997.122,1386.15 884.627,1386.15 \n",
       "  \"/>\n",
       "<path clip-path=\"url(#clip142)\" d=\"\n",
       "M997.122 1386.15 L997.122 1386.15 L1109.62 1386.15 L1109.62 1386.15 L997.122 1386.15 L997.122 1386.15  Z\n",
       "  \" fill=\"#009af9\" fill-rule=\"evenodd\" fill-opacity=\"1\"/>\n",
       "<polyline clip-path=\"url(#clip142)\" style=\"stroke:#000000; stroke-linecap:butt; stroke-linejoin:round; stroke-width:4; stroke-opacity:1; fill:none\" points=\"\n",
       "  997.122,1386.15 997.122,1386.15 1109.62,1386.15 997.122,1386.15 \n",
       "  \"/>\n",
       "<path clip-path=\"url(#clip142)\" d=\"\n",
       "M1109.62 1340.44 L1109.62 1386.15 L1222.11 1386.15 L1222.11 1340.44 L1109.62 1340.44 L1109.62 1340.44  Z\n",
       "  \" fill=\"#009af9\" fill-rule=\"evenodd\" fill-opacity=\"1\"/>\n",
       "<polyline clip-path=\"url(#clip142)\" style=\"stroke:#000000; stroke-linecap:butt; stroke-linejoin:round; stroke-width:4; stroke-opacity:1; fill:none\" points=\"\n",
       "  1109.62,1340.44 1109.62,1386.15 1222.11,1386.15 1222.11,1340.44 1109.62,1340.44 \n",
       "  \"/>\n",
       "<path clip-path=\"url(#clip142)\" d=\"\n",
       "M1222.11 1386.15 L1222.11 1386.15 L1334.61 1386.15 L1334.61 1386.15 L1222.11 1386.15 L1222.11 1386.15  Z\n",
       "  \" fill=\"#009af9\" fill-rule=\"evenodd\" fill-opacity=\"1\"/>\n",
       "<polyline clip-path=\"url(#clip142)\" style=\"stroke:#000000; stroke-linecap:butt; stroke-linejoin:round; stroke-width:4; stroke-opacity:1; fill:none\" points=\"\n",
       "  1222.11,1386.15 1222.11,1386.15 1334.61,1386.15 1222.11,1386.15 \n",
       "  \"/>\n",
       "<path clip-path=\"url(#clip142)\" d=\"\n",
       "M1334.61 1386.15 L1334.61 1386.15 L1447.1 1386.15 L1447.1 1386.15 L1334.61 1386.15 L1334.61 1386.15  Z\n",
       "  \" fill=\"#009af9\" fill-rule=\"evenodd\" fill-opacity=\"1\"/>\n",
       "<polyline clip-path=\"url(#clip142)\" style=\"stroke:#000000; stroke-linecap:butt; stroke-linejoin:round; stroke-width:4; stroke-opacity:1; fill:none\" points=\"\n",
       "  1334.61,1386.15 1334.61,1386.15 1447.1,1386.15 1334.61,1386.15 \n",
       "  \"/>\n",
       "<path clip-path=\"url(#clip142)\" d=\"\n",
       "M1447.1 1386.15 L1447.1 1386.15 L1559.6 1386.15 L1559.6 1386.15 L1447.1 1386.15 L1447.1 1386.15  Z\n",
       "  \" fill=\"#009af9\" fill-rule=\"evenodd\" fill-opacity=\"1\"/>\n",
       "<polyline clip-path=\"url(#clip142)\" style=\"stroke:#000000; stroke-linecap:butt; stroke-linejoin:round; stroke-width:4; stroke-opacity:1; fill:none\" points=\"\n",
       "  1447.1,1386.15 1447.1,1386.15 1559.6,1386.15 1447.1,1386.15 \n",
       "  \"/>\n",
       "<path clip-path=\"url(#clip142)\" d=\"\n",
       "M1559.6 1386.15 L1559.6 1386.15 L1672.09 1386.15 L1672.09 1386.15 L1559.6 1386.15 L1559.6 1386.15  Z\n",
       "  \" fill=\"#009af9\" fill-rule=\"evenodd\" fill-opacity=\"1\"/>\n",
       "<polyline clip-path=\"url(#clip142)\" style=\"stroke:#000000; stroke-linecap:butt; stroke-linejoin:round; stroke-width:4; stroke-opacity:1; fill:none\" points=\"\n",
       "  1559.6,1386.15 1559.6,1386.15 1672.09,1386.15 1559.6,1386.15 \n",
       "  \"/>\n",
       "<path clip-path=\"url(#clip142)\" d=\"\n",
       "M1672.09 1386.15 L1672.09 1386.15 L1784.59 1386.15 L1784.59 1386.15 L1672.09 1386.15 L1672.09 1386.15  Z\n",
       "  \" fill=\"#009af9\" fill-rule=\"evenodd\" fill-opacity=\"1\"/>\n",
       "<polyline clip-path=\"url(#clip142)\" style=\"stroke:#000000; stroke-linecap:butt; stroke-linejoin:round; stroke-width:4; stroke-opacity:1; fill:none\" points=\"\n",
       "  1672.09,1386.15 1672.09,1386.15 1784.59,1386.15 1672.09,1386.15 \n",
       "  \"/>\n",
       "<path clip-path=\"url(#clip142)\" d=\"\n",
       "M1784.59 1386.15 L1784.59 1386.15 L1897.08 1386.15 L1897.08 1386.15 L1784.59 1386.15 L1784.59 1386.15  Z\n",
       "  \" fill=\"#009af9\" fill-rule=\"evenodd\" fill-opacity=\"1\"/>\n",
       "<polyline clip-path=\"url(#clip142)\" style=\"stroke:#000000; stroke-linecap:butt; stroke-linejoin:round; stroke-width:4; stroke-opacity:1; fill:none\" points=\"\n",
       "  1784.59,1386.15 1784.59,1386.15 1897.08,1386.15 1784.59,1386.15 \n",
       "  \"/>\n",
       "<path clip-path=\"url(#clip142)\" d=\"\n",
       "M1897.08 1386.15 L1897.08 1386.15 L2009.58 1386.15 L2009.58 1386.15 L1897.08 1386.15 L1897.08 1386.15  Z\n",
       "  \" fill=\"#009af9\" fill-rule=\"evenodd\" fill-opacity=\"1\"/>\n",
       "<polyline clip-path=\"url(#clip142)\" style=\"stroke:#000000; stroke-linecap:butt; stroke-linejoin:round; stroke-width:4; stroke-opacity:1; fill:none\" points=\"\n",
       "  1897.08,1386.15 1897.08,1386.15 2009.58,1386.15 1897.08,1386.15 \n",
       "  \"/>\n",
       "<path clip-path=\"url(#clip142)\" d=\"\n",
       "M2009.58 1386.15 L2009.58 1386.15 L2122.07 1386.15 L2122.07 1386.15 L2009.58 1386.15 L2009.58 1386.15  Z\n",
       "  \" fill=\"#009af9\" fill-rule=\"evenodd\" fill-opacity=\"1\"/>\n",
       "<polyline clip-path=\"url(#clip142)\" style=\"stroke:#000000; stroke-linecap:butt; stroke-linejoin:round; stroke-width:4; stroke-opacity:1; fill:none\" points=\"\n",
       "  2009.58,1386.15 2009.58,1386.15 2122.07,1386.15 2009.58,1386.15 \n",
       "  \"/>\n",
       "<path clip-path=\"url(#clip142)\" d=\"\n",
       "M2122.07 1340.44 L2122.07 1386.15 L2234.57 1386.15 L2234.57 1340.44 L2122.07 1340.44 L2122.07 1340.44  Z\n",
       "  \" fill=\"#009af9\" fill-rule=\"evenodd\" fill-opacity=\"1\"/>\n",
       "<polyline clip-path=\"url(#clip142)\" style=\"stroke:#000000; stroke-linecap:butt; stroke-linejoin:round; stroke-width:4; stroke-opacity:1; fill:none\" points=\"\n",
       "  2122.07,1340.44 2122.07,1386.15 2234.57,1386.15 2234.57,1340.44 2122.07,1340.44 \n",
       "  \"/>\n",
       "<circle clip-path=\"url(#clip142)\" style=\"fill:#009af9; stroke:none; fill-opacity:0\" cx=\"378.399\" cy=\"151.861\" r=\"2\"/>\n",
       "<circle clip-path=\"url(#clip142)\" style=\"fill:#009af9; stroke:none; fill-opacity:0\" cx=\"490.894\" cy=\"1066.15\" r=\"2\"/>\n",
       "<circle clip-path=\"url(#clip142)\" style=\"fill:#009af9; stroke:none; fill-opacity:0\" cx=\"603.389\" cy=\"1294.72\" r=\"2\"/>\n",
       "<circle clip-path=\"url(#clip142)\" style=\"fill:#009af9; stroke:none; fill-opacity:0\" cx=\"715.884\" cy=\"1294.72\" r=\"2\"/>\n",
       "<circle clip-path=\"url(#clip142)\" style=\"fill:#009af9; stroke:none; fill-opacity:0\" cx=\"828.379\" cy=\"1386.15\" r=\"2\"/>\n",
       "<circle clip-path=\"url(#clip142)\" style=\"fill:#009af9; stroke:none; fill-opacity:0\" cx=\"940.874\" cy=\"1386.15\" r=\"2\"/>\n",
       "<circle clip-path=\"url(#clip142)\" style=\"fill:#009af9; stroke:none; fill-opacity:0\" cx=\"1053.37\" cy=\"1386.15\" r=\"2\"/>\n",
       "<circle clip-path=\"url(#clip142)\" style=\"fill:#009af9; stroke:none; fill-opacity:0\" cx=\"1165.86\" cy=\"1340.44\" r=\"2\"/>\n",
       "<circle clip-path=\"url(#clip142)\" style=\"fill:#009af9; stroke:none; fill-opacity:0\" cx=\"1278.36\" cy=\"1386.15\" r=\"2\"/>\n",
       "<circle clip-path=\"url(#clip142)\" style=\"fill:#009af9; stroke:none; fill-opacity:0\" cx=\"1390.85\" cy=\"1386.15\" r=\"2\"/>\n",
       "<circle clip-path=\"url(#clip142)\" style=\"fill:#009af9; stroke:none; fill-opacity:0\" cx=\"1503.35\" cy=\"1386.15\" r=\"2\"/>\n",
       "<circle clip-path=\"url(#clip142)\" style=\"fill:#009af9; stroke:none; fill-opacity:0\" cx=\"1615.85\" cy=\"1386.15\" r=\"2\"/>\n",
       "<circle clip-path=\"url(#clip142)\" style=\"fill:#009af9; stroke:none; fill-opacity:0\" cx=\"1728.34\" cy=\"1386.15\" r=\"2\"/>\n",
       "<circle clip-path=\"url(#clip142)\" style=\"fill:#009af9; stroke:none; fill-opacity:0\" cx=\"1840.84\" cy=\"1386.15\" r=\"2\"/>\n",
       "<circle clip-path=\"url(#clip142)\" style=\"fill:#009af9; stroke:none; fill-opacity:0\" cx=\"1953.33\" cy=\"1386.15\" r=\"2\"/>\n",
       "<circle clip-path=\"url(#clip142)\" style=\"fill:#009af9; stroke:none; fill-opacity:0\" cx=\"2065.83\" cy=\"1386.15\" r=\"2\"/>\n",
       "<circle clip-path=\"url(#clip142)\" style=\"fill:#009af9; stroke:none; fill-opacity:0\" cx=\"2178.32\" cy=\"1340.44\" r=\"2\"/>\n",
       "</svg>\n"
      ]
     },
     "metadata": {},
     "output_type": "display_data"
    }
   ],
   "source": [
    "display(histogram(time_diff_A, nbins=20, title=\"Time taken for mail A's to be delivered\", xlabel=\"Time taken\", ylabel=\"Counts\", legend=false, titlefontsize=12))"
   ]
  },
  {
   "cell_type": "code",
   "execution_count": 25,
   "metadata": {
    "ExecuteTime": {
     "end_time": "2021-12-08T15:01:15.183000+08:00",
     "start_time": "2021-12-08T07:01:15.130Z"
    },
    "hidden": true
   },
   "outputs": [
    {
     "data": {
      "image/svg+xml": [
       "<?xml version=\"1.0\" encoding=\"utf-8\"?>\n",
       "<svg xmlns=\"http://www.w3.org/2000/svg\" xmlns:xlink=\"http://www.w3.org/1999/xlink\" width=\"600\" height=\"400\" viewBox=\"0 0 2400 1600\">\n",
       "<defs>\n",
       "  <clipPath id=\"clip180\">\n",
       "    <rect x=\"0\" y=\"0\" width=\"2400\" height=\"1600\"/>\n",
       "  </clipPath>\n",
       "</defs>\n",
       "<path clip-path=\"url(#clip180)\" d=\"\n",
       "M0 1600 L2400 1600 L2400 0 L0 0  Z\n",
       "  \" fill=\"#ffffff\" fill-rule=\"evenodd\" fill-opacity=\"1\"/>\n",
       "<defs>\n",
       "  <clipPath id=\"clip181\">\n",
       "    <rect x=\"480\" y=\"0\" width=\"1681\" height=\"1600\"/>\n",
       "  </clipPath>\n",
       "</defs>\n",
       "<path clip-path=\"url(#clip180)\" d=\"\n",
       "M203.964 1423.18 L2352.76 1423.18 L2352.76 114.832 L203.964 114.832  Z\n",
       "  \" fill=\"#ffffff\" fill-rule=\"evenodd\" fill-opacity=\"1\"/>\n",
       "<defs>\n",
       "  <clipPath id=\"clip182\">\n",
       "    <rect x=\"203\" y=\"114\" width=\"2150\" height=\"1309\"/>\n",
       "  </clipPath>\n",
       "</defs>\n",
       "<polyline clip-path=\"url(#clip182)\" style=\"stroke:#000000; stroke-linecap:butt; stroke-linejoin:round; stroke-width:2; stroke-opacity:0.1; fill:none\" points=\"\n",
       "  322.151,1423.18 322.151,114.832 \n",
       "  \"/>\n",
       "<polyline clip-path=\"url(#clip182)\" style=\"stroke:#000000; stroke-linecap:butt; stroke-linejoin:round; stroke-width:2; stroke-opacity:0.1; fill:none\" points=\"\n",
       "  772.132,1423.18 772.132,114.832 \n",
       "  \"/>\n",
       "<polyline clip-path=\"url(#clip182)\" style=\"stroke:#000000; stroke-linecap:butt; stroke-linejoin:round; stroke-width:2; stroke-opacity:0.1; fill:none\" points=\"\n",
       "  1222.11,1423.18 1222.11,114.832 \n",
       "  \"/>\n",
       "<polyline clip-path=\"url(#clip182)\" style=\"stroke:#000000; stroke-linecap:butt; stroke-linejoin:round; stroke-width:2; stroke-opacity:0.1; fill:none\" points=\"\n",
       "  1672.09,1423.18 1672.09,114.832 \n",
       "  \"/>\n",
       "<polyline clip-path=\"url(#clip182)\" style=\"stroke:#000000; stroke-linecap:butt; stroke-linejoin:round; stroke-width:2; stroke-opacity:0.1; fill:none\" points=\"\n",
       "  2122.07,1423.18 2122.07,114.832 \n",
       "  \"/>\n",
       "<polyline clip-path=\"url(#clip180)\" style=\"stroke:#000000; stroke-linecap:butt; stroke-linejoin:round; stroke-width:4; stroke-opacity:1; fill:none\" points=\"\n",
       "  203.964,1423.18 2352.76,1423.18 \n",
       "  \"/>\n",
       "<polyline clip-path=\"url(#clip180)\" style=\"stroke:#000000; stroke-linecap:butt; stroke-linejoin:round; stroke-width:4; stroke-opacity:1; fill:none\" points=\"\n",
       "  322.151,1423.18 322.151,1404.28 \n",
       "  \"/>\n",
       "<polyline clip-path=\"url(#clip180)\" style=\"stroke:#000000; stroke-linecap:butt; stroke-linejoin:round; stroke-width:4; stroke-opacity:1; fill:none\" points=\"\n",
       "  772.132,1423.18 772.132,1404.28 \n",
       "  \"/>\n",
       "<polyline clip-path=\"url(#clip180)\" style=\"stroke:#000000; stroke-linecap:butt; stroke-linejoin:round; stroke-width:4; stroke-opacity:1; fill:none\" points=\"\n",
       "  1222.11,1423.18 1222.11,1404.28 \n",
       "  \"/>\n",
       "<polyline clip-path=\"url(#clip180)\" style=\"stroke:#000000; stroke-linecap:butt; stroke-linejoin:round; stroke-width:4; stroke-opacity:1; fill:none\" points=\"\n",
       "  1672.09,1423.18 1672.09,1404.28 \n",
       "  \"/>\n",
       "<polyline clip-path=\"url(#clip180)\" style=\"stroke:#000000; stroke-linecap:butt; stroke-linejoin:round; stroke-width:4; stroke-opacity:1; fill:none\" points=\"\n",
       "  2122.07,1423.18 2122.07,1404.28 \n",
       "  \"/>\n",
       "<path clip-path=\"url(#clip180)\" d=\"M322.151 1454.1 Q318.54 1454.1 316.711 1457.66 Q314.906 1461.2 314.906 1468.33 Q314.906 1475.44 316.711 1479.01 Q318.54 1482.55 322.151 1482.55 Q325.785 1482.55 327.591 1479.01 Q329.419 1475.44 329.419 1468.33 Q329.419 1461.2 327.591 1457.66 Q325.785 1454.1 322.151 1454.1 M322.151 1450.39 Q327.961 1450.39 331.017 1455 Q334.095 1459.58 334.095 1468.33 Q334.095 1477.06 331.017 1481.67 Q327.961 1486.25 322.151 1486.25 Q316.341 1486.25 313.262 1481.67 Q310.207 1477.06 310.207 1468.33 Q310.207 1459.58 313.262 1455 Q316.341 1450.39 322.151 1450.39 Z\" fill=\"#000000\" fill-rule=\"evenodd\" fill-opacity=\"1\" /><path clip-path=\"url(#clip180)\" d=\"M766.784 1481.64 L783.104 1481.64 L783.104 1485.58 L761.159 1485.58 L761.159 1481.64 Q763.821 1478.89 768.405 1474.26 Q773.011 1469.61 774.192 1468.27 Q776.437 1465.74 777.317 1464.01 Q778.22 1462.25 778.22 1460.56 Q778.22 1457.8 776.275 1456.07 Q774.354 1454.33 771.252 1454.33 Q769.053 1454.33 766.599 1455.09 Q764.169 1455.86 761.391 1457.41 L761.391 1452.69 Q764.215 1451.55 766.669 1450.97 Q769.122 1450.39 771.159 1450.39 Q776.53 1450.39 779.724 1453.08 Q782.919 1455.77 782.919 1460.26 Q782.919 1462.39 782.108 1464.31 Q781.321 1466.2 779.215 1468.8 Q778.636 1469.47 775.534 1472.69 Q772.432 1475.88 766.784 1481.64 Z\" fill=\"#000000\" fill-rule=\"evenodd\" fill-opacity=\"1\" /><path clip-path=\"url(#clip180)\" d=\"M1225.12 1455.09 L1213.32 1473.54 L1225.12 1473.54 L1225.12 1455.09 M1223.89 1451.02 L1229.77 1451.02 L1229.77 1473.54 L1234.7 1473.54 L1234.7 1477.43 L1229.77 1477.43 L1229.77 1485.58 L1225.12 1485.58 L1225.12 1477.43 L1209.52 1477.43 L1209.52 1472.92 L1223.89 1451.02 Z\" fill=\"#000000\" fill-rule=\"evenodd\" fill-opacity=\"1\" /><path clip-path=\"url(#clip180)\" d=\"M1672.5 1466.44 Q1669.35 1466.44 1667.5 1468.59 Q1665.67 1470.74 1665.67 1474.49 Q1665.67 1478.22 1667.5 1480.39 Q1669.35 1482.55 1672.5 1482.55 Q1675.65 1482.55 1677.47 1480.39 Q1679.33 1478.22 1679.33 1474.49 Q1679.33 1470.74 1677.47 1468.59 Q1675.65 1466.44 1672.5 1466.44 M1681.78 1451.78 L1681.78 1456.04 Q1680.02 1455.21 1678.22 1454.77 Q1676.43 1454.33 1674.67 1454.33 Q1670.04 1454.33 1667.59 1457.45 Q1665.16 1460.58 1664.81 1466.9 Q1666.18 1464.89 1668.24 1463.82 Q1670.3 1462.73 1672.78 1462.73 Q1677.98 1462.73 1680.99 1465.9 Q1684.03 1469.05 1684.03 1474.49 Q1684.03 1479.82 1680.88 1483.03 Q1677.73 1486.25 1672.5 1486.25 Q1666.5 1486.25 1663.33 1481.67 Q1660.16 1477.06 1660.16 1468.33 Q1660.16 1460.14 1664.05 1455.28 Q1667.94 1450.39 1674.49 1450.39 Q1676.25 1450.39 1678.03 1450.74 Q1679.84 1451.09 1681.78 1451.78 Z\" fill=\"#000000\" fill-rule=\"evenodd\" fill-opacity=\"1\" /><path clip-path=\"url(#clip180)\" d=\"M2122.07 1469.17 Q2118.74 1469.17 2116.82 1470.95 Q2114.92 1472.73 2114.92 1475.86 Q2114.92 1478.98 2116.82 1480.77 Q2118.74 1482.55 2122.07 1482.55 Q2125.41 1482.55 2127.33 1480.77 Q2129.25 1478.96 2129.25 1475.86 Q2129.25 1472.73 2127.33 1470.95 Q2125.43 1469.17 2122.07 1469.17 M2117.4 1467.18 Q2114.39 1466.44 2112.7 1464.38 Q2111.03 1462.32 2111.03 1459.35 Q2111.03 1455.21 2113.97 1452.8 Q2116.93 1450.39 2122.07 1450.39 Q2127.24 1450.39 2130.18 1452.8 Q2133.11 1455.21 2133.11 1459.35 Q2133.11 1462.32 2131.43 1464.38 Q2129.76 1466.44 2126.77 1467.18 Q2130.15 1467.96 2132.03 1470.26 Q2133.93 1472.55 2133.93 1475.86 Q2133.93 1480.88 2130.85 1483.57 Q2127.79 1486.25 2122.07 1486.25 Q2116.36 1486.25 2113.28 1483.57 Q2110.22 1480.88 2110.22 1475.86 Q2110.22 1472.55 2112.12 1470.26 Q2114.02 1467.96 2117.4 1467.18 M2115.68 1459.79 Q2115.68 1462.48 2117.35 1463.98 Q2119.04 1465.49 2122.07 1465.49 Q2125.08 1465.49 2126.77 1463.98 Q2128.49 1462.48 2128.49 1459.79 Q2128.49 1457.11 2126.77 1455.6 Q2125.08 1454.1 2122.07 1454.1 Q2119.04 1454.1 2117.35 1455.6 Q2115.68 1457.11 2115.68 1459.79 Z\" fill=\"#000000\" fill-rule=\"evenodd\" fill-opacity=\"1\" /><path clip-path=\"url(#clip180)\" d=\"M1099.74 1520.52 L1139.94 1520.52 L1139.94 1525.93 L1123.07 1525.93 L1123.07 1568.04 L1116.61 1568.04 L1116.61 1525.93 L1099.74 1525.93 L1099.74 1520.52 Z\" fill=\"#000000\" fill-rule=\"evenodd\" fill-opacity=\"1\" /><path clip-path=\"url(#clip180)\" d=\"M1143.88 1532.4 L1149.74 1532.4 L1149.74 1568.04 L1143.88 1568.04 L1143.88 1532.4 M1143.88 1518.52 L1149.74 1518.52 L1149.74 1525.93 L1143.88 1525.93 L1143.88 1518.52 Z\" fill=\"#000000\" fill-rule=\"evenodd\" fill-opacity=\"1\" /><path clip-path=\"url(#clip180)\" d=\"M1189.75 1539.24 Q1191.95 1535.29 1195 1533.41 Q1198.06 1531.54 1202.19 1531.54 Q1207.76 1531.54 1210.79 1535.45 Q1213.81 1539.33 1213.81 1546.53 L1213.81 1568.04 L1207.92 1568.04 L1207.92 1546.72 Q1207.92 1541.59 1206.11 1539.11 Q1204.29 1536.63 1200.57 1536.63 Q1196.02 1536.63 1193.38 1539.65 Q1190.74 1542.68 1190.74 1547.9 L1190.74 1568.04 L1184.85 1568.04 L1184.85 1546.72 Q1184.85 1541.56 1183.03 1539.11 Q1181.22 1536.63 1177.43 1536.63 Q1172.94 1536.63 1170.3 1539.68 Q1167.66 1542.71 1167.66 1547.9 L1167.66 1568.04 L1161.77 1568.04 L1161.77 1532.4 L1167.66 1532.4 L1167.66 1537.93 Q1169.67 1534.66 1172.47 1533.1 Q1175.27 1531.54 1179.12 1531.54 Q1183 1531.54 1185.71 1533.51 Q1188.44 1535.48 1189.75 1539.24 Z\" fill=\"#000000\" fill-rule=\"evenodd\" fill-opacity=\"1\" /><path clip-path=\"url(#clip180)\" d=\"M1255.98 1548.76 L1255.98 1551.62 L1229.06 1551.62 Q1229.44 1557.67 1232.69 1560.85 Q1235.96 1564 1241.79 1564 Q1245.16 1564 1248.31 1563.17 Q1251.5 1562.35 1254.62 1560.69 L1254.62 1566.23 Q1251.46 1567.57 1248.15 1568.27 Q1244.84 1568.97 1241.44 1568.97 Q1232.91 1568.97 1227.91 1564 Q1222.95 1559.04 1222.95 1550.57 Q1222.95 1541.82 1227.66 1536.69 Q1232.4 1531.54 1240.42 1531.54 Q1247.61 1531.54 1251.78 1536.18 Q1255.98 1540.8 1255.98 1548.76 M1250.13 1547.04 Q1250.06 1542.23 1247.42 1539.37 Q1244.81 1536.5 1240.48 1536.5 Q1235.58 1536.5 1232.62 1539.27 Q1229.69 1542.04 1229.25 1547.07 L1250.13 1547.04 Z\" fill=\"#000000\" fill-rule=\"evenodd\" fill-opacity=\"1\" /><path clip-path=\"url(#clip180)\" d=\"M1292.11 1522.27 L1292.11 1532.4 L1304.17 1532.4 L1304.17 1536.95 L1292.11 1536.95 L1292.11 1556.3 Q1292.11 1560.66 1293.29 1561.9 Q1294.5 1563.14 1298.16 1563.14 L1304.17 1563.14 L1304.17 1568.04 L1298.16 1568.04 Q1291.38 1568.04 1288.8 1565.53 Q1286.22 1562.98 1286.22 1556.3 L1286.22 1536.95 L1281.92 1536.95 L1281.92 1532.4 L1286.22 1532.4 L1286.22 1522.27 L1292.11 1522.27 Z\" fill=\"#000000\" fill-rule=\"evenodd\" fill-opacity=\"1\" /><path clip-path=\"url(#clip180)\" d=\"M1328.08 1550.12 Q1320.98 1550.12 1318.24 1551.75 Q1315.5 1553.37 1315.5 1557.29 Q1315.5 1560.4 1317.54 1562.25 Q1319.61 1564.07 1323.14 1564.07 Q1328.01 1564.07 1330.94 1560.63 Q1333.9 1557.16 1333.9 1551.43 L1333.9 1550.12 L1328.08 1550.12 M1339.76 1547.71 L1339.76 1568.04 L1333.9 1568.04 L1333.9 1562.63 Q1331.9 1565.88 1328.9 1567.44 Q1325.91 1568.97 1321.58 1568.97 Q1316.11 1568.97 1312.86 1565.91 Q1309.65 1562.82 1309.65 1557.67 Q1309.65 1551.65 1313.66 1548.6 Q1317.7 1545.54 1325.69 1545.54 L1333.9 1545.54 L1333.9 1544.97 Q1333.9 1540.93 1331.23 1538.73 Q1328.59 1536.5 1323.78 1536.5 Q1320.72 1536.5 1317.83 1537.23 Q1314.93 1537.97 1312.26 1539.43 L1312.26 1534.02 Q1315.47 1532.78 1318.5 1532.17 Q1321.52 1531.54 1324.38 1531.54 Q1332.12 1531.54 1335.94 1535.55 Q1339.76 1539.56 1339.76 1547.71 Z\" fill=\"#000000\" fill-rule=\"evenodd\" fill-opacity=\"1\" /><path clip-path=\"url(#clip180)\" d=\"M1351.6 1518.52 L1357.49 1518.52 L1357.49 1547.77 L1374.96 1532.4 L1382.44 1532.4 L1363.53 1549.07 L1383.23 1568.04 L1375.6 1568.04 L1357.49 1550.63 L1357.49 1568.04 L1351.6 1568.04 L1351.6 1518.52 Z\" fill=\"#000000\" fill-rule=\"evenodd\" fill-opacity=\"1\" /><path clip-path=\"url(#clip180)\" d=\"M1417.74 1548.76 L1417.74 1551.62 L1390.81 1551.62 Q1391.19 1557.67 1394.44 1560.85 Q1397.72 1564 1403.54 1564 Q1406.92 1564 1410.07 1563.17 Q1413.25 1562.35 1416.37 1560.69 L1416.37 1566.23 Q1413.22 1567.57 1409.91 1568.27 Q1406.6 1568.97 1403.19 1568.97 Q1394.66 1568.97 1389.66 1564 Q1384.7 1559.04 1384.7 1550.57 Q1384.7 1541.82 1389.41 1536.69 Q1394.15 1531.54 1402.17 1531.54 Q1409.37 1531.54 1413.54 1536.18 Q1417.74 1540.8 1417.74 1548.76 M1411.88 1547.04 Q1411.82 1542.23 1409.18 1539.37 Q1406.57 1536.5 1402.24 1536.5 Q1397.33 1536.5 1394.37 1539.27 Q1391.45 1542.04 1391 1547.07 L1411.88 1547.04 Z\" fill=\"#000000\" fill-rule=\"evenodd\" fill-opacity=\"1\" /><path clip-path=\"url(#clip180)\" d=\"M1456.98 1546.53 L1456.98 1568.04 L1451.13 1568.04 L1451.13 1546.72 Q1451.13 1541.66 1449.15 1539.14 Q1447.18 1536.63 1443.23 1536.63 Q1438.49 1536.63 1435.75 1539.65 Q1433.01 1542.68 1433.01 1547.9 L1433.01 1568.04 L1427.13 1568.04 L1427.13 1532.4 L1433.01 1532.4 L1433.01 1537.93 Q1435.12 1534.72 1437.95 1533.13 Q1440.81 1531.54 1444.54 1531.54 Q1450.68 1531.54 1453.83 1535.36 Q1456.98 1539.14 1456.98 1546.53 Z\" fill=\"#000000\" fill-rule=\"evenodd\" fill-opacity=\"1\" /><polyline clip-path=\"url(#clip182)\" style=\"stroke:#000000; stroke-linecap:butt; stroke-linejoin:round; stroke-width:2; stroke-opacity:0.1; fill:none\" points=\"\n",
       "  203.964,1386.15 2352.76,1386.15 \n",
       "  \"/>\n",
       "<polyline clip-path=\"url(#clip182)\" style=\"stroke:#000000; stroke-linecap:butt; stroke-linejoin:round; stroke-width:2; stroke-opacity:0.1; fill:none\" points=\"\n",
       "  203.964,1033.5 2352.76,1033.5 \n",
       "  \"/>\n",
       "<polyline clip-path=\"url(#clip182)\" style=\"stroke:#000000; stroke-linecap:butt; stroke-linejoin:round; stroke-width:2; stroke-opacity:0.1; fill:none\" points=\"\n",
       "  203.964,680.842 2352.76,680.842 \n",
       "  \"/>\n",
       "<polyline clip-path=\"url(#clip182)\" style=\"stroke:#000000; stroke-linecap:butt; stroke-linejoin:round; stroke-width:2; stroke-opacity:0.1; fill:none\" points=\"\n",
       "  203.964,328.188 2352.76,328.188 \n",
       "  \"/>\n",
       "<polyline clip-path=\"url(#clip180)\" style=\"stroke:#000000; stroke-linecap:butt; stroke-linejoin:round; stroke-width:4; stroke-opacity:1; fill:none\" points=\"\n",
       "  203.964,1423.18 203.964,114.832 \n",
       "  \"/>\n",
       "<polyline clip-path=\"url(#clip180)\" style=\"stroke:#000000; stroke-linecap:butt; stroke-linejoin:round; stroke-width:4; stroke-opacity:1; fill:none\" points=\"\n",
       "  203.964,1386.15 222.861,1386.15 \n",
       "  \"/>\n",
       "<polyline clip-path=\"url(#clip180)\" style=\"stroke:#000000; stroke-linecap:butt; stroke-linejoin:round; stroke-width:4; stroke-opacity:1; fill:none\" points=\"\n",
       "  203.964,1033.5 222.861,1033.5 \n",
       "  \"/>\n",
       "<polyline clip-path=\"url(#clip180)\" style=\"stroke:#000000; stroke-linecap:butt; stroke-linejoin:round; stroke-width:4; stroke-opacity:1; fill:none\" points=\"\n",
       "  203.964,680.842 222.861,680.842 \n",
       "  \"/>\n",
       "<polyline clip-path=\"url(#clip180)\" style=\"stroke:#000000; stroke-linecap:butt; stroke-linejoin:round; stroke-width:4; stroke-opacity:1; fill:none\" points=\"\n",
       "  203.964,328.188 222.861,328.188 \n",
       "  \"/>\n",
       "<path clip-path=\"url(#clip180)\" d=\"M156.019 1371.95 Q152.408 1371.95 150.579 1375.51 Q148.774 1379.06 148.774 1386.19 Q148.774 1393.29 150.579 1396.86 Q152.408 1400.4 156.019 1400.4 Q159.653 1400.4 161.459 1396.86 Q163.288 1393.29 163.288 1386.19 Q163.288 1379.06 161.459 1375.51 Q159.653 1371.95 156.019 1371.95 M156.019 1368.25 Q161.829 1368.25 164.885 1372.85 Q167.964 1377.44 167.964 1386.19 Q167.964 1394.91 164.885 1399.52 Q161.829 1404.1 156.019 1404.1 Q150.209 1404.1 147.13 1399.52 Q144.075 1394.91 144.075 1386.19 Q144.075 1377.44 147.13 1372.85 Q150.209 1368.25 156.019 1368.25 Z\" fill=\"#000000\" fill-rule=\"evenodd\" fill-opacity=\"1\" /><path clip-path=\"url(#clip180)\" d=\"M116.668 1046.84 L124.306 1046.84 L124.306 1020.48 L115.996 1022.14 L115.996 1017.88 L124.26 1016.22 L128.936 1016.22 L128.936 1046.84 L136.575 1046.84 L136.575 1050.78 L116.668 1050.78 L116.668 1046.84 Z\" fill=\"#000000\" fill-rule=\"evenodd\" fill-opacity=\"1\" /><path clip-path=\"url(#clip180)\" d=\"M156.019 1019.3 Q152.408 1019.3 150.579 1022.86 Q148.774 1026.4 148.774 1033.53 Q148.774 1040.64 150.579 1044.2 Q152.408 1047.74 156.019 1047.74 Q159.653 1047.74 161.459 1044.2 Q163.288 1040.64 163.288 1033.53 Q163.288 1026.4 161.459 1022.86 Q159.653 1019.3 156.019 1019.3 M156.019 1015.59 Q161.829 1015.59 164.885 1020.2 Q167.964 1024.78 167.964 1033.53 Q167.964 1042.26 164.885 1046.86 Q161.829 1051.45 156.019 1051.45 Q150.209 1051.45 147.13 1046.86 Q144.075 1042.26 144.075 1033.53 Q144.075 1024.78 147.13 1020.2 Q150.209 1015.59 156.019 1015.59 Z\" fill=\"#000000\" fill-rule=\"evenodd\" fill-opacity=\"1\" /><path clip-path=\"url(#clip180)\" d=\"M119.885 694.187 L136.204 694.187 L136.204 698.122 L114.26 698.122 L114.26 694.187 Q116.922 691.433 121.505 686.803 Q126.112 682.15 127.292 680.808 Q129.538 678.285 130.417 676.548 Q131.32 674.789 131.32 673.099 Q131.32 670.345 129.376 668.609 Q127.455 666.873 124.353 666.873 Q122.154 666.873 119.7 667.636 Q117.269 668.4 114.492 669.951 L114.492 665.229 Q117.316 664.095 119.769 663.516 Q122.223 662.937 124.26 662.937 Q129.63 662.937 132.825 665.623 Q136.019 668.308 136.019 672.798 Q136.019 674.928 135.209 676.849 Q134.422 678.747 132.316 681.34 Q131.737 682.011 128.635 685.229 Q125.533 688.423 119.885 694.187 Z\" fill=\"#000000\" fill-rule=\"evenodd\" fill-opacity=\"1\" /><path clip-path=\"url(#clip180)\" d=\"M156.019 666.641 Q152.408 666.641 150.579 670.206 Q148.774 673.748 148.774 680.877 Q148.774 687.984 150.579 691.548 Q152.408 695.09 156.019 695.09 Q159.653 695.09 161.459 691.548 Q163.288 687.984 163.288 680.877 Q163.288 673.748 161.459 670.206 Q159.653 666.641 156.019 666.641 M156.019 662.937 Q161.829 662.937 164.885 667.544 Q167.964 672.127 167.964 680.877 Q167.964 689.604 164.885 694.21 Q161.829 698.794 156.019 698.794 Q150.209 698.794 147.13 694.21 Q144.075 689.604 144.075 680.877 Q144.075 672.127 147.13 667.544 Q150.209 662.937 156.019 662.937 Z\" fill=\"#000000\" fill-rule=\"evenodd\" fill-opacity=\"1\" /><path clip-path=\"url(#clip180)\" d=\"M130.024 326.834 Q133.38 327.551 135.255 329.82 Q137.154 332.088 137.154 335.422 Q137.154 340.537 133.635 343.338 Q130.117 346.139 123.635 346.139 Q121.459 346.139 119.144 345.7 Q116.853 345.283 114.399 344.426 L114.399 339.912 Q116.343 341.047 118.658 341.625 Q120.973 342.204 123.496 342.204 Q127.894 342.204 130.186 340.468 Q132.501 338.732 132.501 335.422 Q132.501 332.366 130.348 330.653 Q128.218 328.917 124.399 328.917 L120.371 328.917 L120.371 325.075 L124.584 325.075 Q128.033 325.075 129.862 323.709 Q131.691 322.32 131.691 319.727 Q131.691 317.065 129.792 315.653 Q127.917 314.218 124.399 314.218 Q122.478 314.218 120.279 314.635 Q118.08 315.052 115.441 315.931 L115.441 311.764 Q118.103 311.024 120.418 310.653 Q122.755 310.283 124.816 310.283 Q130.14 310.283 133.242 312.714 Q136.343 315.121 136.343 319.241 Q136.343 322.112 134.7 324.102 Q133.056 326.07 130.024 326.834 Z\" fill=\"#000000\" fill-rule=\"evenodd\" fill-opacity=\"1\" /><path clip-path=\"url(#clip180)\" d=\"M156.019 313.987 Q152.408 313.987 150.579 317.552 Q148.774 321.093 148.774 328.223 Q148.774 335.329 150.579 338.894 Q152.408 342.436 156.019 342.436 Q159.653 342.436 161.459 338.894 Q163.288 335.329 163.288 328.223 Q163.288 321.093 161.459 317.552 Q159.653 313.987 156.019 313.987 M156.019 310.283 Q161.829 310.283 164.885 314.889 Q167.964 319.473 167.964 328.223 Q167.964 336.95 164.885 341.556 Q161.829 346.139 156.019 346.139 Q150.209 346.139 147.13 341.556 Q144.075 336.95 144.075 328.223 Q144.075 319.473 147.13 314.889 Q150.209 310.283 156.019 310.283 Z\" fill=\"#000000\" fill-rule=\"evenodd\" fill-opacity=\"1\" /><path clip-path=\"url(#clip180)\" d=\"M20.1444 841.034 L26.9239 841.034 Q23.9002 844.28 22.4043 847.973 Q20.9083 851.633 20.9083 855.771 Q20.9083 863.919 25.9054 868.247 Q30.8707 872.576 40.2919 872.576 Q49.6813 872.576 54.6784 868.247 Q59.6436 863.919 59.6436 855.771 Q59.6436 851.633 58.1477 847.973 Q56.6518 844.28 53.6281 841.034 L60.3439 841.034 Q62.6355 844.408 63.7814 848.195 Q64.9272 851.951 64.9272 856.153 Q64.9272 866.942 58.3387 873.149 Q51.7183 879.356 40.2919 879.356 Q28.8336 879.356 22.2451 873.149 Q15.6248 866.942 15.6248 856.153 Q15.6248 851.887 16.7706 848.132 Q17.8846 844.344 20.1444 841.034 Z\" fill=\"#000000\" fill-rule=\"evenodd\" fill-opacity=\"1\" /><path clip-path=\"url(#clip180)\" d=\"M32.4621 817.544 Q32.4621 822.255 36.1542 824.992 Q39.8145 827.73 46.212 827.73 Q52.6095 827.73 56.3017 825.024 Q59.9619 822.287 59.9619 817.544 Q59.9619 812.866 56.2698 810.128 Q52.5777 807.391 46.212 807.391 Q39.8781 807.391 36.186 810.128 Q32.4621 812.866 32.4621 817.544 M27.4968 817.544 Q27.4968 809.906 32.4621 805.545 Q37.4273 801.185 46.212 801.185 Q54.9649 801.185 59.9619 805.545 Q64.9272 809.906 64.9272 817.544 Q64.9272 825.215 59.9619 829.576 Q54.9649 833.904 46.212 833.904 Q37.4273 833.904 32.4621 829.576 Q27.4968 825.215 27.4968 817.544 Z\" fill=\"#000000\" fill-rule=\"evenodd\" fill-opacity=\"1\" /><path clip-path=\"url(#clip180)\" d=\"M49.9359 792.082 L28.3562 792.082 L28.3562 786.225 L49.7131 786.225 Q54.7739 786.225 57.3202 784.252 Q59.8346 782.278 59.8346 778.332 Q59.8346 773.589 56.8109 770.852 Q53.7872 768.083 48.5673 768.083 L28.3562 768.083 L28.3562 762.227 L64.0042 762.227 L64.0042 768.083 L58.5296 768.083 Q61.7762 770.215 63.3676 773.048 Q64.9272 775.849 64.9272 779.573 Q64.9272 785.716 61.1078 788.899 Q57.2883 792.082 49.9359 792.082 M27.4968 777.345 L27.4968 777.345 Z\" fill=\"#000000\" fill-rule=\"evenodd\" fill-opacity=\"1\" /><path clip-path=\"url(#clip180)\" d=\"M42.4881 720.531 L64.0042 720.531 L64.0042 726.388 L42.679 726.388 Q37.6183 726.388 35.1038 728.361 Q32.5894 730.334 32.5894 734.281 Q32.5894 739.024 35.6131 741.761 Q38.6368 744.498 43.8567 744.498 L64.0042 744.498 L64.0042 750.386 L28.3562 750.386 L28.3562 744.498 L33.8944 744.498 Q30.6797 742.397 29.0883 739.565 Q27.4968 736.7 27.4968 732.976 Q27.4968 726.833 31.3163 723.682 Q35.1038 720.531 42.4881 720.531 Z\" fill=\"#000000\" fill-rule=\"evenodd\" fill-opacity=\"1\" /><path clip-path=\"url(#clip180)\" d=\"M18.2347 703.057 L28.3562 703.057 L28.3562 690.994 L32.9077 690.994 L32.9077 703.057 L52.2594 703.057 Q56.6199 703.057 57.8613 701.88 Q59.1026 700.67 59.1026 697.01 L59.1026 690.994 L64.0042 690.994 L64.0042 697.01 Q64.0042 703.789 61.4897 706.367 Q58.9434 708.946 52.2594 708.946 L32.9077 708.946 L32.9077 713.242 L28.3562 713.242 L28.3562 708.946 L18.2347 708.946 L18.2347 703.057 Z\" fill=\"#000000\" fill-rule=\"evenodd\" fill-opacity=\"1\" /><path clip-path=\"url(#clip180)\" d=\"M29.4065 660.566 L34.9447 660.566 Q33.6716 663.049 33.035 665.722 Q32.3984 668.396 32.3984 671.261 Q32.3984 675.621 33.7352 677.817 Q35.072 679.982 37.7456 679.982 Q39.7826 679.982 40.9603 678.422 Q42.1061 676.862 43.1565 672.152 L43.6021 670.147 Q44.9389 663.908 47.3897 661.298 Q49.8086 658.656 54.1691 658.656 Q59.1344 658.656 62.0308 662.603 Q64.9272 666.518 64.9272 673.393 Q64.9272 676.258 64.3543 679.377 Q63.8132 682.464 62.6992 685.902 L56.6518 685.902 Q58.3387 682.655 59.198 679.504 Q60.0256 676.353 60.0256 673.266 Q60.0256 669.128 58.6251 666.9 Q57.1929 664.672 54.6147 664.672 Q52.2276 664.672 50.9545 666.295 Q49.6813 667.887 48.5037 673.329 L48.0262 675.366 Q46.8804 680.809 44.5251 683.228 Q42.138 685.647 38.0002 685.647 Q32.9713 685.647 30.2341 682.082 Q27.4968 678.517 27.4968 671.961 Q27.4968 668.714 27.9743 665.85 Q28.4517 662.985 29.4065 660.566 Z\" fill=\"#000000\" fill-rule=\"evenodd\" fill-opacity=\"1\" /><path clip-path=\"url(#clip180)\" d=\"M592.6 10.368 L636.453 10.368 L636.453 16.2707 L618.051 16.2707 L618.051 62.208 L611.002 62.208 L611.002 16.2707 L592.6 16.2707 L592.6 10.368 Z\" fill=\"#000000\" fill-rule=\"evenodd\" fill-opacity=\"1\" /><path clip-path=\"url(#clip180)\" d=\"M640.759 23.3193 L647.148 23.3193 L647.148 62.208 L640.759 62.208 L640.759 23.3193 M640.759 8.18051 L647.148 8.18051 L647.148 16.2707 L640.759 16.2707 L640.759 8.18051 Z\" fill=\"#000000\" fill-rule=\"evenodd\" fill-opacity=\"1\" /><path clip-path=\"url(#clip180)\" d=\"M690.793 30.7846 Q693.189 26.479 696.523 24.4304 Q699.856 22.3818 704.37 22.3818 Q710.446 22.3818 713.745 26.6526 Q717.043 30.8887 717.043 38.7359 L717.043 62.208 L710.62 62.208 L710.62 38.9442 Q710.62 33.354 708.641 30.6457 Q706.661 27.9374 702.599 27.9374 Q697.634 27.9374 694.752 31.2359 Q691.87 34.5345 691.87 40.229 L691.87 62.208 L685.446 62.208 L685.446 38.9442 Q685.446 33.3193 683.467 30.6457 Q681.488 27.9374 677.356 27.9374 Q672.46 27.9374 669.578 31.2707 Q666.696 34.5693 666.696 40.229 L666.696 62.208 L660.273 62.208 L660.273 23.3193 L666.696 23.3193 L666.696 29.361 Q668.884 25.7846 671.939 24.0832 Q674.995 22.3818 679.196 22.3818 Q683.432 22.3818 686.384 24.5346 Q689.37 26.6874 690.793 30.7846 Z\" fill=\"#000000\" fill-rule=\"evenodd\" fill-opacity=\"1\" /><path clip-path=\"url(#clip180)\" d=\"M763.05 41.1664 L763.05 44.2914 L733.675 44.2914 Q734.092 50.8886 737.633 54.3608 Q741.21 57.7983 747.564 57.7983 Q751.245 57.7983 754.682 56.8955 Q758.154 55.9928 761.557 54.1872 L761.557 60.2288 Q758.119 61.6872 754.508 62.4511 Q750.897 63.2149 747.182 63.2149 Q737.877 63.2149 732.425 57.7983 Q727.009 52.3817 727.009 43.1456 Q727.009 33.597 732.147 28.0068 Q737.321 22.3818 746.071 22.3818 Q753.918 22.3818 758.467 27.4512 Q763.05 32.4859 763.05 41.1664 M756.661 39.2915 Q756.592 34.0484 753.71 30.9234 Q750.863 27.7985 746.14 27.7985 Q740.793 27.7985 737.564 30.8193 Q734.37 33.8401 733.883 39.3262 L756.661 39.2915 Z\" fill=\"#000000\" fill-rule=\"evenodd\" fill-opacity=\"1\" /><path clip-path=\"url(#clip180)\" d=\"M802.46 12.2777 L802.46 23.3193 L815.619 23.3193 L815.619 28.2846 L802.46 28.2846 L802.46 49.3956 Q802.46 54.1525 803.744 55.5066 Q805.064 56.8608 809.057 56.8608 L815.619 56.8608 L815.619 62.208 L809.057 62.208 Q801.661 62.208 798.848 59.465 Q796.036 56.6872 796.036 49.3956 L796.036 28.2846 L791.348 28.2846 L791.348 23.3193 L796.036 23.3193 L796.036 12.2777 L802.46 12.2777 Z\" fill=\"#000000\" fill-rule=\"evenodd\" fill-opacity=\"1\" /><path clip-path=\"url(#clip180)\" d=\"M841.695 42.6595 Q833.952 42.6595 830.966 44.4303 Q827.98 46.2011 827.98 50.472 Q827.98 53.8747 830.202 55.8886 Q832.459 57.8677 836.313 57.8677 Q841.626 57.8677 844.82 54.1178 Q848.05 50.3331 848.05 44.0831 L848.05 42.6595 L841.695 42.6595 M854.438 40.0206 L854.438 62.208 L848.05 62.208 L848.05 56.3053 Q845.862 59.8469 842.598 61.5483 Q839.334 63.2149 834.612 63.2149 Q828.64 63.2149 825.098 59.8816 Q821.591 56.5136 821.591 50.8886 Q821.591 44.3262 825.966 40.9928 Q830.376 37.6595 839.091 37.6595 L848.05 37.6595 L848.05 37.0345 Q848.05 32.6248 845.133 30.229 Q842.251 27.7985 837.008 27.7985 Q833.675 27.7985 830.515 28.5971 Q827.355 29.3957 824.439 30.9929 L824.439 25.0901 Q827.945 23.736 831.244 23.0763 Q834.543 22.3818 837.668 22.3818 Q846.105 22.3818 850.272 26.7568 Q854.438 31.1318 854.438 40.0206 Z\" fill=\"#000000\" fill-rule=\"evenodd\" fill-opacity=\"1\" /><path clip-path=\"url(#clip180)\" d=\"M867.355 8.18051 L873.779 8.18051 L873.779 40.0901 L892.841 23.3193 L901.001 23.3193 L880.376 41.5137 L901.869 62.208 L893.535 62.208 L873.779 43.215 L873.779 62.208 L867.355 62.208 L867.355 8.18051 Z\" fill=\"#000000\" fill-rule=\"evenodd\" fill-opacity=\"1\" /><path clip-path=\"url(#clip180)\" d=\"M939.507 41.1664 L939.507 44.2914 L910.133 44.2914 Q910.549 50.8886 914.091 54.3608 Q917.667 57.7983 924.021 57.7983 Q927.702 57.7983 931.139 56.8955 Q934.612 55.9928 938.014 54.1872 L938.014 60.2288 Q934.577 61.6872 930.966 62.4511 Q927.355 63.2149 923.639 63.2149 Q914.334 63.2149 908.883 57.7983 Q903.466 52.3817 903.466 43.1456 Q903.466 33.597 908.605 28.0068 Q913.778 22.3818 922.528 22.3818 Q930.375 22.3818 934.924 27.4512 Q939.507 32.4859 939.507 41.1664 M933.119 39.2915 Q933.049 34.0484 930.167 30.9234 Q927.32 27.7985 922.598 27.7985 Q917.251 27.7985 914.021 30.8193 Q910.827 33.8401 910.341 39.3262 L933.119 39.2915 Z\" fill=\"#000000\" fill-rule=\"evenodd\" fill-opacity=\"1\" /><path clip-path=\"url(#clip180)\" d=\"M982.32 38.7359 L982.32 62.208 L975.931 62.208 L975.931 38.9442 Q975.931 33.4234 973.778 30.6804 Q971.625 27.9374 967.32 27.9374 Q962.146 27.9374 959.16 31.2359 Q956.174 34.5345 956.174 40.229 L956.174 62.208 L949.75 62.208 L949.75 23.3193 L956.174 23.3193 L956.174 29.361 Q958.466 25.854 961.556 24.1179 Q964.681 22.3818 968.743 22.3818 Q975.445 22.3818 978.882 26.5485 Q982.32 30.6804 982.32 38.7359 Z\" fill=\"#000000\" fill-rule=\"evenodd\" fill-opacity=\"1\" /><path clip-path=\"url(#clip180)\" d=\"M1037.35 8.18051 L1037.35 13.493 L1031.24 13.493 Q1027.81 13.493 1026.45 14.8819 Q1025.13 16.2707 1025.13 19.8818 L1025.13 23.3193 L1035.65 23.3193 L1035.65 28.2846 L1025.13 28.2846 L1025.13 62.208 L1018.71 62.208 L1018.71 28.2846 L1012.6 28.2846 L1012.6 23.3193 L1018.71 23.3193 L1018.71 20.611 Q1018.71 14.118 1021.73 11.1666 Q1024.75 8.18051 1031.31 8.18051 L1037.35 8.18051 Z\" fill=\"#000000\" fill-rule=\"evenodd\" fill-opacity=\"1\" /><path clip-path=\"url(#clip180)\" d=\"M1057.77 27.7985 Q1052.63 27.7985 1049.65 31.8262 Q1046.66 35.8193 1046.66 42.7984 Q1046.66 49.7775 1049.61 53.8053 Q1052.6 57.7983 1057.77 57.7983 Q1062.87 57.7983 1065.86 53.7705 Q1068.85 49.7428 1068.85 42.7984 Q1068.85 35.8887 1065.86 31.8609 Q1062.87 27.7985 1057.77 27.7985 M1057.77 22.3818 Q1066.1 22.3818 1070.86 27.7985 Q1075.62 33.2151 1075.62 42.7984 Q1075.62 52.3469 1070.86 57.7983 Q1066.1 63.2149 1057.77 63.2149 Q1049.4 63.2149 1044.65 57.7983 Q1039.92 52.3469 1039.92 42.7984 Q1039.92 33.2151 1044.65 27.7985 Q1049.4 22.3818 1057.77 22.3818 Z\" fill=\"#000000\" fill-rule=\"evenodd\" fill-opacity=\"1\" /><path clip-path=\"url(#clip180)\" d=\"M1108.74 29.2915 Q1107.67 28.6665 1106.38 28.3887 Q1105.13 28.0762 1103.6 28.0762 Q1098.19 28.0762 1095.27 31.6179 Q1092.39 35.1248 1092.39 41.722 L1092.39 62.208 L1085.96 62.208 L1085.96 23.3193 L1092.39 23.3193 L1092.39 29.361 Q1094.4 25.8193 1097.63 24.1179 Q1100.86 22.3818 1105.48 22.3818 Q1106.14 22.3818 1106.94 22.486 Q1107.74 22.5554 1108.71 22.729 L1108.74 29.2915 Z\" fill=\"#000000\" fill-rule=\"evenodd\" fill-opacity=\"1\" /><path clip-path=\"url(#clip180)\" d=\"M1168.33 30.7846 Q1170.72 26.479 1174.05 24.4304 Q1177.39 22.3818 1181.9 22.3818 Q1187.98 22.3818 1191.28 26.6526 Q1194.58 30.8887 1194.58 38.7359 L1194.58 62.208 L1188.15 62.208 L1188.15 38.9442 Q1188.15 33.354 1186.17 30.6457 Q1184.19 27.9374 1180.13 27.9374 Q1175.17 27.9374 1172.28 31.2359 Q1169.4 34.5345 1169.4 40.229 L1169.4 62.208 L1162.98 62.208 L1162.98 38.9442 Q1162.98 33.3193 1161 30.6457 Q1159.02 27.9374 1154.89 27.9374 Q1149.99 27.9374 1147.11 31.2707 Q1144.23 34.5693 1144.23 40.229 L1144.23 62.208 L1137.8 62.208 L1137.8 23.3193 L1144.23 23.3193 L1144.23 29.361 Q1146.42 25.7846 1149.47 24.0832 Q1152.53 22.3818 1156.73 22.3818 Q1160.96 22.3818 1163.92 24.5346 Q1166.9 26.6874 1168.33 30.7846 Z\" fill=\"#000000\" fill-rule=\"evenodd\" fill-opacity=\"1\" /><path clip-path=\"url(#clip180)\" d=\"M1224.99 42.6595 Q1217.25 42.6595 1214.26 44.4303 Q1211.28 46.2011 1211.28 50.472 Q1211.28 53.8747 1213.5 55.8886 Q1215.76 57.8677 1219.61 57.8677 Q1224.92 57.8677 1228.12 54.1178 Q1231.35 50.3331 1231.35 44.0831 L1231.35 42.6595 L1224.99 42.6595 M1237.73 40.0206 L1237.73 62.208 L1231.35 62.208 L1231.35 56.3053 Q1229.16 59.8469 1225.89 61.5483 Q1222.63 63.2149 1217.91 63.2149 Q1211.94 63.2149 1208.39 59.8816 Q1204.89 56.5136 1204.89 50.8886 Q1204.89 44.3262 1209.26 40.9928 Q1213.67 37.6595 1222.39 37.6595 L1231.35 37.6595 L1231.35 37.0345 Q1231.35 32.6248 1228.43 30.229 Q1225.55 27.7985 1220.3 27.7985 Q1216.97 27.7985 1213.81 28.5971 Q1210.65 29.3957 1207.74 30.9929 L1207.74 25.0901 Q1211.24 23.736 1214.54 23.0763 Q1217.84 22.3818 1220.96 22.3818 Q1229.4 22.3818 1233.57 26.7568 Q1237.73 31.1318 1237.73 40.0206 Z\" fill=\"#000000\" fill-rule=\"evenodd\" fill-opacity=\"1\" /><path clip-path=\"url(#clip180)\" d=\"M1250.89 23.3193 L1257.28 23.3193 L1257.28 62.208 L1250.89 62.208 L1250.89 23.3193 M1250.89 8.18051 L1257.28 8.18051 L1257.28 16.2707 L1250.89 16.2707 L1250.89 8.18051 Z\" fill=\"#000000\" fill-rule=\"evenodd\" fill-opacity=\"1\" /><path clip-path=\"url(#clip180)\" d=\"M1270.65 8.18051 L1277.04 8.18051 L1277.04 62.208 L1270.65 62.208 L1270.65 8.18051 Z\" fill=\"#000000\" fill-rule=\"evenodd\" fill-opacity=\"1\" /><path clip-path=\"url(#clip180)\" d=\"M1320.3 37.4512 L1320.3 56.4441 L1331.55 56.4441 Q1337.21 56.4441 1339.92 54.1178 Q1342.66 51.7567 1342.66 46.9303 Q1342.66 42.0692 1339.92 39.7776 Q1337.21 37.4512 1331.55 37.4512 L1320.3 37.4512 M1320.3 16.1319 L1320.3 31.7568 L1330.69 31.7568 Q1335.82 31.7568 1338.32 29.8471 Q1340.86 27.9026 1340.86 23.9443 Q1340.86 20.0207 1338.32 18.0763 Q1335.82 16.1319 1330.69 16.1319 L1320.3 16.1319 M1313.29 10.368 L1331.21 10.368 Q1339.23 10.368 1343.57 13.7013 Q1347.91 17.0346 1347.91 23.1804 Q1347.91 27.9374 1345.69 30.7498 Q1343.46 33.5623 1339.16 34.2568 Q1344.33 35.3679 1347.18 38.9095 Q1350.06 42.4164 1350.06 47.6942 Q1350.06 54.6386 1345.34 58.4233 Q1340.62 62.208 1331.9 62.208 L1313.29 62.208 L1313.29 10.368 Z\" fill=\"#000000\" fill-rule=\"evenodd\" fill-opacity=\"1\" /><path clip-path=\"url(#clip180)\" d=\"M1367.84 10.368 L1367.84 29.6387 L1361.94 29.6387 L1361.94 10.368 L1367.84 10.368 Z\" fill=\"#000000\" fill-rule=\"evenodd\" fill-opacity=\"1\" /><path clip-path=\"url(#clip180)\" d=\"M1406.14 24.4651 L1406.14 30.5068 Q1403.43 29.1179 1400.51 28.4235 Q1397.6 27.729 1394.47 27.729 Q1389.71 27.729 1387.32 29.1873 Q1384.96 30.6457 1384.96 33.5623 Q1384.96 35.7845 1386.66 37.0692 Q1388.36 38.3192 1393.5 39.4651 L1395.69 39.9512 Q1402.49 41.4095 1405.34 44.0831 Q1408.22 46.722 1408.22 51.4789 Q1408.22 56.8955 1403.91 60.0552 Q1399.64 63.2149 1392.14 63.2149 Q1389.02 63.2149 1385.62 62.5899 Q1382.25 61.9997 1378.5 60.7844 L1378.5 54.1872 Q1382.04 56.0275 1385.48 56.965 Q1388.91 57.8677 1392.28 57.8677 Q1396.8 57.8677 1399.23 56.34 Q1401.66 54.7775 1401.66 51.965 Q1401.66 49.3608 1399.89 47.972 Q1398.15 46.5831 1392.21 45.2984 L1389.99 44.7775 Q1384.05 43.5275 1381.41 40.9581 Q1378.78 38.354 1378.78 33.8401 Q1378.78 28.354 1382.66 25.3679 Q1386.55 22.3818 1393.71 22.3818 Q1397.25 22.3818 1400.37 22.9027 Q1403.5 23.4235 1406.14 24.4651 Z\" fill=\"#000000\" fill-rule=\"evenodd\" fill-opacity=\"1\" /><path clip-path=\"url(#clip180)\" d=\"M1447.32 12.2777 L1447.32 23.3193 L1460.48 23.3193 L1460.48 28.2846 L1447.32 28.2846 L1447.32 49.3956 Q1447.32 54.1525 1448.6 55.5066 Q1449.92 56.8608 1453.91 56.8608 L1460.48 56.8608 L1460.48 62.208 L1453.91 62.208 Q1446.52 62.208 1443.71 59.465 Q1440.89 56.6872 1440.89 49.3956 L1440.89 28.2846 L1436.21 28.2846 L1436.21 23.3193 L1440.89 23.3193 L1440.89 12.2777 L1447.32 12.2777 Z\" fill=\"#000000\" fill-rule=\"evenodd\" fill-opacity=\"1\" /><path clip-path=\"url(#clip180)\" d=\"M1483.95 27.7985 Q1478.81 27.7985 1475.82 31.8262 Q1472.84 35.8193 1472.84 42.7984 Q1472.84 49.7775 1475.79 53.8053 Q1478.78 57.7983 1483.95 57.7983 Q1489.05 57.7983 1492.04 53.7705 Q1495.03 49.7428 1495.03 42.7984 Q1495.03 35.8887 1492.04 31.8609 Q1489.05 27.7985 1483.95 27.7985 M1483.95 22.3818 Q1492.28 22.3818 1497.04 27.7985 Q1501.8 33.2151 1501.8 42.7984 Q1501.8 52.3469 1497.04 57.7983 Q1492.28 63.2149 1483.95 63.2149 Q1475.58 63.2149 1470.82 57.7983 Q1466.1 52.3469 1466.1 42.7984 Q1466.1 33.2151 1470.82 27.7985 Q1475.58 22.3818 1483.95 22.3818 Z\" fill=\"#000000\" fill-rule=\"evenodd\" fill-opacity=\"1\" /><path clip-path=\"url(#clip180)\" d=\"M1562.91 42.7984 Q1562.91 35.7498 1559.99 31.7568 Q1557.11 27.729 1552.04 27.729 Q1546.97 27.729 1544.05 31.7568 Q1541.17 35.7498 1541.17 42.7984 Q1541.17 49.847 1544.05 53.8747 Q1546.97 57.8677 1552.04 57.8677 Q1557.11 57.8677 1559.99 53.8747 Q1562.91 49.847 1562.91 42.7984 M1541.17 29.2221 Q1543.18 25.7499 1546.24 24.0832 Q1549.33 22.3818 1553.6 22.3818 Q1560.68 22.3818 1565.09 28.0068 Q1569.54 33.6318 1569.54 42.7984 Q1569.54 51.965 1565.09 57.59 Q1560.68 63.2149 1553.6 63.2149 Q1549.33 63.2149 1546.24 61.5483 Q1543.18 59.8469 1541.17 56.3747 L1541.17 62.208 L1534.75 62.208 L1534.75 8.18051 L1541.17 8.18051 L1541.17 29.2221 Z\" fill=\"#000000\" fill-rule=\"evenodd\" fill-opacity=\"1\" /><path clip-path=\"url(#clip180)\" d=\"M1613.39 41.1664 L1613.39 44.2914 L1584.02 44.2914 Q1584.43 50.8886 1587.98 54.3608 Q1591.55 57.7983 1597.91 57.7983 Q1601.59 57.7983 1605.02 56.8955 Q1608.5 55.9928 1611.9 54.1872 L1611.9 60.2288 Q1608.46 61.6872 1604.85 62.4511 Q1601.24 63.2149 1597.52 63.2149 Q1588.22 63.2149 1582.77 57.7983 Q1577.35 52.3817 1577.35 43.1456 Q1577.35 33.597 1582.49 28.0068 Q1587.66 22.3818 1596.41 22.3818 Q1604.26 22.3818 1608.81 27.4512 Q1613.39 32.4859 1613.39 41.1664 M1607 39.2915 Q1606.93 34.0484 1604.05 30.9234 Q1601.21 27.7985 1596.48 27.7985 Q1591.14 27.7985 1587.91 30.8193 Q1584.71 33.8401 1584.23 39.3262 L1607 39.2915 Z\" fill=\"#000000\" fill-rule=\"evenodd\" fill-opacity=\"1\" /><path clip-path=\"url(#clip180)\" d=\"M1672.07 29.2221 L1672.07 8.18051 L1678.46 8.18051 L1678.46 62.208 L1672.07 62.208 L1672.07 56.3747 Q1670.06 59.8469 1666.97 61.5483 Q1663.91 63.2149 1659.61 63.2149 Q1652.56 63.2149 1648.11 57.59 Q1643.71 51.965 1643.71 42.7984 Q1643.71 33.6318 1648.11 28.0068 Q1652.56 22.3818 1659.61 22.3818 Q1663.91 22.3818 1666.97 24.0832 Q1670.06 25.7499 1672.07 29.2221 M1650.3 42.7984 Q1650.3 49.847 1653.18 53.8747 Q1656.1 57.8677 1661.17 57.8677 Q1666.24 57.8677 1669.16 53.8747 Q1672.07 49.847 1672.07 42.7984 Q1672.07 35.7498 1669.16 31.7568 Q1666.24 27.729 1661.17 27.729 Q1656.1 27.729 1653.18 31.7568 Q1650.3 35.7498 1650.3 42.7984 Z\" fill=\"#000000\" fill-rule=\"evenodd\" fill-opacity=\"1\" /><path clip-path=\"url(#clip180)\" d=\"M1724.89 41.1664 L1724.89 44.2914 L1695.51 44.2914 Q1695.93 50.8886 1699.47 54.3608 Q1703.04 57.7983 1709.4 57.7983 Q1713.08 57.7983 1716.52 56.8955 Q1719.99 55.9928 1723.39 54.1872 L1723.39 60.2288 Q1719.95 61.6872 1716.34 62.4511 Q1712.73 63.2149 1709.02 63.2149 Q1699.71 63.2149 1694.26 57.7983 Q1688.84 52.3817 1688.84 43.1456 Q1688.84 33.597 1693.98 28.0068 Q1699.16 22.3818 1707.91 22.3818 Q1715.75 22.3818 1720.3 27.4512 Q1724.89 32.4859 1724.89 41.1664 M1718.5 39.2915 Q1718.43 34.0484 1715.54 30.9234 Q1712.7 27.7985 1707.98 27.7985 Q1702.63 27.7985 1699.4 30.8193 Q1696.2 33.8401 1695.72 39.3262 L1718.5 39.2915 Z\" fill=\"#000000\" fill-rule=\"evenodd\" fill-opacity=\"1\" /><path clip-path=\"url(#clip180)\" d=\"M1735.37 8.18051 L1741.76 8.18051 L1741.76 62.208 L1735.37 62.208 L1735.37 8.18051 Z\" fill=\"#000000\" fill-rule=\"evenodd\" fill-opacity=\"1\" /><path clip-path=\"url(#clip180)\" d=\"M1755.13 23.3193 L1761.52 23.3193 L1761.52 62.208 L1755.13 62.208 L1755.13 23.3193 M1755.13 8.18051 L1761.52 8.18051 L1761.52 16.2707 L1755.13 16.2707 L1755.13 8.18051 Z\" fill=\"#000000\" fill-rule=\"evenodd\" fill-opacity=\"1\" /><path clip-path=\"url(#clip180)\" d=\"M1770.3 23.3193 L1777.07 23.3193 L1789.23 55.958 L1801.38 23.3193 L1808.15 23.3193 L1793.57 62.208 L1784.88 62.208 L1770.3 23.3193 Z\" fill=\"#000000\" fill-rule=\"evenodd\" fill-opacity=\"1\" /><path clip-path=\"url(#clip180)\" d=\"M1850.23 41.1664 L1850.23 44.2914 L1820.86 44.2914 Q1821.27 50.8886 1824.82 54.3608 Q1828.39 57.7983 1834.75 57.7983 Q1838.43 57.7983 1841.86 56.8955 Q1845.34 55.9928 1848.74 54.1872 L1848.74 60.2288 Q1845.3 61.6872 1841.69 62.4511 Q1838.08 63.2149 1834.36 63.2149 Q1825.06 63.2149 1819.61 57.7983 Q1814.19 52.3817 1814.19 43.1456 Q1814.19 33.597 1819.33 28.0068 Q1824.5 22.3818 1833.25 22.3818 Q1841.1 22.3818 1845.65 27.4512 Q1850.23 32.4859 1850.23 41.1664 M1843.84 39.2915 Q1843.77 34.0484 1840.89 30.9234 Q1838.04 27.7985 1833.32 27.7985 Q1827.97 27.7985 1824.75 30.8193 Q1821.55 33.8401 1821.07 39.3262 L1843.84 39.2915 Z\" fill=\"#000000\" fill-rule=\"evenodd\" fill-opacity=\"1\" /><path clip-path=\"url(#clip180)\" d=\"M1883.25 29.2915 Q1882.18 28.6665 1880.89 28.3887 Q1879.64 28.0762 1878.11 28.0762 Q1872.7 28.0762 1869.78 31.6179 Q1866.9 35.1248 1866.9 41.722 L1866.9 62.208 L1860.47 62.208 L1860.47 23.3193 L1866.9 23.3193 L1866.9 29.361 Q1868.91 25.8193 1872.14 24.1179 Q1875.37 22.3818 1879.99 22.3818 Q1880.65 22.3818 1881.45 22.486 Q1882.25 22.5554 1883.22 22.729 L1883.25 29.2915 Z\" fill=\"#000000\" fill-rule=\"evenodd\" fill-opacity=\"1\" /><path clip-path=\"url(#clip180)\" d=\"M1921.65 41.1664 L1921.65 44.2914 L1892.28 44.2914 Q1892.7 50.8886 1896.24 54.3608 Q1899.81 57.7983 1906.17 57.7983 Q1909.85 57.7983 1913.29 56.8955 Q1916.76 55.9928 1920.16 54.1872 L1920.16 60.2288 Q1916.72 61.6872 1913.11 62.4511 Q1909.5 63.2149 1905.79 63.2149 Q1896.48 63.2149 1891.03 57.7983 Q1885.61 52.3817 1885.61 43.1456 Q1885.61 33.597 1890.75 28.0068 Q1895.93 22.3818 1904.68 22.3818 Q1912.52 22.3818 1917.07 27.4512 Q1921.65 32.4859 1921.65 41.1664 M1915.27 39.2915 Q1915.2 34.0484 1912.31 30.9234 Q1909.47 27.7985 1904.75 27.7985 Q1899.4 27.7985 1896.17 30.8193 Q1892.97 33.8401 1892.49 39.3262 L1915.27 39.2915 Z\" fill=\"#000000\" fill-rule=\"evenodd\" fill-opacity=\"1\" /><path clip-path=\"url(#clip180)\" d=\"M1957.73 29.2221 L1957.73 8.18051 L1964.12 8.18051 L1964.12 62.208 L1957.73 62.208 L1957.73 56.3747 Q1955.72 59.8469 1952.63 61.5483 Q1949.57 63.2149 1945.27 63.2149 Q1938.22 63.2149 1933.77 57.59 Q1929.36 51.965 1929.36 42.7984 Q1929.36 33.6318 1933.77 28.0068 Q1938.22 22.3818 1945.27 22.3818 Q1949.57 22.3818 1952.63 24.0832 Q1955.72 25.7499 1957.73 29.2221 M1935.96 42.7984 Q1935.96 49.847 1938.84 53.8747 Q1941.76 57.8677 1946.83 57.8677 Q1951.9 57.8677 1954.81 53.8747 Q1957.73 49.847 1957.73 42.7984 Q1957.73 35.7498 1954.81 31.7568 Q1951.9 27.729 1946.83 27.729 Q1941.76 27.729 1938.84 31.7568 Q1935.96 35.7498 1935.96 42.7984 Z\" fill=\"#000000\" fill-rule=\"evenodd\" fill-opacity=\"1\" /><path clip-path=\"url(#clip182)\" d=\"\n",
       "M322.151 151.861 L322.151 1386.15 L434.646 1386.15 L434.646 151.861 L322.151 151.861 L322.151 151.861  Z\n",
       "  \" fill=\"#009af9\" fill-rule=\"evenodd\" fill-opacity=\"1\"/>\n",
       "<polyline clip-path=\"url(#clip182)\" style=\"stroke:#000000; stroke-linecap:butt; stroke-linejoin:round; stroke-width:4; stroke-opacity:1; fill:none\" points=\"\n",
       "  322.151,151.861 322.151,1386.15 434.646,1386.15 434.646,151.861 322.151,151.861 \n",
       "  \"/>\n",
       "<path clip-path=\"url(#clip182)\" d=\"\n",
       "M434.646 1386.15 L434.646 1386.15 L547.141 1386.15 L547.141 1386.15 L434.646 1386.15 L434.646 1386.15  Z\n",
       "  \" fill=\"#009af9\" fill-rule=\"evenodd\" fill-opacity=\"1\"/>\n",
       "<polyline clip-path=\"url(#clip182)\" style=\"stroke:#000000; stroke-linecap:butt; stroke-linejoin:round; stroke-width:4; stroke-opacity:1; fill:none\" points=\"\n",
       "  434.646,1386.15 434.646,1386.15 547.141,1386.15 434.646,1386.15 \n",
       "  \"/>\n",
       "<path clip-path=\"url(#clip182)\" d=\"\n",
       "M547.141 1386.15 L547.141 1386.15 L659.636 1386.15 L659.636 1386.15 L547.141 1386.15 L547.141 1386.15  Z\n",
       "  \" fill=\"#009af9\" fill-rule=\"evenodd\" fill-opacity=\"1\"/>\n",
       "<polyline clip-path=\"url(#clip182)\" style=\"stroke:#000000; stroke-linecap:butt; stroke-linejoin:round; stroke-width:4; stroke-opacity:1; fill:none\" points=\"\n",
       "  547.141,1386.15 547.141,1386.15 659.636,1386.15 547.141,1386.15 \n",
       "  \"/>\n",
       "<path clip-path=\"url(#clip182)\" d=\"\n",
       "M659.636 1386.15 L659.636 1386.15 L772.132 1386.15 L772.132 1386.15 L659.636 1386.15 L659.636 1386.15  Z\n",
       "  \" fill=\"#009af9\" fill-rule=\"evenodd\" fill-opacity=\"1\"/>\n",
       "<polyline clip-path=\"url(#clip182)\" style=\"stroke:#000000; stroke-linecap:butt; stroke-linejoin:round; stroke-width:4; stroke-opacity:1; fill:none\" points=\"\n",
       "  659.636,1386.15 659.636,1386.15 772.132,1386.15 659.636,1386.15 \n",
       "  \"/>\n",
       "<path clip-path=\"url(#clip182)\" d=\"\n",
       "M772.132 1315.62 L772.132 1386.15 L884.627 1386.15 L884.627 1315.62 L772.132 1315.62 L772.132 1315.62  Z\n",
       "  \" fill=\"#009af9\" fill-rule=\"evenodd\" fill-opacity=\"1\"/>\n",
       "<polyline clip-path=\"url(#clip182)\" style=\"stroke:#000000; stroke-linecap:butt; stroke-linejoin:round; stroke-width:4; stroke-opacity:1; fill:none\" points=\"\n",
       "  772.132,1315.62 772.132,1386.15 884.627,1386.15 884.627,1315.62 772.132,1315.62 \n",
       "  \"/>\n",
       "<path clip-path=\"url(#clip182)\" d=\"\n",
       "M884.627 1386.15 L884.627 1386.15 L997.122 1386.15 L997.122 1386.15 L884.627 1386.15 L884.627 1386.15  Z\n",
       "  \" fill=\"#009af9\" fill-rule=\"evenodd\" fill-opacity=\"1\"/>\n",
       "<polyline clip-path=\"url(#clip182)\" style=\"stroke:#000000; stroke-linecap:butt; stroke-linejoin:round; stroke-width:4; stroke-opacity:1; fill:none\" points=\"\n",
       "  884.627,1386.15 884.627,1386.15 997.122,1386.15 884.627,1386.15 \n",
       "  \"/>\n",
       "<path clip-path=\"url(#clip182)\" d=\"\n",
       "M997.122 1386.15 L997.122 1386.15 L1109.62 1386.15 L1109.62 1386.15 L997.122 1386.15 L997.122 1386.15  Z\n",
       "  \" fill=\"#009af9\" fill-rule=\"evenodd\" fill-opacity=\"1\"/>\n",
       "<polyline clip-path=\"url(#clip182)\" style=\"stroke:#000000; stroke-linecap:butt; stroke-linejoin:round; stroke-width:4; stroke-opacity:1; fill:none\" points=\"\n",
       "  997.122,1386.15 997.122,1386.15 1109.62,1386.15 997.122,1386.15 \n",
       "  \"/>\n",
       "<path clip-path=\"url(#clip182)\" d=\"\n",
       "M1109.62 1386.15 L1109.62 1386.15 L1222.11 1386.15 L1222.11 1386.15 L1109.62 1386.15 L1109.62 1386.15  Z\n",
       "  \" fill=\"#009af9\" fill-rule=\"evenodd\" fill-opacity=\"1\"/>\n",
       "<polyline clip-path=\"url(#clip182)\" style=\"stroke:#000000; stroke-linecap:butt; stroke-linejoin:round; stroke-width:4; stroke-opacity:1; fill:none\" points=\"\n",
       "  1109.62,1386.15 1109.62,1386.15 1222.11,1386.15 1109.62,1386.15 \n",
       "  \"/>\n",
       "<path clip-path=\"url(#clip182)\" d=\"\n",
       "M1222.11 1350.89 L1222.11 1386.15 L1334.61 1386.15 L1334.61 1350.89 L1222.11 1350.89 L1222.11 1350.89  Z\n",
       "  \" fill=\"#009af9\" fill-rule=\"evenodd\" fill-opacity=\"1\"/>\n",
       "<polyline clip-path=\"url(#clip182)\" style=\"stroke:#000000; stroke-linecap:butt; stroke-linejoin:round; stroke-width:4; stroke-opacity:1; fill:none\" points=\"\n",
       "  1222.11,1350.89 1222.11,1386.15 1334.61,1386.15 1334.61,1350.89 1222.11,1350.89 \n",
       "  \"/>\n",
       "<path clip-path=\"url(#clip182)\" d=\"\n",
       "M1334.61 1386.15 L1334.61 1386.15 L1447.1 1386.15 L1447.1 1386.15 L1334.61 1386.15 L1334.61 1386.15  Z\n",
       "  \" fill=\"#009af9\" fill-rule=\"evenodd\" fill-opacity=\"1\"/>\n",
       "<polyline clip-path=\"url(#clip182)\" style=\"stroke:#000000; stroke-linecap:butt; stroke-linejoin:round; stroke-width:4; stroke-opacity:1; fill:none\" points=\"\n",
       "  1334.61,1386.15 1334.61,1386.15 1447.1,1386.15 1334.61,1386.15 \n",
       "  \"/>\n",
       "<path clip-path=\"url(#clip182)\" d=\"\n",
       "M1447.1 1386.15 L1447.1 1386.15 L1559.6 1386.15 L1559.6 1386.15 L1447.1 1386.15 L1447.1 1386.15  Z\n",
       "  \" fill=\"#009af9\" fill-rule=\"evenodd\" fill-opacity=\"1\"/>\n",
       "<polyline clip-path=\"url(#clip182)\" style=\"stroke:#000000; stroke-linecap:butt; stroke-linejoin:round; stroke-width:4; stroke-opacity:1; fill:none\" points=\"\n",
       "  1447.1,1386.15 1447.1,1386.15 1559.6,1386.15 1447.1,1386.15 \n",
       "  \"/>\n",
       "<path clip-path=\"url(#clip182)\" d=\"\n",
       "M1559.6 1386.15 L1559.6 1386.15 L1672.09 1386.15 L1672.09 1386.15 L1559.6 1386.15 L1559.6 1386.15  Z\n",
       "  \" fill=\"#009af9\" fill-rule=\"evenodd\" fill-opacity=\"1\"/>\n",
       "<polyline clip-path=\"url(#clip182)\" style=\"stroke:#000000; stroke-linecap:butt; stroke-linejoin:round; stroke-width:4; stroke-opacity:1; fill:none\" points=\"\n",
       "  1559.6,1386.15 1559.6,1386.15 1672.09,1386.15 1559.6,1386.15 \n",
       "  \"/>\n",
       "<path clip-path=\"url(#clip182)\" d=\"\n",
       "M1672.09 1350.89 L1672.09 1386.15 L1784.59 1386.15 L1784.59 1350.89 L1672.09 1350.89 L1672.09 1350.89  Z\n",
       "  \" fill=\"#009af9\" fill-rule=\"evenodd\" fill-opacity=\"1\"/>\n",
       "<polyline clip-path=\"url(#clip182)\" style=\"stroke:#000000; stroke-linecap:butt; stroke-linejoin:round; stroke-width:4; stroke-opacity:1; fill:none\" points=\"\n",
       "  1672.09,1350.89 1672.09,1386.15 1784.59,1386.15 1784.59,1350.89 1672.09,1350.89 \n",
       "  \"/>\n",
       "<path clip-path=\"url(#clip182)\" d=\"\n",
       "M1784.59 1386.15 L1784.59 1386.15 L1897.08 1386.15 L1897.08 1386.15 L1784.59 1386.15 L1784.59 1386.15  Z\n",
       "  \" fill=\"#009af9\" fill-rule=\"evenodd\" fill-opacity=\"1\"/>\n",
       "<polyline clip-path=\"url(#clip182)\" style=\"stroke:#000000; stroke-linecap:butt; stroke-linejoin:round; stroke-width:4; stroke-opacity:1; fill:none\" points=\"\n",
       "  1784.59,1386.15 1784.59,1386.15 1897.08,1386.15 1784.59,1386.15 \n",
       "  \"/>\n",
       "<path clip-path=\"url(#clip182)\" d=\"\n",
       "M1897.08 1386.15 L1897.08 1386.15 L2009.58 1386.15 L2009.58 1386.15 L1897.08 1386.15 L1897.08 1386.15  Z\n",
       "  \" fill=\"#009af9\" fill-rule=\"evenodd\" fill-opacity=\"1\"/>\n",
       "<polyline clip-path=\"url(#clip182)\" style=\"stroke:#000000; stroke-linecap:butt; stroke-linejoin:round; stroke-width:4; stroke-opacity:1; fill:none\" points=\"\n",
       "  1897.08,1386.15 1897.08,1386.15 2009.58,1386.15 1897.08,1386.15 \n",
       "  \"/>\n",
       "<path clip-path=\"url(#clip182)\" d=\"\n",
       "M2009.58 1386.15 L2009.58 1386.15 L2122.07 1386.15 L2122.07 1386.15 L2009.58 1386.15 L2009.58 1386.15  Z\n",
       "  \" fill=\"#009af9\" fill-rule=\"evenodd\" fill-opacity=\"1\"/>\n",
       "<polyline clip-path=\"url(#clip182)\" style=\"stroke:#000000; stroke-linecap:butt; stroke-linejoin:round; stroke-width:4; stroke-opacity:1; fill:none\" points=\"\n",
       "  2009.58,1386.15 2009.58,1386.15 2122.07,1386.15 2009.58,1386.15 \n",
       "  \"/>\n",
       "<path clip-path=\"url(#clip182)\" d=\"\n",
       "M2122.07 1350.89 L2122.07 1386.15 L2234.57 1386.15 L2234.57 1350.89 L2122.07 1350.89 L2122.07 1350.89  Z\n",
       "  \" fill=\"#009af9\" fill-rule=\"evenodd\" fill-opacity=\"1\"/>\n",
       "<polyline clip-path=\"url(#clip182)\" style=\"stroke:#000000; stroke-linecap:butt; stroke-linejoin:round; stroke-width:4; stroke-opacity:1; fill:none\" points=\"\n",
       "  2122.07,1350.89 2122.07,1386.15 2234.57,1386.15 2234.57,1350.89 2122.07,1350.89 \n",
       "  \"/>\n",
       "<circle clip-path=\"url(#clip182)\" style=\"fill:#009af9; stroke:none; fill-opacity:0\" cx=\"378.399\" cy=\"151.861\" r=\"2\"/>\n",
       "<circle clip-path=\"url(#clip182)\" style=\"fill:#009af9; stroke:none; fill-opacity:0\" cx=\"490.894\" cy=\"1386.15\" r=\"2\"/>\n",
       "<circle clip-path=\"url(#clip182)\" style=\"fill:#009af9; stroke:none; fill-opacity:0\" cx=\"603.389\" cy=\"1386.15\" r=\"2\"/>\n",
       "<circle clip-path=\"url(#clip182)\" style=\"fill:#009af9; stroke:none; fill-opacity:0\" cx=\"715.884\" cy=\"1386.15\" r=\"2\"/>\n",
       "<circle clip-path=\"url(#clip182)\" style=\"fill:#009af9; stroke:none; fill-opacity:0\" cx=\"828.379\" cy=\"1315.62\" r=\"2\"/>\n",
       "<circle clip-path=\"url(#clip182)\" style=\"fill:#009af9; stroke:none; fill-opacity:0\" cx=\"940.874\" cy=\"1386.15\" r=\"2\"/>\n",
       "<circle clip-path=\"url(#clip182)\" style=\"fill:#009af9; stroke:none; fill-opacity:0\" cx=\"1053.37\" cy=\"1386.15\" r=\"2\"/>\n",
       "<circle clip-path=\"url(#clip182)\" style=\"fill:#009af9; stroke:none; fill-opacity:0\" cx=\"1165.86\" cy=\"1386.15\" r=\"2\"/>\n",
       "<circle clip-path=\"url(#clip182)\" style=\"fill:#009af9; stroke:none; fill-opacity:0\" cx=\"1278.36\" cy=\"1350.89\" r=\"2\"/>\n",
       "<circle clip-path=\"url(#clip182)\" style=\"fill:#009af9; stroke:none; fill-opacity:0\" cx=\"1390.85\" cy=\"1386.15\" r=\"2\"/>\n",
       "<circle clip-path=\"url(#clip182)\" style=\"fill:#009af9; stroke:none; fill-opacity:0\" cx=\"1503.35\" cy=\"1386.15\" r=\"2\"/>\n",
       "<circle clip-path=\"url(#clip182)\" style=\"fill:#009af9; stroke:none; fill-opacity:0\" cx=\"1615.85\" cy=\"1386.15\" r=\"2\"/>\n",
       "<circle clip-path=\"url(#clip182)\" style=\"fill:#009af9; stroke:none; fill-opacity:0\" cx=\"1728.34\" cy=\"1350.89\" r=\"2\"/>\n",
       "<circle clip-path=\"url(#clip182)\" style=\"fill:#009af9; stroke:none; fill-opacity:0\" cx=\"1840.84\" cy=\"1386.15\" r=\"2\"/>\n",
       "<circle clip-path=\"url(#clip182)\" style=\"fill:#009af9; stroke:none; fill-opacity:0\" cx=\"1953.33\" cy=\"1386.15\" r=\"2\"/>\n",
       "<circle clip-path=\"url(#clip182)\" style=\"fill:#009af9; stroke:none; fill-opacity:0\" cx=\"2065.83\" cy=\"1386.15\" r=\"2\"/>\n",
       "<circle clip-path=\"url(#clip182)\" style=\"fill:#009af9; stroke:none; fill-opacity:0\" cx=\"2178.32\" cy=\"1350.89\" r=\"2\"/>\n",
       "</svg>\n"
      ]
     },
     "metadata": {},
     "output_type": "display_data"
    }
   ],
   "source": [
    "display(histogram(time_diff_B, nbins=20, title=\"Time taken for mail B's to be delivered\", xlabel=\"Time taken\", ylabel=\"Counts\", legend=false, titlefontsize=12))"
   ]
  },
  {
   "cell_type": "markdown",
   "metadata": {
    "heading_collapsed": true
   },
   "source": [
    "## Plot Animation"
   ]
  },
  {
   "cell_type": "code",
   "execution_count": 26,
   "metadata": {
    "ExecuteTime": {
     "end_time": "2021-12-08T15:01:37.033000+08:00",
     "start_time": "2021-12-08T07:01:36.884Z"
    },
    "hidden": true
   },
   "outputs": [
    {
     "data": {
      "text/plain": [
       "plotMapFromConnectivity (generic function with 1 method)"
      ]
     },
     "execution_count": 26,
     "metadata": {},
     "output_type": "execute_result"
    }
   ],
   "source": [
    "function plotMapFromConnectivity(C,nCol,nRow;hotspot=nothing)\n",
    "    # C is the connectivity matrix\n",
    "    # nCol is the number of columns\n",
    "    # nRow is the number of rows\n",
    "    # hotspot, a keyword argument, is the congested spot which default to nothing\n",
    "    \n",
    "    # rectrangular patch\n",
    "    rect(w, h, x, y) = Shape(x .+ [0,w,w,0], y .+ [0,0,h,h])\n",
    "    # convert 1D to 2D index\n",
    "    getXY= (x) -> ((x.-1) .% nCol .+ 1,(x.-1) .÷ nCol .+ 1 ) ;\n",
    "    \n",
    "    plot(xlim=(0,nCol), xticks=[0:nCol;],ylim=(0,nRow),yticks=[0:nRow;],\n",
    "        legend=false,aspect_ratio=:equal,framestyle=:box,\n",
    "        grid=true,foreground_color_grid=:black,gridalpha=1,gridlinewidth=1)\n",
    "    \n",
    "#     unreachable cells: black\n",
    "    s=dropdims(sum(C[1:end-1,2:end-1],dims=1),dims=1)\n",
    "    for i in findall(x->x==0,s)\n",
    "        x,y=getXY(i)\n",
    "        plot!(rect(1,1,x-1,y-1),color=:black)\n",
    "    end\n",
    "    \n",
    "#     entry sites: transparent green\n",
    "    entries=findall(x->x==1,C[1,:])\n",
    "    for i in entries\n",
    "        x,y=getXY(i-1)\n",
    "        plot!(rect(1,1,x-1,y-1),color=:green,opacity=0.2,\n",
    "            annotation = [(x-0.5, y-0.2, \"entry\")],annotationfontsize=8)\n",
    "    end   \n",
    "    \n",
    "#     exit sites: transparent red\n",
    "    exits=findall(x->x==1,C[2:end-1,end])\n",
    "    for i in exits\n",
    "        x,y=getXY(i)\n",
    "        plot!(rect(1,1,x-1,y-1),color=:red,opacity=0.2,\n",
    "            annotation = [(x-0.5, y-0.8, \"exit\")],annotationfontsize=8)\n",
    "    end\n",
    "\n",
    "#  connected site: arrow   \n",
    "    s=dropdims(sum(C[2:end-1,2:end-1],dims=2),dims=2)    \n",
    "    for r in findall(x->x>0,s)\n",
    "        reachable=findall(x->x==1,C[r+1,2:end-1])\n",
    "        x0,y0=getXY(r) \n",
    "        x1,y1=getXY(reachable)\n",
    "        dx,dy=x1.-x0,y1.-y0;\n",
    "        quiver!([x0-0.5].+0.25.*dx,[y0-0.5].+0.25.*dy,\n",
    "                quiver=((dx.*0.5,dy.*0.5)),color=:black)\n",
    "    end\n",
    "    \n",
    "#  hotspot: dotted outline\n",
    "    if !isnothing(hotspot)\n",
    "        for i in hotspot\n",
    "            x,y=getXY(i)\n",
    "            plot!([x-1,x-1,x,x,x-1],[y-1,y,y,y-1,y-1],color=:red,linewidth=3,linestyle=:dot)\n",
    "        end\n",
    "    end\n",
    "    return current()\n",
    "end"
   ]
  },
  {
   "cell_type": "code",
   "execution_count": 27,
   "metadata": {
    "ExecuteTime": {
     "end_time": "2021-12-08T15:01:40.604000+08:00",
     "start_time": "2021-12-08T07:01:40.415Z"
    },
    "hidden": true
   },
   "outputs": [
    {
     "data": {
      "text/plain": [
       "plotAllCarAtOneInstant2 (generic function with 1 method)"
      ]
     },
     "execution_count": 27,
     "metadata": {},
     "output_type": "execute_result"
    }
   ],
   "source": [
    "function plotAllCarAtOneInstant2(H,t,nCol,nRow;c=palette(:tab10))\n",
    "    # H is the history matrix\n",
    "    # t is time step\n",
    "    # nCol is the number of columns\n",
    "    # nRow is the number of rows\n",
    "    # c, a keyword argument, is the color palette which default to tab10\n",
    "    pos=H[:,t];\n",
    "    maxNodes=nCol*nRow;\n",
    "    getXY= (x) -> ((x.-1) .% nCol .+ 1,(x.-1) .÷ nCol .+ 1 ) ;    \n",
    "    \n",
    "    id=findall(x->x>0 && x<=maxNodes,pos);\n",
    "    x,y=getXY(pos[id]);\n",
    "    annot=[(xx-0.5,yy-0.5,\"$(i)\") for (i,xx,yy) in zip(id,x,y)];\n",
    "    shape=[:circle for i in id];\n",
    "    (t>1) && (shape[H[id,t-1].==0].=:diamond);\n",
    "    \n",
    "    return scatter!(x.-0.5,y.-0.5,color=c[(id.-1).%length(c).+1],\n",
    "                    title=\"t=$(t-1)\",\n",
    "                    annotation = annot, annotationfontsize=9,\n",
    "                    markershape=shape, markersize=16, markerstrokewidth=2)\n",
    "end"
   ]
  },
  {
   "cell_type": "code",
   "execution_count": 28,
   "metadata": {
    "ExecuteTime": {
     "end_time": "2021-12-08T15:01:45.428000+08:00",
     "start_time": "2021-12-08T07:01:45.240Z"
    },
    "hidden": true,
    "jupyter": {
     "source_hidden": true
    },
    "tags": []
   },
   "outputs": [
    {
     "data": {
      "text/plain": [
       "congest_plot2 (generic function with 1 method)"
      ]
     },
     "execution_count": 28,
     "metadata": {},
     "output_type": "execute_result"
    }
   ],
   "source": [
    "function congest_plot2(H,a,b,L)\n",
    "    ## H is the history matrix\n",
    "    # a is the starting time chosen to check congestion\n",
    "    # b is the final time\n",
    "    # L is the number of sites\n",
    "    \n",
    "    counter=zeros(Int64,L) # the histogram \n",
    "    \n",
    "    # use run length encoding to count\n",
    "    for row in eachrow(H[:,a:b])\n",
    "        p=filter(x-> x>0 && x<=L,row)\n",
    "        for (k,l) in zip(rle(p)...) # run length encoding\n",
    "            counter[k]+= l-1 #do not count the first occurence\n",
    "        end\n",
    "    end    \n",
    "    \n",
    "    # implementation 2: only traverse H once\n",
    "#     for row in eachrow(H[:,a:b])\n",
    "#         iter = Iterators.filter(x-> x>0 && x<=L,row)\n",
    "#         (item1, state) = iterate(iter)\n",
    "#         while (iter2=iterate(iter, state)) != nothing\n",
    "#             (item2, state) = iter2        \n",
    "#             item1==item2 && (counter[item1]+=1)\n",
    "#             item1=item2\n",
    "#         end\n",
    "#     end\n",
    "    \n",
    "    x_point=findall(x->x==maximum(counter),counter)\n",
    "    \n",
    "    display(bar(counter,bar_edges=true,bar_width=1,xticks=[1:L;],\n",
    "                title = \"Congestion plot from time t=$a to t=$b\", \n",
    "                xlabel = \"Position\", ylabel = \"Number of cars halted\",\n",
    "                legend=false,titlefontsize=12))\n",
    "        \n",
    "    println(\"The maximum congetsion is at position $x_point during the time t=$a to t=$b\")\n",
    "    return x_point\n",
    "end"
   ]
  },
  {
   "cell_type": "code",
   "execution_count": 29,
   "metadata": {
    "ExecuteTime": {
     "end_time": "2021-12-08T15:01:59.839000+08:00",
     "start_time": "2021-12-08T07:01:47.171Z"
    },
    "hidden": true
   },
   "outputs": [],
   "source": [
    "NMail = 10; # number of mails\n",
    "tM = 35; # total time steps\n",
    "L = 6; # number of sites\n",
    "numA = 3 # mail A number\n",
    "numB = NMail - numA # mail B number\n",
    "\n",
    "C = connect_matrix_2D();\n",
    "conn_matA = connect_matrix_A()\n",
    "conn_matB = connect_matrix_B()\n",
    "H = initialize_H(NMail,tM);\n",
    "for it = 1:tM+1\n",
    "    H = next_step_k(H,it,C,L,numA,conn_matA,conn_matB);\n",
    "end\n",
    "\n",
    "nCol = 3;\n",
    "nRow = 2;\n",
    "gr(size=(750,750))\n",
    "anim = Animation()\n",
    "p4=plotMapFromConnectivity(C,nCol,nRow);\n",
    "# p4=plotMapFromConnectivity(C,nCol,nRow;hotspot=ct4);\n",
    "for t=1:tM+2-sum(sum(H.==nCol*nRow+1,dims=1).==L)\n",
    "    plot(deepcopy(p4))\n",
    "    plotAllCarAtOneInstant2(H,t,nCol,nRow;c=palette(:tab20))\n",
    "    frame(anim)\n",
    "end"
   ]
  },
  {
   "cell_type": "code",
   "execution_count": 31,
   "metadata": {
    "hidden": true,
    "tags": []
   },
   "outputs": [
    {
     "name": "stderr",
     "output_type": "stream",
     "text": [
      "┌ Info: Saved animation to \n",
      "│   fn = /Volumes/GoogleDrive/My Drive/TrafficeHackathon2021/simulation.gif\n",
      "└ @ Plots /Users/tianqichen/.julia/packages/Plots/PomtQ/src/animation.jl:114\n"
     ]
    },
    {
     "data": {
      "text/html": [
       "<img src=\"data:image/gif;base64,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\" />"
      ],
      "text/plain": [
       "Plots.AnimatedGif(\"/Volumes/GoogleDrive/My Drive/TrafficeHackathon2021/simulation.gif\")"
      ]
     },
     "execution_count": 31,
     "metadata": {},
     "output_type": "execute_result"
    }
   ],
   "source": [
    "gif(anim,\"simulation.gif\",fps=1)"
   ]
  },
  {
   "cell_type": "markdown",
   "metadata": {
    "heading_collapsed": true
   },
   "source": [
    "## Shows Smooth Traffic\n",
    "<img src=\"assets/smoothtraffic.gif\" width=\"750\" align=\"center\">"
   ]
  },
  {
   "cell_type": "code",
   "execution_count": 30,
   "metadata": {
    "ExecuteTime": {
     "end_time": "2021-12-08T15:03:08.847000+08:00",
     "start_time": "2021-12-08T07:03:07.002Z"
    },
    "hidden": true
   },
   "outputs": [
    {
     "name": "stdout",
     "output_type": "stream",
     "text": [
      "10×37 Matrix{Int16}:\n",
      " 0  0  0  0  0  0  0  5  5  5  6  6  6  6  4  4  4  4  4  4  4  5  5  5  5  5  5  5  5  5  5  5  2  2  2  5  6\n",
      " 0  1  1  5  5  5  6  6  6  6  4  4  4  5  5  5  2  5  5  5  5  5  5  5  6  5  5  5  5  5  5  5  5  5  6  6  6\n",
      " 0  0  0  0  6  5  4  5  5  5  5  5  6  5  6  5  5  5  6  5  4  4  6  6  6  6  4  5  6  5  5  5  4  5  5  5  6\n",
      " 0  0  4  4  2  3  2  1  2  1  2  3  2  1  2  3  3  3  2  3  2  3  3  3  4  1  2  2  2  3  2  3  2  2  2  1  2\n",
      " 0  0  0  1  2  3  2  3  2  5  2  3  2  3  2  3  2  3  2  5  2  1  2  2  2  5  2  3  2  5  2  1  4  1  2  3  2\n",
      " 0  0  2  3  7  7  7  7  7  7  7  7  7  7  7  7  7  7  7  7  7  7  7  7  7  7  7  7  7  7  7  7  7  7  7  7  7\n",
      " 0  1  2  3  7  7  7  7  7  7  7  7  7  7  7  7  7  7  7  7  7  7  7  7  7  7  7  7  7  7  7  7  7  7  7  7  7\n",
      " 0  1  4  1  2  1  2  3  2  3  2  3  2  3  2  3  2  1  2  1  2  1  2  5  2  1  2  1  2  3  2  1  2  3  2  3  2\n",
      " 0  1  2  3  7  7  7  7  7  7  7  7  7  7  7  7  7  7  7  7  7  7  7  7  7  7  7  7  7  7  7  7  7  7  7  7  7\n",
      " 0  0  2  3  7  7  7  7  7  7  7  7  7  7  7  7  7  7  7  7  7  7  7  7  7  7  7  7  7  7  7  7  7  7  7  7  7"
     ]
    }
   ],
   "source": [
    "show(stdout, \"text/plain\", H)"
   ]
  },
  {
   "cell_type": "markdown",
   "metadata": {
    "heading_collapsed": true
   },
   "source": [
    "## Shows Blockade\n",
    "<img src=\"assets/blockade.gif\" width=\"750\" align=\"center\">"
   ]
  }
 ],
 "metadata": {
  "kernelspec": {
   "display_name": "Julia 1.7.0",
   "language": "julia",
   "name": "julia-1.7"
  },
  "language_info": {
   "file_extension": ".jl",
   "mimetype": "application/julia",
   "name": "julia",
   "version": "1.7.0"
  },
  "toc": {
   "base_numbering": 1,
   "nav_menu": {},
   "number_sections": true,
   "sideBar": true,
   "skip_h1_title": false,
   "title_cell": "Table of Contents",
   "title_sidebar": "Contents",
   "toc_cell": false,
   "toc_position": {},
   "toc_section_display": true,
   "toc_window_display": true
  },
  "varInspector": {
   "cols": {
    "lenName": 16,
    "lenType": 16,
    "lenVar": 40
   },
   "kernels_config": {
    "python": {
     "delete_cmd_postfix": "",
     "delete_cmd_prefix": "del ",
     "library": "var_list.py",
     "varRefreshCmd": "print(var_dic_list())"
    },
    "r": {
     "delete_cmd_postfix": ") ",
     "delete_cmd_prefix": "rm(",
     "library": "var_list.r",
     "varRefreshCmd": "cat(var_dic_list()) "
    }
   },
   "types_to_exclude": [
    "module",
    "function",
    "builtin_function_or_method",
    "instance",
    "_Feature"
   ],
   "window_display": false
  }
 },
 "nbformat": 4,
 "nbformat_minor": 5
}
