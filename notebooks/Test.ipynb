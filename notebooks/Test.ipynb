{
 "cells": [
  {
   "cell_type": "markdown",
   "metadata": {},
   "source": [
    "## Simulation of 2D mail delivery system with Monte Carlo"
   ]
  },
  {
   "cell_type": "code",
   "execution_count": 1,
   "metadata": {
    "jupyter": {
     "outputs_hidden": true
    },
    "scrolled": true,
    "tags": []
   },
   "outputs": [],
   "source": [
    "import Pkg;\n",
    "Pkg.add(\"Plots\")\n",
    "Pkg.add(\"Statistics\")\n",
    "Pkg.add(\"StatsBase\")\n",
    "Pkg.add(\"WebIO\")\n",
    "Pkg.add(\"DelimitedFiles\") \n",
    "Pkg.add(\"PyPlot\") #on-the-fly animation using pyplot backend seems less flickers\n",
    "Pkg.build(\"PyCall\")"
   ]
  },
  {
   "cell_type": "code",
   "execution_count": 2,
   "metadata": {},
   "outputs": [],
   "source": [
    "using Plots, Statistics,Random, StatsBase, DelimitedFiles"
   ]
  },
  {
   "cell_type": "markdown",
   "metadata": {
    "tags": []
   },
   "source": [
    "## Rules and policy"
   ]
  },
  {
   "cell_type": "markdown",
   "metadata": {},
   "source": [
    "<img src='cmap.gif' width=\"400\" height=\"300\">"
   ]
  },
  {
   "cell_type": "markdown",
   "metadata": {
    "jupyter": {
     "source_hidden": true
    },
    "tags": []
   },
   "source": [
    "In this subject, we consider a mail delivery system where mails are delivered on a network of connected stations,  \n",
    "and they can only be delivered from station to station, say via mail service workers on horses.   \n",
    "It starts at $0$ (the source), with two types of mails (A and B. It can be more than two types in a more complicated setup).   \n",
    "Stations $3$(B) and $6$(A) are the respective destinations. After going to the correct destination, the mails are sent to $7$ (the drain).  \n",
    "Here a few basic rules for delivery the mails:  \n",
    "- For each time step, the mails move only one step.\n",
    "- One station can have at most one mail at each time step.\n",
    "- The mail is allowed to be delivered to any of the available connected stations.\n",
    "- The probabilities of going to any station is user-defined\n",
    "\n"
   ]
  },
  {
   "cell_type": "markdown",
   "metadata": {
    "tags": []
   },
   "source": [
    "## Core functions for delivery algorithm"
   ]
  },
  {
   "cell_type": "markdown",
   "metadata": {
    "jupyter": {
     "source_hidden": true
    },
    "tags": []
   },
   "source": [
    "\n",
    "\n",
    "The connectivity matrix describes all connections of the stations to one another.  \n",
    "We indicate 1 in the corresponding row and columns to indicate a connection.  \n",
    "For eg. where 1 connects to 2, the matrix (row,column)->(1,2)=1  \n",
    "At this stage, this is manually input.  \n",
    "The connectivity matrix describing the above node connections that **allows for all directions** is as follows:\n"
   ]
  },
  {
   "cell_type": "markdown",
   "metadata": {},
   "source": [
    "### 1. Connectivity matrix for the delivery path (tested)\n"
   ]
  },
  {
   "cell_type": "code",
   "execution_count": 41,
   "metadata": {
    "jupyter": {
     "source_hidden": true
    },
    "tags": []
   },
   "outputs": [
    {
     "data": {
      "text/plain": [
       "connect_matrix_2D (generic function with 1 method)"
      ]
     },
     "execution_count": 41,
     "metadata": {},
     "output_type": "execute_result"
    }
   ],
   "source": [
    "# connectivity matrix\n",
    "# Vetically, the mail can be delivered back; Horizontally, the mail can only be delivered forward to the destination.\n",
    "function connect_matrix_2D()\n",
    "    #1st row is source, last row is drain. all entries are connected to source, all exits are connected to drain!\n",
    "    C = zeros(Float64,8,8);\n",
    "    C[1,2] = 1;\n",
    "    \n",
    "    C[2,3] = 1;\n",
    "    C[2,5] = 1;\n",
    "    \n",
    "    C[3,2] = 1;\n",
    "    C[3,4] = 1;\n",
    "    C[3,6] = 1;\n",
    "    \n",
    "    C[4,3] = 1;\n",
    "    C[4,8] = 1;\n",
    "    \n",
    "    C[5,2] = 1;\n",
    "    C[5,6] = 1;\n",
    "    \n",
    "    C[6,3] = 1;\n",
    "    C[6,5] = 1;\n",
    "    C[6,7] = 1;\n",
    "    \n",
    "    C[7,6] = 1; \n",
    "    C[7,8] = 1;\n",
    "    \n",
    "    C[8,8] = 1;\n",
    "    return C\n",
    "end\n"
   ]
  },
  {
   "cell_type": "code",
   "execution_count": 4,
   "metadata": {
    "tags": []
   },
   "outputs": [
    {
     "data": {
      "text/plain": [
       "connect_matrix_A (generic function with 1 method)"
      ]
     },
     "execution_count": 4,
     "metadata": {},
     "output_type": "execute_result"
    }
   ],
   "source": [
    "function connect_matrix_A()\n",
    "    A = zeros(Float64,8,8);\n",
    "    A[1,2] = 1;\n",
    "    \n",
    "    A[2,3] = 0.1;\n",
    "    A[2,5] = 0.9;\n",
    "    \n",
    "    A[3,2] = 0.1;\n",
    "    A[3,4] = 0.1;\n",
    "    A[3,6] = 0.8;\n",
    "    \n",
    "    A[4,3] = 1; #if A mail reaches B(3), mail returns to station 2 with 100% probability.\n",
    "    \n",
    "    A[5,2] = 0.1;\n",
    "    A[5,6] = 0.9;\n",
    "    \n",
    "    A[6,3] = 0.1;\n",
    "    A[6,5] = 0.1;\n",
    "    A[6,7] = 0.8;\n",
    "    \n",
    "    A[7,8] = 1; \n",
    " \n",
    "    return A\n",
    "end\n"
   ]
  },
  {
   "cell_type": "code",
   "execution_count": 40,
   "metadata": {
    "tags": []
   },
   "outputs": [
    {
     "data": {
      "text/plain": [
       "connect_matrix_B (generic function with 1 method)"
      ]
     },
     "execution_count": 40,
     "metadata": {},
     "output_type": "execute_result"
    }
   ],
   "source": [
    "function connect_matrix_B()\n",
    "    B = zeros(Float64,8,8);\n",
    "    B[1,2] = 1;\n",
    "    \n",
    "    B[2,3] = 0.9;\n",
    "    B[2,5] = 0.1;\n",
    "    \n",
    "    B[3,2] = 0.1;\n",
    "    B[3,4] = 0.8;\n",
    "    B[3,6] = 0.1;\n",
    "    \n",
    "    B[4,8] = 1;\n",
    "        \n",
    "    B[5,2] = 0.9;\n",
    "    B[5,6] = 0.1;\n",
    "    \n",
    "    B[6,3] = 0.8;\n",
    "    B[6,5] = 0.1;\n",
    "    B[6,7] = 0.1;\n",
    "     \n",
    "    B[7,6] = 1; #if B mail reaches A(6), mail returns to station 5 with 100% probability.  \n",
    " \n",
    "    return B\n",
    "end"
   ]
  },
  {
   "cell_type": "code",
   "execution_count": 6,
   "metadata": {},
   "outputs": [
    {
     "data": {
      "text/plain": [
       "8×8 Matrix{Float64}:\n",
       " 0.0  1.0  0.0  0.0  0.0  0.0  0.0  0.0\n",
       " 0.0  0.0  1.0  0.0  1.0  0.0  0.0  0.0\n",
       " 0.0  1.0  0.0  1.0  0.0  1.0  0.0  0.0\n",
       " 0.0  0.0  1.0  0.0  0.0  0.0  0.0  1.0\n",
       " 0.0  1.0  0.0  0.0  0.0  1.0  0.0  0.0\n",
       " 0.0  0.0  1.0  0.0  1.0  0.0  1.0  0.0\n",
       " 0.0  0.0  0.0  0.0  0.0  1.0  0.0  1.0\n",
       " 0.0  0.0  0.0  0.0  0.0  0.0  0.0  1.0"
      ]
     },
     "execution_count": 6,
     "metadata": {},
     "output_type": "execute_result"
    }
   ],
   "source": [
    "C = connect_matrix_2D()"
   ]
  },
  {
   "cell_type": "code",
   "execution_count": 7,
   "metadata": {
    "tags": []
   },
   "outputs": [
    {
     "data": {
      "text/plain": [
       "8×8 Matrix{Float64}:\n",
       " 0.0  1.0  0.0  0.0  0.0  0.0  0.0  0.0\n",
       " 0.0  0.0  0.5  0.0  0.5  0.0  0.0  0.0\n",
       " 0.0  0.2  0.0  0.2  0.0  0.6  0.0  0.0\n",
       " 0.0  0.0  1.0  0.0  0.0  0.0  0.0  0.0\n",
       " 0.0  0.3  0.0  0.0  0.0  0.7  0.0  0.0\n",
       " 0.0  0.0  0.2  0.0  0.2  0.0  0.6  0.0\n",
       " 0.0  0.0  0.0  0.0  0.0  0.0  0.0  1.0\n",
       " 0.0  0.0  0.0  0.0  0.0  0.0  0.0  0.0"
      ]
     },
     "execution_count": 7,
     "metadata": {},
     "output_type": "execute_result"
    }
   ],
   "source": [
    "conn_matA = connect_matrix_A()"
   ]
  },
  {
   "cell_type": "code",
   "execution_count": 8,
   "metadata": {},
   "outputs": [
    {
     "data": {
      "text/plain": [
       "8×8 Matrix{Float64}:\n",
       " 0.0  1.0  0.0  0.0  0.0  0.0  0.0  0.0\n",
       " 0.0  0.0  0.5  0.0  0.5  0.0  0.0  0.0\n",
       " 0.0  0.3  0.0  0.6  0.0  0.1  0.0  0.0\n",
       " 0.0  0.0  0.0  0.0  0.0  0.0  0.0  1.0\n",
       " 0.0  0.5  0.0  0.0  0.0  0.5  0.0  0.0\n",
       " 0.0  0.0  0.6  0.0  0.2  0.0  0.2  0.0\n",
       " 0.0  0.0  0.0  0.0  0.0  1.0  0.0  0.0\n",
       " 0.0  0.0  0.0  0.0  0.0  0.0  0.0  0.0"
      ]
     },
     "execution_count": 8,
     "metadata": {},
     "output_type": "execute_result"
    }
   ],
   "source": [
    "conn_matB = connect_matrix_B()"
   ]
  },
  {
   "cell_type": "markdown",
   "metadata": {},
   "source": [
    "# Allows for freeplay of probability distributions\n",
    "## - distance weighted probabilities\n",
    "## - competition - A optimises correct deliveries, B proportionately optimises preventing A from correct deliveries while having correct deliveries"
   ]
  },
  {
   "cell_type": "markdown",
   "metadata": {},
   "source": [
    "### 2. Function that initializes the matrix of histories (tested)\n",
    "Entries of history matrix, $H$, are initialized to 0.  \n",
    "All mails get ready at position 1.  \n",
    "This matrix stores the trajectory of the mails across time.  \n",
    "Each **row** corresponds to a mail in the system and each **column** stores the positions of all the mails at a snapshot in time.  \n",
    "Going across the row tells you the position of a particular mail across time."
   ]
  },
  {
   "cell_type": "code",
   "execution_count": 9,
   "metadata": {},
   "outputs": [
    {
     "data": {
      "text/plain": [
       "initialize_H (generic function with 1 method)"
      ]
     },
     "execution_count": 9,
     "metadata": {},
     "output_type": "execute_result"
    }
   ],
   "source": [
    "function initialize_H(NC,tM)\n",
    "    # tM maximum number of time steps\n",
    "    # NC is the number of mails\n",
    "    return H = zeros(Int16,NC, tM+2); #this tM+2 can be alterd to taste    \n",
    "end"
   ]
  },
  {
   "cell_type": "markdown",
   "metadata": {},
   "source": [
    "### 3. Function that finds available next positions (tested)\n",
    "Given a mail's position (for example, ip), the following procedures are used to determine the available positions\n",
    "- Determine the **reachable positions** by inspecting the corresponding row of the connectivity matrix, $C$\n",
    "- Determine the **occupied positions** by inspecting the column of history matrix, $H$, corresponds to the time step.  \n",
    "However, $0$, $L+1$ are excluded.  \n",
    "Recall the position $0$ is the source which hosts the awaiting of mails, and $L+1$ is for the drain of mails, respectively. \n",
    "- **Positions available** are the positions which are reachable but not occupied. Equivalently, set of reachable subtract set of occupied."
   ]
  },
  {
   "cell_type": "code",
   "execution_count": 10,
   "metadata": {},
   "outputs": [
    {
     "data": {
      "text/plain": [
       "find_pos_available_k (generic function with 1 method)"
      ]
     },
     "execution_count": 10,
     "metadata": {},
     "output_type": "execute_result"
    }
   ],
   "source": [
    "function find_pos_available_k(ic,it,H,C,L,conn_mat) \n",
    "    # ic is the mail number \n",
    "    # it is the time step \n",
    "    # H matrix of histories \n",
    "    # C connectivity matrix \n",
    "    # L is the number of stations \n",
    "    # for a particular mail at a particular time, \n",
    "    aux = size(H);\n",
    "    NC = copy(aux[1]); #NC returns the total number of mails \n",
    "    vec_pos0 = Int64.(zeros(0)); \n",
    "    vec_pos = Int64.(zeros(0)); \n",
    "    vec_prob0 = Float64.(zeros(0)); \n",
    "    vec_prob = Float64.(zeros(0)); \n",
    "    \n",
    "    ip = copy(H[ic,it]); #obtain current position of the mail from history matrix    \n",
    "    for iL = 1:L+2 #check all possible positions, +2 to account for source and drain\n",
    "        if C[ip+1,iL] == 1 #(row,col) check whether this station is connected to station ip (it would be a 1 in the connectivity matrix)\n",
    "                           #ip+1 to account for numbering of station, 0th station starts at 1st row. \n",
    "            if conn_mat[ip+1,iL] != 0 #check whether mail type has prob of moving to station iL, if so, store position and corresponding probability\n",
    "                vec_pos0 = append!(vec_pos0, iL-1); #stores all reachable stations\n",
    "                vec_prob0 = append!(vec_prob0, conn_mat[ip+1,iL]); #store prob of respective reachable stations\n",
    "            end\n",
    "        end\n",
    "    end\n",
    "    \n",
    "    #conflict resolution\n",
    "    aux = size(vec_pos0) #total number of reachable stations\n",
    "    for ipos = 1:aux[1] #going across all possible stations\n",
    "        s=0;\n",
    "        if (vec_pos0[ipos] != L+1)  #if the mail is not outside, which is at L+1   \n",
    "            for iNC = 1:NC #going across all mails\n",
    "                if H[iNC,it] == copy(vec_pos0[ipos]); #checks if stations is already occupied by other mails. if so, add 1 to s. \n",
    "                    s+=1;\n",
    "                end\n",
    "            end\n",
    "        end    \n",
    "        if s==0 #if s!=1, proceed\n",
    "            vec_pos = append!(vec_pos,vec_pos0[ipos]); # if there are no collisions, store particular reachable station in vec_pos which is returned by this function.\n",
    "            vec_prob = append!(vec_prob,vec_prob0[ipos]);\n",
    "            \n",
    "        end\n",
    "    end\n",
    "        if !isempty(vec_prob) #if probability vector is not empty, normalise it\n",
    "            vec_prob = vec_prob./sum(vec_prob);#normalise probability here!\n",
    "        end\n",
    "    return vec_pos, vec_prob\n",
    "end"
   ]
  },
  {
   "cell_type": "code",
   "execution_count": 11,
   "metadata": {},
   "outputs": [
    {
     "data": {
      "text/plain": [
       "4×12 Matrix{Int16}:\n",
       " 0  0  0  0  0  0  0  0  0  0  0  0\n",
       " 0  0  0  0  0  0  0  0  0  0  0  0\n",
       " 0  0  0  0  0  0  0  0  0  0  0  0\n",
       " 0  0  0  0  0  0  0  0  0  0  0  0"
      ]
     },
     "execution_count": 11,
     "metadata": {},
     "output_type": "execute_result"
    }
   ],
   "source": [
    "H = initialize_H(4,10)"
   ]
  },
  {
   "cell_type": "code",
   "execution_count": 12,
   "metadata": {},
   "outputs": [
    {
     "data": {
      "text/plain": [
       "4×12 Matrix{Int16}:\n",
       " 7  0  0  0  0  0  0  0  0  0  0  0\n",
       " 5  0  0  0  0  0  0  0  0  0  0  0\n",
       " 3  0  0  0  0  0  0  0  0  0  0  0\n",
       " 0  0  0  0  0  0  0  0  0  0  0  0"
      ]
     },
     "execution_count": 12,
     "metadata": {},
     "output_type": "execute_result"
    }
   ],
   "source": [
    "H[1,1]=7;\n",
    "H[2,1]=5;\n",
    "H[3,1]=3;\n",
    "H"
   ]
  },
  {
   "cell_type": "code",
   "execution_count": 13,
   "metadata": {},
   "outputs": [
    {
     "data": {
      "text/plain": [
       "([2, 4, 6], [0.2, 0.2, 0.6])"
      ]
     },
     "execution_count": 13,
     "metadata": {},
     "output_type": "execute_result"
    }
   ],
   "source": [
    "vec_pos, Avec_prob=find_pos_available_k(2,1,H,C,6,conn_matA) "
   ]
  },
  {
   "cell_type": "markdown",
   "metadata": {
    "tags": []
   },
   "source": [
    "### 4. Function that delivers a single mail (tested)\n",
    "The mail worker first decides whether to deliver the mail according to the dictated probability. If so, it randomly picks one position from available positions and registers the intention into the corresponding column of history matrix, $H$. Note that, at this stage, the movement is not final due to possible conflicts with other mails."
   ]
  },
  {
   "cell_type": "code",
   "execution_count": 14,
   "metadata": {
    "tags": []
   },
   "outputs": [],
   "source": [
    "#Demonstrates how to draw weighted sampling\n",
    "# Pkg.add(\"StatsBase\")  # Only do this once, obviously\n",
    "# using StatsBase\n",
    "# items = [\"a\", 2, 5, \"h\", \"hello\", 3]\n",
    "# weights = [0.1, 0.1, 0.2, 0.2, 0.1, 0.3]\n",
    "# sample(items, Weights(weights))\n",
    "# choice_weighted = sample(vec_pos, Weights(Avec_prob))"
   ]
  },
  {
   "cell_type": "code",
   "execution_count": 15,
   "metadata": {},
   "outputs": [
    {
     "data": {
      "text/plain": [
       "move_position_k (generic function with 1 method)"
      ]
     },
     "execution_count": 15,
     "metadata": {},
     "output_type": "execute_result"
    }
   ],
   "source": [
    "function move_position_k(ic,it,H,vec_pos, Avec_prob,conn_matA)\n",
    "   #applies probability of moving via prob connectivity matrix A and B\n",
    "    current_pos = copy(H[ic,it]); # current mail position\n",
    "    aux = size(vec_pos);\n",
    "    n_pos = copy(aux[1]);\n",
    "    if n_pos > 0\n",
    "        H[ic,it+1] = sample(vec_pos, Weights(Avec_prob)); #draw randomly from weighted distribution\n",
    "    end\n",
    "    return H\n",
    "end"
   ]
  },
  {
   "cell_type": "code",
   "execution_count": 16,
   "metadata": {},
   "outputs": [
    {
     "data": {
      "text/plain": [
       "deliver_mail_k (generic function with 1 method)"
      ]
     },
     "execution_count": 16,
     "metadata": {},
     "output_type": "execute_result"
    }
   ],
   "source": [
    "function deliver_mail_k(ic,numA,it,H,C,L,conn_matA,conn_matB)\n",
    "    # numA is number of mails belonging to A. Above numA, all mails belong to B\n",
    "    # if A execute connectivity matrix A\n",
    "    # ic is the mail number\n",
    "    # H matrix of histories\n",
    "    # it time step\n",
    "    # C connectivity matrix\n",
    "    H[ic, it+1] = copy(H[ic, it]); \n",
    "    # vec_pos, vec_prob= find_pos_available_k(ic,it,H,C,L);\n",
    "    if ic <= numA\n",
    "            vec_pos, Avec_prob= find_pos_available_k(ic,it,H,C,L,conn_matA);\n",
    "            H = move_position_k(ic,it,H,vec_pos, Avec_prob,conn_matA)\n",
    "    else\n",
    "            vec_pos, Bvec_prob= find_pos_available_k(ic,it,H,C,L,conn_matB);\n",
    "            H = move_position_k(ic,it,H,vec_pos, Bvec_prob,conn_matB)\n",
    "\n",
    "    end\n",
    "    return H\n",
    "end"
   ]
  },
  {
   "cell_type": "markdown",
   "metadata": {
    "tags": []
   },
   "source": [
    "### 5. Check for and resolve conflicts (tested)\n",
    "\n",
    "Given a position in the mail delivery path, following procedure is used to resolve conflicts:\n",
    "- Determine a list of mails delivering to the same station by inspecting the column of history matrix, $H$, correspond to current time step. For example, given $\\text{it}$ (time step) and $\\text{iL}$ (position of the station in connected network), the index of entries in $H[:,\\text{it}]==\\text{iL}$ are the mails which are going into the station iL.\n",
    "- More than one mails going into the same position constitue a conflict.\n",
    "- To resolve conflict, we randomly let one mail to move on and make the rest stay put.\n",
    "- Iterate over all positions in the connected delivery network, rinse and repeat."
   ]
  },
  {
   "cell_type": "code",
   "execution_count": 17,
   "metadata": {
    "tags": []
   },
   "outputs": [
    {
     "data": {
      "text/plain": [
       "find_resolve_conflicts (generic function with 1 method)"
      ]
     },
     "execution_count": 17,
     "metadata": {},
     "output_type": "execute_result"
    }
   ],
   "source": [
    "function find_resolve_conflicts(H,L,it)\n",
    "    #conflicts only happen for new positions. conflicts from old to new has been resolved in find_pos_available\n",
    "    # it is the time step \n",
    "    # H matrix of histories \n",
    "    # L is the number of positions \n",
    "    Hn = copy(H); \n",
    "    aux = size(H); \n",
    "    NC = aux[1]; \n",
    "    # finds list of cars that are in conflict.\n",
    "    for iL = 1:L\n",
    "        list_cars = Int64.(zeros(0)); \n",
    "        for ic = 1:NC \n",
    "            if H[ic,it] == iL \n",
    "                list_cars = append!(list_cars, ic);\n",
    "            end\n",
    "        end\n",
    "        aux = size(list_cars); \n",
    "        #in list of cars with conflict, randomly let one car progress and keep the rest stationary.\n",
    "        if aux[1]>1\n",
    "            i_pos = rand(1:aux[1],1,1);\n",
    "            keep_pos = copy(i_pos[1]); \n",
    "            for ipos = 1:aux[1]\n",
    "                Hn[list_cars[ipos], it] = copy(H[list_cars[ipos], it-1]); #the rest are sent back to their prev station\n",
    "            end\n",
    "            Hn[list_cars[keep_pos], it] = copy(H[list_cars[keep_pos], it]); #selected mail proceeds to new position\n",
    "        end\n",
    "    end\n",
    "    return Hn \n",
    "    \n",
    "end\n",
    "\n",
    "# H = initialize_H(4,4)\n",
    "# H[1,2] = 1\n",
    "# H[2,2] = 1\n",
    "# H[3,2] = 1\n",
    "# H[4,2] = 1\n",
    "# H = find_resolve_conflicts(H,L,2)"
   ]
  },
  {
   "cell_type": "markdown",
   "metadata": {},
   "source": [
    "### 6. Function that delivery all the mails (tested) \n",
    "All mails are to be delivered to the next station, and conflicts are resolved, the movements are final."
   ]
  },
  {
   "cell_type": "code",
   "execution_count": 18,
   "metadata": {},
   "outputs": [
    {
     "data": {
      "text/plain": [
       "next_step_k (generic function with 1 method)"
      ]
     },
     "execution_count": 18,
     "metadata": {},
     "output_type": "execute_result"
    }
   ],
   "source": [
    "function next_step_k(H,it,C,L,numA,conn_matA,conn_matB)\n",
    "    # H matrix of histories\n",
    "    # p_mov probability of moving\n",
    "    # it time step\n",
    "    # C connectivity matrix\n",
    "    aux = size(H);\n",
    "    NC = copy(aux[1]); \n",
    "    for ic = 1:NC\n",
    "         H = deliver_mail_k(ic,numA,it,H,C,L,conn_matA,conn_matB); # \n",
    "    end\n",
    "    H = find_resolve_conflicts(H,L,it+1); # \n",
    "    return H\n",
    "end"
   ]
  },
  {
   "cell_type": "markdown",
   "metadata": {},
   "source": [
    "## Example 1\n",
    "In this example, we simulate a delivery process consisting of two kinds of mails (A and B). They are supposed to be sent to two destinations."
   ]
  },
  {
   "cell_type": "code",
   "execution_count": 114,
   "metadata": {},
   "outputs": [
    {
     "data": {
      "text/plain": [
       "80×152 Matrix{Int16}:\n",
       " 0  0  0  0  0  0  0  0  0  0  0  0  0  …  0  0  0  0  0  0  0  0  0  0  0  0\n",
       " 0  0  0  0  0  0  0  0  0  0  0  0  0     0  0  0  0  0  0  0  0  0  0  0  0\n",
       " 0  0  0  0  0  0  0  0  0  0  0  0  0     0  0  0  0  0  0  0  0  0  0  0  0\n",
       " 0  0  0  0  0  0  0  0  0  0  0  0  0     0  0  0  0  0  0  0  0  0  0  0  0\n",
       " 0  0  0  0  0  0  0  0  0  0  0  0  0     7  7  7  7  7  7  7  7  7  7  7  7\n",
       " 0  0  0  0  0  0  0  0  0  0  0  0  0  …  0  0  0  0  0  0  0  0  0  0  0  0\n",
       " 0  0  0  0  0  0  0  0  0  1  4  5  6     7  7  7  7  7  7  7  7  7  7  7  7\n",
       " 0  0  0  0  0  0  0  0  0  0  0  0  0     0  0  0  0  0  0  0  0  0  0  0  0\n",
       " 0  0  0  0  0  0  0  0  0  0  0  0  0     0  0  0  0  0  0  0  0  0  0  0  0\n",
       " 0  0  0  0  0  0  0  0  0  0  0  0  0     3  3  3  3  3  3  3  3  3  3  3  3\n",
       " 0  0  0  0  0  0  0  0  0  0  0  0  0  …  0  0  0  0  0  0  0  0  0  0  0  0\n",
       " 0  0  0  0  0  0  0  0  0  0  0  0  0     0  0  0  0  0  0  0  0  0  0  0  0\n",
       " 0  0  0  0  0  0  0  0  0  0  0  0  0     0  0  0  0  0  0  0  0  0  0  0  0\n",
       " ⋮              ⋮              ⋮        ⋱  ⋮              ⋮              ⋮  \n",
       " 0  0  0  0  0  0  0  0  0  0  0  0  0     0  0  0  0  0  0  0  0  0  0  0  0\n",
       " 0  0  0  0  0  0  0  0  0  0  0  0  0     0  0  0  0  0  0  0  0  0  0  0  0\n",
       " 0  0  0  0  0  0  0  0  0  0  0  0  0  …  0  0  0  0  0  0  0  0  0  0  0  0\n",
       " 0  0  0  0  0  0  0  0  0  0  0  0  0     0  0  0  0  0  0  0  0  0  0  0  0\n",
       " 0  0  0  0  0  0  0  0  0  0  0  0  0     7  7  7  7  7  7  7  7  7  7  7  7\n",
       " 0  0  0  0  0  0  0  0  0  0  0  0  0     0  0  0  0  0  0  0  0  0  0  0  0\n",
       " 0  0  0  0  0  0  0  0  0  0  0  0  0     0  0  0  0  0  0  0  0  0  0  0  0\n",
       " 0  0  0  0  0  0  0  0  0  0  0  0  0  …  0  0  0  0  0  0  0  0  0  0  0  0\n",
       " 0  0  0  0  0  0  0  0  0  0  0  0  0     0  0  0  0  0  0  0  0  0  0  0  0\n",
       " 0  0  0  0  0  0  0  0  0  0  0  0  0     0  0  0  0  0  0  0  0  0  0  0  0\n",
       " 0  0  0  0  0  0  0  0  0  0  0  0  0     0  0  0  0  0  0  0  0  0  0  0  0\n",
       " 0  0  0  0  0  0  0  0  0  0  0  0  0     0  0  0  0  0  0  0  0  0  0  0  0"
      ]
     },
     "execution_count": 114,
     "metadata": {},
     "output_type": "execute_result"
    }
   ],
   "source": [
    "NMail = 80; # number of mails\n",
    "tM = 150; # total time steps\n",
    "L = 6; # number of sites\n",
    "numA = 20 # mail A number\n",
    "numB = NMail - numA # mail B number\n",
    "\n",
    "C = connect_matrix_2D();\n",
    "conn_matA = connect_matrix_A()\n",
    "conn_matB = connect_matrix_B()\n",
    "H = initialize_H(NMail,tM);\n",
    "\n",
    "for it = 1:tM+1\n",
    "    H = next_step_k(H,it,C,L,numA,conn_matA,conn_matB);\n",
    "end\n",
    "H"
   ]
  },
  {
   "cell_type": "markdown",
   "metadata": {},
   "source": [
    "## Measurement"
   ]
  },
  {
   "cell_type": "markdown",
   "metadata": {},
   "source": [
    "### Analyze the time spent travelling between station a and station b\n",
    "We determine the time spent for each type of mail (A or B) to get from station a to station b. The distribution is visualized using histogram. Following that, average and standard deviation of time spent are reported. The function itself returns a list of mail numbers corresponding to those which accomplished the journey between station a and station b."
   ]
  },
  {
   "cell_type": "code",
   "execution_count": 125,
   "metadata": {},
   "outputs": [
    {
     "data": {
      "text/plain": [
       "time_start_end (generic function with 2 methods)"
      ]
     },
     "execution_count": 125,
     "metadata": {},
     "output_type": "execute_result"
    }
   ],
   "source": [
    "function time_start_end(H,numA,numB)\n",
    "    # calculate the time taken by each mail from initial station to destination position given the history matrix\n",
    "    # H history matrix\n",
    "    \n",
    "    sv = size(H);\n",
    "    max_time = sv[2]; \n",
    "    A_first_time_check = zeros(Int16, numA, 1); \n",
    "    B_first_time_check = zeros(Int16, numB, 1); \n",
    "    A_second_time_check = zeros(Int16, numA, 1); \n",
    "    B_second_time_check = zeros(Int16, numB, 1); \n",
    "    init_pos_A = 1; \n",
    "    init_pos_B = 1; \n",
    "    fina_pos_A = 6; \n",
    "    fina_pos_B = 3; \n",
    "\n",
    "    #find first and second time for A mails \n",
    "    for i in 1:numA\n",
    "        aux = findfirst(x -> x == init_pos_A, H[i,:]); \n",
    "        if aux == nothing \n",
    "            aux = 0; \n",
    "        end\n",
    "        A_first_time_check[i] = aux; \n",
    "        aux = findfirst(x -> x == fina_pos_A, H[i,:]); \n",
    "        if aux == nothing \n",
    "            aux = 0; \n",
    "        end\n",
    "        A_second_time_check[i] = aux; \n",
    "    end\n",
    "    \n",
    "    #find first and second time for B mails \n",
    "    for i in 1:numB\n",
    "        aux = findfirst(x -> x == init_pos_B, H[numA+i,:]); \n",
    "        if aux == nothing \n",
    "            aux = 0; \n",
    "        end\n",
    "        B_first_time_check[i] = aux; \n",
    "        aux = findfirst(x -> x == fina_pos_B, H[numA+i,:]); \n",
    "        if aux == nothing \n",
    "            aux = 0; \n",
    "        end\n",
    "        B_second_time_check[i] = aux; \n",
    "    end\n",
    "    \n",
    "    #compute the difference between first and last time \n",
    "    diff_A =  A_second_time_check - A_first_time_check; \n",
    "    diff_B =  B_second_time_check - B_first_time_check; \n",
    "    \n",
    "    # if the result is 0, it means that it never entered and it should not be counted \n",
    "    # if the results is negative, it means that it never reached the destination, so now we do not count it  \n",
    "    time_diff_A = sort(diff_A[findall(x->x>0, diff_A)]);   \n",
    "    time_diff_B = sort(diff_B[findall(x->x>0, diff_B)]);   \n",
    "    \n",
    "    # display the results on a histogram         \n",
    "    display(histogram(time_diff_A, nbins=20, title = \"Time taken to be for mail A's to be delivered\", xlabel = \"Time taken\", ylabel = \"Counts\",legend=false,titlefontsize=12))\n",
    "    display(histogram(time_diff_B, nbins=20, title = \"Time taken to be for mail A's to be delivered\", xlabel = \"Time taken\", ylabel = \"Counts\",legend=false,titlefontsize=12))\n",
    "            \n",
    "    return time_diff_A, time_diff_B       \n",
    "end "
   ]
  },
  {
   "cell_type": "code",
   "execution_count": 127,
   "metadata": {},
   "outputs": [
    {
     "data": {
      "image/svg+xml": [
       "<?xml version=\"1.0\" encoding=\"utf-8\"?>\n",
       "<svg xmlns=\"http://www.w3.org/2000/svg\" xmlns:xlink=\"http://www.w3.org/1999/xlink\" width=\"750\" height=\"750\" viewBox=\"0 0 3000 3000\">\n",
       "<defs>\n",
       "  <clipPath id=\"clip780\">\n",
       "    <rect x=\"0\" y=\"0\" width=\"3000\" height=\"3000\"/>\n",
       "  </clipPath>\n",
       "</defs>\n",
       "<path clip-path=\"url(#clip780)\" d=\"\n",
       "M0 3000 L3000 3000 L3000 0 L0 0  Z\n",
       "  \" fill=\"#ffffff\" fill-rule=\"evenodd\" fill-opacity=\"1\"/>\n",
       "<defs>\n",
       "  <clipPath id=\"clip781\">\n",
       "    <rect x=\"600\" y=\"300\" width=\"2101\" height=\"2101\"/>\n",
       "  </clipPath>\n",
       "</defs>\n",
       "<path clip-path=\"url(#clip780)\" d=\"\n",
       "M249.14 2768.14 L2952.76 2768.14 L2952.76 140.752 L249.14 140.752  Z\n",
       "  \" fill=\"#ffffff\" fill-rule=\"evenodd\" fill-opacity=\"1\"/>\n",
       "<defs>\n",
       "  <clipPath id=\"clip782\">\n",
       "    <rect x=\"249\" y=\"140\" width=\"2705\" height=\"2628\"/>\n",
       "  </clipPath>\n",
       "</defs>\n",
       "<polyline clip-path=\"url(#clip782)\" style=\"stroke:#000000; stroke-linecap:butt; stroke-linejoin:round; stroke-width:2; stroke-opacity:0.1; fill:none\" points=\"\n",
       "  397.844,2768.14 397.844,140.752 \n",
       "  \"/>\n",
       "<polyline clip-path=\"url(#clip782)\" style=\"stroke:#000000; stroke-linecap:butt; stroke-linejoin:round; stroke-width:2; stroke-opacity:0.1; fill:none\" points=\"\n",
       "  970.751,2768.14 970.751,140.752 \n",
       "  \"/>\n",
       "<polyline clip-path=\"url(#clip782)\" style=\"stroke:#000000; stroke-linecap:butt; stroke-linejoin:round; stroke-width:2; stroke-opacity:0.1; fill:none\" points=\"\n",
       "  1543.66,2768.14 1543.66,140.752 \n",
       "  \"/>\n",
       "<polyline clip-path=\"url(#clip782)\" style=\"stroke:#000000; stroke-linecap:butt; stroke-linejoin:round; stroke-width:2; stroke-opacity:0.1; fill:none\" points=\"\n",
       "  2116.56,2768.14 2116.56,140.752 \n",
       "  \"/>\n",
       "<polyline clip-path=\"url(#clip782)\" style=\"stroke:#000000; stroke-linecap:butt; stroke-linejoin:round; stroke-width:2; stroke-opacity:0.1; fill:none\" points=\"\n",
       "  2689.47,2768.14 2689.47,140.752 \n",
       "  \"/>\n",
       "<polyline clip-path=\"url(#clip780)\" style=\"stroke:#000000; stroke-linecap:butt; stroke-linejoin:round; stroke-width:4; stroke-opacity:1; fill:none\" points=\"\n",
       "  249.14,2768.14 2952.76,2768.14 \n",
       "  \"/>\n",
       "<polyline clip-path=\"url(#clip780)\" style=\"stroke:#000000; stroke-linecap:butt; stroke-linejoin:round; stroke-width:4; stroke-opacity:1; fill:none\" points=\"\n",
       "  397.844,2768.14 397.844,2736.61 \n",
       "  \"/>\n",
       "<polyline clip-path=\"url(#clip780)\" style=\"stroke:#000000; stroke-linecap:butt; stroke-linejoin:round; stroke-width:4; stroke-opacity:1; fill:none\" points=\"\n",
       "  970.751,2768.14 970.751,2736.61 \n",
       "  \"/>\n",
       "<polyline clip-path=\"url(#clip780)\" style=\"stroke:#000000; stroke-linecap:butt; stroke-linejoin:round; stroke-width:4; stroke-opacity:1; fill:none\" points=\"\n",
       "  1543.66,2768.14 1543.66,2736.61 \n",
       "  \"/>\n",
       "<polyline clip-path=\"url(#clip780)\" style=\"stroke:#000000; stroke-linecap:butt; stroke-linejoin:round; stroke-width:4; stroke-opacity:1; fill:none\" points=\"\n",
       "  2116.56,2768.14 2116.56,2736.61 \n",
       "  \"/>\n",
       "<polyline clip-path=\"url(#clip780)\" style=\"stroke:#000000; stroke-linecap:butt; stroke-linejoin:round; stroke-width:4; stroke-opacity:1; fill:none\" points=\"\n",
       "  2689.47,2768.14 2689.47,2736.61 \n",
       "  \"/>\n",
       "<path clip-path=\"url(#clip780)\" d=\"M364.071 2814.98 Q367.427 2815.7 369.302 2817.96 Q371.2 2820.23 371.2 2823.57 Q371.2 2828.68 367.682 2831.48 Q364.163 2834.28 357.682 2834.28 Q355.506 2834.28 353.191 2833.84 Q350.9 2833.43 348.446 2832.57 L348.446 2828.06 Q350.39 2829.19 352.705 2829.77 Q355.02 2830.35 357.543 2830.35 Q361.941 2830.35 364.233 2828.61 Q366.548 2826.88 366.548 2823.57 Q366.548 2820.51 364.395 2818.8 Q362.265 2817.06 358.446 2817.06 L354.418 2817.06 L354.418 2813.22 L358.631 2813.22 Q362.08 2813.22 363.909 2811.85 Q365.738 2810.46 365.738 2807.87 Q365.738 2805.21 363.839 2803.8 Q361.964 2802.36 358.446 2802.36 Q356.525 2802.36 354.326 2802.78 Q352.126 2803.2 349.488 2804.07 L349.488 2799.91 Q352.15 2799.17 354.464 2798.8 Q356.802 2798.43 358.863 2798.43 Q364.187 2798.43 367.288 2800.86 Q370.39 2803.26 370.39 2807.39 Q370.39 2810.26 368.747 2812.25 Q367.103 2814.21 364.071 2814.98 Z\" fill=\"#000000\" fill-rule=\"evenodd\" fill-opacity=\"1\" /><path clip-path=\"url(#clip780)\" d=\"M380.066 2827.73 L384.95 2827.73 L384.95 2833.61 L380.066 2833.61 L380.066 2827.73 Z\" fill=\"#000000\" fill-rule=\"evenodd\" fill-opacity=\"1\" /><path clip-path=\"url(#clip780)\" d=\"M405.135 2802.13 Q401.524 2802.13 399.696 2805.7 Q397.89 2809.24 397.89 2816.37 Q397.89 2823.47 399.696 2827.04 Q401.524 2830.58 405.135 2830.58 Q408.77 2830.58 410.575 2827.04 Q412.404 2823.47 412.404 2816.37 Q412.404 2809.24 410.575 2805.7 Q408.77 2802.13 405.135 2802.13 M405.135 2798.43 Q410.946 2798.43 414.001 2803.03 Q417.08 2807.62 417.08 2816.37 Q417.08 2825.09 414.001 2829.7 Q410.946 2834.28 405.135 2834.28 Q399.325 2834.28 396.247 2829.7 Q393.191 2825.09 393.191 2816.37 Q393.191 2807.62 396.247 2803.03 Q399.325 2798.43 405.135 2798.43 Z\" fill=\"#000000\" fill-rule=\"evenodd\" fill-opacity=\"1\" /><path clip-path=\"url(#clip780)\" d=\"M435.297 2802.13 Q431.686 2802.13 429.858 2805.7 Q428.052 2809.24 428.052 2816.37 Q428.052 2823.47 429.858 2827.04 Q431.686 2830.58 435.297 2830.58 Q438.932 2830.58 440.737 2827.04 Q442.566 2823.47 442.566 2816.37 Q442.566 2809.24 440.737 2805.7 Q438.932 2802.13 435.297 2802.13 M435.297 2798.43 Q441.107 2798.43 444.163 2803.03 Q447.242 2807.62 447.242 2816.37 Q447.242 2825.09 444.163 2829.7 Q441.107 2834.28 435.297 2834.28 Q429.487 2834.28 426.408 2829.7 Q423.353 2825.09 423.353 2816.37 Q423.353 2807.62 426.408 2803.03 Q429.487 2798.43 435.297 2798.43 Z\" fill=\"#000000\" fill-rule=\"evenodd\" fill-opacity=\"1\" /><path clip-path=\"url(#clip780)\" d=\"M937.475 2814.98 Q940.832 2815.7 942.707 2817.96 Q944.605 2820.23 944.605 2823.57 Q944.605 2828.68 941.086 2831.48 Q937.568 2834.28 931.086 2834.28 Q928.911 2834.28 926.596 2833.84 Q924.304 2833.43 921.85 2832.57 L921.85 2828.06 Q923.795 2829.19 926.11 2829.77 Q928.424 2830.35 930.948 2830.35 Q935.346 2830.35 937.637 2828.61 Q939.952 2826.88 939.952 2823.57 Q939.952 2820.51 937.799 2818.8 Q935.67 2817.06 931.85 2817.06 L927.823 2817.06 L927.823 2813.22 L932.036 2813.22 Q935.485 2813.22 937.313 2811.85 Q939.142 2810.46 939.142 2807.87 Q939.142 2805.21 937.244 2803.8 Q935.369 2802.36 931.85 2802.36 Q929.929 2802.36 927.73 2802.78 Q925.531 2803.2 922.892 2804.07 L922.892 2799.91 Q925.554 2799.17 927.869 2798.8 Q930.207 2798.43 932.267 2798.43 Q937.591 2798.43 940.693 2800.86 Q943.795 2803.26 943.795 2807.39 Q943.795 2810.26 942.151 2812.25 Q940.508 2814.21 937.475 2814.98 Z\" fill=\"#000000\" fill-rule=\"evenodd\" fill-opacity=\"1\" /><path clip-path=\"url(#clip780)\" d=\"M953.471 2827.73 L958.355 2827.73 L958.355 2833.61 L953.471 2833.61 L953.471 2827.73 Z\" fill=\"#000000\" fill-rule=\"evenodd\" fill-opacity=\"1\" /><path clip-path=\"url(#clip780)\" d=\"M972.568 2829.68 L988.887 2829.68 L988.887 2833.61 L966.943 2833.61 L966.943 2829.68 Q969.605 2826.92 974.188 2822.29 Q978.795 2817.64 979.975 2816.3 Q982.22 2813.77 983.1 2812.04 Q984.003 2810.28 984.003 2808.59 Q984.003 2805.83 982.058 2804.1 Q980.137 2802.36 977.035 2802.36 Q974.836 2802.36 972.383 2803.13 Q969.952 2803.89 967.174 2805.44 L967.174 2800.72 Q969.998 2799.58 972.452 2799.01 Q974.906 2798.43 976.943 2798.43 Q982.313 2798.43 985.507 2801.11 Q988.702 2803.8 988.702 2808.29 Q988.702 2810.42 987.892 2812.34 Q987.105 2814.24 984.998 2816.83 Q984.42 2817.5 981.318 2820.72 Q978.216 2823.91 972.568 2829.68 Z\" fill=\"#000000\" fill-rule=\"evenodd\" fill-opacity=\"1\" /><path clip-path=\"url(#clip780)\" d=\"M998.748 2799.05 L1017.1 2799.05 L1017.1 2802.99 L1003.03 2802.99 L1003.03 2811.46 Q1004.05 2811.11 1005.07 2810.95 Q1006.09 2810.76 1007.1 2810.76 Q1012.89 2810.76 1016.27 2813.94 Q1019.65 2817.11 1019.65 2822.52 Q1019.65 2828.1 1016.18 2831.2 Q1012.71 2834.28 1006.39 2834.28 Q1004.21 2834.28 1001.94 2833.91 Q999.697 2833.54 997.29 2832.8 L997.29 2828.1 Q999.373 2829.24 1001.6 2829.79 Q1003.82 2830.35 1006.29 2830.35 Q1010.3 2830.35 1012.64 2828.24 Q1014.97 2826.14 1014.97 2822.52 Q1014.97 2818.91 1012.64 2816.81 Q1010.3 2814.7 1006.29 2814.7 Q1004.42 2814.7 1002.54 2815.12 Q1000.69 2815.53 998.748 2816.41 L998.748 2799.05 Z\" fill=\"#000000\" fill-rule=\"evenodd\" fill-opacity=\"1\" /><path clip-path=\"url(#clip780)\" d=\"M1509.88 2814.98 Q1513.24 2815.7 1515.12 2817.96 Q1517.01 2820.23 1517.01 2823.57 Q1517.01 2828.68 1513.5 2831.48 Q1509.98 2834.28 1503.5 2834.28 Q1501.32 2834.28 1499 2833.84 Q1496.71 2833.43 1494.26 2832.57 L1494.26 2828.06 Q1496.2 2829.19 1498.52 2829.77 Q1500.83 2830.35 1503.36 2830.35 Q1507.75 2830.35 1510.05 2828.61 Q1512.36 2826.88 1512.36 2823.57 Q1512.36 2820.51 1510.21 2818.8 Q1508.08 2817.06 1504.26 2817.06 L1500.23 2817.06 L1500.23 2813.22 L1504.44 2813.22 Q1507.89 2813.22 1509.72 2811.85 Q1511.55 2810.46 1511.55 2807.87 Q1511.55 2805.21 1509.65 2803.8 Q1507.78 2802.36 1504.26 2802.36 Q1502.34 2802.36 1500.14 2802.78 Q1497.94 2803.2 1495.3 2804.07 L1495.3 2799.91 Q1497.96 2799.17 1500.28 2798.8 Q1502.62 2798.43 1504.68 2798.43 Q1510 2798.43 1513.1 2800.86 Q1516.2 2803.26 1516.2 2807.39 Q1516.2 2810.26 1514.56 2812.25 Q1512.92 2814.21 1509.88 2814.98 Z\" fill=\"#000000\" fill-rule=\"evenodd\" fill-opacity=\"1\" /><path clip-path=\"url(#clip780)\" d=\"M1525.88 2827.73 L1530.76 2827.73 L1530.76 2833.61 L1525.88 2833.61 L1525.88 2827.73 Z\" fill=\"#000000\" fill-rule=\"evenodd\" fill-opacity=\"1\" /><path clip-path=\"url(#clip780)\" d=\"M1541 2799.05 L1559.35 2799.05 L1559.35 2802.99 L1545.28 2802.99 L1545.28 2811.46 Q1546.3 2811.11 1547.31 2810.95 Q1548.33 2810.76 1549.35 2810.76 Q1555.14 2810.76 1558.52 2813.94 Q1561.9 2817.11 1561.9 2822.52 Q1561.9 2828.1 1558.43 2831.2 Q1554.95 2834.28 1548.63 2834.28 Q1546.46 2834.28 1544.19 2833.91 Q1541.94 2833.54 1539.54 2832.8 L1539.54 2828.1 Q1541.62 2829.24 1543.84 2829.79 Q1546.06 2830.35 1548.54 2830.35 Q1552.55 2830.35 1554.88 2828.24 Q1557.22 2826.14 1557.22 2822.52 Q1557.22 2818.91 1554.88 2816.81 Q1552.55 2814.7 1548.54 2814.7 Q1546.67 2814.7 1544.79 2815.12 Q1542.94 2815.53 1541 2816.41 L1541 2799.05 Z\" fill=\"#000000\" fill-rule=\"evenodd\" fill-opacity=\"1\" /><path clip-path=\"url(#clip780)\" d=\"M1581.11 2802.13 Q1577.5 2802.13 1575.67 2805.7 Q1573.87 2809.24 1573.87 2816.37 Q1573.87 2823.47 1575.67 2827.04 Q1577.5 2830.58 1581.11 2830.58 Q1584.75 2830.58 1586.55 2827.04 Q1588.38 2823.47 1588.38 2816.37 Q1588.38 2809.24 1586.55 2805.7 Q1584.75 2802.13 1581.11 2802.13 M1581.11 2798.43 Q1586.92 2798.43 1589.98 2803.03 Q1593.06 2807.62 1593.06 2816.37 Q1593.06 2825.09 1589.98 2829.7 Q1586.92 2834.28 1581.11 2834.28 Q1575.3 2834.28 1572.22 2829.7 Q1569.17 2825.09 1569.17 2816.37 Q1569.17 2807.62 1572.22 2803.03 Q1575.3 2798.43 1581.11 2798.43 Z\" fill=\"#000000\" fill-rule=\"evenodd\" fill-opacity=\"1\" /><path clip-path=\"url(#clip780)\" d=\"M2083.29 2814.98 Q2086.65 2815.7 2088.52 2817.96 Q2090.42 2820.23 2090.42 2823.57 Q2090.42 2828.68 2086.9 2831.48 Q2083.38 2834.28 2076.9 2834.28 Q2074.72 2834.28 2072.41 2833.84 Q2070.12 2833.43 2067.66 2832.57 L2067.66 2828.06 Q2069.61 2829.19 2071.92 2829.77 Q2074.24 2830.35 2076.76 2830.35 Q2081.16 2830.35 2083.45 2828.61 Q2085.77 2826.88 2085.77 2823.57 Q2085.77 2820.51 2083.61 2818.8 Q2081.48 2817.06 2077.66 2817.06 L2073.64 2817.06 L2073.64 2813.22 L2077.85 2813.22 Q2081.3 2813.22 2083.13 2811.85 Q2084.96 2810.46 2084.96 2807.87 Q2084.96 2805.21 2083.06 2803.8 Q2081.18 2802.36 2077.66 2802.36 Q2075.74 2802.36 2073.54 2802.78 Q2071.34 2803.2 2068.71 2804.07 L2068.71 2799.91 Q2071.37 2799.17 2073.68 2798.8 Q2076.02 2798.43 2078.08 2798.43 Q2083.4 2798.43 2086.51 2800.86 Q2089.61 2803.26 2089.61 2807.39 Q2089.61 2810.26 2087.96 2812.25 Q2086.32 2814.21 2083.29 2814.98 Z\" fill=\"#000000\" fill-rule=\"evenodd\" fill-opacity=\"1\" /><path clip-path=\"url(#clip780)\" d=\"M2099.28 2827.73 L2104.17 2827.73 L2104.17 2833.61 L2099.28 2833.61 L2099.28 2827.73 Z\" fill=\"#000000\" fill-rule=\"evenodd\" fill-opacity=\"1\" /><path clip-path=\"url(#clip780)\" d=\"M2113.17 2799.05 L2135.4 2799.05 L2135.4 2801.04 L2122.85 2833.61 L2117.96 2833.61 L2129.77 2802.99 L2113.17 2802.99 L2113.17 2799.05 Z\" fill=\"#000000\" fill-rule=\"evenodd\" fill-opacity=\"1\" /><path clip-path=\"url(#clip780)\" d=\"M2144.56 2799.05 L2162.92 2799.05 L2162.92 2802.99 L2148.84 2802.99 L2148.84 2811.46 Q2149.86 2811.11 2150.88 2810.95 Q2151.9 2810.76 2152.92 2810.76 Q2158.71 2810.76 2162.08 2813.94 Q2165.46 2817.11 2165.46 2822.52 Q2165.46 2828.1 2161.99 2831.2 Q2158.52 2834.28 2152.2 2834.28 Q2150.02 2834.28 2147.76 2833.91 Q2145.51 2833.54 2143.1 2832.8 L2143.1 2828.1 Q2145.19 2829.24 2147.41 2829.79 Q2149.63 2830.35 2152.11 2830.35 Q2156.11 2830.35 2158.45 2828.24 Q2160.79 2826.14 2160.79 2822.52 Q2160.79 2818.91 2158.45 2816.81 Q2156.11 2814.7 2152.11 2814.7 Q2150.23 2814.7 2148.36 2815.12 Q2146.51 2815.53 2144.56 2816.41 L2144.56 2799.05 Z\" fill=\"#000000\" fill-rule=\"evenodd\" fill-opacity=\"1\" /><path clip-path=\"url(#clip780)\" d=\"M2655.03 2803.13 L2643.22 2821.57 L2655.03 2821.57 L2655.03 2803.13 M2653.8 2799.05 L2659.68 2799.05 L2659.68 2821.57 L2664.61 2821.57 L2664.61 2825.46 L2659.68 2825.46 L2659.68 2833.61 L2655.03 2833.61 L2655.03 2825.46 L2639.42 2825.46 L2639.42 2820.95 L2653.8 2799.05 Z\" fill=\"#000000\" fill-rule=\"evenodd\" fill-opacity=\"1\" /><path clip-path=\"url(#clip780)\" d=\"M2672.34 2827.73 L2677.23 2827.73 L2677.23 2833.61 L2672.34 2833.61 L2672.34 2827.73 Z\" fill=\"#000000\" fill-rule=\"evenodd\" fill-opacity=\"1\" /><path clip-path=\"url(#clip780)\" d=\"M2697.41 2802.13 Q2693.8 2802.13 2691.97 2805.7 Q2690.17 2809.24 2690.17 2816.37 Q2690.17 2823.47 2691.97 2827.04 Q2693.8 2830.58 2697.41 2830.58 Q2701.04 2830.58 2702.85 2827.04 Q2704.68 2823.47 2704.68 2816.37 Q2704.68 2809.24 2702.85 2805.7 Q2701.04 2802.13 2697.41 2802.13 M2697.41 2798.43 Q2703.22 2798.43 2706.28 2803.03 Q2709.36 2807.62 2709.36 2816.37 Q2709.36 2825.09 2706.28 2829.7 Q2703.22 2834.28 2697.41 2834.28 Q2691.6 2834.28 2688.52 2829.7 Q2685.47 2825.09 2685.47 2816.37 Q2685.47 2807.62 2688.52 2803.03 Q2691.6 2798.43 2697.41 2798.43 Z\" fill=\"#000000\" fill-rule=\"evenodd\" fill-opacity=\"1\" /><path clip-path=\"url(#clip780)\" d=\"M2727.57 2802.13 Q2723.96 2802.13 2722.13 2805.7 Q2720.33 2809.24 2720.33 2816.37 Q2720.33 2823.47 2722.13 2827.04 Q2723.96 2830.58 2727.57 2830.58 Q2731.21 2830.58 2733.01 2827.04 Q2734.84 2823.47 2734.84 2816.37 Q2734.84 2809.24 2733.01 2805.7 Q2731.21 2802.13 2727.57 2802.13 M2727.57 2798.43 Q2733.38 2798.43 2736.44 2803.03 Q2739.52 2807.62 2739.52 2816.37 Q2739.52 2825.09 2736.44 2829.7 Q2733.38 2834.28 2727.57 2834.28 Q2721.76 2834.28 2718.68 2829.7 Q2715.63 2825.09 2715.63 2816.37 Q2715.63 2807.62 2718.68 2803.03 Q2721.76 2798.43 2727.57 2798.43 Z\" fill=\"#000000\" fill-rule=\"evenodd\" fill-opacity=\"1\" /><path clip-path=\"url(#clip780)\" d=\"M1422.33 2874.48 L1462.53 2874.48 L1462.53 2879.89 L1445.66 2879.89 L1445.66 2922 L1439.2 2922 L1439.2 2879.89 L1422.33 2879.89 L1422.33 2874.48 Z\" fill=\"#000000\" fill-rule=\"evenodd\" fill-opacity=\"1\" /><path clip-path=\"url(#clip780)\" d=\"M1466.47 2886.36 L1472.33 2886.36 L1472.33 2922 L1466.47 2922 L1466.47 2886.36 M1466.47 2872.48 L1472.33 2872.48 L1472.33 2879.89 L1466.47 2879.89 L1466.47 2872.48 Z\" fill=\"#000000\" fill-rule=\"evenodd\" fill-opacity=\"1\" /><path clip-path=\"url(#clip780)\" d=\"M1512.34 2893.2 Q1514.53 2889.25 1517.59 2887.37 Q1520.64 2885.5 1524.78 2885.5 Q1530.35 2885.5 1533.38 2889.41 Q1536.4 2893.29 1536.4 2900.49 L1536.4 2922 L1530.51 2922 L1530.51 2900.68 Q1530.51 2895.55 1528.7 2893.07 Q1526.88 2890.59 1523.16 2890.59 Q1518.61 2890.59 1515.97 2893.61 Q1513.32 2896.64 1513.32 2901.86 L1513.32 2922 L1507.44 2922 L1507.44 2900.68 Q1507.44 2895.52 1505.62 2893.07 Q1503.81 2890.59 1500.02 2890.59 Q1495.53 2890.59 1492.89 2893.64 Q1490.25 2896.67 1490.25 2901.86 L1490.25 2922 L1484.36 2922 L1484.36 2886.36 L1490.25 2886.36 L1490.25 2891.89 Q1492.25 2888.62 1495.05 2887.06 Q1497.86 2885.5 1501.71 2885.5 Q1505.59 2885.5 1508.3 2887.47 Q1511.03 2889.44 1512.34 2893.2 Z\" fill=\"#000000\" fill-rule=\"evenodd\" fill-opacity=\"1\" /><path clip-path=\"url(#clip780)\" d=\"M1578.57 2902.72 L1578.57 2905.58 L1551.65 2905.58 Q1552.03 2911.63 1555.27 2914.81 Q1558.55 2917.96 1564.38 2917.96 Q1567.75 2917.96 1570.9 2917.13 Q1574.08 2916.31 1577.2 2914.65 L1577.2 2920.19 Q1574.05 2921.53 1570.74 2922.23 Q1567.43 2922.93 1564.03 2922.93 Q1555.5 2922.93 1550.5 2917.96 Q1545.53 2913 1545.53 2904.53 Q1545.53 2895.78 1550.25 2890.65 Q1554.99 2885.5 1563.01 2885.5 Q1570.2 2885.5 1574.37 2890.14 Q1578.57 2894.76 1578.57 2902.72 M1572.72 2901 Q1572.65 2896.19 1570.01 2893.33 Q1567.4 2890.46 1563.07 2890.46 Q1558.17 2890.46 1555.21 2893.23 Q1552.28 2896 1551.84 2901.03 L1572.72 2901 Z\" fill=\"#000000\" fill-rule=\"evenodd\" fill-opacity=\"1\" /><path clip-path=\"url(#clip780)\" d=\"M1614.7 2876.23 L1614.7 2886.36 L1626.76 2886.36 L1626.76 2890.91 L1614.7 2890.91 L1614.7 2910.26 Q1614.7 2914.62 1615.88 2915.86 Q1617.09 2917.1 1620.75 2917.1 L1626.76 2917.1 L1626.76 2922 L1620.75 2922 Q1613.97 2922 1611.39 2919.49 Q1608.81 2916.94 1608.81 2910.26 L1608.81 2890.91 L1604.51 2890.91 L1604.51 2886.36 L1608.81 2886.36 L1608.81 2876.23 L1614.7 2876.23 Z\" fill=\"#000000\" fill-rule=\"evenodd\" fill-opacity=\"1\" /><path clip-path=\"url(#clip780)\" d=\"M1650.66 2904.08 Q1643.57 2904.08 1640.83 2905.71 Q1638.09 2907.33 1638.09 2911.25 Q1638.09 2914.36 1640.13 2916.21 Q1642.2 2918.03 1645.73 2918.03 Q1650.6 2918.03 1653.53 2914.59 Q1656.49 2911.12 1656.49 2905.39 L1656.49 2904.08 L1650.66 2904.08 M1662.35 2901.67 L1662.35 2922 L1656.49 2922 L1656.49 2916.59 Q1654.48 2919.84 1651.49 2921.4 Q1648.5 2922.93 1644.17 2922.93 Q1638.7 2922.93 1635.45 2919.87 Q1632.24 2916.78 1632.24 2911.63 Q1632.24 2905.61 1636.25 2902.56 Q1640.29 2899.5 1648.28 2899.5 L1656.49 2899.5 L1656.49 2898.93 Q1656.49 2894.89 1653.82 2892.69 Q1651.17 2890.46 1646.37 2890.46 Q1643.31 2890.46 1640.42 2891.19 Q1637.52 2891.93 1634.85 2893.39 L1634.85 2887.98 Q1638.06 2886.74 1641.08 2886.13 Q1644.11 2885.5 1646.97 2885.5 Q1654.71 2885.5 1658.53 2889.51 Q1662.35 2893.52 1662.35 2901.67 Z\" fill=\"#000000\" fill-rule=\"evenodd\" fill-opacity=\"1\" /><path clip-path=\"url(#clip780)\" d=\"M1674.19 2872.48 L1680.07 2872.48 L1680.07 2901.73 L1697.55 2886.36 L1705.03 2886.36 L1686.12 2903.03 L1705.82 2922 L1698.18 2922 L1680.07 2904.59 L1680.07 2922 L1674.19 2922 L1674.19 2872.48 Z\" fill=\"#000000\" fill-rule=\"evenodd\" fill-opacity=\"1\" /><path clip-path=\"url(#clip780)\" d=\"M1740.33 2902.72 L1740.33 2905.58 L1713.4 2905.58 Q1713.78 2911.63 1717.03 2914.81 Q1720.31 2917.96 1726.13 2917.96 Q1729.5 2917.96 1732.65 2917.13 Q1735.84 2916.31 1738.96 2914.65 L1738.96 2920.19 Q1735.81 2921.53 1732.5 2922.23 Q1729.19 2922.93 1725.78 2922.93 Q1717.25 2922.93 1712.25 2917.96 Q1707.29 2913 1707.29 2904.53 Q1707.29 2895.78 1712 2890.65 Q1716.74 2885.5 1724.76 2885.5 Q1731.95 2885.5 1736.12 2890.14 Q1740.33 2894.76 1740.33 2902.72 M1734.47 2901 Q1734.41 2896.19 1731.76 2893.33 Q1729.15 2890.46 1724.82 2890.46 Q1719.92 2890.46 1716.96 2893.23 Q1714.03 2896 1713.59 2901.03 L1734.47 2901 Z\" fill=\"#000000\" fill-rule=\"evenodd\" fill-opacity=\"1\" /><path clip-path=\"url(#clip780)\" d=\"M1779.57 2900.49 L1779.57 2922 L1773.71 2922 L1773.71 2900.68 Q1773.71 2895.62 1771.74 2893.1 Q1769.77 2890.59 1765.82 2890.59 Q1761.08 2890.59 1758.34 2893.61 Q1755.6 2896.64 1755.6 2901.86 L1755.6 2922 L1749.71 2922 L1749.71 2886.36 L1755.6 2886.36 L1755.6 2891.89 Q1757.7 2888.68 1760.54 2887.09 Q1763.4 2885.5 1767.12 2885.5 Q1773.27 2885.5 1776.42 2889.32 Q1779.57 2893.1 1779.57 2900.49 Z\" fill=\"#000000\" fill-rule=\"evenodd\" fill-opacity=\"1\" /><polyline clip-path=\"url(#clip782)\" style=\"stroke:#000000; stroke-linecap:butt; stroke-linejoin:round; stroke-width:2; stroke-opacity:0.1; fill:none\" points=\"\n",
       "  249.14,2693.78 2952.76,2693.78 \n",
       "  \"/>\n",
       "<polyline clip-path=\"url(#clip782)\" style=\"stroke:#000000; stroke-linecap:butt; stroke-linejoin:round; stroke-width:2; stroke-opacity:0.1; fill:none\" points=\"\n",
       "  249.14,2074.11 2952.76,2074.11 \n",
       "  \"/>\n",
       "<polyline clip-path=\"url(#clip782)\" style=\"stroke:#000000; stroke-linecap:butt; stroke-linejoin:round; stroke-width:2; stroke-opacity:0.1; fill:none\" points=\"\n",
       "  249.14,1454.45 2952.76,1454.45 \n",
       "  \"/>\n",
       "<polyline clip-path=\"url(#clip782)\" style=\"stroke:#000000; stroke-linecap:butt; stroke-linejoin:round; stroke-width:2; stroke-opacity:0.1; fill:none\" points=\"\n",
       "  249.14,834.779 2952.76,834.779 \n",
       "  \"/>\n",
       "<polyline clip-path=\"url(#clip782)\" style=\"stroke:#000000; stroke-linecap:butt; stroke-linejoin:round; stroke-width:2; stroke-opacity:0.1; fill:none\" points=\"\n",
       "  249.14,215.112 2952.76,215.112 \n",
       "  \"/>\n",
       "<polyline clip-path=\"url(#clip780)\" style=\"stroke:#000000; stroke-linecap:butt; stroke-linejoin:round; stroke-width:4; stroke-opacity:1; fill:none\" points=\"\n",
       "  249.14,2768.14 249.14,140.752 \n",
       "  \"/>\n",
       "<polyline clip-path=\"url(#clip780)\" style=\"stroke:#000000; stroke-linecap:butt; stroke-linejoin:round; stroke-width:4; stroke-opacity:1; fill:none\" points=\"\n",
       "  249.14,2693.78 281.584,2693.78 \n",
       "  \"/>\n",
       "<polyline clip-path=\"url(#clip780)\" style=\"stroke:#000000; stroke-linecap:butt; stroke-linejoin:round; stroke-width:4; stroke-opacity:1; fill:none\" points=\"\n",
       "  249.14,2074.11 281.584,2074.11 \n",
       "  \"/>\n",
       "<polyline clip-path=\"url(#clip780)\" style=\"stroke:#000000; stroke-linecap:butt; stroke-linejoin:round; stroke-width:4; stroke-opacity:1; fill:none\" points=\"\n",
       "  249.14,1454.45 281.584,1454.45 \n",
       "  \"/>\n",
       "<polyline clip-path=\"url(#clip780)\" style=\"stroke:#000000; stroke-linecap:butt; stroke-linejoin:round; stroke-width:4; stroke-opacity:1; fill:none\" points=\"\n",
       "  249.14,834.779 281.584,834.779 \n",
       "  \"/>\n",
       "<polyline clip-path=\"url(#clip780)\" style=\"stroke:#000000; stroke-linecap:butt; stroke-linejoin:round; stroke-width:4; stroke-opacity:1; fill:none\" points=\"\n",
       "  249.14,215.112 281.584,215.112 \n",
       "  \"/>\n",
       "<path clip-path=\"url(#clip780)\" d=\"M146.965 2679.58 Q143.353 2679.58 141.525 2683.14 Q139.719 2686.68 139.719 2693.81 Q139.719 2700.92 141.525 2704.49 Q143.353 2708.03 146.965 2708.03 Q150.599 2708.03 152.404 2704.49 Q154.233 2700.92 154.233 2693.81 Q154.233 2686.68 152.404 2683.14 Q150.599 2679.58 146.965 2679.58 M146.965 2675.87 Q152.775 2675.87 155.83 2680.48 Q158.909 2685.06 158.909 2693.81 Q158.909 2702.54 155.83 2707.15 Q152.775 2711.73 146.965 2711.73 Q141.154 2711.73 138.076 2707.15 Q135.02 2702.54 135.02 2693.81 Q135.02 2685.06 138.076 2680.48 Q141.154 2675.87 146.965 2675.87 Z\" fill=\"#000000\" fill-rule=\"evenodd\" fill-opacity=\"1\" /><path clip-path=\"url(#clip780)\" d=\"M167.126 2705.18 L172.011 2705.18 L172.011 2711.06 L167.126 2711.06 L167.126 2705.18 Z\" fill=\"#000000\" fill-rule=\"evenodd\" fill-opacity=\"1\" /><path clip-path=\"url(#clip780)\" d=\"M192.196 2679.58 Q188.585 2679.58 186.756 2683.14 Q184.95 2686.68 184.95 2693.81 Q184.95 2700.92 186.756 2704.49 Q188.585 2708.03 192.196 2708.03 Q195.83 2708.03 197.636 2704.49 Q199.464 2700.92 199.464 2693.81 Q199.464 2686.68 197.636 2683.14 Q195.83 2679.58 192.196 2679.58 M192.196 2675.87 Q198.006 2675.87 201.061 2680.48 Q204.14 2685.06 204.14 2693.81 Q204.14 2702.54 201.061 2707.15 Q198.006 2711.73 192.196 2711.73 Q186.386 2711.73 183.307 2707.15 Q180.251 2702.54 180.251 2693.81 Q180.251 2685.06 183.307 2680.48 Q186.386 2675.87 192.196 2675.87 Z\" fill=\"#000000\" fill-rule=\"evenodd\" fill-opacity=\"1\" /><path clip-path=\"url(#clip780)\" d=\"M147.96 2059.91 Q144.349 2059.91 142.52 2063.48 Q140.715 2067.02 140.715 2074.15 Q140.715 2081.25 142.52 2084.82 Q144.349 2088.36 147.96 2088.36 Q151.594 2088.36 153.4 2084.82 Q155.228 2081.25 155.228 2074.15 Q155.228 2067.02 153.4 2063.48 Q151.594 2059.91 147.96 2059.91 M147.96 2056.21 Q153.77 2056.21 156.826 2060.81 Q159.904 2065.4 159.904 2074.15 Q159.904 2082.87 156.826 2087.48 Q153.77 2092.06 147.96 2092.06 Q142.15 2092.06 139.071 2087.48 Q136.016 2082.87 136.016 2074.15 Q136.016 2065.4 139.071 2060.81 Q142.15 2056.21 147.96 2056.21 Z\" fill=\"#000000\" fill-rule=\"evenodd\" fill-opacity=\"1\" /><path clip-path=\"url(#clip780)\" d=\"M168.122 2085.51 L173.006 2085.51 L173.006 2091.39 L168.122 2091.39 L168.122 2085.51 Z\" fill=\"#000000\" fill-rule=\"evenodd\" fill-opacity=\"1\" /><path clip-path=\"url(#clip780)\" d=\"M183.237 2056.83 L201.594 2056.83 L201.594 2060.77 L187.52 2060.77 L187.52 2069.24 Q188.538 2068.89 189.557 2068.73 Q190.575 2068.55 191.594 2068.55 Q197.381 2068.55 200.761 2071.72 Q204.14 2074.89 204.14 2080.3 Q204.14 2085.88 200.668 2088.99 Q197.196 2092.06 190.876 2092.06 Q188.7 2092.06 186.432 2091.69 Q184.187 2091.32 181.779 2090.58 L181.779 2085.88 Q183.862 2087.02 186.085 2087.57 Q188.307 2088.13 190.784 2088.13 Q194.788 2088.13 197.126 2086.02 Q199.464 2083.92 199.464 2080.3 Q199.464 2076.69 197.126 2074.59 Q194.788 2072.48 190.784 2072.48 Q188.909 2072.48 187.034 2072.9 Q185.182 2073.31 183.237 2074.19 L183.237 2056.83 Z\" fill=\"#000000\" fill-rule=\"evenodd\" fill-opacity=\"1\" /><path clip-path=\"url(#clip780)\" d=\"M137.775 1467.79 L145.414 1467.79 L145.414 1441.43 L137.103 1443.09 L137.103 1438.83 L145.367 1437.17 L150.043 1437.17 L150.043 1467.79 L157.682 1467.79 L157.682 1471.73 L137.775 1471.73 L137.775 1467.79 Z\" fill=\"#000000\" fill-rule=\"evenodd\" fill-opacity=\"1\" /><path clip-path=\"url(#clip780)\" d=\"M167.126 1465.85 L172.011 1465.85 L172.011 1471.73 L167.126 1471.73 L167.126 1465.85 Z\" fill=\"#000000\" fill-rule=\"evenodd\" fill-opacity=\"1\" /><path clip-path=\"url(#clip780)\" d=\"M192.196 1440.24 Q188.585 1440.24 186.756 1443.81 Q184.95 1447.35 184.95 1454.48 Q184.95 1461.59 186.756 1465.15 Q188.585 1468.69 192.196 1468.69 Q195.83 1468.69 197.636 1465.15 Q199.464 1461.59 199.464 1454.48 Q199.464 1447.35 197.636 1443.81 Q195.83 1440.24 192.196 1440.24 M192.196 1436.54 Q198.006 1436.54 201.061 1441.15 Q204.14 1445.73 204.14 1454.48 Q204.14 1463.21 201.061 1467.81 Q198.006 1472.4 192.196 1472.4 Q186.386 1472.4 183.307 1467.81 Q180.251 1463.21 180.251 1454.48 Q180.251 1445.73 183.307 1441.15 Q186.386 1436.54 192.196 1436.54 Z\" fill=\"#000000\" fill-rule=\"evenodd\" fill-opacity=\"1\" /><path clip-path=\"url(#clip780)\" d=\"M138.77 848.124 L146.409 848.124 L146.409 821.758 L138.099 823.425 L138.099 819.166 L146.363 817.499 L151.039 817.499 L151.039 848.124 L158.677 848.124 L158.677 852.059 L138.77 852.059 L138.77 848.124 Z\" fill=\"#000000\" fill-rule=\"evenodd\" fill-opacity=\"1\" /><path clip-path=\"url(#clip780)\" d=\"M168.122 846.179 L173.006 846.179 L173.006 852.059 L168.122 852.059 L168.122 846.179 Z\" fill=\"#000000\" fill-rule=\"evenodd\" fill-opacity=\"1\" /><path clip-path=\"url(#clip780)\" d=\"M183.237 817.499 L201.594 817.499 L201.594 821.434 L187.52 821.434 L187.52 829.906 Q188.538 829.559 189.557 829.397 Q190.575 829.212 191.594 829.212 Q197.381 829.212 200.761 832.383 Q204.14 835.555 204.14 840.971 Q204.14 846.55 200.668 849.652 Q197.196 852.73 190.876 852.73 Q188.7 852.73 186.432 852.36 Q184.187 851.99 181.779 851.249 L181.779 846.55 Q183.862 847.684 186.085 848.24 Q188.307 848.795 190.784 848.795 Q194.788 848.795 197.126 846.689 Q199.464 844.582 199.464 840.971 Q199.464 837.36 197.126 835.254 Q194.788 833.147 190.784 833.147 Q188.909 833.147 187.034 833.564 Q185.182 833.98 183.237 834.86 L183.237 817.499 Z\" fill=\"#000000\" fill-rule=\"evenodd\" fill-opacity=\"1\" /><path clip-path=\"url(#clip780)\" d=\"M140.992 228.457 L157.312 228.457 L157.312 232.392 L135.367 232.392 L135.367 228.457 Q138.029 225.702 142.613 221.073 Q147.219 216.42 148.4 215.077 Q150.645 212.554 151.525 210.818 Q152.427 209.059 152.427 207.369 Q152.427 204.615 150.483 202.878 Q148.562 201.142 145.46 201.142 Q143.261 201.142 140.807 201.906 Q138.377 202.67 135.599 204.221 L135.599 199.499 Q138.423 198.365 140.877 197.786 Q143.33 197.207 145.367 197.207 Q150.738 197.207 153.932 199.892 Q157.127 202.578 157.127 207.068 Q157.127 209.198 156.316 211.119 Q155.529 213.017 153.423 215.61 Q152.844 216.281 149.742 219.499 Q146.64 222.693 140.992 228.457 Z\" fill=\"#000000\" fill-rule=\"evenodd\" fill-opacity=\"1\" /><path clip-path=\"url(#clip780)\" d=\"M167.126 226.513 L172.011 226.513 L172.011 232.392 L167.126 232.392 L167.126 226.513 Z\" fill=\"#000000\" fill-rule=\"evenodd\" fill-opacity=\"1\" /><path clip-path=\"url(#clip780)\" d=\"M192.196 200.911 Q188.585 200.911 186.756 204.476 Q184.95 208.017 184.95 215.147 Q184.95 222.253 186.756 225.818 Q188.585 229.36 192.196 229.36 Q195.83 229.36 197.636 225.818 Q199.464 222.253 199.464 215.147 Q199.464 208.017 197.636 204.476 Q195.83 200.911 192.196 200.911 M192.196 197.207 Q198.006 197.207 201.061 201.814 Q204.14 206.397 204.14 215.147 Q204.14 223.874 201.061 228.48 Q198.006 233.063 192.196 233.063 Q186.386 233.063 183.307 228.48 Q180.251 223.874 180.251 215.147 Q180.251 206.397 183.307 201.814 Q186.386 197.207 192.196 197.207 Z\" fill=\"#000000\" fill-rule=\"evenodd\" fill-opacity=\"1\" /><path clip-path=\"url(#clip780)\" d=\"M31.9044 1526.47 L38.6839 1526.47 Q35.6602 1529.72 34.1643 1533.41 Q32.6683 1537.07 32.6683 1541.21 Q32.6683 1549.36 37.6654 1553.69 Q42.6307 1558.02 52.0519 1558.02 Q61.4413 1558.02 66.4384 1553.69 Q71.4036 1549.36 71.4036 1541.21 Q71.4036 1537.07 69.9077 1533.41 Q68.4118 1529.72 65.3881 1526.47 L72.1039 1526.47 Q74.3955 1529.85 75.5414 1533.64 Q76.6872 1537.39 76.6872 1541.59 Q76.6872 1552.38 70.0987 1558.59 Q63.4783 1564.8 52.0519 1564.8 Q40.5936 1564.8 34.0051 1558.59 Q27.3848 1552.38 27.3848 1541.59 Q27.3848 1537.33 28.5306 1533.57 Q29.6446 1529.78 31.9044 1526.47 Z\" fill=\"#000000\" fill-rule=\"evenodd\" fill-opacity=\"1\" /><path clip-path=\"url(#clip780)\" d=\"M44.2221 1502.98 Q44.2221 1507.7 47.9142 1510.43 Q51.5745 1513.17 57.972 1513.17 Q64.3695 1513.17 68.0617 1510.46 Q71.7219 1507.73 71.7219 1502.98 Q71.7219 1498.31 68.0298 1495.57 Q64.3377 1492.83 57.972 1492.83 Q51.6381 1492.83 47.946 1495.57 Q44.2221 1498.31 44.2221 1502.98 M39.2568 1502.98 Q39.2568 1495.35 44.2221 1490.99 Q49.1873 1486.62 57.972 1486.62 Q66.7249 1486.62 71.7219 1490.99 Q76.6872 1495.35 76.6872 1502.98 Q76.6872 1510.66 71.7219 1515.02 Q66.7249 1519.34 57.972 1519.34 Q49.1873 1519.34 44.2221 1515.02 Q39.2568 1510.66 39.2568 1502.98 Z\" fill=\"#000000\" fill-rule=\"evenodd\" fill-opacity=\"1\" /><path clip-path=\"url(#clip780)\" d=\"M61.6959 1477.52 L40.1162 1477.52 L40.1162 1471.67 L61.4731 1471.67 Q66.5339 1471.67 69.0802 1469.69 Q71.5946 1467.72 71.5946 1463.77 Q71.5946 1459.03 68.5709 1456.29 Q65.5472 1453.52 60.3273 1453.52 L40.1162 1453.52 L40.1162 1447.67 L75.7642 1447.67 L75.7642 1453.52 L70.2896 1453.52 Q73.5362 1455.66 75.1276 1458.49 Q76.6872 1461.29 76.6872 1465.01 Q76.6872 1471.16 72.8678 1474.34 Q69.0483 1477.52 61.6959 1477.52 M39.2568 1462.79 L39.2568 1462.79 Z\" fill=\"#000000\" fill-rule=\"evenodd\" fill-opacity=\"1\" /><path clip-path=\"url(#clip780)\" d=\"M54.2481 1405.97 L75.7642 1405.97 L75.7642 1411.83 L54.439 1411.83 Q49.3783 1411.83 46.8638 1413.8 Q44.3494 1415.77 44.3494 1419.72 Q44.3494 1424.46 47.3731 1427.2 Q50.3968 1429.94 55.6167 1429.94 L75.7642 1429.94 L75.7642 1435.83 L40.1162 1435.83 L40.1162 1429.94 L45.6544 1429.94 Q42.4397 1427.84 40.8483 1425 Q39.2568 1422.14 39.2568 1418.42 Q39.2568 1412.27 43.0763 1409.12 Q46.8638 1405.97 54.2481 1405.97 Z\" fill=\"#000000\" fill-rule=\"evenodd\" fill-opacity=\"1\" /><path clip-path=\"url(#clip780)\" d=\"M29.9947 1388.5 L40.1162 1388.5 L40.1162 1376.43 L44.6677 1376.43 L44.6677 1388.5 L64.0194 1388.5 Q68.3799 1388.5 69.6213 1387.32 Q70.8626 1386.11 70.8626 1382.45 L70.8626 1376.43 L75.7642 1376.43 L75.7642 1382.45 Q75.7642 1389.23 73.2497 1391.81 Q70.7034 1394.39 64.0194 1394.39 L44.6677 1394.39 L44.6677 1398.68 L40.1162 1398.68 L40.1162 1394.39 L29.9947 1394.39 L29.9947 1388.5 Z\" fill=\"#000000\" fill-rule=\"evenodd\" fill-opacity=\"1\" /><path clip-path=\"url(#clip780)\" d=\"M41.1665 1346.01 L46.7047 1346.01 Q45.4316 1348.49 44.795 1351.16 Q44.1584 1353.84 44.1584 1356.7 Q44.1584 1361.06 45.4952 1363.26 Q46.832 1365.42 49.5056 1365.42 Q51.5426 1365.42 52.7203 1363.86 Q53.8661 1362.3 54.9165 1357.59 L55.3621 1355.59 Q56.6989 1349.35 59.1497 1346.74 Q61.5686 1344.1 65.9291 1344.1 Q70.8944 1344.1 73.7908 1348.04 Q76.6872 1351.96 76.6872 1358.83 Q76.6872 1361.7 76.1143 1364.82 Q75.5732 1367.9 74.4592 1371.34 L68.4118 1371.34 Q70.0987 1368.1 70.958 1364.94 Q71.7856 1361.79 71.7856 1358.71 Q71.7856 1354.57 70.3851 1352.34 Q68.9529 1350.11 66.3747 1350.11 Q63.9876 1350.11 62.7145 1351.74 Q61.4413 1353.33 60.2637 1358.77 L59.7862 1360.81 Q58.6404 1366.25 56.2851 1368.67 Q53.898 1371.09 49.7602 1371.09 Q44.7313 1371.09 41.9941 1367.52 Q39.2568 1363.96 39.2568 1357.4 Q39.2568 1354.15 39.7343 1351.29 Q40.2117 1348.43 41.1665 1346.01 Z\" fill=\"#000000\" fill-rule=\"evenodd\" fill-opacity=\"1\" /><path clip-path=\"url(#clip780)\" d=\"M812.515 10.368 L856.369 10.368 L856.369 16.2707 L837.966 16.2707 L837.966 62.208 L830.917 62.208 L830.917 16.2707 L812.515 16.2707 L812.515 10.368 Z\" fill=\"#000000\" fill-rule=\"evenodd\" fill-opacity=\"1\" /><path clip-path=\"url(#clip780)\" d=\"M860.674 23.3193 L867.063 23.3193 L867.063 62.208 L860.674 62.208 L860.674 23.3193 M860.674 8.18051 L867.063 8.18051 L867.063 16.2707 L860.674 16.2707 L860.674 8.18051 Z\" fill=\"#000000\" fill-rule=\"evenodd\" fill-opacity=\"1\" /><path clip-path=\"url(#clip780)\" d=\"M910.709 30.7846 Q913.104 26.479 916.438 24.4304 Q919.771 22.3818 924.285 22.3818 Q930.361 22.3818 933.66 26.6526 Q936.959 30.8887 936.959 38.7359 L936.959 62.208 L930.535 62.208 L930.535 38.9442 Q930.535 33.354 928.556 30.6457 Q926.577 27.9374 922.514 27.9374 Q917.549 27.9374 914.667 31.2359 Q911.785 34.5345 911.785 40.229 L911.785 62.208 L905.361 62.208 L905.361 38.9442 Q905.361 33.3193 903.382 30.6457 Q901.403 27.9374 897.271 27.9374 Q892.375 27.9374 889.494 31.2707 Q886.612 34.5693 886.612 40.229 L886.612 62.208 L880.188 62.208 L880.188 23.3193 L886.612 23.3193 L886.612 29.361 Q888.799 25.7846 891.855 24.0832 Q894.91 22.3818 899.112 22.3818 Q903.348 22.3818 906.299 24.5346 Q909.285 26.6874 910.709 30.7846 Z\" fill=\"#000000\" fill-rule=\"evenodd\" fill-opacity=\"1\" /><path clip-path=\"url(#clip780)\" d=\"M982.965 41.1664 L982.965 44.2914 L953.59 44.2914 Q954.007 50.8886 957.549 54.3608 Q961.125 57.7983 967.479 57.7983 Q971.16 57.7983 974.597 56.8955 Q978.069 55.9928 981.472 54.1872 L981.472 60.2288 Q978.035 61.6872 974.424 62.4511 Q970.813 63.2149 967.097 63.2149 Q957.792 63.2149 952.34 57.7983 Q946.924 52.3817 946.924 43.1456 Q946.924 33.597 952.063 28.0068 Q957.236 22.3818 965.986 22.3818 Q973.833 22.3818 978.382 27.4512 Q982.965 32.4859 982.965 41.1664 M976.576 39.2915 Q976.507 34.0484 973.625 30.9234 Q970.778 27.7985 966.056 27.7985 Q960.708 27.7985 957.479 30.8193 Q954.285 33.8401 953.799 39.3262 L976.576 39.2915 Z\" fill=\"#000000\" fill-rule=\"evenodd\" fill-opacity=\"1\" /><path clip-path=\"url(#clip780)\" d=\"M1022.37 12.2777 L1022.37 23.3193 L1035.53 23.3193 L1035.53 28.2846 L1022.37 28.2846 L1022.37 49.3956 Q1022.37 54.1525 1023.66 55.5066 Q1024.98 56.8608 1028.97 56.8608 L1035.53 56.8608 L1035.53 62.208 L1028.97 62.208 Q1021.58 62.208 1018.76 59.465 Q1015.95 56.6872 1015.95 49.3956 L1015.95 28.2846 L1011.26 28.2846 L1011.26 23.3193 L1015.95 23.3193 L1015.95 12.2777 L1022.37 12.2777 Z\" fill=\"#000000\" fill-rule=\"evenodd\" fill-opacity=\"1\" /><path clip-path=\"url(#clip780)\" d=\"M1061.61 42.6595 Q1053.87 42.6595 1050.88 44.4303 Q1047.9 46.2011 1047.9 50.472 Q1047.9 53.8747 1050.12 55.8886 Q1052.37 57.8677 1056.23 57.8677 Q1061.54 57.8677 1064.74 54.1178 Q1067.96 50.3331 1067.96 44.0831 L1067.96 42.6595 L1061.61 42.6595 M1074.35 40.0206 L1074.35 62.208 L1067.96 62.208 L1067.96 56.3053 Q1065.78 59.8469 1062.51 61.5483 Q1059.25 63.2149 1054.53 63.2149 Q1048.56 63.2149 1045.01 59.8816 Q1041.51 56.5136 1041.51 50.8886 Q1041.51 44.3262 1045.88 40.9928 Q1050.29 37.6595 1059.01 37.6595 L1067.96 37.6595 L1067.96 37.0345 Q1067.96 32.6248 1065.05 30.229 Q1062.17 27.7985 1056.92 27.7985 Q1053.59 27.7985 1050.43 28.5971 Q1047.27 29.3957 1044.35 30.9929 L1044.35 25.0901 Q1047.86 23.736 1051.16 23.0763 Q1054.46 22.3818 1057.58 22.3818 Q1066.02 22.3818 1070.19 26.7568 Q1074.35 31.1318 1074.35 40.0206 Z\" fill=\"#000000\" fill-rule=\"evenodd\" fill-opacity=\"1\" /><path clip-path=\"url(#clip780)\" d=\"M1087.27 8.18051 L1093.69 8.18051 L1093.69 40.0901 L1112.76 23.3193 L1120.92 23.3193 L1100.29 41.5137 L1121.78 62.208 L1113.45 62.208 L1093.69 43.215 L1093.69 62.208 L1087.27 62.208 L1087.27 8.18051 Z\" fill=\"#000000\" fill-rule=\"evenodd\" fill-opacity=\"1\" /><path clip-path=\"url(#clip780)\" d=\"M1159.42 41.1664 L1159.42 44.2914 L1130.05 44.2914 Q1130.46 50.8886 1134.01 54.3608 Q1137.58 57.7983 1143.94 57.7983 Q1147.62 57.7983 1151.05 56.8955 Q1154.53 55.9928 1157.93 54.1872 L1157.93 60.2288 Q1154.49 61.6872 1150.88 62.4511 Q1147.27 63.2149 1143.55 63.2149 Q1134.25 63.2149 1128.8 57.7983 Q1123.38 52.3817 1123.38 43.1456 Q1123.38 33.597 1128.52 28.0068 Q1133.69 22.3818 1142.44 22.3818 Q1150.29 22.3818 1154.84 27.4512 Q1159.42 32.4859 1159.42 41.1664 M1153.03 39.2915 Q1152.96 34.0484 1150.08 30.9234 Q1147.24 27.7985 1142.51 27.7985 Q1137.17 27.7985 1133.94 30.8193 Q1130.74 33.8401 1130.26 39.3262 L1153.03 39.2915 Z\" fill=\"#000000\" fill-rule=\"evenodd\" fill-opacity=\"1\" /><path clip-path=\"url(#clip780)\" d=\"M1202.23 38.7359 L1202.23 62.208 L1195.85 62.208 L1195.85 38.9442 Q1195.85 33.4234 1193.69 30.6804 Q1191.54 27.9374 1187.23 27.9374 Q1182.06 27.9374 1179.08 31.2359 Q1176.09 34.5345 1176.09 40.229 L1176.09 62.208 L1169.67 62.208 L1169.67 23.3193 L1176.09 23.3193 L1176.09 29.361 Q1178.38 25.854 1181.47 24.1179 Q1184.6 22.3818 1188.66 22.3818 Q1195.36 22.3818 1198.8 26.5485 Q1202.23 30.6804 1202.23 38.7359 Z\" fill=\"#000000\" fill-rule=\"evenodd\" fill-opacity=\"1\" /><path clip-path=\"url(#clip780)\" d=\"M1243.9 12.2777 L1243.9 23.3193 L1257.06 23.3193 L1257.06 28.2846 L1243.9 28.2846 L1243.9 49.3956 Q1243.9 54.1525 1245.19 55.5066 Q1246.51 56.8608 1250.5 56.8608 L1257.06 56.8608 L1257.06 62.208 L1250.5 62.208 Q1243.1 62.208 1240.29 59.465 Q1237.48 56.6872 1237.48 49.3956 L1237.48 28.2846 L1232.79 28.2846 L1232.79 23.3193 L1237.48 23.3193 L1237.48 12.2777 L1243.9 12.2777 Z\" fill=\"#000000\" fill-rule=\"evenodd\" fill-opacity=\"1\" /><path clip-path=\"url(#clip780)\" d=\"M1280.53 27.7985 Q1275.39 27.7985 1272.41 31.8262 Q1269.42 35.8193 1269.42 42.7984 Q1269.42 49.7775 1272.37 53.8053 Q1275.36 57.7983 1280.53 57.7983 Q1285.64 57.7983 1288.62 53.7705 Q1291.61 49.7428 1291.61 42.7984 Q1291.61 35.8887 1288.62 31.8609 Q1285.64 27.7985 1280.53 27.7985 M1280.53 22.3818 Q1288.87 22.3818 1293.62 27.7985 Q1298.38 33.2151 1298.38 42.7984 Q1298.38 52.3469 1293.62 57.7983 Q1288.87 63.2149 1280.53 63.2149 Q1272.17 63.2149 1267.41 57.7983 Q1262.69 52.3469 1262.69 42.7984 Q1262.69 33.2151 1267.41 27.7985 Q1272.17 22.3818 1280.53 22.3818 Z\" fill=\"#000000\" fill-rule=\"evenodd\" fill-opacity=\"1\" /><path clip-path=\"url(#clip780)\" d=\"M1359.49 42.7984 Q1359.49 35.7498 1356.57 31.7568 Q1353.69 27.729 1348.62 27.729 Q1343.55 27.729 1340.64 31.7568 Q1337.75 35.7498 1337.75 42.7984 Q1337.75 49.847 1340.64 53.8747 Q1343.55 57.8677 1348.62 57.8677 Q1353.69 57.8677 1356.57 53.8747 Q1359.49 49.847 1359.49 42.7984 M1337.75 29.2221 Q1339.77 25.7499 1342.82 24.0832 Q1345.91 22.3818 1350.19 22.3818 Q1357.27 22.3818 1361.68 28.0068 Q1366.12 33.6318 1366.12 42.7984 Q1366.12 51.965 1361.68 57.59 Q1357.27 63.2149 1350.19 63.2149 Q1345.91 63.2149 1342.82 61.5483 Q1339.77 59.8469 1337.75 56.3747 L1337.75 62.208 L1331.33 62.208 L1331.33 8.18051 L1337.75 8.18051 L1337.75 29.2221 Z\" fill=\"#000000\" fill-rule=\"evenodd\" fill-opacity=\"1\" /><path clip-path=\"url(#clip780)\" d=\"M1409.98 41.1664 L1409.98 44.2914 L1380.6 44.2914 Q1381.02 50.8886 1384.56 54.3608 Q1388.14 57.7983 1394.49 57.7983 Q1398.17 57.7983 1401.61 56.8955 Q1405.08 55.9928 1408.48 54.1872 L1408.48 60.2288 Q1405.05 61.6872 1401.44 62.4511 Q1397.82 63.2149 1394.11 63.2149 Q1384.8 63.2149 1379.35 57.7983 Q1373.94 52.3817 1373.94 43.1456 Q1373.94 33.597 1379.07 28.0068 Q1384.25 22.3818 1393 22.3818 Q1400.84 22.3818 1405.39 27.4512 Q1409.98 32.4859 1409.98 41.1664 M1403.59 39.2915 Q1403.52 34.0484 1400.64 30.9234 Q1397.79 27.7985 1393.07 27.7985 Q1387.72 27.7985 1384.49 30.8193 Q1381.3 33.8401 1380.81 39.3262 L1403.59 39.2915 Z\" fill=\"#000000\" fill-rule=\"evenodd\" fill-opacity=\"1\" /><path clip-path=\"url(#clip780)\" d=\"M1462.75 8.18051 L1462.75 13.493 L1456.64 13.493 Q1453.21 13.493 1451.85 14.8819 Q1450.53 16.2707 1450.53 19.8818 L1450.53 23.3193 L1461.05 23.3193 L1461.05 28.2846 L1450.53 28.2846 L1450.53 62.208 L1444.11 62.208 L1444.11 28.2846 L1438 28.2846 L1438 23.3193 L1444.11 23.3193 L1444.11 20.611 Q1444.11 14.118 1447.13 11.1666 Q1450.15 8.18051 1456.71 8.18051 L1462.75 8.18051 Z\" fill=\"#000000\" fill-rule=\"evenodd\" fill-opacity=\"1\" /><path clip-path=\"url(#clip780)\" d=\"M1483.17 27.7985 Q1478.03 27.7985 1475.05 31.8262 Q1472.06 35.8193 1472.06 42.7984 Q1472.06 49.7775 1475.01 53.8053 Q1478 57.7983 1483.17 57.7983 Q1488.28 57.7983 1491.26 53.7705 Q1494.25 49.7428 1494.25 42.7984 Q1494.25 35.8887 1491.26 31.8609 Q1488.28 27.7985 1483.17 27.7985 M1483.17 22.3818 Q1491.5 22.3818 1496.26 27.7985 Q1501.02 33.2151 1501.02 42.7984 Q1501.02 52.3469 1496.26 57.7983 Q1491.5 63.2149 1483.17 63.2149 Q1474.8 63.2149 1470.05 57.7983 Q1465.32 52.3469 1465.32 42.7984 Q1465.32 33.2151 1470.05 27.7985 Q1474.8 22.3818 1483.17 22.3818 Z\" fill=\"#000000\" fill-rule=\"evenodd\" fill-opacity=\"1\" /><path clip-path=\"url(#clip780)\" d=\"M1534.14 29.2915 Q1533.07 28.6665 1531.78 28.3887 Q1530.53 28.0762 1529 28.0762 Q1523.59 28.0762 1520.67 31.6179 Q1517.79 35.1248 1517.79 41.722 L1517.79 62.208 L1511.37 62.208 L1511.37 23.3193 L1517.79 23.3193 L1517.79 29.361 Q1519.8 25.8193 1523.03 24.1179 Q1526.26 22.3818 1530.88 22.3818 Q1531.54 22.3818 1532.34 22.486 Q1533.14 22.5554 1534.11 22.729 L1534.14 29.2915 Z\" fill=\"#000000\" fill-rule=\"evenodd\" fill-opacity=\"1\" /><path clip-path=\"url(#clip780)\" d=\"M1593.73 30.7846 Q1596.12 26.479 1599.45 24.4304 Q1602.79 22.3818 1607.3 22.3818 Q1613.38 22.3818 1616.68 26.6526 Q1619.98 30.8887 1619.98 38.7359 L1619.98 62.208 L1613.55 62.208 L1613.55 38.9442 Q1613.55 33.354 1611.57 30.6457 Q1609.59 27.9374 1605.53 27.9374 Q1600.57 27.9374 1597.68 31.2359 Q1594.8 34.5345 1594.8 40.229 L1594.8 62.208 L1588.38 62.208 L1588.38 38.9442 Q1588.38 33.3193 1586.4 30.6457 Q1584.42 27.9374 1580.29 27.9374 Q1575.39 27.9374 1572.51 31.2707 Q1569.63 34.5693 1569.63 40.229 L1569.63 62.208 L1563.21 62.208 L1563.21 23.3193 L1569.63 23.3193 L1569.63 29.361 Q1571.82 25.7846 1574.87 24.0832 Q1577.93 22.3818 1582.13 22.3818 Q1586.36 22.3818 1589.32 24.5346 Q1592.3 26.6874 1593.73 30.7846 Z\" fill=\"#000000\" fill-rule=\"evenodd\" fill-opacity=\"1\" /><path clip-path=\"url(#clip780)\" d=\"M1650.39 42.6595 Q1642.65 42.6595 1639.66 44.4303 Q1636.68 46.2011 1636.68 50.472 Q1636.68 53.8747 1638.9 55.8886 Q1641.16 57.8677 1645.01 57.8677 Q1650.32 57.8677 1653.52 54.1178 Q1656.75 50.3331 1656.75 44.0831 L1656.75 42.6595 L1650.39 42.6595 M1663.14 40.0206 L1663.14 62.208 L1656.75 62.208 L1656.75 56.3053 Q1654.56 59.8469 1651.29 61.5483 Q1648.03 63.2149 1643.31 63.2149 Q1637.34 63.2149 1633.8 59.8816 Q1630.29 56.5136 1630.29 50.8886 Q1630.29 44.3262 1634.66 40.9928 Q1639.07 37.6595 1647.79 37.6595 L1656.75 37.6595 L1656.75 37.0345 Q1656.75 32.6248 1653.83 30.229 Q1650.95 27.7985 1645.7 27.7985 Q1642.37 27.7985 1639.21 28.5971 Q1636.05 29.3957 1633.14 30.9929 L1633.14 25.0901 Q1636.64 23.736 1639.94 23.0763 Q1643.24 22.3818 1646.36 22.3818 Q1654.8 22.3818 1658.97 26.7568 Q1663.14 31.1318 1663.14 40.0206 Z\" fill=\"#000000\" fill-rule=\"evenodd\" fill-opacity=\"1\" /><path clip-path=\"url(#clip780)\" d=\"M1676.29 23.3193 L1682.68 23.3193 L1682.68 62.208 L1676.29 62.208 L1676.29 23.3193 M1676.29 8.18051 L1682.68 8.18051 L1682.68 16.2707 L1676.29 16.2707 L1676.29 8.18051 Z\" fill=\"#000000\" fill-rule=\"evenodd\" fill-opacity=\"1\" /><path clip-path=\"url(#clip780)\" d=\"M1696.05 8.18051 L1702.44 8.18051 L1702.44 62.208 L1696.05 62.208 L1696.05 8.18051 Z\" fill=\"#000000\" fill-rule=\"evenodd\" fill-opacity=\"1\" /><path clip-path=\"url(#clip780)\" d=\"M1756.02 17.2777 L1746.5 43.0762 L1765.57 43.0762 L1756.02 17.2777 M1752.06 10.368 L1760.01 10.368 L1779.77 62.208 L1772.47 62.208 L1767.75 48.9095 L1744.38 48.9095 L1739.66 62.208 L1732.27 62.208 L1752.06 10.368 Z\" fill=\"#000000\" fill-rule=\"evenodd\" fill-opacity=\"1\" /><path clip-path=\"url(#clip780)\" d=\"M1793.1 10.368 L1793.1 29.6387 L1787.2 29.6387 L1787.2 10.368 L1793.1 10.368 Z\" fill=\"#000000\" fill-rule=\"evenodd\" fill-opacity=\"1\" /><path clip-path=\"url(#clip780)\" d=\"M1831.4 24.4651 L1831.4 30.5068 Q1828.69 29.1179 1825.77 28.4235 Q1822.86 27.729 1819.73 27.729 Q1814.97 27.729 1812.58 29.1873 Q1810.22 30.6457 1810.22 33.5623 Q1810.22 35.7845 1811.92 37.0692 Q1813.62 38.3192 1818.76 39.4651 L1820.95 39.9512 Q1827.75 41.4095 1830.6 44.0831 Q1833.48 46.722 1833.48 51.4789 Q1833.48 56.8955 1829.18 60.0552 Q1824.91 63.2149 1817.41 63.2149 Q1814.28 63.2149 1810.88 62.5899 Q1807.51 61.9997 1803.76 60.7844 L1803.76 54.1872 Q1807.3 56.0275 1810.74 56.965 Q1814.18 57.8677 1817.54 57.8677 Q1822.06 57.8677 1824.49 56.34 Q1826.92 54.7775 1826.92 51.965 Q1826.92 49.3608 1825.15 47.972 Q1823.41 46.5831 1817.47 45.2984 L1815.25 44.7775 Q1809.31 43.5275 1806.68 40.9581 Q1804.04 38.354 1804.04 33.8401 Q1804.04 28.354 1807.93 25.3679 Q1811.81 22.3818 1818.97 22.3818 Q1822.51 22.3818 1825.63 22.9027 Q1828.76 23.4235 1831.4 24.4651 Z\" fill=\"#000000\" fill-rule=\"evenodd\" fill-opacity=\"1\" /><path clip-path=\"url(#clip780)\" d=\"M1872.58 12.2777 L1872.58 23.3193 L1885.74 23.3193 L1885.74 28.2846 L1872.58 28.2846 L1872.58 49.3956 Q1872.58 54.1525 1873.86 55.5066 Q1875.18 56.8608 1879.18 56.8608 L1885.74 56.8608 L1885.74 62.208 L1879.18 62.208 Q1871.78 62.208 1868.97 59.465 Q1866.15 56.6872 1866.15 49.3956 L1866.15 28.2846 L1861.47 28.2846 L1861.47 23.3193 L1866.15 23.3193 L1866.15 12.2777 L1872.58 12.2777 Z\" fill=\"#000000\" fill-rule=\"evenodd\" fill-opacity=\"1\" /><path clip-path=\"url(#clip780)\" d=\"M1909.21 27.7985 Q1904.07 27.7985 1901.09 31.8262 Q1898.1 35.8193 1898.1 42.7984 Q1898.1 49.7775 1901.05 53.8053 Q1904.04 57.7983 1909.21 57.7983 Q1914.31 57.7983 1917.3 53.7705 Q1920.29 49.7428 1920.29 42.7984 Q1920.29 35.8887 1917.3 31.8609 Q1914.31 27.7985 1909.21 27.7985 M1909.21 22.3818 Q1917.54 22.3818 1922.3 27.7985 Q1927.06 33.2151 1927.06 42.7984 Q1927.06 52.3469 1922.3 57.7983 Q1917.54 63.2149 1909.21 63.2149 Q1900.84 63.2149 1896.09 57.7983 Q1891.36 52.3469 1891.36 42.7984 Q1891.36 33.2151 1896.09 27.7985 Q1900.84 22.3818 1909.21 22.3818 Z\" fill=\"#000000\" fill-rule=\"evenodd\" fill-opacity=\"1\" /><path clip-path=\"url(#clip780)\" d=\"M1988.17 42.7984 Q1988.17 35.7498 1985.25 31.7568 Q1982.37 27.729 1977.3 27.729 Q1972.23 27.729 1969.31 31.7568 Q1966.43 35.7498 1966.43 42.7984 Q1966.43 49.847 1969.31 53.8747 Q1972.23 57.8677 1977.3 57.8677 Q1982.37 57.8677 1985.25 53.8747 Q1988.17 49.847 1988.17 42.7984 M1966.43 29.2221 Q1968.45 25.7499 1971.5 24.0832 Q1974.59 22.3818 1978.86 22.3818 Q1985.95 22.3818 1990.36 28.0068 Q1994.8 33.6318 1994.8 42.7984 Q1994.8 51.965 1990.36 57.59 Q1985.95 63.2149 1978.86 63.2149 Q1974.59 63.2149 1971.5 61.5483 Q1968.45 59.8469 1966.43 56.3747 L1966.43 62.208 L1960.01 62.208 L1960.01 8.18051 L1966.43 8.18051 L1966.43 29.2221 Z\" fill=\"#000000\" fill-rule=\"evenodd\" fill-opacity=\"1\" /><path clip-path=\"url(#clip780)\" d=\"M2038.65 41.1664 L2038.65 44.2914 L2009.28 44.2914 Q2009.7 50.8886 2013.24 54.3608 Q2016.81 57.7983 2023.17 57.7983 Q2026.85 57.7983 2030.29 56.8955 Q2033.76 55.9928 2037.16 54.1872 L2037.16 60.2288 Q2033.72 61.6872 2030.11 62.4511 Q2026.5 63.2149 2022.79 63.2149 Q2013.48 63.2149 2008.03 57.7983 Q2002.61 52.3817 2002.61 43.1456 Q2002.61 33.597 2007.75 28.0068 Q2012.92 22.3818 2021.67 22.3818 Q2029.52 22.3818 2034.07 27.4512 Q2038.65 32.4859 2038.65 41.1664 M2032.27 39.2915 Q2032.2 34.0484 2029.31 30.9234 Q2026.47 27.7985 2021.74 27.7985 Q2016.4 27.7985 2013.17 30.8193 Q2009.97 33.8401 2009.49 39.3262 L2032.27 39.2915 Z\" fill=\"#000000\" fill-rule=\"evenodd\" fill-opacity=\"1\" /><path clip-path=\"url(#clip780)\" d=\"M2097.33 29.2221 L2097.33 8.18051 L2103.72 8.18051 L2103.72 62.208 L2097.33 62.208 L2097.33 56.3747 Q2095.32 59.8469 2092.23 61.5483 Q2089.17 63.2149 2084.87 63.2149 Q2077.82 63.2149 2073.38 57.59 Q2068.97 51.965 2068.97 42.7984 Q2068.97 33.6318 2073.38 28.0068 Q2077.82 22.3818 2084.87 22.3818 Q2089.17 22.3818 2092.23 24.0832 Q2095.32 25.7499 2097.33 29.2221 M2075.56 42.7984 Q2075.56 49.847 2078.45 53.8747 Q2081.36 57.8677 2086.43 57.8677 Q2091.5 57.8677 2094.42 53.8747 Q2097.33 49.847 2097.33 42.7984 Q2097.33 35.7498 2094.42 31.7568 Q2091.5 27.729 2086.43 27.729 Q2081.36 27.729 2078.45 31.7568 Q2075.56 35.7498 2075.56 42.7984 Z\" fill=\"#000000\" fill-rule=\"evenodd\" fill-opacity=\"1\" /><path clip-path=\"url(#clip780)\" d=\"M2150.15 41.1664 L2150.15 44.2914 L2120.77 44.2914 Q2121.19 50.8886 2124.73 54.3608 Q2128.31 57.7983 2134.66 57.7983 Q2138.34 57.7983 2141.78 56.8955 Q2145.25 55.9928 2148.65 54.1872 L2148.65 60.2288 Q2145.22 61.6872 2141.6 62.4511 Q2137.99 63.2149 2134.28 63.2149 Q2124.97 63.2149 2119.52 57.7983 Q2114.11 52.3817 2114.11 43.1456 Q2114.11 33.597 2119.24 28.0068 Q2124.42 22.3818 2133.17 22.3818 Q2141.01 22.3818 2145.56 27.4512 Q2150.15 32.4859 2150.15 41.1664 M2143.76 39.2915 Q2143.69 34.0484 2140.81 30.9234 Q2137.96 27.7985 2133.24 27.7985 Q2127.89 27.7985 2124.66 30.8193 Q2121.47 33.8401 2120.98 39.3262 L2143.76 39.2915 Z\" fill=\"#000000\" fill-rule=\"evenodd\" fill-opacity=\"1\" /><path clip-path=\"url(#clip780)\" d=\"M2160.63 8.18051 L2167.02 8.18051 L2167.02 62.208 L2160.63 62.208 L2160.63 8.18051 Z\" fill=\"#000000\" fill-rule=\"evenodd\" fill-opacity=\"1\" /><path clip-path=\"url(#clip780)\" d=\"M2180.39 23.3193 L2186.78 23.3193 L2186.78 62.208 L2180.39 62.208 L2180.39 23.3193 M2180.39 8.18051 L2186.78 8.18051 L2186.78 16.2707 L2180.39 16.2707 L2180.39 8.18051 Z\" fill=\"#000000\" fill-rule=\"evenodd\" fill-opacity=\"1\" /><path clip-path=\"url(#clip780)\" d=\"M2195.56 23.3193 L2202.33 23.3193 L2214.49 55.958 L2226.64 23.3193 L2233.41 23.3193 L2218.83 62.208 L2210.15 62.208 L2195.56 23.3193 Z\" fill=\"#000000\" fill-rule=\"evenodd\" fill-opacity=\"1\" /><path clip-path=\"url(#clip780)\" d=\"M2275.49 41.1664 L2275.49 44.2914 L2246.12 44.2914 Q2246.53 50.8886 2250.08 54.3608 Q2253.65 57.7983 2260.01 57.7983 Q2263.69 57.7983 2267.13 56.8955 Q2270.6 55.9928 2274 54.1872 L2274 60.2288 Q2270.56 61.6872 2266.95 62.4511 Q2263.34 63.2149 2259.63 63.2149 Q2250.32 63.2149 2244.87 57.7983 Q2239.45 52.3817 2239.45 43.1456 Q2239.45 33.597 2244.59 28.0068 Q2249.76 22.3818 2258.51 22.3818 Q2266.36 22.3818 2270.91 27.4512 Q2275.49 32.4859 2275.49 41.1664 M2269.1 39.2915 Q2269.03 34.0484 2266.15 30.9234 Q2263.31 27.7985 2258.58 27.7985 Q2253.24 27.7985 2250.01 30.8193 Q2246.81 33.8401 2246.33 39.3262 L2269.1 39.2915 Z\" fill=\"#000000\" fill-rule=\"evenodd\" fill-opacity=\"1\" /><path clip-path=\"url(#clip780)\" d=\"M2308.51 29.2915 Q2307.44 28.6665 2306.15 28.3887 Q2304.9 28.0762 2303.37 28.0762 Q2297.96 28.0762 2295.04 31.6179 Q2292.16 35.1248 2292.16 41.722 L2292.16 62.208 L2285.74 62.208 L2285.74 23.3193 L2292.16 23.3193 L2292.16 29.361 Q2294.17 25.8193 2297.4 24.1179 Q2300.63 22.3818 2305.25 22.3818 Q2305.91 22.3818 2306.71 22.486 Q2307.51 22.5554 2308.48 22.729 L2308.51 29.2915 Z\" fill=\"#000000\" fill-rule=\"evenodd\" fill-opacity=\"1\" /><path clip-path=\"url(#clip780)\" d=\"M2346.92 41.1664 L2346.92 44.2914 L2317.54 44.2914 Q2317.96 50.8886 2321.5 54.3608 Q2325.08 57.7983 2331.43 57.7983 Q2335.11 57.7983 2338.55 56.8955 Q2342.02 55.9928 2345.42 54.1872 L2345.42 60.2288 Q2341.99 61.6872 2338.37 62.4511 Q2334.76 63.2149 2331.05 63.2149 Q2321.74 63.2149 2316.29 57.7983 Q2310.87 52.3817 2310.87 43.1456 Q2310.87 33.597 2316.01 28.0068 Q2321.19 22.3818 2329.94 22.3818 Q2337.78 22.3818 2342.33 27.4512 Q2346.92 32.4859 2346.92 41.1664 M2340.53 39.2915 Q2340.46 34.0484 2337.58 30.9234 Q2334.73 27.7985 2330.01 27.7985 Q2324.66 27.7985 2321.43 30.8193 Q2318.24 33.8401 2317.75 39.3262 L2340.53 39.2915 Z\" fill=\"#000000\" fill-rule=\"evenodd\" fill-opacity=\"1\" /><path clip-path=\"url(#clip780)\" d=\"M2382.99 29.2221 L2382.99 8.18051 L2389.38 8.18051 L2389.38 62.208 L2382.99 62.208 L2382.99 56.3747 Q2380.98 59.8469 2377.89 61.5483 Q2374.83 63.2149 2370.53 63.2149 Q2363.48 63.2149 2359.03 57.59 Q2354.62 51.965 2354.62 42.7984 Q2354.62 33.6318 2359.03 28.0068 Q2363.48 22.3818 2370.53 22.3818 Q2374.83 22.3818 2377.89 24.0832 Q2380.98 25.7499 2382.99 29.2221 M2361.22 42.7984 Q2361.22 49.847 2364.1 53.8747 Q2367.02 57.8677 2372.09 57.8677 Q2377.16 57.8677 2380.08 53.8747 Q2382.99 49.847 2382.99 42.7984 Q2382.99 35.7498 2380.08 31.7568 Q2377.16 27.729 2372.09 27.729 Q2367.02 27.729 2364.1 31.7568 Q2361.22 35.7498 2361.22 42.7984 Z\" fill=\"#000000\" fill-rule=\"evenodd\" fill-opacity=\"1\" /><path clip-path=\"url(#clip782)\" d=\"\n",
       "M397.844 215.112 L397.844 2693.78 L512.425 2693.78 L512.425 215.112 L397.844 215.112 L397.844 215.112  Z\n",
       "  \" fill=\"#009af9\" fill-rule=\"evenodd\" fill-opacity=\"1\"/>\n",
       "<polyline clip-path=\"url(#clip782)\" style=\"stroke:#000000; stroke-linecap:butt; stroke-linejoin:round; stroke-width:4; stroke-opacity:1; fill:none\" points=\"\n",
       "  397.844,215.112 397.844,2693.78 512.425,2693.78 512.425,215.112 397.844,215.112 \n",
       "  \"/>\n",
       "<path clip-path=\"url(#clip782)\" d=\"\n",
       "M512.425 2693.78 L512.425 2693.78 L627.007 2693.78 L627.007 2693.78 L512.425 2693.78 L512.425 2693.78  Z\n",
       "  \" fill=\"#009af9\" fill-rule=\"evenodd\" fill-opacity=\"1\"/>\n",
       "<polyline clip-path=\"url(#clip782)\" style=\"stroke:#000000; stroke-linecap:butt; stroke-linejoin:round; stroke-width:4; stroke-opacity:1; fill:none\" points=\"\n",
       "  512.425,2693.78 512.425,2693.78 627.007,2693.78 512.425,2693.78 \n",
       "  \"/>\n",
       "<path clip-path=\"url(#clip782)\" d=\"\n",
       "M627.007 2693.78 L627.007 2693.78 L741.588 2693.78 L741.588 2693.78 L627.007 2693.78 L627.007 2693.78  Z\n",
       "  \" fill=\"#009af9\" fill-rule=\"evenodd\" fill-opacity=\"1\"/>\n",
       "<polyline clip-path=\"url(#clip782)\" style=\"stroke:#000000; stroke-linecap:butt; stroke-linejoin:round; stroke-width:4; stroke-opacity:1; fill:none\" points=\"\n",
       "  627.007,2693.78 627.007,2693.78 741.588,2693.78 627.007,2693.78 \n",
       "  \"/>\n",
       "<path clip-path=\"url(#clip782)\" d=\"\n",
       "M741.588 2693.78 L741.588 2693.78 L856.169 2693.78 L856.169 2693.78 L741.588 2693.78 L741.588 2693.78  Z\n",
       "  \" fill=\"#009af9\" fill-rule=\"evenodd\" fill-opacity=\"1\"/>\n",
       "<polyline clip-path=\"url(#clip782)\" style=\"stroke:#000000; stroke-linecap:butt; stroke-linejoin:round; stroke-width:4; stroke-opacity:1; fill:none\" points=\"\n",
       "  741.588,2693.78 741.588,2693.78 856.169,2693.78 741.588,2693.78 \n",
       "  \"/>\n",
       "<path clip-path=\"url(#clip782)\" d=\"\n",
       "M856.169 2693.78 L856.169 2693.78 L970.751 2693.78 L970.751 2693.78 L856.169 2693.78 L856.169 2693.78  Z\n",
       "  \" fill=\"#009af9\" fill-rule=\"evenodd\" fill-opacity=\"1\"/>\n",
       "<polyline clip-path=\"url(#clip782)\" style=\"stroke:#000000; stroke-linecap:butt; stroke-linejoin:round; stroke-width:4; stroke-opacity:1; fill:none\" points=\"\n",
       "  856.169,2693.78 856.169,2693.78 970.751,2693.78 856.169,2693.78 \n",
       "  \"/>\n",
       "<path clip-path=\"url(#clip782)\" d=\"\n",
       "M970.751 2693.78 L970.751 2693.78 L1085.33 2693.78 L1085.33 2693.78 L970.751 2693.78 L970.751 2693.78  Z\n",
       "  \" fill=\"#009af9\" fill-rule=\"evenodd\" fill-opacity=\"1\"/>\n",
       "<polyline clip-path=\"url(#clip782)\" style=\"stroke:#000000; stroke-linecap:butt; stroke-linejoin:round; stroke-width:4; stroke-opacity:1; fill:none\" points=\"\n",
       "  970.751,2693.78 970.751,2693.78 1085.33,2693.78 970.751,2693.78 \n",
       "  \"/>\n",
       "<path clip-path=\"url(#clip782)\" d=\"\n",
       "M1085.33 2693.78 L1085.33 2693.78 L1199.91 2693.78 L1199.91 2693.78 L1085.33 2693.78 L1085.33 2693.78  Z\n",
       "  \" fill=\"#009af9\" fill-rule=\"evenodd\" fill-opacity=\"1\"/>\n",
       "<polyline clip-path=\"url(#clip782)\" style=\"stroke:#000000; stroke-linecap:butt; stroke-linejoin:round; stroke-width:4; stroke-opacity:1; fill:none\" points=\"\n",
       "  1085.33,2693.78 1085.33,2693.78 1199.91,2693.78 1085.33,2693.78 \n",
       "  \"/>\n",
       "<path clip-path=\"url(#clip782)\" d=\"\n",
       "M1199.91 2693.78 L1199.91 2693.78 L1314.49 2693.78 L1314.49 2693.78 L1199.91 2693.78 L1199.91 2693.78  Z\n",
       "  \" fill=\"#009af9\" fill-rule=\"evenodd\" fill-opacity=\"1\"/>\n",
       "<polyline clip-path=\"url(#clip782)\" style=\"stroke:#000000; stroke-linecap:butt; stroke-linejoin:round; stroke-width:4; stroke-opacity:1; fill:none\" points=\"\n",
       "  1199.91,2693.78 1199.91,2693.78 1314.49,2693.78 1199.91,2693.78 \n",
       "  \"/>\n",
       "<path clip-path=\"url(#clip782)\" d=\"\n",
       "M1314.49 2693.78 L1314.49 2693.78 L1429.08 2693.78 L1429.08 2693.78 L1314.49 2693.78 L1314.49 2693.78  Z\n",
       "  \" fill=\"#009af9\" fill-rule=\"evenodd\" fill-opacity=\"1\"/>\n",
       "<polyline clip-path=\"url(#clip782)\" style=\"stroke:#000000; stroke-linecap:butt; stroke-linejoin:round; stroke-width:4; stroke-opacity:1; fill:none\" points=\"\n",
       "  1314.49,2693.78 1314.49,2693.78 1429.08,2693.78 1314.49,2693.78 \n",
       "  \"/>\n",
       "<path clip-path=\"url(#clip782)\" d=\"\n",
       "M1429.08 2693.78 L1429.08 2693.78 L1543.66 2693.78 L1543.66 2693.78 L1429.08 2693.78 L1429.08 2693.78  Z\n",
       "  \" fill=\"#009af9\" fill-rule=\"evenodd\" fill-opacity=\"1\"/>\n",
       "<polyline clip-path=\"url(#clip782)\" style=\"stroke:#000000; stroke-linecap:butt; stroke-linejoin:round; stroke-width:4; stroke-opacity:1; fill:none\" points=\"\n",
       "  1429.08,2693.78 1429.08,2693.78 1543.66,2693.78 1429.08,2693.78 \n",
       "  \"/>\n",
       "<path clip-path=\"url(#clip782)\" d=\"\n",
       "M1543.66 2693.78 L1543.66 2693.78 L1658.24 2693.78 L1658.24 2693.78 L1543.66 2693.78 L1543.66 2693.78  Z\n",
       "  \" fill=\"#009af9\" fill-rule=\"evenodd\" fill-opacity=\"1\"/>\n",
       "<polyline clip-path=\"url(#clip782)\" style=\"stroke:#000000; stroke-linecap:butt; stroke-linejoin:round; stroke-width:4; stroke-opacity:1; fill:none\" points=\"\n",
       "  1543.66,2693.78 1543.66,2693.78 1658.24,2693.78 1543.66,2693.78 \n",
       "  \"/>\n",
       "<path clip-path=\"url(#clip782)\" d=\"\n",
       "M1658.24 2693.78 L1658.24 2693.78 L1772.82 2693.78 L1772.82 2693.78 L1658.24 2693.78 L1658.24 2693.78  Z\n",
       "  \" fill=\"#009af9\" fill-rule=\"evenodd\" fill-opacity=\"1\"/>\n",
       "<polyline clip-path=\"url(#clip782)\" style=\"stroke:#000000; stroke-linecap:butt; stroke-linejoin:round; stroke-width:4; stroke-opacity:1; fill:none\" points=\"\n",
       "  1658.24,2693.78 1658.24,2693.78 1772.82,2693.78 1658.24,2693.78 \n",
       "  \"/>\n",
       "<path clip-path=\"url(#clip782)\" d=\"\n",
       "M1772.82 2693.78 L1772.82 2693.78 L1887.4 2693.78 L1887.4 2693.78 L1772.82 2693.78 L1772.82 2693.78  Z\n",
       "  \" fill=\"#009af9\" fill-rule=\"evenodd\" fill-opacity=\"1\"/>\n",
       "<polyline clip-path=\"url(#clip782)\" style=\"stroke:#000000; stroke-linecap:butt; stroke-linejoin:round; stroke-width:4; stroke-opacity:1; fill:none\" points=\"\n",
       "  1772.82,2693.78 1772.82,2693.78 1887.4,2693.78 1772.82,2693.78 \n",
       "  \"/>\n",
       "<path clip-path=\"url(#clip782)\" d=\"\n",
       "M1887.4 2693.78 L1887.4 2693.78 L2001.98 2693.78 L2001.98 2693.78 L1887.4 2693.78 L1887.4 2693.78  Z\n",
       "  \" fill=\"#009af9\" fill-rule=\"evenodd\" fill-opacity=\"1\"/>\n",
       "<polyline clip-path=\"url(#clip782)\" style=\"stroke:#000000; stroke-linecap:butt; stroke-linejoin:round; stroke-width:4; stroke-opacity:1; fill:none\" points=\"\n",
       "  1887.4,2693.78 1887.4,2693.78 2001.98,2693.78 1887.4,2693.78 \n",
       "  \"/>\n",
       "<path clip-path=\"url(#clip782)\" d=\"\n",
       "M2001.98 2693.78 L2001.98 2693.78 L2116.56 2693.78 L2116.56 2693.78 L2001.98 2693.78 L2001.98 2693.78  Z\n",
       "  \" fill=\"#009af9\" fill-rule=\"evenodd\" fill-opacity=\"1\"/>\n",
       "<polyline clip-path=\"url(#clip782)\" style=\"stroke:#000000; stroke-linecap:butt; stroke-linejoin:round; stroke-width:4; stroke-opacity:1; fill:none\" points=\"\n",
       "  2001.98,2693.78 2001.98,2693.78 2116.56,2693.78 2001.98,2693.78 \n",
       "  \"/>\n",
       "<path clip-path=\"url(#clip782)\" d=\"\n",
       "M2116.56 2693.78 L2116.56 2693.78 L2231.15 2693.78 L2231.15 2693.78 L2116.56 2693.78 L2116.56 2693.78  Z\n",
       "  \" fill=\"#009af9\" fill-rule=\"evenodd\" fill-opacity=\"1\"/>\n",
       "<polyline clip-path=\"url(#clip782)\" style=\"stroke:#000000; stroke-linecap:butt; stroke-linejoin:round; stroke-width:4; stroke-opacity:1; fill:none\" points=\"\n",
       "  2116.56,2693.78 2116.56,2693.78 2231.15,2693.78 2116.56,2693.78 \n",
       "  \"/>\n",
       "<path clip-path=\"url(#clip782)\" d=\"\n",
       "M2231.15 2693.78 L2231.15 2693.78 L2345.73 2693.78 L2345.73 2693.78 L2231.15 2693.78 L2231.15 2693.78  Z\n",
       "  \" fill=\"#009af9\" fill-rule=\"evenodd\" fill-opacity=\"1\"/>\n",
       "<polyline clip-path=\"url(#clip782)\" style=\"stroke:#000000; stroke-linecap:butt; stroke-linejoin:round; stroke-width:4; stroke-opacity:1; fill:none\" points=\"\n",
       "  2231.15,2693.78 2231.15,2693.78 2345.73,2693.78 2231.15,2693.78 \n",
       "  \"/>\n",
       "<path clip-path=\"url(#clip782)\" d=\"\n",
       "M2345.73 2693.78 L2345.73 2693.78 L2460.31 2693.78 L2460.31 2693.78 L2345.73 2693.78 L2345.73 2693.78  Z\n",
       "  \" fill=\"#009af9\" fill-rule=\"evenodd\" fill-opacity=\"1\"/>\n",
       "<polyline clip-path=\"url(#clip782)\" style=\"stroke:#000000; stroke-linecap:butt; stroke-linejoin:round; stroke-width:4; stroke-opacity:1; fill:none\" points=\"\n",
       "  2345.73,2693.78 2345.73,2693.78 2460.31,2693.78 2345.73,2693.78 \n",
       "  \"/>\n",
       "<path clip-path=\"url(#clip782)\" d=\"\n",
       "M2460.31 2693.78 L2460.31 2693.78 L2574.89 2693.78 L2574.89 2693.78 L2460.31 2693.78 L2460.31 2693.78  Z\n",
       "  \" fill=\"#009af9\" fill-rule=\"evenodd\" fill-opacity=\"1\"/>\n",
       "<polyline clip-path=\"url(#clip782)\" style=\"stroke:#000000; stroke-linecap:butt; stroke-linejoin:round; stroke-width:4; stroke-opacity:1; fill:none\" points=\"\n",
       "  2460.31,2693.78 2460.31,2693.78 2574.89,2693.78 2460.31,2693.78 \n",
       "  \"/>\n",
       "<path clip-path=\"url(#clip782)\" d=\"\n",
       "M2574.89 2693.78 L2574.89 2693.78 L2689.47 2693.78 L2689.47 2693.78 L2574.89 2693.78 L2574.89 2693.78  Z\n",
       "  \" fill=\"#009af9\" fill-rule=\"evenodd\" fill-opacity=\"1\"/>\n",
       "<polyline clip-path=\"url(#clip782)\" style=\"stroke:#000000; stroke-linecap:butt; stroke-linejoin:round; stroke-width:4; stroke-opacity:1; fill:none\" points=\"\n",
       "  2574.89,2693.78 2574.89,2693.78 2689.47,2693.78 2574.89,2693.78 \n",
       "  \"/>\n",
       "<path clip-path=\"url(#clip782)\" d=\"\n",
       "M2689.47 1454.45 L2689.47 2693.78 L2804.05 2693.78 L2804.05 1454.45 L2689.47 1454.45 L2689.47 1454.45  Z\n",
       "  \" fill=\"#009af9\" fill-rule=\"evenodd\" fill-opacity=\"1\"/>\n",
       "<polyline clip-path=\"url(#clip782)\" style=\"stroke:#000000; stroke-linecap:butt; stroke-linejoin:round; stroke-width:4; stroke-opacity:1; fill:none\" points=\"\n",
       "  2689.47,1454.45 2689.47,2693.78 2804.05,2693.78 2804.05,1454.45 2689.47,1454.45 \n",
       "  \"/>\n",
       "</svg>\n"
      ]
     },
     "metadata": {},
     "output_type": "display_data"
    },
    {
     "data": {
      "image/svg+xml": [
       "<?xml version=\"1.0\" encoding=\"utf-8\"?>\n",
       "<svg xmlns=\"http://www.w3.org/2000/svg\" xmlns:xlink=\"http://www.w3.org/1999/xlink\" width=\"750\" height=\"750\" viewBox=\"0 0 3000 3000\">\n",
       "<defs>\n",
       "  <clipPath id=\"clip820\">\n",
       "    <rect x=\"0\" y=\"0\" width=\"3000\" height=\"3000\"/>\n",
       "  </clipPath>\n",
       "</defs>\n",
       "<path clip-path=\"url(#clip820)\" d=\"\n",
       "M0 3000 L3000 3000 L3000 0 L0 0  Z\n",
       "  \" fill=\"#ffffff\" fill-rule=\"evenodd\" fill-opacity=\"1\"/>\n",
       "<defs>\n",
       "  <clipPath id=\"clip821\">\n",
       "    <rect x=\"600\" y=\"300\" width=\"2101\" height=\"2101\"/>\n",
       "  </clipPath>\n",
       "</defs>\n",
       "<path clip-path=\"url(#clip820)\" d=\"\n",
       "M205.205 2768.14 L2952.76 2768.14 L2952.76 140.752 L205.205 140.752  Z\n",
       "  \" fill=\"#ffffff\" fill-rule=\"evenodd\" fill-opacity=\"1\"/>\n",
       "<defs>\n",
       "  <clipPath id=\"clip822\">\n",
       "    <rect x=\"205\" y=\"140\" width=\"2749\" height=\"2628\"/>\n",
       "  </clipPath>\n",
       "</defs>\n",
       "<polyline clip-path=\"url(#clip822)\" style=\"stroke:#000000; stroke-linecap:butt; stroke-linejoin:round; stroke-width:2; stroke-opacity:0.1; fill:none\" points=\"\n",
       "  356.325,2768.14 356.325,140.752 \n",
       "  \"/>\n",
       "<polyline clip-path=\"url(#clip822)\" style=\"stroke:#000000; stroke-linecap:butt; stroke-linejoin:round; stroke-width:2; stroke-opacity:0.1; fill:none\" points=\"\n",
       "  938.542,2768.14 938.542,140.752 \n",
       "  \"/>\n",
       "<polyline clip-path=\"url(#clip822)\" style=\"stroke:#000000; stroke-linecap:butt; stroke-linejoin:round; stroke-width:2; stroke-opacity:0.1; fill:none\" points=\"\n",
       "  1520.76,2768.14 1520.76,140.752 \n",
       "  \"/>\n",
       "<polyline clip-path=\"url(#clip822)\" style=\"stroke:#000000; stroke-linecap:butt; stroke-linejoin:round; stroke-width:2; stroke-opacity:0.1; fill:none\" points=\"\n",
       "  2102.98,2768.14 2102.98,140.752 \n",
       "  \"/>\n",
       "<polyline clip-path=\"url(#clip822)\" style=\"stroke:#000000; stroke-linecap:butt; stroke-linejoin:round; stroke-width:2; stroke-opacity:0.1; fill:none\" points=\"\n",
       "  2685.19,2768.14 2685.19,140.752 \n",
       "  \"/>\n",
       "<polyline clip-path=\"url(#clip820)\" style=\"stroke:#000000; stroke-linecap:butt; stroke-linejoin:round; stroke-width:4; stroke-opacity:1; fill:none\" points=\"\n",
       "  205.205,2768.14 2952.76,2768.14 \n",
       "  \"/>\n",
       "<polyline clip-path=\"url(#clip820)\" style=\"stroke:#000000; stroke-linecap:butt; stroke-linejoin:round; stroke-width:4; stroke-opacity:1; fill:none\" points=\"\n",
       "  356.325,2768.14 356.325,2736.61 \n",
       "  \"/>\n",
       "<polyline clip-path=\"url(#clip820)\" style=\"stroke:#000000; stroke-linecap:butt; stroke-linejoin:round; stroke-width:4; stroke-opacity:1; fill:none\" points=\"\n",
       "  938.542,2768.14 938.542,2736.61 \n",
       "  \"/>\n",
       "<polyline clip-path=\"url(#clip820)\" style=\"stroke:#000000; stroke-linecap:butt; stroke-linejoin:round; stroke-width:4; stroke-opacity:1; fill:none\" points=\"\n",
       "  1520.76,2768.14 1520.76,2736.61 \n",
       "  \"/>\n",
       "<polyline clip-path=\"url(#clip820)\" style=\"stroke:#000000; stroke-linecap:butt; stroke-linejoin:round; stroke-width:4; stroke-opacity:1; fill:none\" points=\"\n",
       "  2102.98,2768.14 2102.98,2736.61 \n",
       "  \"/>\n",
       "<polyline clip-path=\"url(#clip820)\" style=\"stroke:#000000; stroke-linecap:butt; stroke-linejoin:round; stroke-width:4; stroke-opacity:1; fill:none\" points=\"\n",
       "  2685.19,2768.14 2685.19,2736.61 \n",
       "  \"/>\n",
       "<path clip-path=\"url(#clip820)\" d=\"M327.564 2829.68 L343.883 2829.68 L343.883 2833.61 L321.939 2833.61 L321.939 2829.68 Q324.601 2826.92 329.184 2822.29 Q333.791 2817.64 334.971 2816.3 Q337.217 2813.77 338.096 2812.04 Q338.999 2810.28 338.999 2808.59 Q338.999 2805.83 337.055 2804.1 Q335.133 2802.36 332.032 2802.36 Q329.832 2802.36 327.379 2803.13 Q324.948 2803.89 322.17 2805.44 L322.17 2800.72 Q324.995 2799.58 327.448 2799.01 Q329.902 2798.43 331.939 2798.43 Q337.309 2798.43 340.504 2801.11 Q343.698 2803.8 343.698 2808.29 Q343.698 2810.42 342.888 2812.34 Q342.101 2814.24 339.994 2816.83 Q339.416 2817.5 336.314 2820.72 Q333.212 2823.91 327.564 2829.68 Z\" fill=\"#000000\" fill-rule=\"evenodd\" fill-opacity=\"1\" /><path clip-path=\"url(#clip820)\" d=\"M353.698 2827.73 L358.582 2827.73 L358.582 2833.61 L353.698 2833.61 L353.698 2827.73 Z\" fill=\"#000000\" fill-rule=\"evenodd\" fill-opacity=\"1\" /><path clip-path=\"url(#clip820)\" d=\"M378.767 2802.13 Q375.156 2802.13 373.328 2805.7 Q371.522 2809.24 371.522 2816.37 Q371.522 2823.47 373.328 2827.04 Q375.156 2830.58 378.767 2830.58 Q382.402 2830.58 384.207 2827.04 Q386.036 2823.47 386.036 2816.37 Q386.036 2809.24 384.207 2805.7 Q382.402 2802.13 378.767 2802.13 M378.767 2798.43 Q384.578 2798.43 387.633 2803.03 Q390.712 2807.62 390.712 2816.37 Q390.712 2825.09 387.633 2829.7 Q384.578 2834.28 378.767 2834.28 Q372.957 2834.28 369.879 2829.7 Q366.823 2825.09 366.823 2816.37 Q366.823 2807.62 369.879 2803.03 Q372.957 2798.43 378.767 2798.43 Z\" fill=\"#000000\" fill-rule=\"evenodd\" fill-opacity=\"1\" /><path clip-path=\"url(#clip820)\" d=\"M910.278 2829.68 L926.598 2829.68 L926.598 2833.61 L904.653 2833.61 L904.653 2829.68 Q907.315 2826.92 911.899 2822.29 Q916.505 2817.64 917.686 2816.3 Q919.931 2813.77 920.811 2812.04 Q921.714 2810.28 921.714 2808.59 Q921.714 2805.83 919.769 2804.1 Q917.848 2802.36 914.746 2802.36 Q912.547 2802.36 910.093 2803.13 Q907.663 2803.89 904.885 2805.44 L904.885 2800.72 Q907.709 2799.58 910.163 2799.01 Q912.616 2798.43 914.653 2798.43 Q920.024 2798.43 923.218 2801.11 Q926.413 2803.8 926.413 2808.29 Q926.413 2810.42 925.602 2812.34 Q924.815 2814.24 922.709 2816.83 Q922.13 2817.5 919.028 2820.72 Q915.927 2823.91 910.278 2829.68 Z\" fill=\"#000000\" fill-rule=\"evenodd\" fill-opacity=\"1\" /><path clip-path=\"url(#clip820)\" d=\"M936.413 2827.73 L941.297 2827.73 L941.297 2833.61 L936.413 2833.61 L936.413 2827.73 Z\" fill=\"#000000\" fill-rule=\"evenodd\" fill-opacity=\"1\" /><path clip-path=\"url(#clip820)\" d=\"M951.528 2799.05 L969.885 2799.05 L969.885 2802.99 L955.811 2802.99 L955.811 2811.46 Q956.829 2811.11 957.848 2810.95 Q958.866 2810.76 959.885 2810.76 Q965.672 2810.76 969.051 2813.94 Q972.431 2817.11 972.431 2822.52 Q972.431 2828.1 968.959 2831.2 Q965.486 2834.28 959.167 2834.28 Q956.991 2834.28 954.723 2833.91 Q952.477 2833.54 950.07 2832.8 L950.07 2828.1 Q952.153 2829.24 954.375 2829.79 Q956.598 2830.35 959.074 2830.35 Q963.079 2830.35 965.417 2828.24 Q967.755 2826.14 967.755 2822.52 Q967.755 2818.91 965.417 2816.81 Q963.079 2814.7 959.074 2814.7 Q957.199 2814.7 955.324 2815.12 Q953.473 2815.53 951.528 2816.41 L951.528 2799.05 Z\" fill=\"#000000\" fill-rule=\"evenodd\" fill-opacity=\"1\" /><path clip-path=\"url(#clip820)\" d=\"M1502.07 2814.98 Q1505.42 2815.7 1507.3 2817.96 Q1509.2 2820.23 1509.2 2823.57 Q1509.2 2828.68 1505.68 2831.48 Q1502.16 2834.28 1495.68 2834.28 Q1493.5 2834.28 1491.19 2833.84 Q1488.9 2833.43 1486.44 2832.57 L1486.44 2828.06 Q1488.39 2829.19 1490.7 2829.77 Q1493.02 2830.35 1495.54 2830.35 Q1499.94 2830.35 1502.23 2828.61 Q1504.54 2826.88 1504.54 2823.57 Q1504.54 2820.51 1502.39 2818.8 Q1500.26 2817.06 1496.44 2817.06 L1492.41 2817.06 L1492.41 2813.22 L1496.63 2813.22 Q1500.08 2813.22 1501.9 2811.85 Q1503.73 2810.46 1503.73 2807.87 Q1503.73 2805.21 1501.84 2803.8 Q1499.96 2802.36 1496.44 2802.36 Q1494.52 2802.36 1492.32 2802.78 Q1490.12 2803.2 1487.48 2804.07 L1487.48 2799.91 Q1490.15 2799.17 1492.46 2798.8 Q1494.8 2798.43 1496.86 2798.43 Q1502.18 2798.43 1505.28 2800.86 Q1508.39 2803.26 1508.39 2807.39 Q1508.39 2810.26 1506.74 2812.25 Q1505.1 2814.21 1502.07 2814.98 Z\" fill=\"#000000\" fill-rule=\"evenodd\" fill-opacity=\"1\" /><path clip-path=\"url(#clip820)\" d=\"M1518.06 2827.73 L1522.95 2827.73 L1522.95 2833.61 L1518.06 2833.61 L1518.06 2827.73 Z\" fill=\"#000000\" fill-rule=\"evenodd\" fill-opacity=\"1\" /><path clip-path=\"url(#clip820)\" d=\"M1543.13 2802.13 Q1539.52 2802.13 1537.69 2805.7 Q1535.89 2809.24 1535.89 2816.37 Q1535.89 2823.47 1537.69 2827.04 Q1539.52 2830.58 1543.13 2830.58 Q1546.77 2830.58 1548.57 2827.04 Q1550.4 2823.47 1550.4 2816.37 Q1550.4 2809.24 1548.57 2805.7 Q1546.77 2802.13 1543.13 2802.13 M1543.13 2798.43 Q1548.94 2798.43 1552 2803.03 Q1555.08 2807.62 1555.08 2816.37 Q1555.08 2825.09 1552 2829.7 Q1548.94 2834.28 1543.13 2834.28 Q1537.32 2834.28 1534.24 2829.7 Q1531.19 2825.09 1531.19 2816.37 Q1531.19 2807.62 1534.24 2803.03 Q1537.32 2798.43 1543.13 2798.43 Z\" fill=\"#000000\" fill-rule=\"evenodd\" fill-opacity=\"1\" /><path clip-path=\"url(#clip820)\" d=\"M2084.78 2814.98 Q2088.14 2815.7 2090.01 2817.96 Q2091.91 2820.23 2091.91 2823.57 Q2091.91 2828.68 2088.39 2831.48 Q2084.87 2834.28 2078.39 2834.28 Q2076.22 2834.28 2073.9 2833.84 Q2071.61 2833.43 2069.16 2832.57 L2069.16 2828.06 Q2071.1 2829.19 2073.42 2829.77 Q2075.73 2830.35 2078.25 2830.35 Q2082.65 2830.35 2084.94 2828.61 Q2087.26 2826.88 2087.26 2823.57 Q2087.26 2820.51 2085.11 2818.8 Q2082.98 2817.06 2079.16 2817.06 L2075.13 2817.06 L2075.13 2813.22 L2079.34 2813.22 Q2082.79 2813.22 2084.62 2811.85 Q2086.45 2810.46 2086.45 2807.87 Q2086.45 2805.21 2084.55 2803.8 Q2082.67 2802.36 2079.16 2802.36 Q2077.24 2802.36 2075.04 2802.78 Q2072.84 2803.2 2070.2 2804.07 L2070.2 2799.91 Q2072.86 2799.17 2075.17 2798.8 Q2077.51 2798.43 2079.57 2798.43 Q2084.9 2798.43 2088 2800.86 Q2091.1 2803.26 2091.1 2807.39 Q2091.1 2810.26 2089.46 2812.25 Q2087.81 2814.21 2084.78 2814.98 Z\" fill=\"#000000\" fill-rule=\"evenodd\" fill-opacity=\"1\" /><path clip-path=\"url(#clip820)\" d=\"M2100.78 2827.73 L2105.66 2827.73 L2105.66 2833.61 L2100.78 2833.61 L2100.78 2827.73 Z\" fill=\"#000000\" fill-rule=\"evenodd\" fill-opacity=\"1\" /><path clip-path=\"url(#clip820)\" d=\"M2115.89 2799.05 L2134.25 2799.05 L2134.25 2802.99 L2120.17 2802.99 L2120.17 2811.46 Q2121.19 2811.11 2122.21 2810.95 Q2123.23 2810.76 2124.25 2810.76 Q2130.04 2810.76 2133.42 2813.94 Q2136.79 2817.11 2136.79 2822.52 Q2136.79 2828.1 2133.32 2831.2 Q2129.85 2834.28 2123.53 2834.28 Q2121.36 2834.28 2119.09 2833.91 Q2116.84 2833.54 2114.43 2832.8 L2114.43 2828.1 Q2116.52 2829.24 2118.74 2829.79 Q2120.96 2830.35 2123.44 2830.35 Q2127.44 2830.35 2129.78 2828.24 Q2132.12 2826.14 2132.12 2822.52 Q2132.12 2818.91 2129.78 2816.81 Q2127.44 2814.7 2123.44 2814.7 Q2121.56 2814.7 2119.69 2815.12 Q2117.84 2815.53 2115.89 2816.41 L2115.89 2799.05 Z\" fill=\"#000000\" fill-rule=\"evenodd\" fill-opacity=\"1\" /><path clip-path=\"url(#clip820)\" d=\"M2665.83 2803.13 L2654.02 2821.57 L2665.83 2821.57 L2665.83 2803.13 M2664.6 2799.05 L2670.48 2799.05 L2670.48 2821.57 L2675.41 2821.57 L2675.41 2825.46 L2670.48 2825.46 L2670.48 2833.61 L2665.83 2833.61 L2665.83 2825.46 L2650.23 2825.46 L2650.23 2820.95 L2664.6 2799.05 Z\" fill=\"#000000\" fill-rule=\"evenodd\" fill-opacity=\"1\" /><path clip-path=\"url(#clip820)\" d=\"M2683.14 2827.73 L2688.03 2827.73 L2688.03 2833.61 L2683.14 2833.61 L2683.14 2827.73 Z\" fill=\"#000000\" fill-rule=\"evenodd\" fill-opacity=\"1\" /><path clip-path=\"url(#clip820)\" d=\"M2708.21 2802.13 Q2704.6 2802.13 2702.77 2805.7 Q2700.97 2809.24 2700.97 2816.37 Q2700.97 2823.47 2702.77 2827.04 Q2704.6 2830.58 2708.21 2830.58 Q2711.85 2830.58 2713.65 2827.04 Q2715.48 2823.47 2715.48 2816.37 Q2715.48 2809.24 2713.65 2805.7 Q2711.85 2802.13 2708.21 2802.13 M2708.21 2798.43 Q2714.02 2798.43 2717.08 2803.03 Q2720.16 2807.62 2720.16 2816.37 Q2720.16 2825.09 2717.08 2829.7 Q2714.02 2834.28 2708.21 2834.28 Q2702.4 2834.28 2699.32 2829.7 Q2696.27 2825.09 2696.27 2816.37 Q2696.27 2807.62 2699.32 2803.03 Q2702.4 2798.43 2708.21 2798.43 Z\" fill=\"#000000\" fill-rule=\"evenodd\" fill-opacity=\"1\" /><path clip-path=\"url(#clip820)\" d=\"M1400.36 2874.48 L1440.56 2874.48 L1440.56 2879.89 L1423.69 2879.89 L1423.69 2922 L1417.23 2922 L1417.23 2879.89 L1400.36 2879.89 L1400.36 2874.48 Z\" fill=\"#000000\" fill-rule=\"evenodd\" fill-opacity=\"1\" /><path clip-path=\"url(#clip820)\" d=\"M1444.51 2886.36 L1450.36 2886.36 L1450.36 2922 L1444.51 2922 L1444.51 2886.36 M1444.51 2872.48 L1450.36 2872.48 L1450.36 2879.89 L1444.51 2879.89 L1444.51 2872.48 Z\" fill=\"#000000\" fill-rule=\"evenodd\" fill-opacity=\"1\" /><path clip-path=\"url(#clip820)\" d=\"M1490.37 2893.2 Q1492.57 2889.25 1495.62 2887.37 Q1498.68 2885.5 1502.81 2885.5 Q1508.38 2885.5 1511.41 2889.41 Q1514.43 2893.29 1514.43 2900.49 L1514.43 2922 L1508.54 2922 L1508.54 2900.68 Q1508.54 2895.55 1506.73 2893.07 Q1504.92 2890.59 1501.19 2890.59 Q1496.64 2890.59 1494 2893.61 Q1491.36 2896.64 1491.36 2901.86 L1491.36 2922 L1485.47 2922 L1485.47 2900.68 Q1485.47 2895.52 1483.65 2893.07 Q1481.84 2890.59 1478.05 2890.59 Q1473.56 2890.59 1470.92 2893.64 Q1468.28 2896.67 1468.28 2901.86 L1468.28 2922 L1462.39 2922 L1462.39 2886.36 L1468.28 2886.36 L1468.28 2891.89 Q1470.29 2888.62 1473.09 2887.06 Q1475.89 2885.5 1479.74 2885.5 Q1483.62 2885.5 1486.33 2887.47 Q1489.06 2889.44 1490.37 2893.2 Z\" fill=\"#000000\" fill-rule=\"evenodd\" fill-opacity=\"1\" /><path clip-path=\"url(#clip820)\" d=\"M1556.61 2902.72 L1556.61 2905.58 L1529.68 2905.58 Q1530.06 2911.63 1533.31 2914.81 Q1536.58 2917.96 1542.41 2917.96 Q1545.78 2917.96 1548.93 2917.13 Q1552.12 2916.31 1555.24 2914.65 L1555.24 2920.19 Q1552.09 2921.53 1548.78 2922.23 Q1545.47 2922.93 1542.06 2922.93 Q1533.53 2922.93 1528.53 2917.96 Q1523.57 2913 1523.57 2904.53 Q1523.57 2895.78 1528.28 2890.65 Q1533.02 2885.5 1541.04 2885.5 Q1548.23 2885.5 1552.4 2890.14 Q1556.61 2894.76 1556.61 2902.72 M1550.75 2901 Q1550.68 2896.19 1548.04 2893.33 Q1545.43 2890.46 1541.1 2890.46 Q1536.2 2890.46 1533.24 2893.23 Q1530.31 2896 1529.87 2901.03 L1550.75 2901 Z\" fill=\"#000000\" fill-rule=\"evenodd\" fill-opacity=\"1\" /><path clip-path=\"url(#clip820)\" d=\"M1592.73 2876.23 L1592.73 2886.36 L1604.79 2886.36 L1604.79 2890.91 L1592.73 2890.91 L1592.73 2910.26 Q1592.73 2914.62 1593.91 2915.86 Q1595.12 2917.1 1598.78 2917.1 L1604.79 2917.1 L1604.79 2922 L1598.78 2922 Q1592 2922 1589.42 2919.49 Q1586.84 2916.94 1586.84 2910.26 L1586.84 2890.91 L1582.55 2890.91 L1582.55 2886.36 L1586.84 2886.36 L1586.84 2876.23 L1592.73 2876.23 Z\" fill=\"#000000\" fill-rule=\"evenodd\" fill-opacity=\"1\" /><path clip-path=\"url(#clip820)\" d=\"M1628.7 2904.08 Q1621.6 2904.08 1618.86 2905.71 Q1616.12 2907.33 1616.12 2911.25 Q1616.12 2914.36 1618.16 2916.21 Q1620.23 2918.03 1623.76 2918.03 Q1628.63 2918.03 1631.56 2914.59 Q1634.52 2911.12 1634.52 2905.39 L1634.52 2904.08 L1628.7 2904.08 M1640.38 2901.67 L1640.38 2922 L1634.52 2922 L1634.52 2916.59 Q1632.52 2919.84 1629.52 2921.4 Q1626.53 2922.93 1622.2 2922.93 Q1616.73 2922.93 1613.48 2919.87 Q1610.27 2916.78 1610.27 2911.63 Q1610.27 2905.61 1614.28 2902.56 Q1618.32 2899.5 1626.31 2899.5 L1634.52 2899.5 L1634.52 2898.93 Q1634.52 2894.89 1631.85 2892.69 Q1629.21 2890.46 1624.4 2890.46 Q1621.34 2890.46 1618.45 2891.19 Q1615.55 2891.93 1612.88 2893.39 L1612.88 2887.98 Q1616.09 2886.74 1619.12 2886.13 Q1622.14 2885.5 1625 2885.5 Q1632.74 2885.5 1636.56 2889.51 Q1640.38 2893.52 1640.38 2901.67 Z\" fill=\"#000000\" fill-rule=\"evenodd\" fill-opacity=\"1\" /><path clip-path=\"url(#clip820)\" d=\"M1652.22 2872.48 L1658.11 2872.48 L1658.11 2901.73 L1675.58 2886.36 L1683.06 2886.36 L1664.15 2903.03 L1683.86 2922 L1676.22 2922 L1658.11 2904.59 L1658.11 2922 L1652.22 2922 L1652.22 2872.48 Z\" fill=\"#000000\" fill-rule=\"evenodd\" fill-opacity=\"1\" /><path clip-path=\"url(#clip820)\" d=\"M1718.36 2902.72 L1718.36 2905.58 L1691.43 2905.58 Q1691.81 2911.63 1695.06 2914.81 Q1698.34 2917.96 1704.16 2917.96 Q1707.54 2917.96 1710.69 2917.13 Q1713.87 2916.31 1716.99 2914.65 L1716.99 2920.19 Q1713.84 2921.53 1710.53 2922.23 Q1707.22 2922.93 1703.81 2922.93 Q1695.28 2922.93 1690.28 2917.96 Q1685.32 2913 1685.32 2904.53 Q1685.32 2895.78 1690.03 2890.65 Q1694.77 2885.5 1702.79 2885.5 Q1709.99 2885.5 1714.16 2890.14 Q1718.36 2894.76 1718.36 2902.72 M1712.5 2901 Q1712.44 2896.19 1709.8 2893.33 Q1707.19 2890.46 1702.86 2890.46 Q1697.96 2890.46 1695 2893.23 Q1692.07 2896 1691.62 2901.03 L1712.5 2901 Z\" fill=\"#000000\" fill-rule=\"evenodd\" fill-opacity=\"1\" /><path clip-path=\"url(#clip820)\" d=\"M1757.6 2900.49 L1757.6 2922 L1751.75 2922 L1751.75 2900.68 Q1751.75 2895.62 1749.77 2893.1 Q1747.8 2890.59 1743.85 2890.59 Q1739.11 2890.59 1736.37 2893.61 Q1733.64 2896.64 1733.64 2901.86 L1733.64 2922 L1727.75 2922 L1727.75 2886.36 L1733.64 2886.36 L1733.64 2891.89 Q1735.74 2888.68 1738.57 2887.09 Q1741.43 2885.5 1745.16 2885.5 Q1751.3 2885.5 1754.45 2889.32 Q1757.6 2893.1 1757.6 2900.49 Z\" fill=\"#000000\" fill-rule=\"evenodd\" fill-opacity=\"1\" /><polyline clip-path=\"url(#clip822)\" style=\"stroke:#000000; stroke-linecap:butt; stroke-linejoin:round; stroke-width:2; stroke-opacity:0.1; fill:none\" points=\"\n",
       "  205.205,2693.78 2952.76,2693.78 \n",
       "  \"/>\n",
       "<polyline clip-path=\"url(#clip822)\" style=\"stroke:#000000; stroke-linecap:butt; stroke-linejoin:round; stroke-width:2; stroke-opacity:0.1; fill:none\" points=\"\n",
       "  205.205,2198.05 2952.76,2198.05 \n",
       "  \"/>\n",
       "<polyline clip-path=\"url(#clip822)\" style=\"stroke:#000000; stroke-linecap:butt; stroke-linejoin:round; stroke-width:2; stroke-opacity:0.1; fill:none\" points=\"\n",
       "  205.205,1702.31 2952.76,1702.31 \n",
       "  \"/>\n",
       "<polyline clip-path=\"url(#clip822)\" style=\"stroke:#000000; stroke-linecap:butt; stroke-linejoin:round; stroke-width:2; stroke-opacity:0.1; fill:none\" points=\"\n",
       "  205.205,1206.58 2952.76,1206.58 \n",
       "  \"/>\n",
       "<polyline clip-path=\"url(#clip822)\" style=\"stroke:#000000; stroke-linecap:butt; stroke-linejoin:round; stroke-width:2; stroke-opacity:0.1; fill:none\" points=\"\n",
       "  205.205,710.846 2952.76,710.846 \n",
       "  \"/>\n",
       "<polyline clip-path=\"url(#clip822)\" style=\"stroke:#000000; stroke-linecap:butt; stroke-linejoin:round; stroke-width:2; stroke-opacity:0.1; fill:none\" points=\"\n",
       "  205.205,215.112 2952.76,215.112 \n",
       "  \"/>\n",
       "<polyline clip-path=\"url(#clip820)\" style=\"stroke:#000000; stroke-linecap:butt; stroke-linejoin:round; stroke-width:4; stroke-opacity:1; fill:none\" points=\"\n",
       "  205.205,2768.14 205.205,140.752 \n",
       "  \"/>\n",
       "<polyline clip-path=\"url(#clip820)\" style=\"stroke:#000000; stroke-linecap:butt; stroke-linejoin:round; stroke-width:4; stroke-opacity:1; fill:none\" points=\"\n",
       "  205.205,2693.78 238.176,2693.78 \n",
       "  \"/>\n",
       "<polyline clip-path=\"url(#clip820)\" style=\"stroke:#000000; stroke-linecap:butt; stroke-linejoin:round; stroke-width:4; stroke-opacity:1; fill:none\" points=\"\n",
       "  205.205,2198.05 238.176,2198.05 \n",
       "  \"/>\n",
       "<polyline clip-path=\"url(#clip820)\" style=\"stroke:#000000; stroke-linecap:butt; stroke-linejoin:round; stroke-width:4; stroke-opacity:1; fill:none\" points=\"\n",
       "  205.205,1702.31 238.176,1702.31 \n",
       "  \"/>\n",
       "<polyline clip-path=\"url(#clip820)\" style=\"stroke:#000000; stroke-linecap:butt; stroke-linejoin:round; stroke-width:4; stroke-opacity:1; fill:none\" points=\"\n",
       "  205.205,1206.58 238.176,1206.58 \n",
       "  \"/>\n",
       "<polyline clip-path=\"url(#clip820)\" style=\"stroke:#000000; stroke-linecap:butt; stroke-linejoin:round; stroke-width:4; stroke-opacity:1; fill:none\" points=\"\n",
       "  205.205,710.846 238.176,710.846 \n",
       "  \"/>\n",
       "<polyline clip-path=\"url(#clip820)\" style=\"stroke:#000000; stroke-linecap:butt; stroke-linejoin:round; stroke-width:4; stroke-opacity:1; fill:none\" points=\"\n",
       "  205.205,215.112 238.176,215.112 \n",
       "  \"/>\n",
       "<path clip-path=\"url(#clip820)\" d=\"M148.261 2679.58 Q144.65 2679.58 142.821 2683.14 Q141.015 2686.68 141.015 2693.81 Q141.015 2700.92 142.821 2704.49 Q144.65 2708.03 148.261 2708.03 Q151.895 2708.03 153.701 2704.49 Q155.529 2700.92 155.529 2693.81 Q155.529 2686.68 153.701 2683.14 Q151.895 2679.58 148.261 2679.58 M148.261 2675.87 Q154.071 2675.87 157.127 2680.48 Q160.205 2685.06 160.205 2693.81 Q160.205 2702.54 157.127 2707.15 Q154.071 2711.73 148.261 2711.73 Q142.451 2711.73 139.372 2707.15 Q136.316 2702.54 136.316 2693.81 Q136.316 2685.06 139.372 2680.48 Q142.451 2675.87 148.261 2675.87 Z\" fill=\"#000000\" fill-rule=\"evenodd\" fill-opacity=\"1\" /><path clip-path=\"url(#clip820)\" d=\"M140.298 2211.39 L147.937 2211.39 L147.937 2185.03 L139.627 2186.69 L139.627 2182.43 L147.89 2180.77 L152.566 2180.77 L152.566 2211.39 L160.205 2211.39 L160.205 2215.33 L140.298 2215.33 L140.298 2211.39 Z\" fill=\"#000000\" fill-rule=\"evenodd\" fill-opacity=\"1\" /><path clip-path=\"url(#clip820)\" d=\"M143.886 1715.66 L160.205 1715.66 L160.205 1719.59 L138.261 1719.59 L138.261 1715.66 Q140.923 1712.9 145.506 1708.27 Q150.113 1703.62 151.293 1702.28 Q153.539 1699.75 154.418 1698.02 Q155.321 1696.26 155.321 1694.57 Q155.321 1691.82 153.377 1690.08 Q151.455 1688.34 148.353 1688.34 Q146.154 1688.34 143.701 1689.11 Q141.27 1689.87 138.492 1691.42 L138.492 1686.7 Q141.316 1685.57 143.77 1684.99 Q146.224 1684.41 148.261 1684.41 Q153.631 1684.41 156.826 1687.09 Q160.02 1689.78 160.02 1694.27 Q160.02 1696.4 159.21 1698.32 Q158.423 1700.22 156.316 1702.81 Q155.738 1703.48 152.636 1706.7 Q149.534 1709.89 143.886 1715.66 Z\" fill=\"#000000\" fill-rule=\"evenodd\" fill-opacity=\"1\" /><path clip-path=\"url(#clip820)\" d=\"M153.076 1205.23 Q156.432 1205.94 158.307 1208.21 Q160.205 1210.48 160.205 1213.81 Q160.205 1218.93 156.687 1221.73 Q153.168 1224.53 146.687 1224.53 Q144.511 1224.53 142.196 1224.09 Q139.904 1223.67 137.451 1222.82 L137.451 1218.3 Q139.395 1219.44 141.71 1220.02 Q144.025 1220.6 146.548 1220.6 Q150.946 1220.6 153.238 1218.86 Q155.552 1217.12 155.552 1213.81 Q155.552 1210.76 153.4 1209.04 Q151.27 1207.31 147.451 1207.31 L143.423 1207.31 L143.423 1203.47 L147.636 1203.47 Q151.085 1203.47 152.914 1202.1 Q154.742 1200.71 154.742 1198.12 Q154.742 1195.46 152.844 1194.04 Q150.969 1192.61 147.451 1192.61 Q145.529 1192.61 143.33 1193.03 Q141.131 1193.44 138.492 1194.32 L138.492 1190.16 Q141.154 1189.41 143.469 1189.04 Q145.807 1188.67 147.867 1188.67 Q153.191 1188.67 156.293 1191.1 Q159.395 1193.51 159.395 1197.63 Q159.395 1200.5 157.752 1202.49 Q156.108 1204.46 153.076 1205.23 Z\" fill=\"#000000\" fill-rule=\"evenodd\" fill-opacity=\"1\" /><path clip-path=\"url(#clip820)\" d=\"M150.622 697.64 L138.816 716.089 L150.622 716.089 L150.622 697.64 M149.395 693.566 L155.275 693.566 L155.275 716.089 L160.205 716.089 L160.205 719.978 L155.275 719.978 L155.275 728.126 L150.622 728.126 L150.622 719.978 L135.02 719.978 L135.02 715.464 L149.395 693.566 Z\" fill=\"#000000\" fill-rule=\"evenodd\" fill-opacity=\"1\" /><path clip-path=\"url(#clip820)\" d=\"M139.303 197.832 L157.659 197.832 L157.659 201.767 L143.585 201.767 L143.585 210.239 Q144.603 209.892 145.622 209.73 Q146.64 209.545 147.659 209.545 Q153.446 209.545 156.826 212.716 Q160.205 215.888 160.205 221.304 Q160.205 226.883 156.733 229.985 Q153.261 233.063 146.941 233.063 Q144.765 233.063 142.497 232.693 Q140.252 232.323 137.844 231.582 L137.844 226.883 Q139.928 228.017 142.15 228.573 Q144.372 229.128 146.849 229.128 Q150.853 229.128 153.191 227.022 Q155.529 224.915 155.529 221.304 Q155.529 217.693 153.191 215.587 Q150.853 213.48 146.849 213.48 Q144.974 213.48 143.099 213.897 Q141.247 214.314 139.303 215.193 L139.303 197.832 Z\" fill=\"#000000\" fill-rule=\"evenodd\" fill-opacity=\"1\" /><path clip-path=\"url(#clip820)\" d=\"M31.9044 1526.47 L38.6839 1526.47 Q35.6602 1529.72 34.1643 1533.41 Q32.6683 1537.07 32.6683 1541.21 Q32.6683 1549.36 37.6654 1553.69 Q42.6307 1558.02 52.0519 1558.02 Q61.4413 1558.02 66.4384 1553.69 Q71.4036 1549.36 71.4036 1541.21 Q71.4036 1537.07 69.9077 1533.41 Q68.4118 1529.72 65.3881 1526.47 L72.1039 1526.47 Q74.3955 1529.85 75.5414 1533.64 Q76.6872 1537.39 76.6872 1541.59 Q76.6872 1552.38 70.0987 1558.59 Q63.4783 1564.8 52.0519 1564.8 Q40.5936 1564.8 34.0051 1558.59 Q27.3848 1552.38 27.3848 1541.59 Q27.3848 1537.33 28.5306 1533.57 Q29.6446 1529.78 31.9044 1526.47 Z\" fill=\"#000000\" fill-rule=\"evenodd\" fill-opacity=\"1\" /><path clip-path=\"url(#clip820)\" d=\"M44.2221 1502.98 Q44.2221 1507.7 47.9142 1510.43 Q51.5745 1513.17 57.972 1513.17 Q64.3695 1513.17 68.0617 1510.46 Q71.7219 1507.73 71.7219 1502.98 Q71.7219 1498.31 68.0298 1495.57 Q64.3377 1492.83 57.972 1492.83 Q51.6381 1492.83 47.946 1495.57 Q44.2221 1498.31 44.2221 1502.98 M39.2568 1502.98 Q39.2568 1495.35 44.2221 1490.99 Q49.1873 1486.62 57.972 1486.62 Q66.7249 1486.62 71.7219 1490.99 Q76.6872 1495.35 76.6872 1502.98 Q76.6872 1510.66 71.7219 1515.02 Q66.7249 1519.34 57.972 1519.34 Q49.1873 1519.34 44.2221 1515.02 Q39.2568 1510.66 39.2568 1502.98 Z\" fill=\"#000000\" fill-rule=\"evenodd\" fill-opacity=\"1\" /><path clip-path=\"url(#clip820)\" d=\"M61.6959 1477.52 L40.1162 1477.52 L40.1162 1471.67 L61.4731 1471.67 Q66.5339 1471.67 69.0802 1469.69 Q71.5946 1467.72 71.5946 1463.77 Q71.5946 1459.03 68.5709 1456.29 Q65.5472 1453.52 60.3273 1453.52 L40.1162 1453.52 L40.1162 1447.67 L75.7642 1447.67 L75.7642 1453.52 L70.2896 1453.52 Q73.5362 1455.66 75.1276 1458.49 Q76.6872 1461.29 76.6872 1465.01 Q76.6872 1471.16 72.8678 1474.34 Q69.0483 1477.52 61.6959 1477.52 M39.2568 1462.79 L39.2568 1462.79 Z\" fill=\"#000000\" fill-rule=\"evenodd\" fill-opacity=\"1\" /><path clip-path=\"url(#clip820)\" d=\"M54.2481 1405.97 L75.7642 1405.97 L75.7642 1411.83 L54.439 1411.83 Q49.3783 1411.83 46.8638 1413.8 Q44.3494 1415.77 44.3494 1419.72 Q44.3494 1424.46 47.3731 1427.2 Q50.3968 1429.94 55.6167 1429.94 L75.7642 1429.94 L75.7642 1435.83 L40.1162 1435.83 L40.1162 1429.94 L45.6544 1429.94 Q42.4397 1427.84 40.8483 1425 Q39.2568 1422.14 39.2568 1418.42 Q39.2568 1412.27 43.0763 1409.12 Q46.8638 1405.97 54.2481 1405.97 Z\" fill=\"#000000\" fill-rule=\"evenodd\" fill-opacity=\"1\" /><path clip-path=\"url(#clip820)\" d=\"M29.9947 1388.5 L40.1162 1388.5 L40.1162 1376.43 L44.6677 1376.43 L44.6677 1388.5 L64.0194 1388.5 Q68.3799 1388.5 69.6213 1387.32 Q70.8626 1386.11 70.8626 1382.45 L70.8626 1376.43 L75.7642 1376.43 L75.7642 1382.45 Q75.7642 1389.23 73.2497 1391.81 Q70.7034 1394.39 64.0194 1394.39 L44.6677 1394.39 L44.6677 1398.68 L40.1162 1398.68 L40.1162 1394.39 L29.9947 1394.39 L29.9947 1388.5 Z\" fill=\"#000000\" fill-rule=\"evenodd\" fill-opacity=\"1\" /><path clip-path=\"url(#clip820)\" d=\"M41.1665 1346.01 L46.7047 1346.01 Q45.4316 1348.49 44.795 1351.16 Q44.1584 1353.84 44.1584 1356.7 Q44.1584 1361.06 45.4952 1363.26 Q46.832 1365.42 49.5056 1365.42 Q51.5426 1365.42 52.7203 1363.86 Q53.8661 1362.3 54.9165 1357.59 L55.3621 1355.59 Q56.6989 1349.35 59.1497 1346.74 Q61.5686 1344.1 65.9291 1344.1 Q70.8944 1344.1 73.7908 1348.04 Q76.6872 1351.96 76.6872 1358.83 Q76.6872 1361.7 76.1143 1364.82 Q75.5732 1367.9 74.4592 1371.34 L68.4118 1371.34 Q70.0987 1368.1 70.958 1364.94 Q71.7856 1361.79 71.7856 1358.71 Q71.7856 1354.57 70.3851 1352.34 Q68.9529 1350.11 66.3747 1350.11 Q63.9876 1350.11 62.7145 1351.74 Q61.4413 1353.33 60.2637 1358.77 L59.7862 1360.81 Q58.6404 1366.25 56.2851 1368.67 Q53.898 1371.09 49.7602 1371.09 Q44.7313 1371.09 41.9941 1367.52 Q39.2568 1363.96 39.2568 1357.4 Q39.2568 1354.15 39.7343 1351.29 Q40.2117 1348.43 41.1665 1346.01 Z\" fill=\"#000000\" fill-rule=\"evenodd\" fill-opacity=\"1\" /><path clip-path=\"url(#clip820)\" d=\"M790.547 10.368 L834.401 10.368 L834.401 16.2707 L815.999 16.2707 L815.999 62.208 L808.95 62.208 L808.95 16.2707 L790.547 16.2707 L790.547 10.368 Z\" fill=\"#000000\" fill-rule=\"evenodd\" fill-opacity=\"1\" /><path clip-path=\"url(#clip820)\" d=\"M838.707 23.3193 L845.096 23.3193 L845.096 62.208 L838.707 62.208 L838.707 23.3193 M838.707 8.18051 L845.096 8.18051 L845.096 16.2707 L838.707 16.2707 L838.707 8.18051 Z\" fill=\"#000000\" fill-rule=\"evenodd\" fill-opacity=\"1\" /><path clip-path=\"url(#clip820)\" d=\"M888.741 30.7846 Q891.137 26.479 894.47 24.4304 Q897.804 22.3818 902.318 22.3818 Q908.394 22.3818 911.692 26.6526 Q914.991 30.8887 914.991 38.7359 L914.991 62.208 L908.567 62.208 L908.567 38.9442 Q908.567 33.354 906.588 30.6457 Q904.609 27.9374 900.547 27.9374 Q895.581 27.9374 892.7 31.2359 Q889.818 34.5345 889.818 40.229 L889.818 62.208 L883.394 62.208 L883.394 38.9442 Q883.394 33.3193 881.415 30.6457 Q879.436 27.9374 875.304 27.9374 Q870.408 27.9374 867.526 31.2707 Q864.644 34.5693 864.644 40.229 L864.644 62.208 L858.221 62.208 L858.221 23.3193 L864.644 23.3193 L864.644 29.361 Q866.832 25.7846 869.887 24.0832 Q872.943 22.3818 877.144 22.3818 Q881.38 22.3818 884.332 24.5346 Q887.318 26.6874 888.741 30.7846 Z\" fill=\"#000000\" fill-rule=\"evenodd\" fill-opacity=\"1\" /><path clip-path=\"url(#clip820)\" d=\"M960.998 41.1664 L960.998 44.2914 L931.623 44.2914 Q932.04 50.8886 935.581 54.3608 Q939.158 57.7983 945.512 57.7983 Q949.192 57.7983 952.63 56.8955 Q956.102 55.9928 959.505 54.1872 L959.505 60.2288 Q956.067 61.6872 952.456 62.4511 Q948.845 63.2149 945.13 63.2149 Q935.824 63.2149 930.373 57.7983 Q924.956 52.3817 924.956 43.1456 Q924.956 33.597 930.095 28.0068 Q935.269 22.3818 944.019 22.3818 Q951.866 22.3818 956.414 27.4512 Q960.998 32.4859 960.998 41.1664 M954.609 39.2915 Q954.539 34.0484 951.658 30.9234 Q948.81 27.7985 944.088 27.7985 Q938.741 27.7985 935.512 30.8193 Q932.317 33.8401 931.831 39.3262 L954.609 39.2915 Z\" fill=\"#000000\" fill-rule=\"evenodd\" fill-opacity=\"1\" /><path clip-path=\"url(#clip820)\" d=\"M1000.41 12.2777 L1000.41 23.3193 L1013.57 23.3193 L1013.57 28.2846 L1000.41 28.2846 L1000.41 49.3956 Q1000.41 54.1525 1001.69 55.5066 Q1003.01 56.8608 1007 56.8608 L1013.57 56.8608 L1013.57 62.208 L1007 62.208 Q999.609 62.208 996.796 59.465 Q993.984 56.6872 993.984 49.3956 L993.984 28.2846 L989.296 28.2846 L989.296 23.3193 L993.984 23.3193 L993.984 12.2777 L1000.41 12.2777 Z\" fill=\"#000000\" fill-rule=\"evenodd\" fill-opacity=\"1\" /><path clip-path=\"url(#clip820)\" d=\"M1039.64 42.6595 Q1031.9 42.6595 1028.91 44.4303 Q1025.93 46.2011 1025.93 50.472 Q1025.93 53.8747 1028.15 55.8886 Q1030.41 57.8677 1034.26 57.8677 Q1039.57 57.8677 1042.77 54.1178 Q1046 50.3331 1046 44.0831 L1046 42.6595 L1039.64 42.6595 M1052.39 40.0206 L1052.39 62.208 L1046 62.208 L1046 56.3053 Q1043.81 59.8469 1040.55 61.5483 Q1037.28 63.2149 1032.56 63.2149 Q1026.59 63.2149 1023.05 59.8816 Q1019.54 56.5136 1019.54 50.8886 Q1019.54 44.3262 1023.91 40.9928 Q1028.32 37.6595 1037.04 37.6595 L1046 37.6595 L1046 37.0345 Q1046 32.6248 1043.08 30.229 Q1040.2 27.7985 1034.96 27.7985 Q1031.62 27.7985 1028.46 28.5971 Q1025.3 29.3957 1022.39 30.9929 L1022.39 25.0901 Q1025.89 23.736 1029.19 23.0763 Q1032.49 22.3818 1035.62 22.3818 Q1044.05 22.3818 1048.22 26.7568 Q1052.39 31.1318 1052.39 40.0206 Z\" fill=\"#000000\" fill-rule=\"evenodd\" fill-opacity=\"1\" /><path clip-path=\"url(#clip820)\" d=\"M1065.3 8.18051 L1071.73 8.18051 L1071.73 40.0901 L1090.79 23.3193 L1098.95 23.3193 L1078.32 41.5137 L1099.82 62.208 L1091.48 62.208 L1071.73 43.215 L1071.73 62.208 L1065.3 62.208 L1065.3 8.18051 Z\" fill=\"#000000\" fill-rule=\"evenodd\" fill-opacity=\"1\" /><path clip-path=\"url(#clip820)\" d=\"M1137.46 41.1664 L1137.46 44.2914 L1108.08 44.2914 Q1108.5 50.8886 1112.04 54.3608 Q1115.61 57.7983 1121.97 57.7983 Q1125.65 57.7983 1129.09 56.8955 Q1132.56 55.9928 1135.96 54.1872 L1135.96 60.2288 Q1132.52 61.6872 1128.91 62.4511 Q1125.3 63.2149 1121.59 63.2149 Q1112.28 63.2149 1106.83 57.7983 Q1101.41 52.3817 1101.41 43.1456 Q1101.41 33.597 1106.55 28.0068 Q1111.73 22.3818 1120.48 22.3818 Q1128.32 22.3818 1132.87 27.4512 Q1137.46 32.4859 1137.46 41.1664 M1131.07 39.2915 Q1131 34.0484 1128.11 30.9234 Q1125.27 27.7985 1120.55 27.7985 Q1115.2 27.7985 1111.97 30.8193 Q1108.77 33.8401 1108.29 39.3262 L1131.07 39.2915 Z\" fill=\"#000000\" fill-rule=\"evenodd\" fill-opacity=\"1\" /><path clip-path=\"url(#clip820)\" d=\"M1180.27 38.7359 L1180.27 62.208 L1173.88 62.208 L1173.88 38.9442 Q1173.88 33.4234 1171.73 30.6804 Q1169.57 27.9374 1165.27 27.9374 Q1160.09 27.9374 1157.11 31.2359 Q1154.12 34.5345 1154.12 40.229 L1154.12 62.208 L1147.7 62.208 L1147.7 23.3193 L1154.12 23.3193 L1154.12 29.361 Q1156.41 25.854 1159.5 24.1179 Q1162.63 22.3818 1166.69 22.3818 Q1173.39 22.3818 1176.83 26.5485 Q1180.27 30.6804 1180.27 38.7359 Z\" fill=\"#000000\" fill-rule=\"evenodd\" fill-opacity=\"1\" /><path clip-path=\"url(#clip820)\" d=\"M1221.93 12.2777 L1221.93 23.3193 L1235.09 23.3193 L1235.09 28.2846 L1221.93 28.2846 L1221.93 49.3956 Q1221.93 54.1525 1223.22 55.5066 Q1224.54 56.8608 1228.53 56.8608 L1235.09 56.8608 L1235.09 62.208 L1228.53 62.208 Q1221.14 62.208 1218.32 59.465 Q1215.51 56.6872 1215.51 49.3956 L1215.51 28.2846 L1210.82 28.2846 L1210.82 23.3193 L1215.51 23.3193 L1215.51 12.2777 L1221.93 12.2777 Z\" fill=\"#000000\" fill-rule=\"evenodd\" fill-opacity=\"1\" /><path clip-path=\"url(#clip820)\" d=\"M1258.57 27.7985 Q1253.43 27.7985 1250.44 31.8262 Q1247.45 35.8193 1247.45 42.7984 Q1247.45 49.7775 1250.41 53.8053 Q1253.39 57.7983 1258.57 57.7983 Q1263.67 57.7983 1266.66 53.7705 Q1269.64 49.7428 1269.64 42.7984 Q1269.64 35.8887 1266.66 31.8609 Q1263.67 27.7985 1258.57 27.7985 M1258.57 22.3818 Q1266.9 22.3818 1271.66 27.7985 Q1276.41 33.2151 1276.41 42.7984 Q1276.41 52.3469 1271.66 57.7983 Q1266.9 63.2149 1258.57 63.2149 Q1250.2 63.2149 1245.44 57.7983 Q1240.72 52.3469 1240.72 42.7984 Q1240.72 33.2151 1245.44 27.7985 Q1250.2 22.3818 1258.57 22.3818 Z\" fill=\"#000000\" fill-rule=\"evenodd\" fill-opacity=\"1\" /><path clip-path=\"url(#clip820)\" d=\"M1337.52 42.7984 Q1337.52 35.7498 1334.61 31.7568 Q1331.72 27.729 1326.66 27.729 Q1321.59 27.729 1318.67 31.7568 Q1315.79 35.7498 1315.79 42.7984 Q1315.79 49.847 1318.67 53.8747 Q1321.59 57.8677 1326.66 57.8677 Q1331.72 57.8677 1334.61 53.8747 Q1337.52 49.847 1337.52 42.7984 M1315.79 29.2221 Q1317.8 25.7499 1320.86 24.0832 Q1323.95 22.3818 1328.22 22.3818 Q1335.3 22.3818 1339.71 28.0068 Q1344.16 33.6318 1344.16 42.7984 Q1344.16 51.965 1339.71 57.59 Q1335.3 63.2149 1328.22 63.2149 Q1323.95 63.2149 1320.86 61.5483 Q1317.8 59.8469 1315.79 56.3747 L1315.79 62.208 L1309.36 62.208 L1309.36 8.18051 L1315.79 8.18051 L1315.79 29.2221 Z\" fill=\"#000000\" fill-rule=\"evenodd\" fill-opacity=\"1\" /><path clip-path=\"url(#clip820)\" d=\"M1388.01 41.1664 L1388.01 44.2914 L1358.63 44.2914 Q1359.05 50.8886 1362.59 54.3608 Q1366.17 57.7983 1372.52 57.7983 Q1376.2 57.7983 1379.64 56.8955 Q1383.11 55.9928 1386.52 54.1872 L1386.52 60.2288 Q1383.08 61.6872 1379.47 62.4511 Q1375.86 63.2149 1372.14 63.2149 Q1362.84 63.2149 1357.38 57.7983 Q1351.97 52.3817 1351.97 43.1456 Q1351.97 33.597 1357.11 28.0068 Q1362.28 22.3818 1371.03 22.3818 Q1378.88 22.3818 1383.43 27.4512 Q1388.01 32.4859 1388.01 41.1664 M1381.62 39.2915 Q1381.55 34.0484 1378.67 30.9234 Q1375.82 27.7985 1371.1 27.7985 Q1365.75 27.7985 1362.52 30.8193 Q1359.33 33.8401 1358.84 39.3262 L1381.62 39.2915 Z\" fill=\"#000000\" fill-rule=\"evenodd\" fill-opacity=\"1\" /><path clip-path=\"url(#clip820)\" d=\"M1440.79 8.18051 L1440.79 13.493 L1434.68 13.493 Q1431.24 13.493 1429.88 14.8819 Q1428.56 16.2707 1428.56 19.8818 L1428.56 23.3193 L1439.09 23.3193 L1439.09 28.2846 L1428.56 28.2846 L1428.56 62.208 L1422.14 62.208 L1422.14 28.2846 L1416.03 28.2846 L1416.03 23.3193 L1422.14 23.3193 L1422.14 20.611 Q1422.14 14.118 1425.16 11.1666 Q1428.18 8.18051 1434.75 8.18051 L1440.79 8.18051 Z\" fill=\"#000000\" fill-rule=\"evenodd\" fill-opacity=\"1\" /><path clip-path=\"url(#clip820)\" d=\"M1461.2 27.7985 Q1456.06 27.7985 1453.08 31.8262 Q1450.09 35.8193 1450.09 42.7984 Q1450.09 49.7775 1453.04 53.8053 Q1456.03 57.7983 1461.2 57.7983 Q1466.31 57.7983 1469.29 53.7705 Q1472.28 49.7428 1472.28 42.7984 Q1472.28 35.8887 1469.29 31.8609 Q1466.31 27.7985 1461.2 27.7985 M1461.2 22.3818 Q1469.54 22.3818 1474.29 27.7985 Q1479.05 33.2151 1479.05 42.7984 Q1479.05 52.3469 1474.29 57.7983 Q1469.54 63.2149 1461.2 63.2149 Q1452.84 63.2149 1448.08 57.7983 Q1443.36 52.3469 1443.36 42.7984 Q1443.36 33.2151 1448.08 27.7985 Q1452.84 22.3818 1461.2 22.3818 Z\" fill=\"#000000\" fill-rule=\"evenodd\" fill-opacity=\"1\" /><path clip-path=\"url(#clip820)\" d=\"M1512.18 29.2915 Q1511.1 28.6665 1509.81 28.3887 Q1508.56 28.0762 1507.04 28.0762 Q1501.62 28.0762 1498.7 31.6179 Q1495.82 35.1248 1495.82 41.722 L1495.82 62.208 L1489.4 62.208 L1489.4 23.3193 L1495.82 23.3193 L1495.82 29.361 Q1497.84 25.8193 1501.06 24.1179 Q1504.29 22.3818 1508.91 22.3818 Q1509.57 22.3818 1510.37 22.486 Q1511.17 22.5554 1512.14 22.729 L1512.18 29.2915 Z\" fill=\"#000000\" fill-rule=\"evenodd\" fill-opacity=\"1\" /><path clip-path=\"url(#clip820)\" d=\"M1571.76 30.7846 Q1574.15 26.479 1577.49 24.4304 Q1580.82 22.3818 1585.33 22.3818 Q1591.41 22.3818 1594.71 26.6526 Q1598.01 30.8887 1598.01 38.7359 L1598.01 62.208 L1591.58 62.208 L1591.58 38.9442 Q1591.58 33.354 1589.61 30.6457 Q1587.63 27.9374 1583.56 27.9374 Q1578.6 27.9374 1575.72 31.2359 Q1572.83 34.5345 1572.83 40.229 L1572.83 62.208 L1566.41 62.208 L1566.41 38.9442 Q1566.41 33.3193 1564.43 30.6457 Q1562.45 27.9374 1558.32 27.9374 Q1553.43 27.9374 1550.54 31.2707 Q1547.66 34.5693 1547.66 40.229 L1547.66 62.208 L1541.24 62.208 L1541.24 23.3193 L1547.66 23.3193 L1547.66 29.361 Q1549.85 25.7846 1552.9 24.0832 Q1555.96 22.3818 1560.16 22.3818 Q1564.4 22.3818 1567.35 24.5346 Q1570.33 26.6874 1571.76 30.7846 Z\" fill=\"#000000\" fill-rule=\"evenodd\" fill-opacity=\"1\" /><path clip-path=\"url(#clip820)\" d=\"M1628.42 42.6595 Q1620.68 42.6595 1617.7 44.4303 Q1614.71 46.2011 1614.71 50.472 Q1614.71 53.8747 1616.93 55.8886 Q1619.19 57.8677 1623.04 57.8677 Q1628.36 57.8677 1631.55 54.1178 Q1634.78 50.3331 1634.78 44.0831 L1634.78 42.6595 L1628.42 42.6595 M1641.17 40.0206 L1641.17 62.208 L1634.78 62.208 L1634.78 56.3053 Q1632.59 59.8469 1629.33 61.5483 Q1626.06 63.2149 1621.34 63.2149 Q1615.37 63.2149 1611.83 59.8816 Q1608.32 56.5136 1608.32 50.8886 Q1608.32 44.3262 1612.7 40.9928 Q1617.11 37.6595 1625.82 37.6595 L1634.78 37.6595 L1634.78 37.0345 Q1634.78 32.6248 1631.86 30.229 Q1628.98 27.7985 1623.74 27.7985 Q1620.4 27.7985 1617.24 28.5971 Q1614.08 29.3957 1611.17 30.9929 L1611.17 25.0901 Q1614.67 23.736 1617.97 23.0763 Q1621.27 22.3818 1624.4 22.3818 Q1632.83 22.3818 1637 26.7568 Q1641.17 31.1318 1641.17 40.0206 Z\" fill=\"#000000\" fill-rule=\"evenodd\" fill-opacity=\"1\" /><path clip-path=\"url(#clip820)\" d=\"M1654.33 23.3193 L1660.72 23.3193 L1660.72 62.208 L1654.33 62.208 L1654.33 23.3193 M1654.33 8.18051 L1660.72 8.18051 L1660.72 16.2707 L1654.33 16.2707 L1654.33 8.18051 Z\" fill=\"#000000\" fill-rule=\"evenodd\" fill-opacity=\"1\" /><path clip-path=\"url(#clip820)\" d=\"M1674.08 8.18051 L1680.47 8.18051 L1680.47 62.208 L1674.08 62.208 L1674.08 8.18051 Z\" fill=\"#000000\" fill-rule=\"evenodd\" fill-opacity=\"1\" /><path clip-path=\"url(#clip820)\" d=\"M1734.05 17.2777 L1724.54 43.0762 L1743.6 43.0762 L1734.05 17.2777 M1730.09 10.368 L1738.04 10.368 L1757.8 62.208 L1750.51 62.208 L1745.79 48.9095 L1722.42 48.9095 L1717.7 62.208 L1710.3 62.208 L1730.09 10.368 Z\" fill=\"#000000\" fill-rule=\"evenodd\" fill-opacity=\"1\" /><path clip-path=\"url(#clip820)\" d=\"M1771.13 10.368 L1771.13 29.6387 L1765.23 29.6387 L1765.23 10.368 L1771.13 10.368 Z\" fill=\"#000000\" fill-rule=\"evenodd\" fill-opacity=\"1\" /><path clip-path=\"url(#clip820)\" d=\"M1809.43 24.4651 L1809.43 30.5068 Q1806.72 29.1179 1803.81 28.4235 Q1800.89 27.729 1797.76 27.729 Q1793.01 27.729 1790.61 29.1873 Q1788.25 30.6457 1788.25 33.5623 Q1788.25 35.7845 1789.95 37.0692 Q1791.65 38.3192 1796.79 39.4651 L1798.98 39.9512 Q1805.78 41.4095 1808.63 44.0831 Q1811.51 46.722 1811.51 51.4789 Q1811.51 56.8955 1807.21 60.0552 Q1802.94 63.2149 1795.44 63.2149 Q1792.31 63.2149 1788.91 62.5899 Q1785.54 61.9997 1781.79 60.7844 L1781.79 54.1872 Q1785.33 56.0275 1788.77 56.965 Q1792.21 57.8677 1795.58 57.8677 Q1800.09 57.8677 1802.52 56.34 Q1804.95 54.7775 1804.95 51.965 Q1804.95 49.3608 1803.18 47.972 Q1801.44 46.5831 1795.51 45.2984 L1793.28 44.7775 Q1787.35 43.5275 1784.71 40.9581 Q1782.07 38.354 1782.07 33.8401 Q1782.07 28.354 1785.96 25.3679 Q1789.85 22.3818 1797 22.3818 Q1800.54 22.3818 1803.67 22.9027 Q1806.79 23.4235 1809.43 24.4651 Z\" fill=\"#000000\" fill-rule=\"evenodd\" fill-opacity=\"1\" /><path clip-path=\"url(#clip820)\" d=\"M1850.61 12.2777 L1850.61 23.3193 L1863.77 23.3193 L1863.77 28.2846 L1850.61 28.2846 L1850.61 49.3956 Q1850.61 54.1525 1851.9 55.5066 Q1853.22 56.8608 1857.21 56.8608 L1863.77 56.8608 L1863.77 62.208 L1857.21 62.208 Q1849.81 62.208 1847 59.465 Q1844.19 56.6872 1844.19 49.3956 L1844.19 28.2846 L1839.5 28.2846 L1839.5 23.3193 L1844.19 23.3193 L1844.19 12.2777 L1850.61 12.2777 Z\" fill=\"#000000\" fill-rule=\"evenodd\" fill-opacity=\"1\" /><path clip-path=\"url(#clip820)\" d=\"M1887.24 27.7985 Q1882.1 27.7985 1879.12 31.8262 Q1876.13 35.8193 1876.13 42.7984 Q1876.13 49.7775 1879.08 53.8053 Q1882.07 57.7983 1887.24 57.7983 Q1892.35 57.7983 1895.33 53.7705 Q1898.32 49.7428 1898.32 42.7984 Q1898.32 35.8887 1895.33 31.8609 Q1892.35 27.7985 1887.24 27.7985 M1887.24 22.3818 Q1895.58 22.3818 1900.33 27.7985 Q1905.09 33.2151 1905.09 42.7984 Q1905.09 52.3469 1900.33 57.7983 Q1895.58 63.2149 1887.24 63.2149 Q1878.87 63.2149 1874.12 57.7983 Q1869.4 52.3469 1869.4 42.7984 Q1869.4 33.2151 1874.12 27.7985 Q1878.87 22.3818 1887.24 22.3818 Z\" fill=\"#000000\" fill-rule=\"evenodd\" fill-opacity=\"1\" /><path clip-path=\"url(#clip820)\" d=\"M1966.2 42.7984 Q1966.2 35.7498 1963.28 31.7568 Q1960.4 27.729 1955.33 27.729 Q1950.26 27.729 1947.35 31.7568 Q1944.46 35.7498 1944.46 42.7984 Q1944.46 49.847 1947.35 53.8747 Q1950.26 57.8677 1955.33 57.8677 Q1960.4 57.8677 1963.28 53.8747 Q1966.2 49.847 1966.2 42.7984 M1944.46 29.2221 Q1946.48 25.7499 1949.53 24.0832 Q1952.62 22.3818 1956.9 22.3818 Q1963.98 22.3818 1968.39 28.0068 Q1972.83 33.6318 1972.83 42.7984 Q1972.83 51.965 1968.39 57.59 Q1963.98 63.2149 1956.9 63.2149 Q1952.62 63.2149 1949.53 61.5483 Q1946.48 59.8469 1944.46 56.3747 L1944.46 62.208 L1938.04 62.208 L1938.04 8.18051 L1944.46 8.18051 L1944.46 29.2221 Z\" fill=\"#000000\" fill-rule=\"evenodd\" fill-opacity=\"1\" /><path clip-path=\"url(#clip820)\" d=\"M2016.69 41.1664 L2016.69 44.2914 L1987.31 44.2914 Q1987.73 50.8886 1991.27 54.3608 Q1994.85 57.7983 2001.2 57.7983 Q2004.88 57.7983 2008.32 56.8955 Q2011.79 55.9928 2015.19 54.1872 L2015.19 60.2288 Q2011.76 61.6872 2008.14 62.4511 Q2004.53 63.2149 2000.82 63.2149 Q1991.51 63.2149 1986.06 57.7983 Q1980.65 52.3817 1980.65 43.1456 Q1980.65 33.597 1985.78 28.0068 Q1990.96 22.3818 1999.71 22.3818 Q2007.55 22.3818 2012.1 27.4512 Q2016.69 32.4859 2016.69 41.1664 M2010.3 39.2915 Q2010.23 34.0484 2007.35 30.9234 Q2004.5 27.7985 1999.78 27.7985 Q1994.43 27.7985 1991.2 30.8193 Q1988.01 33.8401 1987.52 39.3262 L2010.3 39.2915 Z\" fill=\"#000000\" fill-rule=\"evenodd\" fill-opacity=\"1\" /><path clip-path=\"url(#clip820)\" d=\"M2075.37 29.2221 L2075.37 8.18051 L2081.76 8.18051 L2081.76 62.208 L2075.37 62.208 L2075.37 56.3747 Q2073.35 59.8469 2070.26 61.5483 Q2067.21 63.2149 2062.9 63.2149 Q2055.85 63.2149 2051.41 57.59 Q2047 51.965 2047 42.7984 Q2047 33.6318 2051.41 28.0068 Q2055.85 22.3818 2062.9 22.3818 Q2067.21 22.3818 2070.26 24.0832 Q2073.35 25.7499 2075.37 29.2221 M2053.6 42.7984 Q2053.6 49.847 2056.48 53.8747 Q2059.39 57.8677 2064.46 57.8677 Q2069.53 57.8677 2072.45 53.8747 Q2075.37 49.847 2075.37 42.7984 Q2075.37 35.7498 2072.45 31.7568 Q2069.53 27.729 2064.46 27.729 Q2059.39 27.729 2056.48 31.7568 Q2053.6 35.7498 2053.6 42.7984 Z\" fill=\"#000000\" fill-rule=\"evenodd\" fill-opacity=\"1\" /><path clip-path=\"url(#clip820)\" d=\"M2128.18 41.1664 L2128.18 44.2914 L2098.8 44.2914 Q2099.22 50.8886 2102.76 54.3608 Q2106.34 57.7983 2112.69 57.7983 Q2116.37 57.7983 2119.81 56.8955 Q2123.28 55.9928 2126.69 54.1872 L2126.69 60.2288 Q2123.25 61.6872 2119.64 62.4511 Q2116.03 63.2149 2112.31 63.2149 Q2103.01 63.2149 2097.55 57.7983 Q2092.14 52.3817 2092.14 43.1456 Q2092.14 33.597 2097.28 28.0068 Q2102.45 22.3818 2111.2 22.3818 Q2119.05 22.3818 2123.6 27.4512 Q2128.18 32.4859 2128.18 41.1664 M2121.79 39.2915 Q2121.72 34.0484 2118.84 30.9234 Q2115.99 27.7985 2111.27 27.7985 Q2105.92 27.7985 2102.69 30.8193 Q2099.5 33.8401 2099.01 39.3262 L2121.79 39.2915 Z\" fill=\"#000000\" fill-rule=\"evenodd\" fill-opacity=\"1\" /><path clip-path=\"url(#clip820)\" d=\"M2138.67 8.18051 L2145.05 8.18051 L2145.05 62.208 L2138.67 62.208 L2138.67 8.18051 Z\" fill=\"#000000\" fill-rule=\"evenodd\" fill-opacity=\"1\" /><path clip-path=\"url(#clip820)\" d=\"M2158.42 23.3193 L2164.81 23.3193 L2164.81 62.208 L2158.42 62.208 L2158.42 23.3193 M2158.42 8.18051 L2164.81 8.18051 L2164.81 16.2707 L2158.42 16.2707 L2158.42 8.18051 Z\" fill=\"#000000\" fill-rule=\"evenodd\" fill-opacity=\"1\" /><path clip-path=\"url(#clip820)\" d=\"M2173.6 23.3193 L2180.37 23.3193 L2192.52 55.958 L2204.67 23.3193 L2211.44 23.3193 L2196.86 62.208 L2188.18 62.208 L2173.6 23.3193 Z\" fill=\"#000000\" fill-rule=\"evenodd\" fill-opacity=\"1\" /><path clip-path=\"url(#clip820)\" d=\"M2253.53 41.1664 L2253.53 44.2914 L2224.15 44.2914 Q2224.57 50.8886 2228.11 54.3608 Q2231.69 57.7983 2238.04 57.7983 Q2241.72 57.7983 2245.16 56.8955 Q2248.63 55.9928 2252.03 54.1872 L2252.03 60.2288 Q2248.6 61.6872 2244.98 62.4511 Q2241.37 63.2149 2237.66 63.2149 Q2228.35 63.2149 2222.9 57.7983 Q2217.48 52.3817 2217.48 43.1456 Q2217.48 33.597 2222.62 28.0068 Q2227.8 22.3818 2236.55 22.3818 Q2244.39 22.3818 2248.94 27.4512 Q2253.53 32.4859 2253.53 41.1664 M2247.14 39.2915 Q2247.07 34.0484 2244.19 30.9234 Q2241.34 27.7985 2236.62 27.7985 Q2231.27 27.7985 2228.04 30.8193 Q2224.85 33.8401 2224.36 39.3262 L2247.14 39.2915 Z\" fill=\"#000000\" fill-rule=\"evenodd\" fill-opacity=\"1\" /><path clip-path=\"url(#clip820)\" d=\"M2286.55 29.2915 Q2285.47 28.6665 2284.19 28.3887 Q2282.94 28.0762 2281.41 28.0762 Q2275.99 28.0762 2273.07 31.6179 Q2270.19 35.1248 2270.19 41.722 L2270.19 62.208 L2263.77 62.208 L2263.77 23.3193 L2270.19 23.3193 L2270.19 29.361 Q2272.21 25.8193 2275.44 24.1179 Q2278.66 22.3818 2283.28 22.3818 Q2283.94 22.3818 2284.74 22.486 Q2285.54 22.5554 2286.51 22.729 L2286.55 29.2915 Z\" fill=\"#000000\" fill-rule=\"evenodd\" fill-opacity=\"1\" /><path clip-path=\"url(#clip820)\" d=\"M2324.95 41.1664 L2324.95 44.2914 L2295.57 44.2914 Q2295.99 50.8886 2299.53 54.3608 Q2303.11 57.7983 2309.46 57.7983 Q2313.14 57.7983 2316.58 56.8955 Q2320.05 55.9928 2323.46 54.1872 L2323.46 60.2288 Q2320.02 61.6872 2316.41 62.4511 Q2312.8 63.2149 2309.08 63.2149 Q2299.78 63.2149 2294.32 57.7983 Q2288.91 52.3817 2288.91 43.1456 Q2288.91 33.597 2294.05 28.0068 Q2299.22 22.3818 2307.97 22.3818 Q2315.82 22.3818 2320.37 27.4512 Q2324.95 32.4859 2324.95 41.1664 M2318.56 39.2915 Q2318.49 34.0484 2315.61 30.9234 Q2312.76 27.7985 2308.04 27.7985 Q2302.69 27.7985 2299.46 30.8193 Q2296.27 33.8401 2295.78 39.3262 L2318.56 39.2915 Z\" fill=\"#000000\" fill-rule=\"evenodd\" fill-opacity=\"1\" /><path clip-path=\"url(#clip820)\" d=\"M2361.02 29.2221 L2361.02 8.18051 L2367.41 8.18051 L2367.41 62.208 L2361.02 62.208 L2361.02 56.3747 Q2359.01 59.8469 2355.92 61.5483 Q2352.87 63.2149 2348.56 63.2149 Q2341.51 63.2149 2337.07 57.59 Q2332.66 51.965 2332.66 42.7984 Q2332.66 33.6318 2337.07 28.0068 Q2341.51 22.3818 2348.56 22.3818 Q2352.87 22.3818 2355.92 24.0832 Q2359.01 25.7499 2361.02 29.2221 M2339.25 42.7984 Q2339.25 49.847 2342.14 53.8747 Q2345.05 57.8677 2350.12 57.8677 Q2355.19 57.8677 2358.11 53.8747 Q2361.02 49.847 2361.02 42.7984 Q2361.02 35.7498 2358.11 31.7568 Q2355.19 27.729 2350.12 27.729 Q2345.05 27.729 2342.14 31.7568 Q2339.25 35.7498 2339.25 42.7984 Z\" fill=\"#000000\" fill-rule=\"evenodd\" fill-opacity=\"1\" /><path clip-path=\"url(#clip822)\" d=\"\n",
       "M356.325 215.112 L356.325 2693.78 L472.769 2693.78 L472.769 215.112 L356.325 215.112 L356.325 215.112  Z\n",
       "  \" fill=\"#009af9\" fill-rule=\"evenodd\" fill-opacity=\"1\"/>\n",
       "<polyline clip-path=\"url(#clip822)\" style=\"stroke:#000000; stroke-linecap:butt; stroke-linejoin:round; stroke-width:4; stroke-opacity:1; fill:none\" points=\"\n",
       "  356.325,215.112 356.325,2693.78 472.769,2693.78 472.769,215.112 356.325,215.112 \n",
       "  \"/>\n",
       "<path clip-path=\"url(#clip822)\" d=\"\n",
       "M472.769 2693.78 L472.769 2693.78 L589.212 2693.78 L589.212 2693.78 L472.769 2693.78 L472.769 2693.78  Z\n",
       "  \" fill=\"#009af9\" fill-rule=\"evenodd\" fill-opacity=\"1\"/>\n",
       "<polyline clip-path=\"url(#clip822)\" style=\"stroke:#000000; stroke-linecap:butt; stroke-linejoin:round; stroke-width:4; stroke-opacity:1; fill:none\" points=\"\n",
       "  472.769,2693.78 472.769,2693.78 589.212,2693.78 472.769,2693.78 \n",
       "  \"/>\n",
       "<path clip-path=\"url(#clip822)\" d=\"\n",
       "M589.212 2693.78 L589.212 2693.78 L705.655 2693.78 L705.655 2693.78 L589.212 2693.78 L589.212 2693.78  Z\n",
       "  \" fill=\"#009af9\" fill-rule=\"evenodd\" fill-opacity=\"1\"/>\n",
       "<polyline clip-path=\"url(#clip822)\" style=\"stroke:#000000; stroke-linecap:butt; stroke-linejoin:round; stroke-width:4; stroke-opacity:1; fill:none\" points=\"\n",
       "  589.212,2693.78 589.212,2693.78 705.655,2693.78 589.212,2693.78 \n",
       "  \"/>\n",
       "<path clip-path=\"url(#clip822)\" d=\"\n",
       "M705.655 2693.78 L705.655 2693.78 L822.099 2693.78 L822.099 2693.78 L705.655 2693.78 L705.655 2693.78  Z\n",
       "  \" fill=\"#009af9\" fill-rule=\"evenodd\" fill-opacity=\"1\"/>\n",
       "<polyline clip-path=\"url(#clip822)\" style=\"stroke:#000000; stroke-linecap:butt; stroke-linejoin:round; stroke-width:4; stroke-opacity:1; fill:none\" points=\"\n",
       "  705.655,2693.78 705.655,2693.78 822.099,2693.78 705.655,2693.78 \n",
       "  \"/>\n",
       "<path clip-path=\"url(#clip822)\" d=\"\n",
       "M822.099 2693.78 L822.099 2693.78 L938.542 2693.78 L938.542 2693.78 L822.099 2693.78 L822.099 2693.78  Z\n",
       "  \" fill=\"#009af9\" fill-rule=\"evenodd\" fill-opacity=\"1\"/>\n",
       "<polyline clip-path=\"url(#clip822)\" style=\"stroke:#000000; stroke-linecap:butt; stroke-linejoin:round; stroke-width:4; stroke-opacity:1; fill:none\" points=\"\n",
       "  822.099,2693.78 822.099,2693.78 938.542,2693.78 822.099,2693.78 \n",
       "  \"/>\n",
       "<path clip-path=\"url(#clip822)\" d=\"\n",
       "M938.542 2693.78 L938.542 2693.78 L1054.99 2693.78 L1054.99 2693.78 L938.542 2693.78 L938.542 2693.78  Z\n",
       "  \" fill=\"#009af9\" fill-rule=\"evenodd\" fill-opacity=\"1\"/>\n",
       "<polyline clip-path=\"url(#clip822)\" style=\"stroke:#000000; stroke-linecap:butt; stroke-linejoin:round; stroke-width:4; stroke-opacity:1; fill:none\" points=\"\n",
       "  938.542,2693.78 938.542,2693.78 1054.99,2693.78 938.542,2693.78 \n",
       "  \"/>\n",
       "<path clip-path=\"url(#clip822)\" d=\"\n",
       "M1054.99 2693.78 L1054.99 2693.78 L1171.43 2693.78 L1171.43 2693.78 L1054.99 2693.78 L1054.99 2693.78  Z\n",
       "  \" fill=\"#009af9\" fill-rule=\"evenodd\" fill-opacity=\"1\"/>\n",
       "<polyline clip-path=\"url(#clip822)\" style=\"stroke:#000000; stroke-linecap:butt; stroke-linejoin:round; stroke-width:4; stroke-opacity:1; fill:none\" points=\"\n",
       "  1054.99,2693.78 1054.99,2693.78 1171.43,2693.78 1054.99,2693.78 \n",
       "  \"/>\n",
       "<path clip-path=\"url(#clip822)\" d=\"\n",
       "M1171.43 2693.78 L1171.43 2693.78 L1287.87 2693.78 L1287.87 2693.78 L1171.43 2693.78 L1171.43 2693.78  Z\n",
       "  \" fill=\"#009af9\" fill-rule=\"evenodd\" fill-opacity=\"1\"/>\n",
       "<polyline clip-path=\"url(#clip822)\" style=\"stroke:#000000; stroke-linecap:butt; stroke-linejoin:round; stroke-width:4; stroke-opacity:1; fill:none\" points=\"\n",
       "  1171.43,2693.78 1171.43,2693.78 1287.87,2693.78 1171.43,2693.78 \n",
       "  \"/>\n",
       "<path clip-path=\"url(#clip822)\" d=\"\n",
       "M1287.87 2693.78 L1287.87 2693.78 L1404.32 2693.78 L1404.32 2693.78 L1287.87 2693.78 L1287.87 2693.78  Z\n",
       "  \" fill=\"#009af9\" fill-rule=\"evenodd\" fill-opacity=\"1\"/>\n",
       "<polyline clip-path=\"url(#clip822)\" style=\"stroke:#000000; stroke-linecap:butt; stroke-linejoin:round; stroke-width:4; stroke-opacity:1; fill:none\" points=\"\n",
       "  1287.87,2693.78 1287.87,2693.78 1404.32,2693.78 1287.87,2693.78 \n",
       "  \"/>\n",
       "<path clip-path=\"url(#clip822)\" d=\"\n",
       "M1404.32 2693.78 L1404.32 2693.78 L1520.76 2693.78 L1520.76 2693.78 L1404.32 2693.78 L1404.32 2693.78  Z\n",
       "  \" fill=\"#009af9\" fill-rule=\"evenodd\" fill-opacity=\"1\"/>\n",
       "<polyline clip-path=\"url(#clip822)\" style=\"stroke:#000000; stroke-linecap:butt; stroke-linejoin:round; stroke-width:4; stroke-opacity:1; fill:none\" points=\"\n",
       "  1404.32,2693.78 1404.32,2693.78 1520.76,2693.78 1404.32,2693.78 \n",
       "  \"/>\n",
       "<path clip-path=\"url(#clip822)\" d=\"\n",
       "M1520.76 2198.05 L1520.76 2693.78 L1637.2 2693.78 L1637.2 2198.05 L1520.76 2198.05 L1520.76 2198.05  Z\n",
       "  \" fill=\"#009af9\" fill-rule=\"evenodd\" fill-opacity=\"1\"/>\n",
       "<polyline clip-path=\"url(#clip822)\" style=\"stroke:#000000; stroke-linecap:butt; stroke-linejoin:round; stroke-width:4; stroke-opacity:1; fill:none\" points=\"\n",
       "  1520.76,2198.05 1520.76,2693.78 1637.2,2693.78 1637.2,2198.05 1520.76,2198.05 \n",
       "  \"/>\n",
       "<path clip-path=\"url(#clip822)\" d=\"\n",
       "M1637.2 2693.78 L1637.2 2693.78 L1753.65 2693.78 L1753.65 2693.78 L1637.2 2693.78 L1637.2 2693.78  Z\n",
       "  \" fill=\"#009af9\" fill-rule=\"evenodd\" fill-opacity=\"1\"/>\n",
       "<polyline clip-path=\"url(#clip822)\" style=\"stroke:#000000; stroke-linecap:butt; stroke-linejoin:round; stroke-width:4; stroke-opacity:1; fill:none\" points=\"\n",
       "  1637.2,2693.78 1637.2,2693.78 1753.65,2693.78 1637.2,2693.78 \n",
       "  \"/>\n",
       "<path clip-path=\"url(#clip822)\" d=\"\n",
       "M1753.65 2693.78 L1753.65 2693.78 L1870.09 2693.78 L1870.09 2693.78 L1753.65 2693.78 L1753.65 2693.78  Z\n",
       "  \" fill=\"#009af9\" fill-rule=\"evenodd\" fill-opacity=\"1\"/>\n",
       "<polyline clip-path=\"url(#clip822)\" style=\"stroke:#000000; stroke-linecap:butt; stroke-linejoin:round; stroke-width:4; stroke-opacity:1; fill:none\" points=\"\n",
       "  1753.65,2693.78 1753.65,2693.78 1870.09,2693.78 1753.65,2693.78 \n",
       "  \"/>\n",
       "<path clip-path=\"url(#clip822)\" d=\"\n",
       "M1870.09 2693.78 L1870.09 2693.78 L1986.53 2693.78 L1986.53 2693.78 L1870.09 2693.78 L1870.09 2693.78  Z\n",
       "  \" fill=\"#009af9\" fill-rule=\"evenodd\" fill-opacity=\"1\"/>\n",
       "<polyline clip-path=\"url(#clip822)\" style=\"stroke:#000000; stroke-linecap:butt; stroke-linejoin:round; stroke-width:4; stroke-opacity:1; fill:none\" points=\"\n",
       "  1870.09,2693.78 1870.09,2693.78 1986.53,2693.78 1870.09,2693.78 \n",
       "  \"/>\n",
       "<path clip-path=\"url(#clip822)\" d=\"\n",
       "M1986.53 2693.78 L1986.53 2693.78 L2102.98 2693.78 L2102.98 2693.78 L1986.53 2693.78 L1986.53 2693.78  Z\n",
       "  \" fill=\"#009af9\" fill-rule=\"evenodd\" fill-opacity=\"1\"/>\n",
       "<polyline clip-path=\"url(#clip822)\" style=\"stroke:#000000; stroke-linecap:butt; stroke-linejoin:round; stroke-width:4; stroke-opacity:1; fill:none\" points=\"\n",
       "  1986.53,2693.78 1986.53,2693.78 2102.98,2693.78 1986.53,2693.78 \n",
       "  \"/>\n",
       "<path clip-path=\"url(#clip822)\" d=\"\n",
       "M2102.98 2693.78 L2102.98 2693.78 L2219.42 2693.78 L2219.42 2693.78 L2102.98 2693.78 L2102.98 2693.78  Z\n",
       "  \" fill=\"#009af9\" fill-rule=\"evenodd\" fill-opacity=\"1\"/>\n",
       "<polyline clip-path=\"url(#clip822)\" style=\"stroke:#000000; stroke-linecap:butt; stroke-linejoin:round; stroke-width:4; stroke-opacity:1; fill:none\" points=\"\n",
       "  2102.98,2693.78 2102.98,2693.78 2219.42,2693.78 2102.98,2693.78 \n",
       "  \"/>\n",
       "<path clip-path=\"url(#clip822)\" d=\"\n",
       "M2219.42 2693.78 L2219.42 2693.78 L2335.86 2693.78 L2335.86 2693.78 L2219.42 2693.78 L2219.42 2693.78  Z\n",
       "  \" fill=\"#009af9\" fill-rule=\"evenodd\" fill-opacity=\"1\"/>\n",
       "<polyline clip-path=\"url(#clip822)\" style=\"stroke:#000000; stroke-linecap:butt; stroke-linejoin:round; stroke-width:4; stroke-opacity:1; fill:none\" points=\"\n",
       "  2219.42,2693.78 2219.42,2693.78 2335.86,2693.78 2219.42,2693.78 \n",
       "  \"/>\n",
       "<path clip-path=\"url(#clip822)\" d=\"\n",
       "M2335.86 2693.78 L2335.86 2693.78 L2452.31 2693.78 L2452.31 2693.78 L2335.86 2693.78 L2335.86 2693.78  Z\n",
       "  \" fill=\"#009af9\" fill-rule=\"evenodd\" fill-opacity=\"1\"/>\n",
       "<polyline clip-path=\"url(#clip822)\" style=\"stroke:#000000; stroke-linecap:butt; stroke-linejoin:round; stroke-width:4; stroke-opacity:1; fill:none\" points=\"\n",
       "  2335.86,2693.78 2335.86,2693.78 2452.31,2693.78 2335.86,2693.78 \n",
       "  \"/>\n",
       "<path clip-path=\"url(#clip822)\" d=\"\n",
       "M2452.31 2693.78 L2452.31 2693.78 L2568.75 2693.78 L2568.75 2693.78 L2452.31 2693.78 L2452.31 2693.78  Z\n",
       "  \" fill=\"#009af9\" fill-rule=\"evenodd\" fill-opacity=\"1\"/>\n",
       "<polyline clip-path=\"url(#clip822)\" style=\"stroke:#000000; stroke-linecap:butt; stroke-linejoin:round; stroke-width:4; stroke-opacity:1; fill:none\" points=\"\n",
       "  2452.31,2693.78 2452.31,2693.78 2568.75,2693.78 2452.31,2693.78 \n",
       "  \"/>\n",
       "<path clip-path=\"url(#clip822)\" d=\"\n",
       "M2568.75 2693.78 L2568.75 2693.78 L2685.19 2693.78 L2685.19 2693.78 L2568.75 2693.78 L2568.75 2693.78  Z\n",
       "  \" fill=\"#009af9\" fill-rule=\"evenodd\" fill-opacity=\"1\"/>\n",
       "<polyline clip-path=\"url(#clip822)\" style=\"stroke:#000000; stroke-linecap:butt; stroke-linejoin:round; stroke-width:4; stroke-opacity:1; fill:none\" points=\"\n",
       "  2568.75,2693.78 2568.75,2693.78 2685.19,2693.78 2568.75,2693.78 \n",
       "  \"/>\n",
       "<path clip-path=\"url(#clip822)\" d=\"\n",
       "M2685.19 2198.05 L2685.19 2693.78 L2801.64 2693.78 L2801.64 2198.05 L2685.19 2198.05 L2685.19 2198.05  Z\n",
       "  \" fill=\"#009af9\" fill-rule=\"evenodd\" fill-opacity=\"1\"/>\n",
       "<polyline clip-path=\"url(#clip822)\" style=\"stroke:#000000; stroke-linecap:butt; stroke-linejoin:round; stroke-width:4; stroke-opacity:1; fill:none\" points=\"\n",
       "  2685.19,2198.05 2685.19,2693.78 2801.64,2693.78 2801.64,2198.05 2685.19,2198.05 \n",
       "  \"/>\n",
       "</svg>\n"
      ]
     },
     "metadata": {},
     "output_type": "display_data"
    },
    {
     "data": {
      "text/plain": [
       "3-element Vector{Int16}:\n",
       " 3\n",
       " 3\n",
       " 4"
      ]
     },
     "metadata": {},
     "output_type": "display_data"
    },
    {
     "data": {
      "text/plain": [
       "7-element Vector{Int16}:\n",
       " 2\n",
       " 2\n",
       " 2\n",
       " 2\n",
       " 2\n",
       " 3\n",
       " 4"
      ]
     },
     "metadata": {},
     "output_type": "display_data"
    }
   ],
   "source": [
    "time_diff_A, time_diff_B = time_start_end(H,40,40); \n",
    "display(time_diff_A)\n",
    "display(time_diff_B)\n"
   ]
  },
  {
   "cell_type": "code",
   "execution_count": 121,
   "metadata": {},
   "outputs": [
    {
     "data": {
      "image/svg+xml": [
       "<?xml version=\"1.0\" encoding=\"utf-8\"?>\n",
       "<svg xmlns=\"http://www.w3.org/2000/svg\" xmlns:xlink=\"http://www.w3.org/1999/xlink\" width=\"750\" height=\"750\" viewBox=\"0 0 3000 3000\">\n",
       "<defs>\n",
       "  <clipPath id=\"clip500\">\n",
       "    <rect x=\"0\" y=\"0\" width=\"3000\" height=\"3000\"/>\n",
       "  </clipPath>\n",
       "</defs>\n",
       "<path clip-path=\"url(#clip500)\" d=\"\n",
       "M0 3000 L3000 3000 L3000 0 L0 0  Z\n",
       "  \" fill=\"#ffffff\" fill-rule=\"evenodd\" fill-opacity=\"1\"/>\n",
       "<defs>\n",
       "  <clipPath id=\"clip501\">\n",
       "    <rect x=\"600\" y=\"300\" width=\"2101\" height=\"2101\"/>\n",
       "  </clipPath>\n",
       "</defs>\n",
       "<path clip-path=\"url(#clip500)\" d=\"\n",
       "M205.205 2768.14 L2952.76 2768.14 L2952.76 140.752 L205.205 140.752  Z\n",
       "  \" fill=\"#ffffff\" fill-rule=\"evenodd\" fill-opacity=\"1\"/>\n",
       "<defs>\n",
       "  <clipPath id=\"clip502\">\n",
       "    <rect x=\"205\" y=\"140\" width=\"2749\" height=\"2628\"/>\n",
       "  </clipPath>\n",
       "</defs>\n",
       "<polyline clip-path=\"url(#clip502)\" style=\"stroke:#000000; stroke-linecap:butt; stroke-linejoin:round; stroke-width:2; stroke-opacity:0.1; fill:none\" points=\"\n",
       "  356.325,2768.14 356.325,140.752 \n",
       "  \"/>\n",
       "<polyline clip-path=\"url(#clip502)\" style=\"stroke:#000000; stroke-linecap:butt; stroke-linejoin:round; stroke-width:2; stroke-opacity:0.1; fill:none\" points=\"\n",
       "  938.542,2768.14 938.542,140.752 \n",
       "  \"/>\n",
       "<polyline clip-path=\"url(#clip502)\" style=\"stroke:#000000; stroke-linecap:butt; stroke-linejoin:round; stroke-width:2; stroke-opacity:0.1; fill:none\" points=\"\n",
       "  1520.76,2768.14 1520.76,140.752 \n",
       "  \"/>\n",
       "<polyline clip-path=\"url(#clip502)\" style=\"stroke:#000000; stroke-linecap:butt; stroke-linejoin:round; stroke-width:2; stroke-opacity:0.1; fill:none\" points=\"\n",
       "  2102.98,2768.14 2102.98,140.752 \n",
       "  \"/>\n",
       "<polyline clip-path=\"url(#clip502)\" style=\"stroke:#000000; stroke-linecap:butt; stroke-linejoin:round; stroke-width:2; stroke-opacity:0.1; fill:none\" points=\"\n",
       "  2685.19,2768.14 2685.19,140.752 \n",
       "  \"/>\n",
       "<polyline clip-path=\"url(#clip500)\" style=\"stroke:#000000; stroke-linecap:butt; stroke-linejoin:round; stroke-width:4; stroke-opacity:1; fill:none\" points=\"\n",
       "  205.205,2768.14 2952.76,2768.14 \n",
       "  \"/>\n",
       "<polyline clip-path=\"url(#clip500)\" style=\"stroke:#000000; stroke-linecap:butt; stroke-linejoin:round; stroke-width:4; stroke-opacity:1; fill:none\" points=\"\n",
       "  356.325,2768.14 356.325,2736.61 \n",
       "  \"/>\n",
       "<polyline clip-path=\"url(#clip500)\" style=\"stroke:#000000; stroke-linecap:butt; stroke-linejoin:round; stroke-width:4; stroke-opacity:1; fill:none\" points=\"\n",
       "  938.542,2768.14 938.542,2736.61 \n",
       "  \"/>\n",
       "<polyline clip-path=\"url(#clip500)\" style=\"stroke:#000000; stroke-linecap:butt; stroke-linejoin:round; stroke-width:4; stroke-opacity:1; fill:none\" points=\"\n",
       "  1520.76,2768.14 1520.76,2736.61 \n",
       "  \"/>\n",
       "<polyline clip-path=\"url(#clip500)\" style=\"stroke:#000000; stroke-linecap:butt; stroke-linejoin:round; stroke-width:4; stroke-opacity:1; fill:none\" points=\"\n",
       "  2102.98,2768.14 2102.98,2736.61 \n",
       "  \"/>\n",
       "<polyline clip-path=\"url(#clip500)\" style=\"stroke:#000000; stroke-linecap:butt; stroke-linejoin:round; stroke-width:4; stroke-opacity:1; fill:none\" points=\"\n",
       "  2685.19,2768.14 2685.19,2736.61 \n",
       "  \"/>\n",
       "<path clip-path=\"url(#clip500)\" d=\"M327.564 2829.68 L343.883 2829.68 L343.883 2833.61 L321.939 2833.61 L321.939 2829.68 Q324.601 2826.92 329.184 2822.29 Q333.791 2817.64 334.971 2816.3 Q337.217 2813.77 338.096 2812.04 Q338.999 2810.28 338.999 2808.59 Q338.999 2805.83 337.055 2804.1 Q335.133 2802.36 332.032 2802.36 Q329.832 2802.36 327.379 2803.13 Q324.948 2803.89 322.17 2805.44 L322.17 2800.72 Q324.995 2799.58 327.448 2799.01 Q329.902 2798.43 331.939 2798.43 Q337.309 2798.43 340.504 2801.11 Q343.698 2803.8 343.698 2808.29 Q343.698 2810.42 342.888 2812.34 Q342.101 2814.24 339.994 2816.83 Q339.416 2817.5 336.314 2820.72 Q333.212 2823.91 327.564 2829.68 Z\" fill=\"#000000\" fill-rule=\"evenodd\" fill-opacity=\"1\" /><path clip-path=\"url(#clip500)\" d=\"M353.698 2827.73 L358.582 2827.73 L358.582 2833.61 L353.698 2833.61 L353.698 2827.73 Z\" fill=\"#000000\" fill-rule=\"evenodd\" fill-opacity=\"1\" /><path clip-path=\"url(#clip500)\" d=\"M378.767 2802.13 Q375.156 2802.13 373.328 2805.7 Q371.522 2809.24 371.522 2816.37 Q371.522 2823.47 373.328 2827.04 Q375.156 2830.58 378.767 2830.58 Q382.402 2830.58 384.207 2827.04 Q386.036 2823.47 386.036 2816.37 Q386.036 2809.24 384.207 2805.7 Q382.402 2802.13 378.767 2802.13 M378.767 2798.43 Q384.578 2798.43 387.633 2803.03 Q390.712 2807.62 390.712 2816.37 Q390.712 2825.09 387.633 2829.7 Q384.578 2834.28 378.767 2834.28 Q372.957 2834.28 369.879 2829.7 Q366.823 2825.09 366.823 2816.37 Q366.823 2807.62 369.879 2803.03 Q372.957 2798.43 378.767 2798.43 Z\" fill=\"#000000\" fill-rule=\"evenodd\" fill-opacity=\"1\" /><path clip-path=\"url(#clip500)\" d=\"M910.278 2829.68 L926.598 2829.68 L926.598 2833.61 L904.653 2833.61 L904.653 2829.68 Q907.315 2826.92 911.899 2822.29 Q916.505 2817.64 917.686 2816.3 Q919.931 2813.77 920.811 2812.04 Q921.714 2810.28 921.714 2808.59 Q921.714 2805.83 919.769 2804.1 Q917.848 2802.36 914.746 2802.36 Q912.547 2802.36 910.093 2803.13 Q907.663 2803.89 904.885 2805.44 L904.885 2800.72 Q907.709 2799.58 910.163 2799.01 Q912.616 2798.43 914.653 2798.43 Q920.024 2798.43 923.218 2801.11 Q926.413 2803.8 926.413 2808.29 Q926.413 2810.42 925.602 2812.34 Q924.815 2814.24 922.709 2816.83 Q922.13 2817.5 919.028 2820.72 Q915.927 2823.91 910.278 2829.68 Z\" fill=\"#000000\" fill-rule=\"evenodd\" fill-opacity=\"1\" /><path clip-path=\"url(#clip500)\" d=\"M936.413 2827.73 L941.297 2827.73 L941.297 2833.61 L936.413 2833.61 L936.413 2827.73 Z\" fill=\"#000000\" fill-rule=\"evenodd\" fill-opacity=\"1\" /><path clip-path=\"url(#clip500)\" d=\"M951.528 2799.05 L969.885 2799.05 L969.885 2802.99 L955.811 2802.99 L955.811 2811.46 Q956.829 2811.11 957.848 2810.95 Q958.866 2810.76 959.885 2810.76 Q965.672 2810.76 969.051 2813.94 Q972.431 2817.11 972.431 2822.52 Q972.431 2828.1 968.959 2831.2 Q965.486 2834.28 959.167 2834.28 Q956.991 2834.28 954.723 2833.91 Q952.477 2833.54 950.07 2832.8 L950.07 2828.1 Q952.153 2829.24 954.375 2829.79 Q956.598 2830.35 959.074 2830.35 Q963.079 2830.35 965.417 2828.24 Q967.755 2826.14 967.755 2822.52 Q967.755 2818.91 965.417 2816.81 Q963.079 2814.7 959.074 2814.7 Q957.199 2814.7 955.324 2815.12 Q953.473 2815.53 951.528 2816.41 L951.528 2799.05 Z\" fill=\"#000000\" fill-rule=\"evenodd\" fill-opacity=\"1\" /><path clip-path=\"url(#clip500)\" d=\"M1502.07 2814.98 Q1505.42 2815.7 1507.3 2817.96 Q1509.2 2820.23 1509.2 2823.57 Q1509.2 2828.68 1505.68 2831.48 Q1502.16 2834.28 1495.68 2834.28 Q1493.5 2834.28 1491.19 2833.84 Q1488.9 2833.43 1486.44 2832.57 L1486.44 2828.06 Q1488.39 2829.19 1490.7 2829.77 Q1493.02 2830.35 1495.54 2830.35 Q1499.94 2830.35 1502.23 2828.61 Q1504.54 2826.88 1504.54 2823.57 Q1504.54 2820.51 1502.39 2818.8 Q1500.26 2817.06 1496.44 2817.06 L1492.41 2817.06 L1492.41 2813.22 L1496.63 2813.22 Q1500.08 2813.22 1501.9 2811.85 Q1503.73 2810.46 1503.73 2807.87 Q1503.73 2805.21 1501.84 2803.8 Q1499.96 2802.36 1496.44 2802.36 Q1494.52 2802.36 1492.32 2802.78 Q1490.12 2803.2 1487.48 2804.07 L1487.48 2799.91 Q1490.15 2799.17 1492.46 2798.8 Q1494.8 2798.43 1496.86 2798.43 Q1502.18 2798.43 1505.28 2800.86 Q1508.39 2803.26 1508.39 2807.39 Q1508.39 2810.26 1506.74 2812.25 Q1505.1 2814.21 1502.07 2814.98 Z\" fill=\"#000000\" fill-rule=\"evenodd\" fill-opacity=\"1\" /><path clip-path=\"url(#clip500)\" d=\"M1518.06 2827.73 L1522.95 2827.73 L1522.95 2833.61 L1518.06 2833.61 L1518.06 2827.73 Z\" fill=\"#000000\" fill-rule=\"evenodd\" fill-opacity=\"1\" /><path clip-path=\"url(#clip500)\" d=\"M1543.13 2802.13 Q1539.52 2802.13 1537.69 2805.7 Q1535.89 2809.24 1535.89 2816.37 Q1535.89 2823.47 1537.69 2827.04 Q1539.52 2830.58 1543.13 2830.58 Q1546.77 2830.58 1548.57 2827.04 Q1550.4 2823.47 1550.4 2816.37 Q1550.4 2809.24 1548.57 2805.7 Q1546.77 2802.13 1543.13 2802.13 M1543.13 2798.43 Q1548.94 2798.43 1552 2803.03 Q1555.08 2807.62 1555.08 2816.37 Q1555.08 2825.09 1552 2829.7 Q1548.94 2834.28 1543.13 2834.28 Q1537.32 2834.28 1534.24 2829.7 Q1531.19 2825.09 1531.19 2816.37 Q1531.19 2807.62 1534.24 2803.03 Q1537.32 2798.43 1543.13 2798.43 Z\" fill=\"#000000\" fill-rule=\"evenodd\" fill-opacity=\"1\" /><path clip-path=\"url(#clip500)\" d=\"M2084.78 2814.98 Q2088.14 2815.7 2090.01 2817.96 Q2091.91 2820.23 2091.91 2823.57 Q2091.91 2828.68 2088.39 2831.48 Q2084.87 2834.28 2078.39 2834.28 Q2076.22 2834.28 2073.9 2833.84 Q2071.61 2833.43 2069.16 2832.57 L2069.16 2828.06 Q2071.1 2829.19 2073.42 2829.77 Q2075.73 2830.35 2078.25 2830.35 Q2082.65 2830.35 2084.94 2828.61 Q2087.26 2826.88 2087.26 2823.57 Q2087.26 2820.51 2085.11 2818.8 Q2082.98 2817.06 2079.16 2817.06 L2075.13 2817.06 L2075.13 2813.22 L2079.34 2813.22 Q2082.79 2813.22 2084.62 2811.85 Q2086.45 2810.46 2086.45 2807.87 Q2086.45 2805.21 2084.55 2803.8 Q2082.67 2802.36 2079.16 2802.36 Q2077.24 2802.36 2075.04 2802.78 Q2072.84 2803.2 2070.2 2804.07 L2070.2 2799.91 Q2072.86 2799.17 2075.17 2798.8 Q2077.51 2798.43 2079.57 2798.43 Q2084.9 2798.43 2088 2800.86 Q2091.1 2803.26 2091.1 2807.39 Q2091.1 2810.26 2089.46 2812.25 Q2087.81 2814.21 2084.78 2814.98 Z\" fill=\"#000000\" fill-rule=\"evenodd\" fill-opacity=\"1\" /><path clip-path=\"url(#clip500)\" d=\"M2100.78 2827.73 L2105.66 2827.73 L2105.66 2833.61 L2100.78 2833.61 L2100.78 2827.73 Z\" fill=\"#000000\" fill-rule=\"evenodd\" fill-opacity=\"1\" /><path clip-path=\"url(#clip500)\" d=\"M2115.89 2799.05 L2134.25 2799.05 L2134.25 2802.99 L2120.17 2802.99 L2120.17 2811.46 Q2121.19 2811.11 2122.21 2810.95 Q2123.23 2810.76 2124.25 2810.76 Q2130.04 2810.76 2133.42 2813.94 Q2136.79 2817.11 2136.79 2822.52 Q2136.79 2828.1 2133.32 2831.2 Q2129.85 2834.28 2123.53 2834.28 Q2121.36 2834.28 2119.09 2833.91 Q2116.84 2833.54 2114.43 2832.8 L2114.43 2828.1 Q2116.52 2829.24 2118.74 2829.79 Q2120.96 2830.35 2123.44 2830.35 Q2127.44 2830.35 2129.78 2828.24 Q2132.12 2826.14 2132.12 2822.52 Q2132.12 2818.91 2129.78 2816.81 Q2127.44 2814.7 2123.44 2814.7 Q2121.56 2814.7 2119.69 2815.12 Q2117.84 2815.53 2115.89 2816.41 L2115.89 2799.05 Z\" fill=\"#000000\" fill-rule=\"evenodd\" fill-opacity=\"1\" /><path clip-path=\"url(#clip500)\" d=\"M2665.83 2803.13 L2654.02 2821.57 L2665.83 2821.57 L2665.83 2803.13 M2664.6 2799.05 L2670.48 2799.05 L2670.48 2821.57 L2675.41 2821.57 L2675.41 2825.46 L2670.48 2825.46 L2670.48 2833.61 L2665.83 2833.61 L2665.83 2825.46 L2650.23 2825.46 L2650.23 2820.95 L2664.6 2799.05 Z\" fill=\"#000000\" fill-rule=\"evenodd\" fill-opacity=\"1\" /><path clip-path=\"url(#clip500)\" d=\"M2683.14 2827.73 L2688.03 2827.73 L2688.03 2833.61 L2683.14 2833.61 L2683.14 2827.73 Z\" fill=\"#000000\" fill-rule=\"evenodd\" fill-opacity=\"1\" /><path clip-path=\"url(#clip500)\" d=\"M2708.21 2802.13 Q2704.6 2802.13 2702.77 2805.7 Q2700.97 2809.24 2700.97 2816.37 Q2700.97 2823.47 2702.77 2827.04 Q2704.6 2830.58 2708.21 2830.58 Q2711.85 2830.58 2713.65 2827.04 Q2715.48 2823.47 2715.48 2816.37 Q2715.48 2809.24 2713.65 2805.7 Q2711.85 2802.13 2708.21 2802.13 M2708.21 2798.43 Q2714.02 2798.43 2717.08 2803.03 Q2720.16 2807.62 2720.16 2816.37 Q2720.16 2825.09 2717.08 2829.7 Q2714.02 2834.28 2708.21 2834.28 Q2702.4 2834.28 2699.32 2829.7 Q2696.27 2825.09 2696.27 2816.37 Q2696.27 2807.62 2699.32 2803.03 Q2702.4 2798.43 2708.21 2798.43 Z\" fill=\"#000000\" fill-rule=\"evenodd\" fill-opacity=\"1\" /><path clip-path=\"url(#clip500)\" d=\"M1400.36 2874.48 L1440.56 2874.48 L1440.56 2879.89 L1423.69 2879.89 L1423.69 2922 L1417.23 2922 L1417.23 2879.89 L1400.36 2879.89 L1400.36 2874.48 Z\" fill=\"#000000\" fill-rule=\"evenodd\" fill-opacity=\"1\" /><path clip-path=\"url(#clip500)\" d=\"M1444.51 2886.36 L1450.36 2886.36 L1450.36 2922 L1444.51 2922 L1444.51 2886.36 M1444.51 2872.48 L1450.36 2872.48 L1450.36 2879.89 L1444.51 2879.89 L1444.51 2872.48 Z\" fill=\"#000000\" fill-rule=\"evenodd\" fill-opacity=\"1\" /><path clip-path=\"url(#clip500)\" d=\"M1490.37 2893.2 Q1492.57 2889.25 1495.62 2887.37 Q1498.68 2885.5 1502.81 2885.5 Q1508.38 2885.5 1511.41 2889.41 Q1514.43 2893.29 1514.43 2900.49 L1514.43 2922 L1508.54 2922 L1508.54 2900.68 Q1508.54 2895.55 1506.73 2893.07 Q1504.92 2890.59 1501.19 2890.59 Q1496.64 2890.59 1494 2893.61 Q1491.36 2896.64 1491.36 2901.86 L1491.36 2922 L1485.47 2922 L1485.47 2900.68 Q1485.47 2895.52 1483.65 2893.07 Q1481.84 2890.59 1478.05 2890.59 Q1473.56 2890.59 1470.92 2893.64 Q1468.28 2896.67 1468.28 2901.86 L1468.28 2922 L1462.39 2922 L1462.39 2886.36 L1468.28 2886.36 L1468.28 2891.89 Q1470.29 2888.62 1473.09 2887.06 Q1475.89 2885.5 1479.74 2885.5 Q1483.62 2885.5 1486.33 2887.47 Q1489.06 2889.44 1490.37 2893.2 Z\" fill=\"#000000\" fill-rule=\"evenodd\" fill-opacity=\"1\" /><path clip-path=\"url(#clip500)\" d=\"M1556.61 2902.72 L1556.61 2905.58 L1529.68 2905.58 Q1530.06 2911.63 1533.31 2914.81 Q1536.58 2917.96 1542.41 2917.96 Q1545.78 2917.96 1548.93 2917.13 Q1552.12 2916.31 1555.24 2914.65 L1555.24 2920.19 Q1552.09 2921.53 1548.78 2922.23 Q1545.47 2922.93 1542.06 2922.93 Q1533.53 2922.93 1528.53 2917.96 Q1523.57 2913 1523.57 2904.53 Q1523.57 2895.78 1528.28 2890.65 Q1533.02 2885.5 1541.04 2885.5 Q1548.23 2885.5 1552.4 2890.14 Q1556.61 2894.76 1556.61 2902.72 M1550.75 2901 Q1550.68 2896.19 1548.04 2893.33 Q1545.43 2890.46 1541.1 2890.46 Q1536.2 2890.46 1533.24 2893.23 Q1530.31 2896 1529.87 2901.03 L1550.75 2901 Z\" fill=\"#000000\" fill-rule=\"evenodd\" fill-opacity=\"1\" /><path clip-path=\"url(#clip500)\" d=\"M1592.73 2876.23 L1592.73 2886.36 L1604.79 2886.36 L1604.79 2890.91 L1592.73 2890.91 L1592.73 2910.26 Q1592.73 2914.62 1593.91 2915.86 Q1595.12 2917.1 1598.78 2917.1 L1604.79 2917.1 L1604.79 2922 L1598.78 2922 Q1592 2922 1589.42 2919.49 Q1586.84 2916.94 1586.84 2910.26 L1586.84 2890.91 L1582.55 2890.91 L1582.55 2886.36 L1586.84 2886.36 L1586.84 2876.23 L1592.73 2876.23 Z\" fill=\"#000000\" fill-rule=\"evenodd\" fill-opacity=\"1\" /><path clip-path=\"url(#clip500)\" d=\"M1628.7 2904.08 Q1621.6 2904.08 1618.86 2905.71 Q1616.12 2907.33 1616.12 2911.25 Q1616.12 2914.36 1618.16 2916.21 Q1620.23 2918.03 1623.76 2918.03 Q1628.63 2918.03 1631.56 2914.59 Q1634.52 2911.12 1634.52 2905.39 L1634.52 2904.08 L1628.7 2904.08 M1640.38 2901.67 L1640.38 2922 L1634.52 2922 L1634.52 2916.59 Q1632.52 2919.84 1629.52 2921.4 Q1626.53 2922.93 1622.2 2922.93 Q1616.73 2922.93 1613.48 2919.87 Q1610.27 2916.78 1610.27 2911.63 Q1610.27 2905.61 1614.28 2902.56 Q1618.32 2899.5 1626.31 2899.5 L1634.52 2899.5 L1634.52 2898.93 Q1634.52 2894.89 1631.85 2892.69 Q1629.21 2890.46 1624.4 2890.46 Q1621.34 2890.46 1618.45 2891.19 Q1615.55 2891.93 1612.88 2893.39 L1612.88 2887.98 Q1616.09 2886.74 1619.12 2886.13 Q1622.14 2885.5 1625 2885.5 Q1632.74 2885.5 1636.56 2889.51 Q1640.38 2893.52 1640.38 2901.67 Z\" fill=\"#000000\" fill-rule=\"evenodd\" fill-opacity=\"1\" /><path clip-path=\"url(#clip500)\" d=\"M1652.22 2872.48 L1658.11 2872.48 L1658.11 2901.73 L1675.58 2886.36 L1683.06 2886.36 L1664.15 2903.03 L1683.86 2922 L1676.22 2922 L1658.11 2904.59 L1658.11 2922 L1652.22 2922 L1652.22 2872.48 Z\" fill=\"#000000\" fill-rule=\"evenodd\" fill-opacity=\"1\" /><path clip-path=\"url(#clip500)\" d=\"M1718.36 2902.72 L1718.36 2905.58 L1691.43 2905.58 Q1691.81 2911.63 1695.06 2914.81 Q1698.34 2917.96 1704.16 2917.96 Q1707.54 2917.96 1710.69 2917.13 Q1713.87 2916.31 1716.99 2914.65 L1716.99 2920.19 Q1713.84 2921.53 1710.53 2922.23 Q1707.22 2922.93 1703.81 2922.93 Q1695.28 2922.93 1690.28 2917.96 Q1685.32 2913 1685.32 2904.53 Q1685.32 2895.78 1690.03 2890.65 Q1694.77 2885.5 1702.79 2885.5 Q1709.99 2885.5 1714.16 2890.14 Q1718.36 2894.76 1718.36 2902.72 M1712.5 2901 Q1712.44 2896.19 1709.8 2893.33 Q1707.19 2890.46 1702.86 2890.46 Q1697.96 2890.46 1695 2893.23 Q1692.07 2896 1691.62 2901.03 L1712.5 2901 Z\" fill=\"#000000\" fill-rule=\"evenodd\" fill-opacity=\"1\" /><path clip-path=\"url(#clip500)\" d=\"M1757.6 2900.49 L1757.6 2922 L1751.75 2922 L1751.75 2900.68 Q1751.75 2895.62 1749.77 2893.1 Q1747.8 2890.59 1743.85 2890.59 Q1739.11 2890.59 1736.37 2893.61 Q1733.64 2896.64 1733.64 2901.86 L1733.64 2922 L1727.75 2922 L1727.75 2886.36 L1733.64 2886.36 L1733.64 2891.89 Q1735.74 2888.68 1738.57 2887.09 Q1741.43 2885.5 1745.16 2885.5 Q1751.3 2885.5 1754.45 2889.32 Q1757.6 2893.1 1757.6 2900.49 Z\" fill=\"#000000\" fill-rule=\"evenodd\" fill-opacity=\"1\" /><polyline clip-path=\"url(#clip502)\" style=\"stroke:#000000; stroke-linecap:butt; stroke-linejoin:round; stroke-width:2; stroke-opacity:0.1; fill:none\" points=\"\n",
       "  205.205,2693.78 2952.76,2693.78 \n",
       "  \"/>\n",
       "<polyline clip-path=\"url(#clip502)\" style=\"stroke:#000000; stroke-linecap:butt; stroke-linejoin:round; stroke-width:2; stroke-opacity:0.1; fill:none\" points=\"\n",
       "  205.205,2198.05 2952.76,2198.05 \n",
       "  \"/>\n",
       "<polyline clip-path=\"url(#clip502)\" style=\"stroke:#000000; stroke-linecap:butt; stroke-linejoin:round; stroke-width:2; stroke-opacity:0.1; fill:none\" points=\"\n",
       "  205.205,1702.31 2952.76,1702.31 \n",
       "  \"/>\n",
       "<polyline clip-path=\"url(#clip502)\" style=\"stroke:#000000; stroke-linecap:butt; stroke-linejoin:round; stroke-width:2; stroke-opacity:0.1; fill:none\" points=\"\n",
       "  205.205,1206.58 2952.76,1206.58 \n",
       "  \"/>\n",
       "<polyline clip-path=\"url(#clip502)\" style=\"stroke:#000000; stroke-linecap:butt; stroke-linejoin:round; stroke-width:2; stroke-opacity:0.1; fill:none\" points=\"\n",
       "  205.205,710.846 2952.76,710.846 \n",
       "  \"/>\n",
       "<polyline clip-path=\"url(#clip502)\" style=\"stroke:#000000; stroke-linecap:butt; stroke-linejoin:round; stroke-width:2; stroke-opacity:0.1; fill:none\" points=\"\n",
       "  205.205,215.112 2952.76,215.112 \n",
       "  \"/>\n",
       "<polyline clip-path=\"url(#clip500)\" style=\"stroke:#000000; stroke-linecap:butt; stroke-linejoin:round; stroke-width:4; stroke-opacity:1; fill:none\" points=\"\n",
       "  205.205,2768.14 205.205,140.752 \n",
       "  \"/>\n",
       "<polyline clip-path=\"url(#clip500)\" style=\"stroke:#000000; stroke-linecap:butt; stroke-linejoin:round; stroke-width:4; stroke-opacity:1; fill:none\" points=\"\n",
       "  205.205,2693.78 238.176,2693.78 \n",
       "  \"/>\n",
       "<polyline clip-path=\"url(#clip500)\" style=\"stroke:#000000; stroke-linecap:butt; stroke-linejoin:round; stroke-width:4; stroke-opacity:1; fill:none\" points=\"\n",
       "  205.205,2198.05 238.176,2198.05 \n",
       "  \"/>\n",
       "<polyline clip-path=\"url(#clip500)\" style=\"stroke:#000000; stroke-linecap:butt; stroke-linejoin:round; stroke-width:4; stroke-opacity:1; fill:none\" points=\"\n",
       "  205.205,1702.31 238.176,1702.31 \n",
       "  \"/>\n",
       "<polyline clip-path=\"url(#clip500)\" style=\"stroke:#000000; stroke-linecap:butt; stroke-linejoin:round; stroke-width:4; stroke-opacity:1; fill:none\" points=\"\n",
       "  205.205,1206.58 238.176,1206.58 \n",
       "  \"/>\n",
       "<polyline clip-path=\"url(#clip500)\" style=\"stroke:#000000; stroke-linecap:butt; stroke-linejoin:round; stroke-width:4; stroke-opacity:1; fill:none\" points=\"\n",
       "  205.205,710.846 238.176,710.846 \n",
       "  \"/>\n",
       "<polyline clip-path=\"url(#clip500)\" style=\"stroke:#000000; stroke-linecap:butt; stroke-linejoin:round; stroke-width:4; stroke-opacity:1; fill:none\" points=\"\n",
       "  205.205,215.112 238.176,215.112 \n",
       "  \"/>\n",
       "<path clip-path=\"url(#clip500)\" d=\"M148.261 2679.58 Q144.65 2679.58 142.821 2683.14 Q141.015 2686.68 141.015 2693.81 Q141.015 2700.92 142.821 2704.49 Q144.65 2708.03 148.261 2708.03 Q151.895 2708.03 153.701 2704.49 Q155.529 2700.92 155.529 2693.81 Q155.529 2686.68 153.701 2683.14 Q151.895 2679.58 148.261 2679.58 M148.261 2675.87 Q154.071 2675.87 157.127 2680.48 Q160.205 2685.06 160.205 2693.81 Q160.205 2702.54 157.127 2707.15 Q154.071 2711.73 148.261 2711.73 Q142.451 2711.73 139.372 2707.15 Q136.316 2702.54 136.316 2693.81 Q136.316 2685.06 139.372 2680.48 Q142.451 2675.87 148.261 2675.87 Z\" fill=\"#000000\" fill-rule=\"evenodd\" fill-opacity=\"1\" /><path clip-path=\"url(#clip500)\" d=\"M140.298 2211.39 L147.937 2211.39 L147.937 2185.03 L139.627 2186.69 L139.627 2182.43 L147.89 2180.77 L152.566 2180.77 L152.566 2211.39 L160.205 2211.39 L160.205 2215.33 L140.298 2215.33 L140.298 2211.39 Z\" fill=\"#000000\" fill-rule=\"evenodd\" fill-opacity=\"1\" /><path clip-path=\"url(#clip500)\" d=\"M143.886 1715.66 L160.205 1715.66 L160.205 1719.59 L138.261 1719.59 L138.261 1715.66 Q140.923 1712.9 145.506 1708.27 Q150.113 1703.62 151.293 1702.28 Q153.539 1699.75 154.418 1698.02 Q155.321 1696.26 155.321 1694.57 Q155.321 1691.82 153.377 1690.08 Q151.455 1688.34 148.353 1688.34 Q146.154 1688.34 143.701 1689.11 Q141.27 1689.87 138.492 1691.42 L138.492 1686.7 Q141.316 1685.57 143.77 1684.99 Q146.224 1684.41 148.261 1684.41 Q153.631 1684.41 156.826 1687.09 Q160.02 1689.78 160.02 1694.27 Q160.02 1696.4 159.21 1698.32 Q158.423 1700.22 156.316 1702.81 Q155.738 1703.48 152.636 1706.7 Q149.534 1709.89 143.886 1715.66 Z\" fill=\"#000000\" fill-rule=\"evenodd\" fill-opacity=\"1\" /><path clip-path=\"url(#clip500)\" d=\"M153.076 1205.23 Q156.432 1205.94 158.307 1208.21 Q160.205 1210.48 160.205 1213.81 Q160.205 1218.93 156.687 1221.73 Q153.168 1224.53 146.687 1224.53 Q144.511 1224.53 142.196 1224.09 Q139.904 1223.67 137.451 1222.82 L137.451 1218.3 Q139.395 1219.44 141.71 1220.02 Q144.025 1220.6 146.548 1220.6 Q150.946 1220.6 153.238 1218.86 Q155.552 1217.12 155.552 1213.81 Q155.552 1210.76 153.4 1209.04 Q151.27 1207.31 147.451 1207.31 L143.423 1207.31 L143.423 1203.47 L147.636 1203.47 Q151.085 1203.47 152.914 1202.1 Q154.742 1200.71 154.742 1198.12 Q154.742 1195.46 152.844 1194.04 Q150.969 1192.61 147.451 1192.61 Q145.529 1192.61 143.33 1193.03 Q141.131 1193.44 138.492 1194.32 L138.492 1190.16 Q141.154 1189.41 143.469 1189.04 Q145.807 1188.67 147.867 1188.67 Q153.191 1188.67 156.293 1191.1 Q159.395 1193.51 159.395 1197.63 Q159.395 1200.5 157.752 1202.49 Q156.108 1204.46 153.076 1205.23 Z\" fill=\"#000000\" fill-rule=\"evenodd\" fill-opacity=\"1\" /><path clip-path=\"url(#clip500)\" d=\"M150.622 697.64 L138.816 716.089 L150.622 716.089 L150.622 697.64 M149.395 693.566 L155.275 693.566 L155.275 716.089 L160.205 716.089 L160.205 719.978 L155.275 719.978 L155.275 728.126 L150.622 728.126 L150.622 719.978 L135.02 719.978 L135.02 715.464 L149.395 693.566 Z\" fill=\"#000000\" fill-rule=\"evenodd\" fill-opacity=\"1\" /><path clip-path=\"url(#clip500)\" d=\"M139.303 197.832 L157.659 197.832 L157.659 201.767 L143.585 201.767 L143.585 210.239 Q144.603 209.892 145.622 209.73 Q146.64 209.545 147.659 209.545 Q153.446 209.545 156.826 212.716 Q160.205 215.888 160.205 221.304 Q160.205 226.883 156.733 229.985 Q153.261 233.063 146.941 233.063 Q144.765 233.063 142.497 232.693 Q140.252 232.323 137.844 231.582 L137.844 226.883 Q139.928 228.017 142.15 228.573 Q144.372 229.128 146.849 229.128 Q150.853 229.128 153.191 227.022 Q155.529 224.915 155.529 221.304 Q155.529 217.693 153.191 215.587 Q150.853 213.48 146.849 213.48 Q144.974 213.48 143.099 213.897 Q141.247 214.314 139.303 215.193 L139.303 197.832 Z\" fill=\"#000000\" fill-rule=\"evenodd\" fill-opacity=\"1\" /><path clip-path=\"url(#clip500)\" d=\"M31.9044 1526.47 L38.6839 1526.47 Q35.6602 1529.72 34.1643 1533.41 Q32.6683 1537.07 32.6683 1541.21 Q32.6683 1549.36 37.6654 1553.69 Q42.6307 1558.02 52.0519 1558.02 Q61.4413 1558.02 66.4384 1553.69 Q71.4036 1549.36 71.4036 1541.21 Q71.4036 1537.07 69.9077 1533.41 Q68.4118 1529.72 65.3881 1526.47 L72.1039 1526.47 Q74.3955 1529.85 75.5414 1533.64 Q76.6872 1537.39 76.6872 1541.59 Q76.6872 1552.38 70.0987 1558.59 Q63.4783 1564.8 52.0519 1564.8 Q40.5936 1564.8 34.0051 1558.59 Q27.3848 1552.38 27.3848 1541.59 Q27.3848 1537.33 28.5306 1533.57 Q29.6446 1529.78 31.9044 1526.47 Z\" fill=\"#000000\" fill-rule=\"evenodd\" fill-opacity=\"1\" /><path clip-path=\"url(#clip500)\" d=\"M44.2221 1502.98 Q44.2221 1507.7 47.9142 1510.43 Q51.5745 1513.17 57.972 1513.17 Q64.3695 1513.17 68.0617 1510.46 Q71.7219 1507.73 71.7219 1502.98 Q71.7219 1498.31 68.0298 1495.57 Q64.3377 1492.83 57.972 1492.83 Q51.6381 1492.83 47.946 1495.57 Q44.2221 1498.31 44.2221 1502.98 M39.2568 1502.98 Q39.2568 1495.35 44.2221 1490.99 Q49.1873 1486.62 57.972 1486.62 Q66.7249 1486.62 71.7219 1490.99 Q76.6872 1495.35 76.6872 1502.98 Q76.6872 1510.66 71.7219 1515.02 Q66.7249 1519.34 57.972 1519.34 Q49.1873 1519.34 44.2221 1515.02 Q39.2568 1510.66 39.2568 1502.98 Z\" fill=\"#000000\" fill-rule=\"evenodd\" fill-opacity=\"1\" /><path clip-path=\"url(#clip500)\" d=\"M61.6959 1477.52 L40.1162 1477.52 L40.1162 1471.67 L61.4731 1471.67 Q66.5339 1471.67 69.0802 1469.69 Q71.5946 1467.72 71.5946 1463.77 Q71.5946 1459.03 68.5709 1456.29 Q65.5472 1453.52 60.3273 1453.52 L40.1162 1453.52 L40.1162 1447.67 L75.7642 1447.67 L75.7642 1453.52 L70.2896 1453.52 Q73.5362 1455.66 75.1276 1458.49 Q76.6872 1461.29 76.6872 1465.01 Q76.6872 1471.16 72.8678 1474.34 Q69.0483 1477.52 61.6959 1477.52 M39.2568 1462.79 L39.2568 1462.79 Z\" fill=\"#000000\" fill-rule=\"evenodd\" fill-opacity=\"1\" /><path clip-path=\"url(#clip500)\" d=\"M54.2481 1405.97 L75.7642 1405.97 L75.7642 1411.83 L54.439 1411.83 Q49.3783 1411.83 46.8638 1413.8 Q44.3494 1415.77 44.3494 1419.72 Q44.3494 1424.46 47.3731 1427.2 Q50.3968 1429.94 55.6167 1429.94 L75.7642 1429.94 L75.7642 1435.83 L40.1162 1435.83 L40.1162 1429.94 L45.6544 1429.94 Q42.4397 1427.84 40.8483 1425 Q39.2568 1422.14 39.2568 1418.42 Q39.2568 1412.27 43.0763 1409.12 Q46.8638 1405.97 54.2481 1405.97 Z\" fill=\"#000000\" fill-rule=\"evenodd\" fill-opacity=\"1\" /><path clip-path=\"url(#clip500)\" d=\"M29.9947 1388.5 L40.1162 1388.5 L40.1162 1376.43 L44.6677 1376.43 L44.6677 1388.5 L64.0194 1388.5 Q68.3799 1388.5 69.6213 1387.32 Q70.8626 1386.11 70.8626 1382.45 L70.8626 1376.43 L75.7642 1376.43 L75.7642 1382.45 Q75.7642 1389.23 73.2497 1391.81 Q70.7034 1394.39 64.0194 1394.39 L44.6677 1394.39 L44.6677 1398.68 L40.1162 1398.68 L40.1162 1394.39 L29.9947 1394.39 L29.9947 1388.5 Z\" fill=\"#000000\" fill-rule=\"evenodd\" fill-opacity=\"1\" /><path clip-path=\"url(#clip500)\" d=\"M41.1665 1346.01 L46.7047 1346.01 Q45.4316 1348.49 44.795 1351.16 Q44.1584 1353.84 44.1584 1356.7 Q44.1584 1361.06 45.4952 1363.26 Q46.832 1365.42 49.5056 1365.42 Q51.5426 1365.42 52.7203 1363.86 Q53.8661 1362.3 54.9165 1357.59 L55.3621 1355.59 Q56.6989 1349.35 59.1497 1346.74 Q61.5686 1344.1 65.9291 1344.1 Q70.8944 1344.1 73.7908 1348.04 Q76.6872 1351.96 76.6872 1358.83 Q76.6872 1361.7 76.1143 1364.82 Q75.5732 1367.9 74.4592 1371.34 L68.4118 1371.34 Q70.0987 1368.1 70.958 1364.94 Q71.7856 1361.79 71.7856 1358.71 Q71.7856 1354.57 70.3851 1352.34 Q68.9529 1350.11 66.3747 1350.11 Q63.9876 1350.11 62.7145 1351.74 Q61.4413 1353.33 60.2637 1358.77 L59.7862 1360.81 Q58.6404 1366.25 56.2851 1368.67 Q53.898 1371.09 49.7602 1371.09 Q44.7313 1371.09 41.9941 1367.52 Q39.2568 1363.96 39.2568 1357.4 Q39.2568 1354.15 39.7343 1351.29 Q40.2117 1348.43 41.1665 1346.01 Z\" fill=\"#000000\" fill-rule=\"evenodd\" fill-opacity=\"1\" /><path clip-path=\"url(#clip500)\" d=\"M790.547 10.368 L834.401 10.368 L834.401 16.2707 L815.999 16.2707 L815.999 62.208 L808.95 62.208 L808.95 16.2707 L790.547 16.2707 L790.547 10.368 Z\" fill=\"#000000\" fill-rule=\"evenodd\" fill-opacity=\"1\" /><path clip-path=\"url(#clip500)\" d=\"M838.707 23.3193 L845.096 23.3193 L845.096 62.208 L838.707 62.208 L838.707 23.3193 M838.707 8.18051 L845.096 8.18051 L845.096 16.2707 L838.707 16.2707 L838.707 8.18051 Z\" fill=\"#000000\" fill-rule=\"evenodd\" fill-opacity=\"1\" /><path clip-path=\"url(#clip500)\" d=\"M888.741 30.7846 Q891.137 26.479 894.47 24.4304 Q897.804 22.3818 902.318 22.3818 Q908.394 22.3818 911.692 26.6526 Q914.991 30.8887 914.991 38.7359 L914.991 62.208 L908.567 62.208 L908.567 38.9442 Q908.567 33.354 906.588 30.6457 Q904.609 27.9374 900.547 27.9374 Q895.581 27.9374 892.7 31.2359 Q889.818 34.5345 889.818 40.229 L889.818 62.208 L883.394 62.208 L883.394 38.9442 Q883.394 33.3193 881.415 30.6457 Q879.436 27.9374 875.304 27.9374 Q870.408 27.9374 867.526 31.2707 Q864.644 34.5693 864.644 40.229 L864.644 62.208 L858.221 62.208 L858.221 23.3193 L864.644 23.3193 L864.644 29.361 Q866.832 25.7846 869.887 24.0832 Q872.943 22.3818 877.144 22.3818 Q881.38 22.3818 884.332 24.5346 Q887.318 26.6874 888.741 30.7846 Z\" fill=\"#000000\" fill-rule=\"evenodd\" fill-opacity=\"1\" /><path clip-path=\"url(#clip500)\" d=\"M960.998 41.1664 L960.998 44.2914 L931.623 44.2914 Q932.04 50.8886 935.581 54.3608 Q939.158 57.7983 945.512 57.7983 Q949.192 57.7983 952.63 56.8955 Q956.102 55.9928 959.505 54.1872 L959.505 60.2288 Q956.067 61.6872 952.456 62.4511 Q948.845 63.2149 945.13 63.2149 Q935.824 63.2149 930.373 57.7983 Q924.956 52.3817 924.956 43.1456 Q924.956 33.597 930.095 28.0068 Q935.269 22.3818 944.019 22.3818 Q951.866 22.3818 956.414 27.4512 Q960.998 32.4859 960.998 41.1664 M954.609 39.2915 Q954.539 34.0484 951.658 30.9234 Q948.81 27.7985 944.088 27.7985 Q938.741 27.7985 935.512 30.8193 Q932.317 33.8401 931.831 39.3262 L954.609 39.2915 Z\" fill=\"#000000\" fill-rule=\"evenodd\" fill-opacity=\"1\" /><path clip-path=\"url(#clip500)\" d=\"M1000.41 12.2777 L1000.41 23.3193 L1013.57 23.3193 L1013.57 28.2846 L1000.41 28.2846 L1000.41 49.3956 Q1000.41 54.1525 1001.69 55.5066 Q1003.01 56.8608 1007 56.8608 L1013.57 56.8608 L1013.57 62.208 L1007 62.208 Q999.609 62.208 996.796 59.465 Q993.984 56.6872 993.984 49.3956 L993.984 28.2846 L989.296 28.2846 L989.296 23.3193 L993.984 23.3193 L993.984 12.2777 L1000.41 12.2777 Z\" fill=\"#000000\" fill-rule=\"evenodd\" fill-opacity=\"1\" /><path clip-path=\"url(#clip500)\" d=\"M1039.64 42.6595 Q1031.9 42.6595 1028.91 44.4303 Q1025.93 46.2011 1025.93 50.472 Q1025.93 53.8747 1028.15 55.8886 Q1030.41 57.8677 1034.26 57.8677 Q1039.57 57.8677 1042.77 54.1178 Q1046 50.3331 1046 44.0831 L1046 42.6595 L1039.64 42.6595 M1052.39 40.0206 L1052.39 62.208 L1046 62.208 L1046 56.3053 Q1043.81 59.8469 1040.55 61.5483 Q1037.28 63.2149 1032.56 63.2149 Q1026.59 63.2149 1023.05 59.8816 Q1019.54 56.5136 1019.54 50.8886 Q1019.54 44.3262 1023.91 40.9928 Q1028.32 37.6595 1037.04 37.6595 L1046 37.6595 L1046 37.0345 Q1046 32.6248 1043.08 30.229 Q1040.2 27.7985 1034.96 27.7985 Q1031.62 27.7985 1028.46 28.5971 Q1025.3 29.3957 1022.39 30.9929 L1022.39 25.0901 Q1025.89 23.736 1029.19 23.0763 Q1032.49 22.3818 1035.62 22.3818 Q1044.05 22.3818 1048.22 26.7568 Q1052.39 31.1318 1052.39 40.0206 Z\" fill=\"#000000\" fill-rule=\"evenodd\" fill-opacity=\"1\" /><path clip-path=\"url(#clip500)\" d=\"M1065.3 8.18051 L1071.73 8.18051 L1071.73 40.0901 L1090.79 23.3193 L1098.95 23.3193 L1078.32 41.5137 L1099.82 62.208 L1091.48 62.208 L1071.73 43.215 L1071.73 62.208 L1065.3 62.208 L1065.3 8.18051 Z\" fill=\"#000000\" fill-rule=\"evenodd\" fill-opacity=\"1\" /><path clip-path=\"url(#clip500)\" d=\"M1137.46 41.1664 L1137.46 44.2914 L1108.08 44.2914 Q1108.5 50.8886 1112.04 54.3608 Q1115.61 57.7983 1121.97 57.7983 Q1125.65 57.7983 1129.09 56.8955 Q1132.56 55.9928 1135.96 54.1872 L1135.96 60.2288 Q1132.52 61.6872 1128.91 62.4511 Q1125.3 63.2149 1121.59 63.2149 Q1112.28 63.2149 1106.83 57.7983 Q1101.41 52.3817 1101.41 43.1456 Q1101.41 33.597 1106.55 28.0068 Q1111.73 22.3818 1120.48 22.3818 Q1128.32 22.3818 1132.87 27.4512 Q1137.46 32.4859 1137.46 41.1664 M1131.07 39.2915 Q1131 34.0484 1128.11 30.9234 Q1125.27 27.7985 1120.55 27.7985 Q1115.2 27.7985 1111.97 30.8193 Q1108.77 33.8401 1108.29 39.3262 L1131.07 39.2915 Z\" fill=\"#000000\" fill-rule=\"evenodd\" fill-opacity=\"1\" /><path clip-path=\"url(#clip500)\" d=\"M1180.27 38.7359 L1180.27 62.208 L1173.88 62.208 L1173.88 38.9442 Q1173.88 33.4234 1171.73 30.6804 Q1169.57 27.9374 1165.27 27.9374 Q1160.09 27.9374 1157.11 31.2359 Q1154.12 34.5345 1154.12 40.229 L1154.12 62.208 L1147.7 62.208 L1147.7 23.3193 L1154.12 23.3193 L1154.12 29.361 Q1156.41 25.854 1159.5 24.1179 Q1162.63 22.3818 1166.69 22.3818 Q1173.39 22.3818 1176.83 26.5485 Q1180.27 30.6804 1180.27 38.7359 Z\" fill=\"#000000\" fill-rule=\"evenodd\" fill-opacity=\"1\" /><path clip-path=\"url(#clip500)\" d=\"M1221.93 12.2777 L1221.93 23.3193 L1235.09 23.3193 L1235.09 28.2846 L1221.93 28.2846 L1221.93 49.3956 Q1221.93 54.1525 1223.22 55.5066 Q1224.54 56.8608 1228.53 56.8608 L1235.09 56.8608 L1235.09 62.208 L1228.53 62.208 Q1221.14 62.208 1218.32 59.465 Q1215.51 56.6872 1215.51 49.3956 L1215.51 28.2846 L1210.82 28.2846 L1210.82 23.3193 L1215.51 23.3193 L1215.51 12.2777 L1221.93 12.2777 Z\" fill=\"#000000\" fill-rule=\"evenodd\" fill-opacity=\"1\" /><path clip-path=\"url(#clip500)\" d=\"M1258.57 27.7985 Q1253.43 27.7985 1250.44 31.8262 Q1247.45 35.8193 1247.45 42.7984 Q1247.45 49.7775 1250.41 53.8053 Q1253.39 57.7983 1258.57 57.7983 Q1263.67 57.7983 1266.66 53.7705 Q1269.64 49.7428 1269.64 42.7984 Q1269.64 35.8887 1266.66 31.8609 Q1263.67 27.7985 1258.57 27.7985 M1258.57 22.3818 Q1266.9 22.3818 1271.66 27.7985 Q1276.41 33.2151 1276.41 42.7984 Q1276.41 52.3469 1271.66 57.7983 Q1266.9 63.2149 1258.57 63.2149 Q1250.2 63.2149 1245.44 57.7983 Q1240.72 52.3469 1240.72 42.7984 Q1240.72 33.2151 1245.44 27.7985 Q1250.2 22.3818 1258.57 22.3818 Z\" fill=\"#000000\" fill-rule=\"evenodd\" fill-opacity=\"1\" /><path clip-path=\"url(#clip500)\" d=\"M1337.52 42.7984 Q1337.52 35.7498 1334.61 31.7568 Q1331.72 27.729 1326.66 27.729 Q1321.59 27.729 1318.67 31.7568 Q1315.79 35.7498 1315.79 42.7984 Q1315.79 49.847 1318.67 53.8747 Q1321.59 57.8677 1326.66 57.8677 Q1331.72 57.8677 1334.61 53.8747 Q1337.52 49.847 1337.52 42.7984 M1315.79 29.2221 Q1317.8 25.7499 1320.86 24.0832 Q1323.95 22.3818 1328.22 22.3818 Q1335.3 22.3818 1339.71 28.0068 Q1344.16 33.6318 1344.16 42.7984 Q1344.16 51.965 1339.71 57.59 Q1335.3 63.2149 1328.22 63.2149 Q1323.95 63.2149 1320.86 61.5483 Q1317.8 59.8469 1315.79 56.3747 L1315.79 62.208 L1309.36 62.208 L1309.36 8.18051 L1315.79 8.18051 L1315.79 29.2221 Z\" fill=\"#000000\" fill-rule=\"evenodd\" fill-opacity=\"1\" /><path clip-path=\"url(#clip500)\" d=\"M1388.01 41.1664 L1388.01 44.2914 L1358.63 44.2914 Q1359.05 50.8886 1362.59 54.3608 Q1366.17 57.7983 1372.52 57.7983 Q1376.2 57.7983 1379.64 56.8955 Q1383.11 55.9928 1386.52 54.1872 L1386.52 60.2288 Q1383.08 61.6872 1379.47 62.4511 Q1375.86 63.2149 1372.14 63.2149 Q1362.84 63.2149 1357.38 57.7983 Q1351.97 52.3817 1351.97 43.1456 Q1351.97 33.597 1357.11 28.0068 Q1362.28 22.3818 1371.03 22.3818 Q1378.88 22.3818 1383.43 27.4512 Q1388.01 32.4859 1388.01 41.1664 M1381.62 39.2915 Q1381.55 34.0484 1378.67 30.9234 Q1375.82 27.7985 1371.1 27.7985 Q1365.75 27.7985 1362.52 30.8193 Q1359.33 33.8401 1358.84 39.3262 L1381.62 39.2915 Z\" fill=\"#000000\" fill-rule=\"evenodd\" fill-opacity=\"1\" /><path clip-path=\"url(#clip500)\" d=\"M1440.79 8.18051 L1440.79 13.493 L1434.68 13.493 Q1431.24 13.493 1429.88 14.8819 Q1428.56 16.2707 1428.56 19.8818 L1428.56 23.3193 L1439.09 23.3193 L1439.09 28.2846 L1428.56 28.2846 L1428.56 62.208 L1422.14 62.208 L1422.14 28.2846 L1416.03 28.2846 L1416.03 23.3193 L1422.14 23.3193 L1422.14 20.611 Q1422.14 14.118 1425.16 11.1666 Q1428.18 8.18051 1434.75 8.18051 L1440.79 8.18051 Z\" fill=\"#000000\" fill-rule=\"evenodd\" fill-opacity=\"1\" /><path clip-path=\"url(#clip500)\" d=\"M1461.2 27.7985 Q1456.06 27.7985 1453.08 31.8262 Q1450.09 35.8193 1450.09 42.7984 Q1450.09 49.7775 1453.04 53.8053 Q1456.03 57.7983 1461.2 57.7983 Q1466.31 57.7983 1469.29 53.7705 Q1472.28 49.7428 1472.28 42.7984 Q1472.28 35.8887 1469.29 31.8609 Q1466.31 27.7985 1461.2 27.7985 M1461.2 22.3818 Q1469.54 22.3818 1474.29 27.7985 Q1479.05 33.2151 1479.05 42.7984 Q1479.05 52.3469 1474.29 57.7983 Q1469.54 63.2149 1461.2 63.2149 Q1452.84 63.2149 1448.08 57.7983 Q1443.36 52.3469 1443.36 42.7984 Q1443.36 33.2151 1448.08 27.7985 Q1452.84 22.3818 1461.2 22.3818 Z\" fill=\"#000000\" fill-rule=\"evenodd\" fill-opacity=\"1\" /><path clip-path=\"url(#clip500)\" d=\"M1512.18 29.2915 Q1511.1 28.6665 1509.81 28.3887 Q1508.56 28.0762 1507.04 28.0762 Q1501.62 28.0762 1498.7 31.6179 Q1495.82 35.1248 1495.82 41.722 L1495.82 62.208 L1489.4 62.208 L1489.4 23.3193 L1495.82 23.3193 L1495.82 29.361 Q1497.84 25.8193 1501.06 24.1179 Q1504.29 22.3818 1508.91 22.3818 Q1509.57 22.3818 1510.37 22.486 Q1511.17 22.5554 1512.14 22.729 L1512.18 29.2915 Z\" fill=\"#000000\" fill-rule=\"evenodd\" fill-opacity=\"1\" /><path clip-path=\"url(#clip500)\" d=\"M1571.76 30.7846 Q1574.15 26.479 1577.49 24.4304 Q1580.82 22.3818 1585.33 22.3818 Q1591.41 22.3818 1594.71 26.6526 Q1598.01 30.8887 1598.01 38.7359 L1598.01 62.208 L1591.58 62.208 L1591.58 38.9442 Q1591.58 33.354 1589.61 30.6457 Q1587.63 27.9374 1583.56 27.9374 Q1578.6 27.9374 1575.72 31.2359 Q1572.83 34.5345 1572.83 40.229 L1572.83 62.208 L1566.41 62.208 L1566.41 38.9442 Q1566.41 33.3193 1564.43 30.6457 Q1562.45 27.9374 1558.32 27.9374 Q1553.43 27.9374 1550.54 31.2707 Q1547.66 34.5693 1547.66 40.229 L1547.66 62.208 L1541.24 62.208 L1541.24 23.3193 L1547.66 23.3193 L1547.66 29.361 Q1549.85 25.7846 1552.9 24.0832 Q1555.96 22.3818 1560.16 22.3818 Q1564.4 22.3818 1567.35 24.5346 Q1570.33 26.6874 1571.76 30.7846 Z\" fill=\"#000000\" fill-rule=\"evenodd\" fill-opacity=\"1\" /><path clip-path=\"url(#clip500)\" d=\"M1628.42 42.6595 Q1620.68 42.6595 1617.7 44.4303 Q1614.71 46.2011 1614.71 50.472 Q1614.71 53.8747 1616.93 55.8886 Q1619.19 57.8677 1623.04 57.8677 Q1628.36 57.8677 1631.55 54.1178 Q1634.78 50.3331 1634.78 44.0831 L1634.78 42.6595 L1628.42 42.6595 M1641.17 40.0206 L1641.17 62.208 L1634.78 62.208 L1634.78 56.3053 Q1632.59 59.8469 1629.33 61.5483 Q1626.06 63.2149 1621.34 63.2149 Q1615.37 63.2149 1611.83 59.8816 Q1608.32 56.5136 1608.32 50.8886 Q1608.32 44.3262 1612.7 40.9928 Q1617.11 37.6595 1625.82 37.6595 L1634.78 37.6595 L1634.78 37.0345 Q1634.78 32.6248 1631.86 30.229 Q1628.98 27.7985 1623.74 27.7985 Q1620.4 27.7985 1617.24 28.5971 Q1614.08 29.3957 1611.17 30.9929 L1611.17 25.0901 Q1614.67 23.736 1617.97 23.0763 Q1621.27 22.3818 1624.4 22.3818 Q1632.83 22.3818 1637 26.7568 Q1641.17 31.1318 1641.17 40.0206 Z\" fill=\"#000000\" fill-rule=\"evenodd\" fill-opacity=\"1\" /><path clip-path=\"url(#clip500)\" d=\"M1654.33 23.3193 L1660.72 23.3193 L1660.72 62.208 L1654.33 62.208 L1654.33 23.3193 M1654.33 8.18051 L1660.72 8.18051 L1660.72 16.2707 L1654.33 16.2707 L1654.33 8.18051 Z\" fill=\"#000000\" fill-rule=\"evenodd\" fill-opacity=\"1\" /><path clip-path=\"url(#clip500)\" d=\"M1674.08 8.18051 L1680.47 8.18051 L1680.47 62.208 L1674.08 62.208 L1674.08 8.18051 Z\" fill=\"#000000\" fill-rule=\"evenodd\" fill-opacity=\"1\" /><path clip-path=\"url(#clip500)\" d=\"M1734.05 17.2777 L1724.54 43.0762 L1743.6 43.0762 L1734.05 17.2777 M1730.09 10.368 L1738.04 10.368 L1757.8 62.208 L1750.51 62.208 L1745.79 48.9095 L1722.42 48.9095 L1717.7 62.208 L1710.3 62.208 L1730.09 10.368 Z\" fill=\"#000000\" fill-rule=\"evenodd\" fill-opacity=\"1\" /><path clip-path=\"url(#clip500)\" d=\"M1771.13 10.368 L1771.13 29.6387 L1765.23 29.6387 L1765.23 10.368 L1771.13 10.368 Z\" fill=\"#000000\" fill-rule=\"evenodd\" fill-opacity=\"1\" /><path clip-path=\"url(#clip500)\" d=\"M1809.43 24.4651 L1809.43 30.5068 Q1806.72 29.1179 1803.81 28.4235 Q1800.89 27.729 1797.76 27.729 Q1793.01 27.729 1790.61 29.1873 Q1788.25 30.6457 1788.25 33.5623 Q1788.25 35.7845 1789.95 37.0692 Q1791.65 38.3192 1796.79 39.4651 L1798.98 39.9512 Q1805.78 41.4095 1808.63 44.0831 Q1811.51 46.722 1811.51 51.4789 Q1811.51 56.8955 1807.21 60.0552 Q1802.94 63.2149 1795.44 63.2149 Q1792.31 63.2149 1788.91 62.5899 Q1785.54 61.9997 1781.79 60.7844 L1781.79 54.1872 Q1785.33 56.0275 1788.77 56.965 Q1792.21 57.8677 1795.58 57.8677 Q1800.09 57.8677 1802.52 56.34 Q1804.95 54.7775 1804.95 51.965 Q1804.95 49.3608 1803.18 47.972 Q1801.44 46.5831 1795.51 45.2984 L1793.28 44.7775 Q1787.35 43.5275 1784.71 40.9581 Q1782.07 38.354 1782.07 33.8401 Q1782.07 28.354 1785.96 25.3679 Q1789.85 22.3818 1797 22.3818 Q1800.54 22.3818 1803.67 22.9027 Q1806.79 23.4235 1809.43 24.4651 Z\" fill=\"#000000\" fill-rule=\"evenodd\" fill-opacity=\"1\" /><path clip-path=\"url(#clip500)\" d=\"M1850.61 12.2777 L1850.61 23.3193 L1863.77 23.3193 L1863.77 28.2846 L1850.61 28.2846 L1850.61 49.3956 Q1850.61 54.1525 1851.9 55.5066 Q1853.22 56.8608 1857.21 56.8608 L1863.77 56.8608 L1863.77 62.208 L1857.21 62.208 Q1849.81 62.208 1847 59.465 Q1844.19 56.6872 1844.19 49.3956 L1844.19 28.2846 L1839.5 28.2846 L1839.5 23.3193 L1844.19 23.3193 L1844.19 12.2777 L1850.61 12.2777 Z\" fill=\"#000000\" fill-rule=\"evenodd\" fill-opacity=\"1\" /><path clip-path=\"url(#clip500)\" d=\"M1887.24 27.7985 Q1882.1 27.7985 1879.12 31.8262 Q1876.13 35.8193 1876.13 42.7984 Q1876.13 49.7775 1879.08 53.8053 Q1882.07 57.7983 1887.24 57.7983 Q1892.35 57.7983 1895.33 53.7705 Q1898.32 49.7428 1898.32 42.7984 Q1898.32 35.8887 1895.33 31.8609 Q1892.35 27.7985 1887.24 27.7985 M1887.24 22.3818 Q1895.58 22.3818 1900.33 27.7985 Q1905.09 33.2151 1905.09 42.7984 Q1905.09 52.3469 1900.33 57.7983 Q1895.58 63.2149 1887.24 63.2149 Q1878.87 63.2149 1874.12 57.7983 Q1869.4 52.3469 1869.4 42.7984 Q1869.4 33.2151 1874.12 27.7985 Q1878.87 22.3818 1887.24 22.3818 Z\" fill=\"#000000\" fill-rule=\"evenodd\" fill-opacity=\"1\" /><path clip-path=\"url(#clip500)\" d=\"M1966.2 42.7984 Q1966.2 35.7498 1963.28 31.7568 Q1960.4 27.729 1955.33 27.729 Q1950.26 27.729 1947.35 31.7568 Q1944.46 35.7498 1944.46 42.7984 Q1944.46 49.847 1947.35 53.8747 Q1950.26 57.8677 1955.33 57.8677 Q1960.4 57.8677 1963.28 53.8747 Q1966.2 49.847 1966.2 42.7984 M1944.46 29.2221 Q1946.48 25.7499 1949.53 24.0832 Q1952.62 22.3818 1956.9 22.3818 Q1963.98 22.3818 1968.39 28.0068 Q1972.83 33.6318 1972.83 42.7984 Q1972.83 51.965 1968.39 57.59 Q1963.98 63.2149 1956.9 63.2149 Q1952.62 63.2149 1949.53 61.5483 Q1946.48 59.8469 1944.46 56.3747 L1944.46 62.208 L1938.04 62.208 L1938.04 8.18051 L1944.46 8.18051 L1944.46 29.2221 Z\" fill=\"#000000\" fill-rule=\"evenodd\" fill-opacity=\"1\" /><path clip-path=\"url(#clip500)\" d=\"M2016.69 41.1664 L2016.69 44.2914 L1987.31 44.2914 Q1987.73 50.8886 1991.27 54.3608 Q1994.85 57.7983 2001.2 57.7983 Q2004.88 57.7983 2008.32 56.8955 Q2011.79 55.9928 2015.19 54.1872 L2015.19 60.2288 Q2011.76 61.6872 2008.14 62.4511 Q2004.53 63.2149 2000.82 63.2149 Q1991.51 63.2149 1986.06 57.7983 Q1980.65 52.3817 1980.65 43.1456 Q1980.65 33.597 1985.78 28.0068 Q1990.96 22.3818 1999.71 22.3818 Q2007.55 22.3818 2012.1 27.4512 Q2016.69 32.4859 2016.69 41.1664 M2010.3 39.2915 Q2010.23 34.0484 2007.35 30.9234 Q2004.5 27.7985 1999.78 27.7985 Q1994.43 27.7985 1991.2 30.8193 Q1988.01 33.8401 1987.52 39.3262 L2010.3 39.2915 Z\" fill=\"#000000\" fill-rule=\"evenodd\" fill-opacity=\"1\" /><path clip-path=\"url(#clip500)\" d=\"M2075.37 29.2221 L2075.37 8.18051 L2081.76 8.18051 L2081.76 62.208 L2075.37 62.208 L2075.37 56.3747 Q2073.35 59.8469 2070.26 61.5483 Q2067.21 63.2149 2062.9 63.2149 Q2055.85 63.2149 2051.41 57.59 Q2047 51.965 2047 42.7984 Q2047 33.6318 2051.41 28.0068 Q2055.85 22.3818 2062.9 22.3818 Q2067.21 22.3818 2070.26 24.0832 Q2073.35 25.7499 2075.37 29.2221 M2053.6 42.7984 Q2053.6 49.847 2056.48 53.8747 Q2059.39 57.8677 2064.46 57.8677 Q2069.53 57.8677 2072.45 53.8747 Q2075.37 49.847 2075.37 42.7984 Q2075.37 35.7498 2072.45 31.7568 Q2069.53 27.729 2064.46 27.729 Q2059.39 27.729 2056.48 31.7568 Q2053.6 35.7498 2053.6 42.7984 Z\" fill=\"#000000\" fill-rule=\"evenodd\" fill-opacity=\"1\" /><path clip-path=\"url(#clip500)\" d=\"M2128.18 41.1664 L2128.18 44.2914 L2098.8 44.2914 Q2099.22 50.8886 2102.76 54.3608 Q2106.34 57.7983 2112.69 57.7983 Q2116.37 57.7983 2119.81 56.8955 Q2123.28 55.9928 2126.69 54.1872 L2126.69 60.2288 Q2123.25 61.6872 2119.64 62.4511 Q2116.03 63.2149 2112.31 63.2149 Q2103.01 63.2149 2097.55 57.7983 Q2092.14 52.3817 2092.14 43.1456 Q2092.14 33.597 2097.28 28.0068 Q2102.45 22.3818 2111.2 22.3818 Q2119.05 22.3818 2123.6 27.4512 Q2128.18 32.4859 2128.18 41.1664 M2121.79 39.2915 Q2121.72 34.0484 2118.84 30.9234 Q2115.99 27.7985 2111.27 27.7985 Q2105.92 27.7985 2102.69 30.8193 Q2099.5 33.8401 2099.01 39.3262 L2121.79 39.2915 Z\" fill=\"#000000\" fill-rule=\"evenodd\" fill-opacity=\"1\" /><path clip-path=\"url(#clip500)\" d=\"M2138.67 8.18051 L2145.05 8.18051 L2145.05 62.208 L2138.67 62.208 L2138.67 8.18051 Z\" fill=\"#000000\" fill-rule=\"evenodd\" fill-opacity=\"1\" /><path clip-path=\"url(#clip500)\" d=\"M2158.42 23.3193 L2164.81 23.3193 L2164.81 62.208 L2158.42 62.208 L2158.42 23.3193 M2158.42 8.18051 L2164.81 8.18051 L2164.81 16.2707 L2158.42 16.2707 L2158.42 8.18051 Z\" fill=\"#000000\" fill-rule=\"evenodd\" fill-opacity=\"1\" /><path clip-path=\"url(#clip500)\" d=\"M2173.6 23.3193 L2180.37 23.3193 L2192.52 55.958 L2204.67 23.3193 L2211.44 23.3193 L2196.86 62.208 L2188.18 62.208 L2173.6 23.3193 Z\" fill=\"#000000\" fill-rule=\"evenodd\" fill-opacity=\"1\" /><path clip-path=\"url(#clip500)\" d=\"M2253.53 41.1664 L2253.53 44.2914 L2224.15 44.2914 Q2224.57 50.8886 2228.11 54.3608 Q2231.69 57.7983 2238.04 57.7983 Q2241.72 57.7983 2245.16 56.8955 Q2248.63 55.9928 2252.03 54.1872 L2252.03 60.2288 Q2248.6 61.6872 2244.98 62.4511 Q2241.37 63.2149 2237.66 63.2149 Q2228.35 63.2149 2222.9 57.7983 Q2217.48 52.3817 2217.48 43.1456 Q2217.48 33.597 2222.62 28.0068 Q2227.8 22.3818 2236.55 22.3818 Q2244.39 22.3818 2248.94 27.4512 Q2253.53 32.4859 2253.53 41.1664 M2247.14 39.2915 Q2247.07 34.0484 2244.19 30.9234 Q2241.34 27.7985 2236.62 27.7985 Q2231.27 27.7985 2228.04 30.8193 Q2224.85 33.8401 2224.36 39.3262 L2247.14 39.2915 Z\" fill=\"#000000\" fill-rule=\"evenodd\" fill-opacity=\"1\" /><path clip-path=\"url(#clip500)\" d=\"M2286.55 29.2915 Q2285.47 28.6665 2284.19 28.3887 Q2282.94 28.0762 2281.41 28.0762 Q2275.99 28.0762 2273.07 31.6179 Q2270.19 35.1248 2270.19 41.722 L2270.19 62.208 L2263.77 62.208 L2263.77 23.3193 L2270.19 23.3193 L2270.19 29.361 Q2272.21 25.8193 2275.44 24.1179 Q2278.66 22.3818 2283.28 22.3818 Q2283.94 22.3818 2284.74 22.486 Q2285.54 22.5554 2286.51 22.729 L2286.55 29.2915 Z\" fill=\"#000000\" fill-rule=\"evenodd\" fill-opacity=\"1\" /><path clip-path=\"url(#clip500)\" d=\"M2324.95 41.1664 L2324.95 44.2914 L2295.57 44.2914 Q2295.99 50.8886 2299.53 54.3608 Q2303.11 57.7983 2309.46 57.7983 Q2313.14 57.7983 2316.58 56.8955 Q2320.05 55.9928 2323.46 54.1872 L2323.46 60.2288 Q2320.02 61.6872 2316.41 62.4511 Q2312.8 63.2149 2309.08 63.2149 Q2299.78 63.2149 2294.32 57.7983 Q2288.91 52.3817 2288.91 43.1456 Q2288.91 33.597 2294.05 28.0068 Q2299.22 22.3818 2307.97 22.3818 Q2315.82 22.3818 2320.37 27.4512 Q2324.95 32.4859 2324.95 41.1664 M2318.56 39.2915 Q2318.49 34.0484 2315.61 30.9234 Q2312.76 27.7985 2308.04 27.7985 Q2302.69 27.7985 2299.46 30.8193 Q2296.27 33.8401 2295.78 39.3262 L2318.56 39.2915 Z\" fill=\"#000000\" fill-rule=\"evenodd\" fill-opacity=\"1\" /><path clip-path=\"url(#clip500)\" d=\"M2361.02 29.2221 L2361.02 8.18051 L2367.41 8.18051 L2367.41 62.208 L2361.02 62.208 L2361.02 56.3747 Q2359.01 59.8469 2355.92 61.5483 Q2352.87 63.2149 2348.56 63.2149 Q2341.51 63.2149 2337.07 57.59 Q2332.66 51.965 2332.66 42.7984 Q2332.66 33.6318 2337.07 28.0068 Q2341.51 22.3818 2348.56 22.3818 Q2352.87 22.3818 2355.92 24.0832 Q2359.01 25.7499 2361.02 29.2221 M2339.25 42.7984 Q2339.25 49.847 2342.14 53.8747 Q2345.05 57.8677 2350.12 57.8677 Q2355.19 57.8677 2358.11 53.8747 Q2361.02 49.847 2361.02 42.7984 Q2361.02 35.7498 2358.11 31.7568 Q2355.19 27.729 2350.12 27.729 Q2345.05 27.729 2342.14 31.7568 Q2339.25 35.7498 2339.25 42.7984 Z\" fill=\"#000000\" fill-rule=\"evenodd\" fill-opacity=\"1\" /><path clip-path=\"url(#clip502)\" d=\"\n",
       "M356.325 215.112 L356.325 2693.78 L472.769 2693.78 L472.769 215.112 L356.325 215.112 L356.325 215.112  Z\n",
       "  \" fill=\"#009af9\" fill-rule=\"evenodd\" fill-opacity=\"1\"/>\n",
       "<polyline clip-path=\"url(#clip502)\" style=\"stroke:#000000; stroke-linecap:butt; stroke-linejoin:round; stroke-width:4; stroke-opacity:1; fill:none\" points=\"\n",
       "  356.325,215.112 356.325,2693.78 472.769,2693.78 472.769,215.112 356.325,215.112 \n",
       "  \"/>\n",
       "<path clip-path=\"url(#clip502)\" d=\"\n",
       "M472.769 2693.78 L472.769 2693.78 L589.212 2693.78 L589.212 2693.78 L472.769 2693.78 L472.769 2693.78  Z\n",
       "  \" fill=\"#009af9\" fill-rule=\"evenodd\" fill-opacity=\"1\"/>\n",
       "<polyline clip-path=\"url(#clip502)\" style=\"stroke:#000000; stroke-linecap:butt; stroke-linejoin:round; stroke-width:4; stroke-opacity:1; fill:none\" points=\"\n",
       "  472.769,2693.78 472.769,2693.78 589.212,2693.78 472.769,2693.78 \n",
       "  \"/>\n",
       "<path clip-path=\"url(#clip502)\" d=\"\n",
       "M589.212 2693.78 L589.212 2693.78 L705.655 2693.78 L705.655 2693.78 L589.212 2693.78 L589.212 2693.78  Z\n",
       "  \" fill=\"#009af9\" fill-rule=\"evenodd\" fill-opacity=\"1\"/>\n",
       "<polyline clip-path=\"url(#clip502)\" style=\"stroke:#000000; stroke-linecap:butt; stroke-linejoin:round; stroke-width:4; stroke-opacity:1; fill:none\" points=\"\n",
       "  589.212,2693.78 589.212,2693.78 705.655,2693.78 589.212,2693.78 \n",
       "  \"/>\n",
       "<path clip-path=\"url(#clip502)\" d=\"\n",
       "M705.655 2693.78 L705.655 2693.78 L822.099 2693.78 L822.099 2693.78 L705.655 2693.78 L705.655 2693.78  Z\n",
       "  \" fill=\"#009af9\" fill-rule=\"evenodd\" fill-opacity=\"1\"/>\n",
       "<polyline clip-path=\"url(#clip502)\" style=\"stroke:#000000; stroke-linecap:butt; stroke-linejoin:round; stroke-width:4; stroke-opacity:1; fill:none\" points=\"\n",
       "  705.655,2693.78 705.655,2693.78 822.099,2693.78 705.655,2693.78 \n",
       "  \"/>\n",
       "<path clip-path=\"url(#clip502)\" d=\"\n",
       "M822.099 2693.78 L822.099 2693.78 L938.542 2693.78 L938.542 2693.78 L822.099 2693.78 L822.099 2693.78  Z\n",
       "  \" fill=\"#009af9\" fill-rule=\"evenodd\" fill-opacity=\"1\"/>\n",
       "<polyline clip-path=\"url(#clip502)\" style=\"stroke:#000000; stroke-linecap:butt; stroke-linejoin:round; stroke-width:4; stroke-opacity:1; fill:none\" points=\"\n",
       "  822.099,2693.78 822.099,2693.78 938.542,2693.78 822.099,2693.78 \n",
       "  \"/>\n",
       "<path clip-path=\"url(#clip502)\" d=\"\n",
       "M938.542 2693.78 L938.542 2693.78 L1054.99 2693.78 L1054.99 2693.78 L938.542 2693.78 L938.542 2693.78  Z\n",
       "  \" fill=\"#009af9\" fill-rule=\"evenodd\" fill-opacity=\"1\"/>\n",
       "<polyline clip-path=\"url(#clip502)\" style=\"stroke:#000000; stroke-linecap:butt; stroke-linejoin:round; stroke-width:4; stroke-opacity:1; fill:none\" points=\"\n",
       "  938.542,2693.78 938.542,2693.78 1054.99,2693.78 938.542,2693.78 \n",
       "  \"/>\n",
       "<path clip-path=\"url(#clip502)\" d=\"\n",
       "M1054.99 2693.78 L1054.99 2693.78 L1171.43 2693.78 L1171.43 2693.78 L1054.99 2693.78 L1054.99 2693.78  Z\n",
       "  \" fill=\"#009af9\" fill-rule=\"evenodd\" fill-opacity=\"1\"/>\n",
       "<polyline clip-path=\"url(#clip502)\" style=\"stroke:#000000; stroke-linecap:butt; stroke-linejoin:round; stroke-width:4; stroke-opacity:1; fill:none\" points=\"\n",
       "  1054.99,2693.78 1054.99,2693.78 1171.43,2693.78 1054.99,2693.78 \n",
       "  \"/>\n",
       "<path clip-path=\"url(#clip502)\" d=\"\n",
       "M1171.43 2693.78 L1171.43 2693.78 L1287.87 2693.78 L1287.87 2693.78 L1171.43 2693.78 L1171.43 2693.78  Z\n",
       "  \" fill=\"#009af9\" fill-rule=\"evenodd\" fill-opacity=\"1\"/>\n",
       "<polyline clip-path=\"url(#clip502)\" style=\"stroke:#000000; stroke-linecap:butt; stroke-linejoin:round; stroke-width:4; stroke-opacity:1; fill:none\" points=\"\n",
       "  1171.43,2693.78 1171.43,2693.78 1287.87,2693.78 1171.43,2693.78 \n",
       "  \"/>\n",
       "<path clip-path=\"url(#clip502)\" d=\"\n",
       "M1287.87 2693.78 L1287.87 2693.78 L1404.32 2693.78 L1404.32 2693.78 L1287.87 2693.78 L1287.87 2693.78  Z\n",
       "  \" fill=\"#009af9\" fill-rule=\"evenodd\" fill-opacity=\"1\"/>\n",
       "<polyline clip-path=\"url(#clip502)\" style=\"stroke:#000000; stroke-linecap:butt; stroke-linejoin:round; stroke-width:4; stroke-opacity:1; fill:none\" points=\"\n",
       "  1287.87,2693.78 1287.87,2693.78 1404.32,2693.78 1287.87,2693.78 \n",
       "  \"/>\n",
       "<path clip-path=\"url(#clip502)\" d=\"\n",
       "M1404.32 2693.78 L1404.32 2693.78 L1520.76 2693.78 L1520.76 2693.78 L1404.32 2693.78 L1404.32 2693.78  Z\n",
       "  \" fill=\"#009af9\" fill-rule=\"evenodd\" fill-opacity=\"1\"/>\n",
       "<polyline clip-path=\"url(#clip502)\" style=\"stroke:#000000; stroke-linecap:butt; stroke-linejoin:round; stroke-width:4; stroke-opacity:1; fill:none\" points=\"\n",
       "  1404.32,2693.78 1404.32,2693.78 1520.76,2693.78 1404.32,2693.78 \n",
       "  \"/>\n",
       "<path clip-path=\"url(#clip502)\" d=\"\n",
       "M1520.76 2198.05 L1520.76 2693.78 L1637.2 2693.78 L1637.2 2198.05 L1520.76 2198.05 L1520.76 2198.05  Z\n",
       "  \" fill=\"#009af9\" fill-rule=\"evenodd\" fill-opacity=\"1\"/>\n",
       "<polyline clip-path=\"url(#clip502)\" style=\"stroke:#000000; stroke-linecap:butt; stroke-linejoin:round; stroke-width:4; stroke-opacity:1; fill:none\" points=\"\n",
       "  1520.76,2198.05 1520.76,2693.78 1637.2,2693.78 1637.2,2198.05 1520.76,2198.05 \n",
       "  \"/>\n",
       "<path clip-path=\"url(#clip502)\" d=\"\n",
       "M1637.2 2693.78 L1637.2 2693.78 L1753.65 2693.78 L1753.65 2693.78 L1637.2 2693.78 L1637.2 2693.78  Z\n",
       "  \" fill=\"#009af9\" fill-rule=\"evenodd\" fill-opacity=\"1\"/>\n",
       "<polyline clip-path=\"url(#clip502)\" style=\"stroke:#000000; stroke-linecap:butt; stroke-linejoin:round; stroke-width:4; stroke-opacity:1; fill:none\" points=\"\n",
       "  1637.2,2693.78 1637.2,2693.78 1753.65,2693.78 1637.2,2693.78 \n",
       "  \"/>\n",
       "<path clip-path=\"url(#clip502)\" d=\"\n",
       "M1753.65 2693.78 L1753.65 2693.78 L1870.09 2693.78 L1870.09 2693.78 L1753.65 2693.78 L1753.65 2693.78  Z\n",
       "  \" fill=\"#009af9\" fill-rule=\"evenodd\" fill-opacity=\"1\"/>\n",
       "<polyline clip-path=\"url(#clip502)\" style=\"stroke:#000000; stroke-linecap:butt; stroke-linejoin:round; stroke-width:4; stroke-opacity:1; fill:none\" points=\"\n",
       "  1753.65,2693.78 1753.65,2693.78 1870.09,2693.78 1753.65,2693.78 \n",
       "  \"/>\n",
       "<path clip-path=\"url(#clip502)\" d=\"\n",
       "M1870.09 2693.78 L1870.09 2693.78 L1986.53 2693.78 L1986.53 2693.78 L1870.09 2693.78 L1870.09 2693.78  Z\n",
       "  \" fill=\"#009af9\" fill-rule=\"evenodd\" fill-opacity=\"1\"/>\n",
       "<polyline clip-path=\"url(#clip502)\" style=\"stroke:#000000; stroke-linecap:butt; stroke-linejoin:round; stroke-width:4; stroke-opacity:1; fill:none\" points=\"\n",
       "  1870.09,2693.78 1870.09,2693.78 1986.53,2693.78 1870.09,2693.78 \n",
       "  \"/>\n",
       "<path clip-path=\"url(#clip502)\" d=\"\n",
       "M1986.53 2693.78 L1986.53 2693.78 L2102.98 2693.78 L2102.98 2693.78 L1986.53 2693.78 L1986.53 2693.78  Z\n",
       "  \" fill=\"#009af9\" fill-rule=\"evenodd\" fill-opacity=\"1\"/>\n",
       "<polyline clip-path=\"url(#clip502)\" style=\"stroke:#000000; stroke-linecap:butt; stroke-linejoin:round; stroke-width:4; stroke-opacity:1; fill:none\" points=\"\n",
       "  1986.53,2693.78 1986.53,2693.78 2102.98,2693.78 1986.53,2693.78 \n",
       "  \"/>\n",
       "<path clip-path=\"url(#clip502)\" d=\"\n",
       "M2102.98 2693.78 L2102.98 2693.78 L2219.42 2693.78 L2219.42 2693.78 L2102.98 2693.78 L2102.98 2693.78  Z\n",
       "  \" fill=\"#009af9\" fill-rule=\"evenodd\" fill-opacity=\"1\"/>\n",
       "<polyline clip-path=\"url(#clip502)\" style=\"stroke:#000000; stroke-linecap:butt; stroke-linejoin:round; stroke-width:4; stroke-opacity:1; fill:none\" points=\"\n",
       "  2102.98,2693.78 2102.98,2693.78 2219.42,2693.78 2102.98,2693.78 \n",
       "  \"/>\n",
       "<path clip-path=\"url(#clip502)\" d=\"\n",
       "M2219.42 2693.78 L2219.42 2693.78 L2335.86 2693.78 L2335.86 2693.78 L2219.42 2693.78 L2219.42 2693.78  Z\n",
       "  \" fill=\"#009af9\" fill-rule=\"evenodd\" fill-opacity=\"1\"/>\n",
       "<polyline clip-path=\"url(#clip502)\" style=\"stroke:#000000; stroke-linecap:butt; stroke-linejoin:round; stroke-width:4; stroke-opacity:1; fill:none\" points=\"\n",
       "  2219.42,2693.78 2219.42,2693.78 2335.86,2693.78 2219.42,2693.78 \n",
       "  \"/>\n",
       "<path clip-path=\"url(#clip502)\" d=\"\n",
       "M2335.86 2693.78 L2335.86 2693.78 L2452.31 2693.78 L2452.31 2693.78 L2335.86 2693.78 L2335.86 2693.78  Z\n",
       "  \" fill=\"#009af9\" fill-rule=\"evenodd\" fill-opacity=\"1\"/>\n",
       "<polyline clip-path=\"url(#clip502)\" style=\"stroke:#000000; stroke-linecap:butt; stroke-linejoin:round; stroke-width:4; stroke-opacity:1; fill:none\" points=\"\n",
       "  2335.86,2693.78 2335.86,2693.78 2452.31,2693.78 2335.86,2693.78 \n",
       "  \"/>\n",
       "<path clip-path=\"url(#clip502)\" d=\"\n",
       "M2452.31 2693.78 L2452.31 2693.78 L2568.75 2693.78 L2568.75 2693.78 L2452.31 2693.78 L2452.31 2693.78  Z\n",
       "  \" fill=\"#009af9\" fill-rule=\"evenodd\" fill-opacity=\"1\"/>\n",
       "<polyline clip-path=\"url(#clip502)\" style=\"stroke:#000000; stroke-linecap:butt; stroke-linejoin:round; stroke-width:4; stroke-opacity:1; fill:none\" points=\"\n",
       "  2452.31,2693.78 2452.31,2693.78 2568.75,2693.78 2452.31,2693.78 \n",
       "  \"/>\n",
       "<path clip-path=\"url(#clip502)\" d=\"\n",
       "M2568.75 2693.78 L2568.75 2693.78 L2685.19 2693.78 L2685.19 2693.78 L2568.75 2693.78 L2568.75 2693.78  Z\n",
       "  \" fill=\"#009af9\" fill-rule=\"evenodd\" fill-opacity=\"1\"/>\n",
       "<polyline clip-path=\"url(#clip502)\" style=\"stroke:#000000; stroke-linecap:butt; stroke-linejoin:round; stroke-width:4; stroke-opacity:1; fill:none\" points=\"\n",
       "  2568.75,2693.78 2568.75,2693.78 2685.19,2693.78 2568.75,2693.78 \n",
       "  \"/>\n",
       "<path clip-path=\"url(#clip502)\" d=\"\n",
       "M2685.19 2198.05 L2685.19 2693.78 L2801.64 2693.78 L2801.64 2198.05 L2685.19 2198.05 L2685.19 2198.05  Z\n",
       "  \" fill=\"#009af9\" fill-rule=\"evenodd\" fill-opacity=\"1\"/>\n",
       "<polyline clip-path=\"url(#clip502)\" style=\"stroke:#000000; stroke-linecap:butt; stroke-linejoin:round; stroke-width:4; stroke-opacity:1; fill:none\" points=\"\n",
       "  2685.19,2198.05 2685.19,2693.78 2801.64,2693.78 2801.64,2198.05 2685.19,2198.05 \n",
       "  \"/>\n",
       "</svg>\n"
      ]
     },
     "metadata": {},
     "output_type": "display_data"
    }
   ],
   "source": [
    "display(histogram(time_diff_B, nbins=20, title = \"Time taken to be for mail A's to be delivered\", \n",
    "            xlabel = \"Time taken\", ylabel = \"Counts\",legend=false,titlefontsize=12)) "
   ]
  },
  {
   "cell_type": "markdown",
   "metadata": {},
   "source": [
    "## Plot animation"
   ]
  },
  {
   "cell_type": "code",
   "execution_count": 23,
   "metadata": {},
   "outputs": [
    {
     "data": {
      "text/plain": [
       "plotMapFromConnectivity (generic function with 1 method)"
      ]
     },
     "execution_count": 23,
     "metadata": {},
     "output_type": "execute_result"
    }
   ],
   "source": [
    "function plotMapFromConnectivity(C,nCol,nRow;hotspot=nothing)\n",
    "    # C is the connectivity matrix\n",
    "    # nCol is the number of columns\n",
    "    # nRow is the number of rows\n",
    "    # hotspot, a keyword argument, is the congested spot which default to nothing\n",
    "    \n",
    "    # rectrangular patch\n",
    "    rect(w, h, x, y) = Shape(x .+ [0,w,w,0], y .+ [0,0,h,h])\n",
    "    # convert 1D to 2D index\n",
    "    getXY= (x) -> ((x.-1) .% nCol .+ 1,(x.-1) .÷ nCol .+ 1 ) ;\n",
    "    \n",
    "    plot(xlim=(0,nCol), xticks=[0:nCol;],ylim=(0,nRow),yticks=[0:nRow;],\n",
    "        legend=false,aspect_ratio=:equal,framestyle=:box,\n",
    "        grid=true,foreground_color_grid=:black,gridalpha=1,gridlinewidth=1)\n",
    "    \n",
    "#     unreachable cells: black\n",
    "    s=dropdims(sum(C[1:end-1,2:end-1],dims=1),dims=1)\n",
    "    for i in findall(x->x==0,s)\n",
    "        x,y=getXY(i)\n",
    "        plot!(rect(1,1,x-1,y-1),color=:black)\n",
    "    end\n",
    "    \n",
    "#     entry sites: transparent green\n",
    "    entries=findall(x->x==1,C[1,:])\n",
    "    for i in entries\n",
    "        x,y=getXY(i-1)\n",
    "        plot!(rect(1,1,x-1,y-1),color=:green,opacity=0.2,\n",
    "            annotation = [(x-0.5, y-0.2, \"entry\")],annotationfontsize=8)\n",
    "    end   \n",
    "    \n",
    "#     exit sites: transparent red\n",
    "    exits=findall(x->x==1,C[2:end-1,end])\n",
    "    for i in exits\n",
    "        x,y=getXY(i)\n",
    "        plot!(rect(1,1,x-1,y-1),color=:red,opacity=0.2,\n",
    "            annotation = [(x-0.5, y-0.8, \"exit\")],annotationfontsize=8)\n",
    "    end\n",
    "\n",
    "#  connected site: arrow   \n",
    "    s=dropdims(sum(C[2:end-1,2:end-1],dims=2),dims=2)    \n",
    "    for r in findall(x->x>0,s)\n",
    "        reachable=findall(x->x==1,C[r+1,2:end-1])\n",
    "        x0,y0=getXY(r) \n",
    "        x1,y1=getXY(reachable)\n",
    "        dx,dy=x1.-x0,y1.-y0;\n",
    "        quiver!([x0-0.5].+0.25.*dx,[y0-0.5].+0.25.*dy,\n",
    "                quiver=((dx.*0.5,dy.*0.5)),color=:black)\n",
    "    end\n",
    "    \n",
    "#  hotspot: dotted outline\n",
    "    if !isnothing(hotspot)\n",
    "        for i in hotspot\n",
    "            x,y=getXY(i)\n",
    "            plot!([x-1,x-1,x,x,x-1],[y-1,y,y,y-1,y-1],color=:red,linewidth=3,linestyle=:dot)\n",
    "        end\n",
    "    end\n",
    "    return current()\n",
    "end"
   ]
  },
  {
   "cell_type": "code",
   "execution_count": 24,
   "metadata": {},
   "outputs": [
    {
     "data": {
      "text/plain": [
       "plotAllCarAtOneInstant2 (generic function with 1 method)"
      ]
     },
     "execution_count": 24,
     "metadata": {},
     "output_type": "execute_result"
    }
   ],
   "source": [
    "function plotAllCarAtOneInstant2(H,t,nCol,nRow;c=palette(:tab10))\n",
    "    # H is the history matrix\n",
    "    # t is time step\n",
    "    # nCol is the number of columns\n",
    "    # nRow is the number of rows\n",
    "    # c, a keyword argument, is the color palette which default to tab10\n",
    "    pos=H[:,t];\n",
    "    maxNodes=nCol*nRow;\n",
    "    getXY= (x) -> ((x.-1) .% nCol .+ 1,(x.-1) .÷ nCol .+ 1 ) ;    \n",
    "    \n",
    "    id=findall(x->x>0 && x<=maxNodes,pos);\n",
    "    x,y=getXY(pos[id]);\n",
    "    annot=[(xx-0.5,yy-0.5,\"$(i)\") for (i,xx,yy) in zip(id,x,y)];\n",
    "    shape=[:circle for i in id];\n",
    "    (t>1) && (shape[H[id,t-1].==0].=:diamond);\n",
    "    \n",
    "    return scatter!(x.-0.5,y.-0.5,color=c[(id.-1).%length(c).+1],\n",
    "                    title=\"t=$(t-1)\",\n",
    "                    annotation = annot, annotationfontsize=9,\n",
    "                    markershape=shape, markersize=16, markerstrokewidth=2)\n",
    "end"
   ]
  },
  {
   "cell_type": "code",
   "execution_count": 25,
   "metadata": {
    "jupyter": {
     "source_hidden": true
    },
    "tags": []
   },
   "outputs": [
    {
     "data": {
      "text/plain": [
       "congest_plot2 (generic function with 1 method)"
      ]
     },
     "execution_count": 25,
     "metadata": {},
     "output_type": "execute_result"
    }
   ],
   "source": [
    "function congest_plot2(H,a,b,L)\n",
    "    ## H is the history matrix\n",
    "    # a is the starting time chosen to check congestion\n",
    "    # b is the final time\n",
    "    # L is the number of sites\n",
    "    \n",
    "    counter=zeros(Int64,L) # the histogram \n",
    "    \n",
    "    # use run length encoding to count\n",
    "    for row in eachrow(H[:,a:b])\n",
    "        p=filter(x-> x>0 && x<=L,row)\n",
    "        for (k,l) in zip(rle(p)...) # run length encoding\n",
    "            counter[k]+= l-1 #do not count the first occurence\n",
    "        end\n",
    "    end    \n",
    "    \n",
    "    # implementation 2: only traverse H once\n",
    "#     for row in eachrow(H[:,a:b])\n",
    "#         iter = Iterators.filter(x-> x>0 && x<=L,row)\n",
    "#         (item1, state) = iterate(iter)\n",
    "#         while (iter2=iterate(iter, state)) != nothing\n",
    "#             (item2, state) = iter2        \n",
    "#             item1==item2 && (counter[item1]+=1)\n",
    "#             item1=item2\n",
    "#         end\n",
    "#     end\n",
    "    \n",
    "    x_point=findall(x->x==maximum(counter),counter)\n",
    "    \n",
    "    display(bar(counter,bar_edges=true,bar_width=1,xticks=[1:L;],\n",
    "                title = \"Congestion plot from time t=$a to t=$b\", \n",
    "                xlabel = \"Position\", ylabel = \"Number of cars halted\",\n",
    "                legend=false,titlefontsize=12))\n",
    "        \n",
    "    println(\"The maximum congetsion is at position $x_point during the time t=$a to t=$b\")\n",
    "    return x_point\n",
    "end"
   ]
  },
  {
   "cell_type": "code",
   "execution_count": 26,
   "metadata": {},
   "outputs": [],
   "source": [
    "NMail = 10; # number of mails\n",
    "tM = 35; # total time steps\n",
    "L = 6; # number of sites\n",
    "numA = 3 # mail A number\n",
    "numB = NMail - numA # mail B number\n",
    "\n",
    "C = connect_matrix_2D();\n",
    "conn_matA = connect_matrix_A()\n",
    "conn_matB = connect_matrix_B()\n",
    "H = initialize_H(NMail,tM);\n",
    "for it = 1:tM+1\n",
    "    H = next_step_k(H,it,C,L,numA,conn_matA,conn_matB);\n",
    "end\n",
    "\n",
    "nCol = 3;\n",
    "nRow = 2;\n",
    "gr(size=(750,750))\n",
    "anim = Animation()\n",
    "p4=plotMapFromConnectivity(C,nCol,nRow);\n",
    "# p4=plotMapFromConnectivity(C,nCol,nRow;hotspot=ct4);\n",
    "for t=1:tM+2-sum(sum(H.==nCol*nRow+1,dims=1).==L)\n",
    "    plot(deepcopy(p4))\n",
    "    plotAllCarAtOneInstant2(H,t,nCol,nRow;c=palette(:tab20))\n",
    "    frame(anim)\n",
    "end"
   ]
  },
  {
   "cell_type": "code",
   "execution_count": 27,
   "metadata": {
    "tags": []
   },
   "outputs": [
    {
     "name": "stderr",
     "output_type": "stream",
     "text": [
      "┌ Info: Saved animation to \n",
      "│   fn = C:\\Users\\dario\\Singapore University of Technology and Design\\Chua Xue Li - SHARP\\SHARP_Presentation_Activity\\Delivery\\simulation.gif\n",
      "└ @ Plots C:\\Users\\dario\\.julia\\packages\\Plots\\zd6zi\\src\\animation.jl:104\n"
     ]
    },
    {
     "data": {
      "text/html": [
       "<img src=\"data:image/gif;base64,R0lGODlh7gLuAvcBAAAAAAD/AAECAgQEBAUQGQUVIAcFBQcUBwgfMAkQBwoKCQoLDAwGBAwvRw4yDg86WBANDhFDZRIYIRMTExMZERQTFxRPeBZPFhZXhBcXFxgHBxkFBRoqGhplmhsbGxwUFBwgHBxnHB1xrB91sh93tCAQDiIcHSMjHCMjIyNagCOBIyUZEyUjJSUkKCkQBikqKiofNSqaKiwwKyygLC8wMC9CLTAzNzRPMDUsLDYzMjY2NjcbDDczOzgjIzgpGjg/Ojo6OjtCOz1EPUESCUE8PEFVPkI/QUJCQkNERkQxKURJVkUmJkc0WUhSYEpVY0pdSkslBEtLS05ZaE5yR1BTUFIzLVJSUlNWU1RYaFZQUFZYVlk1LFk+cloiCVpaWl1KSl8VFl84OGBgYGJYWGNGMWNdZ2VlZWVxZWY/P2ZJgGaVXGc6OmdnaGhraGl2d2ojDWp6jms/Pmttb21XV21xcW5SPG9DQW9hkG+La3CAlXQVFXVGRXVWN3VhmHV1dXWGnHdXOHiJoHo8Bnp3fHxjY31bOn2CfX2ndYFNTIFapYGUrIKTgoRgPoTCeIVCB4WFhYZzloictomJiYpaWoqKiotmQYtsp4yfs42NjY2ejY4ZGo5yco6Ojo6gjo+Pj5FWVZKSkpLWhZNmvJSpxpZLCJaDpZclGJdoaJeYl5hoaJiQkJjfippuS5qbnZx9fZ5+fp6enp+zn5+21KFQCaOjo6SDg6WnpaZjYaZ3d6adnaajp6rD46uJiaurq6y0vq7H6K/Hr7Gev7GxsbKDVLKOjrSbsbXLtbaHX7dbCre3t7m5uboiIrq6uru6u7y+vMByccGQaMGbm8LOwsSv1MTExMbexsrKyszMzMzlzM10c8+mptB8etDQ0NFoC9J9e9MwI9UmJ9V/fdbW1thsDNjY2NqurtyiaNzc3N2EguHh4eKwsONxDObm5ue5ueiKiOzs7PHx8fLBwfPz8/SSj/V6Dfa0dPf39/nHx/zJyf2WlP39/f9/Dv+Ylv+7eP/MzP///yH/C05FVFNDQVBFMi4wAwEAAAAh+QQFZAABACwAAAAA7gLuAocAAAAA/wABAgIEBAQFEBkFFSAHBQUHFAcIHzAJEAcKCgkKCwwMBgQML0cOMg4POlgQDQ4RQ2USGCETExMTGREUExcUT3gWTxYWV4QXFxcYBwcZBQUaKhoaZZobGxscFBQcIBwcZxwdcawfdbIfd7QgEA4iHB0jIxwjIyMjWoAjgSMlGRMlIyUlJCgpEAYpKioqHzUqmiosMCssoCwvMDAvQi0wMzc0TzA1LCw2MzI2NjY3Gww3Mzs4IyM4KRo4Pzo6Ojo7Qjs9RD1BEglBPDxBVT5CP0FCQkJDREZEMSlESVZFJiZHNFlIUmBKVWNKXUpLJQRLS0tOWWhOckdQU1BSMy1SUlJTVlNUWGhWUFBWWFZZNSxZPnJaIglaWlpdSkpfFRZfODhgYGBiWFhjRjFjXWdlZWVlcWVmPz9mSYBmlVxnOjpnZ2hoa2hpdndqIw1qeo5rPz5rbW9tV1dtcXFuUjxvQ0FvYZBvi2twgJV0FRV1RkV1Vjd1YZh1dXV1hpx3Vzh4iaB6PAZ6d3x8Y2N9Wzp9gn19p3WBTUyBWqWBlKyCk4KEYD6EwniFQgeFhYWGc5aInLaJiYmKWlqKioqLZkGLbKeMn7ONjY2Nno2OGRqOcnKOjo6OoI6Pj4+RVlWSkpKS1oWTZryUqcaWSwiWg6WXJRiXaGiXmJeYaGiYkJCY34qabkuam52cfX2efn6enp6fs5+fttShUAmjo6Okg4Olp6WmY2Gmd3emnZ2mo6eqw+OriYmrq6ustL6ux+ivx6+xnr+xsbGyg1Syjo60m7G1y7W2h1+3Wwq3t7e5ubm6IiK6urq7uru8vrzAcnHBkGjBm5vCzsLEr9TExMTG3sbKysrMzMzM5czNdHPPpqbQfHrQ0NDRaAvSfXvTMCPVJifVf33W1tbYbAzY2Njarq7comjc3NzdhILh4eHisLDjcQzm5ubnubnoiojs7Ozx8fHywcHz8/P0ko/1eg32tHT39/f5x8f8ycn9lpT9/f3/fw7/mJb/u3j/zMz///8I/wD/CRxIsKDBgwgTKlzIsKHDhxAjSpxIsaLFixgzatzIsaPHjyBDihxJsqTJkyhTqlzJsqXLlzBjypxJs6bNmzhz6tzJsyfBd9a42fNJtKjRo0iTKl3KlGY6VNQwvvMyAAAACJKaat3KtavXr2DDghQGgM5Fe0AAAAH1yAMAQ2Ljyp1Lt67duyfJmrWICgCRof/SQRhwDq/hw4gTK16s9BwmAF6uSX43kYYAZwT9CBjEuLPnz6BDi6ZoxappAKgkvhOwQB9BZwJ0jJ5Nu7bt22G5GRJgpZlvdgKdNVNGvLhxZYCpAXhRkN1V3NCjS59OvaVegxlOazdN+R9ZIAXtWf8FXL28+fPo0xu8XrAVqPfw478HbAtAFIMGAHRXz7+///+MsUdRLwIQEZ4AAMgD4IIMNuigVgIOlM45FFZoIYWu/ePMcs0BoECGD4Yo4ogkuhShQNltp113zk0A4j/WACBDiTTWaOONGAkjgBwGDdKGHD8GCeSQCgqEAgDXECQJAG3g6OSTUELJDQBUXGQIZAPJc2RUUXbp5ZcL2jOYHKC0Is5E8BxpBjXCpKUFmHDGKSd1whxpVWoTkUPDaV6QN+efgAbamT0UwlORPtS0Qgs5gjbq6KOQRirppJRWaumlmGaq6aacdurpp6CGKuqopJZq6qmopqrqqqy26uqrsMb/KuustNZq66245qrrrrz26uuvwAYr7LDEFmvsscgmq+yyzDbr7LPQRivttNRWa+212Gar7bbcduvtt+CGK+645JZr7rnopqvuuuy26+678MYr77z01mvvvfjmq+++/Pbr778AByzwwAQXbPDBCCes8MIMN+zwwxBHLPHEFFds8cUYZ6zxxhx37PHHIIcs8sgkl2zyySinrPLKLLfs8sswxyzzzDTXbPPNOOes88489+zzz0AHLfTQRBdt9NFIJ6300kw37fTTUEct9dRUV2311VhnrfXWXHft9ddghy322GSXbfbZaKet9tpst+3223DHLffcdNdt991456333nz3/+3334AHLvjghBdu+OGIJ6744ow37vjjkEcu+eSUV2755ZhnrvnmnHfu+eeghy766KSXbvrpqKeu+uqsl80OKmKIYcuLrVfsiRewwAICXLVv3AsKvW/sCXjBY5zOBM0oBA8IEDTvPAQZ6CD99NRXb/312Gev/fbcd+/99+CHL/745If/Qvnop6/++uy37/772r+Aw/z012///fjnr//+/Pfv//8ADKAAB0jAAhqwfi9QRUbYwQJPLCQZEzCDBCdoBjpI4oIYzKAGN8jBDnrwgyAMoQhHSMISmvCEKEyhCQ3wCBW68IUwjKEMZ0jDGnoQB3FIhQ53yMMe+vCHQAyiEP+HSMQiGvGISEyiEpfIxCbucAsfwAg7XvAIhiQDeNlaQJGulQVc+OOLYAyjGMdIxjKa8YxoTKMa18jGNrrxjXCMoxzBOIkoWuQdMuDdA7GILS1mq4tzDKQgB0nIQhrykIiso5UEgIJGMichV9SWH7EFSERa8pKYzKQmN/lFRd7xQgqJZBa3aK1KcvKUqEylKjnpyZKIso+krJYpV0nLWtrylmhsJUleea1JctGLuAymMIeJSl2OhJfW8mUpgUnMZjrzmXM0pkiQWS1lypKZ0MymNrcpRmmGhJrUsia1ZsnNcppzmN4ECTinJc5pkfOc8IxnKtP5kXVKq53Seqc898n/z0Ta0ZV87GUsx4nNfhr0oIGkp0fsGS18RkufCI2oRHP5z10GNJkDdWdBJ8rRjoZRoR1hKLQcCi2IevSkCAUpR0T6LJI+y6Qojek+VboRljrLpc6CqUx3ak6aasSmzcJps3TK06Jm06cZASqzhMosohr1qcREKkaUuiymLsupUM3qLaV6Eaoqy6rKwqpWx6pKrlrEq8kCa7LESta2btKsFUErstSKLLa69a6WhCtF5Hosuh7LrngNLCH1OhG+GsuvxgKsYBcrR8JKxLDFQmyxFMvYyrbRsRGBLLEkSyzKWvazFD2JZofF2WF5FrSoHSNmITJaYZVWWKdNrWz9sdqH/7Q2WK8NVmxni9raOuS2wMotsHbL28/6tiHA/ZVwf0Xc4lb2uFa8aDUzms+NOve6ZITuHiVJ3YdaF7vg7WRFjyndcHa3pN8NL3a1G8rysvO8L02vep3LXki6957wzal858vb+iIkub5arq+ay1+y+vcgAO6VgHtF4AJr9cAGSTCvFsyrBjsYqhAuiIR3ReFdWfjCRs0wQTasqw7r6sMg5qmIB0LiXJk4VyhOsUxXLJAW4+rFuIqxjFFK43/Y+FY4vpWOd+zRHv/YVkG21ZCJzFEj37eh+R3qfpksWCdz949TpjJerTxKLGtZtlyGpZe/3NvxTvPJI41yU7NMZgOb+f+baG6pmq/K5jY/+M3qjPNN5xzWOtsZw3iup56Dyue1+vnPIQ70Qge91ELX9dCIVrGiQ8roqjr6r5CO9IwnvdJKf/XSic20pnnM6Zp6Oq2gnqyoR13kUv/01HNNdWdXzeomuzqpsO6rrE1L61pLNMwCHbOv2wpsjAp72GMt9nSPjeysKtu8zG72U5/93mhLu6jUxq+1r73TbEN529yOqbfTDO5wn3Tcci63uTuK7j2re90TbTeh3w3viMq70fSu90Hvbel867uf/P60v/8901tPNdeH3TVse01wbQYc1QNvODwfHuuIS7ynBu8qwiOrcN0y/OLOpLiuLQ7ybYo84ST/L/lRM37WjW+248P9uMqFeXKOp3zmIWd5XF1OWpgzV+Y436rO98pz1/p8wEAPei1r/vKbK53mQy9s0XF7dAYn/elljfpjpx7cqlf46lgvptYzy3Xlet3DYA87K8fO2rIH+OwnTrvaNcn0njt97rSsu9Hvjvesi9btCoY7jOXe97yy3baAn7Dgc0z4wh9S71Tnu+PX/vcrU7Lxkx/s4X+beA4vXsiYz7wgId91yYsek6Q3u+lPb/jKd/nyrF+568UM+9g/M/VvX73tC4n7wOt+94PsveJ/D/yEbh65nS/x55Uc+uKzUfieJ77z4wh95Ut/+m+svouXX6slY1+N2r8x//dp5f3vh9YkR65VkrvffPObMfxAHv+syu/+MsI/Tn5ayfoTkv8R9T8l9FdG+IAP2Hd/X3IOYnAfLrF/COEFV8ANJCIPkuAB+7ESAUhGvMACvDB9Bhgl6WAGE+AHhrKA8ncQ9oAKHhAFSeIg8uAJHnAFZ+ISF0hG0ZAELFALBLh7HegkHxiCI/gSDMh/KKiCC9KCLxiDLzGDZRQNOdADr5CDrLeDNtKDIjgTQagQJ5iCK6geRgiDM6GEZsSETgiFmSeFJUKFPygTV7gQWUiE59GFSCgTYHhGYviEomeGI+IBAmAAC9CHfviHgBiIgjiIhFiICwAAhpiIiriIgWgAAv8wAf+HG2YgAAOgAIx4iZgoiANgAArQiZ74iaAYiqI4iqRYigYwAAKgDWV4fNH1KS0gAAowARWQARNAi7ZYi7h4i7qYi7y4i77Yi7z4iLMIjL9YjMR4jMZIiwogAB4QibfhBwMwANCDjNSYjNWIjJw4Adq4jdzYjd74jeAYjuD4ARCgAJtYDqs4e53yDoZQAWJQGDSxhgrBjhVgBsBxHvrQCy0ABMlDE3NYRvdQCyaQBNFAhoWHhyVCj+9ohSU4j+1oj/2Rj/vYjzHxj2IUkCaQAwUZhay4XaOikPAIhA15EPQIkQAikfxYke13RhipkQaZjuiXfHACkiLpEiV5jw3/gpIUyRIW2ZIbqYMd2V6o8g6DYAU12RJmIAc4GSL6QAs0UIEqYZG8QATRwIFBaV+W90v1t3RX+V8yKX7Xt5XnB1BZuUxiuUoI6Sry6CoWaX5p2Spr2Spt+X1vySpxySpzWYBdiWBfGX9heZb2t5cR1pdINpKvkpdWqY7GVnuAeUp1uSp3uSqI6XyPqSqRqSqTWXyVmSqXmSqZCXybiSqdiSqfCZSKuWyM2ZhvJZgaRpjqZ5hsuZKNGZqnMpqnUpq2R5umYpumgpuxp5ulwpul4psceZrQlpqqmUnASSrCSSrEeXrLOSrNOSrPeYesOWKuSSvTKSrVCZNk+XpamZyr/2mc1Yac4tl6MVmW13SedHedLJads7KdodKdkxedoiKfoEKfjmefoYKfn6KfB+meNQafsuKfngKgfcefoGKgnYKgeKegn8KgnOKgcwehniKhm0KhamehnYKhmqKhYcehnOKhmQKiWCeim0KimGKiT4eimqKil8KiSueimQKjliKjQUejmGKjlYKjOKejl8KjlOKjMwekliKkk0KkKmeklYKkkqKkJceklOKkkQKlICelk0KlkGKlF4elkqKlj8KlEuelkQKmjiKmDUemkGKmjYKmBKemj8KmguKm/wanjiKngUKn+manjYKngKKn9canguKnfwKo8CaogUKoc2Ko6/+GqICiqHLCqObmqCNhD71gHpAaEsIAm00hqeFGqSLhBQAAgdWRqR+RDgCQA+XhqdwGqiBhDxMAAEZZqpy6FG3gIWkYHax6ba76EaiwJx5AqtNhqh1xPADQAnokHbsqbb3aEfaAAoMAAJ4wq8Naq0nRBtHqBRMAlbixrM3WrByBClHQCgBgD8FKHcS6EcfzDgDABmKQrNDhrcgGrhrxrNZArv8wrehqrUeBrf/QrudQAdxqG/I6bPSaEeL6D/hqrsIKHemaEev6r2zwD+86HQXrawd7FihgDQoLAAKhr9LxsBjhrxL7DwE7sLRxsYSEA+3gD+0QD/0loD5GoEyRsB3/KxAMG7L8ShQRW7IUC68EK5syRQgwawSvELPkORr2KhD4+rHUihsiaxEk67Mnq6tCy0/RsAnEQIDlQAxgRAwtSwz3UA44MAe8oIqplbEVYbM3i7Pn6rA72xM967M/a7WzNQc4sAlGUAX4EA8mUAv+sAk4cA/+YADtEA0mQASE4LVpK7PppxXiwChM67EDQQ0oOxpRSxHwgBkD0a4S0rBBK1uIew8EiANeqw0TUAsToA5fZLj+EAaugLTpWR1NS6vl4bnVobJntAkf8AVH8AUrsAlftAkAsIGt27JIcLSzpbYZUbv7ersTm7tXG0+bkAPacL3a0LL3kAMfMAdg5LpG/yu730kdzlut0Luq0wtP2gAB7UCA+EC4hEAE7WACjOu6XyC8y+u4NLsV5auz5yu9s8W7X/AFJqAN0TABLRsNH8C6rksMHwAE+FtmSWsb/RsdmZsRuEsduotG7UAM0dC+7dCyX/Sy/lAOhOsP8aAOIizBs0u+lGu71ZHBFpu+9ce8GFHBcPu/GkzD7mfDF4HDUBu3RyHDysrDbqm/5QHEt3HBGEHEdsueqIfEtPvCzxvD0bvDUBzFE1wbSmwbTHwRThyvRkyXUuzCmCrERhHG3TrGernFtNHFtfHFFqHGt7HBmubDFgHHtCHHFUHHoZvF6Dm+06HHs8HHFOHHtWHHkf+GxxVByJiLxkWByCnLxonZwoNMxeZrxegLyIFsUUmMyf6ryQDMyY9Xxpd8xjo8w6Rcym48G44sGoY8EZI8G4qMaIxMEa8cGrEsEbM8GrX8Z7c8EbkMGrscEb0sGr9sZ8EsEcP8GcUMEcccGsncZsscEc3sGc/8ENEMGtNMZtUMEdfcGdnsENv8Gd38Zd/8EOHMGOPcEOXsGeesZensEOu8GO3MEO/cGfFMZfPcEPWsGPe8EPnMGPvMZP3MEP+cGAGtEAO9GAVNZAe9EAmNGAudEA2tGA+9YxGtEBN9GBWNEBedGBktYxudEB1tGB99ECGNGCOdYiWNECeNFyltECv/fRgtDWIvfRAxfRczXRA1bRg3fWE5bRA7bRc9TRA/jRdB7WBD3R6gbMGQTBRJfRdLXWBNTRBFXRdH3blXrMqrzHumLB1ZTRdbLRBTbRdVzV9XPRBjPRdlTbde/dXBF9bR0dZy8dZnXRdpPV9rPbmoLMpYLNdz3cqjYddxgdddXcSCPdgYcQ7XQDuD+cl/TR15TRd7rV6YdQ4TAAEAkKuRPcWTPR2VPReXHV6YJQ/n4Bye3ZqSXR6IvcmLbXwL1NkeacauHdU+MdpyUdrgVVuq/UAQoAVXINzEbQaYcNzIndzKvdzM3dzO/dzQHd3SPd3IfQUAQN3Ynd3avd3cHd0G/wAKqNAKqBDe4y3e5H3e5p3e5b3e6M3e6t3e8P3e8u3e9B3f9T3f8e0X973f9t3f+P3f/A3g/h3gBI4KOHQKCJ7gCr7gDN7gDv7gEB7hEj7hFF7hFn7hGJ7hGr7hCQ5Fs73aI3YAHDDiJM4BNfAEKJ7iKr7iLN7iLv7iMB7jMj7jNJ7iMiAANZ7jOr7jPN7jMp4AYkBBQj7kRF7kRn7kSJ7kSr7kTC5By9HkUB7lUj7lVC7kJrAEcYAGWr7lXN7lXv7lYB7mYj7mZF7mZn7maJ7mar7mbN7mWr4EGvDhD8QB2FDndn7neJ7ner7nfN7nfv7ngB7ofr4IACDohn7oiP+e6Ir+5wcA4reh23HB2+t1eL8dSnS+6Jie6Zq+6bux6Z7+6aDu542eyood29HEdn4gB2XBGZB06aH+6rCu6YQe67Re64g+6oAd16YOR6t13rBg6bYe7MK+550+7MZu7LhO2Yn9xLvO647r6sce7bE+69Je7bCe7KK97GLc7NT37Nb+7Z9e7OA+7piO7dIB6WIh6ddlZNBO7u4u6NT+7vIe6OYeHegeFupOX94+7/ze5+Le7wCP5/UOHfcOFvleXOwe8Apv5/G+8AE/8LhR8F9x8OK7S+3u8PP+7xjP7xD/6Nq+xtzu7KJ18Rvv7g1f8vLe8bYh8V5B8fk78ijP7xr/H/PkrvK1wfJd4fJgtu80b/KF3vPvbvO0gfNcofONC/NAT+4zn/TVLvSzQfRbYfQs7Eokz/THfvJWL+1OPxpQrxVSD1oJn/XWvvRiP+xbLxpd36mUTJk8X/ZX//NuH+1nHxppzxRfb1xtH/fCTvZ6T+tzDxp1vxR3b1lh3/fCjvWG7/eOvvIfX8drr5l5n/ixzveSD+p//xmBrxSD/1yRX/mhjvieb/mLf/ON/8chf1mdH/qeTvmqn+mX7xmZnxSbz1iF3/qgDvq27/qjP/Sln8iPD5qpn/uLzvrCf+u7//S9P8mn70a1X/yZjvvOb/ykzuzLD37BH/2GTvzYD+iv/98ZsY8Us79Yzb/9iA795M/9x8/1yU/Lv2+a6Ff15w/o2h//e979jPH9RxH+VXb99M/nALEIADaCBQ0eRJhQ4UKGDR0+hOjwALx/FS1exJhR40aOHT1+BBnSIwA2Ik2eRJlSpccsuPy9hBlT5kyaNW3exJlT506ePX3+BBpUKMxJH1aiTMYh4lKmTZ0+bWhIAFSqVa1eJTjx6FauXY+S9BpW7NiMLYeeRZtW7Vq2bd0WJcsxKVa6de0iFHhX716rWuP+BZwSbGDChTuadZtY8WLGjR2/hGv431y+lS0/lHpZ82aEfiV/NjwY9GjAiB+fRp1a9ePIhilzhm05b2zafP89k8YtVnRu3lxNrwYeXPhwnK0Lv66dHGtm5c2v3u4dXXBJ6dVR/iaeXft2x8YJI3cenuls8eWXQreevuNu9e01YuceX/58oN4DgzefXyFz/f0VoncvwH/YEzBA+OhDMEEFITNKMvz88488CCfEBsAC1SPwQvUOXLBDD4mzD7AHKTSPPxL9s1DD6jJUsToOP4QxRtYadE2pEyMc6EYUKWrRPRZ77O1FGYckcq0Q/xpRx+ZMVLK8FIHM7UcocROySCuv9OnIuJJssjYJuwzvySlHk3JM0KrEMk01adKSLC7BhI1JOJUT00zJyrTTMDTX5FPNNsd6c07NBMpEUOfqzJP/MDwTDWzPPh8t8k+xAjW0MqnOqJROHhnFbVFO43IUUlFhlDQsSjNtqhMZMhDCGGyqeWERFEDwA5szAJhABi2w+WGRF144w5CCtCgU1boQ/ZQsT5MVK9RRn1WwVK9ONRaiWDIAphpDZKhGGgG0qCaWBIAxBAAvqkGXAh2MkSYWCggyZgFpqqULWWbDWvberpyFtl/5pO2KWnobokIMYA6GgF0BjKkGGx0yubRhbCbopKAXKj7jiYGxslfflNi5SDR4NvWYLH79RTk7gLkSeGOFdODgB5l/AMaYAc64AhshFhEIU4IGWKQgQ4rAJoNYXO6L5JLDEscDeywSzRA5lgbV/6WUr+5w5a1aRvogKnwuyFtpKABmZ6nEICgTAYApqJoFDEGh66o6pjqkKFCBmjp4Kjin7rFOxjpw1LQ+imu5CYplgkyMAabWagbC2WwBZIgFGBQWYHvYBPA4HCq6/fboGhCeHpA6Q8wAvVmrBWedO8JXMrzzWJBAoQZMq0ECG2kOOCOWS4uIQgYqXC0oFgPm7dypz1Pn6O6KwNq7b+b3Xb1164d7XaXYk1cIZ2xma6Hig7zQmPumlp8+I9GfBuv09Km/Pn7hsk9pe/MPGpvcqTJ54SBgaMgA8e4XEfS97yLOI0n0DLgVwMnPgUOhH1JsNMCq4CwvFztINbJFwfMobf+BJ1kfSdz3wZU08IEnzBKNjjNBDj5ld3QQAP9aODcPklAkdwOAGPhmQ5WYEIU/zEkET2K/GZ5BBwDA4Aw9V0MefkR0AMgB6pp4neoB0YppEaJJiNhCaSQAADJQIlUKaMMoCEAB0puiSXx4RTYSRYXfYWEYmSIEAIhPjudjYho5cg0k6vEka2wjG7Moki22EBhgvKPy8uhHjRjBGYwUCSADacVBhqSQicTkQ8YISU6+p4qTBGUQ33ifOGbSlHbZZCdVWRFJhvKElQTJJU85S4OkcpWdbKUrHQjLj8iSlrS05S0hmUtdxo+XHvHlL08ZTGH6kZjFtN4xO5JMZWaSmc3/TOMzock6acqllNUEJ0Suic0manObgevmRqgZTjmOk5w2NOc5r5ZOjayTnUp05zs/GE95ooyeGbHnPVuYT30akJ/97Nc/MRJQgVKQoAVN30ER+iyFXoShDb3fQyHKPIlOVFQVtchFMco9jW4UdB316KNAWhGRjrRzJTVp3VCaUj6tdDLfdKlAYRrTpc2Upn4apYhwmlN27pSnHvPpT7Fk05YSFWlGPeq9kqpUKzF1qE6tJlSjmqypUpVIVsXqSLW6VU511asyAmtYGzpWsibKrGclVVCRdFW1zpKtbbXTW+HqobTWtaiLxKse9brXBfXVr+C8a2CnNFjCJsiwh1Vm/2IVCyTGNpY+j4UsMAE7WR5W1rL/kuuW6JrZO0qWsyry7GddF1o3jZa0YTTtaS+UWtVqB7OvteZmZbtA2tYWRKwFlGtxO1Dd7vZ9vfXt/IA7KeEO16HFNe70kJtc4NzWue2EbnRTN13qqsa618VndrXrN+52d3DLNVVzwUtS8Y6XauU174w+09T16ii27rUOfOPbmO/W97n4Lecn9+tP9E5Lvf6V230BHB39Dlgx/UWw+RS8YN402MFvKXDADhxhl02YwlQS8IUpmmGWbZjDA/Pwh0djYREbicRbM/GJq5ViFX+GxS3G4osLF2MZo4rGNdZTiHGsUh3Djsc9rtSPgf9MmBsPGYJF1t6RkSwoJS+5NEJ28pogPOUOt9fKeWpylusD5fpJmctgqvKXTYZlMS+VzBI8c0a9rOYxhbnNPdlynGc8ZzpDyc533kme9exjPve5R38GtCjna+ZB3yjNhoZfovsk6EYb6tGQZiCbJY3WNw+R0ZWm0KUxXUJNbzquiwZ1ggs96gIh2tRs6rQWP51qhHQCbMkxLSdsoY/xisMM8ghSqRcTDULE49VooTStIdKJX9kR16veijOI8IJd71YcXsiAJIBdYWErph1fmECxjy2UZCubIZ2gAQqKdShoc4UaR3gBLXit2HOYIQOGaHems6OOOYS7HeP+SbnNXWv/Grxg3WHKt7vhLe+21vveCde3dvjtb4DzROADJwi6DS4xJ0Fc4fGed0wdju8NdfsxEyfEvytenFgTctZ6FgMFJhCEJ2hBC0/wws1tfnPy7RznNbf5z33e86ATnedAP/rQn6AAMbSBDU+HetSlPnWqV93qVY9CBiYgBpMmgwUK0IEZrj52spe96ihIwhzGMIc5fIHta2/729nudrXPXe5xrzve4U73vd/d7V9gAQNwYOyV1+Ti5h4AABQvAMY33vGPh3zkJT/5ySve8pfHfOY1v3nOdz7zAth2QYEgAM+X3vSnLz3jL696y7N+8aRvPexfv3rZA8D1tq89AIhReMO3/9ySL9cz/2Tg7I63hxpRQIEnSLdRcVwh28vPr8kf0w5CQGAOKuf9TA6PceETn93pOX7yoR/T5j8/PbSlvvWxn33t+z6WwK9094svnfArP7Dll8T4c+PZ9F+f/TfZPowrCPn7vt6oP/1rK/xDwDORPrfov/X7P1hDNQG0ClmJggLMDTlAgVZYwMDiBirwgHcItuEghgnwvwhkuQmkQKvIHE3pjXToQM5Co/1rQLaIBwhEwd5TwRW0NI9jNRepwRz0LvfrJfjjQdoQtR/8oyAUwvPawSOEkyRUwkhiwiaULwcxQijkDCmcQpBwtZULQC3EwC5klC+suDAUQxckw7KqQv8r5C8iRKYsTEPL4MI15AgzBDg0nEMk9EE7XLE2dMPF0MM9hI069MOyAMRATIxBJMTNMMRDvAg8HDdGbMTLeERIZKVEVMS2oMRKrIxLxERJPLZO9MS9AEVIFMVXI8VSvItTPMRUNLVVZMVj6UNMLAxY3DRZnEWOqUVbbBRN3EQXe8JdzA9X9ENclDRdJEYa8sXFAsZgzLFhXEbxMEY7RMZEU8ZpfIpqXMNrBLRs1EY8akY/e0ZoPAtwDMcOGkfKKkdzJDc4nCY5TEdxXMcW8cY7Q8d51KRerEfVcUfbgkdv0kdq5Md+9Ip7bLN8HEiG4EYyREgxU8iF/I+CNEjfaMf/fwy4gFQneZRIiaDIijyKh8yyiOzIg2jILhRJJyPJkiyIk5zClByylWTJCvlIkOyhi8RIPNPIeuLImUwIl1RCmMQxmWRJoPxBoWwxoixJo2Q1pBQxpexIphw1p7wwqJRIqcQ0qnQwq1xIrIQ0rRwwrhxIrzQ0sNwvsdRHsuwzs4wvtJxHtaQztjQvt0xHuFQzuewuugxHu/wyvKQuvdRGvrQyv0wuwJxGwVwywvQtw1xGxAQyxawtxiRGx6wxyFQtydxFylQxy/wszJxFzfwwzrQsz2RF0KQw0Wws0ixF01ww1CQs1fRE1gQw19wr2KxE2cQv2oQr22xE3HQv3Twr/94kRN8cL+D0KuHcQ+LULuOkKuScQ+WMLuZUKudMQ+g0Lun8KeoUQ+vcLeykKe3UQu6ULe9MKfCEQvE8LfKsCXELJfM8QvTkLPWkCRz4tznYvUByTx6Ez8lizna4B504gleYpPxcwf1ULOAkBg/AgQ/YBH/QhgkoB3+Ihg9QB39QgHZwBQaYABMghDYiUAo00MDSTXWAUH9oBw/QBn/YhBdoBxPghZcwgH8zAgHFz50EqJ70SZOsSZukojZyBRzghSBNAlfAB3/4ggWYA5iIUX8IAxr1UBtdKBzN0ZbcUR5VI5xcE0JgAUIghDkghGjAB3yYAwN4URj9NyRwUkGCUv+LktIppUkrdQ/dJAYTKNKYIIYPKMEK9Ycl/QIirVFpdFO9CFG8As4kiIIgnQNtaIcPANNNwIH/XFJCyAFXiIYnBdRARaUqhVMvxNI1wQdXYDtXiIdo4IUixYdNiNBNMDZ84IVNuM8r+lABHNS2Ys461QlbVdNLxdR60dRNZYlOzUlFw8JdpcNe9dU7BNZgBcA1Dak2ndJZJSv5RKhYxTho3Spp7SdqHThrjSpslSdtNTduPSpvPSdwVTZx5Sly3SZzpTV0jSl1hSZ2TTV3NSl4LSZ5BTV63Sh71SV8rTR9hSh+dSV/bTSALSiBbU9mZSlnzVGD1SeEBSWCHTSHfSf/iB1Qhb0pYv1EYz1WT1LW4JBYPaNYcrLYPx1WjTVFju1YjChZSz1ZlG1FlV1Zi2jZXH1ZmKXFmWWwZP1YCbxZnOVFnR3Bnh1CXQVaRRJabiPaov3Zo2XGpAWxpU2NkI2zkcWmmoVVjKWvZ5VZncVaStJahvVJq22mrwUiqj0zshUms/0htOUytb0ltkUht50yuF0luX2lsHVaXoXaqJXa06BbJLNbVcLbBwrcHhtcXOLZv/WHw5WxxOWkwt0lvd3b5+jamZVc+XHcE4PcYVrcv91cDutcRspcY8LYXhDbmUyAy13ZI0gFxn0MRGi5kOuIRziAyr2KAQCZvh0NE0AE/9h1jDhggK3QBzaAgAWgA9rNCNvFXavQXd7t3d8FXsaIAw3YilaQAXh4h3ir3dttXjHaXeiVDN+dXuod3qMAArz5B09Agu79Xqp4XvEdX+kt38So3q3IAGqoCGZAge6tnFj438o5mAEm4AI24ANG4ARW4AVm4AZ24AeG4AiW4AmmYAk+AGpIh3M4hwzeYA3m4A/24BDu4BEGYRIW4RJG4RNWYRNm4RRu4RV24RiG4Rl+4RqWYRum4RvWYRr2ADtQhx8G4iAW4iEm4iI24iNG4iRW4iVm4iZ24ieG4iiWYiBeg/NdiQHghoqgBgjoCGpIgAE4ADAW4wNIADIu4zMm4/80RuM1VuM2ZuM3duM4huM5luM6puM7tuM8xuM91uM+5uM/7uMDCGMFIORCNuRDRuREVuRFZuRGduRHhuRIluRJpuRKtuRLNmQD2AAN4ORO9uRPBuVQFuVRJuVSNuVTRuVUVuVVZuVWduVX7uQNyIGt8IBHmgwW+Ah90OVdVl759eVf5iwk8ISKkIQoAOZjRuYa6wUQIIemEYZkhuZoHi9JQIEWGGZpxuZs1uZt5uZu9uZvBudwFudxJmfpgAUQgIArYF041YdBoJ0sLuePoIQXUAAUwIR49ghneIEFmAAtEMHAIAcIsAZ5oIKpweeNsAc/6AUFsIaD7ghJsAZ7sIb/CXhmh86Ic+AGe2CHKPACwhiEjv4Ha4CAXrboiliAhi7pjriCQUjpjWgFICAMK3iEirAHAAjfljZplMZpjIAHD6jonZYHZmiFF+gFwjgCULAILN5pizjppb4IfdACK3Dqf0gHLQACGrgGwriCmf6Hmr5pnG7qqf4HMzCCGCxpVGgBj9YCLZ4Aki7psHZqOQCCdV5ZbjAAt/aKc4AAaoCHKKADpxaHa1AAWrgGsy5nOqjla7iGdFhqYRAHeCCHKDBmwrCFFtg6urZSKsiBHLCBHPjqko6Cze5srsZpVHiBCUABNvhnsWbt1nbt14bt2Jbt2abt2rbt28bt3Nbt3ebt/9727d8G7uAW7uEm7uI27uNG7uRW7uVm7uZ27ueG7uiW7umm7uq27uvG7uzW7u3m7u727u8G7/AW7/Em7/I27/NG7/RW7/Vm7/Z27/eG7/iW7/mm7/q27/vG7/zW7/3m7/727/8G8AAX8AEn8AI38ANH8ARX8AVn8AZ38AeH8AiX8Amn8Aq38AvH8AzX8A3n8A738A8H8RAX8REn8RI38RNH8RRX8RVn8RZ38ReH8RiX8Rmn8Rq38RvH8RzX8R3n8R738R8H8iAX8iEn8iI38iNH8iRX8iVn8iZ38ieH8iiX8imn8iq38ivH8izX8i3n8i738i8H8zAX8zEn8zI382MzR/M0V/M1Z/M2d/M3h/M4l/M5p/M6t/M7x/M81/M95/M+9/M/B/RAF/RBJ/RCN/RDR/REV/RFZ/RGd/RHh/RIl/RJp/RKt/RLx/RM1/RN5/RO9/RPB/VQF/VRJ/VSN/UwDwgAIfkEBWQAAQAsgQACABIB/gEACP8AAwgcSLCgwYMIEypcyLChw4cQI0qcSLGixYb/Mv67yLGjx48gQ4oMaa9Vr4vyYLXRYSDAo40jY8qcSbOmzQDyAry4yA1AAAAKALyEebOo0aNIbebcaZHdo2Tv/AjVmLSq1atYGb6jFgDFwHMTqUodSjSr2bNoa6IyqEWixo1jqaadS7euxXTCujITyE2gOGUL2QmUGzej3cOIEyNcatALQ1uDDQcoLFmx5ctpGRfcuxBsAMJCP1fGTLo0Us0UQZMta7q165ioBwpemFM0TMqsX+vebTG2QMcLIduGO3U07+PIH9oDwJQgLYbXBootnju59esE/02AoM/idLLYw4v//xwFABVOqJqF9cMmAA0AOsyYMTS+vvVzQAYIbDsRhM+BAABAg30EIqdPOgHMJlE65zTo4DkIFijhhBRWaOGFGGao4YYcdujhhyCGKOKIJJZo4okopqjiiiy26OKLMMYo44w01mjjjTjmqOOOPPbo449ABinkkEQWaeSRSCap5JJMNunkk1BGKeWUVFZp5ZVYZqnlllx26eWXYIYp5phklmnmmWimqeaabLbp5ptwxinnnHTWaeedeOap55589unnn4AGKuighBZq6KGIJqrooow26uijkEYq6aSUVmrppZhmqummnHbq6aeghirqqKSWauqpqKaq6qqsturqq7DG/yrrrLTWauutuOaq66689urrr8AGK+ywxBZr7LHIJqvsssw26+yz0EYr7bTUVmvttdhmq+223Hbr7bfghivuuOSWa+656Kar7rrstuvuu/DGK++89NZr77345qvvvvz26++/AAcs8MAEF2zwwQgnrPDCDDfs8MMQRyzxxBRXbPHFGGes8cYcd+zxxyCHLPLIJJds8skop6zyyiy37PLLMMcs88w012zzzTjnrPPOPPfs889ABy300EQXbfTRSCet9NJMN+3001BHLfXUVFdt9dVYZ6311lx37fXXYIct9thkl2322WinrfbabLft9ttwxy333HTXbffdeOet99589//t99+ABy744IQXbvjhiCeu+OKMN+7445BHLvnklFdu+eWYZ6755px37vnnoIcu+uikl2766ainrvrqrLfu+uuwxy777LTXbvvtH1UTy7LGoCCAENUga4x/AQYRfLHDB6i88cQmD8AAXQhQ/PHAOj8AMvsIIj0AP1Dfq/XY75O98t37Cr746AtCvve4no9++uvr6v778AdY/q3z018/9+zHmr/++7ufrP4HwAD2j1X/68YboAAFQaxDf+qz3wFTRUBSCIIUpNiBC+gBwfi1ioD0owcAwke/CPIPgcS7XgHfNw4AdKOAJhQgqlAQIBWucB2CgIILSLHC8QWICqqSxvazdsDBFdLDEYJwARSKCMB1MCBAzUHVGZS3xB6Kjx4M4GETXVDDTrBqigGqohV3IIgt1jATrgIjAMT4vm4UERk2fN86uPg8NL5KjWwU3w4Y4AIXDKCM9JvjGWWFRyaKrxvIQIYhxSfIOtKqkFZkJB0HYMdHUnGR+mskJXEFyQJqspK36mQgJwlKTl5ylIPslSg/CSxIsjJYeBwHKYmlxu0NwIvFUuPzcGksMN5SWYb4AS9vFRAAIfkEBWQAAQAsgQACABIB/gEACP8AAwgcSLCgwYMIEypcyLChw4cQI0qcSLGiRYb60lHjpu+ix48gQ4ocSXLkP1i0LirTAgEAgAAL6MgrSbOmzZs4cwb4pyDDRSIBXrQxJEYBACL6OupcyrSpU5w8fVo05Oyf1X/nJgBI+bSr169gGV4zMGEguYtX/QAwE7at27dLexk8gtYqJwBi4Ordy/ciO2dkmwm8JvDswnQHryIBgKqv48eQEUY1SIchqMQnBXiYGbmz572TC1JjyC2xuAUDBH9ezfpr6I/nMgho1bq27aWvB75jCM/gOQ8BLt8eTpxkboGVFwofmA4FAEr/ikufbvEfhLIFe8lps7079+/UlAb/aA7gkVXq6NM7fDGAM0V2LwAYuqq+vv2CXgQgEShsIhAAZZkhoECY3GcgeuzsJxBdEjl3EIMHRigdOxWlc85BFEqo4YYcdujhhyCGKOKIJJZo4okopqjiiiy26OKLMMYo44w01mjjjTjmqOOOPPbo449ABinkkEQWaeSRSCap5JJMNunkk1BGKeWUVFZp5ZVYZqnlllx26eWXYIYp5phklmnmmWimqeaabLbp5ptwxinnnHTWaeedeOap55589unnn4AGKuighBZq6KGIJqrooow26uijkEYq6aSUVmrppZhmqummnHbq6aeghirqqKSWauqpqKaq6qqsturqq7DG/yrrrLTWauutuOaq66689urrr8AGK+ywxBZr7LHIJqvsssw26+yz0EYr7bTUVmvttdhmq+223Hbr7bfghivuuOSWa+656Kar7rrstuvuu/DGK++89NZr77345qvvvvz26++/AAcs8MAEF2zwwQgnrPDCDDfs8MMQRyzxxBRXbPHFGGes8cYcd+zxxyCHLPLIJJds8skop6zyyiy37PLLMMcs88w012zzzTjnrPPOPPfs889ABy300EQXbfTRSCet9NJMN+3001BHLfXUVFdt9dVYZ6311lx37fXXYIct9thkl2322WinrfbabLft9ttwxy333HTXbffdeOet99589//t99+ABy744IQXbvjhiCeu+OKMN+7445BHLvnklFdu+eWYZ6755px37vnnoIcu+uikl2766ainrvrqrLfu+uuwxy777LTXbvvtuOeu++689+777yFhg820whcPbfHIq2oPO9eI455IyEdfqj3NtOGcSy5BEAUqGXoU/fei6gOLB9iXX/4AZnRP0ffsg3rNCwKUL8AGO7jAgPkLUFIR+/x72ssC2NOAILpBj30YcB/rIAUUyucFe0iEfxDkFCqwxwBHFPCAGDQgMnaAPSA48CEQDKGmmjEAl7hgHBlM4QEFgb0rgDCEIrxUOrQCgB1cUIUqJAX2CsQQGPrwUl5wiQb/1oHDIu6DhQBYgPoO4sMmVoob8QMAAY2IQ3pwEABtUEgTt0gpLbgEClQ0IjJcMoDdMHGLXIyUPVoCABSmkB6CgAIUutCNIl4RFmdEYxoflQwT4rAbXSDFLFiIDBzqEABWMIgeFwmpQbhEEGGkxxxxOA6XVKAgi8zko8TgklmEcR87gCQODQAAAXxQIJlkpKMWA4BCFtERXXBBF26YQhe4BDGoTKUeH/WfVhpxFo6AggvqiEMXxE8cBNElGh9lhVK6kopyLCID4mfGgSjzh4+Sg0tI8UlHuKCK8TNAHq8JPkiB4ouUvOA6XCAIWh5wjAB4AULIWU5IncMlDHCnAR0x2QAXuMAAUCCiCt8gAAH4ISH0NN6k4gMAT6pwHchAhkBVSI8ExG80CKVnpSQhRH1+8oguaYF45nlNS9mDfAAQ5UcP2I37AUAuPdQlplqBPYeudJ0u0cELVXkpfTQTAAOwaRjXGb8JGMYhPMWUPGiAvXaGERkaiN8AlPHAPWoqHUwVIik8uo9uLNAlCuBKVWH4KXn81CUAdcQsIkoKQWigfBmwhkXIGipagMB8BTUfUNuwxIlEcFT24AQNoqjXCpjhqN6rZ6nSgQo/eOEIVGjDI8JDEulFS6HACggAIfkEBWQAAQAsgQACABIB/gEACP8AAwgcSLCgwYMIEypcyLChw4cQI0qcSLGiRYbwxAVIZ++ix48gQ4ocSXLkO1TKLtJ6IWCgAjHvSsqcSbOmzZsBxAGIctHPhCh0ApiBEOCFvX84kypdyvSmTp4W3+kj+A5EgFZNs2rdypUhO1sAiAxkB3JQgKBd06pdi9OPQbcf5QSgxLau3bsXz7UCoMOZwHMCrWFMmGwBBLJ4EytefPCpQSAMBRMURiNHBgFIxCFlzLmzXccFe3ktSAsCBAACiFDzzLo1V9Af/8kDpcDAate4c9uEPZZhx4L/gv8DBQCJ7uPIRfIWCHmh5IHCkZID4CG59esTp0MlyKmNHO/gv4v/T7c5QHSB1ACgwM6+vUJ5AF6UpyhcoD4rAMS4389f4Iv8oATw3EP6DECFJLbY8ggLAEwAWH8QYmcNDQAIBFdEMrQ0kABHaBbhh9fZk04AMUn0DzvJwIJKL+QFB+KLMMYo44w01mjjjTjmqOOOPPbo449ABinkkEQWaeSRSCap5JJMNunkk1BGKeWUVFZp5ZVYZqnlllx26eWXYIYp5phklmnmmWimqeaabLbp5ptwxinnnHTWaeedeOap55589unnn4AGKuighBZq6KGIJqrooow26uijkEYq6aSUVmrppZhmqummnHbq6aeghirqqKSWauqpqKaq6qqsturqq7DG/yrrrLTWauutuOaq66689urrr8AGK+ywxBZr7LHIJqvsssw26+yz0EYr7bTUVmvttdhmq+223Hbr7bfghivuuOSWa+656Kar7rrstuvuu/DGK++89NZr77345qvvvvz26++/AAcs8MAEF2zwwQgnrPDCDDfs8MMQRyzxxBRXbPHFGGes8cYcd+zxxyCHLPLIJJds8skop6zyyiy37PLLMMcs88w012zzzTjnrPPOPPfs889AJ3xNL6AMIgkszcADLjVseADA01ADYEAUqPyWrThXRK111B6gMtW1kggQtQZQCOKIIF3sIDbUQCA2rT1eQC3AG93sY/fd+6xDigZrg//AzbT3QQ1F3XgXvg89jqwNATnSDgL1G/QYLvk+yPANQAtKP8vM2oJM7nk3DDytxbP6UAgAFJ6njszTAgyoLC1PM7BO6ql3IbYRzgLxtCOpR+75OgM8rdGy7AQvgO+Fj+OC2Ax0PrntAEjCLCxPQ4E83usgsw49yDBAyuSziK0Ds3TsTrvdUHQxOT1PL8Bs3ADMcv44Gsg/eegAZJ6sEU8jk/oODBAA7zznAuEt6wj9S906ukEKBthPcgUEwIOS5QWxPTB1gnCB5/Anj2X5wXznE8QOJrcOsRFlWWABwAglh4xZdGMcDRyg4WbxNNwtCx7BA8DsDIcMADJgB9+bHBT/nuaJZiHhac47n+TGsbYJKksYrNuhEgs3xJ08C4EqvN4UaQiAAQyvWdbIofqmaDdk5LAN0SKOAARgvS3iLwdWexYboOYC/ynwDWukjtugpY8PouZ0s9DiProhiACKjQZOlBYtFhA1A+ygbF2AguWgdoUOXosdbMhh1NYGNRr4ZVvneEQOtgaADJhBGOFiBzV6gQpYOEMcXwuaLGdJy1ra8pa4zKUud8nLXvryl8AMpjCHScxiGvOYyEymMpfJzGY685nQjKY0p0nNalrzmtjMpja3yc1uevOb4AynOMdJznKa85zoTKc618nOdrrznfCMpzznSc962vOe+MynPvfJ/89++vOfAA2oQAdK0IIa9KAITahCF8rQhjr0oRCNqEQnStGKWvSiGM2oRjfK0Y569KMgDalIR0rSkpr0pChNqUpXytKWuvSlMI2pTDVVjVigyxgoEIAQqlEuY4AAakHgqa+iM5+Q+FRrQdUVUZfqoo8ctYtHfFpSbcXUqja1Ik8dACSmUQao/UCos7KqWLH60y5udRpc9SpYYSXWtha1IVk9K1rT+rSvxsqtboVIXOfK167Wda2rwmteHbJXvvZVra0SLF7hWlatGvaxfgWAXQOr2MEmpLCPNWxkJ4uqyi72so2Va2Y1i9jOetayBdlrK+6QBTkYthRR4AEWgoHWzf8CVlSn/WxqQ4vWCrzABDzgazEWoARIsCC4tS0tqXKLWoFgFq1KQC50YYDWYAigFHO1bamY29bdPs2xhs2CdKdhAtei9QVlOOxfl8vdsQ4EBd8V7VybMF4FyNUITCDt06jA3vZWdSDSWNsLRitevgJArkgwgmGDwcj49Ne/SyXIGaA23rlGl68TGMRcZcvXYDiti514MITPI2EKP7bAc4WBFuZaAfNOw8PfzcR2R0zUg0z4aRWmL1/lUAHaQkIAtH3xhwcg4xnTuD42NvE0bLDGNXpgwwtogQE0LOQYn+rIJE4yjl8cjGIE48t8LUUpggzjLhb5ylh+a4m3PNoFD/lizGjG8kJuDIAKZ7bMRKbskRtCZzt3+M2JpfFD+jxaPMNZVXsetJL/bOVXjVgihJ6roWXlX4pEetJhZa5F+lwMCTS6Vqf1CJ1zOIAQ40qxIaEziHvlXpHcuNTnMsQPTF2tgAAAIfkEBWQAAQAsgQACABIB/gEACP8AAwgcSLCgwYMIEypcyLChw4cQI0qcSLGiRYb/Mma8yLGjx48gQ4oMKS4At4sa/+mjAQCAvZEwY8qcSbNmAFABKKHUGGAAgAD2/tkcSrSoUZs4dVrcyM0AHQEuhR6dSrWq1YXi/ASgMxBeRX05QMiDGvSq2bNoh+owKKziIwBtyUpNS7eu3YrW5AQw00zgO4HKFjqbG4CcAi8C5d5dzLgxwqQF9f1UaGCuPiAT2G106biz57uQC+JUiGoup588OX9ezbpqaIrnIETRJ/Cf4ta4c9N8PfAcRoFRDDg7R/wcVHHnXupeztwj7wCSF1YWyLKl9ZYBAFxrzr27RFQBJEX/biOHvPny6OlINcTGjHv3LcWwSee9vv2EwgS0QVnw9v3//7EzwAJ+gEdfRClpJABQhAHoYHeweDBQWxIlKJRqD2bonTy+KVdhSsRpKOKIJJZo4okopqjiiiy26OKLMMYo44w01mjjjTjmqOOOPPbo449ABinkkEQWaeSRSCap5JJMNunkk1BGKeWUVFZp5ZVYZqnlllx26eWXYIYp5phklmnmmWimqeaabLbp5ptwxinnnHTWaeedeOap55589unnn4AGKuighBZq6KGIJqrooow26uijkEYq6aSUVmrppZhmqummnHbq6aeghirqqKSWauqpqKaq6qqsturqq7DG/yrrrLTWauutuOaq66689urrr8AGK+ywxBZr7LHIJqvsssw26+yz0EYr7bTUVmvttdhmq+223Hbr7bfghivuuOSWa+656Kar7rrstuvuu/DGK++89NZr77345qvvvvz26++/AAcs8MAEF2zwwQgnrPDCDDfs8MMQRyzxxBRXbPHFGGes8cYcd+zxxyCHLPLIJJds8skop6zyyiy37PLLMMcs88w012zzzTjnrPPOPPfs889ABy300EQXbfTRSCet9NJMN+3001BHLfXUVFdt9dVYZ6311lx37fXXYIct9thkl2322WinrfbabLft9ttwxy333HTXbffdeOet99589//t99+ABy744IQXbvjhiCeu+OKMN+7445BHLvnklFdu+eWYZ6755px37vnnoIcu+uikl2766ainrvrqrLfu+uuwxy777LTXbvvtuOeu++689+7778AHL/zwxBdv/PGSY4MNt8o3n23z0M9qDzvXiCPPSNBn76o9zbSBwnUAyIYKOx5lb/6q+kQI/voDmEG+RebHn+o1L0Bl3QAVtGDCAuAvoNRE8QvgqXrBv5ZUAAulmIYCFRgMOvDgOl7w0EMCSMFSocI6CyjDAje4wVK0wDpAkCBDKEjCUTXDJwDwQDA4yMIFesF+V5ggCUsIqnRMoCUvWGELdygH+2GiITMMIqj/vGBAHe5wh1aAygLel5AgOtFT3ICKABJ4xCp+EAD7aaITn8gpLbTECFUMYylaMoC/HGSLaNyUPSDQkmIsMBiQ8IISOBiMMtgACVRcYHVgcUY0pjFTyWiJBzaoBBPAQAAchMELIKEECBhxGj0EgBUM4sdKZmoQABAAFlg4xg1CYgA6pMEc32jAglTylJgSQ0sGwUkAbLAML1hgGVrAQQNkUoKntOSlkNCSPC6wkwtEAhMWCAkFcDADUDlQAHKpS0sBoZet3KARkEBMA3CQBS0pyUCY+UdLWaElkIjmAq3AgwUOogIcZCMAzLhNbs4wU3JoiRzEqUA5oFOBVoABB1ti/4A+ulN+mQJFJsHIQWAycADhDAYEWPlLHCLkn+fT1DlaYswF+sF+0JyGHwzQggUQdIFKgIpWHgpR5XXqBat8YzCCUYyVbhCOuqBjBVpCDYWU1FOSMGAYq1iGlrSANjZ156fs4YGWeGGnLSxFAXsBRGaGqhXWCSdS31hUAKzFIbkUlT6+CYABMBSpwcAmACZADog0M1TyqI4mkQqJG3Y1MBHp5qjSUZ3wDeKRHeSB/RRAC4pw0VTy4GomF8ADOUDisH6wQgUwmgFrwI+GqaIFCFoiAClWNpP2G0AbmFiRCrLKHpygAUbBVwEzlLV8EX1VOlDhBy8cgQpteAQ1gAoS7QZpy3nKCggAIfkEBWQAAQAsgQADAPwB/QEACP8AAwgcSLCgwYMIEypcyLChw4cQI0qcSLGiQXsBhFkMoAyAR48CiWwcSbKkyZMoU6pcybKly5cwN7ILAGRjRw9IjiDZSSemz59AgwodSrSo0aMza1rsaOaf06dHo0qdSrWq1atYCbJTFkDGwHQTmT6FmrWs2bNo06qdKsmgmLAAmv4LQHat3bt48+rdGyCdrQAvBooTyG2hsncDO74w8gLIoHNz+UqeTLmyZZVJC/6LIkAhAI0COwKYAMGjgl6XU6tezTp15oKgE4ICK1AcLXgC0701MLi179/Ag099TXHswH9aALQRzry58+cmiQ+cuRAj3bFPhQGgERm69+/gwUv/p8vZM2jsT6kJaNE9vPv38FMj1qEZ1cI2vdE7RQUASfv4AAYoIFr/KOCBPhZRNx0KAHgy4IMQRijVP0AAoIWD1CAYUQZRSGKLLX5AEAAN1klo4okosiSODp0F8JZENHzk0QBeIJbijTjmWJE9YNkoUTrCwIKKMOz8p+ORSCap5JJMNunkk1BGKeWUVFZp5ZVYZqnlllx26eWXYIYp5phklmnmmWimqeaabLbp5ptwxinnnHTWaeedeOap55589unnn4AGKuighBZq6KGIJqrooow26uijkEYq6aSUVmrppZhmqummnHbq6aeghirqqKSWauqpqKaq6qqsturqq7DG/yrrrLTWauutuOaq66689urrr8AGK+ywxBZr7LHIJqvsssw26+yz0EYr7bTUVmvttdhmq+223Hbr7bfghivuuOSWa+656Kar7rrstuvuu/DGK++89NZr77345qvvvvz26++/AAcs8MAEF2zwwQgnrPDCDDfs8MMQRyzxxBRXbPHFGGes8cYcd+zxxyCHLPLIJJds8skop6zyyiy37PLLMMcs88w012zzzTjnrPPOPPfs889ABy300EQXbfTRSCet9NJMN+3001BHLfXUVFdt9dVYZ6311lx37fXXYIct9thkl2322WinrfbabLft9ttwxy333HTXbffdeOet99589//t99+ABy744IQXbvjhiCeu+OKMN+7445BHLvnklFdu+eWYZ6755px37vnnoIcu+uikl2766ainrvrqrLfu+uuwxy777LTXbvvtuOeu++68g6mfkbCqQ4wrhBDiCjHqXPs7erC2QwgOHwkgwEcvEJJ8tMsvz2o8mygwvYzgA2DAGO08m332qkYzgYwMQPGGI4IIAsUAMk4QDT7Lnq8/qq8Y8NEOs6DHPga4DwHSAxk7+MgANqEs/TnQVLX4iAaQQcAKWhAZGpieAFyBv2M58IGj0ob/AOCCdVjwhARcBxRmdD9jfRCEoYrHBzziAgGi8Ib0SOBo4lGsF35QVISYngb/THjDIq4jgwAgRAeF5UMYeqodpQHALIpIxX0gwyMGuB4Tm7i/T22ChlS0YRF1SIhhcdGJnMrB9KaIQigwAAACgAIRTzgL6eHAjGc836fiQT8BzNGCsxgHPcaxAyjg8I0CKF+w8qhHT0Vjejuo4gBnwYAirhAAxNgiI7XXKV54xJBVpAcUQInCLkjvFZrcpH48tYnpCYKKjmCAAHYgxhMKYnplXKQqf8fK6b0hjONAhgtIaUs4bmKJvtolLztFDDgSs4jdEMA4bmhKANQilcp0yqceOUtJ7qMbAPhjBXcwvRYCK5vY2eMIxTnAdTiiG8F0QSRRSA8NKvKc6KxLp4jg/xFSoFCFGjCACwTBzkl6JAfEyqc2P+UKGtbSmxV0wfQYiEd0xnB9APAnRAHpEQjcE5uqFFUrAcCAbmyUgON4IwCO2cNsjuoeDCJhQYtIDxd4xAQ8dKEySVWOKGrApN4ch03Fp41k7dJUxKAfSUnx0BOSQqUC4EUDN4kqYkSRhI5g5zpIMVQAKCCTzMqjqsoR048M8w3yk6iMTFBUZzWxVfjYxAyj9z0ZQWAT95AWGrf3CiOoVEYGIIIrclqtZdIqHtoY3vG0QdjeOfaxkI2sZCdL2cpa9rKYzaxmN8vZznr2s6ANrWhHS9rSmva0qE2talfL2ta69rWwja1sZ0vb2v/a9ra4za1ud8vb3vr2t8ANrnCHS9ziGve4yE2ucpfL3OY697nQja50p0vd6lr3utjNrna3y93ueve74A2veMdL3vKa97zoTa9618ve9rr3vfCNr3znS9/62ve++M2vfvfL3/76978ADrCAB0zgAhv4wAhOsIIXzOAGO/jBEI6whCdM4Qpb+MIYzrCGN8zhDnv4wyAOsYhHTOISm/jEKE6xilfM4ha7+MUwjrGMZ0zjGtv4xjjOsY53zOMey6kasdisMVAgACFUA7PGAMFHgnDkW6UzV+3QhjY+SpIkg4/Js9orq7SxCRwMQHrTMwAOCNFWi1gZAAPYwvew/Kq3tkr/GzkIX/hwEI2KnHkAw+hHIT7ygyaz6oyriscXwgcBFrAAAnX1yBeo3JA757kfeuazn1NF1VOVgwUKRAIkpsHpTkMCCSMEgAnKARFHQ/rUe/ZIn1V11FL1VINICEanZ93pYHCmo2VeiKlPjWpJo2qnpIqHCbC4aVobm9OQiKIHGG2QXfO616qetKgsOip+erUUx872NHSxgIMis9lKRvOjn83rVANg1aTKp6g8Ccdia/vYpfjINRHibHKX29fTVjeo8BFTL7z73WW4aV7BPaNx2/vZ5kY3qBQKvEyxGwKy/re2o4jKgtSb1+Ygg8EhnXBpb4rhDcfUoAFQhllDogxW/8D2rAfBAx64m9NymJ4RLB5uPB+8HiuAAB/s3fFPgfxT94hixKcBiQnwwAAvLwME7iAHBvhh1sHwCAMIe3FeM4IMPgDEwXveqZ97Shse8cCxFTCIWS+g7NOQQwVo3QKP1DkAVT+1OUpgDh8U4uCRjnbXvc6pZgKAB8degLtLIYCIR70Ys0bC9OYdU5vj3Qd5zjre8w4AKuyd4Z5qKACUEHi0E30AswaAyjmNBY8wUBrf80E98M6IJEBa8ng3RxQDwymQh7xSXwSAv40NAXdDwgChT7pHcnmGjyRh9eQ2BwNYcYxj7GALxzi4OVYwvQF04vIK9VQtZN75Tse71gIY/f80lDA9Vwyk+HA8fvJXwP4VDCABPrD39KufCU/xnVPRgKMNAu/uqKuc8EM3DUQwPWAlEOgHAOr3eFq3fvTnc5j3RFjUfZ32AkjAaUAAeGbnEaRGEAeYgPYGexhHfWhWfw6YfZ/yAh7Rf98jPSU3DaXgATBYAQEYb6J2EB2IfMmHg5A2fyOYb/rmKYTgERjIacFQDMFQhDMofpxmBNMzBwhxg5MndyI4ACQYKg/oKeXwPUoocd7XR7lWEFA4eTxIhen2g5/yBfSDAlx4bCgIAF+wEGEof1NYhaNCbaHSDgYwPUSwholXfRuoEHEYgg1oKnYYKhHkERXIh+TnERzUEIGg2A9jSIelAmykEoQe8QIBmG3BECMeMQffBojGh4ORuCohZSr4MAfRYwWZWGtaoFRuOHAPAYWj+GdilSqusIIA0AJlcAeYAAkn1wLS4xECQFES0YGz6CpctGXWJowC4IoykgPa8ImxqEAzcn2x8kKwQgx+JWfiQwQFaBEHiGbWSCvoMyvxwAuE8AVGQARfQAi80FgjgX7Wp1mG8APjeDsBAQAh+QQFZAABACyBAAIA/AH+AQAI/wADCBxIsKDBgwgTKlzIsKHDhxAjSpxIsaJFh++sXXt3saPHjyBDihxJsqTJkyhTqux4LoC1i//+cTsiYCANditz6tzJs6fPn0CDBrUVYBDMZgoAFB1kZUFLoVCjSp1KtarVqwOJGrXIbsIAYQTt2cNKtqzZs2jTSj33KICYgRwl+gkwV63du3jz6t2LMIpBWhMzCHjKt7Dhw4gTo7xm1MtAnAGcMdQnMB0ACPIeAZERhRZlxaBDix6tWKtBCEoVjo0soAUNACBaCAAQ5TPp27hz645quiCqyQKFAbjcLIBMFAAk7V7OvLlzkL0pKhvediBYFM+za9/OXWD0gYQT/v8TaG34NYLyZsPrzr69+9JFT6dOuBre7PD/kkJ+z7+//7K90GWQH23IUeCBBia4WgA5AMAMQekEYMCC/1Vo4YU8UQOAF+NVBAptA/0zl18YlmjiiSLBo4ABdIDSCjkdQmTPa1YI4wwbAijADYo89ujjQ70gJxBgEv3DzhEDwSbZj0w26aRALclDUUzcwNKKMxQ+qeWWXHbp5ZdghinmmGSWaeaZaKap5ppstunmm3DGKeecdNZp55145qnnnnz26eefgAYq6KCEFmrooYgmquiijDbq6KOQRirppJRWaumlmGaq6aacdurpp6CGKuqopJZq6qmopqrqqqy26uqrsMb/KuustNZq66245qrrrrz26uuvwAYr7LDEFmvsscgmq+yyzDbr7LPQRivttNRWa+212Gar7bbcduvtt+CGK+645JZr7rnopqvuuuy26+678MYr77z01mvvvfjmq+++/Pbr778AByzwwAQXbPDBCCes8MIMN+zwwxBHLPHEFFds8cUYZ6zxxhx37PHHIIcs8sgkl2zyySinrPLKLLfs8sswxyzzzDTXbPPNOOes88489+zzz0AHLfTQRBdt9NFIJ6300kw37fTTUEct9dRUV2311VhnrfXWXHft9ddghy322GSXbfbZaKet9tpst+3223DHLffcdNdt991456333nz3/+3334AHLvjghBdu+OGIJ6744ow37vjjkEcu+eSUV2755ZhnrvnmnHfu+eeghy766KSXbvrpqKeu+uqst+7667DHLvvstNdu++2456777rz37vvvwAcv/PDEF2/88cgnr/zyBdnjDC2SDOKJLdbY1ro/2GePfUf20EJFUsOFD0AFYhSnuvboo0+RMCyI7774QFBzevr0q/8QPEi47wMZfDDCxxYUmM1wBDAI64GufgjUXkPI8YLwQaAS5uiHBCfYD2jwYQDhi4KUQpfADvqDIezIQPgAUQ8KmlCC5kiCAI+Qpc158IX00cFwGDCME9pQgpUI31s898IeIqQNwxkANP9uSMQcDidAnOuhDw1CDgwCgBVEjCIZhoOCFlpOiUskiBWGk4QoRrEeqAGAJ1yIRRgShB0YFIA5SujFG7JiOC8gYxk7WJBWcJGNboRAIW5YD/CRQ3Nz9GBBojAcKBLRHCtYASCIuIXZUCJzgTSjQJADgAgSsQqs8MEi3TibHV4ukoIcCPjweMJM9kOTRDzGbJAASVAmEC7DgQAR60GBCKLyhuaAYytdWb+BwGM4CrjkHk+5SRvmEgAy2CUv6TeQBQyHlBM0hwDIQM0SnIAPNxzGcEj0yWUycyCUtKQJ68EHPgACECXwASPcOBxPXtGb3wzAFYZTiTbe0oZVmA0olAn/z+0NhBbD8UEbyVBPG9bDAAAQQIT46c2CwMOJx2gjERkxnBzIsZ8GEUNAJWpQhAIAFheFp0HYAb51cnSC9VAhMg3YTYwaZBCzEUANT9oPPgzwQUl0qUH0QciEFrSN9ZjicAzxOZEm5B0tCN8WxHlDaPggfFrgIC9BCISECoABdRjiOIeRz/CxwYohLaND7GEG92kgCdTcgg/AB8x9ki6SEaFGVQc4QAEIMKFeWGjp5kgRZ7TBA+8DAA0GIY7VZdEi5HgeKHpBjf24rpfMi6xkJ0vZylr2spjNrGY3y9nOevazoA2taEdL2tKa9rSoTa1qV8va1rr2tbCNrWxnS9va/9r2trjNrW53y9ve+va3wA2ucIdL3OIa97jITa5yl8vc5jr3udCNrnSnS93qWve62M2udrfL3e5697vgDa94x0ve8pr3vOhNr3rXy972uve98I2vfOdL3/ra9774za9+98vf/vr3vwAOsIAHTOACG/jACE6wghfM4AY7+MEQjrCEJ0zhClv4whjOsIY3zOEOe/jDIA6xiEdM4hKb+MQoTrGKV8ziFrv4xTCOsYxnTOMa2/jGOM6xjnfM4x77+McxxgY2OivkImu2yEienQJDguQmP5aOF2mylA2rxIpI+cqog2tErsxl07kSIlwO81un2pAwm1l0RlWImdcs1YYmZKLNcC6qTg0C5zp3rp/ZO0id95xTPNN5z3wGJJ4/SBBAG5qhaTa0ojE36DwHQNGQbumgBQLpRb+z0Y+u9KEvPelMa9rOnPYzpT/NZkmLetSkxjKjG03ogaR6yoI+daFfLeQ+z3nWqb5zp/VMajmnGSGfPuCteW1pYbt5IcVu85cdAui9kvkhoPZyIClS6izzldpdZt1hrQzrJ0P2I07erJGPFxAAIfkEBWQAAQAsgQACABIB/gEACP8AAwgcSLCgwYMIEypcyLChw4cQI0qcSLGiRYf/Mv67yLGjx48gQ4oEKS+AsIsvBABYORCAh5EwY8qcSbNmugBELppBcgSJTyQeAGipSbSo0aNIA9zMaVHjRoEvAChLSrWq1asM2QkTQGPgTYkaB1JzqQ+r2bNoiz4yyGZiWIFiABhKS7euXY7nbAWQMVCcwGvMFr4T6DQjPAUCzt1dzLhxwqUGozCcGqDwP1QAkGR0zLmzXcgFTy78WjiADgC2NntezboqaIpOA4gDAMGe6ta4c898PZAdQ3uEw9IBICe27uPIPfIWKHkhZaf2MgC4Vvl28uvYH/oGYhAVQ7/B//X/AtDVePbz6A/qGwDiosYoAEBVf5q+fv1/p4eioub2HzsBCrxjnn0EZseNDgII1JZba3kxYIEQYnfTYBSxcw48b0Wo4YYcdujhhyCGKOKIJJZo4okopqjiiiy26OKLMMYo44w01mjjjTjmqOOOPPbo449ABinkkEQWaeSRSCap5JJMNunkk1BGKeWUVFZp5ZVYZqnlllx26eWXYIYp5phklmnmmWimqeaabLbp5ptwxinnnHTWaeedeOap55589unnn4AGKuighBZq6KGIJqrooow26uijkEYq6aSUVmrppZhmqummnHbq6aeghirqqKSWauqpqKaq6qqsturqq7DG/yrrrLTWauutuOaq66689urrr8AGK+ywxBZr7LHIJqvsssw26+yz0EYr7bTUVmvttdhmq+223Hbr7bfghivuuOSWa+656Kar7rrstuvuu/DGK++89NZr77345qvvvvz26++/AAcs8MAEF2zwwQgnrPDCDDfs8MMQRyzxxBRXbPHFGGes8cYcd+zxxyCHLPLIJJds8skop6zyyhtblqGp1/QCyiCSwNIMPB657DKp1LAR1EpAA2BAFKgAV5HOSIMqzhVBNx20B6iUFRHSVFuXqSQqAV3CFnUwAggZPjQNhG8PVW22pvZ4AbQAZEDTz9tw92MOKyUADQI3GJl99qX6WP8BdBLmxC342/UwkjUE5DCkt96YDgI0GfUMLnk/0GigUgs4K7Q445UykzUfk4duzgArDZXQ5otTqg8NKyUR+uvDrCSANaejvrektKzEQD2Rvz45GSsZgZDtnEsKxEqM+P66OQasBF5BxBf/KDukC9D75OaU4EPoW6gkyUHR3/4oLCtt/3oSPqwQeuwA6AB++FRLOpwAlbzOig+VqD95PSst8D78OpOU2gAwjOsJzhwrMEf+XqeAlWRuIACMX6SMsJJjcK9+CwzdClTyvPBE0DKSOkIFJ3e/yGVwcitYiWKg90EQRsoLKimg5HzgAzKATQFkCJzkGLCSkrCwhQ9qlB//kDe5SgACEIVIAgMKoUPB8Y82/wOi1Rpli/Ip74SDY0XwoihFScGjek0k4RZCVwWVeIKLLaQUEgAgANApD3tZW6FBpDhFRwljJQYI4xvhlgSVNAeNEayUCAHgAwPukRUqGUAH5whES1mDdAAgwx7hdgweAqANC2nkpUDxN0OuD5I5MJrmApkpNgBtBRZcHhmy5gGyKQ6AmtLHENkogCTIUHDQAAQDskYDOTYkfJ6ixQKCZgAfbMGGSShB1lZyBR9ODXWgYgcbICk7ASxzJTRwhnvEB6pzPCIHTgNABswgmpy5EFXsoEYvUAELZ4hDaiyLpzznSc962vOe+MynPvfJ/89++vOfAA2oQAdK0IIa9KAITahCF8rQhjr0oRCNqEQnStGKWvSiGM2oRjfK0Y569KMgDalIR0rSkpr0pChNqUpXytKWuvSlMI2pTGdK05ra9KY4zalOd8rTnvr0p0ANqlCHStSiGvWoSE2qUpfK1KY69alQjapUp0rVqlr1qljNqla3ytWuevWrYA2rWMdK1rKa9axoTata18rWtrr1rXCNK8KqEQtqGQMFAhBCNaJlDBAALQh7dVZfmwbYZg1WaN1bSWGVdVgD3IIfiADaDwJ7rMY+lh+QlSxlidXYZ+QDs5iN7EomWyzLgva0ogUAaYVl2tOiVrPBaq1rXzvazf/uqrOfna1rU7va2/pVaJfV7Wx5a1tbyRa0z6jCEtDgjeHCFlfHxewtBoCIW6CBAehwbm1vhdvZViEMoP3AJ3RL3FpFF7R26AFm58GA4O72ubJCAR49K1x3KDe9e8gteYFGhVlJI2s9mIdw+REOE1QhvVWYh35d644GAuAFtDrD3/KxYNAuAbz8yMcKEFFhzLrjAysZQCdqJeGVLIHCs4XAeDEbhiro9sMhzsStSgyAJQjYtUs4MT/cMQFEzBbGABiAjHFVYgHo+LThWEEJesAAGzMYxEEecq5o7OTTzmMbz2juk2PcqyIfGbQo3nKUf0XlGw8YyEIOlpc7DFo0Sxk6WGV+MZTTTKw1i5nOxYqzh+f85jzLTsfo2OCYlUXlQCeyz8iiMSRF/CwaB3nE0Coxo6VliB9AOlgBAQAh+QQFZAABACyBAAIAEgH+AQAI/wADCBxIsKDBgwgTKlzIsKHDhxAjSpxIsaLFhu+uiZN3saPHjyBDihwpMl0Aahf/JXsxUMARcf9IypxJs6bNm8IEyLmYbICAK6Ao6RAwweTNo0iTKl2ac6dFIAAMEUQSYNDSq1izao14zhMALQPfTawAQNzAf7AAUNnKtq3bq2ALgppIA8C1s6AAtHnLt69fkNweBVgr0Cg1ZQvtDUQFIIrif+xQDOD2t7LlywybGvTAkB1BShMyREGiAEUyzKhTY9ZcEBZDxQN75QBAW0CUu6pz627LuiInADSo2YNnq4ICZ7uTK0/ae6BRhfoEvltg4FyAf9h7AdCxvLt3ks0Fcv9e6PkkABnXsf+TJ2AA7O/w409EzMbgIDlt8OvPz59jAGcAoJBeTO8AIMB78iWoYELiNGbROz5Ro14AlAC34IUYEmTPBAM4ZZZEbQAwgSSHyWEAALZkqOKFybAAgEBzSWSPiQHQJiIqK+aYITwVvSMMKq00g6CORBZp5JFIJqnkkkw26eSTUEYp5ZRUVmnllVhmqeWWXHbp5ZdghinmmGSWaeaZaKap5ppstunmm3DGKeecdNZp55145qnnnnz26eefgAYq6KCEFmrooYgmquiijDbq6KOQRirppJRWaumlmGaq6aacdurpp6CGKuqopJZq6qmopqrqqqy26uqrsMb/KuustNZq66245qrrrrz26uuvwAYr7LDEFmvsscgmq+yyzDbr7LPQRivttNRWa+212Gar7bbcduvtt+CGK+645JZr7rnopqvuuuy26+678MYr77z01mvvvfjmq+++/Pbr778AByzwwAQXbPDBCCes8MIMN+zwwxBHLPHEFFds8cUYZ6zxxhx37PHHIIcs8sgkl2zyySinrPLKLLfs8sswxyzzzDTXbPPNOOes88489+zzz0AHLfTQRBdt9NFIJ6300kw37fTTUEct9dRUV211suplHVO9Wnc9Ibxeh/01u2KXvXW6ZqeNdtpqn8s22+a+DTe5cr9Nd91ti4v33ODu/833t37nDXjgZetNeOF9Hy52uIovnnjjXTMOudaGTz724JZjN27mmlc+ebmZg/553JCj2/jahJPtt7t4y/v3vGFfLfvstNdu++2456777rz37vvvwAcv/PDEF2/88cgnr/zyzDfv/PPQRy/99NRXb/312Gev/fbcd+/99+CHL/745Jdv/vnop6/++uy37/778Mcv//z012///fjnr//+/Pfv//8ADKAAB0jAAhrwgAhMoAIXyMAGOvCBEIygBCdIwQpa8IIYzKAGN8jBDnrwgyAMoQhHSMISmvCEKEyhClfIwha68IUwjKEMZYUNbPirhjjcFzaqAYxYGKMaNqSWPf/YoRH/gEQaixACBAqSgSt0ohrOskcz2oACG9EGAlFARXkqIg0vJIA2ArFRGEVkCCgmSx+w8IAV10ibAZhhixExxAEEAMYAMGAFPSjBAMYIABDEAlnXeAEdbTSAEvhgBQpY4wIoEZFqaGGQAOjBJ9DBjwDkw5Lb2MMKCLkIY/ViATYqAR+g0Y9SltIcrPABJL0wpIRUQwg2WsEz8sGPWhKklvn4BARsdAZiMYY2CqhEPUxJTFMewwc2AkIrD+KFQYZhHrSspEFqyQ939MBAAuhksJoxANqswBzFDKcp+WCjKzBkETbaAzWleRBczmMJAhCAAoABrHRMgDY+GKY491n/iUFiQiHVuCcAqrDOhVBzHiug4w+A5QXalACc+4xoHWizADgW5Ay0+UA+osnOhFAzHN0EQCzMuCtuDJKUEY1oPZCpF4RUA5QAuAU1H0JNNNCGO73SAm22kNKeHqONYjFIJ+i4gplCpJbuoOMApMEre+wSABDdZz34AIiIqhIArjHIFV6ECFpOpJY9qJE2dZUMb/a0EApYQUT7CQArGAQbAgpANmz51U8I5ApBzNUgaFPViJqjBIVQ6z7NQZsKFKSGC6jRPCySj1vsUQg11JUYaMMKlfpgGJUQ7D5PdCCC7LBGDOjoRLbxohdENldIoM0xIsoInmY2pZsEwHNqaAw6/y7xIuigDQhOiyuoAACl4TQHBMD52ogmtCyexcYeBRAA0UbkGS/SAW9vZQXaDGOfSSDDMYZRhxIMQ5/hfGpQB4KNDAjEHc2lCD9uIZAo5BVXcqBNJbDrghWsIAF3BC4x60EbAxwEpzJ1bkNqiYYa9XJXeQEAT3taXHH+FAAsMQgdmEtQutKUH/koAW3+uKtz0CYB4OWnZsNJBjr64SDAoA0D3BHNC6+3RhPw1Qso29N6RLWY9XgqSg4iA9qsoaAMWacJ6CgGX0nCoSHuaTEBQZsWROcgsWjjM4DsUWoiopsQIOmu7KFGAPBByeI0xyB7oZAgXJGSRm0nNaFLGzoAq/UVNqosmE1pjtjiNCHGoIA3w0HlW1LzFoncTrD0UV0BMEDOYDYHSydADobE4kQAUECALSyQgyJikCBgarDkUZd48iHJ4hwGBJSKmIZ0AqaRnKWFazmPW3zARiCg57DSUReHsgLUpYRGEgapAFpABBgZECME4vCJWzzjFp+oAgOs+ANNE0se1bWRAapQCVZslxVkiC1tMmANiUhDDF98UQDiKUYbTaCMyaIFCKzYHjqSu41tsChEjKGFYA9E3LRBwRm0jCx7cIIGkFxjBczQaI/Egg5eKIIOoiAGPMgaWulAhR+8cAQqtOER1HhySHA43XzlkF0BAQAh+QQFZAABACyDAAIA+QH8AQAI/wADCBxIsKDBgwgTKlzIsKHDhxAjSpxIsaLFheeoBdB3saPHjyBDihxJsqTJkyhTqrzYymMzghlg/VtJs6bNmzhz6tzJU6cyAGY+egngBwIAUDN7Kl3KtKnTp1Cj/gxaUR+IAKAGnlOggF3Ur2DDih1LNiqqAFYGeo1ITYAHjgPbBJBUtq7du3jz6jXoRUBBTxJtAUCSVODZI3sTK17MuLFJcXSjWOwFgMi/pP88AcjguLPnz6A/TzWIgmE6gdwATJB3+bIWAH5Dy55Nu7bT0QVpMZQ3UAaANvouJxMAAIA928iTK18eEnfFa0ZfeDkiQAeAAcyza9/OnaDziZfJef/JAADEII0euqtfz140UNKmBbbODcBK4fb48+sP6yyAGIOGMASPfJcVhEQAtty334IMNngTOQEcWFFrhcECwAvHOajhhhySVEEAcrXCzUStROGJMLBcAQAE1yjY4YswxrgQMy0MBJhEtBA3UA7cuCjjj0AGWRE7wqBCS48+Cqnkkkw26eSTUEYp5ZRUVmnllVhmqeWWXHbp5ZdghinmmGSWaeaZaKap5ppstunmm3DGKeecdNZp55145qnnnnz26eefgAYq6KCEFmrooYgmquiijDbq6KOQRirppJRWaumlmGaq6aacdurpp6CGKuqopJZq6qmopqrqqqy26uqrsMb/KuustNZq66245qrrrrz26uuvwAYr7LDEFmvsscgmq+yyzDbr7LPQRivttNRWa+212Gar7bbcduvtt+CGK+645JZr7rnopqvuuuy26+678MYr77z01mvvvfjmq+++/Pbr778AByzwwAQXbPDBCCes8MIMN+zwwxBHLPHEFFds8cUYZ6zxxhx37PHHIIcs8sgkl2zyySinrPLKLLfs8sswxyzzzDTXbPPNOOes88489+zzz0AHLfTQRBdt9NFIJ6300kw37fTTUEct9dRUV2311VhnrfXWXHft9ddghy322GSXbfbZaKet9tpst+3223DHLffcdNdt991456333nz3/+3334AHLvjghBdu+OGIJ6744ow37vjjkEcu+eSUV2755ZhnrvnmnHfu+eeghy766KSXbvrpqKeu+uqst+7667DHLvvstNdu++245647pPY4Q4skg3hiizVw7R6APbRQoUBxzBdXgRgv6S4MC81X3zwQGtkODxLV9xDGHojYscUHzQswSPGxk/MC8xB8gk4++fAjv/zbxGEA81HwFjs75MG2xzzxm58A5YeOKjDvCBlynT2sAwAG3GKAEJxfPhAxgOL853VtKI4BnhHBDsrvE8zrhevIUUEAfMKDHYRfGIqDggSqzgrFSQIKUTgPowDgRqpjRwUFsA0P5mMeKPwEcf9ewLpWFGcJHZzHGgwggPYFcID5YEBxIKS6KBTnhBFERAnCkY9bbLCDVSAOJVaHguK8L4JVCMP8VvCJJwrwFhZc3fIEAMQIfmIF7uBHNgywDTfKLx/PKI6EUPeO4kDAh3swwAcU8MAI5iMcxSFi6uBhSD/O7xYQuMUzEAGBcHTQG8WRweoWUJw6QnAFiAjgEtbQwUACQDKqKyMAPBnBD7RRfmm0ZD6ECIALpk5FJrQkP+JQgme44xYDaCQEDXiU1dGiOD1Ioh0+wAA2JvF+AjiN6uBRQg7O0IOIIE4OWicGaArzm+5YHgBg0Tp2qBMR34RgPpgpA/SpbhDEEYAy48n/DzsURwDMeJ0+rCiAAcAznvNYYXECBLt3tAA2AtgCOmaYjR4wTwuzYwcQ/mkAO3hTgPO4RRiZxwYXws4eZqgeBJYQhjhUoQcKIE5xFJCV21Fjo9arngC8oM3cOaMNHsgpDQYhDuMRhBy+A0UvqLEWozr1qVCNqlSnStWqWvWqWM2qVrfK1a569atgDatYx0rWspr1rGhNq1rXyta2uvWtcI2rXOdK17ra9a54zate98rXvvr1r4ANrGAHS9jCGvawiE2sYhfL2MY69rGQjaxkJ0vZylr2spjNrGY3y9nOevazoA2taEdL2tKa9rSoTa1qV8va1rr2tbCNrWxnS9va/9r2trjNrW53y9ve+va3wA2ucIdL3OIa97jITa5yl8vc5jr3udCNrnSnS93qWve62M2udrfL3e5697vgDa94x0ve8pr3vOhNr3rXy972uve98I2vfOdL3/ra9774za9+98vf/vq3UdgIcIBxRaEkxaod2tBGOzoi4AY7GBuwKrCECwQrbWwCBwMQgIYBYAAcEEIbEnmwiBvMqgmbmMKr0kYOclo9HETjISOO8YBTdeIaqyoeX7AeBFbgAxs27wsLVoiMhwzhU9X4yAb2VDmoV5wBkGEY9eiHlPtRj2GQoYQAMEE5EkJkIpsKyUguVTkgIFMymIPKU05zP8xBBplCAP/EB+myl0cF5jCPKh4m0CAr1MznKQ9DnR4IMkHk3GVR1RnMoyJCcRgAjT47es1SBEAO8DFoQs8ZVIdGNKh48c9hPPrRxyhhLSpt6UtzKtOa9hQ+ZMmHT3+6EMUxwT0EUupCfwrVqeYUp1cUZVc7uh4lKM4raF1rU2sK17neVI4BUAhXs8LMjq5EcYxA7GLL2FPItjOn7mHDMz8aGhoYgDl6rWZzEIcB8QiAtYeM7WzbuFPaKM4KXO0DVgBg3I72QXFevO5rd8rdR+4UMYpThVebGQCNdvQWiFOLfvv71AA/cadcURwyPNocEDCHOQyA7z7zoTibcHiM2x3xCXdqE8X/aXWf61HvNQug43wuBHEIoW6RP5jkJS9wp2pBnC04mhUrOMYxhgEAVnibz20GgCtqbnMS/zvnOu9UNGDjg2iv4OolEEAJmt3nJBCHGExv+owhDvX5dKodsGEAuR1tbpirOaYA2LLYnU72sie5UusDgKc/bQ6EO/oYxDFBtcWOabvfnVKEiKGvj87nhQNgDgOZe5FxDvVPlUOmx/C1o6GxQziH3eaFL3uovlDBHaxd81TWNwC+UBDCh0r0oWoHEwVQcNRPmQxN3jKpHU7nyouqFv8kw+kfXY+kK53SrRc5qXJeqsQXxweMZ7sPZDoH5BuE96WKuKnwMQfmDaAO0Z+yYDn4cL/ifGHWXLY2qtydKlfI9PmAYMUwhsEKRkyfeQLYREOKvSpcp1jR5aNh71ccOaAN1scQhOYqh/YqxGAEkWY9BkAEYEcRIzcr7xYr8cALhPAFRkAEX0AIvJBuChEQAAAh+QQFZAABACyBAAIA+wH+AQAI/wADCBxIsKDBgwgTKlzIsKHDhxAjSpxIsaLFhv8y/ht4jtq5iyBDihxJsqTJkyhTqlzJsiVDWrAIaoSojxYdIgsAmAmgsaezFwCC0rjmsqjRo0iTKl3KtOnKDApkZoQoLygABTp7aqSmYEAbVGYAQBDntKzZs2jTql3bFKrUjQ/tGRLGDlXWqQL/0QAQUyAlAEjYCh5MuLDhw0rhXZug4JpjcVrxOrRrZqbAawBawA1gL4OAdIhDix5NujTiZFat5oi8uSFlyQEkAZDT2guAVqZz697Nu/fId80gKGhG3FrGc8qSK1dW8Bzr163FAPDU2hAAP76za9/OnbfbgRmtp/8OWvDR87ubowCg1doTADHd48ufT9/p97z/rIHazx9UwWvnVWaZEQAIIxksAFhR34IMNujgRffxBBtE0PWExHqtgQKAFw926OGHHkaY0TvnlGjiRwS9E6CEGtkGSnWzgSjjjDRmJ+I/4o1X3ooFWedHa2H5V+OQRBZJmAcGSCWMHG0w6WSTUDLDI0HOAKBDaygAwI2RXHbppVI6AMAOeBM+RJlB9oAAgDMD9SIADV/GKeecJbUBABGYoNILaw1hYoYZQAjQAhtm0KaRLQJM0Ao1oCwwAJt0RirppAy9E8UAQeXAomULETgeAAtohQpWQUFgC6WopqqqPuycMyZ+ZR7/1OqJJnIKTy+oCCOPqrz26uuvwAYr7LDEFmvsscgmq+yyzDbr7LPQRivttNRWa+212Gar7bbcduvtt+CGK+645JZr7rnopqvuuuy26+678MYr77z01mvvvfjmq+++/Pbr778AByzwwAQXbPDBCCes8MIMN+zwwxBHLPHEFFds8cUYZ6zxxhx37PHHIIcs8sgkl2zyySinrPLKLLfs8sswxyzzzDTXbPPNOOes88489+zzz0AHLfTQRBdt9NFIJ6300kw37fTTUEct9dRUV2311VhnrfXWXHft9ddghy322GSXbfbZaKet9tpst+3223DHLffcdNdt991456333nz3/+3334AHLvjghBdu+OGIJ6744ow37vjjkEcu+eSUV2755ZhnrvnmnHfu+eeghy766KSXbvrpqKeu+uqst+7667DHLvvstNdu++2456777rz37vvvwAcv/PDEF2/88cgnr/zyzDfv/PPQRy/99NRXb/312Gev/fbcd+/99+CHL/745Jdv/vnop6/++uy37/778Mcv//z012///fjnr//+/Pfv//8ADKAAB0jAAhrwgAhMoAIXyMAGOvCBEIygBCdIwQpa8IIYzKAGN8jBDnrwgyAMoQhHSMISmvCEKEyhClfIwha68IUwjKEMZ0jDGtrwhjjMoQ53yMMe+vCHQAyiEP+HSMQiGvGISEyiEpfIxCY68YlQjKIUp0jFKlrxiljMoha3yMUuevGLYAyjGMdIxjKa8YxoTKMa18jGNrrxjXCMoxznSMc62vGOeMyjHvfIxz768Y+ADKQgB0nIQhrykIhMpCIXychGOvKRkIykJCdJyUpa8pKYzKQmN8nJTnryk6AMpShHScpSmvKUqEylKlfJyla68pWwjKUsZ0nLWtrylrjMpS53ycte+vKXwAymMIdJzGIa85jITKYyl8nMZjrzmdCMpjSnSc1qWvOa2MymNrfJzW5685vgDKc4x0nOcprznOhMpzrXyc52uvOd8IynPOdJz3ra8574vFw1YuH/Q2OgQABCqMYOjaGmoARBoBj0h0L9QRKCjuegFFyoRCd6EYcCYAAwwBQAIArBiXqUohOx6ADSIAomCCAoP0AoAz/KUpA+RKQkFUVJTwqAlK60pThV6EsLOlKZ+tSkKFXpAXNKVIYyBKY+TSpQaypUAha1qAtBalKVSlObGvCpUEWIVKdK1aAWEKtZNchWudpVpg4QrE8VK09jSlauLtWqAERrWAUyVpmmgQkwYAJZ39pU/smVqASpqyjSYAAmpAEGEthrVfuav79mVbCikIBeRZEIBrC1rHDdn2MBC1lRQIALPpVsW/nav83mNABZuuhlpypamRoABm2daVCoUFrT8bZUGjQ1QWxFwQUDcOGwC4BtWxOxgJO+oLa2/WgAzgAAAQhAuG3lAgzymtfhVuCkA+gEcpMLUuYGBbq79S1ZEyGBkxogE/7jrnIF4l0AgJesPKjAeCuAqfP+T70eJUh738tbBUhgARVIBFfJa170xhW/Oi3Ifgechj7Mt74GPjCCD7Lg3fqUwACwrwARnGCDVHi3iaBvhiO8Yfwq5MMPviiJS6zehaA4qSHG1ABWfNYWu9gq/I2xihXIXYegWMczXmByIVJhINMYgY6dyH5DjN0jJ/CvFGmvRrM7wbRepL0X1W4FcToS71KZh4b4gZZXGBAAIfkEBWQAAQAsgQACABgB/gEACP8AAwgcSLCgwYMIEypcyLChw4cQI0qcSLGiRYr/Ml7cyLGjx48gQ150hoqdxX/ODEXJEADEQW6UrqAQ+O6fyJs4c+rcedMLAGongRB0abANAAAGBACoaZOn06dQo+70CbTiP1C0xJFrebAXqmv2ICzVKLWs2bNoE9qMAgCWwGv6LJ7jWjBjU7FMm6bdy7cvzrgFl8qlS9CuQLyG/SpezFiizSMAPAlsZi8APIbXDs4lWpgsYrKNQ4sePZBqwaoKjWgmPDDxZ72kY8vea5qgyYXCVnNu7Xks6NnAgz+tvXGzQde+YQtfzhwkcYGVF94uaLxu77zNs2vf+DwA6oSqDVb/73w3+fbz6B+K+Um9jRz38N/LlyyetUDk2NPr319wUABaHY3Hm0af8Wcgf7mB8EgAqEQXUTICaQHAAgKZMZdA4pih4QAAiKGhMweGeN4/fkAgkGASLWgQewIlc9RARwEAiog0avfPOwGcA1hElx3koD3nBClkkD3WaOSRSCap5JJMNunkk1BGKeWUVFZp5ZVYZqnlllx26eWXYIYp5phklmnmmWimqeaabLbp5ptwxinnnHTWaeedeOap55589unnn4AGKuighBZq6KGIJqrooow26uijkEYq6aSUVmrppZhmqummnHbq6aeghirqqKSWauqpqKaq6qqsturqq7DG/yrrrLTWauutuOaq66689urrr8AGK+ywxBZr7LHIJqvsssw26+yz0EYr7bTUVmvttdhmq+223Hbr7bfghivuuOSWa+656Kar7rrstuvuu/DGK++89NZr77345qvvvvz26++/AAcs8MAEF2zwwQgnrPDCDDfs8MMQRyzxxBRXbPHFGGes8cYcd+zxxyCHLPLIJJds8skop6zyyiy37PLLMMcs88w012zzzTjnrPPOPPfs889ABy300EQXbfTRSCet9NJMN+3001BHLfXUVFdt9dVYZ6311lwratfXv0l7TS+gDCIJLM0UCRLYbCf2LDVseBDj3AZE0eBHbecdNrLiXP8x999ze4DKjlbpbbhyxUqiVIwlVGEHInuE0cPfQEw30eGYH2uPT0cJsMYz/IQuOj/ufFJCjCBwgxHmmROrjxUxLhHO6LSHPg8iHAIAwVYRsc56sYPEiEY++dRu/DNiAdCC2g35/ruwzCy+h/HUh74NA0dpAZHzvgerDw1HVVF89dTfwqEA1jzE/fO/0nKUAu6QT34YR4XH0Prs+wrEUYiQP8/4xkOHAY4ijubhr3W9YgeHBhA/490CAgMYwBb+Zzz6AUASBjyg4X4Fi6MsgXrbAMAt8oGOFcShfEfRQQY1mLdf0eEonwDg6G7BANHtoQfUm8dRKHQ/FurtV5y7BfX/BPiMfMyjB9OjngKOwrzj+PCHvjLCUUBHvWcooAQGWIMMabcCpRRQIU+EYq8gAwAq1g4dJbDDM25Rgk9UbwVHuRAYw8g2ICpFiMa74fg+AYEtig57AJBHD+n4tV/5gX/UswMOQ0dDP5LuKCYaJCH3litbHGWRtXsGAD7hjmysoAooBID95jhJSuIKHudrYO1usYIrooGCtavCUeizkFKaMldIOIod5Ee+cCxOjrUsZbCEcRQDoIOX1EuCUqKgPmEGi4w9mAcyaXeLowzgiw6Z5LCskbswOLJ6z1hcG3pHx2KBIkZJkCYybzFAAOTAQc304bHYEKMVmJF67lhDjDxg/7ntydNY+jhk7G6hTtHlIxt7WOJRaABMxxxwWbRYQOcEYIAeVCEOYVjCB/52BUFuZH3NYgcbcge4udEARHhDoLPO8YgclDQDZsgNTtp2LXZQwyuwcIY4CNe1nvr0p0ANqlCHStSiGvWoSE2qUpfK1KY69alQjapUp0rVqlr1qljNqla3ytWuevWrYA2rWMdK1rKa9axoTata18rWtrr1rXCNq1znSte62vWueM2rXvfK17769a+ADaxgB0vYwhr2sIhNrGIXy9jGOvaxkI2sZCdL2cpa9rKYzaxmN8vZznr2s6ANrWhHS9rSmva0qE2talfL2ta69rWwja1sZ0vb2v/a9ra4za1ud8vb3vr2tzfBBjYOJtziEqy4yMWWPdhxDXF4VCfIje607NGMNqDgbxCwWz89Et3uQksfsJBbSWM0ADNs9yLdTa+zrvGCxVkTAhKogETntgBKcDe96l1WL+arOybcQRQABnAiuACDuXkBnhTBr4KVhYoYKYAJAY5whNNQ4KMAAcERUbCGkdWM3FUgERIOcYCZEKMrVETDKDZWOiZwFBaI+MUA5kKMMDERFNu4WJyDAIhh/GIST+i8CrGxkIfFDaUIoA885rEEjiIHiAj5ycKSEABgkGQep2GBOGrIk7cMrLAAQAA7DnEimAADHoQ5xBV2C0O2zOZfuQj/ABV4cSIqAIM0MGEAZ46wjAFghTWzuc29Ch4AICxiLkAgwGWW81EqsJA/O7pX6wEAF17MAyoDmAlxfvH5MEwQR/+5V7kEQBp6LAFELwDGFThKOhLi6U/zan9HlrMBmJAGLiQFxksGADYP0mou8wp2ooZxImBAbC4MAMbJyzKre53iXsnhKJOuMrFhXEwtMxu/vzrnlIUN4DQsYNQiToNSXuCQa3v3V+f4sgFgPID4GiDaIvaxHx5ibuMG6wXQlnMawA3jdn7Hz9celiQgWWUY+7gFPAV4q4llD/ESuuARTsTielHjhRerFTGCN8TnnMITPxqgwB6AxpOcCA8oZQK8dEswoI8lD/B9+eFWhoBSBqCMjfg6Welwue5GHuE+wEAASlEAgDgyZGbJA9jWhAEXuLBvLjBhAe7NQPruu+Bn0QIEfxPAAIxM3jYA2SJVh5Y9OEED9/6tAmZIeUjyS610oMIPXjgCFdrwCGokfO3JLZi96RUQACH5BAVkAAEALIEAAgD7Af4BAAj/AAMIHEiwoMGDCBMqXMiwocOHECNKnEixosWJ9sRRS3exo8ePIEOKHEmypMmTKFOqZEitFUeL1B4F8BBAgUF5knQIACDwhbCVQIMKHUq0qNGjSFHSCfDTYhQBA20WFAfAQBQ/g4gAEAArqdevYMOKHUsW6dKmFWHB4vaupsF0g9j9m/vvEYAJ9srq3cu3r9+/Rbl5CYBpYN6K8NwqpDsBwDXAkCNLnkwZ8L8JBslZTCw1Id0WAKxVHk26tOnTIZ1ZCWCo4GGF1A5yXjj3nAAFr1Hr3s279+izUxm+kK3Ysz6tfnwrX868uVfgBNsutEW8M8J/fgTQyO28u/fv4ClC/+84W6GnACBehl/Pvj378Q/VEyyPEBQAD+fc69/Pvzf8AOIIV11CrQCQwTn/9KfgggwCllwvBbEjRxsTVkjhhTIZRF9BsAhQgThzNSjiiCQidd55Hm04UC8CTHANXSXGKOOMJMWWQWsBJCZRbAGIEcAAZgjEjZADAAAEG2YkKdBjNDbp5JMMPYKZQJpJhApCTTnD00HUQenll17qyN1H9uR3kDxgpqnmmmy26eabcMYp55x01mnnnXjmqeeefPbp55+ABirooIQWauihiCaq6KKMNuroo5BGKumklFZq6aWYZqrpppx26umnoIYq6qiklmrqqaimquqqrLbq6quwxv8q66y01mrrrbjmquuuvPbq66/ABivssMQWa+yxyCar7LLMNuvss9BGK+201FZr7bXYZqvtttx26+234IYr7rjklmvuueimq+667Lbr7rvwxivvvPTWa++9+Oar77789uvvvwAHLPDABBds8MEIJ6zwwgw37PDDEEcs8cQUV2zxxRhnrPHGHHfs8ccghyzyyCSXbPLJKKes8sost+zyyzDHLPPMNNds880456zzzjz37PPPQAct9NBEF2300UgnrfTSTDft9NNQRy311FRXbfXVWGet9dZcd+3112CHLfbYZJdt9tlop6322my37fbbcMct99x012333XjnrffefPf/7fffgAcu+OCEF2744YgnrvjijDfu+OOQRy755JRXbvnlmGeu+eacd+7556CHLvropJdu+umop6766qy37vrrsMcu++y012777bjnrvvuvPfu++/ABy/88MQXb/zxyCev/PLMN+/889BHL/301Fdv/fXYZ6/99tw7bI8ztEgyiCe2WKPPtXSln2C99tBChQIAxC8/ABWI0Yy06ucPY7zCsDD///MDAo+Ypb8C7o9d8EDC/3oQhj0gwg5b+MD8BDCI8ynLgBhcn7rI8QL5QeAT6MhHPvhBQhJuIw4GkF8U0HSsDLpQXezIQPwEsId5jLCEOCQhOqogvyOMCVguDCK6/+yhg/gx4BY5TGIJ84GIIgHAR8UKohDN1Yb4GeAZSswiCT8hPwgNS4pTJBc5nPgJLWZRhGGIHwp+uCswSrFcVohfEsxoxnlAIH4oAqIbXzgudhRJANvQYj7mYcZP7GQ4wdpjGMFVIAAsIYvzWIMBBPDBG+YwHwyIX5V8pchFfisK8SujEhFRgnDk4xZXzGIVdkIJPXYSg+NCQfxCqMQqhKGEK/iEJXF4i/hBkZOvhKW44CcAQirxEytwBz+yYYBt7JKE+XhG/JDgymAWMFzviB8EBLkHA3xAAUhUYj7CET9EAtOa1wQXPLT5zBLeAgK3eAYiIBCOLHojfjKoJjrVJ/+uBcTPmElcASJuuIQ1ZFGaAIiCPvd5wG/JEgD1VOIHdElCW7YzH4Z84kIZOq4rhLKd/IhDCZ7hjlsMIJxJ5CEAQLHRfY6LFvHrASTt8AEG5BKSKRSAfHjF0PyNCx5OxCIdtYiIneRAWD1NH7nEEFOQDtUd8ANAVxKZVA2Kix1RRcRQk5gPlcrAglTtqbkGsRMBoHSr/LDDDJlBrKSeSx+gFMAAtLrVeaQxfjhqK0fP9Q7QCEAAW0AHHbPRA/lpAVkuTRc7gDBDA9hBqDicxy1WKT82sLGlYGSXPczwPwgsIQxxqEIPFLCT+CmApct65buowVgA/k8AXthpsvY4L2f/tMEDrqXBIAIULU/OixzgA0UvqMEObKWze8hNrnKXy9zmOve50I2udKdL3epa97rYza52t8vd7nr3u+ANr3jHS97ymve86E2vetfL3va6973wja9850vf+tr3vvjNr373y9/++ve/AA6wgAdM4AIb+MAITrCCF8zgBjv4wRCOsIQnTOEKW/jCGM6whjfM4Q57+MMgDrGIR0ziEpv4xChOsYpXzOIWu/jFMI6xjGdM4xrb+MY4zrGOd8zjHvv4x0AOspCHTOQiG/nISE6ykpfM5CY7+clQjrKUp0zlKlv5yljOspa3zOUue/nLYA6zmMdM5jKb+cxoTrOa18zmNrv5/81wjrOc50znOtv5zmarRiyqawwUCEAI1ZCuMUAgvyAE2rhK1VY7tKGNdoRk0P8zNLV82yxtbAIHA/jrTgyAA0Jo4yKQBsAAblDoQz+Lts7SRg5c+z8cRIMioR6AGlYxBfn9wNQEVCSz4vEFAC5AAh6AQGnl9wVHQyTWs14FrW2N69kGM1nl8F/8BsCDNIji2thOAw8mGT8TlOMhyFa2uGsdv1unFp3HKoew48eDRGD73dhOBA+cCIFPMyTc4h43s52N7mLFwwTT5gK8B55tf97H2AnBd771Xe5mI1WsxNJKVfpA8IqLIhEpBEAO8JFwQos62QvPN7kBYO4oulVYvP+YobUtXvE0ZLwWCFF4yEW+7y9WVVj4eCgTWM5yJuzEBPcwiMxnTvOG2/zmwEo5ABbgbp5b/I4AeEVBhr6KUEyhBjV4QigWPvKS/6qqDe1VrwGw84pzAQYwWDnBuRA/IxCE6quoAQWmoIYbbJ3rNT8n0n11jzsKoOkDh0EF0sAFAwic4IkwYjwEAvcpUODuRF+20fV+cl9pI34VqHgiBEBxUXBhARaXwE5eDfe4FyEUamhE5CVPcofjCuxh1xUx4geDlgsA230AQOcHzoOdwPyhso48BWpwAA4k4AarHzkVKF95XrkifmUfeOI7z4UBqB3eTIjfJqRRWg6sPgEJUH3/IxSgBsgvvBEJKCfzId6rTUDf4oJPQxoqMIDDD9znACBEAM6wFQHUwPz5BgLIp2w1MIAh1wgcMG2dsH571Su1sBO1Z3FMgHZpAADX927ZBwCuIBD8Fz//N3MFKG43YID51ggUsBMDkAlfB3vAEg1bEYE853LwFz/EMBAdCAAfuHBqoADilwDld34JKGoquIJgByztMG0W13SJUAHRN3AG9202KD85mG83kAAycHwAaIIoOIREuHe+0kEWWHGCR38wOHBpUCQmYBA3OIXi1gipd4BBmIJH13y9Qgi0Z3HyB3gE13sAMAcHsYYASHRaKIR65YW9Ug6ldYFOF28zZG9q8CiFgQiE08aFD0eHvvIFmSYBi0hwogcAX6AQgBh5gyiHxmKJvtIOkyQAZbiJfDgAUJgQoQiHk4hY7CcstTBDPLCJ15aBGshxCxGLbXiChMhv1nQsdrgVJqCHmgcD8jMHvsgQwIiAs3huz3Ys+DAH/TcATKCM8YZ/8fMFQfcQoTiKlHhBqqUsrjBsAGACTMAF8pcGEzhBmzARaziIBlCOueZGlSZx/SdXf/U/OaANzxgRN5hpVbGA+PNG0EIMRpBJMzQ/BkAENXgRNyhqCFktwjQt8cALhPAFRkAEX0AIvLB4H9GBA3CR0WUIP4CS1hMQAAAh+QQFZAABACyBAAIA+wH+AQAI/wADCBxIsKDBgwgTKlzIsKHDhxAjSpxIsaLFieyuWXt3saPHjyBDihxJsqTJkyhTqmQoDJW9i8IGHZkQwIjBf1YmABgIotXKn0CDCh1KtKjRoyiBBGB3McNOgTYL/lvwQswgP0gEAJCEtKvXr2DDih17VClTi496nWNW8ya7fwRpBVhAtq7du3jz6iVq7xqNAMkEcoNbkW1Uh+L2Kl7MuLHjveeeDoRAmKLhhvoUCID3uLPnz6BDg7TX7EUAWwKdwT2rMLHBywvhsQEgprLo27hz6+5stqDchWIOwj7oJceLBRMGvdzNvLnz50h7EyTH0JnwtghnGgAAgQ1n6ODDi/8ff1F6x+EI/4mzAkCHPvLw48uPb17gd4WsCaK/+e+fPhoACDPfgAQWeFt9AfymUHCvYXdQf/0F4AcAhhho4YUY4mVTOgVZ04YcH4YI4ogK6uegVBAK5IUAXGXo4oswDuVFANR8tF8A79iTYgDnQABAjTEGKeSQIHkSgAxcwWLbQ79FEUAGbNgnECoZ0IFKL62woQAAXixJ5JdghnmQPWIoIBBlE5mB0FnC0EQQBMp5KeacdBLJVDpyMsTRQe8F4N81vaACizM6RljnoYgmquiijDbq6KOQRirppJRWaumlmGaq6aacdurpp6CGKuqopJZq6qmopqrqqqy26uqrsMb/KuustNZq66245qrrrrz26uuvwAYr7LDEFmvsscgmq+yyzDbr7LPQRivttNRWa+212Gar7bbcduvtt+CGK+645JZr7rnopqvuuuy26+678MYr77z01mvvvfjmq+++/Pbr778AByzwwAQXbPDBCCes8MIMN+zwwxBHLPHEFFds8cUYZ6zxxhx37PHHIIcs8sgkl2zyySinrPLKLLfs8sswxyzzzDTXbPPNOOes88489+zzz0AHLfTQRBdt9NFIJ6300kw37fTTUEct9dRUV2311VhnrfXWXHft9ddghy322GSXbfbZaKet9tpst+3223DHLffcdNdt991456333nz3/+3334AHLvjghBdu+OGIJ6744ow37vjjkEcu+eSUV2755ZhnrvnmnHfu+eeghy766KSXbvrpqKeu+uqst+7667DHLvvstNdu++2456777rz37vvvwAcv/PDEF2/88cgnr/zyzDfv/PPQRy/99NRXb/312Gev/fbcd+/99+CHL/745Jdv/vnop6/++uy37/778Mcv//z012///fjnr//KEPZv6LyAAsUgJAGLZtwnYv5L4I7cRQ02eAAAEIwgAAwQBZdATIEY/F+6xHEFCXpQgh5ARZ8UlsESarBcktBKBEtQBTsgYg9h6IEHgZAfg5nwhuayhxciKIA1PIMfQAwiP//c8YkSRBAE3EDYDZdILn2wB4JLCIcQpwjEeSBiABCEAHUKtkQmjmsQEURDPvJBxTI+w0cAaMEBA9ZFL4KLGSrcQxnnCMRtMACCWiBYG7sIrv9AsApkpOMcb4FFAVhjYHt0Y7doAUEFuEOQggwDBA/zr0QqkltAgCAiBDmPQJYRHdsBgGsqaUkcdosdWBzAI8t4CwgMYABb6GQZJbkVNpbShN6CBRTnuA0A3CIf6FhBHAYJQR3Y8pYZ9BYdIPgJTwrxFgwI4h56MMd5QJAuAENmCb21Q1/OEZTPyMc8eiDHOW4JAGvUlza32S0jQPCHc3yGAkpggDU4c4or0Moo+bX/zmR26wjv/GYJ7PCMW5TgE3RcAQTPkc1+JpCbWrnFHKcZyE9A4J5BvCMA5NFQh/bPWxMCwCbLaAdqAhGaGB1iFo/p0RNmyxYQNCkVnwGAT7gjGyuoAjEBQMl+tfSj3YJHIVdJxVusYJ5okCUVqwBBI3W0peBCAgTtAElBhkOFDGWpQ8ElDAgaAB1VnWMStOIkgf00T9kCKAB6MI+wTvEWEBzAPp+6TnFZA4sACENK6fgMFbaBi1sdFygimIS2hvUWoczBcvRY13LNBoIrgCcd3bGGCHqghojUprn0EVIo3sKwQcxHNvZwTgDQIKtKLKW6aLEACApAAAboQRXiEIYl/3zAg1fgKMMSyS52sAGvH5QgDaxzQVO66xyPyEFwM2AGAVVMgfZiBzUCNShxjHB/2M2udrfL3e5697vgDa94x0ve8pr3vOhNr3rXy972uve98I2vfOdL3/ra9774za9+98vf/vr3vwAOsIAHTOACG/jACE6wghfM4AY7+MEQjrCEJ0zhClv4whjOsIY3zOEOe/jDIA6xiEdM4hKb+MQoTrGKV8ziFrv4xTCOsYxnTOMa2/jGOM6xjnfM4x77+MdADrKQh0zkIhv5yEhOspKXzOQmO/nJUI6ylKdM5Spb+cpYzrKWt8zlLnv5y2AOs5jHTOYym/nMaE6zmtfM5ja7+f/NcI6znOdM5zrb+c54zrOe98znPvv5z4AOtKAHTehCG/rQg8MGNsqr6EaLt9GQvpc9MiIO3d7LH5j2R0ggzWl5kaYNKPAgBCqI2XVl+tSovginV/0ufcDigcGN4ADMUGpzofrWqZ7Iqnfdrmu8QIVxpQAHOBDKCC6AEurCtbJz/ZBdO3tdvWgtBCnwhEOs4trXboQaOABsLyyWXMsOd6ab7exnowsVEUzAFEKB7XZj+xAciCAQvh0ucdtb0wwpt77P1Qy8UqAR7g74tUMxhQheAdz3tvdC9M3wcqVDJwDgALsFTvEp4BUT40r4vRPC8I6Tq5v/prjIV1EErSyg1tn/0vjGD9LxlouLG1oRgLVHLvJ4A+Cv31J5wg3S8p6HSwsQvAHNR66GVO6pWzpf+UB6zvRv2QONjZh4wNVwgxrcIOoCl4FWYJHzpIubIEwPu7eSAUEQiHwKEJiCGoqghopj0Qre8vrKw073boERAE+geCMSoAap6x2CFYi73L9O98JzSwwQbLvAp0CBVRxi5iLfjgDoja3BE77wYt+WVAGg+IAXgQPCpoADAE5xCkCQQ9yyfLgxX/dtZVLmFL+BANoeihrIoOYQnGvlVa/sALC+6dt6YufdPQUBYLvoIk8ABI+uLd733ve/bzi35ADBKVBcDQA4vgEoHgqtGEDwzmd2//TL7a3BCkDoAt877WtQg+tj0TRIDz+zoT/+SHsrMgBQgN/bXXTQc4D0nqcVftB18odvYFd/ihYuL5B4+4dtoaAGWCdwoaB8P0KA8sdy9ScukjBtDTh011ZwaXRd21KAmIYQ4zcu9gBreeeB7nYIA6AVvVBvF8hxrFcureBaw+eBoUABWmFMMhh+C2d45eJEcZWDI9cINjcBW/SDvJdvmWcu8gAgEFQEHehuamB6ADAAylAuzucQwIcu6QAgr0UB1kdxh1ADEaQAJSIuTUhu0qcu8vBEAvBKNaB2anCHRYCFEJQBh4Qucqdr++YutAACPPRawCVrbYBybJh0FEF+8DBiD5xAA8DmQRVgBkvILjunaqxGL+mACn7gBUdABW3wCNQggu4SbiDRaePlaPcTEAAAIfkEBWQAAQAsgQACAPsB/gEACP8AAwgcSLCgwYMIEypcyLChw4cQI0qcSLGixYn/Mv67yLGjx48gQ4ocSbKkyZMoUy7Uh6rXxor2YLUBoiCAoYMa/zkTAMCLyp9AgwodSrSo0aMm7Qlg8ZIiOQAEbxrUaA/FgJ5NkWrdyrWr169ghyplapFdgGTvBtnEKZDOgDZYs4adS7eu3bt4f76zBgDENYHnLqqVepDagEGt4uZdzLix48d5WxmkInjtQXsvWthDpRiy58+gQ4v2yC4ZAA/NBHITKI6hWYODEQ4C4CwAZy9yR+vezbv347FyxQhYCOtgbIPcBrDJeDu37+fQo0sXCrxg7YWtYVsmqI9GBnjMsU7/H0++vPmL1TsejwpA2MDmzs/Ln09fevqBrxXCM75dYLoBRJwj4DmPAEDFOfnVp+CCDIJ2n0DCEccfYQJRwxMAGGYIlQ4Ndujhh3XpMwAKctnCkDUTFnSOGSy2SAQALLDxCIg01mgjUR4sYI9H6w2UEUHw3SjkkESCRFkUngSgDEWDsBEADU8KZMhLOYWHW5FYZqllQ+kQMYBAlE2EwkEtUFllc1umqaaa+qQTQIIQuWlQOk1VCQ+Ca+ap55589unnn4AGKuighBZq6KGIJqrooow26uijkEYq6aSUVmrppZhmqummnHbq6aeghirqqKSWauqpqKaq6qqsturqq7DG/yrrrLTWauutuOaq66689urrr8AGK+ywxBZr7LHIJqvsssw26+yz0EYr7bTUVmvttdhmq+223Hbr7bfghivuuOSWa+656Kar7rrstuvuu/DGK++89NZr77345qvvvvz26++/AAcs8MAEF2zwwQgnrPDCDDfs8MMQRyzxxBRXbPHFGGes8cYcd+zxxyCHLPLIJJds8skop6zyyiy37PLLMMcs88w012zzzTjnrPPOPPfs889ABy300EQXbfTRSCet9NJMN+3001BHLfXUVFdt9dVYZ6311lx37fXXYIct9thkl2322WinrfbabLft9ttwxy333HTXbffdeOet99589//t99+ABy744IQXbvjhiCeu+OKMN+7445BHLvnklFdu+eWYZ6755px37vnnoIcu+uikl2766ainrvrqrLfu+uuwxy777LTXbvvtuOeu++689+7778AHL/zwxBdv/PHIJ6/88sw37/zz0Ecv/fTUV2/99dhnr/323Hfv/ffghy/++OSXb/756Kev/vrsg2yPM7RIMogntlijz7lVamSwPbRQoYCGGaqAGFITrvwZMD76EgYLAMhADAGBGt46oAQRWC94IAGAPQjDHhBhhy18QEMCGMT9tDXBCfKLHC/IEAQ+gY585IMfMIThNuJggAxFQR7YKqEO9cWODGBIAHuYxwv/Y0hEGKKjChk6wo6qpcMm4sseOsAQA25RxCrGMB+IuAoAxGCtJjrRXnABgAGeYcUywvATGeoFtbz4RXqRQ4ufMGMZXRgGDKFgidBioxfrZQUMJUGOcpwHBDCUpGjpsY3xYsdVBLANM+ZjHnL8BE9eIK1DIvJdiQHAEso4jzUYQAArHGIR88EADJEjj5bcobyigKE4WhERJQhHPm4xxjJWgSeUQGUqTSgvFGCohVasQhhiuIJPiJKIt8AQF5+1yxLO638CgKQVP7ECd/AjGwbYxjFhmI9nYAgJumzmAeP1DgxBwJF7MMAHFEBFK+YjHBiiJDPFKcF4wcOc24zhLSBw/4tnIAIC4SijNzAkg3DSs0ryWgCGpFnFFSBiiEtYQxm9CYAoGPSg+ouXLwEQUCt+wJgwFGY+8yHJLV4Uo/O6QivzyY84lOAZ7rjFANpZRSQCABQnPei8aIGhHnDSDh9gQDE5WUMByMlZGM3fvOChRTIC0oyI4EkOKpnUjMpLDD1l6VPd8T8AFMeQVaXgutjRVUQ8tYr5sKkMRgjWpNprEDwRAE3Pyg87/JAZa3SrvfTBSgEMwKxnnUcdMUQhqur0Xu9oAQAEIIAtoAOQ2ehBhrSQQ3ryEAg/NIAdnErEedzilhliAx6ZKE5+2cMMAITAEsIQhyr0QAEXAoACcLqtXf/+ixqYbSAIvXDU2upxYM5ogwcaSINBZAdclxwYOeAHil5QA07jGmf7pkvd6lr3utjNrna3y93ueve74A2veMdL3vKa97zoTa9618ve9rr3vfCNr3znS9/62ve++M2vfvfL3/76978ADrCAB0zgAhv4wAhOsIIXzOAGO/jBEI6whCdM4Qpb+MIYzrCGN8zhDnv4wyAOsYhHTOISm/jEKE6xilfM4ha7+MUwjrGMZ0zjGtv4xjjOsY53zOMe+/jHQA6ykIdM5CIb+chITrKSl8zkJjv5yVCOspSnTOUqW/nKWM6ylrfM5S57+ctgDrOYx0zmMpv5zGhOs5rXzOY2u/n/zXCOs5znTOc62/nOeM6znvfM5z77+c+ADrSg71aNWIDXGCgQgBCq0V1jgCBDQWA0uhCqrnZoQxvtAImjARhpciW3W9rYBA4GwFieGAAHhNDGRTa92AZAWtLfOuS3tJED3WoIB9GgCKsFYAESPCBDP4A1t1LJrXh8gYEJ4AAHBgnAL2QaIrvuNQl8DWxhZ6u02CrHAjE0gBuoIRSrCPcqQqGGG9QQQyYox0OiPe12/xpDwfYttqtVDgjE9QaNELe+xd2IG2gRAqpmCLvb7e5qX/uw1IqHCTBkADXs++HiVkMCeOKBZydk4AQvOLytbViES+tFsj0ExEe+ikZ0NQf4/7j4oxcr7YwT/N0AiDdp9RotXvzQ4SQfuRrOXQuEYNzlLzf4tMIq1mPhY6NPyHnOp4Duexjk50AP+saHTvSaYygB4Fb6yENBAQy9oiBQF4EFHtAAEYzA5TCX+TyrDq1jA2AKJG9EEWpQA5w/fAo8MQJBoD6CBxAAAQDoQNTTznFlEf1Hz7oHs/MN8UYkoO5TgHvjecKAeAgE6tMewQg6EPioU3vqSD08tLSBIQqQnAM30PoqOIChXGOe4JwXvOcJH3rRO4sYGKrB1gFwiEYcIhRZh/gNMNTzjQoAA2f3fOw9P22Yh4lZh0d8s1yBoSKM/BACqMEBODAAuz/8CTzZhP80LlSA5Cu/88zvgEIBIE/oR/9Zm6i+zrMf7ikkgPF3xxAhAnCGxQIAAeYHdMunfAXAbZ1Qe2zXLLXAWKkHcdhnd903ckWAIa4gEP2HIQB4frIngAUIAAOQCWsXVtASDQS1dQJgdyc4cjWAIcQwEBf4fwEIe+jnch3QgR+YU5b1LO3AcMG3bzXQgFNwAD0obqGQABiibi6YIRlIcBYAQBiQcTXIbSCIg/PmLCkEAN6nb41AARTAARTwbQ6Ibgbxgks4bSLQAWiIhgEYhR44hW1VVdFCCLmXc4cAhiM3fAAwBwdBhjEYdWx4g1QngtBSDhcicqr3cNi3WAE3hkrYh1DuaINu2HEoJS1fcBUcMISqFwocwBNfoBB8SIBSeC1wOC3t8EkAoHuHKG43wBMDgIQJ8Yk0CImVNYnTUgsZcgOYuHVFcCGukHILAYvt9oeR2EUeNy1yiCEcgH9xJwMXMge+yBDAKIzDVoXUgg9zsFh+VQTKqIVPQGoY8gVO9xCfKI3d0kzb4goXwlgcMAVq0I5qMAWbyFiLtQkTQYYdQAChiFyyxi3aAHIgFFsZkgPa8IwR8YIXMgAHKC5sFC7EYASl1EAGQAQteBEv6IEJWS68NC7xwAuE8AVGQARfQAi8YHkecYEI+V2G8AMXeT4BAQAh+QQFZAABACyBAAMA+wH9AQAI/wADCBxIsKDBgwgTKlzIsKHDhxAjSpxIkeI/ZajeVQxwcVCUCQFeHLQCoGTJAABobVzJsqXLlzBjypxJs6bNmzhX/osigNvGfzIIijRIUgeSI0iSOsvJtKnTp1CjSp1KNerOnj852SJ3LeRIANf+iRVbtazZs2jTql27Vt81IgBsCey6sevQgiTDjv3Htq/fv4ADC04LzyAAfXW9EgW7l+/gx5AjS55MWaA+ZkAAoBLYTKDGhT4N2v0ahQaNKLDsVV7NurXr1zKvhh6YDMDCKAdHLx6QwYBtGuxgCx9OvLhr2QXTMRSWWzHBf7asIdaXrAWAI8aza9/OvSzylrqfk/8V+I/dAgCzu6tfz779xO8DVS8MLto5+cZjo2h2z7+/f/7wCVTbbc3ddR9+/4gRACb/Nejgg7D9k1dB4jC0WX0GcoTgPzQA0AuEIIYoYmByAMAcePYJBI985MEigAKfjSjjjDRCpRIKjwTQCmISfRiAFQFMYEYAZtAnzARtgCIMKrgBwGCNUEYpJUz6yKGAQIdN5IcAhlUYgDMKmFRSBhdOaeaZaDr0j0bnUBQjQeewaI81tqACCzX2OJbmnnz26eefgAYq6KCEFmrooYgmquiijDbq6KOQRirppJRWaumlmGaq6aacdurpp6CGKuqopJZq6qmopqrqqqy26uqrsMb/KuustNZq66245qrrrrz26uuvwAYr7LDEFmvsscgmq+yyzDbr7LPQRivttNRWa+212Gar7bbcduvtt+CGK+645JZr7rnopqvuuuy26+678MYr77z01mvvvfjmq+++/Pbr778AByzwwAQXbPDBCCes8MIMN+zwwxBHLPHEFFds8cUYZ6zxxhx37PHHIIcs8sgkl2zyySinrPLKLLfs8sswxyzzzDTXbPPNOOes88489+zzz0AHLfTQRBdt9NFIJ6300kw37fTTUEct9dRUV2311VhnrfXWXHft9ddghy322GSXbfbZaKet9tpst+3223DHLffcdNdt991456333nz3/+3334AHLvjghBdu+OGIJ6744ow37vjjkEcu+eSUV2755ZhnrvnmnHfu+eeghy766KSXbvrpqKeu+uqst+7667DHLvvstNdu++2456777rz37vvvwAcv/PDEF2/88cgnr/zyzDfv/PPQRy/99NRXb/312Gev/fbcd+/99+CHL/745Jdv/vnop6/++uy37/778M++oZ7pXtMLKINIAkszhSk8f2PnogYbPCAmkxggCqhgEcH+h6BxieMKBYxgSTyACh4FjIH/A5ckBCCmElTBDojYQxh6UEAg0OdfGGRgt+zhBZMIYA3P4IcMZ8gPd3yiBCYBQXr2lUIMbksfJCnJEv/CQcMiynAeiBhASSBAjn710IfaGoRJ0JCPfBjxis+AQEla0D99PRGK12IGBwGwhyuaUYbbYEBJtMDDL4KRWvroEACqYMUzmvEWShSANbzoRhVaixYlUYA77GjHMJTECPnq4xunlRkAIMKO86jjFdHhGwB4yV6KXCS02KHEAQzyireAwAAGsIVIXtGQAJAEvjLpx2nBQohm3AYAbpEPdKwgDncsiQ5Wycr5VYsOJfmEJGl4CwbMcA89MOM8SrIAXvaygdRq4SzNSMln5GMePSijGcMEgC7O65m+pJYRShJDMz5DASUwwBqGWcQVcPCS3wQnNKd1BHJSswR2eMYtSvD/iTOuoCRtwqQ8ARhNDt7CjMis4ycgwM4ZqhEA8rjXQAk6LT+U5JFXtEMyZVjMhtZwic6cKP2iZYuSbNSIzwDAJ9yRjRVUIZcAQKRERTqeacEjj5804i1WgE40mNKIVSiJJ0I60GshoSR2IKQdwzHGgM50otcSRkkMgA6lmjEJHMRNIkWKrXoCoAfzsGoRb1GSAcDzqeDMljWUCIAwePSMzxhjG/hVVG2BwiRJCKtVb1HJHChwq73sFhtMsoJyntEdazCJB05I18BySx8WNckSbqHXGeYjG3vgJgBo4FR/ZTJctDgPAAQgAAP0oApxCMMSPlDAK0R0YG4cFzvYwFYJ/5qEBks5WArPdY5H5ECCGTDDiRY2T3Wxgxq9sJMzxGHB+Dn3udCNrnSnS93qWve62M2udrfL3e5697vgDa94x0ve8pr3vOhNr3rXy972uve98I2vfOdL3/ra9774za9+98vf/vr3vwAOsIAHTOACG/jACE6wghfM4AY7+MEQjrCEJ0zhClv4whjOsIY3zOEOe/jDIA6xiEdM4hKb+MQoTrGKV8ziFrv4xTCOsYxnTOMa2/jGOM6xjnfM4x77+MdADrKQh0zkIhv5yEhOspKXzOQmO/nJUI6ylKdM5Spb+cpYzrKWt8zlLnv5y2AOs5jHTOYym/nMaE6zmtfM5ja7+f/NcI6znOdM5zrb+c54zrOe98znPh8YG9jgLqAHnd1BG9pd9mDHNcTxWnf549H+gImhJ50uezSjDSgoIAQQyFhyQfrToF7JpEdtLn3AgoC2LWuRPA3qVn+aIqOONbmu8YIxlkQABCgAAQZgawAsgBLhcrWwQw2RWBtbXL0QLQAI8AAMkODZz+5ABBAgJi/8NVvDzjakH2LsboMLFSYZQAREMAJom/vZGCjAGIFwbWtp+92RZki35+2tZrCVAB04t76h/QCTXGFb8Ib3QuZNcG6lYwIlQQC5983wCJjkSdgKuMARQvCKb0uaC8g3wzfeAA4uoNPTkvjEDVLxkmeLG2P/dPbGNz6CApRkru4W+cgHUvKaY0sLJWlAuVe+cQyU9U3SkvnMA1DzolvLHloEQAd2bu4RYCACDVA5w6kNAFjEXOjZJkjRt16t2gCgAEw3dwcGgABxr9zhAAAStbA+8a27nVpSBMADwv7sEdidBASIwMo7UJIKVIvt7ya6298uLTGUxAJ0P3feeZ7HdjcL8NoW/OCNLq2jAgADiTf34ldOgJIoJ+SQH/bkCR+tRkqd4ZvfuMstufbQC1vyo7e4tIJoAZ6nnuGiBfqzXP962Mf+2NMqEQD0znniM1wEHDTA33nfapr/HvjTuisAEGB74+/b5wDIELSY33znP//Q1TrH/2gHkHkSFLABDG9ASfxwde6T/PuAxlatAYD4fXfg/vdf+LlFIFpqtJ/5BwF/2SIJJUEAIsBzG9dvANACzRV03PdoFPd72mIPqDZ3CKhvHTBGPvJ/oacQscctrWAS9XeBz8Z/uoRt7ueBg9ctQHRrI4iAHbB6E9BEKMh78sZ13iIPciR3+tdzojUAysAtNtgQlPct6bCDCxAB5YcBCDBGCqASQtiB3CZ74SIPQURaZBcBFoABFgB1BGBrGbBH38J2E1Fw5UILICBBpCUmA9AGIBeFMgdr0Fcu9sAJNNBrYlIBZkCDrBZ4okZq65IOqOAHXnAEVNAGj0ANDVguWecSlAemXYTmPgEBACH5BAVkAAEALIEAAgAYAf4BAAj/AAMIHEiwoMGDCBMqXMiwocOHECNKnEixosWK5KiJs3exo8ePIEOKHFkRFq1/Fu3RogNkQQA5B//pAwVioAI6JHPq3MmzJ0kIE1BWfAeAIEyD+sQAgCDGkBwdR3xKnUq1qk+gQinCMySMHaaXB1EFoPGOYFmraNOqXZsQXgAFEK4JJHfx61GC9iYMoMu2r9+/VYUZBJJ1ol2DwgAcKQy4sePHFtk5g9tMoNwAfBWmO3i44CAAfriJCZCDjTjIqFOrPoi1oB+GnDiDLegFgBUDBmRMCGCg1+rfwBu3JkiNITfZdwdGAQAAybt//yi9ZRe8unWrwzt2JmgFgILNAv8h/wkg6br58zqzCzyr0K3B7QPNAMhRMLYW9Pjzd1Qf4PXC2O/NRhAmzRUEiwBR6Kfggg9NAAFjgi3kDHIGXQMACp4JwAaDHHZokAwCuKedgAP9IwMAEQYgjwcoeuhih6Md8ZUwjDn0iBkBABHACxvSIdQ/zgywgCTU2EJDAFG9qKSC7CBhgECETaRDUQUFFd4/vewmkABXiLjkl+jpQx11E5FZUDpZQWdPMqjQcg6YcMYp55x01mnnnXjmqeeefPbp55+ABirooIQWauihiCaq6KKMNuroo5BGKumklFZq6aWYZqrpppx26umnoIYq6qiklmrqqaimquqqrLbq6quwxv8q66y01mrrrbjmquuuvPbq66/ABivssMQWa+yxyCar7LLMNuvss9BGK+201FZr7bXYZqvtttx26+234IYr7rjklmvuueimq+667Lbr7rvwxivvvPTWa++9+Oar77789uvvvwAHLPDABBds8MEIJ6zwwgw37PDDEEcs8cQUV2zxxRhnrPHGHHfs8ccghyzyyCSXbPLJKKes8sost+zyyzDHLPPMNNds880456zzzjz37PPPQAct9NBEF2300UgnrfTSTDft9NNQRy311FRXbfXVWGet9dZcd+3112CHLfbYZJdt9tlop6322my37fbbcMct99x012333XjnrffefPf/7fffgAcu+OCEF254rvY4Q4skg3hiizX6AAzd5JPnpBIVCjCnOXMViFGZvpSHHnpIwrCw+embA1GcvaK3PvpF8CBxeg9h7IGIHVt8sLkAg0Q+r+vAV47RC5pD8Ak6+eTDz/LLbxOHAZpHIU+8wVcPHUXsZMCcAHvMozzz4C+PThWaH8GRu9anL5E9UwLAwC3hx898PogMwNxo6KdvfURtMGfAM/IL4PI+oTnfsEt/6nsIOewHgE8IMIDJCwNzUHC+dCFQfw/pDgCS8MAHzgMCzPHEui6YQIaww34C2IYA8zGPB35CAAB4wQhJuD+GtII5SwjgPNZgAAEY73vhywcD/5iTGXPRsIQKWU4DA4iIEoQjH7f4XwCrAEPpoOuINVwICpiDPPlVIQzMW8EngAi+W9zPglgMXkMyJ4AWyu8TK3AHP7JhgG2QcXn5eAZzxnPFNKpRIURZygr3YIAPKAB+8stHOJgjwz760XULgQdzIHBH5t0CArd4BiIgEI4AeoM5MkDjI1vHkAUwx43xWwEivreENQRQjwBIkCNH+TqFbBEAnZTfB8a4vC9WMh8vBAD+zkVL0TXkCszhZfziUIJnuOMWA0Bk/MgHAFCIspjXYwgtmNMDHdrhAwwQow6hJwDwEBObwoskAwHYQQEiAob0URc6s8kQpQCgB5VsJz/ckf85AMBihth8CDv6iQh9BpGaMvCdPAP6kEHAUADSNKgdtseMdjH0IfpYjgAGUFB9zkOCzDHEu4opkXe0AAACEMAW0NHBbPRAc/eB1yixB4TtGcAO7ATfPG5BRc2xoYL5S2NK5LM5CCwhDHGoQg8UAEPmKMCa9MKiR6hRU9SdTgBeMGdULygSZ7SBRaijwSBOA7oskoQcigNFL6hhJn9B8nBwjatc50rXutr1rnjNq173yte++vWvgA2sYAdL2MIa9rCITaxiF8vYxjr2sZCNrGQnS9nKWvaymM2sZjfL2c569rOgDa1oR0va0pr2tKhNrWpXy9rWuva1sI2tbGdL29r/2va2uM2tbnfL29769rfADa5wh0vc4hr3uMhNrnKXy9zmOve50I2udKdL3epa97rYza52t8vd7nr3u+ANr3jHS97ymve86E2vetfL3va6973wja98eVKNWMTMGCgQgBCq4TJjgEBzQeDvyvx7ugCrjMAoHUJTDXwyBA9AE+DQg+Z+IGCSIVgAEAZHhCdc4ZA5OMMa3jBzKCyyC4M4xCIGAIk/9mEUu1jCI+6wxkzs4hrDWMUyvliLa2xjDs/4vyg9MY9RfOMVW2zHIdYDGJY8BDAIucg5hhiNXayJJS8ZAEJOsZEjhuQh62EDXvYxl4GM4SGjeAN6MDOUI3bLB5s5s8TLAMAy3gyGplIBYtJoqgveHGIw7PnNy9gAIyN2Bs0Ngc/gwDKgBQ2AAXRCYoVmzqHNrIkBLNp+BsgExSINgEnz2AVgMHOgMa3pinHa0yiOsymGPGoAZBpjp+bxnGW9AVJrLNaIBkerX70xXF/a1aXmmK9pbeuPDTvVtQa2yI6t62TzetmGTrULmDOAYI8M14GGYbVRdupsN9raJuN0Ux3NMk43+tEtizS5X2aIH6DbYwEBACH5BAVkAAEALIEAAgAYAf4BAAj/AAMIHEiwoMGDCBMqXMiwocOHECNKnEixosWK/zL+u8ixo8ePIEOKrJgMFTyL/5INijIhAA2D1ADIBDBQ5qOROHPq3MlTZBQA4lC2IPiyoLgjSJAiSSrTWc+nUKNK5fkzKEZMts5RE1C0oMaNAZwBQKFvqtmzaNMmLAsEQC+B1y5ac2nw60AvAG6q3cu37853BgXIpes140B4CgSk88u4sWOK9gLoAABLYDOBgBdyOzi368CvGUEJiPK4tOnTB6sWFMbQCmfCBEH/oyGgF1jUuHP3VU3wHMNkrz0LBM0NwAR7hnUrXy6VN8fOdTUGkAOAjnTm2LPjdC5QHkN2waNv/7RXAQC369rTq7fIPQDrha4NQi+80RYAHQHQr9/Pn2EUAZsRxI0cbRBoYIEIthIefQEgAQAq+SXX34QUEsQGAMB1NF9h6QygADx2VSjihJW1cJOCE70VABUBTGBGAGaAN9w/hgDgRYgj5riePmwsIJBgE9FxEADkEKQPCGHhqOOS2v0DmG8TZVbQOZENpM855+jH5JZcdunll2CGKeaYZJZp5plopqnmmmy26eabcMYp55x01mnnnXjmqeeefPbp55+ABirooIQWauihiCaq6KKMNuroo5BGKumklFZq6aWYZqrpppx26umnoIYq6qiklmrqqaimquqqrLbq6quwxv8q66y01mrrrbjmquuuvPbq66/ABivssMQWa+yxyCar7LLMNuvss9BGK+201FZr7bXYZqvtttx26+234IYr7rjklmvuueimq+667Lbr7rvwxivvvPTWa++9+Oar77789uvvvwAHLPDABBds8MEIJ6zwwgw37PDDEEcs8cQUV2zxxRhnrPHGHHfs8ccghyzyyCSXbPLJKKes8sost+zyyzDHLPPMNNds880456zzzjz37PPPQAct9NBEF2300UgnrfTSTDft9NNQRy311FRXbfXVWGet9dZcd+3112CHLfbYZJdt9tlop6322my37fbbcMct90fX9ALKIJLA0sxJE1P/w4YHMwVuQBSoVNmwOFcErnjgHqBS1sKSCBA4AQg8YHkDBUg+ExAyHmwPXjIJ0AAGJJRuOgkdREDATCAEWLA+VsyEQAen1166CA9oDkGRBQ8yUwMjjGD78BgsIFMLfAvMjOYPCD/88x0MIJMWA+tDg0wIPK998BZILsBcAdMi0wAiOK/98w3IZITAbQHwwPnnjxC9TFb5y470ApRvuwgNIDBABOdLHwAkATBYYG948muA6iJgvtqNwAIywc+/6CATBm6PABZ8nghk4qN/gc4C8MMg/AYgueTxywgyId35RHi+AtDvX0dIYQgBuEKZQKlfXpCcBRpoOxZqT3oA8I6///wgk/etkIYalAkEAGYfACCAh6bDAAYIMDra2e6B6gMYPIBoRdsV4ItfzODpRoAAyXkiYA4SQPPgp70OaO6G/hJG6LrIxtqVEQCkEVgMnSiCOtYOggAYQP0AZg0gAs+PpcOA5tpQMFDIro91tAAQc2C4gV1IJgVQofb4NxMPdI5g+iCi7CwAydN1oAFABAAN4GgwWhhvJgNAQOX6twDNyeQKQlQYO9iQSlsqjgZOedg5HpGDxQEgA2Z4z8TYQY1eoAIWzhDH4+ZGzWpa85rYzKY2t8nNbnrzm+AMpzjHSc5ymvOc6EynOtfJzna6853wjKc850nPetrznvjMpz73yf/PfvrznwANqEAHStCCGvSgCE2oQhfK0IY69KEQjahEJ0rRilr0ohjNqEY3ytGOevSjIA2pSEdK0pKa9KQoTalKV8rSlrr0pTCNqUxnStOa2vSmOM2pTnfK05769KdADapQh0rUohr1qEhNqlKXytSmOvWpUI2qVKdK1arSExvY4BhWt5oxbFQDGLEwRjWyyi7Q7EQaixDCEgmSgSt0ohrmko1cQyINLyRAJgKZSV6NYwi4hkuugJXQRQxxAM0JxAAbcMEGgMS6WIArsJC9SDW0YEsX6GEZ4BgIOJYBhg3AchHegqxobxORaghhJi7QBDhWW5DVgkMPnpXJGbg12tH/TiSHMhmCazNrENcuwwUAEIAAQJut2to2IouYCRh2m5DdDiG4CgAGtoxbW4hUYwK5Za5CdrtYAPxgutQ9bkPOIJMNaHchvp1JLPw6rfBWtyHVeKVqWesQ14IhgtZy73sX0gnJmZe+D1ntMiQ3AGlQS7/7VUjiAqAHAENktUMIAACIKy0Eizch2ECBQEzB24m8ViBXIGu0LCzahWC1gx2miCYEIwSsVpjEkcUwXAFgAI4sQyYvcPGIYRxYDGPDGJJjAEOGEOGE3BgAINAxtHjcYx8PQMIMqbFCTCEYHSj5WUwGrIkzIJBlLARICAGHJmgSBREvOctmZYgEVUuR1YJB58KzbS+alZQQOghGtymu72oZIBPHynnOgk0IMGRiAMzmGb2rXfEx8wto0ipEBjJZroO361rgAkAMjAa0Q2IxEw5P+iC71YMS2ftnNEMkCMHdgKEPTZDdUlkmQrrWnCNiDAqUd9Vhdq0m+Hyf4po6IrEwgEwYMN9D7xYMQASBgX3NY4p04pUAcIGnW53o2CJZuttqdkWAkYHxCWADYNCDJkyhCT0MQdgz+cGyaWthjkhDDHelyY+kt1e+krpb+v2IMbTQ7ZrsFQVnuPe3qIuTWNDBC0XQQRTEgAdsoyvGOtnqlS/GVYUFBAAh+QQFZAABACxmAQIAMwD8AQAI/wADCBxIsKDBgwgP6ktnLZ2+grRa/UtIcaA+W3SIQAggxuA/e34WDITgx97EAB4GnKyY0B4Agh0L/rMCYMIgVH4mBPByMuVKlgoHCUvXCkBMguIAKDg3UJwCAOfgBcgw4JpAcUAptuJosJcAIwT/6RCQzJlBGlkTbj06kJqAHAP//XshgNu7ZhMGNBNITeA5ZhWZGlxrUB8NAb0E/oMlAMhAnwUfsTR0kLBBdlEG0LASYICVd49VFrRa0Vplrgbh5QTwMkDJ0D/TnmYr0B4NAHLS/UtnBoAOewIhEwRdkXhBywRBAYgSQK5cJAC2ohRNUHJFyoNRE/QCAFRzuQEwAf8wIxBF84LK2shRz369+2SzDWoBQOn7xEdGBTpmJ1ur9oGUAECDPs7Z8wIAqAhERwBA1JdYfwJ5IhARAbDARgBtnPROBgAA0Qs1tugAAAhSBfAOFQMIhBaEASBxkAEriXNbAKx1SE5B+vCXDosB8HfQT/9wAwsqtGDF45FIJqnkkkw26eSTUEYp5ZRUVmnllVhmqeWWXHbp5ZdghinmmGSWaeaZaKap5ppstunmm3DGKeecdNZp55145qnnnnz26eefgAYq6KCEFmrooYgmquiijDbq6KOQRirppJRWaumlmGaq6aacdurpp6CGKuqopJZq6qmopqrqqqy26uqrsMb/KuustNZq66245qrrrrz26uuvwAYr7LDEFmvsscgmG6pzzMZWZbPQOvdstNSCF2W12DqbZLbcNsntt0x+C+624naLZLninouuuTyuOy6E7r7bX7zszksvtu3eiy+8+lbLYr/+8gswtP8O3Gy+BktbcMLWLpzwkQxrKxvD5A68pMHh9uutvlDSK+W6Vsp7JbXKlmzyySinrPLKLLfs8sswxyzzzDTXbPPNOOes88489+zzz0AHLfTQRBdt9NFIJ6300kw37fTTUEct9dRUV2311VhnrfXWXCNtDzvXiCMPl/Y00wYKNbIGQRSo+EilPrB4kPbcrA1ghttQXkNX2gIQ/1AAAQMIkPYC9UHZywI1EvAABiQ03ngHESCQthfANYlKjQNEIMIIjnfeOAYFCN5h5Uo2MwBrBHTg+eqOP1DjFUumMwFrCGzO+u0R1IiJktwBsIDqtwffgOAL4A0hN6IzHnzwIxTAWhtIzgdAA5wvHzwGdRvXnz0QsNZB9Z2PgEEEDSh/u+QAwMJjMqwVAH7nHQyAQObL5w4AZywOwtoD7zc+wv8kIEAEltcB1lSAR2JgjQX65zkBWu90AiCdbKADAAwwsHMOXB4BWLMjCAGBNea7XQaD5zwAGKk/NAGABaw3wtshDgDaS4scWDNADdbwdiIQnAF4pBwAIICFN2Qd9rMA8AIenQMAAhjABUkwtwbcrgGs8cOR9rZA1nXgile0nedE8MK+8EgSqBOB9YLnOgC04CE8sofcAMC/Ma6uA6J70JGKosAl4vCFOlCSPlIogCq6sQMlnMCNlCSP2+xPi9d74QCU0aR0GNJ3EVgiBhAgOgXQ4kny4GMSERABC2DAAuQjgOgAkAHTRIkWIKAbEkcJgAG0wXhPsgcnDqNKAFTADIO8Ujpw4oUjUKENj6AGGiEUEAAh+QQFZAABACyDAAIAFgEQAQAI/wADCBxIsKDBgwgTKlzIsKHDhxAjSpxIsaLFiPa4UWP376LHjyBDihxJkqItVBc7+gmwQIAWhIMGCjhCrmPJmzhz6twpEgWAi/oKvjR4JUCGAKCsAMiQjqfTp1Cj6vSZciAslwaFCZjAbqAhAFpsSh1LtqzZgvICePgJ8upQgmIAGCJob8GAd2fz6t2Lk5rBFxfdGjQCoFdBGgBs8V3MuHFEeMwysCWYTtlEwQWPAKAl9t8LuY5Dix49kGpBSQxjGsRMsA0AOf9i/2NnAAAb0rhz6zX9kfVAagAUUIttTwsAAF50K18OlbdH3wL/0QkwAIkXFAJ0AGjDvLv3ks4Fwv+jCD1AbFo6FBgAIoz7o+/w41sMHwD1QtUFy8suCERAMvkABthQCwAERVAzDAlzkH6xEXSOABXYI+CEFBJkRABN9YZVQbLZZA9hlIhV4YjyreQRKAJdiIIZAdwWHRJywCIMJQQioY+IJObYHTxWGCAQYBNFcZAABBEx2QB02IOjjkwut2RJ3NCCijDvPNnklVhmqeWWXHbp5ZdghinmmGSWaeaZaKap5ppstunmm3DGKeecdNZp55145qnnnnz26eefgAYq6KCEFmrooYgmquiijDbq6KOQRirppJRWaumlmGaq6aacdurpp6CGKuqopJZq6qmopqrqqqy26uqrsMb/KuustNZq66245qrrrrz26uuvwAYr7LDEFmvsscgmq+yyzDbr7LPQRivttNRWa+212Gar7bbcduvtt+CGK+645JZr7rnopqvuuuy26+678MYr77z01mvvvfjmq+++/Pbr778AByzwwAQXbPDBCCes8MIMN+zwwxBHLPHEFFds8cUYZ6zxxhx37PHHIIcs8sgkl2zyySinrPLKLLfs8sswxyzzzDTXbPPNOOes88489+zzz0AHLfTQRBdt9NFIJ6300kw37fTTUEct9dRUV2311VhnrfXWXHft9ddghy322GSXbfbZaKet9tpsO9lhh+de0wsog0gCSzPjjfT23vuF/0sNG2sdJzgABkSBioQf8a14g92Kc8XgkA/uASoGUrT45YxnK4kAg5dQhR2I7BFGD5AD0dVEmKeOrT1eCC7AGs/wI/vs/LjzSQmCg8CNRKn3bq0+Sh23RDi0Fy/7PIgMcBwE5EDUu+/VDiI4GvnkY/z1z0BwXAt5N/Q89NIywzkAe1xvvuzbMHDcWwt9/7y0+iAGQBXWn2/+LcoLYI337qseLS3HUYA77Ge/MBznQu3rn/+gBYTjIMJ+86jf9dBRGwCII4EKxBy02KG8AQzwereAwAAGsIUIXs+AALBPQjK4wGbBQnjm2wYAbpEPdKwgDvc7jg4wyELFQYsOx/mEBP9pdwsGzG4PPTDfPI6zAB72cG/Qat0MzUfBZ+RjHj0on/kUcJzuGeSJl4MWYQAQO/M9QwElMMAahli8FXDugggB4+KgpRkyUrEEdnjGLUrwifOt4DjnUIgc+RZFzt3CfEis3ycgwMbZqQ8AaVnhIN8GLT840Hx2SKLsitjI2i3PiZOEli2Oo0njPQMAn3BHNlZQhRwCAIGSnGTfnAWP/H3QeLdYARrRYELjVeE4ngClHKWFhOPYgYD2C8f4AinMJ0pLGMcxADqQab4kcE5IDJFl5uhIynlQs3i3OM4A4JjNUE7LGsoDQBg6eb5njI87DjEntUAhuCR4k5q3qGAOEBdvTzBiiw2CW0EZz+eONQjOA6dznjOvpQ9LCm4Jt7jn7PKRjT1w8Tg0YCbvMsgtWizgOAIQgAF6UIU4hGEJH4DcFSJZkf55ix1sSGfkBkcDZ4QEfN86xyNyMNMMmEFBJSHkudhBjV6gAhbOEEflJBIQACH5BAVkAAEALIMAAgD5AfwBAAj/AAMIHEiwoMGDCBMqXMiwocOHECNKnEixosWB+tJR42Yv4b9zAUBeHEmypMmTKFOqXMmypcuXMBPSgnXRmZcJAHIqaAOv4D9nLwQCoHEtptGjSJMqXcq0qVOWGRRcjBKARRtDYiAM7TiQmoIBbVCZCQBB3NOzaNOqXcu2LdOoFyUl+0f3X7oMAFAN/EcDAE2BlAIgcUu4sOHDiBMn7TlBasm6jwBoGVi0RcEMAtIp3sy5s+fPiJMZzHGxbisAVwZKCiCnoJcArUDLnk27tm2S75pBcBzAmkCREutaARBYoJgAngoaCuDntvPn0KPPhquc4aODdHsJmPBuIFVaBP8l/z8uvbz58+jf8h7oe2FRgx9xCiNoJICwfwLp0rSSvr///wBWRB1J6aAAACYFIQEALXXRBUoArwUo4YQUAjjgQN1JxI6B17kGACgN/rNcaxWWaOKJtV0o0HILdTgQOy0AYAh+ygHQHEFmfIjijjz2WJgHBtA4kDBytFHkkUYmyQxB77wAAB10GeQMADqEZyA3Pmap5ZZJVcmORe/I8GRdBtkDAgDO5KcdDVy26eabJrURABEIUqQgBAGYoadALgZgy3atUAPKAgOkCeehiCaq0DtRDCAQaRL1dVCVe6HiGAAQ2KLoppxuqo9AX2oIHEGh7gVPL6gII0+nrLbq6quwxv8q66y01mrrrbjmquuuvPbq66/ABivssMQWa+yxyCar7LLMNuvss9BGK+201FZr7bXYZqvtttx26+234IYr7rjklmvuueimq+667Lbr7rvwxivvvPTWa++9+Oar77789uvvvwAHLPDABBds8MEIJ6zwwgw37PDDEEcs8cQUV2zxxRhnrPHGHHfs8ccghyzyyCSXbPLJKKes8sost+zyyzDHLPPMNNds880456zzzjz37PPPQAct9NBEF2300UgnrfTSTDft9NNQRy311FRXbfXVWGet9dZcd+3112CHLfbYZJdt9tlop6322my37fbbcMct99x012333XjnrffefPf/7fffgAcu+OCEF2744YgnrvjijDfu+OOQRy755JRXbvnlmGeu+eacd+7556CHLvropJdu+umop6766qy37vrrsMcu++y012777bjnrvvuvPfu++/ABy/88MQXb/zxyCev/PLMN+/889BHL/301Fdv/fXYZ6/99tx37/334Icv/vjkl2/++einr/767Lfv/vvwxy///PTXb//9+Oev//789+///wAMoAAHSMACGvCACEygAhfIwAY68IEQjKAEJ0jBClrwghjMoAY3yMEOerBv9nAGLSQxCE/Ywhqf+uBA7EELKiggJzDMSQXE0AwVCoMFMcxhDIFADQ7CQ0ExdMEQ/8CgBzAMYQMxFMAgUnhBcjgpJwzQwzLAQcUqgmMZYIhhFFZlQXbgJSdgsKIYq7iMIcDwCFyZoD10kBMDaGKMcKSiHmBIngm2IScCMEUc9zjHnPRiguQYQE7euMc9DkGQKEjjA4cDgCEU8pEMyElyIMgOQQJgio/kowAAEBQInqaRcRwCAxiwgVHqIY6RBAA5IBiFnJwSjstYhimWoQcBYHKMQ9hkcRxooEtmEgwu2KMmclLHBr4QAJkERxT3aIpNDsaB74BiJjUxgEIuIyedbCA8pPnIIThyj9cEgAwguICcPPKaemTmJqnywF7eEo562MAj9SDIYjLwCq4s5AZeaf/ITT7ogbTISTDjuAwXvBOOgswMBOFhyXQmc4x9hBQExQAAAQz0oVZcRir/QskXCoCfGAVHLsXJRAgOYpMAICRGs1jRJU1QH63M50MPmRMWUfAdMcrJEA46RlO4wAA5mcwF2QEEPDIADA61oiaGYACUskGRFbRHjmAogA24AAxGdEEqdfLPDVKjqDqsKFW9oJkPOqMNHggrDQZhFhUShBwiBEUvqFEqt9r1rnjNq173yte++vWvgA2sYAdL2MIa9rCITaxiF8vYxjr2sZCNrGQnS9nKWvaymM2sZjfL2c569rOgDa1oR0va0pr2tKhNrWpXy9rWuva1sI2tbGdL29r/2va2uM2tbnfL29769rfADa5wh0vc4hr3uMhNrnKXy9zmOve50I2udKdL3epa97rYza52t8vd7nr3u+ANr3jHS97ymve86E2vetfL3va6973wja9850vf+tr3vvjNr373y9/++ve/AA6wgAdM4AIb+MAITrCCF8zgBjv4wRCOsIQnTOEKW/jCGM6whjfM4Q57+MMgDrGIR0ziEpt4dNhIcYo7FiKPtUMb2mjHSFRM4xpjo2IhynGUKqaNTeBgAAIIMgAMgANCaEMiNk4yjSOm4ybvGGLayEFYc4iDaDxEyVhescOczOWHxeMLOlxAAQpQzhx+QcYKybKab8wwLrtZ/0gJKwcO8dgAC4iABHgmgQgs0ACUAsAE5UjImte8sDe/WWHlgABKG9CBEeT50XjuQANgCIEjH2TQhEaYoQ+NsHiYICcDsICjIU1qEmAAyADwAJoJgulBH2zThkYYEUCNgVLbmgQdQHUO8MHqVme6YLCOdcF4gcda35rUjsYASmvRa1//OmDBFvbA8NHLB4z62KV+QE5McA+BONvVBIu2tANGbAAM4M7YtrUICJCTV3j728/+l7jHDTAwA+ABtu5ABBoQgVuPIAI5qU8A4B1vf82b0wG7h1YA0AFbE2DMCLg2qTuwSQbEY+AEz/LADu7mgWkjJwTwNwkeUABsFyAnVv/OuMYFxvGOB4wYOUEAth8Q8WNPGgC1UPnKod1yJwvMFTlpwMxL7u8+A2ATOsfyxnveZIFtIifWPjbNJU7qB2ySEBhPeo2XzvQcC6wWm2wA1SFNcmzf3BVZ17qKud51MgksGjEf+6OnfmwEbJIYaVc7m3nedrcHrB2gRrety+7vMgda70tmed/9HrAnWsDWCLAkABZgawxs+92IB/bi4QwwQsRc3R0IfehtffM5DATxe1f84glWDpQaO92kVnZFLZ33pGu+7wb7giALIHjY43kEBdjkFwqi91e3/WDtaCoAZO77PN98AIFuts41ffyD1aKiAmhA7489gpsDwBW8Jr587anfc4V5PuYNx3YHEADDOYTfINNXWPkVho85UJXR+bY6DL/QbUETvGEc5zCugFJBVgAPYAEWgAEWQHJ+JgCb0BDwBjHiBmWzNmU5lAPa8H4M0WoTA2sUQwxGsFU5ZABEgHcUoXQY02UXEw+8QAhfYARE8AWEwAsXpxABAQAh+QQFZAABACyBAAIA+wH+AQAI/wADCBxIsKDBgwgTKlzIsKHDhxAjSpxIsaLFgv/eWbMGT+G/jxdDihxJsqTJkyhTqlzJsqVLhs5QsbN4zg+IgQKQiCvIjdIVFALf/XtJtKjRo0iTKl3KlKUXANQsegowwUsAOUAh7BzYBgAAAwIACB3atKzZs2jTql279GnUisJQ2RtoD0kAKwR7obpmD4JYkGwDCx5MuLBhpEOjAIAl8Jo+kdaoDvxI1u9Ysocza97MuXPhxwXFikwXAMJkwJYpe17NurXr1ySHHgEwNUCzuR0XXlOIKoBdgapL/wUMu7jx48hZuy34VqGRhOkmAHB2uvJwzMmza9/OXelygjMXCv9DaA/IVYLBUxPvzr69+/cUv4e0F0UAFX2gA6S/Dr+////+ySfQXAuFR5A+VPhGYHUCqYcdgBBGKGFrAgbQXELPHahFAEcsyKBwl00o4ogkEiYGVAWd04YcK7bI4ou1CaSPFwIAIc9B+4VY4o489ojUIAHQYtE/ZgQARG4GUTaUej426eSTJo0HwiMByCURJgEAsCFBZiwojhlgDgCAGGBSB+WZaKa50D9+mJblOxL5gRAASCbj1UBeAQCKmnz2yWdGAZyT30NwHiQoXeckqmiiSPrp6KOQRirppJRWaumlmGaq6aacdurpp6CGKuqopJZq6qmopqrqqqy26uqrsMb/KuustNZq66245qrrrrz26uuvwAYr7LDEFmvsscgmq+yyzDbr7LPQRivttNRWa+212Gar7bbcduvtt+CGK+645JZr7rnopqvuuuy26+678MYr77z01mvvvfjmq+++/Pbr778AByzwwAQXbPDBCCes8MIMN+zwwxBHLPHEFFds8cUYZ6zxxhx37PHHIIcs8sgkl2zyySinrPLKLLfs8sswxyzzzDTXbPPNOOes88489+zzz0AHLfTQRBdt9NFIJ6300kw37fTTUEct9dRUV2311VhnrfXWXHft9ddghy322GSXbfbZaKet9tpst+3223DHLffcdNdt991456333nz3/+3334AHLvjghBdu+OGIJ6744ow37vjjkEcu+eSUV2755ZhnrvnmnHfu+eeghy766KSXbvrpqKeu+uqst+7667DHLvvstNdu++2456777rz37vvvwAcv/PDEF2/88cgnr/zyzDfv/PPQRy/99NRXb/312Gev/fbcd+/99+CHL/745Jdv/vnop6/++uy37/778Mcv//z012///fjnr//+/Pfv//8ADKAAB0jAAhrwgAhMoAIXyMAGOvCBEIygBCdIwQpa8IIYzKAGN8jBDnrwgyAMoQhHSMISmvCEKEyhClfIwha68IUwjKEMZ0jDGtrwhjjMoQ53yMMe+vCHQAyiEP+HSMQiGvGISEyiEpfIxCY68YlQjKIUp0jFKlrxiljMoha3yMUuevGLYAyjGMdIxjKa8YxoTKMa18jGNrrxjXCMoxznSMc62vGOeMyjHvfIxz768Y+ADKQgB0nIQhrykIhMpCIXychGOvKRkIykJCdJyUpa8pKYzKQmN8nJTnryk6AMpShHScpSmvKUqEylKlfJyla68pWwjKUsZ0nLWtrylrjMpS53ycte+vKXwAymMIdJzGIa85jITKYyx1aNWEDQGCgQgBCq0UBjgCBPQaBmv+zBjmuI40b/8oc4/VESa+bJK9nMlz2a0QYUnBMAEIiCTPA1znra8yLmBMAAkBD/FgCks176gIUH3knQAZjBQPGyp0LvOZF8DiAQv8CCmADwA23K6xov6KdXBECAAhBgABoFwAIokdCFmrSeEXEoRH8R0YlWVF69WECeCPAADJDgpjftQAQQcE4veEhdJw3qOB+iUpYaVaJeeem7UJGnAURABCPAqVRvioEC9BMIPz2XULdKToYU1ahHdalF19WMiRKgA1NNK04fkKcrrIurXF3IV8Ea1qSOFV3R8QoCoKrWvkYgT1hKF1zjipC50rWuFL2ruZ4iUrT29bENCMsCEEquwRLWIIY9LGKVei5u9NOmj33sCArglTZo1bKXHUhmNbtZxYpLC15pQFRD+1gM/3hlAIWqLGq3WpDMjoINSLCBFHaxC7oiNbHm6otXOjBbqY4AAxFoAGj7ytPFmGu3vFXtNfW5UrAqwQZwgEMLJFBc44q1XHYCQAGaK9UODAABTg3tXwGAF91iV6gCWe0viMtSWTxUs8flbLgG4ZUHsPemI0gwCQgQgdB2wCsVKNd9eatfuu7ivwA+r7hOBAALHHiqDKatmASQVW9NGL/u5C5rjSsBWaz4uAkSFxK8goEPSzXEoSWAV0gzrhMHVRr9fEF5V/wLRShAEUSWhUwB8IJxAYHGtMXxY0kLgK2Iy8cnDcAZABAWHgxZs4owQB6SLIHbdmJcVvCKBaLc4NAuOf+34cKySQWyZQEIwMusjYQC4EDm22aCXHLwSpsfK2W1iiAsBpCwnBU6kC17Bc901TOfVyyLDIRlAH8mFyj0yubQ2pbJil40ShudJ0gb9QchdcOXZVFmfWaaXOfg8gBsTIJ3NqCvDfCKnEItaoM4GgCm/oUsRkFsYrvYqLIYqKvRldEO27gD0IY2X6cqgiVf6MqiFudBfh1sSrca0+mShFcIIALaPpatAGjBoLCdbYRw+8uarbSf1WUPZRvY3GntQD97ga52J+Td3p73ulqRJw/jG6fV9ooOBNtrhQD8sMkW+Lr0kWYuGxzfHaDyBMgB1EUz5OHI/var2SUPGuTpAdOPru2SB6AMdsnZISCX97LhlQ6Te2UBEaA1BhDQTwUIyeU+hgjAWS1xeMmj4nZ+bwQsgAELRJcAGs1AZN5134lwexQSuPTI5UWL7b7TzuccQBso2y7sUuTXEx3Ame9lD07QIKTnrIAZOF4vuIbk1/pcu77SgQo/eOEIVGjDI6ix7rpneSSOVvsDDfEDvfMvIAAAIfkEBWQAAQAsgQACAPwB/gEACP8AAwgcSLCgwYMIEypcyLChw4cQI0qcSLGixYPXArxLaE8ctXQXQ4ocSbKkyZMoU6pcybKly4bUWoGsyG4Qi4EAiGQcKE+SDgEABL4Q9rKo0aNIkypdyrRpSzoBiFakFQCClkF+XgRQYG2gOAAGovgZRASAAFhO06pdy7at27dOoUql6MwTvIH6tAQgMjDdIHb/Av97BGCCPbiIEytezLjxUm5eAmAaeDjkuQAC9B0UPAHATsegQ4seTbrxvwkGyYk8LKByQcEtAHQtTbu27du4SzqzEsBQQdcJqSnsJYAGwsDnBCgAnru58+fQacstKI6hVoTvPASwdVxfWT/Rw4v/H09e7XSCGxdyP6gvSgC9x/0UZ16+vv37+CmeD6kvMhB5/yDkSQAgzJTfgQgmmOB+Dxk40D9iCKCDPAmBAoAHlymo4YYcQsdgANUtdN2DbQSQw10ItQJABucE2OGLMMboGHi9FMSOHG3gqGOOPD5C0D9+AEBDegfBIkAF4gQm45JMNunUgANaJN8L7CRE3ATXCObkllx2mZJwGfgWAIoQURUAFQZVGQA3AwAABBtmxCnQZ17WaeedCz2CmkCqRURJQhk6E9RB6+Fp6KGGokgfQ2QaVJk9GRpEIaKUVmrppZhmqummnHbq6aeghirqqKSWauqpqKaq6qqsturqq7DG/yrrrLTWauutuOaq66689urrr8AGK+ywxBZr7LHIJqvsssw26+yz0EYr7bTUVmvttdhmq+223Hbr7bfghivuuOSWa+656Kar7rrstuvuu/DGK++89NZr77345qvvvvz26++/AAcs8MAEF2zwwQgnrPDCDDfs8MMQRyzxxBRXbPHFGGes8cYcd+zxxyCHLPLIJJds8skop6zyyiy37PLLMMcs88w012zzzTjnrPPOPPfs889ABy300EQXbfTRSCet9NJMN+3001BHLfXUVFdt9dVYZ6311lx37fXXYIct9thkl2322WinrfbabLft9ttwxy333HTXbffdeOet99589//t99+ABy744IQXbvjhiCeu+OKMN+7445BHLvnklFdu+eWYZ6755px37vnnoIcu+uikl2766ainrvrqrLfu+uuwxy777LTXbvvtuOeu++689+7778AHL/zwxBdv/PHIJ6/88sw37/zz0Ecv/fTUV2/99dhnr/323Hfv/ffghy/++OSXb/756Kev/vrst+/++/DHL//89Ndv//3456///vz37///AAygAAdIwAIa8IAI3JhgFugigKmDGK4gBCFcQQx1jIyBGNTSvtpBCBwA4IMCAMoHX0AIC3YsgyjUoL3isQkFiPCDMIyhAcbQDgWm8Ib2ikZnYGiAJaABEYhAQxL/GBDDCUQDHxe7oRKVNK9XGACGPbjFPPhBxSrO4xZLgOEANmGxJXpRXrWAIQRuUcUymvEWKzCLAFyBxIl58Yvv0sYTAbACd5jxjlV0RxYBMIAjSuyNcGxXPD7wwR7MIx94TOQ8evDBCcQjYoB8o7sIARQIoCORmOSHOwgJAEK00WGRDKS62gGBD5Ixk5i8RZsMYEJQhnKJ7NrEB02QyUMiMpGM7OTDXilKdOUghLe4pRm30YMQ9uAZibxFCHGwS14qcV3xaJMA7IjHFYRhHvMIQwmEWcZ5PFEANWyYM5+prmgApQeKBMAzEJkNAFDzjnskhivHmUJ18eKDVcBkD9CQ/4987GEFmAyDWV4xT3pmUF2bAIodMOmOHkBAAyZ45x33ABRCFNSgDEQoUOKQyHxU4ZjPWMISuFnGPZhlE59UGEZRqC5i4DOR2RAAOvrpDgEgE48CBUAtLrrSBqLLnADoAUmp+IxpUnEeNh0qP3LpR4b1NKPqiscc3THUeZSgCuhARxggINE8fjOcTn2qCtNVFgB8IpHeSMJDl7ANpd7igzmAmFiZqC5XfHAFU8ykUvmRj1xysZlPFeQOz4rKZH4QAmDlKT3dlVAAMMAbhb1jOEoJAJRCsqfvugcKPviBrqLSHSsAigke+ceVwqsclC1BWyOLjtCCRRsVw6i8iNEmx/9+Iq8d/QRlBcCLLi52XsSgLB0/cUkzuuMTafygAuSJMWfaqxybjeEKqhAGNFTBtTA0AWw1Fsp84WMTnIyheAEAgU3cw2O9xFc8XmEEIorXAERwBWlDxtKAxUMbEKSgNuabwP76978ADrCAB0zgAhv4wAhOsIIXzOAGO/jBEI6whCdM4Qpb+MIYzrCGN8zhDnv4wyAOsYhHTOISm/jEKE6xilfM4ha7+MUwjrGMZ0zjGtv4xjjOsY53zOMe+/jHQA6ykIdM5CIb+chITrKSl8zkJjv5yVCOspSnTOUqW/nKWM6ylrfM5S57+ctgDrOYx0zmMpv5zGhOs5rXzOY2u/n/zXCOs5znTOc62/nOeM6znvfM5z77+c+ADrSgB03oQhv60IhOtKIXzehGO/rRkI60pCdN6Upb+tKYzrSmN83pTnv606AOtahHTepSm/rUqE61qlfNal9hAxsKfrWsD4yNagAjFsaoBqwHBlWCtUMb2kjsRaSxCCFAoCAZuEInqtGv9OJLG5vAwQBCCBQD4IAQ252INLyQgA8KBIbfLowhmI2v7uZLGzkY73hxEA2JGOIAIhSIAiTwAgng5IMgiMW9eHmveHxhvAsoQAEWMN4vCDsh1dDCC18Ah1H8YiC/iAQWJCDCASyiXr+VVzlYAEMBNMACIiCByEkgAgs04IUm/ygHQ6ohBBiiIBC/iHlBYr4LOBD8g2eYl2zjhVoRNqADIxi50EXegQaIMdsI8YIIlbCLmD/cIDSXxQvUeHF4mRZe8TDBBwdggaAP/eskwMC0L3TwgSwChlJw+tMP4vRd2CCECgDGuwL7rrIOAANgzzsJOjD2HKR0INXYIRLUvpC2R/cHc6c7u+5pFrzr/etBx4AId2qQM3xQAk2XOUOcPgoRxoLc6ppru/AR3Qd4/fFgf8Asz0uQatw8D05/iNOb8EEdtGuuPkUX4wcQctTnXQQE+CBBCdIJoIAg9hCJuSyAMgBprAv3uT/XvwHwgLx3IAINiIDeRxCBDxqhIFcwC/8WNB+RmNsgAACoerqgv657ULYDeSeAwBFw+q93ACgMmC82UICZSKxdIr/gBgIQAFewa+jCfuqiDR9EANtHAg9QAKhXAB/UbgHwaguAfruwCxYRCEEhBK+2fgiILi4FAAiAeg9Af49ndDolELWGfgoQEpEAFC/wgQcYgudiVwDQACYIgdt3cpVVgdhgDECxJxYxCvhGg+cCfdFHLrJEffX3dSf4hEP3ABXFgtgwAJgREoowgDqAhOaihOpSC0DRAFIodA+IeiroCgOBDRnwQbLwf+WXBwIRBQaYhLi3LtHwQSiod1H4eAgAFMwlELYXALAHhw4Rc02AfjkXenc4Slv/13t5d4bbd3MqNxB0MICDR36HGHMV8EH6xoiity5TBwAWkHcIUFsAsAB5hwGzVBDAoFyykHmyF3McWBi3F4rqQgh6+Hsd0Iu9mHcqOAcGIQMfpASEt3k0F11icItixS7lIEKO53tfJ3lmgXQCEQtbpwjHmBBqJ4DkBXqgiFnt8gVtUgCQKI0iNwIFABRfgBBB0EgOh3xs53SBIEJQ4S6Kxy7tYABAUYLoOHIqOACVaBDGQAEf5AHxqIkQR483N4j4KI7uEkYh1ADn+HgjoIIAwEYJEQtztAB/sI0C0XZYUFsg4HxWt3Pwoot6CH+o1wEIAENz8HcG0Qk3JyTaSH40rpcHFIdvcicvBjUv+DAHHfdz1keFMPQFrLcQwNCG3lYBTeAGgaAIeeAGSFCTAPADJqlzzlUvriBCIVQAD2ABFoABFvCALyQAf+UQ0iAG3RYUIQRuLzQB41Zu5mYv2lBW6iZeOaANMskQxqAFbYgT4YYCZwCO+yZJ+0IM7ZWX8BWIFRELdOAFRaADUSAGeNCT/4JD/xIPvEAIX2AERPAFhMAL/BUSsuaFBTZrBRQQAAAh+QQFZAABACyDAAIA+gH8AQAI/wADCBxIsKDBgwgTKlzIsKHDhxAjSpxIsaJFguyocZOXkN01a+8uihxJsqTJkyhTqlzJsqXLlwuFobJnkRubDAMHaGFH8J+VCQAGgmgFs6jRo0iTKl3KtClLIAF4VqQTwIMYQzcDgHinT+C/BS/EDPKDRAAASU7Tql3Ltq3bt0yhSqXYylZXgfBkBKDqld0/grQCLIBLuLDhw4gTJ7V3jUaAZAK5/RVpK0COyQrFKd7MubPnz4nPBSUIAbNFZwJomC6oT4EAeKBjy55NuzZJe81eBKgcwNnfuQk1JxwEwExCeGwAiFltu7nz59A9yy0YeKGYhNYMGBBO0EuOFwsmDP+iGb28+fPom04nSI6hM4TvUATAdPDIBAMAILCBnb6///8AWrSeSPDkAEAbzA30jzhWAKDDXQFGKOGEAA6IF0PA4aVDAMsl9M+H+tAAgDAUlmjiibZZGEB1Cl1HkDxEBOAFhAZ9+GEAfgBgCIo89uijYUYEkE5B1rQhh5FIHqkkiwHYc0QAVtBYkI2TeSEAWj9mqeWWSHkRADUW2RMFAFaQZ9A79tgo0DkQAAAml3DGKSdJngQgA1qwJLiQHAEM4OJAdEyGSgZ0oNJLK2woAIAXes7p6KOQDmSPGAoIVJpEWiB0aQDCTFAQBOM1GumopHLJUzqiIpThQKh6pc81vaD/Aoszad5Y6q245qrrrrz26uuvwAYr7LDEFmvsscgmq+yyzDbr7LPQRivttNRWa+212Gar7bbcduvtt+CGK+645JZr7rnopqvuuuy26+678MYr77z01mvvvfjmq+++/Pbr778AByzwwAQXbPDBCCes8MIMN+zwwxBHLPHEFFds8cUYZ6zxxhx37PHHIIcs8sgkl2zyySinrPLKLLfs8sswxyzzzDTXbPPNOOes88489+zzz0AHLfTQRBdt9NFIJ6300kw37fTTUEct9dRUV2311VhnrfXWXHft9ddghy322GSXbfbZaKet9tpst+3223DHLffcdNdt991456333nz3/+3334AHLvjghBdu+OGIJ6744ow37vjjkEcu+eSUV2755ZhnrvnmnHfu+eeghy766KSXbvrpqKeu+uqst+7667DHLvvstNdu++2456777rz37vvvwAcv/PDEF2/88cgnr/zyzDfv/PPQRy/99NRXb/312Gev/fbcd+/99+CHL/745Jdv/vnop6/++uy37/778Mcv//z012///fjnr//+/Pfv//8ADKAAB0jAAhrwgAhMoAIXyMAGOvCBEIygBCdIwQpa8IIYzKAGN8jBDnrwgyAMoQhHSMISmvCEKEyhCtEGK1AMQhKwaAZ/RuaPGtqwhkSjBhs8AIAe+hAABojCTP8+dsMiFvFn4rjCD5f4Qw+gQkoWM6IUj7gzSZjFhyWogh0QsYcw9GCJQFjVxKZIxhvizB5e8KEA1vAMfrjxjfxwxydK4EMQcONiZcyjP26mjwb1cAnhgKMg3TgPRAyghxBoD8X0yMiaEaeHaMhHPgZJyWe0CQAtmCHEGMnJmTHjinugpCjduA0G9DBTEeNkJ2MWoh5WYZKjFOUtDikAa6RSlY2EGS16qAB3xDKWYehhkB6Gy1W+DAg9REQs5wFLSqIDPwDgDsOKmUuXseOQA/AlJW8BgQEMYAvMpGQwz0JMauYRZrD4oyi3AYBb5AMdK4iDLHu4oYaZs5oso0MPP9H/TDjeggFv3EMPRDmPHg7Gnvc8p8vS2E5RPvMZ+ZhHD0IpSkUBQJMJS6hCW2aEHrZRlM9QQAkMsIZ+CnIFZpFmRjVKxpcdwaMOLYEdnnGLEnxilCvo4TkQytIpLtQstxClQGH5CQiY9I2mBABHptlTKb4sRwBQJiXtMFA3/vOocUSkw5rq05bZoodVHeQzAPAJd2RjBVWYJwCGyVSumtFl8KClNgd5ixWIFA3hHGQVelinrboVhzBDQg/t8MtYhuOKO/XrX2MmjB4aAB2FFWUSzBKFTf51jzF7KQB6MI/ICvIWPRyAStvKVZlZ45AACANWR/mMK7ZBYoudGSh8mITO/0b2FtDMgZks21ObJaeHK/joKN2xBh96QIyKTSgfofrHW9j2jfnIxh4sCgAaJLZiGtUZLRbQQwEIwAA9qEIcwrCEDyzxCkvFozl5xg42oJaJP6TBezZGzZ+d4xEGYmIGzEAiIuITaBmJ1azEAUX/GnGFCE6wghfM4AY7+MEQjrCEJ0zhClv4whjOsIY3zOEOe/jDIA6xiEdM4hKb+MQoTrGKV8ziFrv4xTCOsYxnTOMa2/jGOM6xjnfM4x77+MdADrKQh0zkIhv5yEhOspKXzOQmO/nJUI6ylKdM5Spb+cpYzrKWt8zlLnv5y2AOs5jHTOYym/nMaE6zmtfM5ja7+f/NcI6znOdM5zrb+c54zrOe98znPvv5z4AOtKAHTehCG/rQiE60ohfN6EY7+tGQjrSkJ03pSlv60pjOtKY3zelOe/rToA61qEdN6lKb+tSoTrWqV83qVrv61bCOtaxnTeta2/rWuL4aNna9a5TZwyPiSO/QeE3sYmMDZLhpAwqWCAEhIhdnxo42sTmmD1jwEL4+HIAZnk0zaXu71xm7xguuGNoKtAAF3P3hAiihs2+7+9gX60W6AVABKUTiF/jGtyzgYIMfemG3M3v3uy2GCh8uwA27yLfCE/4LRbzAh0AAeMwEPvCJNQO1IBgFwxXO8V/sQgpXvELNKC5wiaUDKNX/lUXHV55vN1yRPjIjeckjxtAKqJzlOHeCQbmNMplT/GHcuOK9cY7zXbTALK+Fmc9n7jAt9BAJRI+6IkIbkpctnekLs8clNd5xWeRBCTZowtBXTgOzwELpV3e3w5LRQxSwPBAgwMLXBaAIlrucTGhPu7cd9kgpsHzjv7CBElg+CrNUIO96j7bDxNDDPEQd30hQAuAVjh8BSLznid97wwQLgLpHPRID8PzKrz2klmVe8wxDZuejLgsJOIHoy46m1U9vbIf58Q9ElwUKJE90CJil6qanfbEdJocewmHy+ZbFC5CA/IU7FvHChzfDZgsAqK9cFjSwQfMVPnUA6Gb20Qc35cNEAwAFNB8O3vWu91nehB76Afq0h9jDAQCHle9iFPjH/805LguUvwn8wgcxktBDFbB9j4cFZtECBaYy4Sd9DWMP1+Z3j9dxo4BavRBwARgxreBDjjeByZcB9NRt8ScxfeRYHTiBo3B0ADABioSBmUcx8iAiPSQFBphviuB7ADAAynAzL1gx6SCD9HZ8zRcJNnBFCsAkI5d2GCMPfhRaP+AGeaAIgQAHTVAB5JYBttRuS7cxtAAC3ZV+8DUAbcBzLlhxHGMPnFB22FYBZtCCQIN6IZMOqOAHXnAEVNAGj0ANCxgzAQEAIfkEBWQAAQAsgQACAPwB/gEACP8AAwgcSLCgwYMIEypcyLChw4cQI0qcSLGixYL6zgUQZy/hv4//LoocSbKkyZMoU6pcybKly5cM9aHqFbKisCsKBkIY1JEgyH/OBADwArOo0aNIkypdyrRpS3sCWNSkSCMADTkBvBgIgOTjQJD2UAwYOtWp2bNo06pdy1YpVKkWB1Gbyg1CAGE+BdIZ0IZs2baAAwseTLiw0XfWAIC4JlDjSDYB/BikNmBQK7+GM2vezLlz5lYGqZA0BIBOQXsvWthDhdmz69ewY8suyS4ZAA/NBHITKI4hO4VAAtgqOAiAswCsvfydzby58+ee3/4VI2AhrISgAKDoqXsAm4/Jl0P/H0++vPmk0gseX9j7oDUDBqgR1EcjAzzwZM/r38+/v8j0I3EzwQDDEUQaXgKFJ55/DDbo4HkADvTbQvAYJE4GAVxHUDoDEHHOh+c8AgAV50z44IkopihbhAJRZ11B52QgACp/USMUADjmCEAAOqjo449ADqbPACj8VaBC1mwIQgCULHeOGVBGSQQALLDxSJBYZqnlUh4swN1E6aAQgCQLejWQglumqeaaJ4kWhScBKDPRCwJkYEZBqHz10z/hsennn4A6lA4RAwgkmkQYHnRoAHvymV+gkEYaqT7pBGAiRJUedOme8JQo6aeghirqqKSWauqpqKaq6qqsturqq7DG/yrrrLTWauutuOaq66689urrr8AGK+ywxBZr7LHIJqvsssw26+yz0EYr7bTUVmvttdhmq+223Hbr7bfghivuuOSWa+656Kar7rrstuvuu/DGK++89NZr77345qvvvvz26++/AAcs8MAEF2zwwQgnrPDCDDfs8MMQRyzxxBRXbPHFGGes8cYcd+zxxyCHLPLIJJds8skop6zyyiy37PLLMMcs88w012zzzTjnrPPOPPfs889ABy300EQXbfTRSCet9NJMN+3001BHLfXUVFdt9dVYZ6311lx37fXXYIct9thkl2322WinrfbabLft9ttwxy333HTXbffdeOet99589//t99+ABy744IQXbvjhiCeu+OKMN+7445BHLvnklFdu+eWYZ6755px37vnnoIcu+uikl2766ainrvrqrLfu+uuwxy777LTXbvvtuOeu++689+7778AHL/zwxBdv/PHIJ6/88sw37/zz0Ecv/fTUV2/99dhnr/323Hfv/ffghy/++OSXb/756Kev/vrst+/++/DHL//89Ndv//3456///vz37///AAygAAdIwAIa8IAITKACF8jABjrwgRCMoAQnmLJGmWlh6iCGKwhBCFcQQx0us6AFD9YOQuAgRwK4EQBeQAgQokyEMFzQvuKxCQWoUEc6MsAY2mGyGMYwYNGYQA7/l4AGRCACDUlggI4mEA18iMyHUPzXKwyQox7cYh78yKIW53GLJeRoAJsIGRTH2K9a5AgCt9CiGtd4ixUAIIWucKLHxkhGfWmDigBYgTvWyEctusOLABhAEztGxzriKx4fwFEP5pGPPjpyHj3A0QTiwbFC0jFfhBAKBNDhyE7ywx2JBAAh5JgxSxqyXu2AAI7S6MlO3mIsBnBhKU0ZRXttAkcm8CQjG+nISIpSY7Q85bxykMJb8HKN2+hBCnvwDEfeIoU4AGYwfWiveIxFAHvs4wrCMI95hKEEx1TjPKgoAB5ibJrUrFc0hNKDRwLgGY3MBgCyyUdAEmOW6IRhvXiB/6MqdLIHaMhHPvawgk6G4Y2vwGc+R0ivTQjFDp10Rw8goAET0JOPexAKIRS60D3Vy6EAiIMj81EFZj5jCUsIpxr38MZNkLJiHRVhvYjRT0dmQwDoEKg7BNDMPh4UALXgaExl2K51AqAHKs3iM7CZxXnwNKn88OUgLzZUj9YrHnh0R1LnUYIqoAMdYYDARf1ITnNStaogudeUAPAJR3ojCRRdwjagegsc5WBjaL0gvVyBoxVg0ZNQ5Uc+fBlGaVb1kEJkaytdiSMImFWo+cwXSBngjcXyMRyqBIBLKzlUfd0DBTj6wFhb6Y4VCMUElCRkTPdVjsyWYK6WRYdpAWAAbf+ArKP9IsZYAMCAT/x1pJ/IrAB4IcbI+osYmc3jJzi5Rnd8wo04UsA9RzbNgJUDtDpaQRXCgIYqzDZHJrBtyUxJMHxsIpQ4xCEENnGPCtbSYPF4hRGUiEMDEMEVqWWZTBkWD21o0IPayC8FB0zgAhv4wAhOsIIXzOAGO/jBEI6whCdM4Qpb+MIYzrCGN8zhDnv4wyAOsYhHTOISm/jEKE6xilfM4ha7+MUwjrGMZ0zjGtv4xjjOsY53zOMe+/jHQA6ykIdM5CIb+chITrKSl8zkJjv5yVCOspSnTOUqW/nKWM6ylrfM5S57+ctgDrOYx0zmMpv5zGhOs5rXzOY2u/n/zXCOs5znTOc62/nOeM6znvfM5z77+c+ADrSgB03oQhv60IhOtKIXzehGO/rRkI60pCdN6Upb+tKYzrSmN83pTnv606AOtahHTepSm/rUqE61qlfN6la7+tWwjrWsk1WNWEDYGCgQgBCq0WBjgCBHQeC1gn2Nw2AnmNhvdMCNjG1gZAsgBDO4QI5+IOwBOxvaM4j2tKstwWtn+9vSxhG1J+jtb4N72xEst7nPLW5uL1Dd62Y3AMbNQHjHW970TqC9741vdxPQ3ipwwAUEfoF4h3ve/g7gvkOQgAs4vOAGR/e/f/1GbK87BAfgt7kPnm8A7jvbGFeBCmKgcW23W4DYx322xkMggAMMYAAWv/fBF+U/adzIASTndwxyfoEBqEDjMdjtCwR4hhw5oOTmPkAIcr5uFRwARwPoxACLjiOcI30GB4D4umPw9EBmooBUB4DVm85zn8fb6UIZwNcNGPaxf1vZB3B5zLPNdaiv/YBtZ/oMYqCCEIz87AdI+90RmPer773ram9g4UuOdq8/cPH3rrvjIQh5czc+8RKs/OHtPmDIX37wEyy85DFf4LY7nfMIDvuNor7gsAdS6gymOusdbIgfwP6BAQEAIfkEBWQAAQAsgQACABgB/gEACP8AAwgcSLCgwYMIEypcyLChw4cQI0qcSLGixYL/2Fm7Bu+ix48gQ4ocSbIkwX/KUL2zKE4OiIEDopwraAWATZsBANAyybOnz59APf6LIoCbxUcBMngJ4DJAhZkDa+pAcgSJVWdBs2rdyrXk0KIWbcGyN9AekABiCNa89q9t265w48qda1DfNSIAbAm8BrJZABRqAbB1+4+u4cOIeXYsCEDfR3EBXkYVTLhw4suYM0PUxwwIAFQC/QZYudBoQkoBrASOQoNGlLGaY8ueLfCr6YHJACyMkpDcAgHWAg/IYEA3DXa0kyuna7tgOobCEMqjAWDQSVvWHOtL1gLAkeXgw2f/bf7R3hEAS0++rc1uAYDb4uPLB0m+LEPkBe0hAWDF8cDKhEXx2XwEFkhRfQLltlt+VAAQBVnqAfhPWpgYaOGFC/2zVkGQLQTaQPpoEQASEEYIIHW9YKjiigPJAUB0Femz1BElFgRPjf/AIoACpLHoo4E7oYBUK/5BZAgAAnjBBkFm+CfMBG2AIgwqvAFQ4Y9YEqiPHAoI1JhEbSD0ZQDOKHCTTRl8mOWa8v2zElQR9VgQnAHYY40tqMBCjT2Wsennn4AGKuighBZq6KGIJqrooow26uijkEYq6aSUVmrppZhmqummnHbq6aeghirqqKSWauqpqKaq6qqsturqq7DG/yrrrLTWauutuOaq66689urrr8AGK+ywxBZr7LHIJqvsssw26+yz0EYr7bTUVmvttdhmq+223Hbr7bfghivuuOSWa+656Kar7rrstuvuu/DGK++89NZr77345qvvvvz26++/AAcs8MAEF2zwwQgnrPDCDDfs8MMQRyzxxBRXbPHFGGes8cYcd+zxxyCHLPLIJJds8skop6zyyiy37PLLMMcs88w012zzzTjnrPPOPPfs889ABy300EQXbfTRSCet9NJMN+3001BHLfXUVFdt9dVYZ6311lx37fXXYIct9thkl2322WinrfbabLft9ttwxy333HTXbffdeOet99589//t99+ABy744IQXbvjhiCeu+OKMN+7445BHLvnklGN6TS+gDCIJLM0sRjM1bHhw5k0GRIFKjS2Lc8XorNvkASpFriyJAGdWgIQTbkihxAu03wQEfinb48VNAigRyS/IJ/+LLG5IcBMI8JWsT0022TCK8tgjvwsWZgIAATkoD3JTE7tkb/4vikxgUwuej8xM71KcL38k7gEgIsn6UAfAD/L3HwjtwCEZLWyyAFn0r39KsIkRSOYZAJShf7so3/lG0b0OgYwdAwDAAAyYvVHwwD0LwIL8EggASYgMFtU7nyKkMApZBGIBcJAg9vJAOx2IjA42ccMBkacE/plPFrRbgMj/hgeAPOzwFy+I3/nq176OGcEmitghHBZwvfOBgHYW9Nh5ABDF/iliAIHonwRoR6eOeYF2RpSfIhSQRvl1Tx4h84NN2DA/BcDhgLKwCQREZgskweB8l1iAEhRByOOZDw60W2DI4DEAAQiAg9gLRAsmOUklnM8ItPPEyPYDACUesYO9K6PHhGETA1Txk8r7Ae14Q7It0kCGqESkBrMYMmtkEABKgOUOv2iTMJkMFDfhQQSPmIfu5QB1I2MDkgCAgi7KTxZNuIkHgGcyfcgxmH8YpvIiIYX6AYAGojQZLbypQRogoQlKsEEFRncFOLaMHWy4JZJ6NzoaYCVm53hEDlqX/wEzwKhm7KBGL/LkDHHErnIITahCF8rQhjr0oRCNqEQnStGKWvSiGM2oRjfK0Y569KMgDalIR0rSkpr0pChNqUpXytKWuvSlMI2pTGdK05ra9KY4zalOd8rTnvr0p0ANqlCHStSiGvWoSE2qUpfK1KY69alQjapUp0rVqlr1qljNqla3ytWuevWrYA2rWMdK1rKa9axoTata18rWtrr1rXCNq1znSte62vWueM2rXvfK17769a+ADaxgB0vYwhr2sIhNrEmxgQ2fMfaxO8NGNYARC2NUo7EOq4xPpLEIIeyRIBm4QieqgTAJAWgk0vBCAnCSE9baZAKGIO3ATEtbkP8Y4gC9E8gADsBbAXjJJiCIhcBoS9yLVEML9KRACFQwg4HMQAUXOMBNBrAIgBH3un2KSDWEcJMDqCAGM2guQcIbgxDI8wz+wi52J3JGmzgAvOE9SHhnEAPcOrK6+1LveiOyiJtcYL7ilS95HYAkBQBDX/pVL0SqoT4AOADAC5lvfWn3AwQneL8NOYNNDgDfACtkviq4ZSxkW68LK7gh1ahfCOb7kPlewCY2vJeJT7yQTtDuACyGSHhDrEFp2GvGNFbI6gLwXw+3eAYOyAl+6QVkDCcEG4AJAHMrMoML+PYKmJ1Xk6+7EMYKEQAxuEgIfCsExjJ5y8V9Mmk16BEV6Ob/BWbWMpprixDGGoN2CWgz7UAQZ3nNmc51xsYAcvIR3eigz/H6s2m7nAGBhJnKIRBIFLLsZ0VrliExXrGRHRLeC+QEvSW2NGEaQgffPji+OqbvagEg3FCLej0LAYZNBhAD+B55BmMGwATw9WpYL0QG7oUwQwCMWwCkRca9dkgsbCIA5uY4IQC2svdI7GpLQyQINkmAs1Et4PCal3Z0sLCiI2IMCmx425sOAIBDIF0AxDhfopZILIojgARomtsCkbC0AQACH+f3zxTphDcdcG/n0pfdzztwv+ZsEWBkgHgHIPhyQ3ABBzTyJj/wd3qb7BFpiGHVvm3tPG8CW2r/a8YhKjGGFh4+EN20FgVnMHnAEmySWNDBC0XQQRTEgAeFKyzNPXksonMGWZYFBAAh+QQFZAABACxmAQIAFgH8AQAI/wADCBxIsKDBgwH0paPGzR7CgeSoiXP4sKLFixgzatzIsaPHjyBDYoRF619IZl4gDFwgR17Bf/pAgRiogI7Imzhz6tzJs2dHCBNMgjwS4EWbAGIWBABCUaA+MQAgiDEkRwdRn1izat3KdSdQoR8fMQN7bkIAWARRBaDxjmDbrnDjyp2LFV4ABRCuCSSXcxDSgfYmDOBLt7Dhw4gxCjMIBGxIUH8FCgNwxHHiy5gzc2XnDG8zgXoDEK6YrmKUAJAFDgLgh5uYADnYiNNMu7ZtkF8L+rnI6SEtABnsCvQCwIoBAzLMGuh1u7nz5wRzE6R2kRtCcRAEJCMYBQAAJO/+/f+jdJcd9PPoMUu/ec6DALUErQBQUFrgPyQBJKXfz1/ueoFvVSQcQenMhIllZgCQQ0G9adHfgxD69F8Au1nUG4Eo5GdZAJh8VxAsApwW4YgkgjQBBJYtZpEzBLHzQgCGbBjANQBkSNAgArBR4o48YiSDAAN65CKFMgbwjwwAqBiAPB4k2eOTUBL02hGYBCBMkRUREcAEZphBECVC/ePMAAtIQo0tNARwVZRs8sgOEgYI1FhHLx5ERJj/9GKWQAJcEWSbgI6oj3nmdVSfQYXa9489yaBCyzmBRirppJRWaumlmGaq6aacdurpp6CGKuqopJZq6qmopqrqqqy26uqrsMb/KuustNZq66245qrrrrz26uuvwAYr7LDEFmvsscgmq+yyzDbr7LPQRivttNRWa+212Gar7bbcduvtt+CGK+645JZr7rnopqvuuuy26+678MYr77z01mvvvfjmq+++/Pbr778AByzwwAQXbPDBCCes8MIMN+zwwxBHLPHEFFds8cUYZ6zxxhx37PHHIIcs8sgkl2zyySinrPLKLLfs8sswxyzzzDTXbPPNOOes88489+zzz0AHLfTQRBdt9NFIJ6300kw37fTTUEct9dRUV2311VhnrfXWXHft9ddghy322GSXbfbZaKet9tpst+3223DHLffcdNdt991456333nz3/+3334AHLvjghBdu+OGIJ6744ow37vjjkEcu+eSUV2755ZhnrvnmnHfu+eeghy766KSXbvrpqKeu+uqst+7667DHLvvstNdu++2456777rz37vvvwAcv/PDEF2/88cgnr/zyzDfv/PPQRy/99NRXb/312Gev/fbcd+/99+CHL/745Jdv/vnop6/++uy37/778Mcv//z012///fjnr//+/Pfv//8ADKAAB0jAAhrwgAhMoAIXyMAGOvCBEIygBCdIwQpa8IIYzKAGN8jBDnrwgyAMoQhHSMISmvCEKEyhClfIwha68IUwjKEMZ0jDGtrwhjjMoQ53yMMe+tBq9mDHNf/E4RKT+eOI/siKPZrRBhR454kQiAIqEsUxJFrxijrRByya9MQuPnEAZqDixa5IRiyK5BovEEAXBUCAAhBgAGp84gLIM8Yy2tGKIOnFAp5IgAdggASABGQHIoCALnqhKRK7oyKR6BFUfDECIhhBICcJSAwUII5MmdgiN5nEjTRjAN4hQAcoScpAPuCJV0gkJzepkXRMwDsIiGQpZxmBJ1YJYqvkZEaIA4AFjHKWwGyAGhcgRoXlUpfVieMfgQnMERTAO0dp2DFXeREteKcBkmQmMDHgnQEEyJjTZGVF7AEB73Qgm5McAQYi0IBlzrKQAEALw8IpzockwzsFQOckOzD/AAQMIALMrGVx5knPeh5kNQB4gD4BOYKGkoAAAAVmB7xTAYIWVJEVgQoALLBQSkJUm6AUACIPdtFFVgQJ3sFARyf5UWYSwDuHQlhJMfoQIKRUmy0F5jMBMBtwzrSMFZHPRnEaUWDuEQDfJOlPgfoQOXinqLPMaSlFoMY4LWypTEUIKGBJVGZyEwB18ilWGfmQcwBAAANYKQm82IBZNsA7FbrqWI94kTRudKUdyGteZUlJERyVOhYd60UkEUoRaBOYpwRAC/Qhzbl2cpxcVOhhSdmBODLHYXPNSCueyNHJBtKv3tEBLgWLEX0IVQCdnWwHdjqB0WAWqxqRBw2e+AC+aG7zqANQhiZ/ypF0zNY7C4iAWjGAgDgqgBYU421H5HFatCIgAhbAgAXYSYA4AscadQynSGgBAi96RwDWBcAA2lDM3U7zJvbgBA3C28UKmMG1GaMmT9KBCj944QhUaMMjqMFYkNH0IQEBACH5BAVkAAEALGYBAgAWAfwBAAj/AAMIHEiwoMGDAf6xs3YNHsKB/yL+e0ixosWLGDNq3Mixo8ePIDEmQ+Xwozg5HgYOoHKOIDUAMAEMhPkopM2bOHPq3MlzYxQA4kAaCpBBTACURNMNFHcESVMkTmE660m1qtWrWHX+DPqRFix7A+XpEGCGoMSJAZwBQKEvq9u3cONSbQsEQC+B13AmC8ACosSBXgDUlEu4sOHDB98ZFIDzmgAUftEGgKdAgFLEmDNrrgpWBwBYApsJVFyRG8WaWiJLBCUgyubXsGN/3FpQmEUrD8UtGJBX4NmINAT0kiy7uPHjAWgTbFlx70F4MgAMVf2PG4AJ9iIi3849s3Kb9ogA/xDTVvVRAHT+dl/P/u13gfIssjNo70iAK+UjB7BXAQA39e0FKOBO7wVgW0W4EWSPa1SAVdBftgCgQ0LaDWjhhbMJYBpB3MjRhocgfihiKwpSEQASDj6oHRIAoEIhcRjGKONDbADgnEf6pIbiQxGlM4AC8Jw145BEEgRaCzWRyNEgAQjgBRsEQemXIQB4IWSRWM6oDxsLCMQYR2Ud9OVA+oCQ1pVZponhP4oxtxFpBrkpkD7nnAOgmnjmqeeefPbp55+ABirooIQWauihiCaq6KKMNuroo5BGKumklFZq6aWYZqrpppx26umnoIYq6qiklmrqqaimquqqrLbq6quwxv8q66y01mrrrbjmquuuvPbq66/ABivssMQWa+yxyCar7LLMNuvss9BGK+201FZr7bXYZqvtttx26+234IYr7rjklmvuueimq+667Lbr7rvwxivvvPTWa++9+Oar77789uvvvwAHLPDABBds8MEIJ6zwwgw37PDDEEcs8cQUV2zxxRhnrPHGHHfs8ccghyzyyCSXbPLJKKes8sost+zyyzDHLPPMNNds880456zzzjz37PPPQAct9NBEF2300UgnrfTSTDft9NNQRy311FRXbfXVWGet9dZcd+3112CHLfbYZJdt9tlop6322my37fbbcMct99x012333XjnrffefPf/7fffgAcu+OCEF2744YgnrvjijDfu+OOQRy755JRXbvnlmGeu+eacd+7556CHLvropJdu+umop6766qy37vrrsMcu++y012777bjnrvvuvPfu++/ABy/88MQXb/zxyCev/PLMN+/889BHL/301Fdv/fXYZ6/99tx37/334Icv/vjkl2/++einr/767Lfv/vvwxy///PTXb//9+Oev//789+///wAMoAAHSMACGvCACEygAhfIwAY68IEQjKAEJ0jBClrwghjMoAY3yMEOevCDIAyhCEdIwhLq7DcOa4c2tNGOqvzmhRUimDY2gYMBCOCGADAADgihjZzA8Icx/Jc2/3IQkyIaEQfRsAkQl/iveHzBiABYQAEKsAAofqGFHlmiFmF0r3KwICYCaIAFRECCMpJABBZogABiYoJydGSLW9RXOSCwRgA0oAMjMKMey9iBBsQEAj3UCBzjiK94mAAmA7BAHvfISBJgwIYA8AAWLzJIOOJLPAAYAAYayUkSdACSOcAHRippyXrxAiYC2GQnGZlHDNSxFpQkJSHnhQ8UwOQBi1xlIx8AExPcwyKyLKW8TplJMuqSkyIgAExeUZFgCjNeTwTAAzjZgQg0IAKdHEEEYGKEZjpTi/O6BwRg0gFOEmCKCMglIzuwRgbEgyLfBKe8tAETAmSTBA8ogC4LAP+TJPIonkyMFzFgggBdPiCdq/QjAGD5T4D+UF6ugEkDDKrPbKoRAJuAp0MfGq9N3FKdjDwoSPf4gDUSQqMbfaG8arHGBoxUj/nUpUJdgdKU3uld0SDoS80o0lUiYI3EqKlNudiudiDSmJyMaTarCAA3NnSoRG3XC2BiAU4iYAAxWQAnMdBLYEI1quwiBEGR2YGylpWTCp2DV6FKr3LUUZXHZKQrASCAQAp1o/b6AlYLgNS4lnEEBVjjF0Zp03u1wwBrLKhfzajQATh1rXi9Vy3oGsa+rnIECgWAK0RJWIfqS6wELacuO4CAmMyBsxnxrL7wMQcw3pGaJY3JF37JkXhE+ssVdbxhAR5gAQtgwAL5rCNdMwqSYAJMG5iEIhRzoA3UfqSSBCOGERig3BwSIag7CajB4sELQnzBCET4AiF48U6KBAQAIfkEBWQAAQAsgwACABYB/AEACP8AAwgcSLCgwYMIEypcyLChw4cQI0qcSLGiRYLpqHGzl1BfOmvp9F0cSbKkyZMoU1Kk1eqfRWpeJgxUYOYdwX/2/CwYCMGPPZcqgwodSrSoSQ8DgFK0EgAFmwBmIASgwVHgPysAJgxC5UemF6VGw4odS1YlUrASKSUTKZBdhgCeBooDoOCcXAUA7Jbdy7evX4PwAmQYcE2guJKSAjAV2EuAkZs6BCT7S7myZaHODNIoCSsAlYHUBOQY+O/fCwHcLqtezTriu2YTBjQTSE3gOWYL9SLUEuDRQH00BPSyCksAkNbIkysneLag74WGEgoTMMHmQHZRBtBgOsCK9eXgw1P/bk6w8EJrCM9NEF4QXlcAAAT6FE+/PlnyI9OhCCAJrD0aAMiRzj/pmAGADlXZp+CCKOEn0HcJQdgWCwEYghYoAEQRQGmlIQFAKwyGKKJFDvbGUHQEsfNCAIOgFYAXAICyYWkBYAKAGSPmqGND+6GlTBtyAClkkERONtA7o9HhYgBaAEDJjC49AoAYO1ZpJUHHsWMRPMHJsWQAlABAgz4c2vMCAKhcqeaOdAQAxJPDSRSFAAuYgeNAzwXwTgYAANELNbboAAAIga1paIjvUDGAQJtJpANCjRoGYADw9UnOoZiGqI+W6Uyk5UGd3sQNLKjQclimqKaq6qqsturqq7DG/yrrrLTWauutuOaq66689urrr8AGK+ywxBZr7LHIJqvsssw26+yz0EYr7bTUVmvttdhmq+223Hbr7bfghivuuOSWa+656Kar7rrstuvuu/DGK++89NZr77345qvvvvz26++/AAcs8MAEF2zwwQgnrPDCDDfs8MMQRyzxxBRXbPHFGGes8cYcd+zxxyCHLPLIJJds8skop6zyyiy37PLLMMcs88w012zzzTjnrPPOPPfs889ABy300EQXbfTRSCet9NJMN+3001BHLfXUVFdt9dVYZ6311lx37fXXYIct9thkl2322WinrfbabLft9ttwxy333HTXbffdeOet99589//t99+ABy744IQXbvjhiCeu+OKMN+7445BHLvnklFdu+eWYZ6755px37vnnoIcu+uikl2766ainrvrqrLfu+uuwxy777LTXbvvtuOeu++689+7778AHL/zwxBdv/PHIJ6/88sw37/zz0Ecv/fTUV2/99dhnr/323Hfv/ffghy/++OSXb/756Kev/vrst+/++/DHL//89Ndv//3456///vz37///AAygAAdIwAIa8IAITKACF8jABjrwgRCMoAQnSMEKWvCCGMygBjfIwQ568IMgDKEIR0jCEprwhChMoQpXyMIWuvCFMIyhDGdIwxra8IY4zKEOd8jDHvrwh0AMohD/h0jEIhrxiEhMohKXyMQmOvGJUIyiFKcYMmxY0Yo7swc7riEOeQjlimAMIzZmZo9mtAEFlYIPBKKAik+RRIxwBOPL9AELD6TxjvAZgBncWJE4+hGLLLvGadIogAMYMgF3XMCTKPLHRo5RZb1YQKUOcAEVxGAGmJxBDC7ggDR6IUEPcaQjU4aKSg3gApfMpCoxqYIDCAA+QABlQ0Q5SpM1YwDwOYAKVsnLTF6gUleACC1FWbJ0TAA+DkhlL3t5gVcCABMOGSYxSQYjACRgl8vM5i8BsAA+JkSatBQZN5yJzWwuMwauBEAbGALOaYasSQBwgDnnqYI8Ssgg7XSnx+wB/wH4lHOVDuAkJ5UJUPh0RiH5rOXHkpHLbMbzAhAlqCqbCYDFfDOhfwzZIOBzgXMC4J/LVMErK7AQjGYUZGKATwg8GgIVgJSXrxSALAli0pN+zEMflSgmYwAAQwpAntk8AHxCdZCa+jFkQPCnTlnJylMG9ZWnQohR4RgyrABgpfOcwUCXiUgA3JOmUw1jyOSg0qWu8gIH8CgADFDSsMoRZBiKZ0hTqQKn9rKeAFgRQt16xZCdI49LDUFPXQnUXjoAl35oK19HdqarhtSlL81kDLpaG8WGdWSSyKVZs7rNFrBlr24dmT3sCICOZpWXdYVPnNh5WZK1olJYPe1Ou/qoaH1O1WT6sKoAYpvVVr5yApcKpVFPJg8AcXSzmQxBOgegDInUNGXpMK41Q2BWFXQSPgqgBSMTujJ5WBU+P71AS0MQAgcItVIZQE8f2+kyWoCAkJUSgDMBMIA2eHO7+myZPTgRHDzCpwJmCO5JjmqzdHDFC0egQhseQY3PRiQgAAAh+QQFZAABACyDAAIAFgH8AQAI/wADCBxIsKDBgwgTKlzIsKHDhxAjSpxIsaJFguwY2uNGjd2/iyBDihxJsqRJirZQgRTTcNBAAUfIfTxJs6bNmzhJogBwUYtAMwRfFLwSIEMAUFYAZEiXs6nTp1Bv7ryISVhBEAAoDRQmYEJGgYYAaJkZtazZs2gLygvggWdJTgGiDBQDwBBBewsGvEvLt6/fmtQMCg1pC4BcgUYA9CpIA4Ctv5AjS44Ij1kGtwTTKbPoRYBdgUcA0CL770XdyahTqx44taAkhi4RJgsA4WuANgDk/Nv9j50BAGxWCx/et7XIdJcfD6QGQAG13fa0AADghbj160+Ng2Q3uOA/OgEGIP/xgkKADgBtsKtff1K7QHgUhcYmuJuWDgUGgAhL/4i9//8WuRfAawvNJ9A7MgTgx0G8FQSEALMBKOGEDLUAgD4FNcOQVQPBF4AcCDU40DkCVGAPhSimSJARATBl0XlmYMigiPYkRglZKuYI4IIXJaWAQZ8F8A8ScsAiDCUWIqEPjjo2qR48VhggUHcQPXgQlURgNgAd9jDp5JfXeXkSN7SgIsw7YoKp5ppstunmm3DGKeecdNZp55145qnnnnz26eefgAYq6KCEFmrooYgmquiijDbq6KOQRirppJRWaumlmGaq6aacdurpp6CGKuqopJZq6qmopqrqqqy26uqrsMb/KuustNZq66245qrrrrz26uuvwAYr7LDEFmvsscgmq+yyzDbr7LPQRivttNRWa+212Gar7bbcduvtt+CGK+645JZr7rnopqvuuuy26+678MYr77z01mvvvfjmq+++/Pbr778AByzwwAQXbPDBCCes8MIMN+zwwxBHLPHEFFds8cUYZ6zxxhx37PHHIIcs8sgkl2zyySinrPLKLLfs8sswxyzzzDTXbPPNOOes88489+zzz0AHLfTQRBdt9NFIJ6300kw37fTTUEct9dRUV2311VhnrfXWXHft9ddghy322GSXbfbZaKet9tpst+3223DHLffcdNdt991456333nz3/+3332HyJniaGA9uuIgbH674bhkv7jjjFT8uOcWSVy5x5ZZHjHnmDm+O+cOec75w6KIrTHrpCJ8+OcOqP95w646zDvviss9++Ou2G4577oLvzjvko/+OuOnCE25w8aALD/Hvmuc+se2Rw26x6hqH3jHqHN8O+Pbcd+/99+CHL/745Jdv/vnop6/++uy37/778Mcv//z012///fjnr//+/Pfv//8ADKAAB0jAAhrwgAhMoAIXyMAGOvCBEIygBCdIwQpa8IIYzKAGN8jBDnrwgyAMoQhHSMISmvCEKEyhClfIwha68IUwjKEMZ0jDGtrwhjjMoQ53yMMe+vCHQAyiEP+HSMQiGvGISEyiEpfIxCY68YlQjKIUp0jFKlrxiljMoha3yMUuenE11QBGLIxRjZFJYxFCgMB01piBK3SijByThhcSsMY61nEChoAjxgxxAAHU0QAbcMEG/FhHEMTiYtXQAiEB4AI9LAMckITkMsCwgTUOYBEVq4YQ1ugCTUTyk5/UQyWncwaKdWY6QwClKiO5DBcAQAACwGTEFrFGMKzylpAcwisVAAyIVWMCqMSlMAcJgB9A7AzT2YAwhbmMNcZCjwqrxgKm48ll4hIM09GBwzrhR2WuUg9gCOcQwFBNUC7DjwOQRsOuMB093FIT4QwnAMoJSl0CQJYL2wkATGH/TVHiUg/TIQrDpikAa4JjA+58px+FwLBqTMcA1mzmI2/ZTABQCWHG8CMDrDmEVOKyoiBo2ACmY00D0FOVpvCjNhl2GQBMVKHL1MR0DrOw88xTmC6wpTCxCYBSMowOfvToKpvJT2EyYDqHZBgwHvpSVTZ1lZrwo1EcJoPp6NSgqnQlAFjisFissahYjSRAAQABaDIsCK/cwFOtmdLpgAdixqBAMteKS00cFQArjVgsfgMABpz0lmAYKQBAoM6JdWKa03EBWFWpiVEOtpcVA0ZLByCADYBBD5owhSb0MAS+TucHhbWYNMRAxzoKYKSLBAAezWoxY2ihpXacDgrOwFqNEMWCDl4ogg6iIAY8QLZiAQEAIfkEBWQAAQAsgwACABYBEAEACP8AAwgcSLCgwYMIEypcyLChw4cQI0qcSLGixYH2zgUQp/CfRo0XQ4ocSbKkyZMUacG6yA2IgYECjnAr+M/ZC4EAaFxDybOnz59AT2ZQcDGZASNtAshhEWDBzIHUFAxog8pMAAgcg2rdyrWrz6EX4dn7N1CflQBaBv6jAWClQEoBkHidS7euXYTwAkwgatJZABkDd7YomEFAuruIEyvumcxgjpHCCkpSWtBLgFaLM2veHPFdMwh8A1gTCJLiuZuNBYoJ4KmgoQB+OMueTXsgWNcMHxVkRyMHCgEvhJEVGCUALYL/Wq+uzbw54tsERy/cSTAdhAkCALBARdBIAOEC//3/W3nWufnzW6GH/GcvGQoAkwUiAUBLvH1QASyj389faOiB70xk3z/iALCAPQJ5AQAoA/7zmhz9RSihReoJ9NpCuiFnn0AeAJCVIQDERpAZC05o4okNeWDAcAMJI0cbL8YI44zMaCieQPooAABIzgCgA3LvPYXikEQK9CM7FrEzoECgAAACRiAA4FcA//QiAA1FZjlkUkRgUtEROhhCSy+gHAGAAL0QZIsAE7RCDSgLDDCllnRG+E4UAwj0mERtvEQQC+CphQpfAEBgS52ISqiPQEhK9I88ztCCCi3cbIgcPL2gIow8iXbq6aeghirqqKSWauqpqKaq6qqsturqq7DG/yrrrLTWauutuOaq66689urrr8AGK+ywxBZr7LHIJqvsssw26+yz0EYr7bTUVmvttdhmq+223Hbr7bfghivuuOSWa+656Kar7rrstuvuu/DGK++89NZr77345qvvvvz26++/AAcs8MAEF2zwwQgnrPDCDDfs8MMQRyzxxBRXbPHFGGes8cYcd+zxxyCHLPLIJJds8skop6zyyiy37PLLMMcs88w012zzzTjnrPPOPPfs889ABy300EQXbfTRSCet9NJMN+3001BHLfXUVFdt9dVYZ6311lx37fXXYIct9thkl2322WinrfbabLft9ttwxy333HTXbffdeOet99589//t99+ABy744IQXbvjhiCeu+OKMN+7445BHLvnklFdu+eWYZ6755px37vnnoIcu+uikl2766ainrvrqrLfu+uuwxy77hPZEKskgnthizaIsN2hpSfbQQoWOABRvfAViNIOy78yzeJEwLBgv/fQAAEENyc1n77xE8MwnfQtKSOGGE0pUIL0Ag/D+sfbaU0TOC8ZD4MYov9S/S/2/ROLEAMZHwWnH7AugRNiRgeIJQAq7uB/+Fli/UfwgOwA4AoI2FsAKQsQeOiieAv7AwA4u0A0QXI7GKmhBh7SheANQhAdXWD8QFi9NGSNhCRlCDv4BAA4sZOEulFA8FEzQYjIkYUP/rFA8HuQwh7uAQHZac7EgzjAh7OCfACKhQwWuEA7Fu0kTnShAhbSieDZYYR5aIAABoCAQK9zFAopHDiBysYsJiULxcOhBN8BhFLKQggLo50EkZAcuFXsjHBHyHgDwsYNW3IUC8nDF4olwYoJk30J0JAArslAWAFChBxVRPLkEMpLtQ8g7igeBI9aPB2Fc4Siy6EZQNi8h8CjeAkzpBAnIwpILXCUAAPNJVzJPIWsEAC4ZKIUKHNKDgchOcXrpywYppJDHZCAWjHlELALgkRJrpu8WcoXiuWGFIIRDIBShiGji74ElYqY2t2cQWhQPBit0Qgta8AJ6MhKRBijjYdSpvM2FwEOKmjSlB+WQnT21cp0MEUPxaCBQD8piAdlxy0Gb2RB2EE8ODWUgD7JDA/VN1JUOGUR2BMDBjP5CCiOtUQz76RB9yPFMbhimB3dovAuNkKIPeUcLjKcEczIwEvArXloACNKIsAMIxjOAEyKBy10EwggQBAAbfkhBUFLEHiSS3gRsoIQmIMEGAyijBvETMkFehBpIpd70BOCFfYrMiSRxRhs6RD0aDCIrJntiScgRKVD0ghqN6t0vKRIQACH5BAVkAAEALIMAAgAWARABAAj/AAMIHEiwoMGDCBMqXMiwocOHECNKnEixosWB/9Jdu/ZO4b+PF0OKHEmypMmTFZ2hYmdRH5IJAwGwsFWQG6UrKAS++4eyp8+fQIOe9AKAmkV7AmiICeDHSAAAqAi2AQDAgAAAO3kK3cq1q9efRI1W/McSI6gAFfQN7IXqmj0IWEF+nUu3rt2DPKMAgCXwmtqQ9hQAKPtRK9ysWu8qXswY5V+CWEXCE6Dgb2GBhy833sy5M0SeRwB4EtjMXgB4DK8lfOclAB2McjPL9Uy7tu0AYQuKVeiU4D8qAV4YyPDosWbZiW8rX243N8GyCoUV/EcjgIEAE+iYFng87mzm4MML/3Uu8h83JAHQc4/tPbn49/BJkhe4XSH0g/ZQAHC23nD7+AAGaNF8AeyWUG8JLXVWAN0hJuCDEDYkRlEFndOGHBdmiOGGoyX0TxQBRMUgew5GaOKJAw0SAC0XPSYQN4KR0x9PsqFoo4nSgfBIiPU99AgIfkTVihgGANAGQeKYoeQAAIihJH83RgngP35AIFBkEdFiJUETFEdQMlTFRNWCUpb53j8dnePiQ/pY00sAsFDTI33n1GlnnaiZqeeefPbp55+ABirooIQWauihiCaq6KKMNuroo5BGKumklFZq6aWYZqrpppx26umnoIYq6qiklmrqqaimquqqrLbq6quwxv8q66y01mrrrbjmquuuvPbq66/ABivssMQWa+yxyCar7LLMNuvss9BGK+201FZr7bXYZqvtttx26+234IYr7rjklmvuueimq+667Lbr7rvwxivvvPTWa++9+Oar77789uvvvwAHLPDABBds8MEIJ6zwwgw37PDDEEcs8cQUV2zxxRhnrPHGHHfs8ccghyzyyCSXbPLJKKes8sost+zyyzDHLPPMNNds880456zzzjz37PPPQAct9NBEF2300UgnrfTSTDft9NNQRy311FRXbfXVWGet9dZcd+3112CHLfbYZJdt9tlop6322my37fbbcMct99x012333XjnrffefPf/7fffgAcu+OCEF2744YgnrvjijDfu+OPwFSb5dwZf0wsog0gCSzN5ljT555oNTA0bHlBlOlUGRIHKnGOB7rp7/Ipzxem0n+4BKmtG9PrulOcryVWmV4CEE25IocQLwFMFxH2f8c77vvYQRZUASkTyy/XY/yKLGxKYDgI3Ejkvfr76WGG6DaNkr/71u2AhGAAQyPiQ+OPjO4jpTeyy/v6/KDIBVS3oHEPoV796MQN4UuCfAiOxAKpowSEEpF+99EEDqvxAgRgMxFUEYI2GRLCA8qIFVRYgCwxiUAlUQZCHPui8egGBKmXA4C70x79RvE8cC2EhCN/FDiYNoITrGwUP/xq4ACwoEIUAkEQOdfg8ecGCKjbgnyKkMApZBGIBcKCh+vJwFR0skYmvmxcdqOIGE15PCRfcnyyusoAvghF085JeHsz4ixckkH8NBIAAp/PGMMrLCFRRhBnhsID08Q8EV8EhQvrox3iFBgCCxKAiBhAIDErgKufwCCM/F8erzFGBilDAJxX4PnlocpOSm5cfqMKGBSoADiaUBVW2tEJUhg5etgCAAGDAv0ssQAmKCKb19geHq6gQL7a85bvgMQABCACI6gtEC6Y5TSXwzwhX6VAtbVkvJFDljnQMIvAy6cZN1ksYqDNkOLP3g6uAaIDJtNcjaaDFdRYTAANQJDzNaYovazAJAEqopxknSZUjQZCf9wKF6XgwQzrm4X05YN0pwbgvNugSACiIpAJl0QTTeYB5HnzjvvSxyoX+oaHZi4QU8ggAGpAzfDr8Fy1Yik8aIKEJSrBBBWh3BVNa5IMBYwcb/qnL5J2OBlAqTwsJdo5H5KB2AMiAGaSDEjgqjB3UYAssnCGO3D0kIAAAIfkEBWQAAQAsgwACABYBEAEACP8AAwgcSLCgwYMIEypcyLChw4cQI0qcSLGiRYLsGNoTRy3dxY8gQ4ocSbJkRWqtPFb8p6UCQRCoCMqTpEMAAIEvhJncybOnz58l6QTQuRLCiwCDBiEREODRQHEADETxM4gIAAGwgGrdyrWrT6FERdoKoECewHSD2P1b++8RgAn2vMqdS7cuQm5eAmAaGPfjvwwBxB1kOwHANbuIEyvm+W+CQXIg9UEA8G7w2hYArC3ezLmzRGdWAhgq2FchtYTy2gDIa/mcAAWlPcueTRtsQcELjxYUI1DBBD+xCf7TZ9UP7ePIOdsmWHnh2IJIBkIwAw/hPz8CaARPzr371uUhyYX/zqHvoKcAIFR6X8++J/iH6g/qoxGgl0FQADyca8+//8j3gTGkW0LGjUZQKwBkcM4//jXo4ETG2YeRHG1QaGGFGDqlEG8aCgSLABWIs9aDJJao0HnnVfROcOdAEMBpAvUiwATXsGXijTi+GEAGBlYXESoZCBUALGwoEIAWA3EzAABAsGHGkwIdluOU/j3imECQRSSMSwRBANxAztx00HNUltmej9s5xI1ArThjkD37HWSWmXTWaeedeOap55589unnn4AGKuighBZq6KGIJqrooow26uijkEYq6aSUVmrppZhmqummnHbq6aeghirqqKSWauqpqKaq6qqsturqq7DG/yrrrLTWauutuOaq66689urrr8AGK+ywxBZr7LHIJqvsssw26+yz0EYr7bTUVmvttdhmq+223Hbr7bfghivuuOSWa+656Kar7rrstuvuu/DGK++89NZr77345qvvvvz26++/AAcs8MAEF2zwwQgnrPDCDDfs8MMQRyzxxBRXbPHFGGes8cYcd+zxxyCHLPLIJJds8skop6zyyiy37PLLMMcs88w012zzzTjnrPPOPPfs889ABy300EQXbfTRSCet9NJMN+3001BHLfXUVFdt9dVYZ6311lx37fXXYIct9thkl2322WinrfbabLft9ttwxy333HTXbffdeOet99589//t99+ABy744IQXbvjhiCfenj3O0CLJIJ7YYk15A7NlOYMk2UMLFQoA4PnnAFQgRjP/Xm66jSAJwwLorIMOBIz5ni476hTBgwTrLSghhRtOKFEB6AIMQrm9sxePuUTkvPA5BG6M8svzuzz/SyROLOl5FHPOa/z2ErGTgecCSLFL9NKX//woP9gEwBFpsrv9+xDZo4PnCvxh/v3lu6E+b/K+D79DqgHAABSBvwI+T3+ek9C7/Pc/hpDDenAwoAF3oQTPoaB952Kg/xpiBc/xQIIS3AUEbJKidmmwgQlhx5IEEIkJkq+AcPDcgNx3Qu4pBEEAsEEB89ACAQgABYEo4C7/FuC5LK2rhig8SBQ8F0H8uQEOo5CFFBTgPPwtBQCUMCESjbcQFHiuivd74S4UkAcYeo5/R9xi8RbSOQG80ICyAAAB8acIz0WHhmqcXULe4TkIgPB5PNBhAUchQy3mUXYJgYfnFvBHJ0hAFm8sHyEBIANDHtJ0CiEiACJpPilUAIz4C4RNomDJS1pOIV4EACjNh4VPgjCGAECjukyJSYVcwXNuKKD+4BAIRShildJLHwBAUUpaLoQWnoNBAZ3Qgha8wJllDKMBfBifdNHycguBxwrn+Ef8ycEmOVjgNUe0EDF4jgbdxJ8sFmCTrLhrnMdTCDs6BwA5pNN8PLAJDYZXjMw8OmQQNhGA/e75CykElBnxuuZD9LHEq7iBk/ij4OcMlFBTQuQdmPGcEoBpvkgoz3NIotcluweEzxnACZGI5C4CYQT1AYANGMTjFiliDzOwbgI2UEITkGCDAfiQfsTE10wtQo2Sto51AvBCNYmnQZE4ow0eOCoNBoGbfiVRJORoHCh6QY2MEAyRFAkIACH5BAVkAAEALGYBAgAzAPwBAAj/AAMIHEiwoMGDAfSlo8YNHsIA7K5Ze2dQGCp7DzMOZHdkAUEazQj+szIBwEAQrQgCgahRI7kBOswYopMDwIBkA/8teCFmkB8kAgBIGriSXcuM9hwSpBMgxz+B/9g9HUgrgEd712gEwBmA29SjGdMBUPD1obhzJglCKAv2oDgAKNgS1KdAADx7zV4EsCXQ2VOjGsU95BgA1EN4bACImVq0YFWNYgzqCNBiAApUcr3keLFgwiCMAhsTJNfSmcEJAQYE8PBIn8EjEwwAgMBGaQDRbTPqozbZjNwA/8RZAaDD9W2WBG0PzvgOgoBzBv9J10cDgLDQyKm2jJzxSIDrIqU///UDwJBAIwHSFbTWRk779+7jP36oV1l46QK9CBgawEsAarkZJFVByYyl1Dv2iCfQORAAAGAAngQgw1Cw/KaRGS8MAksAqFghQACUDIRKBnSg0ksrbCgAgBdT2SOGAgKtFWAAksBIUAatfCUMamp9xpZR6ViokT3U8AWLNcblpM81vaACizMJ4jfjlFRWaeWVWGap5ZZcdunll2CGKeaYZJZp5plopqnmmmy26eabcMYp55x01mnnnXjmqeeefPbp55+ABirooIQWauihiCaq6KKMNuroo5BGKumklFZq6aWYZqrpppx26umnoIYq6qiklmrqqaimquqqrLbq6quwxv8q66y01mrrrbjmquuuvPbq66/ABivssMQWa+yxyCar7LLMNuvss9BGK+201FZr7bWHMgnKIJLA0oxyZFLDhgcAlGsuAAZEcdGY4lxx7rvneoBKkl1KEpS5CThwwb4OOPAuEIBtaY8X5grggAozJKzwDDFccIC5IHCzpT7DlXvwwhgn3PC9EJCW5SDmOpDxyAmrMEC5LYA7JTP3XkDyyyaXq8WV1Fn88s0hBCWANVbSUu4AMdx8swNBoVclEOW6LPTLMZgr2JTsnCxA0BnHMEACVwNNNcb+CkUlLBZvjTEAIahgttgLh1DuZFPSkTTJTSMsdNMAeDQlwWTDDYC+F6D/jfHJAKh8lBHlquA3w3wfcIDcIx8Q1NMBHlH44QwHHcMBSjdeLnQz6pf30g6/DLg8U5IHQOZDizwy3RBQaUvYI4dQtgoXCBACyWoDYPSM8AAeg98qHHC1A7eT3HWEVCKRNOUawww451MKU64AjC/NdblRXCn53sy/nPsAkFNpDeCqW1+yuW1kCcr0DnSf9r05gIZlYuUu3n0MRJfrQcBY6mO6xSEAXu3uRQPobYkWCziXwfp1AQcAzlxXIN2X2MGGBwLgXu+igWnGdI5H1AReGTADeM7EDmo06UnioBe2VsjCFrrwhTCMoQxnSMMa2vCGOMyhDnfIwx768IdADKIQq4dIxCIa8YhITKISl8jEJjrxiVCMohSnSMUqWvGKWMyiFrfIxS568YtgDKMYlSgeKaGpjGgsI5nSyEY1gqmNcDQjl+JIRyFNqY511BIe84ilPeKxj37kI5UC+ccqEbKQMzokIgOkSEEyspFxHCQkI5nIScLxjpZsIyYzmcZNclJBnvykHTMiSjeGkpOGLOUoSVnKK4kSkKiE5SS3ZMkuQfKNhBSTH89EyRkFBAAh+QQFZAABACxmAQIAFgH8AQAI/wADCBxIsKDBgwHskQtAzh7CAP8i/ntIsaLFixgzatzIsaPHjyAz6kPVa+JHZzkGDBwQ5VxBif+cCQDgJaTNmzhz6tzJk6M9ASxMekS1AImcAG08BKiQjqBEeygG0BTas6rVq1iz3vwZFOQ7fQTtAQlAx6lAOgPaTKWqta3bt3B1vrMGAMQ1gS5v0goQxSC1AYNarY1LuLDhwwdbGaSCE1UAMwXtvWhhD9VgxJgza67KLhkAD80EchMoziK7h9c8DLhLcBAAZwEse2G7ubbt2xi5shUjoCKsgtdy2DABQAdsgtwGsIkomzbu59Bx6y54nGJpgtQEAghAo+RAfTQywP9jPjW6+fO1p+O0ZyuDgL0CDQEQNrC5c/T482NVP/B0RXgUKQMAChOlMwAR5yR4ziMAUHGOf/pFKGFP/AnEm28U6aMSgNTMBMCHIG6nw4QklmiThgQWZItF1lD0DgACOHSOGTTWSAQALLDxiIk89qiRBws4pJMfAgBhUkQE2efjkkwexFgUngSgTEctHPHIXpjoAIAB2QkEE3mzNSmmmOkQoVIAjHFkxZkD0dCll182N+acTOrTFIQbwaPMXraQQ9uX8DxI56CEFmrooYgmquiijDbq6KOQRirppJRWaumlmGaq6aacdurpp6CGKuqopJZq6qmopqrqqqy26uqrsMb/KuustNZq66245qrrrrz26uuvwAYr7LDEFmvsscgmq+yyzDbr7LPQRivttNRWa+212Gar7bbcduvtt+CGK+645JZr7rnopqvuuuy26+678MYr77z01mvvvfjmq+++/Pbr778AByzwwAQXbPDBCCes8MIMN+zwwxBHLPHEFFds8cUYZ6zxxhx37PHHIIcs8sgkl2zyySinrPLKLLfs8sswxyzzzDTXbPPNOOes88489+zzz0AHLfTQRBdt9NFIJ6300kw37fTTUEct9dRUV2311VhnrfXWXHft9ddghy322GSXbfbZaKet9tpst+3223DHLffcdNdt991456333nz3/+3334AHLvjghBdu+OGIJ6744ow37vjjkEcu+eSUV2755ZhnrvnmnHfu+eeghy766KSXbvrpqKeu+uqst+7667DHLvvstNdu++2456777rz37vvvwAcv/PDEF2/88cgnr/zyzDfv/PPQRy/99NRXb/312Gev/fbcd+/99+CHL/745Jdv/vnop6/++uy37/778Mcv//z012///fjnr//+/Pfv//8ADKAAB0jAAhrwgAhMoAIXyMAGOvCBEIygBCdIwQpa8IIYzKAGN8jBDnrwgyAMoQhHSMISmvCEKEyhClfIwha68IUwjCG+7MGOa4hDHhrzhw79YRV7NKMNKAgRAP8gEAVU4MlhO0yiEnOiD1h4QIhQHIAZjpgwJVpxiSG5xgs89CEBEKAABBgAFwGwAEos7IpoxGJHerEAEBHgARgggRzl2IEIICBEXhCSwdLIxx12xDIfGkAERDCCORpSjhgogIeAoMeB9fGRPNRIM6QCAAJ04JCYnOMDQHSFgkESkhlJxwQ+hABCZvKUEQARJgj2SVBexAsfWsAlT0nLBsxkAVTkVytdWRFueCiOtKTlCArwoTYEbJeftIgWPtSAQgaTlhgI5DsAhkxeIsQeEPhQB5xpyBFgIAINAOYp7wiA3/yrmo+siGcAUABuGrIDA0CAIIOZSgBY4ZzoTOdDXAP/gAe4U44jCCgJCBCBYHbgQxXAZz75SBExfMgC/zwkQZ8plRj5a6F9pAgSPoSBiBpyosEkwIea0i+MMvQhQODoM0FKS2IC4Dq6NCkaKWKFh660oMFsIwCmWVKZXpEicvgQTmnJ0kyKYCYGUKhPk0gRUJDypsGMJgBeoNSl6pAi54DRADxKAiE24JQN+JAfqGnVq1ZkiwCAaCY7wFa2mvKQItDpm3paVotI4kMEEMEzablJALQALFX1qUXs8cR+ctWgHuqFwOp6EcE89LBG1emIFmtVjOijpjBS615J0AGXTmAhjlxqRuRBAxA94K3Q1OkApuRJmW4kHaWNZQS4igEEUXhIAfBpLUY7Ig/MCkAA8YyABTBgAXASgIsZaFEV0RkSWoAAijAaY1pyqdtd2sQenKDBGENUATOAFonWxEk6UOEHLxyBCm14BDUAK7GTPiQgAAAh+QQFZAABACxmAQIAFgH8AQAI/wADCBxIsKDBgwH0pbPG7R3ChxAjSpxIsaLFixgzatzIUeM/ZagcbpSHBMJAAC+EFbQCoGXLAABodZxJs6bNmzhzXvwXRQA3ju8E5DATwA+QAAJsEWSpA8kRJFCd6ZxKtarVqzd5+uSoT6TAf48CgFgK4Nq/s2exql3Ltm1VfdeIAFAa4FpNeAIAyBvI0izaf24DCx5M+CE8gwD00WQXYAJZv2gLS55M2ao+ZkAAoBLYTKDXhz8RvmNpiGwUGjSiwLJXubXr1x57hh6YDEDEKAX/IcnxwoAHSisBDMhgwDYNxrCTK1/+VXbBdBJVEvzHIoCBABX8sP5qy5pifclaAP84wry8+claZ8+EawSAlYGRv7JbAED9+fv4raYvuB0icoTweFBWAH8VGIVm+SWoYE77EVTbbRD9c0UAsBBYIFpiBIDJghx2uNE/fRUkjkSbPfSPXEpdiBYNAPTi4YswTiQHANJtpBhB1AwwAHQBwNMfgbAIoMBnMRZppEwohNXKjRYNgoIfqAiDihcDAODHQMJM0AYoUuIGwIZGhmmkPnIoIFBiGKFiEkETgCmQMwq41FIGJYppZ4z/OHSORvpQ4yIs1PwokD3W2IIKoPYAdueijDbq6KOQRirppJRWaumlmGaq6aacdurpp6CGKuqopJZq6qmopqrqqqy26uqrsMb/KuustNZq66245qrrrrz26uuvwAYr7LDEFmvsscgmq+yyzDbr7LPQRivttNRWa+212Gar7bbcduvtt+CGK+645JZr7rnopqvuuuy26+678MYr77z01mvvvfjmq+++/Pbr778AByzwwAQXbPDBCCes8MIMN+zwwxBHLPHEFFds8cUYZ6zxxhx37PHHIIcs8sgkl2zyySinrPLKLLfs8sswxyzzzDTXbPPNOOes88489+zzz0AHLfTQRBdt9NFIJ6300kw37fTTUEct9dRUV2311VhnrfXWXHft9ddghy322GSXbfbZaKet9tpst+3223DHLffcdNdt991456333nz3/+3334AHLvjghBdu+OGIJ6744ow37vjjkEcu+eSUV2755ZhnrvnmnHfu+eeghy766KSXbvrpqKeu+uqst+7667DHLvvstNdu++2456777rz37vvvwAcv/PDEF2/88cgnr/zyzDfv/PPQRy/99NRXb/312Gev/fbcd+/99+CHL/745Jdv/vnop6/++uy37/778Mcv//z012///fjnr//+/Pfv//8ADKAAB0jAAhrwgAhMoAIXyMAGOvCBEIygBCdIwQpa8IIYzKAGN8jBDnrwgyAMoQhHSMISmvCEKEyhClfIwha68IUwjKEMZ0jDGtrwhjjM4b8KJLJ2aEMb7aCKiv8upDFtbAIHAxCAEgFgABwQQhs2GaIULaaNHMjpii7BQTRmIsUuTiweX8DiAgpQAPpc8QtB9EgX1wixcrDAJQJogAVEQII6kkAEFmhAXlpignJkZI2AVBTDygGBPTagAyOwoyLr2IEGuAQCULRIIAHZsHiYoCUDsEAiF8lJEmAgiQDwQBonMslAMkwuwsFAJ1dJgg6AMgf4oEgpTZkwXrREAKpkJScTiYE91oKUs6QkwvCBgpY8YJO67OQD+HgPiQSTlgazpXDomMxVioAALXlFRJ4JzYKFEQAPWGUHItCACLByBBFoiRG2yU02GuweEGhJB1ZJADIiAJmc7EBeGBD/jwi104sG00ZLCHBOEjygAMksQEu2aKJ/ApRgxGgJApL5gHvq0pEA+GVDHTpEg7miJQ2gKELPqUcAbMKfHFWRwTZhTHxysqIuXeQD8kIIlKaUhwWrRV4aEFNFHjSZGHWFTW+aFoNFQ6I9tSNMdYmAvBBjqEQ9WDswSc1V/vScZvTjRolaVIO9oCUWWCUCqtSSBawSA3x0Jle7WjBCSNSaHYhrXFeJ0Tmoda0IK8cec1lNTvYSAAKIJFQ5qrAvVKkAVe1rHUdQgLx8QZZRVVg7DJCXiSrWjhgdgFbvmlKG1QKwcUysLkeAUQC4IpaQJWzD3CrReSazAwhwyRxQWxHVVTYMH3OA4yHFOVOXfKGZGPmnxFyxRyUW4AEWsAAGLHDQPQL2pBx5JsW0gUosYjEH2qDthyaJMWIYgQHWZSIRnoqTh2YsHrwgxBeMQIQvEIIX/YRIQAAAIfkEBWQAAQAsZgECABYB/AEACP8AAwgcSLCgwYMB7J2jJs4ewoHkGDp8SLGixYsYM2rcyLGjx48gL8Ki9Q+kNR0GBgpAIq7gP32gQAxUQCekzZs4c+rcyZMjhAklP/ZScKRNADkoAkAgR1CfGAAQxBiSo+NIz6tYs2rduvNnUI/wJgrUFyWAGIKoAtB4R5At17dw48q9Ci+AAgjXBDK9KSyAjqD2JgzYO7ew4cOILfYtCOQrSFsBrAwUBuCI48SYM2veys7Z3WYC8wYg/DDdQ3EsBDgbOAiAH25nc7Bpubm27dsevRb0Y5FTwXM5AoAQQGOxQC8ArBgwIGNCAAO9cEufTp2gboLULHIrKG4ChAEBXsD/+hoFAAAk7/79o2SXXfX38DNfv2lPmExQA60AUGBa4D8kAUgS34AExjWfQG5RVNdD10Clj0BmABAcQb5pUeCFGPZ0YAC8VeQbRc71h8l5BcEiQFkZpqjiR95dZtxDqz1kD3juBdBgUgQNIgAbK/bo40UyCLDgR5dJAsALQf0jAwDGyeMBkz9GKSVBZx2BSQDCXHaRDkAYQksvnhABwADJDPSPMwMsIAk1ttAQgFVTxvkjO0ikFEBjHIkBHkEvKEOQer04J5AAVwwp56Eq6uNejRzB4wwtAdjCjZbq2ZMMKrScg+imnHbq6aeghirqqKSWauqpqKaq6qqsturqq7DG/yrrrLTWauutuOaq66689urrr8AGK+ywxBZr7LHIJqvsssw26+yz0EYr7bTUVmvttdhmq+223Hbr7bfghivuuOSWa+656Kar7rrstuvuu/DGK++89NZr77345qvvvvz26++/AAcs8MAEF2zwwQgnrPDCDDfs8MMQRyzxxBRXbPHFGGes8cYcd+zxxyCHLPLIJJds8skop6zyyiy37PLLMMcs88w012zzzTjnrPPOPPfs889ABy300EQXbfTRSCet9NJMN+3001BHLfXUVFdt9dVYZ6311lx37fXXYIct9thkl2322WinrfbabLft9ttwxy333HTXbffdeOet99589//t99+ABy744IQXbvjhiCeu+OKMN+7445BHLvnklFdu+eWYZ6755px37vnnoIcu+uikl2766ainrvrqrLfu+uuwxy777LTXbvvtuOeu++689+7778AHL/zwxBdv/PHIJ6/88sw37/zz0Ecv/fTUV2/99dhnr/323Hfv/ffghy/++OSXb/756Kev/vrst+/++/DHL//89Ndv//3456///vz37///AAygAAdIwAIa8IAITKACF8jABjrwgRCMoAQnSMEKWvCCGMygBjfIwQ568IMgDKEIR0jCEprwhChMoQpXyMIWuvCFMIyhDGdIwxra8IY4zKEOd8jDHvrwh0AMohD/h0jEIhrxiEgEmz3YcQ1xyCNm/oiiP7Bij2a0AQXmySIEooAKRplMimAMY070AYsnZfGMWRyAGbwYsjC6UYwhucYLBHBGARCgAAQYAB2zuAD2tPGNgASjUBaQRQI8AAMkSGQiOxABBJzRC2LhWCAnKcWOoCKNERDBCBTJyURioAB7BEIkM0bJUk5RI80YgHkI0IFOulKRD8jiFSRpylJmJB0TMA8CNPnKXkYgi1fSWC1NiRHkAGABreylMhtAxwWwkWLDJKZ29ohIZSpzBAUwj1EuFs1aWkQL5mnAJq2pTAyYZwAJgmY3bUkRe0DAPB0YJydHgIEINKCavXQkAGDB/811UrIiyTBPAeTJyQ4MAAEDiIA1f5kci/lTmghpDQAeQNBEjuCiJCCAQpXZAfNUwKEP/edDngIAC1S0kxolpyoFMEqIhVSkCEGCeTBwUk6m1JoEME9/JvbSSVIECDMl502VmU0A0IanPQUkRfRTUqFuVJmEBEA6I5ZUpT5EDuZ5ai+H+koR0NFO6qwqHBECCl061ZrmPBJIxSrIh5wDAAIYQE1JgMYG9LIB5ulQxdhayYrMsaQ17YBgBcvLToogqtlZK1stYiQAEEAE5FRmLAHQggcpVqwWsYcZKRpZV3Zgj9HBGF8x0oosmrSzijyseXQgzMVeRB9MFcBpO9uBonZOgDT9rGpG5EGDLD6gsOWM6gD8RMuebiQdvTXPAiIwVwwgYI8KgFTHktoRecQ2rgiIgAUwYAF7EmCPAMiANf64zpDQAgRoNI8AwDumNjxzuuUNiT04QQP2nrECZsCtyLy5k3Sgwg9eOAIV2vAIalg2ZT6lSEAAADs=\" />"
      ],
      "text/plain": [
       "Plots.AnimatedGif(\"C:\\\\Users\\\\dario\\\\Singapore University of Technology and Design\\\\Chua Xue Li - SHARP\\\\SHARP_Presentation_Activity\\\\Delivery\\\\simulation.gif\")"
      ]
     },
     "execution_count": 27,
     "metadata": {},
     "output_type": "execute_result"
    }
   ],
   "source": [
    "gif(anim,\"simulation.gif\",fps=1)"
   ]
  },
  {
   "cell_type": "markdown",
   "metadata": {},
   "source": [
    "# shows smooth traffic\n",
    "<img src=\"smoothtraffic.gif\" width=\"750\" align=\"center\">"
   ]
  },
  {
   "cell_type": "code",
   "execution_count": 28,
   "metadata": {},
   "outputs": [
    {
     "name": "stdout",
     "output_type": "stream",
     "text": [
      "10×37 Matrix{Int16}:\n",
      " 0  0  0  0  0  0  0  0  0  0  0  0  0  0  1  2  2  5  2  2  3  2  3  3  3  3  2  3  3  3  3  3  3  3  2  3  2\n",
      " 0  0  0  0  0  0  0  0  0  0  0  0  0  0  0  0  0  0  0  0  0  1  1  2  2  5  5  5  5  5  4  5  4  4  4  4  4\n",
      " 0  1  2  5  5  6  7  7  7  7  7  7  7  7  7  7  7  7  7  7  7  7  7  7  7  7  7  7  7  7  7  7  7  7  7  7  7\n",
      " 0  0  0  0  0  1  4  5  2  3  7  7  7  7  7  7  7  7  7  7  7  7  7  7  7  7  7  7  7  7  7  7  7  7  7  7  7\n",
      " 0  0  0  0  0  0  0  0  0  0  0  0  0  0  0  0  0  0  0  0  0  0  0  0  1  1  1  1  2  2  2  2  2  5  5  5  5\n",
      " 0  0  0  0  0  0  0  0  0  0  0  0  1  2  3  7  7  7  7  7  7  7  7  7  7  7  7  7  7  7  7  7  7  7  7  7  7\n",
      " 0  0  0  0  0  0  0  0  0  0  0  0  0  0  0  0  1  1  1  1  4  4  4  4  4  4  4  4  4  1  1  1  1  1  1  1  1\n",
      " 0  0  0  0  0  0  0  1  1  4  4  5  4  5  4  5  4  4  4  5  5  5  6  5  6  6  6  6  6  6  6  6  6  6  6  6  6\n",
      " 0  0  0  0  0  0  0  0  0  0  1  2  3  7  7  7  7  7  7  7  7  7  7  7  7  7  7  7  7  7  7  7  7  7  7  7  7\n",
      " 0  0  0  1  2  3  7  7  7  7  7  7  7  7  7  7  7  7  7  7  7  7  7  7  7  7  7  7  7  7  7  7  7  7  7  7  7"
     ]
    }
   ],
   "source": [
    "show(stdout, \"text/plain\", H)"
   ]
  },
  {
   "cell_type": "markdown",
   "metadata": {},
   "source": [
    "# shows blockade\n",
    "<img src=\"blockade.gif\" width=\"750\" align=\"center\">"
   ]
  }
 ],
 "metadata": {
  "kernelspec": {
   "display_name": "Julia 1.7.0",
   "language": "julia",
   "name": "julia-1.7"
  },
  "language_info": {
   "file_extension": ".jl",
   "mimetype": "application/julia",
   "name": "julia",
   "version": "1.7.0"
  },
  "toc": {
   "base_numbering": 1,
   "nav_menu": {},
   "number_sections": true,
   "sideBar": true,
   "skip_h1_title": false,
   "title_cell": "Table of Contents",
   "title_sidebar": "Contents",
   "toc_cell": false,
   "toc_position": {},
   "toc_section_display": true,
   "toc_window_display": false
  },
  "varInspector": {
   "cols": {
    "lenName": 16,
    "lenType": 16,
    "lenVar": 40
   },
   "kernels_config": {
    "python": {
     "delete_cmd_postfix": "",
     "delete_cmd_prefix": "del ",
     "library": "var_list.py",
     "varRefreshCmd": "print(var_dic_list())"
    },
    "r": {
     "delete_cmd_postfix": ") ",
     "delete_cmd_prefix": "rm(",
     "library": "var_list.r",
     "varRefreshCmd": "cat(var_dic_list()) "
    }
   },
   "types_to_exclude": [
    "module",
    "function",
    "builtin_function_or_method",
    "instance",
    "_Feature"
   ],
   "window_display": false
  }
 },
 "nbformat": 4,
 "nbformat_minor": 5
}
