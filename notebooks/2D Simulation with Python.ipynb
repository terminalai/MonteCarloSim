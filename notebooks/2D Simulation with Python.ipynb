{
 "cells": [
  {
   "cell_type": "markdown",
   "metadata": {},
   "source": [
    "# Simulation of 2D mail delivery system with Monte Carlo\n",
    "> By **Team EpicCool** (Zayan, Kabir and Prannaya)<br>\n",
    "> _8 December 2021_\n",
    "\n",
    "IN PYTHON"
   ]
  },
  {
   "cell_type": "code",
   "execution_count": 35,
   "metadata": {
    "ExecuteTime": {
     "end_time": "2021-12-08T08:21:25.389143Z",
     "start_time": "2021-12-08T08:21:25.374128Z"
    }
   },
   "outputs": [],
   "source": [
    "import np\n",
    "import pandas as pd\n",
    "import matplotlib.pyplot as plt\n",
    "from random import shuffle"
   ]
  },
  {
   "cell_type": "code",
   "execution_count": 2,
   "metadata": {
    "ExecuteTime": {
     "end_time": "2021-12-08T08:05:42.903640Z",
     "start_time": "2021-12-08T08:05:42.853357Z"
    }
   },
   "outputs": [],
   "source": [
    "def connect_matrix_2D():\n",
    "    #1st row is source, last row is drain. all entries are connected to source, all exits are connected to drain!\n",
    "    C = np.zeros((8,8));\n",
    "    C[0,1] = 1;\n",
    "    C[1,4] = 1;\n",
    "    C[1,2] = 1;\n",
    "    C[4,5] = 1;\n",
    "    C[2,5] = 1;\n",
    "    C[2,3] = 1;\n",
    "    C[5,6] = 1;\n",
    "    C[6,7] = 1;\n",
    "    C[3,7] = 1;\n",
    "    C[4,1] = 1;\n",
    "    C[2,1] = 1;\n",
    "    C[5,4] = 1;\n",
    "    C[5,2] = 1;\n",
    "    C[3,2] = 1;\n",
    "    C[6,5] = 1;\n",
    "\n",
    "    return C"
   ]
  },
  {
   "cell_type": "code",
   "execution_count": 3,
   "metadata": {
    "ExecuteTime": {
     "end_time": "2021-12-08T08:05:44.757115Z",
     "start_time": "2021-12-08T08:05:44.735732Z"
    }
   },
   "outputs": [],
   "source": [
    "def connect_matrix_A():\n",
    "    A = np.zeros((8,8));\n",
    "    A[0,1] = 1;\n",
    "    \n",
    "    A[1,4] = 0.9;\n",
    "    A[1,2] = 0.1;\n",
    "    \n",
    "    A[4,5] = 0.9;\n",
    "    A[2,5] = 0.1;\n",
    "    \n",
    "    A[5,6] = 0.7;\n",
    "    A[5,4] = 0.2;\n",
    "    A[5,2] = 0.1;\n",
    "    \n",
    "    A[2,5] = 0.9;\n",
    "    A[2,3] = 0;\n",
    "    A[2,1] = 0.1;\n",
    "    \n",
    "    A[3,7] = 0;\n",
    "    A[3,2] = 1;\n",
    "    \n",
    "    A[6,7] = 1;\n",
    "    A[6,5] = 0;\n",
    "    return A\n"
   ]
  },
  {
   "cell_type": "code",
   "execution_count": 4,
   "metadata": {
    "ExecuteTime": {
     "end_time": "2021-12-08T08:05:46.696480Z",
     "start_time": "2021-12-08T08:05:46.674286Z"
    }
   },
   "outputs": [],
   "source": [
    "def connect_matrix_B():\n",
    "    B = np.zeros((8,8));\n",
    "    B[0,1] = 1;\n",
    "    \n",
    "    B[1,4] = 0.1;\n",
    "    B[1,2] = 0.9;\n",
    "    \n",
    "    B[4,5] = 0.1;\n",
    "    B[4,1] = 0.9;\n",
    "    \n",
    "    B[5,6] = 0;\n",
    "    B[5,4] = 0.1;\n",
    "    B[5,2] = 0.9;\n",
    "    \n",
    "    B[2,5] = 0.1;\n",
    "    B[2,3] = 0.7;\n",
    "    B[2,1] = 0.2;\n",
    "    \n",
    "    B[3,7] = 1;\n",
    "    B[3,2] = 0;\n",
    "    \n",
    "    B[6,7] = 0;\n",
    "    B[6,5] = 1;\n",
    "    return B\n"
   ]
  },
  {
   "cell_type": "code",
   "execution_count": 11,
   "metadata": {
    "ExecuteTime": {
     "end_time": "2021-12-08T08:06:54.528110Z",
     "start_time": "2021-12-08T08:06:54.519101Z"
    }
   },
   "outputs": [],
   "source": [
    "def initialize_H(NC,tM):\n",
    "    # tM maximum number of time steps\n",
    "    # NC is the number of mails\n",
    "    return np.zeros((NC, tM+2), dtype=np.uint8); #this tM+2 can be alterd to taste    "
   ]
  },
  {
   "cell_type": "code",
   "execution_count": 97,
   "metadata": {
    "ExecuteTime": {
     "end_time": "2021-12-08T09:03:11.038952Z",
     "start_time": "2021-12-08T09:03:11.028952Z"
    }
   },
   "outputs": [],
   "source": [
    "def find_pos_available_k(ic,it,H,C,L,conn_mat):\n",
    "    ip = H[ic,it]\n",
    "    reachable_positions = C[ip,:]\n",
    "    vector_probabilities = conn_mat[ip,:]\n",
    "    print(reachable_positions, vector_probabilities)\n",
    "    occupied_positions = H[:,it]\n",
    "    print(occupied_positions)\n",
    "    reachable_positions[occupied_positions] = 0\n",
    "    vector_positions = np.argwhere(reachable_positions==1).T[0]\n",
    "    vector_probabilities = vector_probabilities * reachable_positions\n",
    "    print(reachable_positions, vector_probabilities)\n",
    "    if vector_probabilities.sum():\n",
    "        vector_probabilities = (vector_probabilities / vector_probabilities.sum())[vector_positions]\n",
    "    else: vector_probabilities, vector_positions = np.array([]), np.array([])\n",
    "    print(vector_positions, vector_probabilities)\n",
    "    return vector_positions, vector_probabilities\n"
   ]
  },
  {
   "cell_type": "code",
   "execution_count": 84,
   "metadata": {
    "ExecuteTime": {
     "end_time": "2021-12-08T08:54:45.758135Z",
     "start_time": "2021-12-08T08:54:45.743134Z"
    }
   },
   "outputs": [
    {
     "data": {
      "text/plain": [
       "(array([2, 4, 6], dtype=int64), array([0.1, 0.2, 0.7]))"
      ]
     },
     "execution_count": 84,
     "metadata": {},
     "output_type": "execute_result"
    }
   ],
   "source": [
    "H = initialize_H(4, 10)\n",
    "H[0,0] = 7;\n",
    "H[1,0] = 5;\n",
    "H[2,0] = 3;\n",
    "C = connect_matrix_2D()\n",
    "conn_matA = connect_matrix_A()\n",
    "vec_pos, Avec_prob = find_pos_available_k(1,0,H,C,6,conn_matA)\n",
    "vec_pos, Avec_prob"
   ]
  },
  {
   "cell_type": "code",
   "execution_count": 53,
   "metadata": {
    "ExecuteTime": {
     "end_time": "2021-12-08T08:30:59.455348Z",
     "start_time": "2021-12-08T08:30:59.436339Z"
    }
   },
   "outputs": [
    {
     "data": {
      "text/plain": [
       "(array([2, 4, 6], dtype=int64), array([0.1, 0.2, 0.7]))"
      ]
     },
     "execution_count": 53,
     "metadata": {},
     "output_type": "execute_result"
    }
   ],
   "source": [
    "H = initialize_H(4, 10)\n",
    "H[0,0] = 7;\n",
    "H[1,0] = 5;\n",
    "H[2,0] = 3;\n",
    "C = connect_matrix_2D()\n",
    "conn_matA = connect_matrix_A()\n",
    "vec_pos, Avec_prob = find_pos_available_k(1,0,H,C,6,conn_matA)\n",
    "vec_pos, Avec_prob"
   ]
  },
  {
   "cell_type": "code",
   "execution_count": 76,
   "metadata": {
    "ExecuteTime": {
     "end_time": "2021-12-08T08:51:15.134182Z",
     "start_time": "2021-12-08T08:51:15.118189Z"
    }
   },
   "outputs": [],
   "source": [
    "def move_position_k(ic,it,H,vec_pos, Avec_prob):\n",
    "    result = np.random.choice(vec_pos, 1, p=Avec_prob)[0] if len(vec_pos) else H[ic,it]\n",
    "    H[ic,it+1]=result\n",
    "    return H"
   ]
  },
  {
   "cell_type": "code",
   "execution_count": 63,
   "metadata": {
    "ExecuteTime": {
     "end_time": "2021-12-08T08:34:38.418645Z",
     "start_time": "2021-12-08T08:34:38.411646Z"
    }
   },
   "outputs": [],
   "source": [
    "def deliver_mail_k(ic,numA,it,H,C,L,conn_matA,conn_matB):\n",
    "    H = move_position_k(ic,it,H,*find_pos_available_k(ic,it,H,C,L,conn_matA if ic < numA else conn_matB))"
   ]
  },
  {
   "cell_type": "code",
   "execution_count": 73,
   "metadata": {
    "ExecuteTime": {
     "end_time": "2021-12-08T08:48:59.700496Z",
     "start_time": "2021-12-08T08:48:59.690471Z"
    }
   },
   "outputs": [],
   "source": [
    "def find_resolve_conflicts(H,L,it):\n",
    "    for iL in range(1,L+1):\n",
    "        conflicts = np.argwhere(H[:,it]==iL).T[0]\n",
    "        if len(conflicts) > 1:\n",
    "            np.random.shuffle(conflicts)\n",
    "            choices_go_back = conflicts[:-1]\n",
    "            H[choices_go_back, it] = H[choices_go_back, it-1]\n",
    "\n",
    "    return H"
   ]
  },
  {
   "cell_type": "code",
   "execution_count": 88,
   "metadata": {
    "ExecuteTime": {
     "end_time": "2021-12-08T08:56:27.565662Z",
     "start_time": "2021-12-08T08:56:27.549656Z"
    }
   },
   "outputs": [],
   "source": [
    "def next_step_k(H,it,C,L,numA,conn_matA,conn_matB):\n",
    "    print(H)\n",
    "    for ic in range(len(H)):\n",
    "        H = deliver_mail_k(ic,numA,it,H,C,L,conn_matA,conn_matB)\n",
    "        print(H)\n",
    "    H = find_resolve_conflicts(H, L, it+1)\n",
    "    print(H)\n",
    "    return H\n"
   ]
  },
  {
   "cell_type": "code",
   "execution_count": 98,
   "metadata": {
    "ExecuteTime": {
     "end_time": "2021-12-08T09:03:13.618011Z",
     "start_time": "2021-12-08T09:03:13.572003Z"
    }
   },
   "outputs": [
    {
     "name": "stdout",
     "output_type": "stream",
     "text": [
      "[[0 0 0 0 0]\n",
      " [0 0 0 0 0]\n",
      " [0 0 0 0 0]\n",
      " [0 0 0 0 0]]\n",
      "[0. 1. 0. 0. 0. 0. 0. 0.] [0. 1. 0. 0. 0. 0. 0. 0.]\n",
      "[0 0 0 0]\n",
      "[0. 1. 0. 0. 0. 0. 0. 0.] [0. 1. 0. 0. 0. 0. 0. 0.]\n",
      "[1] [1.]\n",
      "[[0 0 1 0 0]\n",
      " [0 0 0 0 0]\n",
      " [0 0 0 0 0]\n",
      " [0 0 0 0 0]]\n",
      "[0. 1. 0. 0. 0. 0. 0. 0.] [0. 1. 0. 0. 0. 0. 0. 0.]\n",
      "[0 0 0 0]\n",
      "[0. 1. 0. 0. 0. 0. 0. 0.] [0. 1. 0. 0. 0. 0. 0. 0.]\n",
      "[1] [1.]\n",
      "[[0 0 1 0 0]\n",
      " [0 0 1 0 0]\n",
      " [0 0 0 0 0]\n",
      " [0 0 0 0 0]]\n",
      "[0. 1. 0. 0. 0. 0. 0. 0.] [0. 1. 0. 0. 0. 0. 0. 0.]\n",
      "[0 0 0 0]\n",
      "[0. 1. 0. 0. 0. 0. 0. 0.] [0. 1. 0. 0. 0. 0. 0. 0.]\n",
      "[1] [1.]\n",
      "[[0 0 1 0 0]\n",
      " [0 0 1 0 0]\n",
      " [0 0 1 0 0]\n",
      " [0 0 0 0 0]]\n",
      "[0. 1. 0. 0. 0. 0. 0. 0.] [0. 1. 0. 0. 0. 0. 0. 0.]\n",
      "[0 0 0 0]\n",
      "[0. 1. 0. 0. 0. 0. 0. 0.] [0. 1. 0. 0. 0. 0. 0. 0.]\n",
      "[1] [1.]\n",
      "[[0 0 1 0 0]\n",
      " [0 0 1 0 0]\n",
      " [0 0 1 0 0]\n",
      " [0 0 1 0 0]]\n",
      "[[0 0 0 0 0]\n",
      " [0 0 1 0 0]\n",
      " [0 0 0 0 0]\n",
      " [0 0 0 0 0]]\n",
      "[[0 0 0 0 0]\n",
      " [0 0 1 0 0]\n",
      " [0 0 0 0 0]\n",
      " [0 0 0 0 0]]\n",
      "[0. 1. 0. 0. 0. 0. 0. 0.] [0. 1. 0. 0. 0. 0. 0. 0.]\n",
      "[0 1 0 0]\n",
      "[0. 0. 0. 0. 0. 0. 0. 0.] [0. 0. 0. 0. 0. 0. 0. 0.]\n",
      "[] []\n",
      "[[0 0 0 0 0]\n",
      " [0 0 1 0 0]\n",
      " [0 0 0 0 0]\n",
      " [0 0 0 0 0]]\n",
      "[0. 0. 1. 0. 1. 0. 0. 0.] [0.  0.  0.1 0.  0.9 0.  0.  0. ]\n",
      "[0 1 0 0]\n",
      "[0. 0. 1. 0. 1. 0. 0. 0.] [0.  0.  0.1 0.  0.9 0.  0.  0. ]\n",
      "[2 4] [0.1 0.9]\n",
      "[[0 0 0 0 0]\n",
      " [0 0 1 4 0]\n",
      " [0 0 0 0 0]\n",
      " [0 0 0 0 0]]\n",
      "[0. 0. 0. 0. 0. 0. 0. 0.] [0. 1. 0. 0. 0. 0. 0. 0.]\n",
      "[0 1 0 0]\n",
      "[0. 0. 0. 0. 0. 0. 0. 0.] [0. 0. 0. 0. 0. 0. 0. 0.]\n",
      "[] []\n",
      "[[0 0 0 0 0]\n",
      " [0 0 1 4 0]\n",
      " [0 0 0 0 0]\n",
      " [0 0 0 0 0]]\n",
      "[0. 0. 0. 0. 0. 0. 0. 0.] [0. 1. 0. 0. 0. 0. 0. 0.]\n",
      "[0 1 0 0]\n",
      "[0. 0. 0. 0. 0. 0. 0. 0.] [0. 0. 0. 0. 0. 0. 0. 0.]\n",
      "[] []\n",
      "[[0 0 0 0 0]\n",
      " [0 0 1 4 0]\n",
      " [0 0 0 0 0]\n",
      " [0 0 0 0 0]]\n",
      "[[0 0 0 0 0]\n",
      " [0 0 1 4 0]\n",
      " [0 0 0 0 0]\n",
      " [0 0 0 0 0]]\n",
      "[[0 0 0 0 0]\n",
      " [0 0 1 4 0]\n",
      " [0 0 0 0 0]\n",
      " [0 0 0 0 0]]\n",
      "[0. 0. 0. 0. 0. 0. 0. 0.] [0. 1. 0. 0. 0. 0. 0. 0.]\n",
      "[0 4 0 0]\n",
      "[0. 0. 0. 0. 0. 0. 0. 0.] [0. 0. 0. 0. 0. 0. 0. 0.]\n",
      "[] []\n",
      "[[0 0 0 0 0]\n",
      " [0 0 1 4 0]\n",
      " [0 0 0 0 0]\n",
      " [0 0 0 0 0]]\n",
      "[0. 1. 0. 0. 0. 1. 0. 0.] [0.  0.  0.  0.  0.  0.9 0.  0. ]\n",
      "[0 4 0 0]\n",
      "[0. 1. 0. 0. 0. 1. 0. 0.] [0.  0.  0.  0.  0.  0.9 0.  0. ]\n",
      "[1 5] [0. 1.]\n",
      "[[0 0 0 0 0]\n",
      " [0 0 1 4 5]\n",
      " [0 0 0 0 0]\n",
      " [0 0 0 0 0]]\n",
      "[0. 0. 0. 0. 0. 0. 0. 0.] [0. 1. 0. 0. 0. 0. 0. 0.]\n",
      "[0 4 0 0]\n",
      "[0. 0. 0. 0. 0. 0. 0. 0.] [0. 0. 0. 0. 0. 0. 0. 0.]\n",
      "[] []\n",
      "[[0 0 0 0 0]\n",
      " [0 0 1 4 5]\n",
      " [0 0 0 0 0]\n",
      " [0 0 0 0 0]]\n",
      "[0. 0. 0. 0. 0. 0. 0. 0.] [0. 1. 0. 0. 0. 0. 0. 0.]\n",
      "[0 4 0 0]\n",
      "[0. 0. 0. 0. 0. 0. 0. 0.] [0. 0. 0. 0. 0. 0. 0. 0.]\n",
      "[] []\n",
      "[[0 0 0 0 0]\n",
      " [0 0 1 4 5]\n",
      " [0 0 0 0 0]\n",
      " [0 0 0 0 0]]\n",
      "[[0 0 0 0 0]\n",
      " [0 0 1 4 5]\n",
      " [0 0 0 0 0]\n",
      " [0 0 0 0 0]]\n"
     ]
    },
    {
     "data": {
      "text/plain": [
       "array([0, 0, 0, 0, 0], dtype=uint8)"
      ]
     },
     "execution_count": 98,
     "metadata": {},
     "output_type": "execute_result"
    }
   ],
   "source": [
    "NMail = 4; # number of mails\n",
    "tM = 3; # total time steps\n",
    "L = 6; # number of sites\n",
    "numA = 2 # mail A number\n",
    "numB = NMail - numA # mail B number\n",
    "\n",
    "C = connect_matrix_2D();\n",
    "conn_matA = connect_matrix_A()\n",
    "conn_matB = connect_matrix_B()\n",
    "H = initialize_H(NMail,tM);\n",
    "\n",
    "for it in range(1,tM+1):\n",
    "    H = next_step_k(H,it,C,L,numA,conn_matA,conn_matB);\n",
    "\n",
    "H[0]"
   ]
  },
  {
   "cell_type": "code",
   "execution_count": null,
   "metadata": {},
   "outputs": [],
   "source": []
  }
 ],
 "metadata": {
  "kernelspec": {
   "display_name": "Python 3",
   "language": "python",
   "name": "python3"
  },
  "language_info": {
   "codemirror_mode": {
    "name": "ipython",
    "version": 3
   },
   "file_extension": ".py",
   "mimetype": "text/x-python",
   "name": "python",
   "nbconvert_exporter": "python",
   "pygments_lexer": "ipython3",
   "version": "3.7.2"
  },
  "toc": {
   "base_numbering": 1,
   "nav_menu": {},
   "number_sections": true,
   "sideBar": true,
   "skip_h1_title": false,
   "title_cell": "Table of Contents",
   "title_sidebar": "Contents",
   "toc_cell": false,
   "toc_position": {},
   "toc_section_display": true,
   "toc_window_display": false
  },
  "varInspector": {
   "cols": {
    "lenName": 16,
    "lenType": 16,
    "lenVar": 40
   },
   "kernels_config": {
    "python": {
     "delete_cmd_postfix": "",
     "delete_cmd_prefix": "del ",
     "library": "var_list.py",
     "varRefreshCmd": "print(var_dic_list())"
    },
    "r": {
     "delete_cmd_postfix": ") ",
     "delete_cmd_prefix": "rm(",
     "library": "var_list.r",
     "varRefreshCmd": "cat(var_dic_list()) "
    }
   },
   "types_to_exclude": [
    "module",
    "function",
    "builtin_function_or_method",
    "instance",
    "_Feature"
   ],
   "window_display": false
  }
 },
 "nbformat": 4,
 "nbformat_minor": 4
}
